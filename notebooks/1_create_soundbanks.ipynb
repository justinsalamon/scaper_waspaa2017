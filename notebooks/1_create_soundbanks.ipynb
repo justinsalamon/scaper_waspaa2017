{
 "cells": [
  {
   "cell_type": "code",
   "execution_count": 2,
   "metadata": {
    "collapsed": false
   },
   "outputs": [],
   "source": [
    "import pandas as pd\n",
    "import numpy as np\n",
    "import shutil\n",
    "import os\n",
    "from tqdm import tqdm\n",
    "import glob"
   ]
  },
  {
   "cell_type": "markdown",
   "metadata": {},
   "source": [
    "## Load metadata and get label list"
   ]
  },
  {
   "cell_type": "code",
   "execution_count": 3,
   "metadata": {
    "collapsed": true
   },
   "outputs": [],
   "source": [
    "metadatafile = '/scratch/js7561/datasets/UrbanSound8K_official/UrbanSound8K/metadata/UrbanSound8K.csv'\n",
    "metadata = pd.read_csv(metadatafile)"
   ]
  },
  {
   "cell_type": "code",
   "execution_count": 4,
   "metadata": {
    "collapsed": false
   },
   "outputs": [
    {
     "name": "stdout",
     "output_type": "stream",
     "text": [
      "['air_conditioner', 'car_horn', 'children_playing', 'dog_bark', 'drilling', 'engine_idling', 'gun_shot', 'jackhammer', 'siren', 'street_music']\n"
     ]
    }
   ],
   "source": [
    "label_list = sorted(metadata['class'].unique())\n",
    "print(label_list)"
   ]
  },
  {
   "cell_type": "markdown",
   "metadata": {},
   "source": [
    "## Create soundbank for TRAIN (folds 1-6)"
   ]
  },
  {
   "cell_type": "code",
   "execution_count": 5,
   "metadata": {
    "collapsed": false
   },
   "outputs": [
    {
     "name": "stderr",
     "output_type": "stream",
     "text": [
      "  1%|▏         | 13/873 [00:00<00:07, 121.82it/s]"
     ]
    },
    {
     "name": "stdout",
     "output_type": "stream",
     "text": [
      "FOLD 1\n"
     ]
    },
    {
     "name": "stderr",
     "output_type": "stream",
     "text": [
      "100%|██████████| 873/873 [00:31<00:00, 27.78it/s] \n",
      "  0%|          | 4/888 [00:00<00:30, 28.81it/s]"
     ]
    },
    {
     "name": "stdout",
     "output_type": "stream",
     "text": [
      "   Fold 1 labels:\n",
      "   air_conditioner:\t100\n",
      "   car_horn:\t36\n",
      "   children_playing:\t100\n",
      "   dog_bark:\t100\n",
      "   drilling:\t100\n",
      "   engine_idling:\t96\n",
      "   gun_shot:\t35\n",
      "   jackhammer:\t120\n",
      "   siren:\t86\n",
      "   street_music:\t100\n",
      "FOLD 2\n"
     ]
    },
    {
     "name": "stderr",
     "output_type": "stream",
     "text": [
      "100%|██████████| 888/888 [00:34<00:00, 25.54it/s]\n",
      "  0%|          | 1/925 [00:00<02:49,  5.46it/s]"
     ]
    },
    {
     "name": "stdout",
     "output_type": "stream",
     "text": [
      "   Fold 2 labels:\n",
      "   air_conditioner:\t100\n",
      "   car_horn:\t42\n",
      "   children_playing:\t100\n",
      "   dog_bark:\t100\n",
      "   drilling:\t100\n",
      "   engine_idling:\t100\n",
      "   gun_shot:\t35\n",
      "   jackhammer:\t120\n",
      "   siren:\t91\n",
      "   street_music:\t100\n",
      "FOLD 3\n"
     ]
    },
    {
     "name": "stderr",
     "output_type": "stream",
     "text": [
      "100%|██████████| 925/925 [00:31<00:00, 29.59it/s]\n",
      "  0%|          | 4/990 [00:00<00:24, 39.66it/s]"
     ]
    },
    {
     "name": "stdout",
     "output_type": "stream",
     "text": [
      "   Fold 3 labels:\n",
      "   air_conditioner:\t100\n",
      "   car_horn:\t43\n",
      "   children_playing:\t100\n",
      "   dog_bark:\t100\n",
      "   drilling:\t100\n",
      "   engine_idling:\t107\n",
      "   gun_shot:\t36\n",
      "   jackhammer:\t120\n",
      "   siren:\t119\n",
      "   street_music:\t100\n",
      "FOLD 4\n"
     ]
    },
    {
     "name": "stderr",
     "output_type": "stream",
     "text": [
      "100%|██████████| 990/990 [00:38<00:00, 25.13it/s]\n",
      "  0%|          | 3/936 [00:00<00:33, 28.13it/s]"
     ]
    },
    {
     "name": "stdout",
     "output_type": "stream",
     "text": [
      "   Fold 4 labels:\n",
      "   air_conditioner:\t100\n",
      "   car_horn:\t59\n",
      "   children_playing:\t100\n",
      "   dog_bark:\t100\n",
      "   drilling:\t100\n",
      "   engine_idling:\t107\n",
      "   gun_shot:\t38\n",
      "   jackhammer:\t120\n",
      "   siren:\t166\n",
      "   street_music:\t100\n",
      "FOLD 5\n"
     ]
    },
    {
     "name": "stderr",
     "output_type": "stream",
     "text": [
      "100%|██████████| 936/936 [00:33<00:00, 28.35it/s]\n",
      "  0%|          | 4/823 [00:00<00:31, 25.69it/s]"
     ]
    },
    {
     "name": "stdout",
     "output_type": "stream",
     "text": [
      "   Fold 5 labels:\n",
      "   air_conditioner:\t100\n",
      "   car_horn:\t98\n",
      "   children_playing:\t100\n",
      "   dog_bark:\t100\n",
      "   drilling:\t100\n",
      "   engine_idling:\t107\n",
      "   gun_shot:\t40\n",
      "   jackhammer:\t120\n",
      "   siren:\t71\n",
      "   street_music:\t100\n",
      "FOLD 6\n"
     ]
    },
    {
     "name": "stderr",
     "output_type": "stream",
     "text": [
      "100%|██████████| 823/823 [00:27<00:00, 29.72it/s]"
     ]
    },
    {
     "name": "stdout",
     "output_type": "stream",
     "text": [
      "   Fold 6 labels:\n",
      "   air_conditioner:\t100\n",
      "   car_horn:\t28\n",
      "   children_playing:\t100\n",
      "   dog_bark:\t100\n",
      "   drilling:\t100\n",
      "   engine_idling:\t107\n",
      "   gun_shot:\t46\n",
      "   jackhammer:\t68\n",
      "   siren:\t74\n",
      "   street_music:\t100\n",
      "\n",
      "\n",
      "OVERALL labels:\n",
      "air_conditioner:\t600\n",
      "car_horn:\t306\n",
      "children_playing:\t600\n",
      "dog_bark:\t600\n",
      "drilling:\t600\n",
      "engine_idling:\t624\n",
      "gun_shot:\t230\n",
      "jackhammer:\t668\n",
      "siren:\t607\n",
      "street_music:\t600\n"
     ]
    },
    {
     "name": "stderr",
     "output_type": "stream",
     "text": [
      "\n"
     ]
    }
   ],
   "source": [
    "folds = [1, 2, 3, 4, 5, 6]\n",
    "splitname = 'train'\n",
    "\n",
    "soundbankfolder = '/scratch/js7561/datasets/scaper_waspaa2017/audio/soundbanks/'\n",
    "soundbankfolder = os.path.join(soundbankfolder, splitname)\n",
    "\n",
    "label_count = {}\n",
    "for label in label_list:\n",
    "    label_count[label] = 0\n",
    "\n",
    "for fold in folds:\n",
    "    \n",
    "    print('FOLD {:d}'.format(fold))\n",
    "    audiofolder = '/scratch/js7561/datasets/UrbanSound8K_official/UrbanSound8K/audio/fold{:d}/'.format(fold)\n",
    "    audiofiles = glob.glob(os.path.join(audiofolder, '*.wav'))\n",
    "    \n",
    "    fold_label_count = {}\n",
    "    for label in label_list:\n",
    "        fold_label_count[label] = 0\n",
    "    \n",
    "    for af in tqdm(audiofiles):\n",
    "        # print(os.path.basename(af))\n",
    "        label = metadata.loc[metadata.slice_file_name == os.path.basename(af), 'class'].values[0]\n",
    "        label_count[label] += 1\n",
    "        fold_label_count[label] += 1\n",
    "        destfolder = os.path.join(soundbankfolder, 'foreground', label)\n",
    "        if not os.path.isdir(destfolder):\n",
    "            os.mkdir(destfolder)\n",
    "        destfile = os.path.join(destfolder, os.path.basename(af))\n",
    "        shutil.copyfile(af, destfile)\n",
    "        \n",
    "    # Print fold report\n",
    "    print('   Fold {:d} labels:'.format(fold))\n",
    "    for label in label_list:\n",
    "        print('   {:s}:\\t{:d}'.format(label, fold_label_count[label]))\n",
    "        \n",
    "# Print overall report\n",
    "print('\\n\\nOVERALL labels:')\n",
    "for label in label_list:\n",
    "    print('{:s}:\\t{:d}'.format(label, label_count[label]))"
   ]
  },
  {
   "cell_type": "markdown",
   "metadata": {},
   "source": [
    "## Create soundbank for VALIDATE (folds 7-8)"
   ]
  },
  {
   "cell_type": "code",
   "execution_count": 6,
   "metadata": {
    "collapsed": false
   },
   "outputs": [
    {
     "name": "stderr",
     "output_type": "stream",
     "text": [
      "  0%|          | 3/838 [00:00<00:34, 24.35it/s]"
     ]
    },
    {
     "name": "stdout",
     "output_type": "stream",
     "text": [
      "FOLD 7\n"
     ]
    },
    {
     "name": "stderr",
     "output_type": "stream",
     "text": [
      "100%|██████████| 838/838 [00:31<00:00, 26.53it/s]\n",
      "  1%|          | 5/806 [00:00<00:24, 32.74it/s]"
     ]
    },
    {
     "name": "stdout",
     "output_type": "stream",
     "text": [
      "   Fold 7 labels:\n",
      "   air_conditioner:\t100\n",
      "   car_horn:\t28\n",
      "   children_playing:\t100\n",
      "   dog_bark:\t100\n",
      "   drilling:\t100\n",
      "   engine_idling:\t106\n",
      "   gun_shot:\t51\n",
      "   jackhammer:\t76\n",
      "   siren:\t77\n",
      "   street_music:\t100\n",
      "FOLD 8\n"
     ]
    },
    {
     "name": "stderr",
     "output_type": "stream",
     "text": [
      "100%|██████████| 806/806 [00:31<00:00, 25.46it/s]"
     ]
    },
    {
     "name": "stdout",
     "output_type": "stream",
     "text": [
      "   Fold 8 labels:\n",
      "   air_conditioner:\t100\n",
      "   car_horn:\t30\n",
      "   children_playing:\t100\n",
      "   dog_bark:\t100\n",
      "   drilling:\t100\n",
      "   engine_idling:\t88\n",
      "   gun_shot:\t30\n",
      "   jackhammer:\t78\n",
      "   siren:\t80\n",
      "   street_music:\t100\n",
      "\n",
      "\n",
      "OVERALL labels:\n",
      "air_conditioner:\t200\n",
      "car_horn:\t58\n",
      "children_playing:\t200\n",
      "dog_bark:\t200\n",
      "drilling:\t200\n",
      "engine_idling:\t194\n",
      "gun_shot:\t81\n",
      "jackhammer:\t154\n",
      "siren:\t157\n",
      "street_music:\t200\n"
     ]
    },
    {
     "name": "stderr",
     "output_type": "stream",
     "text": [
      "\n"
     ]
    }
   ],
   "source": [
    "folds = [7, 8]\n",
    "splitname = 'validate'\n",
    "\n",
    "soundbankfolder = '/scratch/js7561/datasets/scaper_waspaa2017/audio/soundbanks/'\n",
    "soundbankfolder = os.path.join(soundbankfolder, splitname)\n",
    "\n",
    "label_count = {}\n",
    "for label in label_list:\n",
    "    label_count[label] = 0\n",
    "\n",
    "for fold in folds:\n",
    "    \n",
    "    print('FOLD {:d}'.format(fold))\n",
    "    audiofolder = '/scratch/js7561/datasets/UrbanSound8K_official/UrbanSound8K/audio/fold{:d}/'.format(fold)\n",
    "    audiofiles = glob.glob(os.path.join(audiofolder, '*.wav'))\n",
    "    \n",
    "    fold_label_count = {}\n",
    "    for label in label_list:\n",
    "        fold_label_count[label] = 0\n",
    "    \n",
    "    for af in tqdm(audiofiles):\n",
    "        # print(os.path.basename(af))\n",
    "        label = metadata.loc[metadata.slice_file_name == os.path.basename(af), 'class'].values[0]\n",
    "        label_count[label] += 1\n",
    "        fold_label_count[label] += 1\n",
    "        destfolder = os.path.join(soundbankfolder, 'foreground', label)\n",
    "        if not os.path.isdir(destfolder):\n",
    "            os.mkdir(destfolder)\n",
    "        destfile = os.path.join(destfolder, os.path.basename(af))\n",
    "        shutil.copyfile(af, destfile)\n",
    "        \n",
    "    # Print fold report\n",
    "    print('   Fold {:d} labels:'.format(fold))\n",
    "    for label in label_list:\n",
    "        print('   {:s}:\\t{:d}'.format(label, fold_label_count[label]))\n",
    "        \n",
    "# Print overall report\n",
    "print('\\n\\nOVERALL labels:')\n",
    "for label in label_list:\n",
    "    print('{:s}:\\t{:d}'.format(label, label_count[label]))"
   ]
  },
  {
   "cell_type": "markdown",
   "metadata": {},
   "source": [
    "## Create soundbank for TEST (folds 9-10)"
   ]
  },
  {
   "cell_type": "code",
   "execution_count": 7,
   "metadata": {
    "collapsed": false
   },
   "outputs": [
    {
     "name": "stderr",
     "output_type": "stream",
     "text": [
      "  0%|          | 3/816 [00:00<00:32, 24.69it/s]"
     ]
    },
    {
     "name": "stdout",
     "output_type": "stream",
     "text": [
      "FOLD 9\n"
     ]
    },
    {
     "name": "stderr",
     "output_type": "stream",
     "text": [
      "100%|██████████| 816/816 [00:31<00:00, 26.76it/s]\n",
      "  0%|          | 3/837 [00:00<00:31, 26.11it/s]"
     ]
    },
    {
     "name": "stdout",
     "output_type": "stream",
     "text": [
      "   Fold 9 labels:\n",
      "   air_conditioner:\t100\n",
      "   car_horn:\t32\n",
      "   children_playing:\t100\n",
      "   dog_bark:\t100\n",
      "   drilling:\t100\n",
      "   engine_idling:\t89\n",
      "   gun_shot:\t31\n",
      "   jackhammer:\t82\n",
      "   siren:\t82\n",
      "   street_music:\t100\n",
      "FOLD 10\n"
     ]
    },
    {
     "name": "stderr",
     "output_type": "stream",
     "text": [
      "100%|██████████| 837/837 [00:37<00:00, 30.71it/s]"
     ]
    },
    {
     "name": "stdout",
     "output_type": "stream",
     "text": [
      "   Fold 10 labels:\n",
      "   air_conditioner:\t100\n",
      "   car_horn:\t33\n",
      "   children_playing:\t100\n",
      "   dog_bark:\t100\n",
      "   drilling:\t100\n",
      "   engine_idling:\t93\n",
      "   gun_shot:\t32\n",
      "   jackhammer:\t96\n",
      "   siren:\t83\n",
      "   street_music:\t100\n",
      "\n",
      "\n",
      "OVERALL labels:\n",
      "air_conditioner:\t200\n",
      "car_horn:\t65\n",
      "children_playing:\t200\n",
      "dog_bark:\t200\n",
      "drilling:\t200\n",
      "engine_idling:\t182\n",
      "gun_shot:\t63\n",
      "jackhammer:\t178\n",
      "siren:\t165\n",
      "street_music:\t200\n"
     ]
    },
    {
     "name": "stderr",
     "output_type": "stream",
     "text": [
      "\n"
     ]
    }
   ],
   "source": [
    "folds = [9, 10]\n",
    "splitname = 'test'\n",
    "\n",
    "soundbankfolder = '/scratch/js7561/datasets/scaper_waspaa2017/audio/soundbanks/'\n",
    "soundbankfolder = os.path.join(soundbankfolder, splitname)\n",
    "\n",
    "label_count = {}\n",
    "for label in label_list:\n",
    "    label_count[label] = 0\n",
    "\n",
    "for fold in folds:\n",
    "    \n",
    "    print('FOLD {:d}'.format(fold))\n",
    "    audiofolder = '/scratch/js7561/datasets/UrbanSound8K_official/UrbanSound8K/audio/fold{:d}/'.format(fold)\n",
    "    audiofiles = glob.glob(os.path.join(audiofolder, '*.wav'))\n",
    "    \n",
    "    fold_label_count = {}\n",
    "    for label in label_list:\n",
    "        fold_label_count[label] = 0\n",
    "    \n",
    "    for af in tqdm(audiofiles):\n",
    "        # print(os.path.basename(af))\n",
    "        label = metadata.loc[metadata.slice_file_name == os.path.basename(af), 'class'].values[0]\n",
    "        label_count[label] += 1\n",
    "        fold_label_count[label] += 1\n",
    "        destfolder = os.path.join(soundbankfolder, 'foreground', label)\n",
    "        if not os.path.isdir(destfolder):\n",
    "            os.mkdir(destfolder)\n",
    "        destfile = os.path.join(destfolder, os.path.basename(af))\n",
    "        shutil.copyfile(af, destfile)\n",
    "        \n",
    "    # Print fold report\n",
    "    print('   Fold {:d} labels:'.format(fold))\n",
    "    for label in label_list:\n",
    "        print('   {:s}:\\t{:d}'.format(label, fold_label_count[label]))\n",
    "        \n",
    "# Print overall report\n",
    "print('\\n\\nOVERALL labels:')\n",
    "for label in label_list:\n",
    "    print('{:s}:\\t{:d}'.format(label, label_count[label]))"
   ]
  },
  {
   "cell_type": "markdown",
   "metadata": {},
   "source": [
    "## Copy noise excerpt for all files"
   ]
  },
  {
   "cell_type": "code",
   "execution_count": 8,
   "metadata": {
    "collapsed": true
   },
   "outputs": [],
   "source": [
    "noisefile = '/scratch/js7561/datasets/scaper_waspaa2017/audio/noise/brownian.wav'\n",
    "soundbankfolder = '/scratch/js7561/datasets/scaper_waspaa2017/audio/soundbanks/'\n",
    "\n",
    "for split in ['train', 'validate', 'test']:\n",
    "    \n",
    "    destfolder = os.path.join(soundbankfolder, split, 'background', 'noise')\n",
    "    if not os.path.isdir(destfolder):\n",
    "        os.mkdir(destfolder)\n",
    "        \n",
    "    destfile = os.path.join(destfolder, os.path.basename(noisefile))\n",
    "    shutil.copyfile(noisefile, destfile)"
   ]
  },
  {
   "cell_type": "code",
   "execution_count": null,
   "metadata": {
    "collapsed": true
   },
   "outputs": [],
   "source": []
  }
 ],
 "metadata": {
  "kernelspec": {
   "display_name": "Python 3",
   "language": "python",
   "name": "python3"
  },
  "language_info": {
   "codemirror_mode": {
    "name": "ipython",
    "version": 3
   },
   "file_extension": ".py",
   "mimetype": "text/x-python",
   "name": "python",
   "nbconvert_exporter": "python",
   "pygments_lexer": "ipython3",
   "version": "3.5.3"
  }
 },
 "nbformat": 4,
 "nbformat_minor": 2
}
