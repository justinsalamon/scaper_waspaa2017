{
 "cells": [
  {
   "cell_type": "code",
   "execution_count": 1,
   "metadata": {
    "collapsed": true,
    "deletable": true,
    "editable": true
   },
   "outputs": [],
   "source": [
    "import scaper\n",
    "import jams\n",
    "import os\n",
    "import numpy as np\n",
    "import gzip\n",
    "import glob\n",
    "import pandas as pd\n",
    "from tqdm import tqdm\n",
    "np.random.seed(123)"
   ]
  },
  {
   "cell_type": "code",
   "execution_count": 2,
   "metadata": {
    "collapsed": false,
    "deletable": true,
    "editable": true
   },
   "outputs": [
    {
     "name": "stdout",
     "output_type": "stream",
     "text": [
      "8000\n"
     ]
    }
   ],
   "source": [
    "metadatafolder = '/scratch/js7561/datasets/scaper_waspaa2017/urban-sed/metadata/'\n",
    "snrjams = sorted(glob.glob(os.path.join(metadatafolder, 'snr', '*.jams')))\n",
    "print(len(snrjams))"
   ]
  },
  {
   "cell_type": "code",
   "execution_count": 3,
   "metadata": {
    "collapsed": false,
    "deletable": true,
    "editable": true
   },
   "outputs": [
    {
     "name": "stderr",
     "output_type": "stream",
     "text": [
      "100%|██████████| 1000/1000 [13:32<00:00,  2.00it/s]\n"
     ]
    }
   ],
   "source": [
    "audio_out_folder = '/scratch/js7561/datasets/scaper_waspaa2017/urban-sed/audio/snr/'\n",
    "\n",
    "for jf in tqdm(snrjams[6000:7000]):\n",
    "    audio_outfile = os.path.join(audio_out_folder, os.path.basename(jf).replace('.jams', '.wav'))\n",
    "    scaper.generate_from_jams(jf, audio_outfile, fg_path=None, bg_path=None, jams_outfile=None)"
   ]
  },
  {
   "cell_type": "code",
   "execution_count": null,
   "metadata": {
    "collapsed": true,
    "deletable": true,
    "editable": true
   },
   "outputs": [],
   "source": []
  }
 ],
 "metadata": {
  "kernelspec": {
   "display_name": "Python 3",
   "language": "python",
   "name": "python3"
  },
  "language_info": {
   "codemirror_mode": {
    "name": "ipython",
    "version": 3
   },
   "file_extension": ".py",
   "mimetype": "text/x-python",
   "name": "python",
   "nbconvert_exporter": "python",
   "pygments_lexer": "ipython3",
   "version": "3.5.3"
  }
 },
 "nbformat": 4,
 "nbformat_minor": 2
}
