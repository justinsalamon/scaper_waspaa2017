{
 "cells": [
  {
   "cell_type": "code",
   "execution_count": 1,
   "metadata": {
    "collapsed": false,
    "deletable": true,
    "editable": true
   },
   "outputs": [],
   "source": [
    "%matplotlib inline\n",
    "import matplotlib.pyplot as plt\n",
    "import seaborn as sns\n",
    "import numpy as np\n",
    "import pandas as pd\n",
    "import os\n",
    "from scaper_waspaa2017.urban_sed import eval as C\n",
    "from scaper_waspaa2017.urban_sed_crnn import eval as CR"
   ]
  },
  {
   "cell_type": "markdown",
   "metadata": {
    "deletable": true,
    "editable": true
   },
   "source": [
    "## Main results table"
   ]
  },
  {
   "cell_type": "code",
   "execution_count": 2,
   "metadata": {
    "collapsed": false,
    "deletable": true,
    "editable": true
   },
   "outputs": [
    {
     "name": "stdout",
     "output_type": "stream",
     "text": [
      "F1s: 0.5688, P1s: 0.6911, R1s: 0.4833, F100ms: 0.5688, P100ms: 0.6911, R100ms: 0.4833 | E1s: 0.5770, E100ms: 0.5770\n"
     ]
    }
   ],
   "source": [
    "# ready\n",
    "results001 = C.evaluate('exp001', load_predictions=True)"
   ]
  },
  {
   "cell_type": "code",
   "execution_count": 3,
   "metadata": {
    "collapsed": false,
    "deletable": true,
    "editable": true
   },
   "outputs": [
    {
     "name": "stdout",
     "output_type": "stream",
     "text": [
      "F1s: 0.4946, P1s: 0.4354, R1s: 0.5724, F100ms: 0.4797, P100ms: 0.4378, R100ms: 0.5304 | E1s: 0.9019, E100ms: 0.8729\n"
     ]
    }
   ],
   "source": [
    "# not ready\n",
    "results002 = CR.evaluate('exp002', load_predictions=True)"
   ]
  },
  {
   "cell_type": "code",
   "execution_count": 4,
   "metadata": {
    "collapsed": false,
    "deletable": true,
    "editable": true
   },
   "outputs": [
    {
     "name": "stdout",
     "output_type": "stream",
     "text": [
      "F1s: 0.5778, P1s: 0.6720, R1s: 0.5069, F100ms: 0.5778, P100ms: 0.6720, R100ms: 0.5069 | E1s: 0.5595, E100ms: 0.5595\n"
     ]
    }
   ],
   "source": [
    "# ready\n",
    "results003 = C.evaluate('exp003', load_predictions=True)"
   ]
  },
  {
   "cell_type": "markdown",
   "metadata": {
    "deletable": true,
    "editable": true
   },
   "source": [
    "### Create DF"
   ]
  },
  {
   "cell_type": "code",
   "execution_count": 75,
   "metadata": {
    "collapsed": true,
    "deletable": true,
    "editable": true
   },
   "outputs": [],
   "source": [
    "# Label list\n",
    "label_list = (['air_conditioner', 'car_horn', 'children_playing',\n",
    "                   'dog_bark', 'drilling', 'engine_idling', 'gun_shot',\n",
    "                   'jackhammer', 'siren', 'street_music'])\n",
    "label_list = sorted(label_list)"
   ]
  },
  {
   "cell_type": "code",
   "execution_count": 76,
   "metadata": {
    "collapsed": true,
    "deletable": true,
    "editable": true
   },
   "outputs": [],
   "source": [
    "df_f1s = pd.DataFrame(columns=['class', 'CRNN', 'CNN', 'CNN3M'])"
   ]
  },
  {
   "cell_type": "code",
   "execution_count": 77,
   "metadata": {
    "collapsed": true,
    "deletable": true,
    "editable": true
   },
   "outputs": [],
   "source": [
    "for label in label_list:\n",
    "    f1_001_c = results001['results1s']['class_wise'][label]['f_measure']['f_measure']\n",
    "    f1_002_c = results002['results1s']['class_wise'][label]['f_measure']['f_measure']\n",
    "    f1_003_c = results003['results1s']['class_wise'][label]['f_measure']['f_measure']\n",
    "    df_f1s.loc[len(df_f1s)] = [label, f1_002_c, f1_001_c, f1_003_c]"
   ]
  },
  {
   "cell_type": "code",
   "execution_count": 78,
   "metadata": {
    "collapsed": true,
    "deletable": true,
    "editable": true
   },
   "outputs": [],
   "source": [
    "# lastly append global result\n",
    "f1_001 = results001['results1s']['overall']['f_measure']['f_measure']\n",
    "f1_002 = results002['results1s']['overall']['f_measure']['f_measure']\n",
    "f1_003 = results003['results1s']['overall']['f_measure']['f_measure']\n",
    "df_f1s.loc[len(df_f1s)] = ['OVERALL', f1_002, f1_001, f1_003]"
   ]
  },
  {
   "cell_type": "code",
   "execution_count": 79,
   "metadata": {
    "collapsed": false,
    "deletable": true,
    "editable": true
   },
   "outputs": [
    {
     "data": {
      "text/html": [
       "<div>\n",
       "<table border=\"1\" class=\"dataframe\">\n",
       "  <thead>\n",
       "    <tr style=\"text-align: right;\">\n",
       "      <th></th>\n",
       "      <th>class</th>\n",
       "      <th>CRNN</th>\n",
       "      <th>CNN</th>\n",
       "      <th>CNN3M</th>\n",
       "    </tr>\n",
       "  </thead>\n",
       "  <tbody>\n",
       "    <tr>\n",
       "      <th>0</th>\n",
       "      <td>air_conditioner</td>\n",
       "      <td>0.424654</td>\n",
       "      <td>0.338706</td>\n",
       "      <td>0.377788</td>\n",
       "    </tr>\n",
       "    <tr>\n",
       "      <th>1</th>\n",
       "      <td>car_horn</td>\n",
       "      <td>0.468144</td>\n",
       "      <td>0.688195</td>\n",
       "      <td>0.694346</td>\n",
       "    </tr>\n",
       "    <tr>\n",
       "      <th>2</th>\n",
       "      <td>children_playing</td>\n",
       "      <td>0.427878</td>\n",
       "      <td>0.491810</td>\n",
       "      <td>0.535093</td>\n",
       "    </tr>\n",
       "    <tr>\n",
       "      <th>3</th>\n",
       "      <td>dog_bark</td>\n",
       "      <td>0.529198</td>\n",
       "      <td>0.517531</td>\n",
       "      <td>0.519545</td>\n",
       "    </tr>\n",
       "    <tr>\n",
       "      <th>4</th>\n",
       "      <td>drilling</td>\n",
       "      <td>0.574876</td>\n",
       "      <td>0.579227</td>\n",
       "      <td>0.571429</td>\n",
       "    </tr>\n",
       "    <tr>\n",
       "      <th>5</th>\n",
       "      <td>engine_idling</td>\n",
       "      <td>0.519718</td>\n",
       "      <td>0.510339</td>\n",
       "      <td>0.543264</td>\n",
       "    </tr>\n",
       "    <tr>\n",
       "      <th>6</th>\n",
       "      <td>gun_shot</td>\n",
       "      <td>0.629630</td>\n",
       "      <td>0.503468</td>\n",
       "      <td>0.523588</td>\n",
       "    </tr>\n",
       "    <tr>\n",
       "      <th>7</th>\n",
       "      <td>jackhammer</td>\n",
       "      <td>0.630634</td>\n",
       "      <td>0.750044</td>\n",
       "      <td>0.760129</td>\n",
       "    </tr>\n",
       "    <tr>\n",
       "      <th>8</th>\n",
       "      <td>siren</td>\n",
       "      <td>0.639512</td>\n",
       "      <td>0.636855</td>\n",
       "      <td>0.639573</td>\n",
       "    </tr>\n",
       "    <tr>\n",
       "      <th>9</th>\n",
       "      <td>street_music</td>\n",
       "      <td>0.318898</td>\n",
       "      <td>0.591611</td>\n",
       "      <td>0.574442</td>\n",
       "    </tr>\n",
       "    <tr>\n",
       "      <th>10</th>\n",
       "      <td>OVERALL</td>\n",
       "      <td>0.494592</td>\n",
       "      <td>0.568844</td>\n",
       "      <td>0.577849</td>\n",
       "    </tr>\n",
       "  </tbody>\n",
       "</table>\n",
       "</div>"
      ],
      "text/plain": [
       "               class      CRNN       CNN     CNN3M\n",
       "0    air_conditioner  0.424654  0.338706  0.377788\n",
       "1           car_horn  0.468144  0.688195  0.694346\n",
       "2   children_playing  0.427878  0.491810  0.535093\n",
       "3           dog_bark  0.529198  0.517531  0.519545\n",
       "4           drilling  0.574876  0.579227  0.571429\n",
       "5      engine_idling  0.519718  0.510339  0.543264\n",
       "6           gun_shot  0.629630  0.503468  0.523588\n",
       "7         jackhammer  0.630634  0.750044  0.760129\n",
       "8              siren  0.639512  0.636855  0.639573\n",
       "9       street_music  0.318898  0.591611  0.574442\n",
       "10           OVERALL  0.494592  0.568844  0.577849"
      ]
     },
     "execution_count": 79,
     "metadata": {},
     "output_type": "execute_result"
    }
   ],
   "source": [
    "df_f1s"
   ]
  },
  {
   "cell_type": "code",
   "execution_count": 80,
   "metadata": {
    "collapsed": false,
    "deletable": true,
    "editable": true
   },
   "outputs": [
    {
     "data": {
      "image/png": "[encoded data removed]",
      "text/plain": [
       "<matplotlib.figure.Figure at 0x2b8c51a48b38>"
      ]
     },
     "metadata": {},
     "output_type": "display_data"
    }
   ],
   "source": [
    "ax = df_f1s.plot(kind='bar', rot=45, figsize=(8,4))\n",
    "ax.set_xticklabels(df_f1s['class'])\n",
    "plt.ylabel('F-measure (1s)')\n",
    "plt.ylim([0.2, 0.8])\n",
    "plt.show()"
   ]
  },
  {
   "cell_type": "code",
   "execution_count": 82,
   "metadata": {
    "collapsed": false,
    "deletable": true,
    "editable": true
   },
   "outputs": [],
   "source": [
    "df_f1s_two = pd.DataFrame(columns=['class', 'CRNN', 'CNN'])\n",
    "for label in label_list:\n",
    "    f1_001_c = results001['results1s']['class_wise'][label]['f_measure']['f_measure']\n",
    "    f1_002_c = results002['results1s']['class_wise'][label]['f_measure']['f_measure']\n",
    "    df_f1s_two.loc[len(df_f1s_two)] = [label, f1_002_c, f1_001_c]\n",
    "# lastly append global result\n",
    "f1_001 = results001['results1s']['overall']['f_measure']['f_measure']\n",
    "f1_002 = results002['results1s']['overall']['f_measure']['f_measure']\n",
    "df_f1s_two.loc[len(df_f1s_two)] = ['OVERALL', f1_002, f1_001]"
   ]
  },
  {
   "cell_type": "code",
   "execution_count": 83,
   "metadata": {
    "collapsed": false,
    "deletable": true,
    "editable": true
   },
   "outputs": [
    {
     "data": {
      "text/html": [
       "<div>\n",
       "<table border=\"1\" class=\"dataframe\">\n",
       "  <thead>\n",
       "    <tr style=\"text-align: right;\">\n",
       "      <th></th>\n",
       "      <th>class</th>\n",
       "      <th>CRNN</th>\n",
       "      <th>CNN</th>\n",
       "    </tr>\n",
       "  </thead>\n",
       "  <tbody>\n",
       "    <tr>\n",
       "      <th>0</th>\n",
       "      <td>air_conditioner</td>\n",
       "      <td>0.424654</td>\n",
       "      <td>0.338706</td>\n",
       "    </tr>\n",
       "    <tr>\n",
       "      <th>1</th>\n",
       "      <td>car_horn</td>\n",
       "      <td>0.468144</td>\n",
       "      <td>0.688195</td>\n",
       "    </tr>\n",
       "    <tr>\n",
       "      <th>2</th>\n",
       "      <td>children_playing</td>\n",
       "      <td>0.427878</td>\n",
       "      <td>0.491810</td>\n",
       "    </tr>\n",
       "    <tr>\n",
       "      <th>3</th>\n",
       "      <td>dog_bark</td>\n",
       "      <td>0.529198</td>\n",
       "      <td>0.517531</td>\n",
       "    </tr>\n",
       "    <tr>\n",
       "      <th>4</th>\n",
       "      <td>drilling</td>\n",
       "      <td>0.574876</td>\n",
       "      <td>0.579227</td>\n",
       "    </tr>\n",
       "    <tr>\n",
       "      <th>5</th>\n",
       "      <td>engine_idling</td>\n",
       "      <td>0.519718</td>\n",
       "      <td>0.510339</td>\n",
       "    </tr>\n",
       "    <tr>\n",
       "      <th>6</th>\n",
       "      <td>gun_shot</td>\n",
       "      <td>0.629630</td>\n",
       "      <td>0.503468</td>\n",
       "    </tr>\n",
       "    <tr>\n",
       "      <th>7</th>\n",
       "      <td>jackhammer</td>\n",
       "      <td>0.630634</td>\n",
       "      <td>0.750044</td>\n",
       "    </tr>\n",
       "    <tr>\n",
       "      <th>8</th>\n",
       "      <td>siren</td>\n",
       "      <td>0.639512</td>\n",
       "      <td>0.636855</td>\n",
       "    </tr>\n",
       "    <tr>\n",
       "      <th>9</th>\n",
       "      <td>street_music</td>\n",
       "      <td>0.318898</td>\n",
       "      <td>0.591611</td>\n",
       "    </tr>\n",
       "    <tr>\n",
       "      <th>10</th>\n",
       "      <td>OVERALL</td>\n",
       "      <td>0.494592</td>\n",
       "      <td>0.568844</td>\n",
       "    </tr>\n",
       "  </tbody>\n",
       "</table>\n",
       "</div>"
      ],
      "text/plain": [
       "               class      CRNN       CNN\n",
       "0    air_conditioner  0.424654  0.338706\n",
       "1           car_horn  0.468144  0.688195\n",
       "2   children_playing  0.427878  0.491810\n",
       "3           dog_bark  0.529198  0.517531\n",
       "4           drilling  0.574876  0.579227\n",
       "5      engine_idling  0.519718  0.510339\n",
       "6           gun_shot  0.629630  0.503468\n",
       "7         jackhammer  0.630634  0.750044\n",
       "8              siren  0.639512  0.636855\n",
       "9       street_music  0.318898  0.591611\n",
       "10           OVERALL  0.494592  0.568844"
      ]
     },
     "execution_count": 83,
     "metadata": {},
     "output_type": "execute_result"
    }
   ],
   "source": [
    "df_f1s_two"
   ]
  },
  {
   "cell_type": "code",
   "execution_count": 98,
   "metadata": {
    "collapsed": false,
    "deletable": true,
    "editable": true
   },
   "outputs": [
    {
     "data": {
      "image/png": "[encoded data removed]",
      "text/plain": [
       "<matplotlib.figure.Figure at 0x2b8c5512df98>"
      ]
     },
     "metadata": {},
     "output_type": "display_data"
    }
   ],
   "source": [
    "ax = df_f1s_two.plot(kind='bar', rot=45, figsize=(8,4))\n",
    "ax.set_xticklabels(df_f1s_two['class'])\n",
    "plt.ylabel('F-measure (1s)')\n",
    "plt.ylim([0.0, 0.8])\n",
    "plt.legend(loc=2)\n",
    "plt.vlines(9.5, 0, 1, linestyles='dashed')\n",
    "plt.show()"
   ]
  },
  {
   "cell_type": "code",
   "execution_count": null,
   "metadata": {
    "collapsed": true,
    "deletable": true,
    "editable": true
   },
   "outputs": [],
   "source": []
  }
 ],
 "metadata": {
  "kernelspec": {
   "display_name": "Python 3",
   "language": "python",
   "name": "python3"
  },
  "language_info": {
   "codemirror_mode": {
    "name": "ipython",
    "version": 3
   },
   "file_extension": ".py",
   "mimetype": "text/x-python",
   "name": "python",
   "nbconvert_exporter": "python",
   "pygments_lexer": "ipython3",
   "version": "3.5.3"
  }
 },
 "nbformat": 4,
 "nbformat_minor": 2
}
