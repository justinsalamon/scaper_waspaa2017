{
 "cells": [
  {
   "cell_type": "code",
   "execution_count": 1,
   "metadata": {
    "collapsed": true,
    "deletable": true,
    "editable": true
   },
   "outputs": [],
   "source": [
    "import glob\n",
    "import os\n",
    "import shutil"
   ]
  },
  {
   "cell_type": "code",
   "execution_count": 2,
   "metadata": {
    "collapsed": true,
    "deletable": true,
    "editable": true
   },
   "outputs": [],
   "source": [
    "splits = ['train', 'validate', 'test']\n",
    "distributions = ['uniform', 'unimodal', 'bimodal']"
   ]
  },
  {
   "cell_type": "code",
   "execution_count": 3,
   "metadata": {
    "collapsed": true,
    "deletable": true,
    "editable": true
   },
   "outputs": [],
   "source": [
    "audiofolder = '/scratch/js7561/datasets/scaper_waspaa2017/audio/soundscapes/'\n",
    "audio_outfolder = '/scratch/js7561/datasets/scaper_waspaa2017/urban-sed/audio/'\n",
    "label_outfolder = '/scratch/js7561/datasets/scaper_waspaa2017/urban-sed/metadata/'"
   ]
  },
  {
   "cell_type": "code",
   "execution_count": 4,
   "metadata": {
    "collapsed": true
   },
   "outputs": [],
   "source": [
    "for split in splits:\n",
    "    for dist in distributions:\n",
    "        \n",
    "        # COPY AUDIO FILES\n",
    "        audio_in = os.path.join(audiofolder, split, dist)\n",
    "        audiofiles = glob.glob(os.path.join(audio_in, '*.wav'))\n",
    "        for af in audiofiles:\n",
    "            outfile = os.path.join(audio_outfolder, split, os.path.basename(af))\n",
    "            shutil.copyfile(af, outfile)\n",
    "            \n",
    "        # COPY JAMS FILES\n",
    "        jams_in = os.path.join(audiofolder, split, dist)\n",
    "        jamsfiles = glob.glob(os.path.join(audio_in, '*.jams'))\n",
    "        for jf in jamsfiles:\n",
    "            outfile = os.path.join(label_outfolder, split, os.path.basename(jf))\n",
    "            shutil.copyfile(jf, outfile)\n",
    "            \n",
    "        # COPY TXT FILES\n",
    "        txt_in = os.path.join(audiofolder, split, dist)\n",
    "        txtfiles = glob.glob(os.path.join(audio_in, '*.txt'))\n",
    "        for tf in txtfiles:\n",
    "            outfile = os.path.join(label_outfolder, split, os.path.basename(tf))\n",
    "            shutil.copyfile(tf, outfile)"
   ]
  },
  {
   "cell_type": "code",
   "execution_count": null,
   "metadata": {
    "collapsed": true
   },
   "outputs": [],
   "source": []
  }
 ],
 "metadata": {
  "kernelspec": {
   "display_name": "Python 3",
   "language": "python",
   "name": "python3"
  },
  "language_info": {
   "codemirror_mode": {
    "name": "ipython",
    "version": 3
   },
   "file_extension": ".py",
   "mimetype": "text/x-python",
   "name": "python",
   "nbconvert_exporter": "python",
   "pygments_lexer": "ipython3",
   "version": "3.5.3"
  }
 },
 "nbformat": 4,
 "nbformat_minor": 2
}
