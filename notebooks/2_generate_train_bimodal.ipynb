{
 "cells": [
  {
   "cell_type": "code",
   "execution_count": 1,
   "metadata": {
    "collapsed": true,
    "deletable": true,
    "editable": true
   },
   "outputs": [],
   "source": [
    "import numpy as np\n",
    "np.random.seed(123)\n",
    "import scaper\n",
    "import os"
   ]
  },
  {
   "cell_type": "code",
   "execution_count": 2,
   "metadata": {
    "collapsed": true,
    "deletable": true,
    "editable": true
   },
   "outputs": [],
   "source": [
    "# SCAPER SETTINGS\n",
    "fg_folder = '/scratch/js7561/datasets/scaper_waspaa2017/audio/soundbanks/train/foreground/'\n",
    "bg_folder = '/scratch/js7561/datasets/scaper_waspaa2017/audio/soundbanks/train/background/'\n",
    "\n",
    "n_soundscapes = 2000\n",
    "ref_db = -50\n",
    "duration = 10.0 \n",
    "\n",
    "min_events = 1\n",
    "max_events = 9\n",
    "\n",
    "event_time_dist = 'truncnorm'\n",
    "event_time_mean1 = 3.0\n",
    "event_time_mean2 = 7.0\n",
    "event_time_std = 2.0\n",
    "event_time_min = 0.0\n",
    "event_time_max = 10.0\n",
    "\n",
    "source_time_dist = 'const'\n",
    "source_time = 0.0\n",
    "\n",
    "event_duration_dist = 'uniform'\n",
    "event_duration_min = 0.5\n",
    "event_duration_max = 4.0\n",
    "\n",
    "snr_dist = 'uniform'\n",
    "snr_min = 6\n",
    "snr_max = 30\n",
    "\n",
    "pitch_dist = 'uniform'\n",
    "pitch_min = -3.0\n",
    "pitch_max = 3.0\n",
    "\n",
    "time_stretch_dist = 'uniform'\n",
    "time_stretch_min = 0.8\n",
    "time_stretch_max = 1.2\n",
    "\n",
    "\n",
    "# FILE SETTINGS\n",
    "outfolder = os.path.join('/scratch/js7561/datasets/scaper_waspaa2017/audio/soundscapes/train/bimodal')\n",
    "if not os.path.isdir(outfolder):\n",
    "    os.mkdir(outfolder)"
   ]
  },
  {
   "cell_type": "code",
   "execution_count": null,
   "metadata": {
    "collapsed": false,
    "deletable": true,
    "editable": true,
    "scrolled": true
   },
   "outputs": [
    {
     "name": "stdout",
     "output_type": "stream",
     "text": [
      "Generating soundscape: 1/2000\n"
     ]
    },
    {
     "name": "stderr",
     "output_type": "stream",
     "text": [
      "/home/js7561/dev/scaper/scaper/core.py:1112: ScaperWarning: drilling event duration (3.14) is greater that source duration (3.03), changing to 3.03\n",
      "  ScaperWarning)\n"
     ]
    },
    {
     "name": "stdout",
     "output_type": "stream",
     "text": [
      "Generating soundscape: 2/2000\n"
     ]
    },
    {
     "name": "stderr",
     "output_type": "stream",
     "text": [
      "/home/js7561/dev/scaper/scaper/core.py:1112: ScaperWarning: dog_bark event duration (1.64) is greater that source duration (1.32), changing to 1.32\n",
      "  ScaperWarning)\n"
     ]
    },
    {
     "name": "stdout",
     "output_type": "stream",
     "text": [
      "Generating soundscape: 3/2000\n"
     ]
    },
    {
     "name": "stderr",
     "output_type": "stream",
     "text": [
      "/home/js7561/dev/scaper/scaper/core.py:1112: ScaperWarning: gun_shot event duration (3.59) is greater that source duration (1.33), changing to 1.33\n",
      "  ScaperWarning)\n"
     ]
    },
    {
     "name": "stdout",
     "output_type": "stream",
     "text": [
      "Generating soundscape: 4/2000\n"
     ]
    },
    {
     "name": "stderr",
     "output_type": "stream",
     "text": [
      "/home/js7561/dev/scaper/scaper/core.py:1112: ScaperWarning: dog_bark event duration (2.87) is greater that source duration (1.09), changing to 1.09\n",
      "  ScaperWarning)\n"
     ]
    },
    {
     "name": "stdout",
     "output_type": "stream",
     "text": [
      "Generating soundscape: 5/2000\n"
     ]
    },
    {
     "name": "stderr",
     "output_type": "stream",
     "text": [
      "/home/js7561/dev/scaper/scaper/core.py:1112: ScaperWarning: gun_shot event duration (1.35) is greater that source duration (1.21), changing to 1.21\n",
      "  ScaperWarning)\n",
      "/home/js7561/dev/scaper/scaper/core.py:1199: ScaperWarning: children_playing event time (6.50) is too great given stretched event duration (3.72) and soundscape duration (10.00), changed to 6.28.\n",
      "  ScaperWarning)\n"
     ]
    },
    {
     "name": "stdout",
     "output_type": "stream",
     "text": [
      "Generating soundscape: 6/2000\n"
     ]
    },
    {
     "name": "stderr",
     "output_type": "stream",
     "text": [
      "/home/js7561/dev/scaper/scaper/core.py:1112: ScaperWarning: gun_shot event duration (3.85) is greater that source duration (1.27), changing to 1.27\n",
      "  ScaperWarning)\n",
      "/home/js7561/dev/scaper/scaper/core.py:1199: ScaperWarning: engine_idling event time (6.89) is too great given stretched event duration (3.67) and soundscape duration (10.00), changed to 6.33.\n",
      "  ScaperWarning)\n"
     ]
    },
    {
     "name": "stdout",
     "output_type": "stream",
     "text": [
      "Generating soundscape: 7/2000\n"
     ]
    },
    {
     "name": "stderr",
     "output_type": "stream",
     "text": [
      "/home/js7561/dev/scaper/scaper/core.py:1112: ScaperWarning: jackhammer event duration (3.00) is greater that source duration (1.06), changing to 1.06\n",
      "  ScaperWarning)\n"
     ]
    },
    {
     "name": "stdout",
     "output_type": "stream",
     "text": [
      "Generating soundscape: 8/2000\n"
     ]
    },
    {
     "name": "stderr",
     "output_type": "stream",
     "text": [
      "/home/js7561/dev/scaper/scaper/core.py:1199: ScaperWarning: air_conditioner event time (8.31) is too great given stretched event duration (3.45) and soundscape duration (10.00), changed to 6.55.\n",
      "  ScaperWarning)\n",
      "/home/js7561/dev/scaper/scaper/core.py:1112: ScaperWarning: car_horn event duration (2.85) is greater that source duration (0.30), changing to 0.30\n",
      "  ScaperWarning)\n"
     ]
    },
    {
     "name": "stdout",
     "output_type": "stream",
     "text": [
      "Generating soundscape: 9/2000\n"
     ]
    },
    {
     "name": "stderr",
     "output_type": "stream",
     "text": [
      "/home/js7561/dev/scaper/scaper/core.py:1199: ScaperWarning: siren event time (8.92) is too great given stretched event duration (2.95) and soundscape duration (10.00), changed to 7.05.\n",
      "  ScaperWarning)\n"
     ]
    },
    {
     "name": "stdout",
     "output_type": "stream",
     "text": [
      "Generating soundscape: 10/2000\n"
     ]
    },
    {
     "name": "stderr",
     "output_type": "stream",
     "text": [
      "/home/js7561/dev/scaper/scaper/core.py:1199: ScaperWarning: jackhammer event time (9.92) is too great given stretched event duration (3.13) and soundscape duration (10.00), changed to 6.87.\n",
      "  ScaperWarning)\n",
      "/home/js7561/dev/scaper/scaper/core.py:1112: ScaperWarning: gun_shot event duration (2.93) is greater that source duration (1.21), changing to 1.21\n",
      "  ScaperWarning)\n",
      "/home/js7561/dev/scaper/scaper/core.py:1112: ScaperWarning: dog_bark event duration (3.86) is greater that source duration (2.14), changing to 2.14\n",
      "  ScaperWarning)\n"
     ]
    },
    {
     "name": "stdout",
     "output_type": "stream",
     "text": [
      "Generating soundscape: 11/2000\n"
     ]
    },
    {
     "name": "stderr",
     "output_type": "stream",
     "text": [
      "/home/js7561/dev/scaper/scaper/core.py:1199: ScaperWarning: air_conditioner event time (9.19) is too great given stretched event duration (2.15) and soundscape duration (10.00), changed to 7.85.\n",
      "  ScaperWarning)\n",
      "/home/js7561/dev/scaper/scaper/core.py:1112: ScaperWarning: jackhammer event duration (3.92) is greater that source duration (1.55), changing to 1.55\n",
      "  ScaperWarning)\n",
      "/home/js7561/dev/scaper/scaper/core.py:1199: ScaperWarning: siren event time (9.93) is too great given stretched event duration (3.29) and soundscape duration (10.00), changed to 6.71.\n",
      "  ScaperWarning)\n"
     ]
    },
    {
     "name": "stdout",
     "output_type": "stream",
     "text": [
      "Generating soundscape: 12/2000\n"
     ]
    },
    {
     "name": "stderr",
     "output_type": "stream",
     "text": [
      "/home/js7561/dev/scaper/scaper/core.py:1112: ScaperWarning: dog_bark event duration (3.95) is greater that source duration (0.19), changing to 0.19\n",
      "  ScaperWarning)\n"
     ]
    },
    {
     "name": "stdout",
     "output_type": "stream",
     "text": [
      "Generating soundscape: 13/2000\n"
     ]
    },
    {
     "name": "stderr",
     "output_type": "stream",
     "text": [
      "/home/js7561/dev/scaper/scaper/core.py:1199: ScaperWarning: street_music event time (8.61) is too great given stretched event duration (3.87) and soundscape duration (10.00), changed to 6.13.\n",
      "  ScaperWarning)\n",
      "/home/js7561/dev/scaper/scaper/core.py:1112: ScaperWarning: drilling event duration (3.65) is greater that source duration (0.87), changing to 0.87\n",
      "  ScaperWarning)\n"
     ]
    },
    {
     "name": "stdout",
     "output_type": "stream",
     "text": [
      "Generating soundscape: 14/2000\n"
     ]
    },
    {
     "name": "stderr",
     "output_type": "stream",
     "text": [
      "/home/js7561/dev/scaper/scaper/core.py:1112: ScaperWarning: gun_shot event duration (2.81) is greater that source duration (1.72), changing to 1.72\n",
      "  ScaperWarning)\n",
      "/home/js7561/dev/scaper/scaper/core.py:1199: ScaperWarning: car_horn event time (9.15) is too great given stretched event duration (3.78) and soundscape duration (10.00), changed to 6.22.\n",
      "  ScaperWarning)\n",
      "/home/js7561/dev/scaper/scaper/core.py:1112: ScaperWarning: air_conditioner event duration (3.35) is greater that source duration (2.39), changing to 2.39\n",
      "  ScaperWarning)\n",
      "/home/js7561/dev/scaper/scaper/core.py:1199: ScaperWarning: air_conditioner event time (7.57) is too great given stretched event duration (2.81) and soundscape duration (10.00), changed to 7.19.\n",
      "  ScaperWarning)\n",
      "/home/js7561/dev/scaper/scaper/core.py:1112: ScaperWarning: gun_shot event duration (3.66) is greater that source duration (1.54), changing to 1.54\n",
      "  ScaperWarning)\n"
     ]
    },
    {
     "name": "stdout",
     "output_type": "stream",
     "text": [
      "Generating soundscape: 15/2000\n"
     ]
    },
    {
     "name": "stderr",
     "output_type": "stream",
     "text": [
      "/home/js7561/dev/scaper/scaper/core.py:1112: ScaperWarning: gun_shot event duration (3.04) is greater that source duration (1.96), changing to 1.96\n",
      "  ScaperWarning)\n"
     ]
    },
    {
     "name": "stdout",
     "output_type": "stream",
     "text": [
      "Generating soundscape: 16/2000\n"
     ]
    },
    {
     "name": "stderr",
     "output_type": "stream",
     "text": [
      "/home/js7561/dev/scaper/scaper/core.py:1199: ScaperWarning: children_playing event time (8.89) is too great given stretched event duration (3.31) and soundscape duration (10.00), changed to 6.69.\n",
      "  ScaperWarning)\n",
      "/home/js7561/dev/scaper/scaper/core.py:1112: ScaperWarning: engine_idling event duration (3.00) is greater that source duration (1.41), changing to 1.41\n",
      "  ScaperWarning)\n"
     ]
    },
    {
     "name": "stdout",
     "output_type": "stream",
     "text": [
      "Generating soundscape: 17/2000\n",
      "Generating soundscape: 18/2000\n"
     ]
    },
    {
     "name": "stderr",
     "output_type": "stream",
     "text": [
      "/home/js7561/dev/scaper/scaper/core.py:1112: ScaperWarning: gun_shot event duration (3.55) is greater that source duration (1.18), changing to 1.18\n",
      "  ScaperWarning)\n"
     ]
    },
    {
     "name": "stdout",
     "output_type": "stream",
     "text": [
      "Generating soundscape: 19/2000\n"
     ]
    },
    {
     "name": "stderr",
     "output_type": "stream",
     "text": [
      "/home/js7561/dev/scaper/scaper/core.py:1112: ScaperWarning: car_horn event duration (1.57) is greater that source duration (1.36), changing to 1.36\n",
      "  ScaperWarning)\n",
      "/home/js7561/dev/scaper/scaper/core.py:1112: ScaperWarning: dog_bark event duration (3.43) is greater that source duration (2.00), changing to 2.00\n",
      "  ScaperWarning)\n"
     ]
    },
    {
     "name": "stdout",
     "output_type": "stream",
     "text": [
      "Generating soundscape: 20/2000\n"
     ]
    },
    {
     "name": "stderr",
     "output_type": "stream",
     "text": [
      "/home/js7561/dev/scaper/scaper/core.py:1199: ScaperWarning: street_music event time (8.42) is too great given stretched event duration (4.02) and soundscape duration (10.00), changed to 5.98.\n",
      "  ScaperWarning)\n",
      "/home/js7561/dev/scaper/scaper/core.py:1112: ScaperWarning: drilling event duration (1.00) is greater that source duration (0.80), changing to 0.80\n",
      "  ScaperWarning)\n",
      "/home/js7561/dev/scaper/scaper/core.py:1199: ScaperWarning: car_horn event time (9.21) is too great given stretched event duration (1.75) and soundscape duration (10.00), changed to 8.25.\n",
      "  ScaperWarning)\n",
      "/home/js7561/dev/scaper/scaper/core.py:1112: ScaperWarning: gun_shot event duration (1.34) is greater that source duration (0.87), changing to 0.87\n",
      "  ScaperWarning)\n",
      "/home/js7561/dev/scaper/scaper/core.py:1199: ScaperWarning: drilling event time (8.06) is too great given stretched event duration (4.30) and soundscape duration (10.00), changed to 5.70.\n",
      "  ScaperWarning)\n"
     ]
    },
    {
     "name": "stdout",
     "output_type": "stream",
     "text": [
      "Generating soundscape: 21/2000\n"
     ]
    },
    {
     "name": "stderr",
     "output_type": "stream",
     "text": [
      "/home/js7561/dev/scaper/scaper/core.py:1112: ScaperWarning: gun_shot event duration (2.47) is greater that source duration (0.49), changing to 0.49\n",
      "  ScaperWarning)\n"
     ]
    },
    {
     "name": "stdout",
     "output_type": "stream",
     "text": [
      "Generating soundscape: 22/2000\n"
     ]
    },
    {
     "name": "stderr",
     "output_type": "stream",
     "text": [
      "/home/js7561/dev/scaper/scaper/core.py:1112: ScaperWarning: car_horn event duration (2.79) is greater that source duration (0.35), changing to 0.35\n",
      "  ScaperWarning)\n"
     ]
    },
    {
     "name": "stdout",
     "output_type": "stream",
     "text": [
      "Generating soundscape: 23/2000\n"
     ]
    },
    {
     "name": "stderr",
     "output_type": "stream",
     "text": [
      "/home/js7561/dev/scaper/scaper/core.py:1112: ScaperWarning: gun_shot event duration (3.35) is greater that source duration (2.77), changing to 2.77\n",
      "  ScaperWarning)\n"
     ]
    },
    {
     "name": "stdout",
     "output_type": "stream",
     "text": [
      "Generating soundscape: 24/2000\n"
     ]
    },
    {
     "name": "stderr",
     "output_type": "stream",
     "text": [
      "/home/js7561/dev/scaper/scaper/core.py:1112: ScaperWarning: gun_shot event duration (3.71) is greater that source duration (0.75), changing to 0.75\n",
      "  ScaperWarning)\n",
      "/home/js7561/dev/scaper/scaper/core.py:1199: ScaperWarning: gun_shot event time (9.94) is too great given stretched event duration (0.84) and soundscape duration (10.00), changed to 9.16.\n",
      "  ScaperWarning)\n",
      "/home/js7561/dev/scaper/scaper/core.py:1199: ScaperWarning: children_playing event time (8.15) is too great given stretched event duration (1.93) and soundscape duration (10.00), changed to 8.07.\n",
      "  ScaperWarning)\n",
      "/home/js7561/dev/scaper/scaper/core.py:1112: ScaperWarning: gun_shot event duration (1.13) is greater that source duration (1.00), changing to 1.00\n",
      "  ScaperWarning)\n",
      "/home/js7561/dev/scaper/scaper/core.py:1199: ScaperWarning: car_horn event time (7.79) is too great given stretched event duration (3.39) and soundscape duration (10.00), changed to 6.61.\n",
      "  ScaperWarning)\n",
      "/home/js7561/dev/scaper/scaper/core.py:1112: ScaperWarning: gun_shot event duration (2.80) is greater that source duration (0.84), changing to 0.84\n",
      "  ScaperWarning)\n"
     ]
    },
    {
     "name": "stdout",
     "output_type": "stream",
     "text": [
      "Generating soundscape: 25/2000\n"
     ]
    },
    {
     "name": "stderr",
     "output_type": "stream",
     "text": [
      "/home/js7561/dev/scaper/scaper/core.py:1112: ScaperWarning: car_horn event duration (1.00) is greater that source duration (0.75), changing to 0.75\n",
      "  ScaperWarning)\n"
     ]
    },
    {
     "name": "stdout",
     "output_type": "stream",
     "text": [
      "Generating soundscape: 26/2000\n"
     ]
    },
    {
     "name": "stderr",
     "output_type": "stream",
     "text": [
      "/home/js7561/dev/scaper/scaper/core.py:1112: ScaperWarning: car_horn event duration (1.56) is greater that source duration (0.76), changing to 0.76\n",
      "  ScaperWarning)\n",
      "/home/js7561/dev/scaper/scaper/core.py:1112: ScaperWarning: gun_shot event duration (3.64) is greater that source duration (0.63), changing to 0.63\n",
      "  ScaperWarning)\n"
     ]
    },
    {
     "name": "stdout",
     "output_type": "stream",
     "text": [
      "Generating soundscape: 27/2000\n",
      "Generating soundscape: 28/2000\n"
     ]
    },
    {
     "name": "stderr",
     "output_type": "stream",
     "text": [
      "/home/js7561/dev/scaper/scaper/core.py:1112: ScaperWarning: car_horn event duration (1.21) is greater that source duration (0.31), changing to 0.31\n",
      "  ScaperWarning)\n"
     ]
    },
    {
     "name": "stdout",
     "output_type": "stream",
     "text": [
      "Generating soundscape: 29/2000\n"
     ]
    },
    {
     "name": "stderr",
     "output_type": "stream",
     "text": [
      "/home/js7561/dev/scaper/scaper/core.py:1112: ScaperWarning: gun_shot event duration (3.65) is greater that source duration (2.45), changing to 2.45\n",
      "  ScaperWarning)\n",
      "/home/js7561/dev/scaper/scaper/core.py:1112: ScaperWarning: gun_shot event duration (1.08) is greater that source duration (1.03), changing to 1.03\n",
      "  ScaperWarning)\n"
     ]
    },
    {
     "name": "stdout",
     "output_type": "stream",
     "text": [
      "Generating soundscape: 30/2000\n",
      "Generating soundscape: 31/2000\n",
      "Generating soundscape: 32/2000\n"
     ]
    },
    {
     "name": "stderr",
     "output_type": "stream",
     "text": [
      "/home/js7561/dev/scaper/scaper/core.py:1199: ScaperWarning: engine_idling event time (9.79) is too great given stretched event duration (3.52) and soundscape duration (10.00), changed to 6.48.\n",
      "  ScaperWarning)\n"
     ]
    },
    {
     "name": "stdout",
     "output_type": "stream",
     "text": [
      "Generating soundscape: 33/2000\n"
     ]
    },
    {
     "name": "stderr",
     "output_type": "stream",
     "text": [
      "/home/js7561/dev/scaper/scaper/core.py:1112: ScaperWarning: dog_bark event duration (2.36) is greater that source duration (0.83), changing to 0.83\n",
      "  ScaperWarning)\n"
     ]
    },
    {
     "name": "stdout",
     "output_type": "stream",
     "text": [
      "Generating soundscape: 34/2000\n"
     ]
    },
    {
     "name": "stderr",
     "output_type": "stream",
     "text": [
      "/home/js7561/dev/scaper/scaper/core.py:1112: ScaperWarning: gun_shot event duration (1.69) is greater that source duration (1.33), changing to 1.33\n",
      "  ScaperWarning)\n",
      "/home/js7561/dev/scaper/scaper/core.py:1199: ScaperWarning: drilling event time (6.85) is too great given stretched event duration (3.42) and soundscape duration (10.00), changed to 6.58.\n",
      "  ScaperWarning)\n",
      "/home/js7561/dev/scaper/scaper/core.py:1199: ScaperWarning: engine_idling event time (7.84) is too great given stretched event duration (2.81) and soundscape duration (10.00), changed to 7.19.\n",
      "  ScaperWarning)\n",
      "/home/js7561/dev/scaper/scaper/core.py:1199: ScaperWarning: street_music event time (9.50) is too great given stretched event duration (2.29) and soundscape duration (10.00), changed to 7.71.\n",
      "  ScaperWarning)\n",
      "/home/js7561/dev/scaper/scaper/core.py:1112: ScaperWarning: gun_shot event duration (3.51) is greater that source duration (0.96), changing to 0.96\n",
      "  ScaperWarning)\n",
      "/home/js7561/dev/scaper/scaper/core.py:1199: ScaperWarning: air_conditioner event time (9.23) is too great given stretched event duration (1.19) and soundscape duration (10.00), changed to 8.81.\n",
      "  ScaperWarning)\n"
     ]
    },
    {
     "name": "stdout",
     "output_type": "stream",
     "text": [
      "Generating soundscape: 35/2000\n"
     ]
    },
    {
     "name": "stderr",
     "output_type": "stream",
     "text": [
      "/home/js7561/dev/scaper/scaper/core.py:1199: ScaperWarning: dog_bark event time (7.90) is too great given stretched event duration (3.61) and soundscape duration (10.00), changed to 6.39.\n",
      "  ScaperWarning)\n",
      "/home/js7561/dev/scaper/scaper/core.py:1112: ScaperWarning: children_playing event duration (1.60) is greater that source duration (1.25), changing to 1.25\n",
      "  ScaperWarning)\n"
     ]
    },
    {
     "name": "stdout",
     "output_type": "stream",
     "text": [
      "Generating soundscape: 36/2000\n"
     ]
    },
    {
     "name": "stderr",
     "output_type": "stream",
     "text": [
      "/home/js7561/dev/scaper/scaper/core.py:1199: ScaperWarning: siren event time (7.45) is too great given stretched event duration (3.01) and soundscape duration (10.00), changed to 6.99.\n",
      "  ScaperWarning)\n"
     ]
    },
    {
     "name": "stdout",
     "output_type": "stream",
     "text": [
      "Generating soundscape: 37/2000\n"
     ]
    },
    {
     "name": "stderr",
     "output_type": "stream",
     "text": [
      "/home/js7561/dev/scaper/scaper/core.py:1199: ScaperWarning: engine_idling event time (6.22) is too great given stretched event duration (4.18) and soundscape duration (10.00), changed to 5.82.\n",
      "  ScaperWarning)\n",
      "/home/js7561/dev/scaper/scaper/core.py:1199: ScaperWarning: street_music event time (8.68) is too great given stretched event duration (2.82) and soundscape duration (10.00), changed to 7.18.\n",
      "  ScaperWarning)\n",
      "/home/js7561/dev/scaper/scaper/core.py:1112: ScaperWarning: drilling event duration (1.15) is greater that source duration (1.14), changing to 1.14\n",
      "  ScaperWarning)\n",
      "/home/js7561/dev/scaper/scaper/core.py:1199: ScaperWarning: drilling event time (9.15) is too great given stretched event duration (1.06) and soundscape duration (10.00), changed to 8.94.\n",
      "  ScaperWarning)\n",
      "/home/js7561/dev/scaper/scaper/core.py:1199: ScaperWarning: children_playing event time (7.34) is too great given stretched event duration (4.15) and soundscape duration (10.00), changed to 5.85.\n",
      "  ScaperWarning)\n"
     ]
    },
    {
     "name": "stdout",
     "output_type": "stream",
     "text": [
      "Generating soundscape: 38/2000\n",
      "Generating soundscape: 39/2000\n"
     ]
    },
    {
     "name": "stderr",
     "output_type": "stream",
     "text": [
      "/home/js7561/dev/scaper/scaper/core.py:1199: ScaperWarning: street_music event time (8.93) is too great given stretched event duration (1.60) and soundscape duration (10.00), changed to 8.40.\n",
      "  ScaperWarning)\n"
     ]
    },
    {
     "name": "stdout",
     "output_type": "stream",
     "text": [
      "Generating soundscape: 40/2000\n"
     ]
    },
    {
     "name": "stderr",
     "output_type": "stream",
     "text": [
      "/home/js7561/dev/scaper/scaper/core.py:1112: ScaperWarning: dog_bark event duration (1.60) is greater that source duration (1.17), changing to 1.17\n",
      "  ScaperWarning)\n",
      "/home/js7561/dev/scaper/scaper/core.py:1112: ScaperWarning: gun_shot event duration (1.55) is greater that source duration (1.14), changing to 1.14\n",
      "  ScaperWarning)\n"
     ]
    },
    {
     "name": "stdout",
     "output_type": "stream",
     "text": [
      "Generating soundscape: 41/2000\n"
     ]
    },
    {
     "name": "stderr",
     "output_type": "stream",
     "text": [
      "/home/js7561/dev/scaper/scaper/core.py:1199: ScaperWarning: street_music event time (7.03) is too great given stretched event duration (3.66) and soundscape duration (10.00), changed to 6.34.\n",
      "  ScaperWarning)\n"
     ]
    },
    {
     "name": "stdout",
     "output_type": "stream",
     "text": [
      "Generating soundscape: 42/2000\n"
     ]
    },
    {
     "name": "stderr",
     "output_type": "stream",
     "text": [
      "/home/js7561/dev/scaper/scaper/core.py:1199: ScaperWarning: children_playing event time (8.03) is too great given stretched event duration (2.53) and soundscape duration (10.00), changed to 7.47.\n",
      "  ScaperWarning)\n"
     ]
    },
    {
     "name": "stdout",
     "output_type": "stream",
     "text": [
      "Generating soundscape: 43/2000\n"
     ]
    },
    {
     "name": "stderr",
     "output_type": "stream",
     "text": [
      "/home/js7561/dev/scaper/scaper/core.py:1112: ScaperWarning: car_horn event duration (2.92) is greater that source duration (0.06), changing to 0.06\n",
      "  ScaperWarning)\n"
     ]
    },
    {
     "name": "stdout",
     "output_type": "stream",
     "text": [
      "Generating soundscape: 44/2000\n"
     ]
    },
    {
     "name": "stderr",
     "output_type": "stream",
     "text": [
      "/home/js7561/dev/scaper/scaper/core.py:1199: ScaperWarning: engine_idling event time (7.66) is too great given stretched event duration (2.74) and soundscape duration (10.00), changed to 7.26.\n",
      "  ScaperWarning)\n"
     ]
    },
    {
     "name": "stdout",
     "output_type": "stream",
     "text": [
      "Generating soundscape: 45/2000\n"
     ]
    },
    {
     "name": "stderr",
     "output_type": "stream",
     "text": [
      "/home/js7561/dev/scaper/scaper/core.py:1112: ScaperWarning: car_horn event duration (1.85) is greater that source duration (0.11), changing to 0.11\n",
      "  ScaperWarning)\n",
      "/home/js7561/dev/scaper/scaper/core.py:1199: ScaperWarning: children_playing event time (8.61) is too great given stretched event duration (2.00) and soundscape duration (10.00), changed to 8.00.\n",
      "  ScaperWarning)\n"
     ]
    },
    {
     "name": "stdout",
     "output_type": "stream",
     "text": [
      "Generating soundscape: 46/2000\n",
      "Generating soundscape: 47/2000\n"
     ]
    },
    {
     "name": "stderr",
     "output_type": "stream",
     "text": [
      "/home/js7561/dev/scaper/scaper/core.py:1112: ScaperWarning: drilling event duration (2.42) is greater that source duration (1.28), changing to 1.28\n",
      "  ScaperWarning)\n",
      "/home/js7561/dev/scaper/scaper/core.py:1199: ScaperWarning: children_playing event time (8.27) is too great given stretched event duration (2.19) and soundscape duration (10.00), changed to 7.81.\n",
      "  ScaperWarning)\n",
      "/home/js7561/dev/scaper/scaper/core.py:1199: ScaperWarning: jackhammer event time (8.36) is too great given stretched event duration (3.50) and soundscape duration (10.00), changed to 6.50.\n",
      "  ScaperWarning)\n"
     ]
    },
    {
     "name": "stdout",
     "output_type": "stream",
     "text": [
      "Generating soundscape: 48/2000\n"
     ]
    },
    {
     "name": "stderr",
     "output_type": "stream",
     "text": [
      "/home/js7561/dev/scaper/scaper/core.py:1112: ScaperWarning: drilling event duration (3.11) is greater that source duration (2.53), changing to 2.53\n",
      "  ScaperWarning)\n",
      "/home/js7561/dev/scaper/scaper/core.py:1199: ScaperWarning: car_horn event time (9.83) is too great given stretched event duration (0.51) and soundscape duration (10.00), changed to 9.49.\n",
      "  ScaperWarning)\n"
     ]
    },
    {
     "name": "stdout",
     "output_type": "stream",
     "text": [
      "Generating soundscape: 49/2000\n"
     ]
    },
    {
     "name": "stderr",
     "output_type": "stream",
     "text": [
      "/home/js7561/dev/scaper/scaper/core.py:1112: ScaperWarning: gun_shot event duration (1.77) is greater that source duration (1.41), changing to 1.41\n",
      "  ScaperWarning)\n",
      "/home/js7561/dev/scaper/scaper/core.py:1199: ScaperWarning: air_conditioner event time (8.60) is too great given stretched event duration (1.57) and soundscape duration (10.00), changed to 8.43.\n",
      "  ScaperWarning)\n",
      "/home/js7561/dev/scaper/scaper/core.py:1199: ScaperWarning: dog_bark event time (8.89) is too great given stretched event duration (1.74) and soundscape duration (10.00), changed to 8.26.\n",
      "  ScaperWarning)\n"
     ]
    },
    {
     "name": "stdout",
     "output_type": "stream",
     "text": [
      "Generating soundscape: 50/2000\n"
     ]
    },
    {
     "name": "stderr",
     "output_type": "stream",
     "text": [
      "/home/js7561/dev/scaper/scaper/core.py:1199: ScaperWarning: jackhammer event time (7.14) is too great given stretched event duration (3.09) and soundscape duration (10.00), changed to 6.91.\n",
      "  ScaperWarning)\n",
      "/home/js7561/dev/scaper/scaper/core.py:1199: ScaperWarning: children_playing event time (9.84) is too great given stretched event duration (2.54) and soundscape duration (10.00), changed to 7.46.\n",
      "  ScaperWarning)\n",
      "/home/js7561/dev/scaper/scaper/core.py:1112: ScaperWarning: car_horn event duration (3.44) is greater that source duration (0.38), changing to 0.38\n",
      "  ScaperWarning)\n",
      "/home/js7561/dev/scaper/scaper/core.py:1112: ScaperWarning: gun_shot event duration (3.51) is greater that source duration (1.48), changing to 1.48\n",
      "  ScaperWarning)\n",
      "/home/js7561/dev/scaper/scaper/core.py:1112: ScaperWarning: dog_bark event duration (3.77) is greater that source duration (0.55), changing to 0.55\n",
      "  ScaperWarning)\n"
     ]
    },
    {
     "name": "stdout",
     "output_type": "stream",
     "text": [
      "Generating soundscape: 51/2000\n"
     ]
    },
    {
     "name": "stderr",
     "output_type": "stream",
     "text": [
      "/home/js7561/dev/scaper/scaper/core.py:1199: ScaperWarning: children_playing event time (8.45) is too great given stretched event duration (1.62) and soundscape duration (10.00), changed to 8.38.\n",
      "  ScaperWarning)\n"
     ]
    },
    {
     "name": "stdout",
     "output_type": "stream",
     "text": [
      "Generating soundscape: 52/2000\n"
     ]
    },
    {
     "name": "stderr",
     "output_type": "stream",
     "text": [
      "/home/js7561/dev/scaper/scaper/core.py:1112: ScaperWarning: air_conditioner event duration (3.74) is greater that source duration (2.04), changing to 2.04\n",
      "  ScaperWarning)\n"
     ]
    },
    {
     "name": "stdout",
     "output_type": "stream",
     "text": [
      "Generating soundscape: 53/2000\n",
      "Generating soundscape: 54/2000\n",
      "Generating soundscape: 55/2000\n"
     ]
    },
    {
     "name": "stderr",
     "output_type": "stream",
     "text": [
      "/home/js7561/dev/scaper/scaper/core.py:1112: ScaperWarning: car_horn event duration (1.36) is greater that source duration (0.18), changing to 0.18\n",
      "  ScaperWarning)\n",
      "/home/js7561/dev/scaper/scaper/core.py:1112: ScaperWarning: dog_bark event duration (3.56) is greater that source duration (1.65), changing to 1.65\n",
      "  ScaperWarning)\n"
     ]
    },
    {
     "name": "stdout",
     "output_type": "stream",
     "text": [
      "Generating soundscape: 56/2000\n"
     ]
    },
    {
     "name": "stderr",
     "output_type": "stream",
     "text": [
      "/home/js7561/dev/scaper/scaper/core.py:1112: ScaperWarning: drilling event duration (2.19) is greater that source duration (2.06), changing to 2.06\n",
      "  ScaperWarning)\n",
      "/home/js7561/dev/scaper/scaper/core.py:1112: ScaperWarning: jackhammer event duration (2.47) is greater that source duration (1.55), changing to 1.55\n",
      "  ScaperWarning)\n"
     ]
    },
    {
     "name": "stdout",
     "output_type": "stream",
     "text": [
      "Generating soundscape: 57/2000\n"
     ]
    },
    {
     "name": "stderr",
     "output_type": "stream",
     "text": [
      "/home/js7561/dev/scaper/scaper/core.py:1199: ScaperWarning: car_horn event time (8.00) is too great given stretched event duration (3.09) and soundscape duration (10.00), changed to 6.91.\n",
      "  ScaperWarning)\n",
      "/home/js7561/dev/scaper/scaper/core.py:1199: ScaperWarning: air_conditioner event time (8.18) is too great given stretched event duration (1.95) and soundscape duration (10.00), changed to 8.05.\n",
      "  ScaperWarning)\n",
      "/home/js7561/dev/scaper/scaper/core.py:1199: ScaperWarning: air_conditioner event time (8.22) is too great given stretched event duration (4.25) and soundscape duration (10.00), changed to 5.75.\n",
      "  ScaperWarning)\n"
     ]
    },
    {
     "name": "stdout",
     "output_type": "stream",
     "text": [
      "Generating soundscape: 58/2000\n",
      "Generating soundscape: 59/2000\n"
     ]
    },
    {
     "name": "stderr",
     "output_type": "stream",
     "text": [
      "/home/js7561/dev/scaper/scaper/core.py:1199: ScaperWarning: children_playing event time (8.02) is too great given stretched event duration (2.87) and soundscape duration (10.00), changed to 7.13.\n",
      "  ScaperWarning)\n",
      "/home/js7561/dev/scaper/scaper/core.py:1112: ScaperWarning: car_horn event duration (2.28) is greater that source duration (1.38), changing to 1.38\n",
      "  ScaperWarning)\n",
      "/home/js7561/dev/scaper/scaper/core.py:1112: ScaperWarning: car_horn event duration (1.14) is greater that source duration (0.80), changing to 0.80\n",
      "  ScaperWarning)\n"
     ]
    },
    {
     "name": "stdout",
     "output_type": "stream",
     "text": [
      "Generating soundscape: 60/2000\n"
     ]
    },
    {
     "name": "stderr",
     "output_type": "stream",
     "text": [
      "/home/js7561/dev/scaper/scaper/core.py:1199: ScaperWarning: jackhammer event time (6.94) is too great given stretched event duration (3.29) and soundscape duration (10.00), changed to 6.71.\n",
      "  ScaperWarning)\n"
     ]
    },
    {
     "name": "stdout",
     "output_type": "stream",
     "text": [
      "Generating soundscape: 61/2000\n"
     ]
    },
    {
     "name": "stderr",
     "output_type": "stream",
     "text": [
      "/home/js7561/dev/scaper/scaper/core.py:1112: ScaperWarning: gun_shot event duration (3.45) is greater that source duration (1.21), changing to 1.21\n",
      "  ScaperWarning)\n"
     ]
    },
    {
     "name": "stdout",
     "output_type": "stream",
     "text": [
      "Generating soundscape: 62/2000\n",
      "Generating soundscape: 63/2000\n"
     ]
    },
    {
     "name": "stderr",
     "output_type": "stream",
     "text": [
      "/home/js7561/dev/scaper/scaper/core.py:1112: ScaperWarning: gun_shot event duration (0.97) is greater that source duration (0.84), changing to 0.84\n",
      "  ScaperWarning)\n",
      "/home/js7561/dev/scaper/scaper/core.py:1112: ScaperWarning: car_horn event duration (0.69) is greater that source duration (0.47), changing to 0.47\n",
      "  ScaperWarning)\n",
      "/home/js7561/dev/scaper/scaper/core.py:1199: ScaperWarning: street_music event time (7.87) is too great given stretched event duration (3.09) and soundscape duration (10.00), changed to 6.91.\n",
      "  ScaperWarning)\n",
      "/home/js7561/dev/scaper/scaper/core.py:1199: ScaperWarning: siren event time (8.31) is too great given stretched event duration (2.50) and soundscape duration (10.00), changed to 7.50.\n",
      "  ScaperWarning)\n"
     ]
    },
    {
     "name": "stdout",
     "output_type": "stream",
     "text": [
      "Generating soundscape: 64/2000\n",
      "Generating soundscape: 65/2000\n"
     ]
    },
    {
     "name": "stderr",
     "output_type": "stream",
     "text": [
      "/home/js7561/dev/scaper/scaper/core.py:1112: ScaperWarning: drilling event duration (2.76) is greater that source duration (0.61), changing to 0.61\n",
      "  ScaperWarning)\n",
      "/home/js7561/dev/scaper/scaper/core.py:1112: ScaperWarning: gun_shot event duration (2.49) is greater that source duration (1.18), changing to 1.18\n",
      "  ScaperWarning)\n"
     ]
    },
    {
     "name": "stdout",
     "output_type": "stream",
     "text": [
      "Generating soundscape: 66/2000\n"
     ]
    },
    {
     "name": "stderr",
     "output_type": "stream",
     "text": [
      "/home/js7561/dev/scaper/scaper/core.py:1112: ScaperWarning: car_horn event duration (2.72) is greater that source duration (1.27), changing to 1.27\n",
      "  ScaperWarning)\n",
      "/home/js7561/dev/scaper/scaper/core.py:1199: ScaperWarning: air_conditioner event time (8.75) is too great given stretched event duration (2.99) and soundscape duration (10.00), changed to 7.01.\n",
      "  ScaperWarning)\n"
     ]
    },
    {
     "name": "stdout",
     "output_type": "stream",
     "text": [
      "Generating soundscape: 67/2000\n"
     ]
    },
    {
     "name": "stderr",
     "output_type": "stream",
     "text": [
      "/home/js7561/dev/scaper/scaper/core.py:1112: ScaperWarning: gun_shot event duration (1.25) is greater that source duration (0.32), changing to 0.32\n",
      "  ScaperWarning)\n",
      "/home/js7561/dev/scaper/scaper/core.py:1112: ScaperWarning: dog_bark event duration (0.81) is greater that source duration (0.73), changing to 0.73\n",
      "  ScaperWarning)\n",
      "/home/js7561/dev/scaper/scaper/core.py:1112: ScaperWarning: car_horn event duration (3.00) is greater that source duration (0.11), changing to 0.11\n",
      "  ScaperWarning)\n"
     ]
    },
    {
     "name": "stdout",
     "output_type": "stream",
     "text": [
      "Generating soundscape: 68/2000\n",
      "Generating soundscape: 69/2000\n",
      "Generating soundscape: 70/2000\n"
     ]
    },
    {
     "name": "stderr",
     "output_type": "stream",
     "text": [
      "/home/js7561/dev/scaper/scaper/core.py:1199: ScaperWarning: jackhammer event time (7.80) is too great given stretched event duration (2.28) and soundscape duration (10.00), changed to 7.72.\n",
      "  ScaperWarning)\n",
      "/home/js7561/dev/scaper/scaper/core.py:1199: ScaperWarning: jackhammer event time (7.83) is too great given stretched event duration (2.87) and soundscape duration (10.00), changed to 7.13.\n",
      "  ScaperWarning)\n"
     ]
    },
    {
     "name": "stdout",
     "output_type": "stream",
     "text": [
      "Generating soundscape: 71/2000\n",
      "Generating soundscape: 72/2000\n"
     ]
    },
    {
     "name": "stderr",
     "output_type": "stream",
     "text": [
      "/home/js7561/dev/scaper/scaper/core.py:1199: ScaperWarning: siren event time (7.12) is too great given stretched event duration (3.45) and soundscape duration (10.00), changed to 6.55.\n",
      "  ScaperWarning)\n",
      "/home/js7561/dev/scaper/scaper/core.py:1199: ScaperWarning: dog_bark event time (7.29) is too great given stretched event duration (4.23) and soundscape duration (10.00), changed to 5.77.\n",
      "  ScaperWarning)\n"
     ]
    },
    {
     "name": "stdout",
     "output_type": "stream",
     "text": [
      "Generating soundscape: 73/2000\n"
     ]
    },
    {
     "name": "stderr",
     "output_type": "stream",
     "text": [
      "/home/js7561/dev/scaper/scaper/core.py:1199: ScaperWarning: siren event time (9.72) is too great given stretched event duration (4.68) and soundscape duration (10.00), changed to 5.32.\n",
      "  ScaperWarning)\n"
     ]
    },
    {
     "name": "stdout",
     "output_type": "stream",
     "text": [
      "Generating soundscape: 74/2000\n"
     ]
    },
    {
     "name": "stderr",
     "output_type": "stream",
     "text": [
      "/home/js7561/dev/scaper/scaper/core.py:1199: ScaperWarning: siren event time (9.25) is too great given stretched event duration (0.91) and soundscape duration (10.00), changed to 9.09.\n",
      "  ScaperWarning)\n"
     ]
    },
    {
     "name": "stdout",
     "output_type": "stream",
     "text": [
      "Generating soundscape: 75/2000\n"
     ]
    },
    {
     "name": "stderr",
     "output_type": "stream",
     "text": [
      "/home/js7561/dev/scaper/scaper/core.py:1112: ScaperWarning: gun_shot event duration (2.58) is greater that source duration (0.66), changing to 0.66\n",
      "  ScaperWarning)\n"
     ]
    },
    {
     "name": "stdout",
     "output_type": "stream",
     "text": [
      "Generating soundscape: 76/2000\n",
      "Generating soundscape: 77/2000\n"
     ]
    },
    {
     "name": "stderr",
     "output_type": "stream",
     "text": [
      "/home/js7561/dev/scaper/scaper/core.py:1112: ScaperWarning: gun_shot event duration (2.17) is greater that source duration (1.33), changing to 1.33\n",
      "  ScaperWarning)\n",
      "/home/js7561/dev/scaper/scaper/core.py:1199: ScaperWarning: gun_shot event time (9.35) is too great given stretched event duration (1.21) and soundscape duration (10.00), changed to 8.79.\n",
      "  ScaperWarning)\n",
      "/home/js7561/dev/scaper/scaper/core.py:1112: ScaperWarning: gun_shot event duration (3.98) is greater that source duration (0.67), changing to 0.67\n",
      "  ScaperWarning)\n"
     ]
    },
    {
     "name": "stdout",
     "output_type": "stream",
     "text": [
      "Generating soundscape: 78/2000\n",
      "Generating soundscape: 79/2000\n"
     ]
    },
    {
     "name": "stderr",
     "output_type": "stream",
     "text": [
      "/home/js7561/dev/scaper/scaper/core.py:1112: ScaperWarning: drilling event duration (3.00) is greater that source duration (0.78), changing to 0.78\n",
      "  ScaperWarning)\n"
     ]
    },
    {
     "name": "stdout",
     "output_type": "stream",
     "text": [
      "Generating soundscape: 80/2000\n"
     ]
    },
    {
     "name": "stderr",
     "output_type": "stream",
     "text": [
      "/home/js7561/dev/scaper/scaper/core.py:1199: ScaperWarning: drilling event time (8.39) is too great given stretched event duration (2.67) and soundscape duration (10.00), changed to 7.33.\n",
      "  ScaperWarning)\n",
      "/home/js7561/dev/scaper/scaper/core.py:1199: ScaperWarning: dog_bark event time (9.79) is too great given stretched event duration (2.45) and soundscape duration (10.00), changed to 7.55.\n",
      "  ScaperWarning)\n"
     ]
    },
    {
     "name": "stdout",
     "output_type": "stream",
     "text": [
      "Generating soundscape: 81/2000\n"
     ]
    },
    {
     "name": "stderr",
     "output_type": "stream",
     "text": [
      "/home/js7561/dev/scaper/scaper/core.py:1112: ScaperWarning: dog_bark event duration (2.30) is greater that source duration (0.58), changing to 0.58\n",
      "  ScaperWarning)\n",
      "/home/js7561/dev/scaper/scaper/core.py:1199: ScaperWarning: air_conditioner event time (9.44) is too great given stretched event duration (2.05) and soundscape duration (10.00), changed to 7.95.\n",
      "  ScaperWarning)\n",
      "/home/js7561/dev/scaper/scaper/core.py:1112: ScaperWarning: gun_shot event duration (2.29) is greater that source duration (1.09), changing to 1.09\n",
      "  ScaperWarning)\n"
     ]
    },
    {
     "name": "stdout",
     "output_type": "stream",
     "text": [
      "Generating soundscape: 82/2000\n",
      "Generating soundscape: 83/2000\n",
      "Generating soundscape: 84/2000\n",
      "Generating soundscape: 85/2000\n"
     ]
    },
    {
     "name": "stderr",
     "output_type": "stream",
     "text": [
      "/home/js7561/dev/scaper/scaper/core.py:1112: ScaperWarning: drilling event duration (2.30) is greater that source duration (0.88), changing to 0.88\n",
      "  ScaperWarning)\n"
     ]
    },
    {
     "name": "stdout",
     "output_type": "stream",
     "text": [
      "Generating soundscape: 86/2000\n"
     ]
    },
    {
     "name": "stderr",
     "output_type": "stream",
     "text": [
      "/home/js7561/dev/scaper/scaper/core.py:1199: ScaperWarning: dog_bark event time (7.93) is too great given stretched event duration (4.52) and soundscape duration (10.00), changed to 5.48.\n",
      "  ScaperWarning)\n",
      "/home/js7561/dev/scaper/scaper/core.py:1112: ScaperWarning: children_playing event duration (3.14) is greater that source duration (1.50), changing to 1.50\n",
      "  ScaperWarning)\n",
      "/home/js7561/dev/scaper/scaper/core.py:1199: ScaperWarning: children_playing event time (8.83) is too great given stretched event duration (1.79) and soundscape duration (10.00), changed to 8.21.\n",
      "  ScaperWarning)\n"
     ]
    },
    {
     "name": "stdout",
     "output_type": "stream",
     "text": [
      "Generating soundscape: 87/2000\n"
     ]
    },
    {
     "name": "stderr",
     "output_type": "stream",
     "text": [
      "/home/js7561/dev/scaper/scaper/core.py:1199: ScaperWarning: street_music event time (7.66) is too great given stretched event duration (2.52) and soundscape duration (10.00), changed to 7.48.\n",
      "  ScaperWarning)\n",
      "/home/js7561/dev/scaper/scaper/core.py:1199: ScaperWarning: air_conditioner event time (7.61) is too great given stretched event duration (2.69) and soundscape duration (10.00), changed to 7.31.\n",
      "  ScaperWarning)\n"
     ]
    },
    {
     "name": "stdout",
     "output_type": "stream",
     "text": [
      "Generating soundscape: 88/2000\n"
     ]
    },
    {
     "name": "stderr",
     "output_type": "stream",
     "text": [
      "/home/js7561/dev/scaper/scaper/core.py:1112: ScaperWarning: gun_shot event duration (3.32) is greater that source duration (1.86), changing to 1.86\n",
      "  ScaperWarning)\n",
      "/home/js7561/dev/scaper/scaper/core.py:1112: ScaperWarning: dog_bark event duration (0.70) is greater that source duration (0.42), changing to 0.42\n",
      "  ScaperWarning)\n",
      "/home/js7561/dev/scaper/scaper/core.py:1112: ScaperWarning: children_playing event duration (2.42) is greater that source duration (2.14), changing to 2.14\n",
      "  ScaperWarning)\n",
      "/home/js7561/dev/scaper/scaper/core.py:1199: ScaperWarning: street_music event time (8.70) is too great given stretched event duration (3.88) and soundscape duration (10.00), changed to 6.12.\n",
      "  ScaperWarning)\n"
     ]
    },
    {
     "name": "stdout",
     "output_type": "stream",
     "text": [
      "Generating soundscape: 89/2000\n",
      "Generating soundscape: 90/2000\n"
     ]
    },
    {
     "name": "stderr",
     "output_type": "stream",
     "text": [
      "/home/js7561/dev/scaper/scaper/core.py:1112: ScaperWarning: car_horn event duration (2.18) is greater that source duration (0.05), changing to 0.05\n",
      "  ScaperWarning)\n"
     ]
    },
    {
     "name": "stdout",
     "output_type": "stream",
     "text": [
      "Generating soundscape: 91/2000\n"
     ]
    },
    {
     "name": "stderr",
     "output_type": "stream",
     "text": [
      "/home/js7561/dev/scaper/scaper/core.py:1199: ScaperWarning: air_conditioner event time (8.15) is too great given stretched event duration (2.58) and soundscape duration (10.00), changed to 7.42.\n",
      "  ScaperWarning)\n"
     ]
    },
    {
     "name": "stdout",
     "output_type": "stream",
     "text": [
      "Generating soundscape: 92/2000\n"
     ]
    },
    {
     "name": "stderr",
     "output_type": "stream",
     "text": [
      "/home/js7561/dev/scaper/scaper/core.py:1112: ScaperWarning: gun_shot event duration (2.86) is greater that source duration (1.50), changing to 1.50\n",
      "  ScaperWarning)\n"
     ]
    },
    {
     "name": "stdout",
     "output_type": "stream",
     "text": [
      "Generating soundscape: 93/2000\n"
     ]
    },
    {
     "name": "stderr",
     "output_type": "stream",
     "text": [
      "/home/js7561/dev/scaper/scaper/core.py:1199: ScaperWarning: street_music event time (8.33) is too great given stretched event duration (4.54) and soundscape duration (10.00), changed to 5.46.\n",
      "  ScaperWarning)\n"
     ]
    },
    {
     "name": "stdout",
     "output_type": "stream",
     "text": [
      "Generating soundscape: 94/2000\n"
     ]
    },
    {
     "name": "stderr",
     "output_type": "stream",
     "text": [
      "/home/js7561/dev/scaper/scaper/core.py:1112: ScaperWarning: car_horn event duration (1.93) is greater that source duration (1.38), changing to 1.38\n",
      "  ScaperWarning)\n"
     ]
    },
    {
     "name": "stdout",
     "output_type": "stream",
     "text": [
      "Generating soundscape: 95/2000\n",
      "Generating soundscape: 96/2000\n"
     ]
    },
    {
     "name": "stderr",
     "output_type": "stream",
     "text": [
      "/home/js7561/dev/scaper/scaper/core.py:1112: ScaperWarning: car_horn event duration (1.97) is greater that source duration (0.32), changing to 0.32\n",
      "  ScaperWarning)\n",
      "/home/js7561/dev/scaper/scaper/core.py:1112: ScaperWarning: jackhammer event duration (1.71) is greater that source duration (1.28), changing to 1.28\n",
      "  ScaperWarning)\n",
      "/home/js7561/dev/scaper/scaper/core.py:1199: ScaperWarning: jackhammer event time (9.92) is too great given stretched event duration (1.51) and soundscape duration (10.00), changed to 8.49.\n",
      "  ScaperWarning)\n"
     ]
    },
    {
     "name": "stdout",
     "output_type": "stream",
     "text": [
      "Generating soundscape: 97/2000\n"
     ]
    },
    {
     "name": "stderr",
     "output_type": "stream",
     "text": [
      "/home/js7561/dev/scaper/scaper/core.py:1199: ScaperWarning: car_horn event time (7.55) is too great given stretched event duration (2.49) and soundscape duration (10.00), changed to 7.51.\n",
      "  ScaperWarning)\n",
      "/home/js7561/dev/scaper/scaper/core.py:1112: ScaperWarning: car_horn event duration (0.71) is greater that source duration (0.18), changing to 0.18\n",
      "  ScaperWarning)\n"
     ]
    },
    {
     "name": "stdout",
     "output_type": "stream",
     "text": [
      "Generating soundscape: 98/2000\n"
     ]
    },
    {
     "name": "stderr",
     "output_type": "stream",
     "text": [
      "/home/js7561/dev/scaper/scaper/core.py:1112: ScaperWarning: gun_shot event duration (3.00) is greater that source duration (1.93), changing to 1.93\n",
      "  ScaperWarning)\n",
      "/home/js7561/dev/scaper/scaper/core.py:1112: ScaperWarning: gun_shot event duration (0.87) is greater that source duration (0.28), changing to 0.28\n",
      "  ScaperWarning)\n",
      "/home/js7561/dev/scaper/scaper/core.py:1112: ScaperWarning: gun_shot event duration (1.80) is greater that source duration (1.42), changing to 1.42\n",
      "  ScaperWarning)\n"
     ]
    },
    {
     "name": "stdout",
     "output_type": "stream",
     "text": [
      "Generating soundscape: 99/2000\n"
     ]
    },
    {
     "name": "stderr",
     "output_type": "stream",
     "text": [
      "/home/js7561/dev/scaper/scaper/core.py:1112: ScaperWarning: dog_bark event duration (3.35) is greater that source duration (2.80), changing to 2.80\n",
      "  ScaperWarning)\n",
      "/home/js7561/dev/scaper/scaper/core.py:1199: ScaperWarning: dog_bark event time (7.09) is too great given stretched event duration (3.76) and soundscape duration (10.00), changed to 6.24.\n",
      "  ScaperWarning)\n",
      "/home/js7561/dev/scaper/scaper/core.py:1199: ScaperWarning: air_conditioner event time (8.62) is too great given stretched event duration (2.88) and soundscape duration (10.00), changed to 7.12.\n",
      "  ScaperWarning)\n"
     ]
    },
    {
     "name": "stdout",
     "output_type": "stream",
     "text": [
      "Generating soundscape: 100/2000\n"
     ]
    },
    {
     "name": "stderr",
     "output_type": "stream",
     "text": [
      "/home/js7561/dev/scaper/scaper/core.py:1199: ScaperWarning: children_playing event time (8.25) is too great given stretched event duration (3.71) and soundscape duration (10.00), changed to 6.29.\n",
      "  ScaperWarning)\n",
      "/home/js7561/dev/scaper/scaper/core.py:1112: ScaperWarning: car_horn event duration (2.06) is greater that source duration (0.74), changing to 0.74\n",
      "  ScaperWarning)\n",
      "/home/js7561/dev/scaper/scaper/core.py:1112: ScaperWarning: car_horn event duration (2.54) is greater that source duration (1.34), changing to 1.34\n",
      "  ScaperWarning)\n",
      "/home/js7561/dev/scaper/scaper/core.py:1199: ScaperWarning: car_horn event time (9.05) is too great given stretched event duration (1.18) and soundscape duration (10.00), changed to 8.82.\n",
      "  ScaperWarning)\n",
      "/home/js7561/dev/scaper/scaper/core.py:1112: ScaperWarning: gun_shot event duration (3.58) is greater that source duration (0.60), changing to 0.60\n",
      "  ScaperWarning)\n"
     ]
    },
    {
     "name": "stdout",
     "output_type": "stream",
     "text": [
      "Generating soundscape: 101/2000\n",
      "Generating soundscape: 102/2000\n"
     ]
    },
    {
     "name": "stderr",
     "output_type": "stream",
     "text": [
      "/home/js7561/dev/scaper/scaper/core.py:1112: ScaperWarning: gun_shot event duration (3.22) is greater that source duration (0.62), changing to 0.62\n",
      "  ScaperWarning)\n",
      "/home/js7561/dev/scaper/scaper/core.py:1199: ScaperWarning: drilling event time (7.91) is too great given stretched event duration (3.13) and soundscape duration (10.00), changed to 6.87.\n",
      "  ScaperWarning)\n"
     ]
    },
    {
     "name": "stdout",
     "output_type": "stream",
     "text": [
      "Generating soundscape: 103/2000\n"
     ]
    },
    {
     "name": "stderr",
     "output_type": "stream",
     "text": [
      "/home/js7561/dev/scaper/scaper/core.py:1112: ScaperWarning: gun_shot event duration (3.79) is greater that source duration (2.23), changing to 2.23\n",
      "  ScaperWarning)\n",
      "/home/js7561/dev/scaper/scaper/core.py:1199: ScaperWarning: car_horn event time (9.52) is too great given stretched event duration (2.46) and soundscape duration (10.00), changed to 7.54.\n",
      "  ScaperWarning)\n",
      "/home/js7561/dev/scaper/scaper/core.py:1199: ScaperWarning: siren event time (8.06) is too great given stretched event duration (2.83) and soundscape duration (10.00), changed to 7.17.\n",
      "  ScaperWarning)\n",
      "/home/js7561/dev/scaper/scaper/core.py:1199: ScaperWarning: jackhammer event time (6.71) is too great given stretched event duration (3.49) and soundscape duration (10.00), changed to 6.51.\n",
      "  ScaperWarning)\n"
     ]
    },
    {
     "name": "stdout",
     "output_type": "stream",
     "text": [
      "Generating soundscape: 104/2000\n"
     ]
    },
    {
     "name": "stderr",
     "output_type": "stream",
     "text": [
      "/home/js7561/dev/scaper/scaper/core.py:1199: ScaperWarning: air_conditioner event time (7.23) is too great given stretched event duration (3.63) and soundscape duration (10.00), changed to 6.37.\n",
      "  ScaperWarning)\n"
     ]
    },
    {
     "name": "stdout",
     "output_type": "stream",
     "text": [
      "Generating soundscape: 105/2000\n",
      "Generating soundscape: 106/2000\n"
     ]
    },
    {
     "name": "stderr",
     "output_type": "stream",
     "text": [
      "/home/js7561/dev/scaper/scaper/core.py:1199: ScaperWarning: street_music event time (8.68) is too great given stretched event duration (2.86) and soundscape duration (10.00), changed to 7.14.\n",
      "  ScaperWarning)\n",
      "/home/js7561/dev/scaper/scaper/core.py:1199: ScaperWarning: engine_idling event time (8.74) is too great given stretched event duration (3.81) and soundscape duration (10.00), changed to 6.19.\n",
      "  ScaperWarning)\n"
     ]
    },
    {
     "name": "stdout",
     "output_type": "stream",
     "text": [
      "Generating soundscape: 107/2000\n",
      "Generating soundscape: 108/2000\n"
     ]
    },
    {
     "name": "stderr",
     "output_type": "stream",
     "text": [
      "/home/js7561/dev/scaper/scaper/core.py:1112: ScaperWarning: car_horn event duration (3.25) is greater that source duration (1.34), changing to 1.34\n",
      "  ScaperWarning)\n"
     ]
    },
    {
     "name": "stdout",
     "output_type": "stream",
     "text": [
      "Generating soundscape: 109/2000\n",
      "Generating soundscape: 110/2000\n"
     ]
    },
    {
     "name": "stderr",
     "output_type": "stream",
     "text": [
      "/home/js7561/dev/scaper/scaper/core.py:1199: ScaperWarning: children_playing event time (9.01) is too great given stretched event duration (3.26) and soundscape duration (10.00), changed to 6.74.\n",
      "  ScaperWarning)\n",
      "/home/js7561/dev/scaper/scaper/core.py:1112: ScaperWarning: drilling event duration (2.91) is greater that source duration (1.19), changing to 1.19\n",
      "  ScaperWarning)\n"
     ]
    },
    {
     "name": "stdout",
     "output_type": "stream",
     "text": [
      "Generating soundscape: 111/2000\n"
     ]
    },
    {
     "name": "stderr",
     "output_type": "stream",
     "text": [
      "/home/js7561/dev/scaper/scaper/core.py:1199: ScaperWarning: air_conditioner event time (9.46) is too great given stretched event duration (1.15) and soundscape duration (10.00), changed to 8.85.\n",
      "  ScaperWarning)\n",
      "/home/js7561/dev/scaper/scaper/core.py:1112: ScaperWarning: car_horn event duration (2.45) is greater that source duration (1.04), changing to 1.04\n",
      "  ScaperWarning)\n"
     ]
    },
    {
     "name": "stdout",
     "output_type": "stream",
     "text": [
      "Generating soundscape: 112/2000\n"
     ]
    },
    {
     "name": "stderr",
     "output_type": "stream",
     "text": [
      "/home/js7561/dev/scaper/scaper/core.py:1112: ScaperWarning: car_horn event duration (0.84) is greater that source duration (0.34), changing to 0.34\n",
      "  ScaperWarning)\n",
      "/home/js7561/dev/scaper/scaper/core.py:1112: ScaperWarning: gun_shot event duration (1.37) is greater that source duration (1.08), changing to 1.08\n",
      "  ScaperWarning)\n",
      "/home/js7561/dev/scaper/scaper/core.py:1199: ScaperWarning: air_conditioner event time (8.77) is too great given stretched event duration (2.39) and soundscape duration (10.00), changed to 7.61.\n",
      "  ScaperWarning)\n"
     ]
    },
    {
     "name": "stdout",
     "output_type": "stream",
     "text": [
      "Generating soundscape: 113/2000\n"
     ]
    },
    {
     "name": "stderr",
     "output_type": "stream",
     "text": [
      "/home/js7561/dev/scaper/scaper/core.py:1199: ScaperWarning: car_horn event time (6.83) is too great given stretched event duration (3.31) and soundscape duration (10.00), changed to 6.69.\n",
      "  ScaperWarning)\n",
      "/home/js7561/dev/scaper/scaper/core.py:1199: ScaperWarning: engine_idling event time (7.00) is too great given stretched event duration (3.56) and soundscape duration (10.00), changed to 6.44.\n",
      "  ScaperWarning)\n",
      "/home/js7561/dev/scaper/scaper/core.py:1112: ScaperWarning: jackhammer event duration (2.79) is greater that source duration (0.95), changing to 0.95\n",
      "  ScaperWarning)\n"
     ]
    },
    {
     "name": "stdout",
     "output_type": "stream",
     "text": [
      "Generating soundscape: 114/2000\n"
     ]
    },
    {
     "name": "stderr",
     "output_type": "stream",
     "text": [
      "/home/js7561/dev/scaper/scaper/core.py:1112: ScaperWarning: car_horn event duration (3.06) is greater that source duration (0.06), changing to 0.06\n",
      "  ScaperWarning)\n"
     ]
    },
    {
     "name": "stdout",
     "output_type": "stream",
     "text": [
      "Generating soundscape: 115/2000\n"
     ]
    },
    {
     "name": "stderr",
     "output_type": "stream",
     "text": [
      "/home/js7561/dev/scaper/scaper/core.py:1112: ScaperWarning: drilling event duration (2.43) is greater that source duration (1.95), changing to 1.95\n",
      "  ScaperWarning)\n",
      "/home/js7561/dev/scaper/scaper/core.py:1199: ScaperWarning: drilling event time (8.98) is too great given stretched event duration (1.74) and soundscape duration (10.00), changed to 8.26.\n",
      "  ScaperWarning)\n"
     ]
    },
    {
     "name": "stdout",
     "output_type": "stream",
     "text": [
      "Generating soundscape: 116/2000\n"
     ]
    },
    {
     "name": "stderr",
     "output_type": "stream",
     "text": [
      "/home/js7561/dev/scaper/scaper/core.py:1199: ScaperWarning: engine_idling event time (7.99) is too great given stretched event duration (3.34) and soundscape duration (10.00), changed to 6.66.\n",
      "  ScaperWarning)\n"
     ]
    },
    {
     "name": "stdout",
     "output_type": "stream",
     "text": [
      "Generating soundscape: 117/2000\n"
     ]
    },
    {
     "name": "stderr",
     "output_type": "stream",
     "text": [
      "/home/js7561/dev/scaper/scaper/core.py:1199: ScaperWarning: street_music event time (8.55) is too great given stretched event duration (3.23) and soundscape duration (10.00), changed to 6.77.\n",
      "  ScaperWarning)\n"
     ]
    },
    {
     "name": "stdout",
     "output_type": "stream",
     "text": [
      "Generating soundscape: 118/2000\n",
      "Generating soundscape: 119/2000\n",
      "Generating soundscape: 120/2000\n"
     ]
    },
    {
     "name": "stderr",
     "output_type": "stream",
     "text": [
      "/home/js7561/dev/scaper/scaper/core.py:1199: ScaperWarning: jackhammer event time (8.99) is too great given stretched event duration (2.96) and soundscape duration (10.00), changed to 7.04.\n",
      "  ScaperWarning)\n",
      "/home/js7561/dev/scaper/scaper/core.py:1199: ScaperWarning: drilling event time (6.96) is too great given stretched event duration (3.31) and soundscape duration (10.00), changed to 6.69.\n",
      "  ScaperWarning)\n"
     ]
    },
    {
     "name": "stdout",
     "output_type": "stream",
     "text": [
      "Generating soundscape: 121/2000\n"
     ]
    },
    {
     "name": "stderr",
     "output_type": "stream",
     "text": [
      "/home/js7561/dev/scaper/scaper/core.py:1112: ScaperWarning: car_horn event duration (3.34) is greater that source duration (0.37), changing to 0.37\n",
      "  ScaperWarning)\n",
      "/home/js7561/dev/scaper/scaper/core.py:1112: ScaperWarning: car_horn event duration (1.87) is greater that source duration (1.84), changing to 1.84\n",
      "  ScaperWarning)\n"
     ]
    },
    {
     "name": "stdout",
     "output_type": "stream",
     "text": [
      "Generating soundscape: 122/2000\n",
      "Generating soundscape: 123/2000\n"
     ]
    },
    {
     "name": "stderr",
     "output_type": "stream",
     "text": [
      "/home/js7561/dev/scaper/scaper/core.py:1112: ScaperWarning: jackhammer event duration (1.38) is greater that source duration (0.39), changing to 0.39\n",
      "  ScaperWarning)\n"
     ]
    },
    {
     "name": "stdout",
     "output_type": "stream",
     "text": [
      "Generating soundscape: 124/2000\n"
     ]
    },
    {
     "name": "stderr",
     "output_type": "stream",
     "text": [
      "/home/js7561/dev/scaper/scaper/core.py:1112: ScaperWarning: jackhammer event duration (3.62) is greater that source duration (0.94), changing to 0.94\n",
      "  ScaperWarning)\n",
      "/home/js7561/dev/scaper/scaper/core.py:1112: ScaperWarning: car_horn event duration (3.02) is greater that source duration (1.70), changing to 1.70\n",
      "  ScaperWarning)\n"
     ]
    },
    {
     "name": "stdout",
     "output_type": "stream",
     "text": [
      "Generating soundscape: 125/2000\n",
      "Generating soundscape: 126/2000\n",
      "Generating soundscape: 127/2000\n"
     ]
    },
    {
     "name": "stderr",
     "output_type": "stream",
     "text": [
      "/home/js7561/dev/scaper/scaper/core.py:1199: ScaperWarning: dog_bark event time (7.74) is too great given stretched event duration (2.61) and soundscape duration (10.00), changed to 7.39.\n",
      "  ScaperWarning)\n",
      "/home/js7561/dev/scaper/scaper/core.py:1112: ScaperWarning: gun_shot event duration (3.12) is greater that source duration (2.09), changing to 2.09\n",
      "  ScaperWarning)\n"
     ]
    },
    {
     "name": "stdout",
     "output_type": "stream",
     "text": [
      "Generating soundscape: 128/2000\n"
     ]
    },
    {
     "name": "stderr",
     "output_type": "stream",
     "text": [
      "/home/js7561/dev/scaper/scaper/core.py:1199: ScaperWarning: dog_bark event time (8.74) is too great given stretched event duration (3.06) and soundscape duration (10.00), changed to 6.94.\n",
      "  ScaperWarning)\n",
      "/home/js7561/dev/scaper/scaper/core.py:1199: ScaperWarning: jackhammer event time (6.35) is too great given stretched event duration (3.75) and soundscape duration (10.00), changed to 6.25.\n",
      "  ScaperWarning)\n"
     ]
    },
    {
     "name": "stdout",
     "output_type": "stream",
     "text": [
      "Generating soundscape: 129/2000\n"
     ]
    },
    {
     "name": "stderr",
     "output_type": "stream",
     "text": [
      "/home/js7561/dev/scaper/scaper/core.py:1199: ScaperWarning: engine_idling event time (8.69) is too great given stretched event duration (2.80) and soundscape duration (10.00), changed to 7.20.\n",
      "  ScaperWarning)\n",
      "/home/js7561/dev/scaper/scaper/core.py:1199: ScaperWarning: air_conditioner event time (8.79) is too great given stretched event duration (3.19) and soundscape duration (10.00), changed to 6.81.\n",
      "  ScaperWarning)\n"
     ]
    },
    {
     "name": "stdout",
     "output_type": "stream",
     "text": [
      "Generating soundscape: 130/2000\n"
     ]
    },
    {
     "name": "stderr",
     "output_type": "stream",
     "text": [
      "/home/js7561/dev/scaper/scaper/core.py:1199: ScaperWarning: children_playing event time (9.38) is too great given stretched event duration (3.32) and soundscape duration (10.00), changed to 6.68.\n",
      "  ScaperWarning)\n",
      "/home/js7561/dev/scaper/scaper/core.py:1199: ScaperWarning: siren event time (7.90) is too great given stretched event duration (2.68) and soundscape duration (10.00), changed to 7.32.\n",
      "  ScaperWarning)\n",
      "/home/js7561/dev/scaper/scaper/core.py:1199: ScaperWarning: siren event time (6.59) is too great given stretched event duration (3.76) and soundscape duration (10.00), changed to 6.24.\n",
      "  ScaperWarning)\n"
     ]
    },
    {
     "name": "stdout",
     "output_type": "stream",
     "text": [
      "Generating soundscape: 131/2000\n",
      "Generating soundscape: 132/2000\n"
     ]
    },
    {
     "name": "stderr",
     "output_type": "stream",
     "text": [
      "/home/js7561/dev/scaper/scaper/core.py:1199: ScaperWarning: street_music event time (8.04) is too great given stretched event duration (3.09) and soundscape duration (10.00), changed to 6.91.\n",
      "  ScaperWarning)\n",
      "/home/js7561/dev/scaper/scaper/core.py:1112: ScaperWarning: gun_shot event duration (2.53) is greater that source duration (1.02), changing to 1.02\n",
      "  ScaperWarning)\n"
     ]
    },
    {
     "name": "stdout",
     "output_type": "stream",
     "text": [
      "Generating soundscape: 133/2000\n",
      "Generating soundscape: 134/2000\n",
      "Generating soundscape: 135/2000\n",
      "Generating soundscape: 136/2000\n"
     ]
    },
    {
     "name": "stderr",
     "output_type": "stream",
     "text": [
      "/home/js7561/dev/scaper/scaper/core.py:1199: ScaperWarning: jackhammer event time (8.71) is too great given stretched event duration (1.38) and soundscape duration (10.00), changed to 8.62.\n",
      "  ScaperWarning)\n"
     ]
    },
    {
     "name": "stdout",
     "output_type": "stream",
     "text": [
      "Generating soundscape: 137/2000\n"
     ]
    },
    {
     "name": "stderr",
     "output_type": "stream",
     "text": [
      "/home/js7561/dev/scaper/scaper/core.py:1112: ScaperWarning: drilling event duration (3.64) is greater that source duration (3.53), changing to 3.53\n",
      "  ScaperWarning)\n",
      "/home/js7561/dev/scaper/scaper/core.py:1199: ScaperWarning: dog_bark event time (9.19) is too great given stretched event duration (0.85) and soundscape duration (10.00), changed to 9.15.\n",
      "  ScaperWarning)\n",
      "/home/js7561/dev/scaper/scaper/core.py:1199: ScaperWarning: siren event time (7.69) is too great given stretched event duration (2.62) and soundscape duration (10.00), changed to 7.38.\n",
      "  ScaperWarning)\n",
      "/home/js7561/dev/scaper/scaper/core.py:1199: ScaperWarning: children_playing event time (8.11) is too great given stretched event duration (3.00) and soundscape duration (10.00), changed to 7.00.\n",
      "  ScaperWarning)\n",
      "/home/js7561/dev/scaper/scaper/core.py:1199: ScaperWarning: dog_bark event time (6.44) is too great given stretched event duration (3.84) and soundscape duration (10.00), changed to 6.16.\n",
      "  ScaperWarning)\n"
     ]
    },
    {
     "name": "stdout",
     "output_type": "stream",
     "text": [
      "Generating soundscape: 138/2000\n"
     ]
    },
    {
     "name": "stderr",
     "output_type": "stream",
     "text": [
      "/home/js7561/dev/scaper/scaper/core.py:1112: ScaperWarning: car_horn event duration (3.94) is greater that source duration (3.82), changing to 3.82\n",
      "  ScaperWarning)\n",
      "/home/js7561/dev/scaper/scaper/core.py:1112: ScaperWarning: car_horn event duration (1.83) is greater that source duration (0.93), changing to 0.93\n",
      "  ScaperWarning)\n",
      "/home/js7561/dev/scaper/scaper/core.py:1199: ScaperWarning: car_horn event time (7.94) is too great given stretched event duration (3.33) and soundscape duration (10.00), changed to 6.67.\n",
      "  ScaperWarning)\n"
     ]
    },
    {
     "name": "stdout",
     "output_type": "stream",
     "text": [
      "Generating soundscape: 139/2000\n"
     ]
    },
    {
     "name": "stderr",
     "output_type": "stream",
     "text": [
      "/home/js7561/dev/scaper/scaper/core.py:1199: ScaperWarning: engine_idling event time (9.96) is too great given stretched event duration (3.05) and soundscape duration (10.00), changed to 6.95.\n",
      "  ScaperWarning)\n",
      "/home/js7561/dev/scaper/scaper/core.py:1199: ScaperWarning: drilling event time (8.73) is too great given stretched event duration (3.86) and soundscape duration (10.00), changed to 6.14.\n",
      "  ScaperWarning)\n"
     ]
    },
    {
     "name": "stdout",
     "output_type": "stream",
     "text": [
      "Generating soundscape: 140/2000\n"
     ]
    },
    {
     "name": "stderr",
     "output_type": "stream",
     "text": [
      "/home/js7561/dev/scaper/scaper/core.py:1112: ScaperWarning: car_horn event duration (3.48) is greater that source duration (0.80), changing to 0.80\n",
      "  ScaperWarning)\n"
     ]
    },
    {
     "name": "stdout",
     "output_type": "stream",
     "text": [
      "Generating soundscape: 141/2000\n"
     ]
    },
    {
     "name": "stderr",
     "output_type": "stream",
     "text": [
      "/home/js7561/dev/scaper/scaper/core.py:1112: ScaperWarning: gun_shot event duration (3.30) is greater that source duration (0.82), changing to 0.82\n",
      "  ScaperWarning)\n"
     ]
    },
    {
     "name": "stdout",
     "output_type": "stream",
     "text": [
      "Generating soundscape: 142/2000\n"
     ]
    },
    {
     "name": "stderr",
     "output_type": "stream",
     "text": [
      "/home/js7561/dev/scaper/scaper/core.py:1112: ScaperWarning: drilling event duration (1.12) is greater that source duration (0.76), changing to 0.76\n",
      "  ScaperWarning)\n"
     ]
    },
    {
     "name": "stdout",
     "output_type": "stream",
     "text": [
      "Generating soundscape: 143/2000\n"
     ]
    },
    {
     "name": "stderr",
     "output_type": "stream",
     "text": [
      "/home/js7561/dev/scaper/scaper/core.py:1199: ScaperWarning: engine_idling event time (9.68) is too great given stretched event duration (1.86) and soundscape duration (10.00), changed to 8.14.\n",
      "  ScaperWarning)\n",
      "/home/js7561/dev/scaper/scaper/core.py:1112: ScaperWarning: gun_shot event duration (3.38) is greater that source duration (2.84), changing to 2.84\n",
      "  ScaperWarning)\n",
      "/home/js7561/dev/scaper/scaper/core.py:1199: ScaperWarning: engine_idling event time (8.98) is too great given stretched event duration (1.58) and soundscape duration (10.00), changed to 8.42.\n",
      "  ScaperWarning)\n",
      "/home/js7561/dev/scaper/scaper/core.py:1112: ScaperWarning: dog_bark event duration (3.34) is greater that source duration (1.44), changing to 1.44\n",
      "  ScaperWarning)\n"
     ]
    },
    {
     "name": "stdout",
     "output_type": "stream",
     "text": [
      "Generating soundscape: 144/2000\n"
     ]
    },
    {
     "name": "stderr",
     "output_type": "stream",
     "text": [
      "/home/js7561/dev/scaper/scaper/core.py:1112: ScaperWarning: car_horn event duration (3.23) is greater that source duration (0.45), changing to 0.45\n",
      "  ScaperWarning)\n",
      "/home/js7561/dev/scaper/scaper/core.py:1112: ScaperWarning: gun_shot event duration (3.07) is greater that source duration (0.65), changing to 0.65\n",
      "  ScaperWarning)\n",
      "/home/js7561/dev/scaper/scaper/core.py:1112: ScaperWarning: dog_bark event duration (0.91) is greater that source duration (0.75), changing to 0.75\n",
      "  ScaperWarning)\n"
     ]
    },
    {
     "name": "stdout",
     "output_type": "stream",
     "text": [
      "Generating soundscape: 145/2000\n"
     ]
    },
    {
     "name": "stderr",
     "output_type": "stream",
     "text": [
      "/home/js7561/dev/scaper/scaper/core.py:1112: ScaperWarning: jackhammer event duration (3.00) is greater that source duration (1.12), changing to 1.12\n",
      "  ScaperWarning)\n",
      "/home/js7561/dev/scaper/scaper/core.py:1112: ScaperWarning: gun_shot event duration (1.43) is greater that source duration (0.18), changing to 0.18\n",
      "  ScaperWarning)\n"
     ]
    },
    {
     "name": "stdout",
     "output_type": "stream",
     "text": [
      "Generating soundscape: 146/2000\n",
      "Generating soundscape: 147/2000\n",
      "Generating soundscape: 148/2000\n",
      "Generating soundscape: 149/2000\n"
     ]
    },
    {
     "name": "stderr",
     "output_type": "stream",
     "text": [
      "/home/js7561/dev/scaper/scaper/core.py:1199: ScaperWarning: street_music event time (8.62) is too great given stretched event duration (2.43) and soundscape duration (10.00), changed to 7.57.\n",
      "  ScaperWarning)\n",
      "/home/js7561/dev/scaper/scaper/core.py:1199: ScaperWarning: engine_idling event time (7.60) is too great given stretched event duration (2.76) and soundscape duration (10.00), changed to 7.24.\n",
      "  ScaperWarning)\n"
     ]
    },
    {
     "name": "stdout",
     "output_type": "stream",
     "text": [
      "Generating soundscape: 150/2000\n"
     ]
    },
    {
     "name": "stderr",
     "output_type": "stream",
     "text": [
      "/home/js7561/dev/scaper/scaper/core.py:1199: ScaperWarning: siren event time (9.84) is too great given stretched event duration (1.71) and soundscape duration (10.00), changed to 8.29.\n",
      "  ScaperWarning)\n"
     ]
    },
    {
     "name": "stdout",
     "output_type": "stream",
     "text": [
      "Generating soundscape: 151/2000\n"
     ]
    },
    {
     "name": "stderr",
     "output_type": "stream",
     "text": [
      "/home/js7561/dev/scaper/scaper/core.py:1112: ScaperWarning: gun_shot event duration (1.96) is greater that source duration (0.50), changing to 0.50\n",
      "  ScaperWarning)\n",
      "/home/js7561/dev/scaper/scaper/core.py:1199: ScaperWarning: car_horn event time (8.24) is too great given stretched event duration (3.12) and soundscape duration (10.00), changed to 6.88.\n",
      "  ScaperWarning)\n"
     ]
    },
    {
     "name": "stdout",
     "output_type": "stream",
     "text": [
      "Generating soundscape: 152/2000\n"
     ]
    },
    {
     "name": "stderr",
     "output_type": "stream",
     "text": [
      "/home/js7561/dev/scaper/scaper/core.py:1112: ScaperWarning: car_horn event duration (1.95) is greater that source duration (1.14), changing to 1.14\n",
      "  ScaperWarning)\n",
      "/home/js7561/dev/scaper/scaper/core.py:1199: ScaperWarning: car_horn event time (9.85) is too great given stretched event duration (1.26) and soundscape duration (10.00), changed to 8.74.\n",
      "  ScaperWarning)\n"
     ]
    },
    {
     "name": "stdout",
     "output_type": "stream",
     "text": [
      "Generating soundscape: 153/2000\n"
     ]
    },
    {
     "name": "stderr",
     "output_type": "stream",
     "text": [
      "/home/js7561/dev/scaper/scaper/core.py:1199: ScaperWarning: dog_bark event time (9.75) is too great given stretched event duration (3.06) and soundscape duration (10.00), changed to 6.94.\n",
      "  ScaperWarning)\n"
     ]
    },
    {
     "name": "stdout",
     "output_type": "stream",
     "text": [
      "Generating soundscape: 154/2000\n",
      "Generating soundscape: 155/2000\n"
     ]
    },
    {
     "name": "stderr",
     "output_type": "stream",
     "text": [
      "/home/js7561/dev/scaper/scaper/core.py:1199: ScaperWarning: street_music event time (6.80) is too great given stretched event duration (3.69) and soundscape duration (10.00), changed to 6.31.\n",
      "  ScaperWarning)\n"
     ]
    },
    {
     "name": "stdout",
     "output_type": "stream",
     "text": [
      "Generating soundscape: 156/2000\n"
     ]
    },
    {
     "name": "stderr",
     "output_type": "stream",
     "text": [
      "/home/js7561/dev/scaper/scaper/core.py:1112: ScaperWarning: dog_bark event duration (3.58) is greater that source duration (1.01), changing to 1.01\n",
      "  ScaperWarning)\n",
      "/home/js7561/dev/scaper/scaper/core.py:1112: ScaperWarning: drilling event duration (0.79) is greater that source duration (0.61), changing to 0.61\n",
      "  ScaperWarning)\n"
     ]
    },
    {
     "name": "stdout",
     "output_type": "stream",
     "text": [
      "Generating soundscape: 157/2000\n"
     ]
    },
    {
     "name": "stderr",
     "output_type": "stream",
     "text": [
      "/home/js7561/dev/scaper/scaper/core.py:1112: ScaperWarning: gun_shot event duration (2.89) is greater that source duration (1.22), changing to 1.22\n",
      "  ScaperWarning)\n"
     ]
    },
    {
     "name": "stdout",
     "output_type": "stream",
     "text": [
      "Generating soundscape: 158/2000\n"
     ]
    },
    {
     "name": "stderr",
     "output_type": "stream",
     "text": [
      "/home/js7561/dev/scaper/scaper/core.py:1112: ScaperWarning: jackhammer event duration (3.67) is greater that source duration (2.99), changing to 2.99\n",
      "  ScaperWarning)\n",
      "/home/js7561/dev/scaper/scaper/core.py:1199: ScaperWarning: dog_bark event time (8.60) is too great given stretched event duration (2.28) and soundscape duration (10.00), changed to 7.72.\n",
      "  ScaperWarning)\n",
      "/home/js7561/dev/scaper/scaper/core.py:1199: ScaperWarning: engine_idling event time (8.05) is too great given stretched event duration (2.80) and soundscape duration (10.00), changed to 7.20.\n",
      "  ScaperWarning)\n",
      "/home/js7561/dev/scaper/scaper/core.py:1199: ScaperWarning: children_playing event time (6.93) is too great given stretched event duration (3.37) and soundscape duration (10.00), changed to 6.63.\n",
      "  ScaperWarning)\n",
      "/home/js7561/dev/scaper/scaper/core.py:1112: ScaperWarning: gun_shot event duration (1.20) is greater that source duration (0.48), changing to 0.48\n",
      "  ScaperWarning)\n",
      "/home/js7561/dev/scaper/scaper/core.py:1199: ScaperWarning: jackhammer event time (5.64) is too great given stretched event duration (4.61) and soundscape duration (10.00), changed to 5.39.\n",
      "  ScaperWarning)\n"
     ]
    },
    {
     "name": "stdout",
     "output_type": "stream",
     "text": [
      "Generating soundscape: 159/2000\n",
      "Generating soundscape: 160/2000\n"
     ]
    },
    {
     "name": "stderr",
     "output_type": "stream",
     "text": [
      "/home/js7561/dev/scaper/scaper/core.py:1199: ScaperWarning: engine_idling event time (9.38) is too great given stretched event duration (1.94) and soundscape duration (10.00), changed to 8.06.\n",
      "  ScaperWarning)\n"
     ]
    },
    {
     "name": "stdout",
     "output_type": "stream",
     "text": [
      "Generating soundscape: 161/2000\n"
     ]
    },
    {
     "name": "stderr",
     "output_type": "stream",
     "text": [
      "/home/js7561/dev/scaper/scaper/core.py:1199: ScaperWarning: street_music event time (9.21) is too great given stretched event duration (2.31) and soundscape duration (10.00), changed to 7.69.\n",
      "  ScaperWarning)\n",
      "/home/js7561/dev/scaper/scaper/core.py:1199: ScaperWarning: air_conditioner event time (7.93) is too great given stretched event duration (2.81) and soundscape duration (10.00), changed to 7.19.\n",
      "  ScaperWarning)\n"
     ]
    },
    {
     "name": "stdout",
     "output_type": "stream",
     "text": [
      "Generating soundscape: 162/2000\n"
     ]
    },
    {
     "name": "stderr",
     "output_type": "stream",
     "text": [
      "/home/js7561/dev/scaper/scaper/core.py:1112: ScaperWarning: car_horn event duration (2.39) is greater that source duration (1.10), changing to 1.10\n",
      "  ScaperWarning)\n",
      "/home/js7561/dev/scaper/scaper/core.py:1199: ScaperWarning: engine_idling event time (9.99) is too great given stretched event duration (2.59) and soundscape duration (10.00), changed to 7.41.\n",
      "  ScaperWarning)\n"
     ]
    },
    {
     "name": "stdout",
     "output_type": "stream",
     "text": [
      "Generating soundscape: 163/2000\n"
     ]
    },
    {
     "name": "stderr",
     "output_type": "stream",
     "text": [
      "/home/js7561/dev/scaper/scaper/core.py:1112: ScaperWarning: gun_shot event duration (2.23) is greater that source duration (1.08), changing to 1.08\n",
      "  ScaperWarning)\n"
     ]
    },
    {
     "name": "stdout",
     "output_type": "stream",
     "text": [
      "Generating soundscape: 164/2000\n"
     ]
    },
    {
     "name": "stderr",
     "output_type": "stream",
     "text": [
      "/home/js7561/dev/scaper/scaper/core.py:1199: ScaperWarning: engine_idling event time (8.40) is too great given stretched event duration (1.73) and soundscape duration (10.00), changed to 8.27.\n",
      "  ScaperWarning)\n",
      "/home/js7561/dev/scaper/scaper/core.py:1112: ScaperWarning: drilling event duration (1.67) is greater that source duration (1.23), changing to 1.23\n",
      "  ScaperWarning)\n"
     ]
    },
    {
     "name": "stdout",
     "output_type": "stream",
     "text": [
      "Generating soundscape: 165/2000\n"
     ]
    },
    {
     "name": "stderr",
     "output_type": "stream",
     "text": [
      "/home/js7561/dev/scaper/scaper/core.py:1112: ScaperWarning: jackhammer event duration (3.92) is greater that source duration (1.53), changing to 1.53\n",
      "  ScaperWarning)\n",
      "/home/js7561/dev/scaper/scaper/core.py:1112: ScaperWarning: dog_bark event duration (3.25) is greater that source duration (2.30), changing to 2.30\n",
      "  ScaperWarning)\n",
      "/home/js7561/dev/scaper/scaper/core.py:1199: ScaperWarning: jackhammer event time (9.32) is too great given stretched event duration (3.21) and soundscape duration (10.00), changed to 6.79.\n",
      "  ScaperWarning)\n",
      "/home/js7561/dev/scaper/scaper/core.py:1112: ScaperWarning: car_horn event duration (2.05) is greater that source duration (0.49), changing to 0.49\n",
      "  ScaperWarning)\n"
     ]
    },
    {
     "name": "stdout",
     "output_type": "stream",
     "text": [
      "Generating soundscape: 166/2000\n"
     ]
    },
    {
     "name": "stderr",
     "output_type": "stream",
     "text": [
      "/home/js7561/dev/scaper/scaper/core.py:1112: ScaperWarning: gun_shot event duration (1.93) is greater that source duration (1.88), changing to 1.88\n",
      "  ScaperWarning)\n",
      "/home/js7561/dev/scaper/scaper/core.py:1112: ScaperWarning: dog_bark event duration (2.05) is greater that source duration (1.99), changing to 1.99\n",
      "  ScaperWarning)\n"
     ]
    },
    {
     "name": "stdout",
     "output_type": "stream",
     "text": [
      "Generating soundscape: 167/2000\n"
     ]
    },
    {
     "name": "stderr",
     "output_type": "stream",
     "text": [
      "/home/js7561/dev/scaper/scaper/core.py:1112: ScaperWarning: gun_shot event duration (2.86) is greater that source duration (1.44), changing to 1.44\n",
      "  ScaperWarning)\n",
      "/home/js7561/dev/scaper/scaper/core.py:1112: ScaperWarning: gun_shot event duration (2.25) is greater that source duration (0.49), changing to 0.49\n",
      "  ScaperWarning)\n",
      "/home/js7561/dev/scaper/scaper/core.py:1199: ScaperWarning: air_conditioner event time (8.91) is too great given stretched event duration (3.17) and soundscape duration (10.00), changed to 6.83.\n",
      "  ScaperWarning)\n"
     ]
    },
    {
     "name": "stdout",
     "output_type": "stream",
     "text": [
      "Generating soundscape: 168/2000\n"
     ]
    },
    {
     "name": "stderr",
     "output_type": "stream",
     "text": [
      "/home/js7561/dev/scaper/scaper/core.py:1112: ScaperWarning: gun_shot event duration (1.46) is greater that source duration (0.82), changing to 0.82\n",
      "  ScaperWarning)\n",
      "/home/js7561/dev/scaper/scaper/core.py:1112: ScaperWarning: jackhammer event duration (3.98) is greater that source duration (1.55), changing to 1.55\n",
      "  ScaperWarning)\n",
      "/home/js7561/dev/scaper/scaper/core.py:1112: ScaperWarning: gun_shot event duration (2.79) is greater that source duration (1.12), changing to 1.12\n",
      "  ScaperWarning)\n"
     ]
    },
    {
     "name": "stdout",
     "output_type": "stream",
     "text": [
      "Generating soundscape: 169/2000\n"
     ]
    },
    {
     "name": "stderr",
     "output_type": "stream",
     "text": [
      "/home/js7561/dev/scaper/scaper/core.py:1199: ScaperWarning: children_playing event time (9.33) is too great given stretched event duration (1.73) and soundscape duration (10.00), changed to 8.27.\n",
      "  ScaperWarning)\n",
      "/home/js7561/dev/scaper/scaper/core.py:1199: ScaperWarning: street_music event time (7.93) is too great given stretched event duration (3.16) and soundscape duration (10.00), changed to 6.84.\n",
      "  ScaperWarning)\n",
      "/home/js7561/dev/scaper/scaper/core.py:1199: ScaperWarning: dog_bark event time (8.14) is too great given stretched event duration (2.56) and soundscape duration (10.00), changed to 7.44.\n",
      "  ScaperWarning)\n"
     ]
    },
    {
     "name": "stdout",
     "output_type": "stream",
     "text": [
      "Generating soundscape: 170/2000\n"
     ]
    },
    {
     "name": "stderr",
     "output_type": "stream",
     "text": [
      "/home/js7561/dev/scaper/scaper/core.py:1199: ScaperWarning: air_conditioner event time (9.43) is too great given stretched event duration (1.85) and soundscape duration (10.00), changed to 8.15.\n",
      "  ScaperWarning)\n",
      "/home/js7561/dev/scaper/scaper/core.py:1112: ScaperWarning: car_horn event duration (1.99) is greater that source duration (0.80), changing to 0.80\n",
      "  ScaperWarning)\n",
      "/home/js7561/dev/scaper/scaper/core.py:1112: ScaperWarning: car_horn event duration (1.49) is greater that source duration (0.99), changing to 0.99\n",
      "  ScaperWarning)\n"
     ]
    },
    {
     "name": "stdout",
     "output_type": "stream",
     "text": [
      "Generating soundscape: 171/2000\n",
      "Generating soundscape: 172/2000\n"
     ]
    },
    {
     "name": "stderr",
     "output_type": "stream",
     "text": [
      "/home/js7561/dev/scaper/scaper/core.py:1199: ScaperWarning: air_conditioner event time (8.75) is too great given stretched event duration (2.50) and soundscape duration (10.00), changed to 7.50.\n",
      "  ScaperWarning)\n",
      "/home/js7561/dev/scaper/scaper/core.py:1199: ScaperWarning: engine_idling event time (7.65) is too great given stretched event duration (2.84) and soundscape duration (10.00), changed to 7.16.\n",
      "  ScaperWarning)\n"
     ]
    },
    {
     "name": "stdout",
     "output_type": "stream",
     "text": [
      "Generating soundscape: 173/2000\n",
      "Generating soundscape: 174/2000\n",
      "Generating soundscape: 175/2000\n"
     ]
    },
    {
     "name": "stderr",
     "output_type": "stream",
     "text": [
      "/home/js7561/dev/scaper/scaper/core.py:1199: ScaperWarning: jackhammer event time (9.92) is too great given stretched event duration (0.54) and soundscape duration (10.00), changed to 9.46.\n",
      "  ScaperWarning)\n",
      "/home/js7561/dev/scaper/scaper/core.py:1112: ScaperWarning: gun_shot event duration (3.26) is greater that source duration (2.02), changing to 2.02\n",
      "  ScaperWarning)\n",
      "/home/js7561/dev/scaper/scaper/core.py:1112: ScaperWarning: gun_shot event duration (2.97) is greater that source duration (1.17), changing to 1.17\n",
      "  ScaperWarning)\n"
     ]
    },
    {
     "name": "stdout",
     "output_type": "stream",
     "text": [
      "Generating soundscape: 176/2000\n"
     ]
    },
    {
     "name": "stderr",
     "output_type": "stream",
     "text": [
      "/home/js7561/dev/scaper/scaper/core.py:1112: ScaperWarning: gun_shot event duration (2.23) is greater that source duration (1.50), changing to 1.50\n",
      "  ScaperWarning)\n",
      "/home/js7561/dev/scaper/scaper/core.py:1199: ScaperWarning: car_horn event time (9.56) is too great given stretched event duration (3.59) and soundscape duration (10.00), changed to 6.41.\n",
      "  ScaperWarning)\n",
      "/home/js7561/dev/scaper/scaper/core.py:1199: ScaperWarning: jackhammer event time (8.14) is too great given stretched event duration (3.51) and soundscape duration (10.00), changed to 6.49.\n",
      "  ScaperWarning)\n"
     ]
    },
    {
     "name": "stdout",
     "output_type": "stream",
     "text": [
      "Generating soundscape: 177/2000\n"
     ]
    },
    {
     "name": "stderr",
     "output_type": "stream",
     "text": [
      "/home/js7561/dev/scaper/scaper/core.py:1112: ScaperWarning: drilling event duration (2.52) is greater that source duration (1.74), changing to 1.74\n",
      "  ScaperWarning)\n"
     ]
    },
    {
     "name": "stdout",
     "output_type": "stream",
     "text": [
      "Generating soundscape: 178/2000\n"
     ]
    },
    {
     "name": "stderr",
     "output_type": "stream",
     "text": [
      "/home/js7561/dev/scaper/scaper/core.py:1199: ScaperWarning: siren event time (8.23) is too great given stretched event duration (3.49) and soundscape duration (10.00), changed to 6.51.\n",
      "  ScaperWarning)\n"
     ]
    },
    {
     "name": "stdout",
     "output_type": "stream",
     "text": [
      "Generating soundscape: 179/2000\n"
     ]
    },
    {
     "name": "stderr",
     "output_type": "stream",
     "text": [
      "/home/js7561/dev/scaper/scaper/core.py:1199: ScaperWarning: siren event time (8.36) is too great given stretched event duration (2.01) and soundscape duration (10.00), changed to 7.99.\n",
      "  ScaperWarning)\n",
      "/home/js7561/dev/scaper/scaper/core.py:1199: ScaperWarning: dog_bark event time (8.74) is too great given stretched event duration (3.34) and soundscape duration (10.00), changed to 6.66.\n",
      "  ScaperWarning)\n"
     ]
    },
    {
     "name": "stdout",
     "output_type": "stream",
     "text": [
      "Generating soundscape: 180/2000\n"
     ]
    },
    {
     "name": "stderr",
     "output_type": "stream",
     "text": [
      "/home/js7561/dev/scaper/scaper/core.py:1199: ScaperWarning: engine_idling event time (8.50) is too great given stretched event duration (2.27) and soundscape duration (10.00), changed to 7.73.\n",
      "  ScaperWarning)\n",
      "/home/js7561/dev/scaper/scaper/core.py:1112: ScaperWarning: gun_shot event duration (3.03) is greater that source duration (1.46), changing to 1.46\n",
      "  ScaperWarning)\n"
     ]
    },
    {
     "name": "stdout",
     "output_type": "stream",
     "text": [
      "Generating soundscape: 181/2000\n",
      "Generating soundscape: 182/2000\n"
     ]
    },
    {
     "name": "stderr",
     "output_type": "stream",
     "text": [
      "/home/js7561/dev/scaper/scaper/core.py:1112: ScaperWarning: dog_bark event duration (1.29) is greater that source duration (1.11), changing to 1.11\n",
      "  ScaperWarning)\n",
      "/home/js7561/dev/scaper/scaper/core.py:1112: ScaperWarning: car_horn event duration (0.84) is greater that source duration (0.53), changing to 0.53\n",
      "  ScaperWarning)\n"
     ]
    },
    {
     "name": "stdout",
     "output_type": "stream",
     "text": [
      "Generating soundscape: 183/2000\n",
      "Generating soundscape: 184/2000\n"
     ]
    },
    {
     "name": "stderr",
     "output_type": "stream",
     "text": [
      "/home/js7561/dev/scaper/scaper/core.py:1199: ScaperWarning: street_music event time (7.42) is too great given stretched event duration (3.26) and soundscape duration (10.00), changed to 6.74.\n",
      "  ScaperWarning)\n"
     ]
    },
    {
     "name": "stdout",
     "output_type": "stream",
     "text": [
      "Generating soundscape: 185/2000\n"
     ]
    },
    {
     "name": "stderr",
     "output_type": "stream",
     "text": [
      "/home/js7561/dev/scaper/scaper/core.py:1112: ScaperWarning: children_playing event duration (2.42) is greater that source duration (1.25), changing to 1.25\n",
      "  ScaperWarning)\n",
      "/home/js7561/dev/scaper/scaper/core.py:1112: ScaperWarning: gun_shot event duration (0.94) is greater that source duration (0.91), changing to 0.91\n",
      "  ScaperWarning)\n"
     ]
    },
    {
     "name": "stdout",
     "output_type": "stream",
     "text": [
      "Generating soundscape: 186/2000\n"
     ]
    },
    {
     "name": "stderr",
     "output_type": "stream",
     "text": [
      "/home/js7561/dev/scaper/scaper/core.py:1112: ScaperWarning: siren event duration (2.09) is greater that source duration (0.93), changing to 0.93\n",
      "  ScaperWarning)\n",
      "/home/js7561/dev/scaper/scaper/core.py:1199: ScaperWarning: engine_idling event time (9.99) is too great given stretched event duration (0.93) and soundscape duration (10.00), changed to 9.07.\n",
      "  ScaperWarning)\n",
      "/home/js7561/dev/scaper/scaper/core.py:1112: ScaperWarning: dog_bark event duration (3.70) is greater that source duration (3.48), changing to 3.48\n",
      "  ScaperWarning)\n",
      "/home/js7561/dev/scaper/scaper/core.py:1199: ScaperWarning: dog_bark event time (6.67) is too great given stretched event duration (3.83) and soundscape duration (10.00), changed to 6.17.\n",
      "  ScaperWarning)\n",
      "/home/js7561/dev/scaper/scaper/core.py:1112: ScaperWarning: gun_shot event duration (1.91) is greater that source duration (0.72), changing to 0.72\n",
      "  ScaperWarning)\n"
     ]
    },
    {
     "name": "stdout",
     "output_type": "stream",
     "text": [
      "Generating soundscape: 187/2000\n",
      "Generating soundscape: 188/2000\n",
      "Generating soundscape: 189/2000\n"
     ]
    },
    {
     "name": "stderr",
     "output_type": "stream",
     "text": [
      "/home/js7561/dev/scaper/scaper/core.py:1199: ScaperWarning: children_playing event time (6.65) is too great given stretched event duration (3.98) and soundscape duration (10.00), changed to 6.02.\n",
      "  ScaperWarning)\n",
      "/home/js7561/dev/scaper/scaper/core.py:1112: ScaperWarning: car_horn event duration (1.69) is greater that source duration (0.54), changing to 0.54\n",
      "  ScaperWarning)\n",
      "/home/js7561/dev/scaper/scaper/core.py:1199: ScaperWarning: air_conditioner event time (9.07) is too great given stretched event duration (1.12) and soundscape duration (10.00), changed to 8.88.\n",
      "  ScaperWarning)\n"
     ]
    },
    {
     "name": "stdout",
     "output_type": "stream",
     "text": [
      "Generating soundscape: 190/2000\n"
     ]
    },
    {
     "name": "stderr",
     "output_type": "stream",
     "text": [
      "/home/js7561/dev/scaper/scaper/core.py:1199: ScaperWarning: street_music event time (7.96) is too great given stretched event duration (2.71) and soundscape duration (10.00), changed to 7.29.\n",
      "  ScaperWarning)\n",
      "/home/js7561/dev/scaper/scaper/core.py:1112: ScaperWarning: gun_shot event duration (2.70) is greater that source duration (0.20), changing to 0.20\n",
      "  ScaperWarning)\n"
     ]
    },
    {
     "name": "stdout",
     "output_type": "stream",
     "text": [
      "Generating soundscape: 191/2000\n"
     ]
    },
    {
     "name": "stderr",
     "output_type": "stream",
     "text": [
      "/home/js7561/dev/scaper/scaper/core.py:1112: ScaperWarning: gun_shot event duration (2.03) is greater that source duration (1.54), changing to 1.54\n",
      "  ScaperWarning)\n",
      "/home/js7561/dev/scaper/scaper/core.py:1112: ScaperWarning: dog_bark event duration (3.46) is greater that source duration (1.26), changing to 1.26\n",
      "  ScaperWarning)\n"
     ]
    },
    {
     "name": "stdout",
     "output_type": "stream",
     "text": [
      "Generating soundscape: 192/2000\n"
     ]
    },
    {
     "name": "stderr",
     "output_type": "stream",
     "text": [
      "/home/js7561/dev/scaper/scaper/core.py:1199: ScaperWarning: air_conditioner event time (8.61) is too great given stretched event duration (1.78) and soundscape duration (10.00), changed to 8.22.\n",
      "  ScaperWarning)\n",
      "/home/js7561/dev/scaper/scaper/core.py:1112: ScaperWarning: gun_shot event duration (2.55) is greater that source duration (0.87), changing to 0.87\n",
      "  ScaperWarning)\n",
      "/home/js7561/dev/scaper/scaper/core.py:1199: ScaperWarning: gun_shot event time (9.72) is too great given stretched event duration (1.00) and soundscape duration (10.00), changed to 9.00.\n",
      "  ScaperWarning)\n",
      "/home/js7561/dev/scaper/scaper/core.py:1199: ScaperWarning: street_music event time (8.88) is too great given stretched event duration (2.47) and soundscape duration (10.00), changed to 7.53.\n",
      "  ScaperWarning)\n",
      "/home/js7561/dev/scaper/scaper/core.py:1112: ScaperWarning: car_horn event duration (3.12) is greater that source duration (0.35), changing to 0.35\n",
      "  ScaperWarning)\n"
     ]
    },
    {
     "name": "stdout",
     "output_type": "stream",
     "text": [
      "Generating soundscape: 193/2000\n"
     ]
    },
    {
     "name": "stderr",
     "output_type": "stream",
     "text": [
      "/home/js7561/dev/scaper/scaper/core.py:1112: ScaperWarning: jackhammer event duration (2.99) is greater that source duration (2.51), changing to 2.51\n",
      "  ScaperWarning)\n",
      "/home/js7561/dev/scaper/scaper/core.py:1199: ScaperWarning: jackhammer event time (8.45) is too great given stretched event duration (2.47) and soundscape duration (10.00), changed to 7.53.\n",
      "  ScaperWarning)\n",
      "/home/js7561/dev/scaper/scaper/core.py:1199: ScaperWarning: engine_idling event time (9.63) is too great given stretched event duration (3.10) and soundscape duration (10.00), changed to 6.90.\n",
      "  ScaperWarning)\n",
      "/home/js7561/dev/scaper/scaper/core.py:1199: ScaperWarning: air_conditioner event time (8.74) is too great given stretched event duration (2.01) and soundscape duration (10.00), changed to 7.99.\n",
      "  ScaperWarning)\n",
      "/home/js7561/dev/scaper/scaper/core.py:1112: ScaperWarning: gun_shot event duration (3.25) is greater that source duration (1.86), changing to 1.86\n",
      "  ScaperWarning)\n"
     ]
    },
    {
     "name": "stdout",
     "output_type": "stream",
     "text": [
      "Generating soundscape: 194/2000\n"
     ]
    },
    {
     "name": "stderr",
     "output_type": "stream",
     "text": [
      "/home/js7561/dev/scaper/scaper/core.py:1199: ScaperWarning: car_horn event time (9.92) is too great given stretched event duration (1.09) and soundscape duration (10.00), changed to 8.91.\n",
      "  ScaperWarning)\n"
     ]
    },
    {
     "name": "stdout",
     "output_type": "stream",
     "text": [
      "Generating soundscape: 195/2000\n",
      "Generating soundscape: 196/2000\n"
     ]
    },
    {
     "name": "stderr",
     "output_type": "stream",
     "text": [
      "/home/js7561/dev/scaper/scaper/core.py:1199: ScaperWarning: drilling event time (7.47) is too great given stretched event duration (3.18) and soundscape duration (10.00), changed to 6.82.\n",
      "  ScaperWarning)\n"
     ]
    },
    {
     "name": "stdout",
     "output_type": "stream",
     "text": [
      "Generating soundscape: 197/2000\n"
     ]
    },
    {
     "name": "stderr",
     "output_type": "stream",
     "text": [
      "/home/js7561/dev/scaper/scaper/core.py:1112: ScaperWarning: gun_shot event duration (2.90) is greater that source duration (1.93), changing to 1.93\n",
      "  ScaperWarning)\n"
     ]
    },
    {
     "name": "stdout",
     "output_type": "stream",
     "text": [
      "Generating soundscape: 198/2000\n"
     ]
    },
    {
     "name": "stderr",
     "output_type": "stream",
     "text": [
      "/home/js7561/dev/scaper/scaper/core.py:1112: ScaperWarning: dog_bark event duration (2.12) is greater that source duration (0.44), changing to 0.44\n",
      "  ScaperWarning)\n",
      "/home/js7561/dev/scaper/scaper/core.py:1199: ScaperWarning: car_horn event time (8.88) is too great given stretched event duration (1.90) and soundscape duration (10.00), changed to 8.10.\n",
      "  ScaperWarning)\n"
     ]
    },
    {
     "name": "stdout",
     "output_type": "stream",
     "text": [
      "Generating soundscape: 199/2000\n"
     ]
    },
    {
     "name": "stderr",
     "output_type": "stream",
     "text": [
      "/home/js7561/dev/scaper/scaper/core.py:1199: ScaperWarning: street_music event time (8.56) is too great given stretched event duration (3.25) and soundscape duration (10.00), changed to 6.75.\n",
      "  ScaperWarning)\n",
      "/home/js7561/dev/scaper/scaper/core.py:1112: ScaperWarning: gun_shot event duration (2.33) is greater that source duration (1.51), changing to 1.51\n",
      "  ScaperWarning)\n"
     ]
    },
    {
     "name": "stdout",
     "output_type": "stream",
     "text": [
      "Generating soundscape: 200/2000\n"
     ]
    },
    {
     "name": "stderr",
     "output_type": "stream",
     "text": [
      "/home/js7561/dev/scaper/scaper/core.py:1112: ScaperWarning: gun_shot event duration (1.98) is greater that source duration (1.93), changing to 1.93\n",
      "  ScaperWarning)\n"
     ]
    },
    {
     "name": "stdout",
     "output_type": "stream",
     "text": [
      "Generating soundscape: 201/2000\n"
     ]
    },
    {
     "name": "stderr",
     "output_type": "stream",
     "text": [
      "/home/js7561/dev/scaper/scaper/core.py:1199: ScaperWarning: street_music event time (7.48) is too great given stretched event duration (3.51) and soundscape duration (10.00), changed to 6.49.\n",
      "  ScaperWarning)\n",
      "/home/js7561/dev/scaper/scaper/core.py:1199: ScaperWarning: car_horn event time (8.70) is too great given stretched event duration (2.35) and soundscape duration (10.00), changed to 7.65.\n",
      "  ScaperWarning)\n"
     ]
    },
    {
     "name": "stdout",
     "output_type": "stream",
     "text": [
      "Generating soundscape: 202/2000\n",
      "Generating soundscape: 203/2000\n"
     ]
    },
    {
     "name": "stderr",
     "output_type": "stream",
     "text": [
      "/home/js7561/dev/scaper/scaper/core.py:1112: ScaperWarning: gun_shot event duration (1.23) is greater that source duration (0.50), changing to 0.50\n",
      "  ScaperWarning)\n",
      "/home/js7561/dev/scaper/scaper/core.py:1199: ScaperWarning: siren event time (9.00) is too great given stretched event duration (1.33) and soundscape duration (10.00), changed to 8.67.\n",
      "  ScaperWarning)\n",
      "/home/js7561/dev/scaper/scaper/core.py:1112: ScaperWarning: jackhammer event duration (3.77) is greater that source duration (1.19), changing to 1.19\n",
      "  ScaperWarning)\n"
     ]
    },
    {
     "name": "stdout",
     "output_type": "stream",
     "text": [
      "Generating soundscape: 204/2000\n"
     ]
    },
    {
     "name": "stderr",
     "output_type": "stream",
     "text": [
      "/home/js7561/dev/scaper/scaper/core.py:1112: ScaperWarning: dog_bark event duration (3.97) is greater that source duration (0.26), changing to 0.26\n",
      "  ScaperWarning)\n",
      "/home/js7561/dev/scaper/scaper/core.py:1112: ScaperWarning: car_horn event duration (1.04) is greater that source duration (0.42), changing to 0.42\n",
      "  ScaperWarning)\n"
     ]
    },
    {
     "name": "stdout",
     "output_type": "stream",
     "text": [
      "Generating soundscape: 205/2000\n"
     ]
    },
    {
     "name": "stderr",
     "output_type": "stream",
     "text": [
      "/home/js7561/dev/scaper/scaper/core.py:1199: ScaperWarning: engine_idling event time (6.27) is too great given stretched event duration (3.81) and soundscape duration (10.00), changed to 6.19.\n",
      "  ScaperWarning)\n",
      "/home/js7561/dev/scaper/scaper/core.py:1199: ScaperWarning: dog_bark event time (7.04) is too great given stretched event duration (4.03) and soundscape duration (10.00), changed to 5.97.\n",
      "  ScaperWarning)\n",
      "/home/js7561/dev/scaper/scaper/core.py:1199: ScaperWarning: street_music event time (8.86) is too great given stretched event duration (4.16) and soundscape duration (10.00), changed to 5.84.\n",
      "  ScaperWarning)\n"
     ]
    },
    {
     "name": "stdout",
     "output_type": "stream",
     "text": [
      "Generating soundscape: 206/2000\n"
     ]
    },
    {
     "name": "stderr",
     "output_type": "stream",
     "text": [
      "/home/js7561/dev/scaper/scaper/core.py:1199: ScaperWarning: street_music event time (8.43) is too great given stretched event duration (2.80) and soundscape duration (10.00), changed to 7.20.\n",
      "  ScaperWarning)\n",
      "/home/js7561/dev/scaper/scaper/core.py:1199: ScaperWarning: jackhammer event time (9.49) is too great given stretched event duration (2.58) and soundscape duration (10.00), changed to 7.42.\n",
      "  ScaperWarning)\n",
      "/home/js7561/dev/scaper/scaper/core.py:1199: ScaperWarning: drilling event time (9.08) is too great given stretched event duration (2.83) and soundscape duration (10.00), changed to 7.17.\n",
      "  ScaperWarning)\n",
      "/home/js7561/dev/scaper/scaper/core.py:1199: ScaperWarning: car_horn event time (9.83) is too great given stretched event duration (1.71) and soundscape duration (10.00), changed to 8.29.\n",
      "  ScaperWarning)\n",
      "/home/js7561/dev/scaper/scaper/core.py:1112: ScaperWarning: car_horn event duration (1.51) is greater that source duration (1.09), changing to 1.09\n",
      "  ScaperWarning)\n",
      "/home/js7561/dev/scaper/scaper/core.py:1199: ScaperWarning: car_horn event time (9.46) is too great given stretched event duration (1.11) and soundscape duration (10.00), changed to 8.89.\n",
      "  ScaperWarning)\n"
     ]
    },
    {
     "name": "stdout",
     "output_type": "stream",
     "text": [
      "Generating soundscape: 207/2000\n",
      "Generating soundscape: 208/2000\n",
      "Generating soundscape: 209/2000\n",
      "Generating soundscape: 210/2000\n"
     ]
    },
    {
     "name": "stderr",
     "output_type": "stream",
     "text": [
      "/home/js7561/dev/scaper/scaper/core.py:1199: ScaperWarning: children_playing event time (8.42) is too great given stretched event duration (2.10) and soundscape duration (10.00), changed to 7.90.\n",
      "  ScaperWarning)\n",
      "/home/js7561/dev/scaper/scaper/core.py:1199: ScaperWarning: street_music event time (9.10) is too great given stretched event duration (3.33) and soundscape duration (10.00), changed to 6.67.\n",
      "  ScaperWarning)\n"
     ]
    },
    {
     "name": "stdout",
     "output_type": "stream",
     "text": [
      "Generating soundscape: 211/2000\n"
     ]
    },
    {
     "name": "stderr",
     "output_type": "stream",
     "text": [
      "/home/js7561/dev/scaper/scaper/core.py:1199: ScaperWarning: drilling event time (9.21) is too great given stretched event duration (4.26) and soundscape duration (10.00), changed to 5.74.\n",
      "  ScaperWarning)\n",
      "/home/js7561/dev/scaper/scaper/core.py:1199: ScaperWarning: dog_bark event time (9.62) is too great given stretched event duration (1.17) and soundscape duration (10.00), changed to 8.83.\n",
      "  ScaperWarning)\n"
     ]
    },
    {
     "name": "stdout",
     "output_type": "stream",
     "text": [
      "Generating soundscape: 212/2000\n",
      "Generating soundscape: 213/2000\n",
      "Generating soundscape: 214/2000\n",
      "Generating soundscape: 215/2000\n",
      "Generating soundscape: 216/2000\n"
     ]
    },
    {
     "name": "stderr",
     "output_type": "stream",
     "text": [
      "/home/js7561/dev/scaper/scaper/core.py:1112: ScaperWarning: gun_shot event duration (2.93) is greater that source duration (0.48), changing to 0.48\n",
      "  ScaperWarning)\n",
      "/home/js7561/dev/scaper/scaper/core.py:1199: ScaperWarning: engine_idling event time (6.97) is too great given stretched event duration (3.19) and soundscape duration (10.00), changed to 6.81.\n",
      "  ScaperWarning)\n"
     ]
    },
    {
     "name": "stdout",
     "output_type": "stream",
     "text": [
      "Generating soundscape: 217/2000\n"
     ]
    },
    {
     "name": "stderr",
     "output_type": "stream",
     "text": [
      "/home/js7561/dev/scaper/scaper/core.py:1199: ScaperWarning: car_horn event time (7.65) is too great given stretched event duration (2.96) and soundscape duration (10.00), changed to 7.04.\n",
      "  ScaperWarning)\n",
      "/home/js7561/dev/scaper/scaper/core.py:1199: ScaperWarning: gun_shot event time (9.82) is too great given stretched event duration (1.98) and soundscape duration (10.00), changed to 8.02.\n",
      "  ScaperWarning)\n",
      "/home/js7561/dev/scaper/scaper/core.py:1112: ScaperWarning: gun_shot event duration (2.65) is greater that source duration (1.08), changing to 1.08\n",
      "  ScaperWarning)\n",
      "/home/js7561/dev/scaper/scaper/core.py:1199: ScaperWarning: gun_shot event time (9.52) is too great given stretched event duration (1.05) and soundscape duration (10.00), changed to 8.95.\n",
      "  ScaperWarning)\n"
     ]
    },
    {
     "name": "stdout",
     "output_type": "stream",
     "text": [
      "Generating soundscape: 218/2000\n"
     ]
    },
    {
     "name": "stderr",
     "output_type": "stream",
     "text": [
      "/home/js7561/dev/scaper/scaper/core.py:1199: ScaperWarning: engine_idling event time (8.85) is too great given stretched event duration (1.21) and soundscape duration (10.00), changed to 8.79.\n",
      "  ScaperWarning)\n",
      "/home/js7561/dev/scaper/scaper/core.py:1199: ScaperWarning: children_playing event time (7.65) is too great given stretched event duration (3.51) and soundscape duration (10.00), changed to 6.49.\n",
      "  ScaperWarning)\n",
      "/home/js7561/dev/scaper/scaper/core.py:1112: ScaperWarning: gun_shot event duration (1.97) is greater that source duration (0.73), changing to 0.73\n",
      "  ScaperWarning)\n"
     ]
    },
    {
     "name": "stdout",
     "output_type": "stream",
     "text": [
      "Generating soundscape: 219/2000\n"
     ]
    },
    {
     "name": "stderr",
     "output_type": "stream",
     "text": [
      "/home/js7561/dev/scaper/scaper/core.py:1112: ScaperWarning: car_horn event duration (3.47) is greater that source duration (1.10), changing to 1.10\n",
      "  ScaperWarning)\n"
     ]
    },
    {
     "name": "stdout",
     "output_type": "stream",
     "text": [
      "Generating soundscape: 220/2000\n"
     ]
    },
    {
     "name": "stderr",
     "output_type": "stream",
     "text": [
      "/home/js7561/dev/scaper/scaper/core.py:1199: ScaperWarning: siren event time (8.75) is too great given stretched event duration (3.07) and soundscape duration (10.00), changed to 6.93.\n",
      "  ScaperWarning)\n",
      "/home/js7561/dev/scaper/scaper/core.py:1112: ScaperWarning: car_horn event duration (1.12) is greater that source duration (0.19), changing to 0.19\n",
      "  ScaperWarning)\n",
      "/home/js7561/dev/scaper/scaper/core.py:1112: ScaperWarning: gun_shot event duration (2.62) is greater that source duration (2.61), changing to 2.61\n",
      "  ScaperWarning)\n",
      "/home/js7561/dev/scaper/scaper/core.py:1112: ScaperWarning: dog_bark event duration (2.70) is greater that source duration (2.39), changing to 2.39\n",
      "  ScaperWarning)\n"
     ]
    },
    {
     "name": "stdout",
     "output_type": "stream",
     "text": [
      "Generating soundscape: 221/2000\n"
     ]
    },
    {
     "name": "stderr",
     "output_type": "stream",
     "text": [
      "/home/js7561/dev/scaper/scaper/core.py:1112: ScaperWarning: gun_shot event duration (2.06) is greater that source duration (1.44), changing to 1.44\n",
      "  ScaperWarning)\n",
      "/home/js7561/dev/scaper/scaper/core.py:1199: ScaperWarning: gun_shot event time (8.61) is too great given stretched event duration (1.47) and soundscape duration (10.00), changed to 8.53.\n",
      "  ScaperWarning)\n"
     ]
    },
    {
     "name": "stdout",
     "output_type": "stream",
     "text": [
      "Generating soundscape: 222/2000\n"
     ]
    },
    {
     "name": "stderr",
     "output_type": "stream",
     "text": [
      "/home/js7561/dev/scaper/scaper/core.py:1199: ScaperWarning: children_playing event time (9.64) is too great given stretched event duration (2.47) and soundscape duration (10.00), changed to 7.53.\n",
      "  ScaperWarning)\n"
     ]
    },
    {
     "name": "stdout",
     "output_type": "stream",
     "text": [
      "Generating soundscape: 223/2000\n",
      "Generating soundscape: 224/2000\n"
     ]
    },
    {
     "name": "stderr",
     "output_type": "stream",
     "text": [
      "/home/js7561/dev/scaper/scaper/core.py:1112: ScaperWarning: jackhammer event duration (3.86) is greater that source duration (0.95), changing to 0.95\n",
      "  ScaperWarning)\n"
     ]
    },
    {
     "name": "stdout",
     "output_type": "stream",
     "text": [
      "Generating soundscape: 225/2000\n"
     ]
    },
    {
     "name": "stderr",
     "output_type": "stream",
     "text": [
      "/home/js7561/dev/scaper/scaper/core.py:1112: ScaperWarning: gun_shot event duration (3.20) is greater that source duration (0.96), changing to 0.96\n",
      "  ScaperWarning)\n",
      "/home/js7561/dev/scaper/scaper/core.py:1112: ScaperWarning: gun_shot event duration (2.84) is greater that source duration (1.95), changing to 1.95\n",
      "  ScaperWarning)\n"
     ]
    },
    {
     "name": "stdout",
     "output_type": "stream",
     "text": [
      "Generating soundscape: 226/2000\n"
     ]
    },
    {
     "name": "stderr",
     "output_type": "stream",
     "text": [
      "/home/js7561/dev/scaper/scaper/core.py:1199: ScaperWarning: siren event time (9.26) is too great given stretched event duration (3.85) and soundscape duration (10.00), changed to 6.15.\n",
      "  ScaperWarning)\n",
      "/home/js7561/dev/scaper/scaper/core.py:1199: ScaperWarning: street_music event time (8.52) is too great given stretched event duration (3.54) and soundscape duration (10.00), changed to 6.46.\n",
      "  ScaperWarning)\n"
     ]
    },
    {
     "name": "stdout",
     "output_type": "stream",
     "text": [
      "Generating soundscape: 227/2000\n",
      "Generating soundscape: 228/2000\n"
     ]
    },
    {
     "name": "stderr",
     "output_type": "stream",
     "text": [
      "/home/js7561/dev/scaper/scaper/core.py:1112: ScaperWarning: gun_shot event duration (1.43) is greater that source duration (1.06), changing to 1.06\n",
      "  ScaperWarning)\n",
      "/home/js7561/dev/scaper/scaper/core.py:1199: ScaperWarning: street_music event time (7.05) is too great given stretched event duration (3.96) and soundscape duration (10.00), changed to 6.04.\n",
      "  ScaperWarning)\n",
      "/home/js7561/dev/scaper/scaper/core.py:1199: ScaperWarning: air_conditioner event time (6.61) is too great given stretched event duration (3.49) and soundscape duration (10.00), changed to 6.51.\n",
      "  ScaperWarning)\n"
     ]
    },
    {
     "name": "stdout",
     "output_type": "stream",
     "text": [
      "Generating soundscape: 229/2000\n"
     ]
    },
    {
     "name": "stderr",
     "output_type": "stream",
     "text": [
      "/home/js7561/dev/scaper/scaper/core.py:1199: ScaperWarning: children_playing event time (7.77) is too great given stretched event duration (2.39) and soundscape duration (10.00), changed to 7.61.\n",
      "  ScaperWarning)\n",
      "/home/js7561/dev/scaper/scaper/core.py:1112: ScaperWarning: dog_bark event duration (1.08) is greater that source duration (0.52), changing to 0.52\n",
      "  ScaperWarning)\n"
     ]
    },
    {
     "name": "stdout",
     "output_type": "stream",
     "text": [
      "Generating soundscape: 230/2000\n",
      "Generating soundscape: 231/2000\n",
      "Generating soundscape: 232/2000\n"
     ]
    },
    {
     "name": "stderr",
     "output_type": "stream",
     "text": [
      "/home/js7561/dev/scaper/scaper/core.py:1199: ScaperWarning: air_conditioner event time (7.17) is too great given stretched event duration (3.68) and soundscape duration (10.00), changed to 6.32.\n",
      "  ScaperWarning)\n"
     ]
    },
    {
     "name": "stdout",
     "output_type": "stream",
     "text": [
      "Generating soundscape: 233/2000\n"
     ]
    },
    {
     "name": "stderr",
     "output_type": "stream",
     "text": [
      "/home/js7561/dev/scaper/scaper/core.py:1199: ScaperWarning: engine_idling event time (7.85) is too great given stretched event duration (2.50) and soundscape duration (10.00), changed to 7.50.\n",
      "  ScaperWarning)\n"
     ]
    },
    {
     "name": "stdout",
     "output_type": "stream",
     "text": [
      "Generating soundscape: 234/2000\n",
      "Generating soundscape: 235/2000\n"
     ]
    },
    {
     "name": "stderr",
     "output_type": "stream",
     "text": [
      "/home/js7561/dev/scaper/scaper/core.py:1199: ScaperWarning: drilling event time (7.23) is too great given stretched event duration (4.22) and soundscape duration (10.00), changed to 5.78.\n",
      "  ScaperWarning)\n",
      "/home/js7561/dev/scaper/scaper/core.py:1199: ScaperWarning: children_playing event time (8.63) is too great given stretched event duration (4.04) and soundscape duration (10.00), changed to 5.96.\n",
      "  ScaperWarning)\n"
     ]
    },
    {
     "name": "stdout",
     "output_type": "stream",
     "text": [
      "Generating soundscape: 236/2000\n",
      "Generating soundscape: 237/2000\n"
     ]
    },
    {
     "name": "stderr",
     "output_type": "stream",
     "text": [
      "/home/js7561/dev/scaper/scaper/core.py:1112: ScaperWarning: gun_shot event duration (3.58) is greater that source duration (1.79), changing to 1.79\n",
      "  ScaperWarning)\n"
     ]
    },
    {
     "name": "stdout",
     "output_type": "stream",
     "text": [
      "Generating soundscape: 238/2000\n",
      "Generating soundscape: 239/2000\n"
     ]
    },
    {
     "name": "stderr",
     "output_type": "stream",
     "text": [
      "/home/js7561/dev/scaper/scaper/core.py:1112: ScaperWarning: drilling event duration (2.03) is greater that source duration (1.99), changing to 1.99\n",
      "  ScaperWarning)\n"
     ]
    },
    {
     "name": "stdout",
     "output_type": "stream",
     "text": [
      "Generating soundscape: 240/2000\n"
     ]
    },
    {
     "name": "stderr",
     "output_type": "stream",
     "text": [
      "/home/js7561/dev/scaper/scaper/core.py:1112: ScaperWarning: children_playing event duration (3.13) is greater that source duration (2.39), changing to 2.39\n",
      "  ScaperWarning)\n"
     ]
    },
    {
     "name": "stdout",
     "output_type": "stream",
     "text": [
      "Generating soundscape: 241/2000\n"
     ]
    },
    {
     "name": "stderr",
     "output_type": "stream",
     "text": [
      "/home/js7561/dev/scaper/scaper/core.py:1112: ScaperWarning: gun_shot event duration (2.09) is greater that source duration (1.16), changing to 1.16\n",
      "  ScaperWarning)\n",
      "/home/js7561/dev/scaper/scaper/core.py:1112: ScaperWarning: gun_shot event duration (3.06) is greater that source duration (0.96), changing to 0.96\n",
      "  ScaperWarning)\n"
     ]
    },
    {
     "name": "stdout",
     "output_type": "stream",
     "text": [
      "Generating soundscape: 242/2000\n",
      "Generating soundscape: 243/2000\n"
     ]
    },
    {
     "name": "stderr",
     "output_type": "stream",
     "text": [
      "/home/js7561/dev/scaper/scaper/core.py:1112: ScaperWarning: gun_shot event duration (3.58) is greater that source duration (2.27), changing to 2.27\n",
      "  ScaperWarning)\n"
     ]
    },
    {
     "name": "stdout",
     "output_type": "stream",
     "text": [
      "Generating soundscape: 244/2000\n"
     ]
    },
    {
     "name": "stderr",
     "output_type": "stream",
     "text": [
      "/home/js7561/dev/scaper/scaper/core.py:1199: ScaperWarning: children_playing event time (9.48) is too great given stretched event duration (2.25) and soundscape duration (10.00), changed to 7.75.\n",
      "  ScaperWarning)\n"
     ]
    },
    {
     "name": "stdout",
     "output_type": "stream",
     "text": [
      "Generating soundscape: 245/2000\n"
     ]
    },
    {
     "name": "stderr",
     "output_type": "stream",
     "text": [
      "/home/js7561/dev/scaper/scaper/core.py:1112: ScaperWarning: gun_shot event duration (2.79) is greater that source duration (1.04), changing to 1.04\n",
      "  ScaperWarning)\n"
     ]
    },
    {
     "name": "stdout",
     "output_type": "stream",
     "text": [
      "Generating soundscape: 246/2000\n",
      "Generating soundscape: 247/2000\n",
      "Generating soundscape: 248/2000\n"
     ]
    },
    {
     "name": "stderr",
     "output_type": "stream",
     "text": [
      "/home/js7561/dev/scaper/scaper/core.py:1199: ScaperWarning: air_conditioner event time (8.65) is too great given stretched event duration (2.39) and soundscape duration (10.00), changed to 7.61.\n",
      "  ScaperWarning)\n",
      "/home/js7561/dev/scaper/scaper/core.py:1199: ScaperWarning: dog_bark event time (7.36) is too great given stretched event duration (3.41) and soundscape duration (10.00), changed to 6.59.\n",
      "  ScaperWarning)\n",
      "/home/js7561/dev/scaper/scaper/core.py:1112: ScaperWarning: gun_shot event duration (1.88) is greater that source duration (1.35), changing to 1.35\n",
      "  ScaperWarning)\n"
     ]
    },
    {
     "name": "stdout",
     "output_type": "stream",
     "text": [
      "Generating soundscape: 249/2000\n",
      "Generating soundscape: 250/2000\n",
      "Generating soundscape: 251/2000\n"
     ]
    },
    {
     "name": "stderr",
     "output_type": "stream",
     "text": [
      "/home/js7561/dev/scaper/scaper/core.py:1112: ScaperWarning: air_conditioner event duration (3.68) is greater that source duration (2.39), changing to 2.39\n",
      "  ScaperWarning)\n"
     ]
    },
    {
     "name": "stdout",
     "output_type": "stream",
     "text": [
      "Generating soundscape: 252/2000\n"
     ]
    },
    {
     "name": "stderr",
     "output_type": "stream",
     "text": [
      "/home/js7561/dev/scaper/scaper/core.py:1112: ScaperWarning: gun_shot event duration (1.70) is greater that source duration (0.67), changing to 0.67\n",
      "  ScaperWarning)\n",
      "/home/js7561/dev/scaper/scaper/core.py:1199: ScaperWarning: siren event time (8.87) is too great given stretched event duration (2.07) and soundscape duration (10.00), changed to 7.93.\n",
      "  ScaperWarning)\n",
      "/home/js7561/dev/scaper/scaper/core.py:1199: ScaperWarning: car_horn event time (7.67) is too great given stretched event duration (2.64) and soundscape duration (10.00), changed to 7.36.\n",
      "  ScaperWarning)\n"
     ]
    },
    {
     "name": "stdout",
     "output_type": "stream",
     "text": [
      "Generating soundscape: 253/2000\n",
      "Generating soundscape: 254/2000\n",
      "Generating soundscape: 255/2000\n",
      "Generating soundscape: 256/2000\n",
      "Generating soundscape: 257/2000\n",
      "Generating soundscape: 258/2000\n",
      "Generating soundscape: 259/2000\n"
     ]
    },
    {
     "name": "stderr",
     "output_type": "stream",
     "text": [
      "/home/js7561/dev/scaper/scaper/core.py:1112: ScaperWarning: gun_shot event duration (3.09) is greater that source duration (1.14), changing to 1.14\n",
      "  ScaperWarning)\n"
     ]
    },
    {
     "name": "stdout",
     "output_type": "stream",
     "text": [
      "Generating soundscape: 260/2000\n"
     ]
    },
    {
     "name": "stderr",
     "output_type": "stream",
     "text": [
      "/home/js7561/dev/scaper/scaper/core.py:1199: ScaperWarning: drilling event time (9.71) is too great given stretched event duration (1.70) and soundscape duration (10.00), changed to 8.30.\n",
      "  ScaperWarning)\n",
      "/home/js7561/dev/scaper/scaper/core.py:1112: ScaperWarning: gun_shot event duration (2.95) is greater that source duration (2.45), changing to 2.45\n",
      "  ScaperWarning)\n"
     ]
    },
    {
     "name": "stdout",
     "output_type": "stream",
     "text": [
      "Generating soundscape: 261/2000\n"
     ]
    },
    {
     "name": "stderr",
     "output_type": "stream",
     "text": [
      "/home/js7561/dev/scaper/scaper/core.py:1199: ScaperWarning: car_horn event time (8.40) is too great given stretched event duration (1.99) and soundscape duration (10.00), changed to 8.01.\n",
      "  ScaperWarning)\n",
      "/home/js7561/dev/scaper/scaper/core.py:1112: ScaperWarning: gun_shot event duration (2.87) is greater that source duration (1.93), changing to 1.93\n",
      "  ScaperWarning)\n",
      "/home/js7561/dev/scaper/scaper/core.py:1199: ScaperWarning: engine_idling event time (7.96) is too great given stretched event duration (2.73) and soundscape duration (10.00), changed to 7.27.\n",
      "  ScaperWarning)\n",
      "/home/js7561/dev/scaper/scaper/core.py:1112: ScaperWarning: gun_shot event duration (2.04) is greater that source duration (1.61), changing to 1.61\n",
      "  ScaperWarning)\n",
      "/home/js7561/dev/scaper/scaper/core.py:1199: ScaperWarning: dog_bark event time (9.49) is too great given stretched event duration (0.66) and soundscape duration (10.00), changed to 9.34.\n",
      "  ScaperWarning)\n"
     ]
    },
    {
     "name": "stdout",
     "output_type": "stream",
     "text": [
      "Generating soundscape: 262/2000\n",
      "Generating soundscape: 263/2000\n"
     ]
    },
    {
     "name": "stderr",
     "output_type": "stream",
     "text": [
      "/home/js7561/dev/scaper/scaper/core.py:1112: ScaperWarning: dog_bark event duration (3.05) is greater that source duration (2.99), changing to 2.99\n",
      "  ScaperWarning)\n"
     ]
    },
    {
     "name": "stdout",
     "output_type": "stream",
     "text": [
      "Generating soundscape: 264/2000\n"
     ]
    },
    {
     "name": "stderr",
     "output_type": "stream",
     "text": [
      "/home/js7561/dev/scaper/scaper/core.py:1112: ScaperWarning: gun_shot event duration (1.02) is greater that source duration (0.42), changing to 0.42\n",
      "  ScaperWarning)\n"
     ]
    },
    {
     "name": "stdout",
     "output_type": "stream",
     "text": [
      "Generating soundscape: 265/2000\n"
     ]
    },
    {
     "name": "stderr",
     "output_type": "stream",
     "text": [
      "/home/js7561/dev/scaper/scaper/core.py:1112: ScaperWarning: gun_shot event duration (2.62) is greater that source duration (0.72), changing to 0.72\n",
      "  ScaperWarning)\n",
      "/home/js7561/dev/scaper/scaper/core.py:1199: ScaperWarning: drilling event time (8.26) is too great given stretched event duration (3.89) and soundscape duration (10.00), changed to 6.11.\n",
      "  ScaperWarning)\n"
     ]
    },
    {
     "name": "stdout",
     "output_type": "stream",
     "text": [
      "Generating soundscape: 266/2000\n"
     ]
    },
    {
     "name": "stderr",
     "output_type": "stream",
     "text": [
      "/home/js7561/dev/scaper/scaper/core.py:1112: ScaperWarning: dog_bark event duration (3.28) is greater that source duration (1.94), changing to 1.94\n",
      "  ScaperWarning)\n",
      "/home/js7561/dev/scaper/scaper/core.py:1112: ScaperWarning: drilling event duration (3.84) is greater that source duration (0.62), changing to 0.62\n",
      "  ScaperWarning)\n"
     ]
    },
    {
     "name": "stdout",
     "output_type": "stream",
     "text": [
      "Generating soundscape: 267/2000\n",
      "Generating soundscape: 268/2000\n"
     ]
    },
    {
     "name": "stderr",
     "output_type": "stream",
     "text": [
      "/home/js7561/dev/scaper/scaper/core.py:1112: ScaperWarning: gun_shot event duration (3.56) is greater that source duration (0.62), changing to 0.62\n",
      "  ScaperWarning)\n"
     ]
    },
    {
     "name": "stdout",
     "output_type": "stream",
     "text": [
      "Generating soundscape: 269/2000\n",
      "Generating soundscape: 270/2000\n"
     ]
    },
    {
     "name": "stderr",
     "output_type": "stream",
     "text": [
      "/home/js7561/dev/scaper/scaper/core.py:1199: ScaperWarning: jackhammer event time (9.00) is too great given stretched event duration (3.35) and soundscape duration (10.00), changed to 6.65.\n",
      "  ScaperWarning)\n"
     ]
    },
    {
     "name": "stdout",
     "output_type": "stream",
     "text": [
      "Generating soundscape: 271/2000\n"
     ]
    },
    {
     "name": "stderr",
     "output_type": "stream",
     "text": [
      "/home/js7561/dev/scaper/scaper/core.py:1199: ScaperWarning: engine_idling event time (6.68) is too great given stretched event duration (3.64) and soundscape duration (10.00), changed to 6.36.\n",
      "  ScaperWarning)\n"
     ]
    },
    {
     "name": "stdout",
     "output_type": "stream",
     "text": [
      "Generating soundscape: 272/2000\n"
     ]
    },
    {
     "name": "stderr",
     "output_type": "stream",
     "text": [
      "/home/js7561/dev/scaper/scaper/core.py:1112: ScaperWarning: car_horn event duration (1.33) is greater that source duration (0.18), changing to 0.18\n",
      "  ScaperWarning)\n",
      "/home/js7561/dev/scaper/scaper/core.py:1112: ScaperWarning: dog_bark event duration (3.72) is greater that source duration (1.16), changing to 1.16\n",
      "  ScaperWarning)\n",
      "/home/js7561/dev/scaper/scaper/core.py:1112: ScaperWarning: car_horn event duration (3.95) is greater that source duration (2.11), changing to 2.11\n",
      "  ScaperWarning)\n",
      "/home/js7561/dev/scaper/scaper/core.py:1199: ScaperWarning: air_conditioner event time (9.86) is too great given stretched event duration (1.71) and soundscape duration (10.00), changed to 8.29.\n",
      "  ScaperWarning)\n"
     ]
    },
    {
     "name": "stdout",
     "output_type": "stream",
     "text": [
      "Generating soundscape: 273/2000\n"
     ]
    },
    {
     "name": "stderr",
     "output_type": "stream",
     "text": [
      "/home/js7561/dev/scaper/scaper/core.py:1112: ScaperWarning: drilling event duration (1.57) is greater that source duration (0.83), changing to 0.83\n",
      "  ScaperWarning)\n"
     ]
    },
    {
     "name": "stdout",
     "output_type": "stream",
     "text": [
      "Generating soundscape: 274/2000\n"
     ]
    },
    {
     "name": "stderr",
     "output_type": "stream",
     "text": [
      "/home/js7561/dev/scaper/scaper/core.py:1199: ScaperWarning: engine_idling event time (9.69) is too great given stretched event duration (3.92) and soundscape duration (10.00), changed to 6.08.\n",
      "  ScaperWarning)\n",
      "/home/js7561/dev/scaper/scaper/core.py:1199: ScaperWarning: jackhammer event time (7.17) is too great given stretched event duration (3.11) and soundscape duration (10.00), changed to 6.89.\n",
      "  ScaperWarning)\n",
      "/home/js7561/dev/scaper/scaper/core.py:1112: ScaperWarning: dog_bark event duration (3.60) is greater that source duration (0.76), changing to 0.76\n",
      "  ScaperWarning)\n",
      "/home/js7561/dev/scaper/scaper/core.py:1112: ScaperWarning: dog_bark event duration (2.16) is greater that source duration (0.49), changing to 0.49\n",
      "  ScaperWarning)\n",
      "/home/js7561/dev/scaper/scaper/core.py:1112: ScaperWarning: gun_shot event duration (2.16) is greater that source duration (2.03), changing to 2.03\n",
      "  ScaperWarning)\n"
     ]
    },
    {
     "name": "stdout",
     "output_type": "stream",
     "text": [
      "Generating soundscape: 275/2000\n"
     ]
    },
    {
     "name": "stderr",
     "output_type": "stream",
     "text": [
      "/home/js7561/dev/scaper/scaper/core.py:1199: ScaperWarning: engine_idling event time (9.87) is too great given stretched event duration (2.01) and soundscape duration (10.00), changed to 7.99.\n",
      "  ScaperWarning)\n",
      "/home/js7561/dev/scaper/scaper/core.py:1112: ScaperWarning: car_horn event duration (3.74) is greater that source duration (1.04), changing to 1.04\n",
      "  ScaperWarning)\n"
     ]
    },
    {
     "name": "stdout",
     "output_type": "stream",
     "text": [
      "Generating soundscape: 276/2000\n"
     ]
    },
    {
     "name": "stderr",
     "output_type": "stream",
     "text": [
      "/home/js7561/dev/scaper/scaper/core.py:1199: ScaperWarning: siren event time (8.49) is too great given stretched event duration (2.70) and soundscape duration (10.00), changed to 7.30.\n",
      "  ScaperWarning)\n"
     ]
    },
    {
     "name": "stdout",
     "output_type": "stream",
     "text": [
      "Generating soundscape: 277/2000\n"
     ]
    },
    {
     "name": "stderr",
     "output_type": "stream",
     "text": [
      "/home/js7561/dev/scaper/scaper/core.py:1112: ScaperWarning: car_horn event duration (2.92) is greater that source duration (0.20), changing to 0.20\n",
      "  ScaperWarning)\n",
      "/home/js7561/dev/scaper/scaper/core.py:1112: ScaperWarning: dog_bark event duration (1.01) is greater that source duration (0.81), changing to 0.81\n",
      "  ScaperWarning)\n"
     ]
    },
    {
     "name": "stdout",
     "output_type": "stream",
     "text": [
      "Generating soundscape: 278/2000\n"
     ]
    },
    {
     "name": "stderr",
     "output_type": "stream",
     "text": [
      "/home/js7561/dev/scaper/scaper/core.py:1199: ScaperWarning: jackhammer event time (7.24) is too great given stretched event duration (3.32) and soundscape duration (10.00), changed to 6.68.\n",
      "  ScaperWarning)\n"
     ]
    },
    {
     "name": "stdout",
     "output_type": "stream",
     "text": [
      "Generating soundscape: 279/2000\n"
     ]
    },
    {
     "name": "stderr",
     "output_type": "stream",
     "text": [
      "/home/js7561/dev/scaper/scaper/core.py:1112: ScaperWarning: car_horn event duration (1.75) is greater that source duration (1.44), changing to 1.44\n",
      "  ScaperWarning)\n",
      "/home/js7561/dev/scaper/scaper/core.py:1112: ScaperWarning: gun_shot event duration (1.66) is greater that source duration (0.75), changing to 0.75\n",
      "  ScaperWarning)\n"
     ]
    },
    {
     "name": "stdout",
     "output_type": "stream",
     "text": [
      "Generating soundscape: 280/2000\n"
     ]
    },
    {
     "name": "stderr",
     "output_type": "stream",
     "text": [
      "/home/js7561/dev/scaper/scaper/core.py:1112: ScaperWarning: gun_shot event duration (2.63) is greater that source duration (1.10), changing to 1.10\n",
      "  ScaperWarning)\n",
      "/home/js7561/dev/scaper/scaper/core.py:1112: ScaperWarning: car_horn event duration (3.87) is greater that source duration (1.29), changing to 1.29\n",
      "  ScaperWarning)\n",
      "/home/js7561/dev/scaper/scaper/core.py:1199: ScaperWarning: car_horn event time (9.32) is too great given stretched event duration (1.50) and soundscape duration (10.00), changed to 8.50.\n",
      "  ScaperWarning)\n"
     ]
    },
    {
     "name": "stdout",
     "output_type": "stream",
     "text": [
      "Generating soundscape: 281/2000\n"
     ]
    },
    {
     "name": "stderr",
     "output_type": "stream",
     "text": [
      "/home/js7561/dev/scaper/scaper/core.py:1112: ScaperWarning: dog_bark event duration (3.79) is greater that source duration (1.22), changing to 1.22\n",
      "  ScaperWarning)\n"
     ]
    },
    {
     "name": "stdout",
     "output_type": "stream",
     "text": [
      "Generating soundscape: 282/2000\n"
     ]
    },
    {
     "name": "stderr",
     "output_type": "stream",
     "text": [
      "/home/js7561/dev/scaper/scaper/core.py:1199: ScaperWarning: dog_bark event time (9.59) is too great given stretched event duration (1.10) and soundscape duration (10.00), changed to 8.90.\n",
      "  ScaperWarning)\n",
      "/home/js7561/dev/scaper/scaper/core.py:1112: ScaperWarning: gun_shot event duration (2.19) is greater that source duration (2.08), changing to 2.08\n",
      "  ScaperWarning)\n"
     ]
    },
    {
     "name": "stdout",
     "output_type": "stream",
     "text": [
      "Generating soundscape: 283/2000\n",
      "Generating soundscape: 284/2000\n"
     ]
    },
    {
     "name": "stderr",
     "output_type": "stream",
     "text": [
      "/home/js7561/dev/scaper/scaper/core.py:1199: ScaperWarning: car_horn event time (8.48) is too great given stretched event duration (2.95) and soundscape duration (10.00), changed to 7.05.\n",
      "  ScaperWarning)\n",
      "/home/js7561/dev/scaper/scaper/core.py:1112: ScaperWarning: gun_shot event duration (2.63) is greater that source duration (1.33), changing to 1.33\n",
      "  ScaperWarning)\n",
      "/home/js7561/dev/scaper/scaper/core.py:1199: ScaperWarning: jackhammer event time (9.73) is too great given stretched event duration (1.21) and soundscape duration (10.00), changed to 8.79.\n",
      "  ScaperWarning)\n"
     ]
    },
    {
     "name": "stdout",
     "output_type": "stream",
     "text": [
      "Generating soundscape: 285/2000\n"
     ]
    },
    {
     "name": "stderr",
     "output_type": "stream",
     "text": [
      "/home/js7561/dev/scaper/scaper/core.py:1199: ScaperWarning: air_conditioner event time (9.90) is too great given stretched event duration (2.98) and soundscape duration (10.00), changed to 7.02.\n",
      "  ScaperWarning)\n",
      "/home/js7561/dev/scaper/scaper/core.py:1199: ScaperWarning: dog_bark event time (9.79) is too great given stretched event duration (1.61) and soundscape duration (10.00), changed to 8.39.\n",
      "  ScaperWarning)\n",
      "/home/js7561/dev/scaper/scaper/core.py:1112: ScaperWarning: gun_shot event duration (2.25) is greater that source duration (1.50), changing to 1.50\n",
      "  ScaperWarning)\n"
     ]
    },
    {
     "name": "stdout",
     "output_type": "stream",
     "text": [
      "Generating soundscape: 286/2000\n"
     ]
    },
    {
     "name": "stderr",
     "output_type": "stream",
     "text": [
      "/home/js7561/dev/scaper/scaper/core.py:1199: ScaperWarning: drilling event time (8.73) is too great given stretched event duration (2.53) and soundscape duration (10.00), changed to 7.47.\n",
      "  ScaperWarning)\n",
      "/home/js7561/dev/scaper/scaper/core.py:1112: ScaperWarning: dog_bark event duration (3.59) is greater that source duration (0.76), changing to 0.76\n",
      "  ScaperWarning)\n",
      "/home/js7561/dev/scaper/scaper/core.py:1199: ScaperWarning: siren event time (7.72) is too great given stretched event duration (2.33) and soundscape duration (10.00), changed to 7.67.\n",
      "  ScaperWarning)\n",
      "/home/js7561/dev/scaper/scaper/core.py:1112: ScaperWarning: gun_shot event duration (1.06) is greater that source duration (0.32), changing to 0.32\n",
      "  ScaperWarning)\n"
     ]
    },
    {
     "name": "stdout",
     "output_type": "stream",
     "text": [
      "Generating soundscape: 287/2000\n",
      "Generating soundscape: 288/2000\n"
     ]
    },
    {
     "name": "stderr",
     "output_type": "stream",
     "text": [
      "/home/js7561/dev/scaper/scaper/core.py:1199: ScaperWarning: engine_idling event time (8.28) is too great given stretched event duration (3.18) and soundscape duration (10.00), changed to 6.82.\n",
      "  ScaperWarning)\n"
     ]
    },
    {
     "name": "stdout",
     "output_type": "stream",
     "text": [
      "Generating soundscape: 289/2000\n"
     ]
    },
    {
     "name": "stderr",
     "output_type": "stream",
     "text": [
      "/home/js7561/dev/scaper/scaper/core.py:1199: ScaperWarning: street_music event time (6.72) is too great given stretched event duration (3.41) and soundscape duration (10.00), changed to 6.59.\n",
      "  ScaperWarning)\n",
      "/home/js7561/dev/scaper/scaper/core.py:1112: ScaperWarning: jackhammer event duration (2.16) is greater that source duration (1.44), changing to 1.44\n",
      "  ScaperWarning)\n",
      "/home/js7561/dev/scaper/scaper/core.py:1199: ScaperWarning: drilling event time (8.58) is too great given stretched event duration (3.08) and soundscape duration (10.00), changed to 6.92.\n",
      "  ScaperWarning)\n",
      "/home/js7561/dev/scaper/scaper/core.py:1199: ScaperWarning: street_music event time (9.97) is too great given stretched event duration (1.89) and soundscape duration (10.00), changed to 8.11.\n",
      "  ScaperWarning)\n"
     ]
    },
    {
     "name": "stdout",
     "output_type": "stream",
     "text": [
      "Generating soundscape: 290/2000\n",
      "Generating soundscape: 291/2000\n"
     ]
    },
    {
     "name": "stderr",
     "output_type": "stream",
     "text": [
      "/home/js7561/dev/scaper/scaper/core.py:1199: ScaperWarning: dog_bark event time (8.74) is too great given stretched event duration (1.61) and soundscape duration (10.00), changed to 8.39.\n",
      "  ScaperWarning)\n"
     ]
    },
    {
     "name": "stdout",
     "output_type": "stream",
     "text": [
      "Generating soundscape: 292/2000\n",
      "Generating soundscape: 293/2000\n"
     ]
    },
    {
     "name": "stderr",
     "output_type": "stream",
     "text": [
      "/home/js7561/dev/scaper/scaper/core.py:1112: ScaperWarning: gun_shot event duration (2.79) is greater that source duration (0.96), changing to 0.96\n",
      "  ScaperWarning)\n",
      "/home/js7561/dev/scaper/scaper/core.py:1199: ScaperWarning: jackhammer event time (8.22) is too great given stretched event duration (3.01) and soundscape duration (10.00), changed to 6.99.\n",
      "  ScaperWarning)\n"
     ]
    },
    {
     "name": "stdout",
     "output_type": "stream",
     "text": [
      "Generating soundscape: 294/2000\n"
     ]
    },
    {
     "name": "stderr",
     "output_type": "stream",
     "text": [
      "/home/js7561/dev/scaper/scaper/core.py:1112: ScaperWarning: dog_bark event duration (1.29) is greater that source duration (0.84), changing to 0.84\n",
      "  ScaperWarning)\n",
      "/home/js7561/dev/scaper/scaper/core.py:1199: ScaperWarning: jackhammer event time (8.71) is too great given stretched event duration (1.46) and soundscape duration (10.00), changed to 8.54.\n",
      "  ScaperWarning)\n",
      "/home/js7561/dev/scaper/scaper/core.py:1112: ScaperWarning: dog_bark event duration (3.46) is greater that source duration (0.96), changing to 0.96\n",
      "  ScaperWarning)\n"
     ]
    },
    {
     "name": "stdout",
     "output_type": "stream",
     "text": [
      "Generating soundscape: 295/2000\n"
     ]
    },
    {
     "name": "stderr",
     "output_type": "stream",
     "text": [
      "/home/js7561/dev/scaper/scaper/core.py:1112: ScaperWarning: dog_bark event duration (1.94) is greater that source duration (0.66), changing to 0.66\n",
      "  ScaperWarning)\n"
     ]
    },
    {
     "name": "stdout",
     "output_type": "stream",
     "text": [
      "Generating soundscape: 296/2000\n"
     ]
    },
    {
     "name": "stderr",
     "output_type": "stream",
     "text": [
      "/home/js7561/dev/scaper/scaper/core.py:1199: ScaperWarning: air_conditioner event time (8.21) is too great given stretched event duration (3.63) and soundscape duration (10.00), changed to 6.37.\n",
      "  ScaperWarning)\n"
     ]
    },
    {
     "name": "stdout",
     "output_type": "stream",
     "text": [
      "Generating soundscape: 297/2000\n"
     ]
    },
    {
     "name": "stderr",
     "output_type": "stream",
     "text": [
      "/home/js7561/dev/scaper/scaper/core.py:1112: ScaperWarning: car_horn event duration (1.71) is greater that source duration (0.63), changing to 0.63\n",
      "  ScaperWarning)\n",
      "/home/js7561/dev/scaper/scaper/core.py:1112: ScaperWarning: dog_bark event duration (2.32) is greater that source duration (1.08), changing to 1.08\n",
      "  ScaperWarning)\n",
      "/home/js7561/dev/scaper/scaper/core.py:1112: ScaperWarning: jackhammer event duration (3.43) is greater that source duration (1.61), changing to 1.61\n",
      "  ScaperWarning)\n"
     ]
    },
    {
     "name": "stdout",
     "output_type": "stream",
     "text": [
      "Generating soundscape: 298/2000\n"
     ]
    },
    {
     "name": "stderr",
     "output_type": "stream",
     "text": [
      "/home/js7561/dev/scaper/scaper/core.py:1112: ScaperWarning: dog_bark event duration (3.12) is greater that source duration (0.35), changing to 0.35\n",
      "  ScaperWarning)\n"
     ]
    },
    {
     "name": "stdout",
     "output_type": "stream",
     "text": [
      "Generating soundscape: 299/2000\n"
     ]
    },
    {
     "name": "stderr",
     "output_type": "stream",
     "text": [
      "/home/js7561/dev/scaper/scaper/core.py:1112: ScaperWarning: gun_shot event duration (2.14) is greater that source duration (0.64), changing to 0.64\n",
      "  ScaperWarning)\n"
     ]
    },
    {
     "name": "stdout",
     "output_type": "stream",
     "text": [
      "Generating soundscape: 300/2000\n"
     ]
    },
    {
     "name": "stderr",
     "output_type": "stream",
     "text": [
      "/home/js7561/dev/scaper/scaper/core.py:1199: ScaperWarning: dog_bark event time (9.72) is too great given stretched event duration (3.07) and soundscape duration (10.00), changed to 6.93.\n",
      "  ScaperWarning)\n"
     ]
    },
    {
     "name": "stdout",
     "output_type": "stream",
     "text": [
      "Generating soundscape: 301/2000\n",
      "Generating soundscape: 302/2000\n",
      "Generating soundscape: 303/2000\n"
     ]
    },
    {
     "name": "stderr",
     "output_type": "stream",
     "text": [
      "/home/js7561/dev/scaper/scaper/core.py:1112: ScaperWarning: gun_shot event duration (3.35) is greater that source duration (1.45), changing to 1.45\n",
      "  ScaperWarning)\n",
      "/home/js7561/dev/scaper/scaper/core.py:1199: ScaperWarning: jackhammer event time (8.43) is too great given stretched event duration (3.39) and soundscape duration (10.00), changed to 6.61.\n",
      "  ScaperWarning)\n",
      "/home/js7561/dev/scaper/scaper/core.py:1112: ScaperWarning: gun_shot event duration (1.99) is greater that source duration (0.73), changing to 0.73\n",
      "  ScaperWarning)\n"
     ]
    },
    {
     "name": "stdout",
     "output_type": "stream",
     "text": [
      "Generating soundscape: 304/2000\n"
     ]
    },
    {
     "name": "stderr",
     "output_type": "stream",
     "text": [
      "/home/js7561/dev/scaper/scaper/core.py:1112: ScaperWarning: jackhammer event duration (1.76) is greater that source duration (0.56), changing to 0.56\n",
      "  ScaperWarning)\n",
      "/home/js7561/dev/scaper/scaper/core.py:1112: ScaperWarning: gun_shot event duration (1.79) is greater that source duration (0.17), changing to 0.17\n",
      "  ScaperWarning)\n"
     ]
    },
    {
     "name": "stdout",
     "output_type": "stream",
     "text": [
      "Generating soundscape: 305/2000\n"
     ]
    },
    {
     "name": "stderr",
     "output_type": "stream",
     "text": [
      "/home/js7561/dev/scaper/scaper/core.py:1199: ScaperWarning: siren event time (9.33) is too great given stretched event duration (0.81) and soundscape duration (10.00), changed to 9.19.\n",
      "  ScaperWarning)\n"
     ]
    },
    {
     "name": "stdout",
     "output_type": "stream",
     "text": [
      "Generating soundscape: 306/2000\n",
      "Generating soundscape: 307/2000\n"
     ]
    },
    {
     "name": "stderr",
     "output_type": "stream",
     "text": [
      "/home/js7561/dev/scaper/scaper/core.py:1112: ScaperWarning: car_horn event duration (1.77) is greater that source duration (0.72), changing to 0.72\n",
      "  ScaperWarning)\n",
      "/home/js7561/dev/scaper/scaper/core.py:1199: ScaperWarning: air_conditioner event time (7.83) is too great given stretched event duration (4.09) and soundscape duration (10.00), changed to 5.91.\n",
      "  ScaperWarning)\n",
      "/home/js7561/dev/scaper/scaper/core.py:1112: ScaperWarning: drilling event duration (1.81) is greater that source duration (0.58), changing to 0.58\n",
      "  ScaperWarning)\n",
      "/home/js7561/dev/scaper/scaper/core.py:1199: ScaperWarning: children_playing event time (7.60) is too great given stretched event duration (3.96) and soundscape duration (10.00), changed to 6.04.\n",
      "  ScaperWarning)\n"
     ]
    },
    {
     "name": "stdout",
     "output_type": "stream",
     "text": [
      "Generating soundscape: 308/2000\n",
      "Generating soundscape: 309/2000\n"
     ]
    },
    {
     "name": "stderr",
     "output_type": "stream",
     "text": [
      "/home/js7561/dev/scaper/scaper/core.py:1199: ScaperWarning: children_playing event time (7.00) is too great given stretched event duration (4.39) and soundscape duration (10.00), changed to 5.61.\n",
      "  ScaperWarning)\n",
      "/home/js7561/dev/scaper/scaper/core.py:1112: ScaperWarning: gun_shot event duration (2.59) is greater that source duration (1.41), changing to 1.41\n",
      "  ScaperWarning)\n",
      "/home/js7561/dev/scaper/scaper/core.py:1112: ScaperWarning: car_horn event duration (0.84) is greater that source duration (0.55), changing to 0.55\n",
      "  ScaperWarning)\n",
      "/home/js7561/dev/scaper/scaper/core.py:1112: ScaperWarning: drilling event duration (1.82) is greater that source duration (1.09), changing to 1.09\n",
      "  ScaperWarning)\n",
      "/home/js7561/dev/scaper/scaper/core.py:1112: ScaperWarning: jackhammer event duration (2.24) is greater that source duration (0.99), changing to 0.99\n",
      "  ScaperWarning)\n"
     ]
    },
    {
     "name": "stdout",
     "output_type": "stream",
     "text": [
      "Generating soundscape: 310/2000\n",
      "Generating soundscape: 311/2000\n"
     ]
    },
    {
     "name": "stderr",
     "output_type": "stream",
     "text": [
      "/home/js7561/dev/scaper/scaper/core.py:1199: ScaperWarning: jackhammer event time (9.03) is too great given stretched event duration (3.31) and soundscape duration (10.00), changed to 6.69.\n",
      "  ScaperWarning)\n"
     ]
    },
    {
     "name": "stdout",
     "output_type": "stream",
     "text": [
      "Generating soundscape: 312/2000\n"
     ]
    },
    {
     "name": "stderr",
     "output_type": "stream",
     "text": [
      "/home/js7561/dev/scaper/scaper/core.py:1199: ScaperWarning: engine_idling event time (7.10) is too great given stretched event duration (3.10) and soundscape duration (10.00), changed to 6.90.\n",
      "  ScaperWarning)\n"
     ]
    },
    {
     "name": "stdout",
     "output_type": "stream",
     "text": [
      "Generating soundscape: 313/2000\n",
      "Generating soundscape: 314/2000\n"
     ]
    },
    {
     "name": "stderr",
     "output_type": "stream",
     "text": [
      "/home/js7561/dev/scaper/scaper/core.py:1112: ScaperWarning: gun_shot event duration (3.54) is greater that source duration (1.50), changing to 1.50\n",
      "  ScaperWarning)\n",
      "/home/js7561/dev/scaper/scaper/core.py:1112: ScaperWarning: gun_shot event duration (3.20) is greater that source duration (0.73), changing to 0.73\n",
      "  ScaperWarning)\n"
     ]
    },
    {
     "name": "stdout",
     "output_type": "stream",
     "text": [
      "Generating soundscape: 315/2000\n",
      "Generating soundscape: 316/2000\n",
      "Generating soundscape: 317/2000\n",
      "Generating soundscape: 318/2000\n"
     ]
    },
    {
     "name": "stderr",
     "output_type": "stream",
     "text": [
      "/home/js7561/dev/scaper/scaper/core.py:1112: ScaperWarning: dog_bark event duration (2.77) is greater that source duration (0.79), changing to 0.79\n",
      "  ScaperWarning)\n"
     ]
    },
    {
     "name": "stdout",
     "output_type": "stream",
     "text": [
      "Generating soundscape: 319/2000\n",
      "Generating soundscape: 320/2000\n",
      "Generating soundscape: 321/2000\n"
     ]
    },
    {
     "name": "stderr",
     "output_type": "stream",
     "text": [
      "/home/js7561/dev/scaper/scaper/core.py:1199: ScaperWarning: children_playing event time (7.78) is too great given stretched event duration (4.00) and soundscape duration (10.00), changed to 6.00.\n",
      "  ScaperWarning)\n",
      "/home/js7561/dev/scaper/scaper/core.py:1112: ScaperWarning: car_horn event duration (2.81) is greater that source duration (0.16), changing to 0.16\n",
      "  ScaperWarning)\n",
      "/home/js7561/dev/scaper/scaper/core.py:1112: ScaperWarning: car_horn event duration (3.13) is greater that source duration (0.72), changing to 0.72\n",
      "  ScaperWarning)\n"
     ]
    },
    {
     "name": "stdout",
     "output_type": "stream",
     "text": [
      "Generating soundscape: 322/2000\n",
      "Generating soundscape: 323/2000\n",
      "Generating soundscape: 324/2000\n",
      "Generating soundscape: 325/2000\n"
     ]
    },
    {
     "name": "stderr",
     "output_type": "stream",
     "text": [
      "/home/js7561/dev/scaper/scaper/core.py:1112: ScaperWarning: drilling event duration (3.48) is greater that source duration (2.26), changing to 2.26\n",
      "  ScaperWarning)\n"
     ]
    },
    {
     "name": "stdout",
     "output_type": "stream",
     "text": [
      "Generating soundscape: 326/2000\n"
     ]
    },
    {
     "name": "stderr",
     "output_type": "stream",
     "text": [
      "/home/js7561/dev/scaper/scaper/core.py:1112: ScaperWarning: gun_shot event duration (1.61) is greater that source duration (0.28), changing to 0.28\n",
      "  ScaperWarning)\n",
      "/home/js7561/dev/scaper/scaper/core.py:1199: ScaperWarning: siren event time (6.41) is too great given stretched event duration (3.61) and soundscape duration (10.00), changed to 6.39.\n",
      "  ScaperWarning)\n",
      "/home/js7561/dev/scaper/scaper/core.py:1199: ScaperWarning: air_conditioner event time (6.20) is too great given stretched event duration (4.16) and soundscape duration (10.00), changed to 5.84.\n",
      "  ScaperWarning)\n"
     ]
    },
    {
     "name": "stdout",
     "output_type": "stream",
     "text": [
      "Generating soundscape: 327/2000\n"
     ]
    },
    {
     "name": "stderr",
     "output_type": "stream",
     "text": [
      "/home/js7561/dev/scaper/scaper/core.py:1199: ScaperWarning: jackhammer event time (5.51) is too great given stretched event duration (4.58) and soundscape duration (10.00), changed to 5.42.\n",
      "  ScaperWarning)\n",
      "/home/js7561/dev/scaper/scaper/core.py:1112: ScaperWarning: dog_bark event duration (3.85) is greater that source duration (0.81), changing to 0.81\n",
      "  ScaperWarning)\n"
     ]
    },
    {
     "name": "stdout",
     "output_type": "stream",
     "text": [
      "Generating soundscape: 328/2000\n"
     ]
    },
    {
     "name": "stderr",
     "output_type": "stream",
     "text": [
      "/home/js7561/dev/scaper/scaper/core.py:1199: ScaperWarning: drilling event time (9.14) is too great given stretched event duration (2.86) and soundscape duration (10.00), changed to 7.14.\n",
      "  ScaperWarning)\n",
      "/home/js7561/dev/scaper/scaper/core.py:1199: ScaperWarning: air_conditioner event time (9.32) is too great given stretched event duration (2.64) and soundscape duration (10.00), changed to 7.36.\n",
      "  ScaperWarning)\n"
     ]
    },
    {
     "name": "stdout",
     "output_type": "stream",
     "text": [
      "Generating soundscape: 329/2000\n"
     ]
    },
    {
     "name": "stderr",
     "output_type": "stream",
     "text": [
      "/home/js7561/dev/scaper/scaper/core.py:1112: ScaperWarning: dog_bark event duration (3.07) is greater that source duration (1.07), changing to 1.07\n",
      "  ScaperWarning)\n",
      "/home/js7561/dev/scaper/scaper/core.py:1199: ScaperWarning: children_playing event time (8.61) is too great given stretched event duration (4.28) and soundscape duration (10.00), changed to 5.72.\n",
      "  ScaperWarning)\n"
     ]
    },
    {
     "name": "stdout",
     "output_type": "stream",
     "text": [
      "Generating soundscape: 330/2000\n"
     ]
    },
    {
     "name": "stderr",
     "output_type": "stream",
     "text": [
      "/home/js7561/dev/scaper/scaper/core.py:1199: ScaperWarning: street_music event time (6.52) is too great given stretched event duration (3.75) and soundscape duration (10.00), changed to 6.25.\n",
      "  ScaperWarning)\n"
     ]
    },
    {
     "name": "stdout",
     "output_type": "stream",
     "text": [
      "Generating soundscape: 331/2000\n"
     ]
    },
    {
     "name": "stderr",
     "output_type": "stream",
     "text": [
      "/home/js7561/dev/scaper/scaper/core.py:1112: ScaperWarning: dog_bark event duration (2.04) is greater that source duration (1.37), changing to 1.37\n",
      "  ScaperWarning)\n"
     ]
    },
    {
     "name": "stdout",
     "output_type": "stream",
     "text": [
      "Generating soundscape: 332/2000\n"
     ]
    },
    {
     "name": "stderr",
     "output_type": "stream",
     "text": [
      "/home/js7561/dev/scaper/scaper/core.py:1199: ScaperWarning: siren event time (9.54) is too great given stretched event duration (1.10) and soundscape duration (10.00), changed to 8.90.\n",
      "  ScaperWarning)\n",
      "/home/js7561/dev/scaper/scaper/core.py:1199: ScaperWarning: jackhammer event time (7.85) is too great given stretched event duration (3.90) and soundscape duration (10.00), changed to 6.10.\n",
      "  ScaperWarning)\n"
     ]
    },
    {
     "name": "stdout",
     "output_type": "stream",
     "text": [
      "Generating soundscape: 333/2000\n"
     ]
    },
    {
     "name": "stderr",
     "output_type": "stream",
     "text": [
      "/home/js7561/dev/scaper/scaper/core.py:1199: ScaperWarning: engine_idling event time (9.76) is too great given stretched event duration (3.44) and soundscape duration (10.00), changed to 6.56.\n",
      "  ScaperWarning)\n"
     ]
    },
    {
     "name": "stdout",
     "output_type": "stream",
     "text": [
      "Generating soundscape: 334/2000\n"
     ]
    },
    {
     "name": "stderr",
     "output_type": "stream",
     "text": [
      "/home/js7561/dev/scaper/scaper/core.py:1112: ScaperWarning: gun_shot event duration (3.60) is greater that source duration (0.83), changing to 0.83\n",
      "  ScaperWarning)\n",
      "/home/js7561/dev/scaper/scaper/core.py:1112: ScaperWarning: car_horn event duration (1.96) is greater that source duration (0.53), changing to 0.53\n",
      "  ScaperWarning)\n",
      "/home/js7561/dev/scaper/scaper/core.py:1199: ScaperWarning: children_playing event time (8.54) is too great given stretched event duration (1.62) and soundscape duration (10.00), changed to 8.38.\n",
      "  ScaperWarning)\n"
     ]
    },
    {
     "name": "stdout",
     "output_type": "stream",
     "text": [
      "Generating soundscape: 335/2000\n"
     ]
    },
    {
     "name": "stderr",
     "output_type": "stream",
     "text": [
      "/home/js7561/dev/scaper/scaper/core.py:1199: ScaperWarning: air_conditioner event time (9.20) is too great given stretched event duration (3.63) and soundscape duration (10.00), changed to 6.37.\n",
      "  ScaperWarning)\n",
      "/home/js7561/dev/scaper/scaper/core.py:1199: ScaperWarning: dog_bark event time (7.29) is too great given stretched event duration (3.04) and soundscape duration (10.00), changed to 6.96.\n",
      "  ScaperWarning)\n"
     ]
    },
    {
     "name": "stdout",
     "output_type": "stream",
     "text": [
      "Generating soundscape: 336/2000\n"
     ]
    },
    {
     "name": "stderr",
     "output_type": "stream",
     "text": [
      "/home/js7561/dev/scaper/scaper/core.py:1199: ScaperWarning: air_conditioner event time (7.96) is too great given stretched event duration (2.41) and soundscape duration (10.00), changed to 7.59.\n",
      "  ScaperWarning)\n",
      "/home/js7561/dev/scaper/scaper/core.py:1112: ScaperWarning: drilling event duration (1.53) is greater that source duration (1.20), changing to 1.20\n",
      "  ScaperWarning)\n"
     ]
    },
    {
     "name": "stdout",
     "output_type": "stream",
     "text": [
      "Generating soundscape: 337/2000\n",
      "Generating soundscape: 338/2000\n"
     ]
    },
    {
     "name": "stderr",
     "output_type": "stream",
     "text": [
      "/home/js7561/dev/scaper/scaper/core.py:1199: ScaperWarning: siren event time (8.56) is too great given stretched event duration (1.74) and soundscape duration (10.00), changed to 8.26.\n",
      "  ScaperWarning)\n"
     ]
    },
    {
     "name": "stdout",
     "output_type": "stream",
     "text": [
      "Generating soundscape: 339/2000\n"
     ]
    },
    {
     "name": "stderr",
     "output_type": "stream",
     "text": [
      "/home/js7561/dev/scaper/scaper/core.py:1199: ScaperWarning: jackhammer event time (7.58) is too great given stretched event duration (2.50) and soundscape duration (10.00), changed to 7.50.\n",
      "  ScaperWarning)\n",
      "/home/js7561/dev/scaper/scaper/core.py:1199: ScaperWarning: siren event time (9.73) is too great given stretched event duration (3.41) and soundscape duration (10.00), changed to 6.59.\n",
      "  ScaperWarning)\n",
      "/home/js7561/dev/scaper/scaper/core.py:1112: ScaperWarning: jackhammer event duration (2.66) is greater that source duration (2.41), changing to 2.41\n",
      "  ScaperWarning)\n"
     ]
    },
    {
     "name": "stdout",
     "output_type": "stream",
     "text": [
      "Generating soundscape: 340/2000\n",
      "Generating soundscape: 341/2000\n"
     ]
    },
    {
     "name": "stderr",
     "output_type": "stream",
     "text": [
      "/home/js7561/dev/scaper/scaper/core.py:1112: ScaperWarning: gun_shot event duration (3.94) is greater that source duration (0.58), changing to 0.58\n",
      "  ScaperWarning)\n",
      "/home/js7561/dev/scaper/scaper/core.py:1199: ScaperWarning: jackhammer event time (8.89) is too great given stretched event duration (1.18) and soundscape duration (10.00), changed to 8.82.\n",
      "  ScaperWarning)\n"
     ]
    },
    {
     "name": "stdout",
     "output_type": "stream",
     "text": [
      "Generating soundscape: 342/2000\n",
      "Generating soundscape: 343/2000\n"
     ]
    },
    {
     "name": "stderr",
     "output_type": "stream",
     "text": [
      "/home/js7561/dev/scaper/scaper/core.py:1199: ScaperWarning: children_playing event time (9.43) is too great given stretched event duration (1.92) and soundscape duration (10.00), changed to 8.08.\n",
      "  ScaperWarning)\n",
      "/home/js7561/dev/scaper/scaper/core.py:1112: ScaperWarning: dog_bark event duration (3.13) is greater that source duration (2.14), changing to 2.14\n",
      "  ScaperWarning)\n",
      "/home/js7561/dev/scaper/scaper/core.py:1199: ScaperWarning: engine_idling event time (6.94) is too great given stretched event duration (3.24) and soundscape duration (10.00), changed to 6.76.\n",
      "  ScaperWarning)\n"
     ]
    },
    {
     "name": "stdout",
     "output_type": "stream",
     "text": [
      "Generating soundscape: 344/2000\n"
     ]
    },
    {
     "name": "stderr",
     "output_type": "stream",
     "text": [
      "/home/js7561/dev/scaper/scaper/core.py:1112: ScaperWarning: gun_shot event duration (1.18) is greater that source duration (0.17), changing to 0.17\n",
      "  ScaperWarning)\n"
     ]
    },
    {
     "name": "stdout",
     "output_type": "stream",
     "text": [
      "Generating soundscape: 345/2000\n"
     ]
    },
    {
     "name": "stderr",
     "output_type": "stream",
     "text": [
      "/home/js7561/dev/scaper/scaper/core.py:1112: ScaperWarning: gun_shot event duration (1.71) is greater that source duration (0.28), changing to 0.28\n",
      "  ScaperWarning)\n",
      "/home/js7561/dev/scaper/scaper/core.py:1112: ScaperWarning: car_horn event duration (2.38) is greater that source duration (0.50), changing to 0.50\n",
      "  ScaperWarning)\n",
      "/home/js7561/dev/scaper/scaper/core.py:1199: ScaperWarning: dog_bark event time (8.01) is too great given stretched event duration (2.71) and soundscape duration (10.00), changed to 7.29.\n",
      "  ScaperWarning)\n",
      "/home/js7561/dev/scaper/scaper/core.py:1199: ScaperWarning: air_conditioner event time (8.35) is too great given stretched event duration (2.16) and soundscape duration (10.00), changed to 7.84.\n",
      "  ScaperWarning)\n",
      "/home/js7561/dev/scaper/scaper/core.py:1112: ScaperWarning: car_horn event duration (1.55) is greater that source duration (0.35), changing to 0.35\n",
      "  ScaperWarning)\n"
     ]
    },
    {
     "name": "stdout",
     "output_type": "stream",
     "text": [
      "Generating soundscape: 346/2000\n"
     ]
    },
    {
     "name": "stderr",
     "output_type": "stream",
     "text": [
      "/home/js7561/dev/scaper/scaper/core.py:1199: ScaperWarning: street_music event time (8.39) is too great given stretched event duration (2.11) and soundscape duration (10.00), changed to 7.89.\n",
      "  ScaperWarning)\n"
     ]
    },
    {
     "name": "stdout",
     "output_type": "stream",
     "text": [
      "Generating soundscape: 347/2000\n"
     ]
    },
    {
     "name": "stderr",
     "output_type": "stream",
     "text": [
      "/home/js7561/dev/scaper/scaper/core.py:1112: ScaperWarning: gun_shot event duration (3.69) is greater that source duration (1.12), changing to 1.12\n",
      "  ScaperWarning)\n"
     ]
    },
    {
     "name": "stdout",
     "output_type": "stream",
     "text": [
      "Generating soundscape: 348/2000\n"
     ]
    },
    {
     "name": "stderr",
     "output_type": "stream",
     "text": [
      "/home/js7561/dev/scaper/scaper/core.py:1112: ScaperWarning: jackhammer event duration (2.65) is greater that source duration (1.61), changing to 1.61\n",
      "  ScaperWarning)\n",
      "/home/js7561/dev/scaper/scaper/core.py:1112: ScaperWarning: gun_shot event duration (3.68) is greater that source duration (0.80), changing to 0.80\n",
      "  ScaperWarning)\n"
     ]
    },
    {
     "name": "stdout",
     "output_type": "stream",
     "text": [
      "Generating soundscape: 349/2000\n",
      "Generating soundscape: 350/2000\n"
     ]
    },
    {
     "name": "stderr",
     "output_type": "stream",
     "text": [
      "/home/js7561/dev/scaper/scaper/core.py:1199: ScaperWarning: engine_idling event time (7.04) is too great given stretched event duration (3.49) and soundscape duration (10.00), changed to 6.51.\n",
      "  ScaperWarning)\n",
      "/home/js7561/dev/scaper/scaper/core.py:1199: ScaperWarning: siren event time (7.26) is too great given stretched event duration (3.13) and soundscape duration (10.00), changed to 6.87.\n",
      "  ScaperWarning)\n",
      "/home/js7561/dev/scaper/scaper/core.py:1112: ScaperWarning: car_horn event duration (1.76) is greater that source duration (0.20), changing to 0.20\n",
      "  ScaperWarning)\n"
     ]
    },
    {
     "name": "stdout",
     "output_type": "stream",
     "text": [
      "Generating soundscape: 351/2000\n"
     ]
    },
    {
     "name": "stderr",
     "output_type": "stream",
     "text": [
      "/home/js7561/dev/scaper/scaper/core.py:1112: ScaperWarning: gun_shot event duration (3.76) is greater that source duration (1.71), changing to 1.71\n",
      "  ScaperWarning)\n",
      "/home/js7561/dev/scaper/scaper/core.py:1199: ScaperWarning: engine_idling event time (6.84) is too great given stretched event duration (3.53) and soundscape duration (10.00), changed to 6.47.\n",
      "  ScaperWarning)\n"
     ]
    },
    {
     "name": "stdout",
     "output_type": "stream",
     "text": [
      "Generating soundscape: 352/2000\n"
     ]
    },
    {
     "name": "stderr",
     "output_type": "stream",
     "text": [
      "/home/js7561/dev/scaper/scaper/core.py:1112: ScaperWarning: drilling event duration (2.02) is greater that source duration (0.53), changing to 0.53\n",
      "  ScaperWarning)\n",
      "/home/js7561/dev/scaper/scaper/core.py:1112: ScaperWarning: gun_shot event duration (3.08) is greater that source duration (1.33), changing to 1.33\n",
      "  ScaperWarning)\n"
     ]
    },
    {
     "name": "stdout",
     "output_type": "stream",
     "text": [
      "Generating soundscape: 353/2000\n"
     ]
    },
    {
     "name": "stderr",
     "output_type": "stream",
     "text": [
      "/home/js7561/dev/scaper/scaper/core.py:1199: ScaperWarning: air_conditioner event time (8.67) is too great given stretched event duration (2.46) and soundscape duration (10.00), changed to 7.54.\n",
      "  ScaperWarning)\n",
      "/home/js7561/dev/scaper/scaper/core.py:1199: ScaperWarning: street_music event time (6.46) is too great given stretched event duration (4.11) and soundscape duration (10.00), changed to 5.89.\n",
      "  ScaperWarning)\n",
      "/home/js7561/dev/scaper/scaper/core.py:1112: ScaperWarning: gun_shot event duration (1.73) is greater that source duration (1.23), changing to 1.23\n",
      "  ScaperWarning)\n"
     ]
    },
    {
     "name": "stdout",
     "output_type": "stream",
     "text": [
      "Generating soundscape: 354/2000\n"
     ]
    },
    {
     "name": "stderr",
     "output_type": "stream",
     "text": [
      "/home/js7561/dev/scaper/scaper/core.py:1112: ScaperWarning: car_horn event duration (2.54) is greater that source duration (0.16), changing to 0.16\n",
      "  ScaperWarning)\n",
      "/home/js7561/dev/scaper/scaper/core.py:1112: ScaperWarning: dog_bark event duration (2.30) is greater that source duration (0.50), changing to 0.50\n",
      "  ScaperWarning)\n"
     ]
    },
    {
     "name": "stdout",
     "output_type": "stream",
     "text": [
      "Generating soundscape: 355/2000\n",
      "Generating soundscape: 356/2000\n",
      "Generating soundscape: 357/2000\n"
     ]
    },
    {
     "name": "stderr",
     "output_type": "stream",
     "text": [
      "/home/js7561/dev/scaper/scaper/core.py:1199: ScaperWarning: car_horn event time (8.08) is too great given stretched event duration (4.27) and soundscape duration (10.00), changed to 5.73.\n",
      "  ScaperWarning)\n",
      "/home/js7561/dev/scaper/scaper/core.py:1199: ScaperWarning: drilling event time (7.61) is too great given stretched event duration (2.75) and soundscape duration (10.00), changed to 7.25.\n",
      "  ScaperWarning)\n"
     ]
    },
    {
     "name": "stdout",
     "output_type": "stream",
     "text": [
      "Generating soundscape: 358/2000\n",
      "Generating soundscape: 359/2000\n"
     ]
    },
    {
     "name": "stderr",
     "output_type": "stream",
     "text": [
      "/home/js7561/dev/scaper/scaper/core.py:1112: ScaperWarning: drilling event duration (3.70) is greater that source duration (2.26), changing to 2.26\n",
      "  ScaperWarning)\n",
      "/home/js7561/dev/scaper/scaper/core.py:1112: ScaperWarning: dog_bark event duration (2.60) is greater that source duration (0.61), changing to 0.61\n",
      "  ScaperWarning)\n",
      "/home/js7561/dev/scaper/scaper/core.py:1199: ScaperWarning: siren event time (8.06) is too great given stretched event duration (3.79) and soundscape duration (10.00), changed to 6.21.\n",
      "  ScaperWarning)\n"
     ]
    },
    {
     "name": "stdout",
     "output_type": "stream",
     "text": [
      "Generating soundscape: 360/2000\n",
      "Generating soundscape: 361/2000\n",
      "Generating soundscape: 362/2000\n"
     ]
    },
    {
     "name": "stderr",
     "output_type": "stream",
     "text": [
      "/home/js7561/dev/scaper/scaper/core.py:1112: ScaperWarning: dog_bark event duration (1.70) is greater that source duration (1.65), changing to 1.65\n",
      "  ScaperWarning)\n",
      "/home/js7561/dev/scaper/scaper/core.py:1199: ScaperWarning: dog_bark event time (8.88) is too great given stretched event duration (1.36) and soundscape duration (10.00), changed to 8.64.\n",
      "  ScaperWarning)\n",
      "/home/js7561/dev/scaper/scaper/core.py:1112: ScaperWarning: dog_bark event duration (2.48) is greater that source duration (1.61), changing to 1.61\n",
      "  ScaperWarning)\n",
      "/home/js7561/dev/scaper/scaper/core.py:1199: ScaperWarning: street_music event time (6.93) is too great given stretched event duration (3.23) and soundscape duration (10.00), changed to 6.77.\n",
      "  ScaperWarning)\n"
     ]
    },
    {
     "name": "stdout",
     "output_type": "stream",
     "text": [
      "Generating soundscape: 363/2000\n"
     ]
    },
    {
     "name": "stderr",
     "output_type": "stream",
     "text": [
      "/home/js7561/dev/scaper/scaper/core.py:1112: ScaperWarning: car_horn event duration (3.14) is greater that source duration (0.76), changing to 0.76\n",
      "  ScaperWarning)\n"
     ]
    },
    {
     "name": "stdout",
     "output_type": "stream",
     "text": [
      "Generating soundscape: 364/2000\n"
     ]
    },
    {
     "name": "stderr",
     "output_type": "stream",
     "text": [
      "/home/js7561/dev/scaper/scaper/core.py:1199: ScaperWarning: street_music event time (8.52) is too great given stretched event duration (1.58) and soundscape duration (10.00), changed to 8.42.\n",
      "  ScaperWarning)\n",
      "/home/js7561/dev/scaper/scaper/core.py:1199: ScaperWarning: dog_bark event time (8.75) is too great given stretched event duration (1.35) and soundscape duration (10.00), changed to 8.65.\n",
      "  ScaperWarning)\n"
     ]
    },
    {
     "name": "stdout",
     "output_type": "stream",
     "text": [
      "Generating soundscape: 365/2000\n"
     ]
    },
    {
     "name": "stderr",
     "output_type": "stream",
     "text": [
      "/home/js7561/dev/scaper/scaper/core.py:1199: ScaperWarning: street_music event time (9.40) is too great given stretched event duration (2.28) and soundscape duration (10.00), changed to 7.72.\n",
      "  ScaperWarning)\n",
      "/home/js7561/dev/scaper/scaper/core.py:1112: ScaperWarning: dog_bark event duration (3.88) is greater that source duration (2.77), changing to 2.77\n",
      "  ScaperWarning)\n",
      "/home/js7561/dev/scaper/scaper/core.py:1112: ScaperWarning: jackhammer event duration (1.37) is greater that source duration (0.97), changing to 0.97\n",
      "  ScaperWarning)\n"
     ]
    },
    {
     "name": "stdout",
     "output_type": "stream",
     "text": [
      "Generating soundscape: 366/2000\n"
     ]
    },
    {
     "name": "stderr",
     "output_type": "stream",
     "text": [
      "/home/js7561/dev/scaper/scaper/core.py:1112: ScaperWarning: car_horn event duration (2.98) is greater that source duration (0.44), changing to 0.44\n",
      "  ScaperWarning)\n"
     ]
    },
    {
     "name": "stdout",
     "output_type": "stream",
     "text": [
      "Generating soundscape: 367/2000\n"
     ]
    },
    {
     "name": "stderr",
     "output_type": "stream",
     "text": [
      "/home/js7561/dev/scaper/scaper/core.py:1199: ScaperWarning: engine_idling event time (7.80) is too great given stretched event duration (2.37) and soundscape duration (10.00), changed to 7.63.\n",
      "  ScaperWarning)\n",
      "/home/js7561/dev/scaper/scaper/core.py:1199: ScaperWarning: street_music event time (9.15) is too great given stretched event duration (1.48) and soundscape duration (10.00), changed to 8.52.\n",
      "  ScaperWarning)\n",
      "/home/js7561/dev/scaper/scaper/core.py:1199: ScaperWarning: siren event time (7.12) is too great given stretched event duration (3.38) and soundscape duration (10.00), changed to 6.62.\n",
      "  ScaperWarning)\n",
      "/home/js7561/dev/scaper/scaper/core.py:1112: ScaperWarning: gun_shot event duration (3.26) is greater that source duration (2.61), changing to 2.61\n",
      "  ScaperWarning)\n"
     ]
    },
    {
     "name": "stdout",
     "output_type": "stream",
     "text": [
      "Generating soundscape: 368/2000\n"
     ]
    },
    {
     "name": "stderr",
     "output_type": "stream",
     "text": [
      "/home/js7561/dev/scaper/scaper/core.py:1199: ScaperWarning: air_conditioner event time (7.26) is too great given stretched event duration (4.13) and soundscape duration (10.00), changed to 5.87.\n",
      "  ScaperWarning)\n"
     ]
    },
    {
     "name": "stdout",
     "output_type": "stream",
     "text": [
      "Generating soundscape: 369/2000\n"
     ]
    },
    {
     "name": "stderr",
     "output_type": "stream",
     "text": [
      "/home/js7561/dev/scaper/scaper/core.py:1199: ScaperWarning: engine_idling event time (9.62) is too great given stretched event duration (3.07) and soundscape duration (10.00), changed to 6.93.\n",
      "  ScaperWarning)\n",
      "/home/js7561/dev/scaper/scaper/core.py:1199: ScaperWarning: engine_idling event time (8.62) is too great given stretched event duration (2.51) and soundscape duration (10.00), changed to 7.49.\n",
      "  ScaperWarning)\n",
      "/home/js7561/dev/scaper/scaper/core.py:1199: ScaperWarning: children_playing event time (8.51) is too great given stretched event duration (2.06) and soundscape duration (10.00), changed to 7.94.\n",
      "  ScaperWarning)\n"
     ]
    },
    {
     "name": "stdout",
     "output_type": "stream",
     "text": [
      "Generating soundscape: 370/2000\n"
     ]
    },
    {
     "name": "stderr",
     "output_type": "stream",
     "text": [
      "/home/js7561/dev/scaper/scaper/core.py:1112: ScaperWarning: drilling event duration (2.19) is greater that source duration (1.63), changing to 1.63\n",
      "  ScaperWarning)\n",
      "/home/js7561/dev/scaper/scaper/core.py:1199: ScaperWarning: air_conditioner event time (7.30) is too great given stretched event duration (3.25) and soundscape duration (10.00), changed to 6.75.\n",
      "  ScaperWarning)\n"
     ]
    },
    {
     "name": "stdout",
     "output_type": "stream",
     "text": [
      "Generating soundscape: 371/2000\n"
     ]
    },
    {
     "name": "stderr",
     "output_type": "stream",
     "text": [
      "/home/js7561/dev/scaper/scaper/core.py:1112: ScaperWarning: gun_shot event duration (3.91) is greater that source duration (2.07), changing to 2.07\n",
      "  ScaperWarning)\n",
      "/home/js7561/dev/scaper/scaper/core.py:1112: ScaperWarning: gun_shot event duration (2.72) is greater that source duration (2.20), changing to 2.20\n",
      "  ScaperWarning)\n"
     ]
    },
    {
     "name": "stdout",
     "output_type": "stream",
     "text": [
      "Generating soundscape: 372/2000\n"
     ]
    },
    {
     "name": "stderr",
     "output_type": "stream",
     "text": [
      "/home/js7561/dev/scaper/scaper/core.py:1199: ScaperWarning: jackhammer event time (9.59) is too great given stretched event duration (4.15) and soundscape duration (10.00), changed to 5.85.\n",
      "  ScaperWarning)\n",
      "/home/js7561/dev/scaper/scaper/core.py:1112: ScaperWarning: car_horn event duration (0.71) is greater that source duration (0.05), changing to 0.05\n",
      "  ScaperWarning)\n"
     ]
    },
    {
     "name": "stdout",
     "output_type": "stream",
     "text": [
      "Generating soundscape: 373/2000\n"
     ]
    },
    {
     "name": "stderr",
     "output_type": "stream",
     "text": [
      "/home/js7561/dev/scaper/scaper/core.py:1112: ScaperWarning: gun_shot event duration (3.23) is greater that source duration (2.33), changing to 2.33\n",
      "  ScaperWarning)\n",
      "/home/js7561/dev/scaper/scaper/core.py:1112: ScaperWarning: gun_shot event duration (2.60) is greater that source duration (1.21), changing to 1.21\n",
      "  ScaperWarning)\n",
      "/home/js7561/dev/scaper/scaper/core.py:1112: ScaperWarning: drilling event duration (3.18) is greater that source duration (1.05), changing to 1.05\n",
      "  ScaperWarning)\n"
     ]
    },
    {
     "name": "stdout",
     "output_type": "stream",
     "text": [
      "Generating soundscape: 374/2000\n"
     ]
    },
    {
     "name": "stderr",
     "output_type": "stream",
     "text": [
      "/home/js7561/dev/scaper/scaper/core.py:1199: ScaperWarning: drilling event time (7.14) is too great given stretched event duration (4.69) and soundscape duration (10.00), changed to 5.31.\n",
      "  ScaperWarning)\n",
      "/home/js7561/dev/scaper/scaper/core.py:1112: ScaperWarning: gun_shot event duration (3.97) is greater that source duration (2.23), changing to 2.23\n",
      "  ScaperWarning)\n",
      "/home/js7561/dev/scaper/scaper/core.py:1199: ScaperWarning: gun_shot event time (8.40) is too great given stretched event duration (2.13) and soundscape duration (10.00), changed to 7.87.\n",
      "  ScaperWarning)\n",
      "/home/js7561/dev/scaper/scaper/core.py:1112: ScaperWarning: car_horn event duration (3.48) is greater that source duration (0.50), changing to 0.50\n",
      "  ScaperWarning)\n"
     ]
    },
    {
     "name": "stdout",
     "output_type": "stream",
     "text": [
      "Generating soundscape: 375/2000\n",
      "Generating soundscape: 376/2000\n"
     ]
    },
    {
     "name": "stderr",
     "output_type": "stream",
     "text": [
      "/home/js7561/dev/scaper/scaper/core.py:1112: ScaperWarning: gun_shot event duration (2.06) is greater that source duration (1.66), changing to 1.66\n",
      "  ScaperWarning)\n"
     ]
    },
    {
     "name": "stdout",
     "output_type": "stream",
     "text": [
      "Generating soundscape: 377/2000\n"
     ]
    },
    {
     "name": "stderr",
     "output_type": "stream",
     "text": [
      "/home/js7561/dev/scaper/scaper/core.py:1199: ScaperWarning: siren event time (7.72) is too great given stretched event duration (2.59) and soundscape duration (10.00), changed to 7.41.\n",
      "  ScaperWarning)\n"
     ]
    },
    {
     "name": "stdout",
     "output_type": "stream",
     "text": [
      "Generating soundscape: 378/2000\n"
     ]
    },
    {
     "name": "stderr",
     "output_type": "stream",
     "text": [
      "/home/js7561/dev/scaper/scaper/core.py:1199: ScaperWarning: engine_idling event time (9.26) is too great given stretched event duration (1.06) and soundscape duration (10.00), changed to 8.94.\n",
      "  ScaperWarning)\n",
      "/home/js7561/dev/scaper/scaper/core.py:1112: ScaperWarning: car_horn event duration (2.43) is greater that source duration (0.22), changing to 0.22\n",
      "  ScaperWarning)\n"
     ]
    },
    {
     "name": "stdout",
     "output_type": "stream",
     "text": [
      "Generating soundscape: 379/2000\n"
     ]
    },
    {
     "name": "stderr",
     "output_type": "stream",
     "text": [
      "/home/js7561/dev/scaper/scaper/core.py:1199: ScaperWarning: children_playing event time (9.15) is too great given stretched event duration (3.81) and soundscape duration (10.00), changed to 6.19.\n",
      "  ScaperWarning)\n"
     ]
    },
    {
     "name": "stdout",
     "output_type": "stream",
     "text": [
      "Generating soundscape: 380/2000\n"
     ]
    },
    {
     "name": "stderr",
     "output_type": "stream",
     "text": [
      "/home/js7561/dev/scaper/scaper/core.py:1112: ScaperWarning: gun_shot event duration (3.45) is greater that source duration (0.32), changing to 0.32\n",
      "  ScaperWarning)\n",
      "/home/js7561/dev/scaper/scaper/core.py:1112: ScaperWarning: gun_shot event duration (3.97) is greater that source duration (1.19), changing to 1.19\n",
      "  ScaperWarning)\n",
      "/home/js7561/dev/scaper/scaper/core.py:1112: ScaperWarning: car_horn event duration (3.15) is greater that source duration (1.09), changing to 1.09\n",
      "  ScaperWarning)\n"
     ]
    },
    {
     "name": "stdout",
     "output_type": "stream",
     "text": [
      "Generating soundscape: 381/2000\n"
     ]
    },
    {
     "name": "stderr",
     "output_type": "stream",
     "text": [
      "/home/js7561/dev/scaper/scaper/core.py:1112: ScaperWarning: gun_shot event duration (3.48) is greater that source duration (2.08), changing to 2.08\n",
      "  ScaperWarning)\n"
     ]
    },
    {
     "name": "stdout",
     "output_type": "stream",
     "text": [
      "Generating soundscape: 382/2000\n"
     ]
    },
    {
     "name": "stderr",
     "output_type": "stream",
     "text": [
      "/home/js7561/dev/scaper/scaper/core.py:1112: ScaperWarning: gun_shot event duration (2.69) is greater that source duration (0.27), changing to 0.27\n",
      "  ScaperWarning)\n",
      "/home/js7561/dev/scaper/scaper/core.py:1112: ScaperWarning: gun_shot event duration (2.58) is greater that source duration (1.87), changing to 1.87\n",
      "  ScaperWarning)\n"
     ]
    },
    {
     "name": "stdout",
     "output_type": "stream",
     "text": [
      "Generating soundscape: 383/2000\n"
     ]
    },
    {
     "name": "stderr",
     "output_type": "stream",
     "text": [
      "/home/js7561/dev/scaper/scaper/core.py:1112: ScaperWarning: car_horn event duration (3.03) is greater that source duration (2.98), changing to 2.98\n",
      "  ScaperWarning)\n",
      "/home/js7561/dev/scaper/scaper/core.py:1112: ScaperWarning: gun_shot event duration (2.83) is greater that source duration (0.63), changing to 0.63\n",
      "  ScaperWarning)\n",
      "/home/js7561/dev/scaper/scaper/core.py:1112: ScaperWarning: drilling event duration (3.69) is greater that source duration (0.62), changing to 0.62\n",
      "  ScaperWarning)\n",
      "/home/js7561/dev/scaper/scaper/core.py:1112: ScaperWarning: gun_shot event duration (3.26) is greater that source duration (1.45), changing to 1.45\n",
      "  ScaperWarning)\n",
      "/home/js7561/dev/scaper/scaper/core.py:1199: ScaperWarning: car_horn event time (9.41) is too great given stretched event duration (1.63) and soundscape duration (10.00), changed to 8.37.\n",
      "  ScaperWarning)\n"
     ]
    },
    {
     "name": "stdout",
     "output_type": "stream",
     "text": [
      "Generating soundscape: 384/2000\n"
     ]
    },
    {
     "name": "stderr",
     "output_type": "stream",
     "text": [
      "/home/js7561/dev/scaper/scaper/core.py:1199: ScaperWarning: engine_idling event time (8.55) is too great given stretched event duration (2.92) and soundscape duration (10.00), changed to 7.08.\n",
      "  ScaperWarning)\n"
     ]
    },
    {
     "name": "stdout",
     "output_type": "stream",
     "text": [
      "Generating soundscape: 385/2000\n",
      "Generating soundscape: 386/2000\n",
      "Generating soundscape: 387/2000\n"
     ]
    },
    {
     "name": "stderr",
     "output_type": "stream",
     "text": [
      "/home/js7561/dev/scaper/scaper/core.py:1199: ScaperWarning: drilling event time (9.45) is too great given stretched event duration (1.95) and soundscape duration (10.00), changed to 8.05.\n",
      "  ScaperWarning)\n",
      "/home/js7561/dev/scaper/scaper/core.py:1112: ScaperWarning: gun_shot event duration (2.20) is greater that source duration (1.33), changing to 1.33\n",
      "  ScaperWarning)\n",
      "/home/js7561/dev/scaper/scaper/core.py:1199: ScaperWarning: street_music event time (9.02) is too great given stretched event duration (3.33) and soundscape duration (10.00), changed to 6.67.\n",
      "  ScaperWarning)\n",
      "/home/js7561/dev/scaper/scaper/core.py:1112: ScaperWarning: gun_shot event duration (1.60) is greater that source duration (1.06), changing to 1.06\n",
      "  ScaperWarning)\n"
     ]
    },
    {
     "name": "stdout",
     "output_type": "stream",
     "text": [
      "Generating soundscape: 388/2000\n",
      "Generating soundscape: 389/2000\n"
     ]
    },
    {
     "name": "stderr",
     "output_type": "stream",
     "text": [
      "/home/js7561/dev/scaper/scaper/core.py:1199: ScaperWarning: drilling event time (9.63) is too great given stretched event duration (2.28) and soundscape duration (10.00), changed to 7.72.\n",
      "  ScaperWarning)\n",
      "/home/js7561/dev/scaper/scaper/core.py:1199: ScaperWarning: engine_idling event time (9.25) is too great given stretched event duration (0.79) and soundscape duration (10.00), changed to 9.21.\n",
      "  ScaperWarning)\n",
      "/home/js7561/dev/scaper/scaper/core.py:1112: ScaperWarning: car_horn event duration (1.49) is greater that source duration (0.22), changing to 0.22\n",
      "  ScaperWarning)\n",
      "/home/js7561/dev/scaper/scaper/core.py:1112: ScaperWarning: dog_bark event duration (3.91) is greater that source duration (1.89), changing to 1.89\n",
      "  ScaperWarning)\n"
     ]
    },
    {
     "name": "stdout",
     "output_type": "stream",
     "text": [
      "Generating soundscape: 390/2000\n"
     ]
    },
    {
     "name": "stderr",
     "output_type": "stream",
     "text": [
      "/home/js7561/dev/scaper/scaper/core.py:1199: ScaperWarning: children_playing event time (8.14) is too great given stretched event duration (2.73) and soundscape duration (10.00), changed to 7.27.\n",
      "  ScaperWarning)\n",
      "/home/js7561/dev/scaper/scaper/core.py:1199: ScaperWarning: engine_idling event time (8.80) is too great given stretched event duration (1.30) and soundscape duration (10.00), changed to 8.70.\n",
      "  ScaperWarning)\n"
     ]
    },
    {
     "name": "stdout",
     "output_type": "stream",
     "text": [
      "Generating soundscape: 391/2000\n"
     ]
    },
    {
     "name": "stderr",
     "output_type": "stream",
     "text": [
      "/home/js7561/dev/scaper/scaper/core.py:1199: ScaperWarning: air_conditioner event time (9.07) is too great given stretched event duration (1.62) and soundscape duration (10.00), changed to 8.38.\n",
      "  ScaperWarning)\n",
      "/home/js7561/dev/scaper/scaper/core.py:1199: ScaperWarning: street_music event time (7.32) is too great given stretched event duration (4.09) and soundscape duration (10.00), changed to 5.91.\n",
      "  ScaperWarning)\n",
      "/home/js7561/dev/scaper/scaper/core.py:1199: ScaperWarning: engine_idling event time (9.19) is too great given stretched event duration (2.64) and soundscape duration (10.00), changed to 7.36.\n",
      "  ScaperWarning)\n",
      "/home/js7561/dev/scaper/scaper/core.py:1112: ScaperWarning: gun_shot event duration (3.82) is greater that source duration (1.00), changing to 1.00\n",
      "  ScaperWarning)\n",
      "/home/js7561/dev/scaper/scaper/core.py:1199: ScaperWarning: engine_idling event time (9.82) is too great given stretched event duration (2.25) and soundscape duration (10.00), changed to 7.75.\n",
      "  ScaperWarning)\n",
      "/home/js7561/dev/scaper/scaper/core.py:1199: ScaperWarning: air_conditioner event time (9.10) is too great given stretched event duration (4.20) and soundscape duration (10.00), changed to 5.80.\n",
      "  ScaperWarning)\n"
     ]
    },
    {
     "name": "stdout",
     "output_type": "stream",
     "text": [
      "Generating soundscape: 392/2000\n"
     ]
    },
    {
     "name": "stderr",
     "output_type": "stream",
     "text": [
      "/home/js7561/dev/scaper/scaper/core.py:1112: ScaperWarning: gun_shot event duration (2.18) is greater that source duration (1.50), changing to 1.50\n",
      "  ScaperWarning)\n"
     ]
    },
    {
     "name": "stdout",
     "output_type": "stream",
     "text": [
      "Generating soundscape: 393/2000\n"
     ]
    },
    {
     "name": "stderr",
     "output_type": "stream",
     "text": [
      "/home/js7561/dev/scaper/scaper/core.py:1112: ScaperWarning: car_horn event duration (3.94) is greater that source duration (0.78), changing to 0.78\n",
      "  ScaperWarning)\n"
     ]
    },
    {
     "name": "stdout",
     "output_type": "stream",
     "text": [
      "Generating soundscape: 394/2000\n"
     ]
    },
    {
     "name": "stderr",
     "output_type": "stream",
     "text": [
      "/home/js7561/dev/scaper/scaper/core.py:1112: ScaperWarning: car_horn event duration (2.16) is greater that source duration (0.19), changing to 0.19\n",
      "  ScaperWarning)\n",
      "/home/js7561/dev/scaper/scaper/core.py:1199: ScaperWarning: car_horn event time (8.60) is too great given stretched event duration (1.74) and soundscape duration (10.00), changed to 8.26.\n",
      "  ScaperWarning)\n",
      "/home/js7561/dev/scaper/scaper/core.py:1112: ScaperWarning: dog_bark event duration (1.68) is greater that source duration (0.89), changing to 0.89\n",
      "  ScaperWarning)\n"
     ]
    },
    {
     "name": "stdout",
     "output_type": "stream",
     "text": [
      "Generating soundscape: 395/2000\n"
     ]
    },
    {
     "name": "stderr",
     "output_type": "stream",
     "text": [
      "/home/js7561/dev/scaper/scaper/core.py:1112: ScaperWarning: dog_bark event duration (1.48) is greater that source duration (1.22), changing to 1.22\n",
      "  ScaperWarning)\n",
      "/home/js7561/dev/scaper/scaper/core.py:1199: ScaperWarning: dog_bark event time (9.63) is too great given stretched event duration (1.18) and soundscape duration (10.00), changed to 8.82.\n",
      "  ScaperWarning)\n"
     ]
    },
    {
     "name": "stdout",
     "output_type": "stream",
     "text": [
      "Generating soundscape: 396/2000\n"
     ]
    },
    {
     "name": "stderr",
     "output_type": "stream",
     "text": [
      "/home/js7561/dev/scaper/scaper/core.py:1199: ScaperWarning: car_horn event time (7.81) is too great given stretched event duration (2.38) and soundscape duration (10.00), changed to 7.62.\n",
      "  ScaperWarning)\n"
     ]
    },
    {
     "name": "stdout",
     "output_type": "stream",
     "text": [
      "Generating soundscape: 397/2000\n"
     ]
    },
    {
     "name": "stderr",
     "output_type": "stream",
     "text": [
      "/home/js7561/dev/scaper/scaper/core.py:1199: ScaperWarning: car_horn event time (9.70) is too great given stretched event duration (4.13) and soundscape duration (10.00), changed to 5.87.\n",
      "  ScaperWarning)\n"
     ]
    },
    {
     "name": "stdout",
     "output_type": "stream",
     "text": [
      "Generating soundscape: 398/2000\n"
     ]
    },
    {
     "name": "stderr",
     "output_type": "stream",
     "text": [
      "/home/js7561/dev/scaper/scaper/core.py:1199: ScaperWarning: jackhammer event time (6.21) is too great given stretched event duration (4.61) and soundscape duration (10.00), changed to 5.39.\n",
      "  ScaperWarning)\n"
     ]
    },
    {
     "name": "stdout",
     "output_type": "stream",
     "text": [
      "Generating soundscape: 399/2000\n"
     ]
    },
    {
     "name": "stderr",
     "output_type": "stream",
     "text": [
      "/home/js7561/dev/scaper/scaper/core.py:1112: ScaperWarning: jackhammer event duration (2.81) is greater that source duration (1.64), changing to 1.64\n",
      "  ScaperWarning)\n",
      "/home/js7561/dev/scaper/scaper/core.py:1112: ScaperWarning: gun_shot event duration (3.73) is greater that source duration (1.45), changing to 1.45\n",
      "  ScaperWarning)\n"
     ]
    },
    {
     "name": "stdout",
     "output_type": "stream",
     "text": [
      "Generating soundscape: 400/2000\n",
      "Generating soundscape: 401/2000\n"
     ]
    },
    {
     "name": "stderr",
     "output_type": "stream",
     "text": [
      "/home/js7561/dev/scaper/scaper/core.py:1199: ScaperWarning: engine_idling event time (8.30) is too great given stretched event duration (3.12) and soundscape duration (10.00), changed to 6.88.\n",
      "  ScaperWarning)\n"
     ]
    },
    {
     "name": "stdout",
     "output_type": "stream",
     "text": [
      "Generating soundscape: 402/2000\n",
      "Generating soundscape: 403/2000\n"
     ]
    },
    {
     "name": "stderr",
     "output_type": "stream",
     "text": [
      "/home/js7561/dev/scaper/scaper/core.py:1112: ScaperWarning: dog_bark event duration (3.99) is greater that source duration (2.77), changing to 2.77\n",
      "  ScaperWarning)\n",
      "/home/js7561/dev/scaper/scaper/core.py:1199: ScaperWarning: dog_bark event time (7.73) is too great given stretched event duration (3.06) and soundscape duration (10.00), changed to 6.94.\n",
      "  ScaperWarning)\n"
     ]
    },
    {
     "name": "stdout",
     "output_type": "stream",
     "text": [
      "Generating soundscape: 404/2000\n",
      "Generating soundscape: 405/2000\n"
     ]
    },
    {
     "name": "stderr",
     "output_type": "stream",
     "text": [
      "/home/js7561/dev/scaper/scaper/core.py:1112: ScaperWarning: car_horn event duration (3.93) is greater that source duration (0.49), changing to 0.49\n",
      "  ScaperWarning)\n",
      "/home/js7561/dev/scaper/scaper/core.py:1199: ScaperWarning: engine_idling event time (7.88) is too great given stretched event duration (3.33) and soundscape duration (10.00), changed to 6.67.\n",
      "  ScaperWarning)\n",
      "/home/js7561/dev/scaper/scaper/core.py:1199: ScaperWarning: air_conditioner event time (7.60) is too great given stretched event duration (2.49) and soundscape duration (10.00), changed to 7.51.\n",
      "  ScaperWarning)\n",
      "/home/js7561/dev/scaper/scaper/core.py:1199: ScaperWarning: drilling event time (6.73) is too great given stretched event duration (4.29) and soundscape duration (10.00), changed to 5.71.\n",
      "  ScaperWarning)\n",
      "/home/js7561/dev/scaper/scaper/core.py:1199: ScaperWarning: street_music event time (7.00) is too great given stretched event duration (3.15) and soundscape duration (10.00), changed to 6.85.\n",
      "  ScaperWarning)\n",
      "/home/js7561/dev/scaper/scaper/core.py:1199: ScaperWarning: siren event time (7.44) is too great given stretched event duration (2.88) and soundscape duration (10.00), changed to 7.12.\n",
      "  ScaperWarning)\n"
     ]
    },
    {
     "name": "stdout",
     "output_type": "stream",
     "text": [
      "Generating soundscape: 406/2000\n"
     ]
    },
    {
     "name": "stderr",
     "output_type": "stream",
     "text": [
      "/home/js7561/dev/scaper/scaper/core.py:1112: ScaperWarning: car_horn event duration (2.82) is greater that source duration (1.46), changing to 1.46\n",
      "  ScaperWarning)\n"
     ]
    },
    {
     "name": "stdout",
     "output_type": "stream",
     "text": [
      "Generating soundscape: 407/2000\n",
      "Generating soundscape: 408/2000\n"
     ]
    },
    {
     "name": "stderr",
     "output_type": "stream",
     "text": [
      "/home/js7561/dev/scaper/scaper/core.py:1112: ScaperWarning: dog_bark event duration (2.66) is greater that source duration (2.30), changing to 2.30\n",
      "  ScaperWarning)\n"
     ]
    },
    {
     "name": "stdout",
     "output_type": "stream",
     "text": [
      "Generating soundscape: 409/2000\n",
      "Generating soundscape: 410/2000\n"
     ]
    },
    {
     "name": "stderr",
     "output_type": "stream",
     "text": [
      "/home/js7561/dev/scaper/scaper/core.py:1112: ScaperWarning: jackhammer event duration (2.93) is greater that source duration (2.84), changing to 2.84\n",
      "  ScaperWarning)\n"
     ]
    },
    {
     "name": "stdout",
     "output_type": "stream",
     "text": [
      "Generating soundscape: 411/2000\n",
      "Generating soundscape: 412/2000\n"
     ]
    },
    {
     "name": "stderr",
     "output_type": "stream",
     "text": [
      "/home/js7561/dev/scaper/scaper/core.py:1199: ScaperWarning: siren event time (7.90) is too great given stretched event duration (2.11) and soundscape duration (10.00), changed to 7.89.\n",
      "  ScaperWarning)\n"
     ]
    },
    {
     "name": "stdout",
     "output_type": "stream",
     "text": [
      "Generating soundscape: 413/2000\n"
     ]
    },
    {
     "name": "stderr",
     "output_type": "stream",
     "text": [
      "/home/js7561/dev/scaper/scaper/core.py:1112: ScaperWarning: siren event duration (2.02) is greater that source duration (0.93), changing to 0.93\n",
      "  ScaperWarning)\n"
     ]
    },
    {
     "name": "stdout",
     "output_type": "stream",
     "text": [
      "Generating soundscape: 414/2000\n"
     ]
    },
    {
     "name": "stderr",
     "output_type": "stream",
     "text": [
      "/home/js7561/dev/scaper/scaper/core.py:1199: ScaperWarning: siren event time (9.20) is too great given stretched event duration (1.11) and soundscape duration (10.00), changed to 8.89.\n",
      "  ScaperWarning)\n",
      "/home/js7561/dev/scaper/scaper/core.py:1112: ScaperWarning: gun_shot event duration (3.04) is greater that source duration (1.19), changing to 1.19\n",
      "  ScaperWarning)\n",
      "/home/js7561/dev/scaper/scaper/core.py:1199: ScaperWarning: drilling event time (7.62) is too great given stretched event duration (3.62) and soundscape duration (10.00), changed to 6.38.\n",
      "  ScaperWarning)\n"
     ]
    },
    {
     "name": "stdout",
     "output_type": "stream",
     "text": [
      "Generating soundscape: 415/2000\n",
      "Generating soundscape: 416/2000\n"
     ]
    },
    {
     "name": "stderr",
     "output_type": "stream",
     "text": [
      "/home/js7561/dev/scaper/scaper/core.py:1112: ScaperWarning: gun_shot event duration (2.42) is greater that source duration (1.00), changing to 1.00\n",
      "  ScaperWarning)\n"
     ]
    },
    {
     "name": "stdout",
     "output_type": "stream",
     "text": [
      "Generating soundscape: 417/2000\n"
     ]
    },
    {
     "name": "stderr",
     "output_type": "stream",
     "text": [
      "/home/js7561/dev/scaper/scaper/core.py:1199: ScaperWarning: car_horn event time (7.18) is too great given stretched event duration (3.31) and soundscape duration (10.00), changed to 6.69.\n",
      "  ScaperWarning)\n",
      "/home/js7561/dev/scaper/scaper/core.py:1199: ScaperWarning: street_music event time (9.61) is too great given stretched event duration (2.22) and soundscape duration (10.00), changed to 7.78.\n",
      "  ScaperWarning)\n"
     ]
    },
    {
     "name": "stdout",
     "output_type": "stream",
     "text": [
      "Generating soundscape: 418/2000\n"
     ]
    },
    {
     "name": "stderr",
     "output_type": "stream",
     "text": [
      "/home/js7561/dev/scaper/scaper/core.py:1112: ScaperWarning: car_horn event duration (3.31) is greater that source duration (0.16), changing to 0.16\n",
      "  ScaperWarning)\n"
     ]
    },
    {
     "name": "stdout",
     "output_type": "stream",
     "text": [
      "Generating soundscape: 419/2000\n"
     ]
    },
    {
     "name": "stderr",
     "output_type": "stream",
     "text": [
      "/home/js7561/dev/scaper/scaper/core.py:1199: ScaperWarning: children_playing event time (8.86) is too great given stretched event duration (2.92) and soundscape duration (10.00), changed to 7.08.\n",
      "  ScaperWarning)\n",
      "/home/js7561/dev/scaper/scaper/core.py:1112: ScaperWarning: dog_bark event duration (1.26) is greater that source duration (1.03), changing to 1.03\n",
      "  ScaperWarning)\n"
     ]
    },
    {
     "name": "stdout",
     "output_type": "stream",
     "text": [
      "Generating soundscape: 420/2000\n"
     ]
    },
    {
     "name": "stderr",
     "output_type": "stream",
     "text": [
      "/home/js7561/dev/scaper/scaper/core.py:1112: ScaperWarning: car_horn event duration (1.79) is greater that source duration (1.04), changing to 1.04\n",
      "  ScaperWarning)\n",
      "/home/js7561/dev/scaper/scaper/core.py:1112: ScaperWarning: jackhammer event duration (3.76) is greater that source duration (0.66), changing to 0.66\n",
      "  ScaperWarning)\n"
     ]
    },
    {
     "name": "stdout",
     "output_type": "stream",
     "text": [
      "Generating soundscape: 421/2000\n"
     ]
    },
    {
     "name": "stderr",
     "output_type": "stream",
     "text": [
      "/home/js7561/dev/scaper/scaper/core.py:1199: ScaperWarning: children_playing event time (6.14) is too great given stretched event duration (3.89) and soundscape duration (10.00), changed to 6.11.\n",
      "  ScaperWarning)\n"
     ]
    },
    {
     "name": "stdout",
     "output_type": "stream",
     "text": [
      "Generating soundscape: 422/2000\n"
     ]
    },
    {
     "name": "stderr",
     "output_type": "stream",
     "text": [
      "/home/js7561/dev/scaper/scaper/core.py:1112: ScaperWarning: gun_shot event duration (1.50) is greater that source duration (1.10), changing to 1.10\n",
      "  ScaperWarning)\n",
      "/home/js7561/dev/scaper/scaper/core.py:1199: ScaperWarning: siren event time (8.72) is too great given stretched event duration (3.01) and soundscape duration (10.00), changed to 6.99.\n",
      "  ScaperWarning)\n",
      "/home/js7561/dev/scaper/scaper/core.py:1199: ScaperWarning: dog_bark event time (8.70) is too great given stretched event duration (4.18) and soundscape duration (10.00), changed to 5.82.\n",
      "  ScaperWarning)\n",
      "/home/js7561/dev/scaper/scaper/core.py:1199: ScaperWarning: street_music event time (6.63) is too great given stretched event duration (3.88) and soundscape duration (10.00), changed to 6.12.\n",
      "  ScaperWarning)\n"
     ]
    },
    {
     "name": "stdout",
     "output_type": "stream",
     "text": [
      "Generating soundscape: 423/2000\n",
      "Generating soundscape: 424/2000\n"
     ]
    },
    {
     "name": "stderr",
     "output_type": "stream",
     "text": [
      "/home/js7561/dev/scaper/scaper/core.py:1199: ScaperWarning: siren event time (7.79) is too great given stretched event duration (3.51) and soundscape duration (10.00), changed to 6.49.\n",
      "  ScaperWarning)\n",
      "/home/js7561/dev/scaper/scaper/core.py:1199: ScaperWarning: car_horn event time (7.49) is too great given stretched event duration (3.76) and soundscape duration (10.00), changed to 6.24.\n",
      "  ScaperWarning)\n"
     ]
    },
    {
     "name": "stdout",
     "output_type": "stream",
     "text": [
      "Generating soundscape: 425/2000\n"
     ]
    },
    {
     "name": "stderr",
     "output_type": "stream",
     "text": [
      "/home/js7561/dev/scaper/scaper/core.py:1112: ScaperWarning: car_horn event duration (2.45) is greater that source duration (0.24), changing to 0.24\n",
      "  ScaperWarning)\n",
      "/home/js7561/dev/scaper/scaper/core.py:1199: ScaperWarning: street_music event time (8.22) is too great given stretched event duration (2.55) and soundscape duration (10.00), changed to 7.45.\n",
      "  ScaperWarning)\n"
     ]
    },
    {
     "name": "stdout",
     "output_type": "stream",
     "text": [
      "Generating soundscape: 426/2000\n"
     ]
    },
    {
     "name": "stderr",
     "output_type": "stream",
     "text": [
      "/home/js7561/dev/scaper/scaper/core.py:1112: ScaperWarning: gun_shot event duration (1.64) is greater that source duration (1.19), changing to 1.19\n",
      "  ScaperWarning)\n",
      "/home/js7561/dev/scaper/scaper/core.py:1112: ScaperWarning: jackhammer event duration (3.59) is greater that source duration (2.97), changing to 2.97\n",
      "  ScaperWarning)\n",
      "/home/js7561/dev/scaper/scaper/core.py:1199: ScaperWarning: car_horn event time (8.23) is too great given stretched event duration (2.20) and soundscape duration (10.00), changed to 7.80.\n",
      "  ScaperWarning)\n"
     ]
    },
    {
     "name": "stdout",
     "output_type": "stream",
     "text": [
      "Generating soundscape: 427/2000\n",
      "Generating soundscape: 428/2000\n",
      "Generating soundscape: 429/2000\n"
     ]
    },
    {
     "name": "stderr",
     "output_type": "stream",
     "text": [
      "/home/js7561/dev/scaper/scaper/core.py:1199: ScaperWarning: engine_idling event time (9.28) is too great given stretched event duration (0.81) and soundscape duration (10.00), changed to 9.19.\n",
      "  ScaperWarning)\n"
     ]
    },
    {
     "name": "stdout",
     "output_type": "stream",
     "text": [
      "Generating soundscape: 430/2000\n",
      "Generating soundscape: 431/2000\n"
     ]
    },
    {
     "name": "stderr",
     "output_type": "stream",
     "text": [
      "/home/js7561/dev/scaper/scaper/core.py:1112: ScaperWarning: dog_bark event duration (3.08) is greater that source duration (1.19), changing to 1.19\n",
      "  ScaperWarning)\n",
      "/home/js7561/dev/scaper/scaper/core.py:1112: ScaperWarning: gun_shot event duration (3.72) is greater that source duration (3.15), changing to 3.15\n",
      "  ScaperWarning)\n"
     ]
    },
    {
     "name": "stdout",
     "output_type": "stream",
     "text": [
      "Generating soundscape: 432/2000\n"
     ]
    },
    {
     "name": "stderr",
     "output_type": "stream",
     "text": [
      "/home/js7561/dev/scaper/scaper/core.py:1112: ScaperWarning: gun_shot event duration (3.74) is greater that source duration (2.40), changing to 2.40\n",
      "  ScaperWarning)\n",
      "/home/js7561/dev/scaper/scaper/core.py:1199: ScaperWarning: gun_shot event time (8.86) is too great given stretched event duration (2.54) and soundscape duration (10.00), changed to 7.46.\n",
      "  ScaperWarning)\n",
      "/home/js7561/dev/scaper/scaper/core.py:1112: ScaperWarning: dog_bark event duration (1.59) is greater that source duration (0.61), changing to 0.61\n",
      "  ScaperWarning)\n",
      "/home/js7561/dev/scaper/scaper/core.py:1199: ScaperWarning: drilling event time (9.49) is too great given stretched event duration (2.79) and soundscape duration (10.00), changed to 7.21.\n",
      "  ScaperWarning)\n"
     ]
    },
    {
     "name": "stdout",
     "output_type": "stream",
     "text": [
      "Generating soundscape: 433/2000\n"
     ]
    },
    {
     "name": "stderr",
     "output_type": "stream",
     "text": [
      "/home/js7561/dev/scaper/scaper/core.py:1112: ScaperWarning: gun_shot event duration (1.11) is greater that source duration (1.08), changing to 1.08\n",
      "  ScaperWarning)\n",
      "/home/js7561/dev/scaper/scaper/core.py:1199: ScaperWarning: drilling event time (8.75) is too great given stretched event duration (1.68) and soundscape duration (10.00), changed to 8.32.\n",
      "  ScaperWarning)\n",
      "/home/js7561/dev/scaper/scaper/core.py:1112: ScaperWarning: car_horn event duration (3.74) is greater that source duration (1.12), changing to 1.12\n",
      "  ScaperWarning)\n",
      "/home/js7561/dev/scaper/scaper/core.py:1112: ScaperWarning: jackhammer event duration (3.03) is greater that source duration (0.81), changing to 0.81\n",
      "  ScaperWarning)\n"
     ]
    },
    {
     "name": "stdout",
     "output_type": "stream",
     "text": [
      "Generating soundscape: 434/2000\n"
     ]
    },
    {
     "name": "stderr",
     "output_type": "stream",
     "text": [
      "/home/js7561/dev/scaper/scaper/core.py:1199: ScaperWarning: street_music event time (6.86) is too great given stretched event duration (4.10) and soundscape duration (10.00), changed to 5.90.\n",
      "  ScaperWarning)\n"
     ]
    },
    {
     "name": "stdout",
     "output_type": "stream",
     "text": [
      "Generating soundscape: 435/2000\n",
      "Generating soundscape: 436/2000\n",
      "Generating soundscape: 437/2000\n",
      "Generating soundscape: 438/2000\n"
     ]
    },
    {
     "name": "stderr",
     "output_type": "stream",
     "text": [
      "/home/js7561/dev/scaper/scaper/core.py:1112: ScaperWarning: gun_shot event duration (2.30) is greater that source duration (1.35), changing to 1.35\n",
      "  ScaperWarning)\n",
      "/home/js7561/dev/scaper/scaper/core.py:1199: ScaperWarning: car_horn event time (6.60) is too great given stretched event duration (3.47) and soundscape duration (10.00), changed to 6.53.\n",
      "  ScaperWarning)\n",
      "/home/js7561/dev/scaper/scaper/core.py:1112: ScaperWarning: jackhammer event duration (1.65) is greater that source duration (0.94), changing to 0.94\n",
      "  ScaperWarning)\n"
     ]
    },
    {
     "name": "stdout",
     "output_type": "stream",
     "text": [
      "Generating soundscape: 439/2000\n",
      "Generating soundscape: 440/2000\n"
     ]
    },
    {
     "name": "stderr",
     "output_type": "stream",
     "text": [
      "/home/js7561/dev/scaper/scaper/core.py:1112: ScaperWarning: dog_bark event duration (2.57) is greater that source duration (1.02), changing to 1.02\n",
      "  ScaperWarning)\n"
     ]
    },
    {
     "name": "stdout",
     "output_type": "stream",
     "text": [
      "Generating soundscape: 441/2000\n"
     ]
    },
    {
     "name": "stderr",
     "output_type": "stream",
     "text": [
      "/home/js7561/dev/scaper/scaper/core.py:1199: ScaperWarning: siren event time (7.89) is too great given stretched event duration (2.41) and soundscape duration (10.00), changed to 7.59.\n",
      "  ScaperWarning)\n",
      "/home/js7561/dev/scaper/scaper/core.py:1199: ScaperWarning: jackhammer event time (7.67) is too great given stretched event duration (3.27) and soundscape duration (10.00), changed to 6.73.\n",
      "  ScaperWarning)\n",
      "/home/js7561/dev/scaper/scaper/core.py:1199: ScaperWarning: dog_bark event time (7.55) is too great given stretched event duration (2.74) and soundscape duration (10.00), changed to 7.26.\n",
      "  ScaperWarning)\n",
      "/home/js7561/dev/scaper/scaper/core.py:1199: ScaperWarning: siren event time (8.00) is too great given stretched event duration (2.15) and soundscape duration (10.00), changed to 7.85.\n",
      "  ScaperWarning)\n"
     ]
    },
    {
     "name": "stdout",
     "output_type": "stream",
     "text": [
      "Generating soundscape: 442/2000\n"
     ]
    },
    {
     "name": "stderr",
     "output_type": "stream",
     "text": [
      "/home/js7561/dev/scaper/scaper/core.py:1199: ScaperWarning: engine_idling event time (9.71) is too great given stretched event duration (1.86) and soundscape duration (10.00), changed to 8.14.\n",
      "  ScaperWarning)\n",
      "/home/js7561/dev/scaper/scaper/core.py:1112: ScaperWarning: gun_shot event duration (1.57) is greater that source duration (0.83), changing to 0.83\n",
      "  ScaperWarning)\n",
      "/home/js7561/dev/scaper/scaper/core.py:1199: ScaperWarning: children_playing event time (9.24) is too great given stretched event duration (2.03) and soundscape duration (10.00), changed to 7.97.\n",
      "  ScaperWarning)\n"
     ]
    },
    {
     "name": "stdout",
     "output_type": "stream",
     "text": [
      "Generating soundscape: 443/2000\n"
     ]
    },
    {
     "name": "stderr",
     "output_type": "stream",
     "text": [
      "/home/js7561/dev/scaper/scaper/core.py:1112: ScaperWarning: gun_shot event duration (1.81) is greater that source duration (1.00), changing to 1.00\n",
      "  ScaperWarning)\n",
      "/home/js7561/dev/scaper/scaper/core.py:1199: ScaperWarning: children_playing event time (9.02) is too great given stretched event duration (3.63) and soundscape duration (10.00), changed to 6.37.\n",
      "  ScaperWarning)\n",
      "/home/js7561/dev/scaper/scaper/core.py:1112: ScaperWarning: dog_bark event duration (1.38) is greater that source duration (0.96), changing to 0.96\n",
      "  ScaperWarning)\n",
      "/home/js7561/dev/scaper/scaper/core.py:1199: ScaperWarning: street_music event time (8.48) is too great given stretched event duration (1.72) and soundscape duration (10.00), changed to 8.28.\n",
      "  ScaperWarning)\n"
     ]
    },
    {
     "name": "stdout",
     "output_type": "stream",
     "text": [
      "Generating soundscape: 444/2000\n"
     ]
    },
    {
     "name": "stderr",
     "output_type": "stream",
     "text": [
      "/home/js7561/dev/scaper/scaper/core.py:1199: ScaperWarning: street_music event time (9.44) is too great given stretched event duration (1.49) and soundscape duration (10.00), changed to 8.51.\n",
      "  ScaperWarning)\n",
      "/home/js7561/dev/scaper/scaper/core.py:1199: ScaperWarning: drilling event time (9.05) is too great given stretched event duration (1.82) and soundscape duration (10.00), changed to 8.18.\n",
      "  ScaperWarning)\n",
      "/home/js7561/dev/scaper/scaper/core.py:1112: ScaperWarning: gun_shot event duration (2.33) is greater that source duration (1.09), changing to 1.09\n",
      "  ScaperWarning)\n",
      "/home/js7561/dev/scaper/scaper/core.py:1199: ScaperWarning: gun_shot event time (9.37) is too great given stretched event duration (1.25) and soundscape duration (10.00), changed to 8.75.\n",
      "  ScaperWarning)\n"
     ]
    },
    {
     "name": "stdout",
     "output_type": "stream",
     "text": [
      "Generating soundscape: 445/2000\n"
     ]
    },
    {
     "name": "stderr",
     "output_type": "stream",
     "text": [
      "/home/js7561/dev/scaper/scaper/core.py:1112: ScaperWarning: gun_shot event duration (2.37) is greater that source duration (1.50), changing to 1.50\n",
      "  ScaperWarning)\n"
     ]
    },
    {
     "name": "stdout",
     "output_type": "stream",
     "text": [
      "Generating soundscape: 446/2000\n",
      "Generating soundscape: 447/2000\n"
     ]
    },
    {
     "name": "stderr",
     "output_type": "stream",
     "text": [
      "/home/js7561/dev/scaper/scaper/core.py:1112: ScaperWarning: gun_shot event duration (3.90) is greater that source duration (1.12), changing to 1.12\n",
      "  ScaperWarning)\n",
      "/home/js7561/dev/scaper/scaper/core.py:1112: ScaperWarning: gun_shot event duration (2.39) is greater that source duration (0.72), changing to 0.72\n",
      "  ScaperWarning)\n"
     ]
    },
    {
     "name": "stdout",
     "output_type": "stream",
     "text": [
      "Generating soundscape: 448/2000\n",
      "Generating soundscape: 449/2000\n"
     ]
    },
    {
     "name": "stderr",
     "output_type": "stream",
     "text": [
      "/home/js7561/dev/scaper/scaper/core.py:1112: ScaperWarning: dog_bark event duration (3.62) is greater that source duration (1.37), changing to 1.37\n",
      "  ScaperWarning)\n",
      "/home/js7561/dev/scaper/scaper/core.py:1199: ScaperWarning: dog_bark event time (9.52) is too great given stretched event duration (1.49) and soundscape duration (10.00), changed to 8.51.\n",
      "  ScaperWarning)\n",
      "/home/js7561/dev/scaper/scaper/core.py:1199: ScaperWarning: air_conditioner event time (8.56) is too great given stretched event duration (1.69) and soundscape duration (10.00), changed to 8.31.\n",
      "  ScaperWarning)\n",
      "/home/js7561/dev/scaper/scaper/core.py:1112: ScaperWarning: gun_shot event duration (2.43) is greater that source duration (2.30), changing to 2.30\n",
      "  ScaperWarning)\n"
     ]
    },
    {
     "name": "stdout",
     "output_type": "stream",
     "text": [
      "Generating soundscape: 450/2000\n",
      "Generating soundscape: 451/2000\n"
     ]
    },
    {
     "name": "stderr",
     "output_type": "stream",
     "text": [
      "/home/js7561/dev/scaper/scaper/core.py:1112: ScaperWarning: gun_shot event duration (2.04) is greater that source duration (1.09), changing to 1.09\n",
      "  ScaperWarning)\n",
      "/home/js7561/dev/scaper/scaper/core.py:1199: ScaperWarning: street_music event time (8.72) is too great given stretched event duration (1.69) and soundscape duration (10.00), changed to 8.31.\n",
      "  ScaperWarning)\n"
     ]
    },
    {
     "name": "stdout",
     "output_type": "stream",
     "text": [
      "Generating soundscape: 452/2000\n",
      "Generating soundscape: 453/2000\n"
     ]
    },
    {
     "name": "stderr",
     "output_type": "stream",
     "text": [
      "/home/js7561/dev/scaper/scaper/core.py:1199: ScaperWarning: siren event time (8.82) is too great given stretched event duration (1.21) and soundscape duration (10.00), changed to 8.79.\n",
      "  ScaperWarning)\n"
     ]
    },
    {
     "name": "stdout",
     "output_type": "stream",
     "text": [
      "Generating soundscape: 454/2000\n",
      "Generating soundscape: 455/2000\n"
     ]
    },
    {
     "name": "stderr",
     "output_type": "stream",
     "text": [
      "/home/js7561/dev/scaper/scaper/core.py:1112: ScaperWarning: gun_shot event duration (3.57) is greater that source duration (2.05), changing to 2.05\n",
      "  ScaperWarning)\n"
     ]
    },
    {
     "name": "stdout",
     "output_type": "stream",
     "text": [
      "Generating soundscape: 456/2000\n"
     ]
    },
    {
     "name": "stderr",
     "output_type": "stream",
     "text": [
      "/home/js7561/dev/scaper/scaper/core.py:1112: ScaperWarning: gun_shot event duration (3.43) is greater that source duration (1.71), changing to 1.71\n",
      "  ScaperWarning)\n",
      "/home/js7561/dev/scaper/scaper/core.py:1199: ScaperWarning: gun_shot event time (8.73) is too great given stretched event duration (1.84) and soundscape duration (10.00), changed to 8.16.\n",
      "  ScaperWarning)\n"
     ]
    },
    {
     "name": "stdout",
     "output_type": "stream",
     "text": [
      "Generating soundscape: 457/2000\n"
     ]
    },
    {
     "name": "stderr",
     "output_type": "stream",
     "text": [
      "/home/js7561/dev/scaper/scaper/core.py:1112: ScaperWarning: gun_shot event duration (1.23) is greater that source duration (1.18), changing to 1.18\n",
      "  ScaperWarning)\n"
     ]
    },
    {
     "name": "stdout",
     "output_type": "stream",
     "text": [
      "Generating soundscape: 458/2000\n",
      "Generating soundscape: 459/2000\n"
     ]
    },
    {
     "name": "stderr",
     "output_type": "stream",
     "text": [
      "/home/js7561/dev/scaper/scaper/core.py:1112: ScaperWarning: gun_shot event duration (3.34) is greater that source duration (1.08), changing to 1.08\n",
      "  ScaperWarning)\n",
      "/home/js7561/dev/scaper/scaper/core.py:1112: ScaperWarning: jackhammer event duration (3.19) is greater that source duration (2.60), changing to 2.60\n",
      "  ScaperWarning)\n",
      "/home/js7561/dev/scaper/scaper/core.py:1112: ScaperWarning: jackhammer event duration (1.48) is greater that source duration (1.25), changing to 1.25\n",
      "  ScaperWarning)\n"
     ]
    },
    {
     "name": "stdout",
     "output_type": "stream",
     "text": [
      "Generating soundscape: 460/2000\n",
      "Generating soundscape: 461/2000\n"
     ]
    },
    {
     "name": "stderr",
     "output_type": "stream",
     "text": [
      "/home/js7561/dev/scaper/scaper/core.py:1199: ScaperWarning: engine_idling event time (7.00) is too great given stretched event duration (3.75) and soundscape duration (10.00), changed to 6.25.\n",
      "  ScaperWarning)\n"
     ]
    },
    {
     "name": "stdout",
     "output_type": "stream",
     "text": [
      "Generating soundscape: 462/2000\n"
     ]
    },
    {
     "name": "stderr",
     "output_type": "stream",
     "text": [
      "/home/js7561/dev/scaper/scaper/core.py:1112: ScaperWarning: children_playing event duration (3.53) is greater that source duration (2.46), changing to 2.46\n",
      "  ScaperWarning)\n",
      "/home/js7561/dev/scaper/scaper/core.py:1112: ScaperWarning: drilling event duration (2.08) is greater that source duration (0.99), changing to 0.99\n",
      "  ScaperWarning)\n",
      "/home/js7561/dev/scaper/scaper/core.py:1112: ScaperWarning: gun_shot event duration (3.45) is greater that source duration (2.77), changing to 2.77\n",
      "  ScaperWarning)\n"
     ]
    },
    {
     "name": "stdout",
     "output_type": "stream",
     "text": [
      "Generating soundscape: 463/2000\n"
     ]
    },
    {
     "name": "stderr",
     "output_type": "stream",
     "text": [
      "/home/js7561/dev/scaper/scaper/core.py:1199: ScaperWarning: street_music event time (9.76) is too great given stretched event duration (1.37) and soundscape duration (10.00), changed to 8.63.\n",
      "  ScaperWarning)\n",
      "/home/js7561/dev/scaper/scaper/core.py:1112: ScaperWarning: gun_shot event duration (2.19) is greater that source duration (1.83), changing to 1.83\n",
      "  ScaperWarning)\n"
     ]
    },
    {
     "name": "stdout",
     "output_type": "stream",
     "text": [
      "Generating soundscape: 464/2000\n"
     ]
    },
    {
     "name": "stderr",
     "output_type": "stream",
     "text": [
      "/home/js7561/dev/scaper/scaper/core.py:1112: ScaperWarning: engine_idling event duration (3.42) is greater that source duration (1.87), changing to 1.87\n",
      "  ScaperWarning)\n",
      "/home/js7561/dev/scaper/scaper/core.py:1199: ScaperWarning: dog_bark event time (8.46) is too great given stretched event duration (3.54) and soundscape duration (10.00), changed to 6.46.\n",
      "  ScaperWarning)\n",
      "/home/js7561/dev/scaper/scaper/core.py:1112: ScaperWarning: gun_shot event duration (2.44) is greater that source duration (0.75), changing to 0.75\n",
      "  ScaperWarning)\n"
     ]
    },
    {
     "name": "stdout",
     "output_type": "stream",
     "text": [
      "Generating soundscape: 465/2000\n",
      "Generating soundscape: 466/2000\n"
     ]
    },
    {
     "name": "stderr",
     "output_type": "stream",
     "text": [
      "/home/js7561/dev/scaper/scaper/core.py:1112: ScaperWarning: car_horn event duration (2.51) is greater that source duration (0.54), changing to 0.54\n",
      "  ScaperWarning)\n"
     ]
    },
    {
     "name": "stdout",
     "output_type": "stream",
     "text": [
      "Generating soundscape: 467/2000\n",
      "Generating soundscape: 468/2000\n"
     ]
    },
    {
     "name": "stderr",
     "output_type": "stream",
     "text": [
      "/home/js7561/dev/scaper/scaper/core.py:1112: ScaperWarning: car_horn event duration (3.84) is greater that source duration (3.23), changing to 3.23\n",
      "  ScaperWarning)\n"
     ]
    },
    {
     "name": "stdout",
     "output_type": "stream",
     "text": [
      "Generating soundscape: 469/2000\n",
      "Generating soundscape: 470/2000\n"
     ]
    },
    {
     "name": "stderr",
     "output_type": "stream",
     "text": [
      "/home/js7561/dev/scaper/scaper/core.py:1112: ScaperWarning: dog_bark event duration (3.15) is greater that source duration (1.41), changing to 1.41\n",
      "  ScaperWarning)\n",
      "/home/js7561/dev/scaper/scaper/core.py:1112: ScaperWarning: dog_bark event duration (3.50) is greater that source duration (1.54), changing to 1.54\n",
      "  ScaperWarning)\n"
     ]
    },
    {
     "name": "stdout",
     "output_type": "stream",
     "text": [
      "Generating soundscape: 471/2000\n"
     ]
    },
    {
     "name": "stderr",
     "output_type": "stream",
     "text": [
      "/home/js7561/dev/scaper/scaper/core.py:1112: ScaperWarning: gun_shot event duration (2.43) is greater that source duration (0.63), changing to 0.63\n",
      "  ScaperWarning)\n"
     ]
    },
    {
     "name": "stdout",
     "output_type": "stream",
     "text": [
      "Generating soundscape: 472/2000\n",
      "Generating soundscape: 473/2000\n"
     ]
    },
    {
     "name": "stderr",
     "output_type": "stream",
     "text": [
      "/home/js7561/dev/scaper/scaper/core.py:1199: ScaperWarning: siren event time (9.83) is too great given stretched event duration (2.37) and soundscape duration (10.00), changed to 7.63.\n",
      "  ScaperWarning)\n",
      "/home/js7561/dev/scaper/scaper/core.py:1112: ScaperWarning: gun_shot event duration (3.70) is greater that source duration (2.42), changing to 2.42\n",
      "  ScaperWarning)\n"
     ]
    },
    {
     "name": "stdout",
     "output_type": "stream",
     "text": [
      "Generating soundscape: 474/2000\n"
     ]
    },
    {
     "name": "stderr",
     "output_type": "stream",
     "text": [
      "/home/js7561/dev/scaper/scaper/core.py:1112: ScaperWarning: car_horn event duration (3.58) is greater that source duration (1.34), changing to 1.34\n",
      "  ScaperWarning)\n",
      "/home/js7561/dev/scaper/scaper/core.py:1199: ScaperWarning: siren event time (8.40) is too great given stretched event duration (2.39) and soundscape duration (10.00), changed to 7.61.\n",
      "  ScaperWarning)\n",
      "/home/js7561/dev/scaper/scaper/core.py:1112: ScaperWarning: gun_shot event duration (3.70) is greater that source duration (1.06), changing to 1.06\n",
      "  ScaperWarning)\n"
     ]
    },
    {
     "name": "stdout",
     "output_type": "stream",
     "text": [
      "Generating soundscape: 475/2000\n"
     ]
    },
    {
     "name": "stderr",
     "output_type": "stream",
     "text": [
      "/home/js7561/dev/scaper/scaper/core.py:1199: ScaperWarning: children_playing event time (6.80) is too great given stretched event duration (4.11) and soundscape duration (10.00), changed to 5.89.\n",
      "  ScaperWarning)\n",
      "/home/js7561/dev/scaper/scaper/core.py:1112: ScaperWarning: dog_bark event duration (3.66) is greater that source duration (1.68), changing to 1.68\n",
      "  ScaperWarning)\n",
      "/home/js7561/dev/scaper/scaper/core.py:1199: ScaperWarning: air_conditioner event time (8.06) is too great given stretched event duration (2.41) and soundscape duration (10.00), changed to 7.59.\n",
      "  ScaperWarning)\n"
     ]
    },
    {
     "name": "stdout",
     "output_type": "stream",
     "text": [
      "Generating soundscape: 476/2000\n"
     ]
    },
    {
     "name": "stderr",
     "output_type": "stream",
     "text": [
      "/home/js7561/dev/scaper/scaper/core.py:1112: ScaperWarning: gun_shot event duration (3.69) is greater that source duration (0.75), changing to 0.75\n",
      "  ScaperWarning)\n"
     ]
    },
    {
     "name": "stdout",
     "output_type": "stream",
     "text": [
      "Generating soundscape: 477/2000\n"
     ]
    },
    {
     "name": "stderr",
     "output_type": "stream",
     "text": [
      "/home/js7561/dev/scaper/scaper/core.py:1112: ScaperWarning: gun_shot event duration (3.43) is greater that source duration (1.33), changing to 1.33\n",
      "  ScaperWarning)\n"
     ]
    },
    {
     "name": "stdout",
     "output_type": "stream",
     "text": [
      "Generating soundscape: 478/2000\n",
      "Generating soundscape: 479/2000\n"
     ]
    },
    {
     "name": "stderr",
     "output_type": "stream",
     "text": [
      "/home/js7561/dev/scaper/scaper/core.py:1199: ScaperWarning: car_horn event time (8.40) is too great given stretched event duration (3.31) and soundscape duration (10.00), changed to 6.69.\n",
      "  ScaperWarning)\n"
     ]
    },
    {
     "name": "stdout",
     "output_type": "stream",
     "text": [
      "Generating soundscape: 480/2000\n"
     ]
    },
    {
     "name": "stderr",
     "output_type": "stream",
     "text": [
      "/home/js7561/dev/scaper/scaper/core.py:1112: ScaperWarning: dog_bark event duration (3.77) is greater that source duration (1.73), changing to 1.73\n",
      "  ScaperWarning)\n",
      "/home/js7561/dev/scaper/scaper/core.py:1199: ScaperWarning: engine_idling event time (8.62) is too great given stretched event duration (2.07) and soundscape duration (10.00), changed to 7.93.\n",
      "  ScaperWarning)\n"
     ]
    },
    {
     "name": "stdout",
     "output_type": "stream",
     "text": [
      "Generating soundscape: 481/2000\n",
      "Generating soundscape: 482/2000\n"
     ]
    },
    {
     "name": "stderr",
     "output_type": "stream",
     "text": [
      "/home/js7561/dev/scaper/scaper/core.py:1112: ScaperWarning: car_horn event duration (3.32) is greater that source duration (0.36), changing to 0.36\n",
      "  ScaperWarning)\n"
     ]
    },
    {
     "name": "stdout",
     "output_type": "stream",
     "text": [
      "Generating soundscape: 483/2000\n"
     ]
    },
    {
     "name": "stderr",
     "output_type": "stream",
     "text": [
      "/home/js7561/dev/scaper/scaper/core.py:1112: ScaperWarning: gun_shot event duration (0.94) is greater that source duration (0.48), changing to 0.48\n",
      "  ScaperWarning)\n",
      "/home/js7561/dev/scaper/scaper/core.py:1199: ScaperWarning: air_conditioner event time (9.19) is too great given stretched event duration (3.77) and soundscape duration (10.00), changed to 6.23.\n",
      "  ScaperWarning)\n",
      "/home/js7561/dev/scaper/scaper/core.py:1112: ScaperWarning: car_horn event duration (1.21) is greater that source duration (0.55), changing to 0.55\n",
      "  ScaperWarning)\n"
     ]
    },
    {
     "name": "stdout",
     "output_type": "stream",
     "text": [
      "Generating soundscape: 484/2000\n"
     ]
    },
    {
     "name": "stderr",
     "output_type": "stream",
     "text": [
      "/home/js7561/dev/scaper/scaper/core.py:1112: ScaperWarning: gun_shot event duration (2.14) is greater that source duration (0.27), changing to 0.27\n",
      "  ScaperWarning)\n",
      "/home/js7561/dev/scaper/scaper/core.py:1112: ScaperWarning: car_horn event duration (1.56) is greater that source duration (0.75), changing to 0.75\n",
      "  ScaperWarning)\n"
     ]
    },
    {
     "name": "stdout",
     "output_type": "stream",
     "text": [
      "Generating soundscape: 485/2000\n",
      "Generating soundscape: 486/2000\n",
      "Generating soundscape: 487/2000\n"
     ]
    },
    {
     "name": "stderr",
     "output_type": "stream",
     "text": [
      "/home/js7561/dev/scaper/scaper/core.py:1199: ScaperWarning: children_playing event time (7.44) is too great given stretched event duration (3.87) and soundscape duration (10.00), changed to 6.13.\n",
      "  ScaperWarning)\n"
     ]
    },
    {
     "name": "stdout",
     "output_type": "stream",
     "text": [
      "Generating soundscape: 488/2000\n"
     ]
    },
    {
     "name": "stderr",
     "output_type": "stream",
     "text": [
      "/home/js7561/dev/scaper/scaper/core.py:1112: ScaperWarning: gun_shot event duration (2.08) is greater that source duration (1.16), changing to 1.16\n",
      "  ScaperWarning)\n"
     ]
    },
    {
     "name": "stdout",
     "output_type": "stream",
     "text": [
      "Generating soundscape: 489/2000\n"
     ]
    },
    {
     "name": "stderr",
     "output_type": "stream",
     "text": [
      "/home/js7561/dev/scaper/scaper/core.py:1112: ScaperWarning: gun_shot event duration (2.19) is greater that source duration (1.09), changing to 1.09\n",
      "  ScaperWarning)\n",
      "/home/js7561/dev/scaper/scaper/core.py:1199: ScaperWarning: jackhammer event time (7.98) is too great given stretched event duration (3.37) and soundscape duration (10.00), changed to 6.63.\n",
      "  ScaperWarning)\n"
     ]
    },
    {
     "name": "stdout",
     "output_type": "stream",
     "text": [
      "Generating soundscape: 490/2000\n",
      "Generating soundscape: 491/2000\n"
     ]
    },
    {
     "name": "stderr",
     "output_type": "stream",
     "text": [
      "/home/js7561/dev/scaper/scaper/core.py:1112: ScaperWarning: car_horn event duration (2.72) is greater that source duration (1.27), changing to 1.27\n",
      "  ScaperWarning)\n",
      "/home/js7561/dev/scaper/scaper/core.py:1112: ScaperWarning: gun_shot event duration (3.80) is greater that source duration (1.16), changing to 1.16\n",
      "  ScaperWarning)\n"
     ]
    },
    {
     "name": "stdout",
     "output_type": "stream",
     "text": [
      "Generating soundscape: 492/2000\n",
      "Generating soundscape: 493/2000\n"
     ]
    },
    {
     "name": "stderr",
     "output_type": "stream",
     "text": [
      "/home/js7561/dev/scaper/scaper/core.py:1112: ScaperWarning: jackhammer event duration (1.88) is greater that source duration (1.47), changing to 1.47\n",
      "  ScaperWarning)\n",
      "/home/js7561/dev/scaper/scaper/core.py:1112: ScaperWarning: dog_bark event duration (1.56) is greater that source duration (0.95), changing to 0.95\n",
      "  ScaperWarning)\n"
     ]
    },
    {
     "name": "stdout",
     "output_type": "stream",
     "text": [
      "Generating soundscape: 494/2000\n"
     ]
    },
    {
     "name": "stderr",
     "output_type": "stream",
     "text": [
      "/home/js7561/dev/scaper/scaper/core.py:1199: ScaperWarning: drilling event time (8.52) is too great given stretched event duration (2.19) and soundscape duration (10.00), changed to 7.81.\n",
      "  ScaperWarning)\n"
     ]
    },
    {
     "name": "stdout",
     "output_type": "stream",
     "text": [
      "Generating soundscape: 495/2000\n"
     ]
    },
    {
     "name": "stderr",
     "output_type": "stream",
     "text": [
      "/home/js7561/dev/scaper/scaper/core.py:1199: ScaperWarning: siren event time (8.37) is too great given stretched event duration (2.06) and soundscape duration (10.00), changed to 7.94.\n",
      "  ScaperWarning)\n"
     ]
    },
    {
     "name": "stdout",
     "output_type": "stream",
     "text": [
      "Generating soundscape: 496/2000\n"
     ]
    },
    {
     "name": "stderr",
     "output_type": "stream",
     "text": [
      "/home/js7561/dev/scaper/scaper/core.py:1199: ScaperWarning: car_horn event time (8.23) is too great given stretched event duration (1.88) and soundscape duration (10.00), changed to 8.12.\n",
      "  ScaperWarning)\n"
     ]
    },
    {
     "name": "stdout",
     "output_type": "stream",
     "text": [
      "Generating soundscape: 497/2000\n"
     ]
    },
    {
     "name": "stderr",
     "output_type": "stream",
     "text": [
      "/home/js7561/dev/scaper/scaper/core.py:1199: ScaperWarning: engine_idling event time (9.37) is too great given stretched event duration (2.77) and soundscape duration (10.00), changed to 7.23.\n",
      "  ScaperWarning)\n"
     ]
    },
    {
     "name": "stdout",
     "output_type": "stream",
     "text": [
      "Generating soundscape: 498/2000\n"
     ]
    },
    {
     "name": "stderr",
     "output_type": "stream",
     "text": [
      "/home/js7561/dev/scaper/scaper/core.py:1112: ScaperWarning: car_horn event duration (2.90) is greater that source duration (1.34), changing to 1.34\n",
      "  ScaperWarning)\n"
     ]
    },
    {
     "name": "stdout",
     "output_type": "stream",
     "text": [
      "Generating soundscape: 499/2000\n",
      "Generating soundscape: 500/2000\n"
     ]
    },
    {
     "name": "stderr",
     "output_type": "stream",
     "text": [
      "/home/js7561/dev/scaper/scaper/core.py:1112: ScaperWarning: drilling event duration (2.12) is greater that source duration (1.14), changing to 1.14\n",
      "  ScaperWarning)\n",
      "/home/js7561/dev/scaper/scaper/core.py:1112: ScaperWarning: gun_shot event duration (3.60) is greater that source duration (0.65), changing to 0.65\n",
      "  ScaperWarning)\n"
     ]
    },
    {
     "name": "stdout",
     "output_type": "stream",
     "text": [
      "Generating soundscape: 501/2000\n"
     ]
    },
    {
     "name": "stderr",
     "output_type": "stream",
     "text": [
      "/home/js7561/dev/scaper/scaper/core.py:1112: ScaperWarning: dog_bark event duration (3.63) is greater that source duration (1.41), changing to 1.41\n",
      "  ScaperWarning)\n",
      "/home/js7561/dev/scaper/scaper/core.py:1112: ScaperWarning: dog_bark event duration (3.56) is greater that source duration (1.46), changing to 1.46\n",
      "  ScaperWarning)\n"
     ]
    },
    {
     "name": "stdout",
     "output_type": "stream",
     "text": [
      "Generating soundscape: 502/2000\n"
     ]
    },
    {
     "name": "stderr",
     "output_type": "stream",
     "text": [
      "/home/js7561/dev/scaper/scaper/core.py:1112: ScaperWarning: gun_shot event duration (3.57) is greater that source duration (0.67), changing to 0.67\n",
      "  ScaperWarning)\n"
     ]
    },
    {
     "name": "stdout",
     "output_type": "stream",
     "text": [
      "Generating soundscape: 503/2000\n",
      "Generating soundscape: 504/2000\n",
      "Generating soundscape: 505/2000\n"
     ]
    },
    {
     "name": "stderr",
     "output_type": "stream",
     "text": [
      "/home/js7561/dev/scaper/scaper/core.py:1112: ScaperWarning: drilling event duration (0.82) is greater that source duration (0.64), changing to 0.64\n",
      "  ScaperWarning)\n"
     ]
    },
    {
     "name": "stdout",
     "output_type": "stream",
     "text": [
      "Generating soundscape: 506/2000\n",
      "Generating soundscape: 507/2000\n"
     ]
    },
    {
     "name": "stderr",
     "output_type": "stream",
     "text": [
      "/home/js7561/dev/scaper/scaper/core.py:1199: ScaperWarning: air_conditioner event time (6.63) is too great given stretched event duration (3.90) and soundscape duration (10.00), changed to 6.10.\n",
      "  ScaperWarning)\n",
      "/home/js7561/dev/scaper/scaper/core.py:1112: ScaperWarning: gun_shot event duration (2.95) is greater that source duration (1.53), changing to 1.53\n",
      "  ScaperWarning)\n"
     ]
    },
    {
     "name": "stdout",
     "output_type": "stream",
     "text": [
      "Generating soundscape: 508/2000\n"
     ]
    },
    {
     "name": "stderr",
     "output_type": "stream",
     "text": [
      "/home/js7561/dev/scaper/scaper/core.py:1199: ScaperWarning: air_conditioner event time (8.61) is too great given stretched event duration (1.55) and soundscape duration (10.00), changed to 8.45.\n",
      "  ScaperWarning)\n"
     ]
    },
    {
     "name": "stdout",
     "output_type": "stream",
     "text": [
      "Generating soundscape: 509/2000\n"
     ]
    },
    {
     "name": "stderr",
     "output_type": "stream",
     "text": [
      "/home/js7561/dev/scaper/scaper/core.py:1112: ScaperWarning: gun_shot event duration (2.81) is greater that source duration (1.05), changing to 1.05\n",
      "  ScaperWarning)\n",
      "/home/js7561/dev/scaper/scaper/core.py:1112: ScaperWarning: gun_shot event duration (3.17) is greater that source duration (1.75), changing to 1.75\n",
      "  ScaperWarning)\n",
      "/home/js7561/dev/scaper/scaper/core.py:1112: ScaperWarning: gun_shot event duration (3.90) is greater that source duration (0.96), changing to 0.96\n",
      "  ScaperWarning)\n"
     ]
    },
    {
     "name": "stdout",
     "output_type": "stream",
     "text": [
      "Generating soundscape: 510/2000\n"
     ]
    },
    {
     "name": "stderr",
     "output_type": "stream",
     "text": [
      "/home/js7561/dev/scaper/scaper/core.py:1199: ScaperWarning: street_music event time (9.36) is too great given stretched event duration (1.80) and soundscape duration (10.00), changed to 8.20.\n",
      "  ScaperWarning)\n"
     ]
    },
    {
     "name": "stdout",
     "output_type": "stream",
     "text": [
      "Generating soundscape: 511/2000\n"
     ]
    },
    {
     "name": "stderr",
     "output_type": "stream",
     "text": [
      "/home/js7561/dev/scaper/scaper/core.py:1199: ScaperWarning: drilling event time (9.32) is too great given stretched event duration (1.25) and soundscape duration (10.00), changed to 8.75.\n",
      "  ScaperWarning)\n",
      "/home/js7561/dev/scaper/scaper/core.py:1199: ScaperWarning: drilling event time (9.54) is too great given stretched event duration (1.41) and soundscape duration (10.00), changed to 8.59.\n",
      "  ScaperWarning)\n"
     ]
    },
    {
     "name": "stdout",
     "output_type": "stream",
     "text": [
      "Generating soundscape: 512/2000\n",
      "Generating soundscape: 513/2000\n",
      "Generating soundscape: 514/2000\n"
     ]
    },
    {
     "name": "stderr",
     "output_type": "stream",
     "text": [
      "/home/js7561/dev/scaper/scaper/core.py:1112: ScaperWarning: jackhammer event duration (3.55) is greater that source duration (1.48), changing to 1.48\n",
      "  ScaperWarning)\n",
      "/home/js7561/dev/scaper/scaper/core.py:1199: ScaperWarning: siren event time (8.87) is too great given stretched event duration (3.25) and soundscape duration (10.00), changed to 6.75.\n",
      "  ScaperWarning)\n"
     ]
    },
    {
     "name": "stdout",
     "output_type": "stream",
     "text": [
      "Generating soundscape: 515/2000\n",
      "Generating soundscape: 516/2000\n",
      "Generating soundscape: 517/2000\n"
     ]
    },
    {
     "name": "stderr",
     "output_type": "stream",
     "text": [
      "/home/js7561/dev/scaper/scaper/core.py:1112: ScaperWarning: gun_shot event duration (2.18) is greater that source duration (1.23), changing to 1.23\n",
      "  ScaperWarning)\n"
     ]
    },
    {
     "name": "stdout",
     "output_type": "stream",
     "text": [
      "Generating soundscape: 518/2000\n"
     ]
    },
    {
     "name": "stderr",
     "output_type": "stream",
     "text": [
      "/home/js7561/dev/scaper/scaper/core.py:1199: ScaperWarning: dog_bark event time (7.95) is too great given stretched event duration (3.79) and soundscape duration (10.00), changed to 6.21.\n",
      "  ScaperWarning)\n"
     ]
    },
    {
     "name": "stdout",
     "output_type": "stream",
     "text": [
      "Generating soundscape: 519/2000\n"
     ]
    },
    {
     "name": "stderr",
     "output_type": "stream",
     "text": [
      "/home/js7561/dev/scaper/scaper/core.py:1199: ScaperWarning: car_horn event time (9.12) is too great given stretched event duration (1.34) and soundscape duration (10.00), changed to 8.66.\n",
      "  ScaperWarning)\n",
      "/home/js7561/dev/scaper/scaper/core.py:1199: ScaperWarning: children_playing event time (7.89) is too great given stretched event duration (2.22) and soundscape duration (10.00), changed to 7.78.\n",
      "  ScaperWarning)\n"
     ]
    },
    {
     "name": "stdout",
     "output_type": "stream",
     "text": [
      "Generating soundscape: 520/2000\n"
     ]
    },
    {
     "name": "stderr",
     "output_type": "stream",
     "text": [
      "/home/js7561/dev/scaper/scaper/core.py:1199: ScaperWarning: siren event time (9.15) is too great given stretched event duration (1.58) and soundscape duration (10.00), changed to 8.42.\n",
      "  ScaperWarning)\n",
      "/home/js7561/dev/scaper/scaper/core.py:1112: ScaperWarning: gun_shot event duration (4.00) is greater that source duration (1.87), changing to 1.87\n",
      "  ScaperWarning)\n",
      "/home/js7561/dev/scaper/scaper/core.py:1199: ScaperWarning: air_conditioner event time (7.58) is too great given stretched event duration (3.25) and soundscape duration (10.00), changed to 6.75.\n",
      "  ScaperWarning)\n",
      "/home/js7561/dev/scaper/scaper/core.py:1199: ScaperWarning: air_conditioner event time (6.75) is too great given stretched event duration (4.10) and soundscape duration (10.00), changed to 5.90.\n",
      "  ScaperWarning)\n",
      "/home/js7561/dev/scaper/scaper/core.py:1199: ScaperWarning: car_horn event time (8.47) is too great given stretched event duration (3.30) and soundscape duration (10.00), changed to 6.70.\n",
      "  ScaperWarning)\n"
     ]
    },
    {
     "name": "stdout",
     "output_type": "stream",
     "text": [
      "Generating soundscape: 521/2000\n",
      "Generating soundscape: 522/2000\n"
     ]
    },
    {
     "name": "stderr",
     "output_type": "stream",
     "text": [
      "/home/js7561/dev/scaper/scaper/core.py:1199: ScaperWarning: air_conditioner event time (7.34) is too great given stretched event duration (3.12) and soundscape duration (10.00), changed to 6.88.\n",
      "  ScaperWarning)\n"
     ]
    },
    {
     "name": "stdout",
     "output_type": "stream",
     "text": [
      "Generating soundscape: 523/2000\n",
      "Generating soundscape: 524/2000\n"
     ]
    },
    {
     "name": "stderr",
     "output_type": "stream",
     "text": [
      "/home/js7561/dev/scaper/scaper/core.py:1112: ScaperWarning: car_horn event duration (2.62) is greater that source duration (0.53), changing to 0.53\n",
      "  ScaperWarning)\n",
      "/home/js7561/dev/scaper/scaper/core.py:1112: ScaperWarning: drilling event duration (2.90) is greater that source duration (0.99), changing to 0.99\n",
      "  ScaperWarning)\n"
     ]
    },
    {
     "name": "stdout",
     "output_type": "stream",
     "text": [
      "Generating soundscape: 525/2000\n"
     ]
    },
    {
     "name": "stderr",
     "output_type": "stream",
     "text": [
      "/home/js7561/dev/scaper/scaper/core.py:1199: ScaperWarning: dog_bark event time (8.83) is too great given stretched event duration (4.31) and soundscape duration (10.00), changed to 5.69.\n",
      "  ScaperWarning)\n",
      "/home/js7561/dev/scaper/scaper/core.py:1112: ScaperWarning: car_horn event duration (2.90) is greater that source duration (1.21), changing to 1.21\n",
      "  ScaperWarning)\n"
     ]
    },
    {
     "name": "stdout",
     "output_type": "stream",
     "text": [
      "Generating soundscape: 526/2000\n",
      "Generating soundscape: 527/2000\n"
     ]
    },
    {
     "name": "stderr",
     "output_type": "stream",
     "text": [
      "/home/js7561/dev/scaper/scaper/core.py:1199: ScaperWarning: street_music event time (9.77) is too great given stretched event duration (3.17) and soundscape duration (10.00), changed to 6.83.\n",
      "  ScaperWarning)\n",
      "/home/js7561/dev/scaper/scaper/core.py:1199: ScaperWarning: dog_bark event time (9.81) is too great given stretched event duration (3.17) and soundscape duration (10.00), changed to 6.83.\n",
      "  ScaperWarning)\n",
      "/home/js7561/dev/scaper/scaper/core.py:1112: ScaperWarning: air_conditioner event duration (2.60) is greater that source duration (2.39), changing to 2.39\n",
      "  ScaperWarning)\n",
      "/home/js7561/dev/scaper/scaper/core.py:1199: ScaperWarning: air_conditioner event time (9.78) is too great given stretched event duration (2.68) and soundscape duration (10.00), changed to 7.32.\n",
      "  ScaperWarning)\n"
     ]
    },
    {
     "name": "stdout",
     "output_type": "stream",
     "text": [
      "Generating soundscape: 528/2000\n",
      "Generating soundscape: 529/2000\n"
     ]
    },
    {
     "name": "stderr",
     "output_type": "stream",
     "text": [
      "/home/js7561/dev/scaper/scaper/core.py:1112: ScaperWarning: gun_shot event duration (3.79) is greater that source duration (1.33), changing to 1.33\n",
      "  ScaperWarning)\n",
      "/home/js7561/dev/scaper/scaper/core.py:1112: ScaperWarning: car_horn event duration (3.53) is greater that source duration (1.27), changing to 1.27\n",
      "  ScaperWarning)\n",
      "/home/js7561/dev/scaper/scaper/core.py:1112: ScaperWarning: gun_shot event duration (1.15) is greater that source duration (0.32), changing to 0.32\n",
      "  ScaperWarning)\n"
     ]
    },
    {
     "name": "stdout",
     "output_type": "stream",
     "text": [
      "Generating soundscape: 530/2000\n",
      "Generating soundscape: 531/2000\n"
     ]
    },
    {
     "name": "stderr",
     "output_type": "stream",
     "text": [
      "/home/js7561/dev/scaper/scaper/core.py:1112: ScaperWarning: gun_shot event duration (3.72) is greater that source duration (2.86), changing to 2.86\n",
      "  ScaperWarning)\n",
      "/home/js7561/dev/scaper/scaper/core.py:1199: ScaperWarning: gun_shot event time (8.35) is too great given stretched event duration (3.09) and soundscape duration (10.00), changed to 6.91.\n",
      "  ScaperWarning)\n",
      "/home/js7561/dev/scaper/scaper/core.py:1199: ScaperWarning: engine_idling event time (8.26) is too great given stretched event duration (2.05) and soundscape duration (10.00), changed to 7.95.\n",
      "  ScaperWarning)\n"
     ]
    },
    {
     "name": "stdout",
     "output_type": "stream",
     "text": [
      "Generating soundscape: 532/2000\n"
     ]
    },
    {
     "name": "stderr",
     "output_type": "stream",
     "text": [
      "/home/js7561/dev/scaper/scaper/core.py:1112: ScaperWarning: gun_shot event duration (3.63) is greater that source duration (2.84), changing to 2.84\n",
      "  ScaperWarning)\n",
      "/home/js7561/dev/scaper/scaper/core.py:1112: ScaperWarning: gun_shot event duration (2.96) is greater that source duration (2.27), changing to 2.27\n",
      "  ScaperWarning)\n"
     ]
    },
    {
     "name": "stdout",
     "output_type": "stream",
     "text": [
      "Generating soundscape: 533/2000\n"
     ]
    },
    {
     "name": "stderr",
     "output_type": "stream",
     "text": [
      "/home/js7561/dev/scaper/scaper/core.py:1199: ScaperWarning: drilling event time (9.66) is too great given stretched event duration (1.02) and soundscape duration (10.00), changed to 8.98.\n",
      "  ScaperWarning)\n",
      "/home/js7561/dev/scaper/scaper/core.py:1112: ScaperWarning: dog_bark event duration (3.17) is greater that source duration (1.68), changing to 1.68\n",
      "  ScaperWarning)\n"
     ]
    },
    {
     "name": "stdout",
     "output_type": "stream",
     "text": [
      "Generating soundscape: 534/2000\n"
     ]
    },
    {
     "name": "stderr",
     "output_type": "stream",
     "text": [
      "/home/js7561/dev/scaper/scaper/core.py:1199: ScaperWarning: siren event time (7.78) is too great given stretched event duration (2.98) and soundscape duration (10.00), changed to 7.02.\n",
      "  ScaperWarning)\n"
     ]
    },
    {
     "name": "stdout",
     "output_type": "stream",
     "text": [
      "Generating soundscape: 535/2000\n"
     ]
    },
    {
     "name": "stderr",
     "output_type": "stream",
     "text": [
      "/home/js7561/dev/scaper/scaper/core.py:1199: ScaperWarning: jackhammer event time (8.84) is too great given stretched event duration (1.34) and soundscape duration (10.00), changed to 8.66.\n",
      "  ScaperWarning)\n"
     ]
    },
    {
     "name": "stdout",
     "output_type": "stream",
     "text": [
      "Generating soundscape: 536/2000\n",
      "Generating soundscape: 537/2000\n"
     ]
    },
    {
     "name": "stderr",
     "output_type": "stream",
     "text": [
      "/home/js7561/dev/scaper/scaper/core.py:1112: ScaperWarning: dog_bark event duration (0.93) is greater that source duration (0.55), changing to 0.55\n",
      "  ScaperWarning)\n"
     ]
    },
    {
     "name": "stdout",
     "output_type": "stream",
     "text": [
      "Generating soundscape: 538/2000\n",
      "Generating soundscape: 539/2000\n"
     ]
    },
    {
     "name": "stderr",
     "output_type": "stream",
     "text": [
      "/home/js7561/dev/scaper/scaper/core.py:1199: ScaperWarning: jackhammer event time (8.59) is too great given stretched event duration (4.72) and soundscape duration (10.00), changed to 5.28.\n",
      "  ScaperWarning)\n"
     ]
    },
    {
     "name": "stdout",
     "output_type": "stream",
     "text": [
      "Generating soundscape: 540/2000\n"
     ]
    },
    {
     "name": "stderr",
     "output_type": "stream",
     "text": [
      "/home/js7561/dev/scaper/scaper/core.py:1112: ScaperWarning: car_horn event duration (2.20) is greater that source duration (1.17), changing to 1.17\n",
      "  ScaperWarning)\n",
      "/home/js7561/dev/scaper/scaper/core.py:1112: ScaperWarning: gun_shot event duration (2.05) is greater that source duration (1.33), changing to 1.33\n",
      "  ScaperWarning)\n"
     ]
    },
    {
     "name": "stdout",
     "output_type": "stream",
     "text": [
      "Generating soundscape: 541/2000\n"
     ]
    },
    {
     "name": "stderr",
     "output_type": "stream",
     "text": [
      "/home/js7561/dev/scaper/scaper/core.py:1199: ScaperWarning: siren event time (8.82) is too great given stretched event duration (2.28) and soundscape duration (10.00), changed to 7.72.\n",
      "  ScaperWarning)\n"
     ]
    },
    {
     "name": "stdout",
     "output_type": "stream",
     "text": [
      "Generating soundscape: 542/2000\n"
     ]
    },
    {
     "name": "stderr",
     "output_type": "stream",
     "text": [
      "/home/js7561/dev/scaper/scaper/core.py:1112: ScaperWarning: gun_shot event duration (2.68) is greater that source duration (0.58), changing to 0.58\n",
      "  ScaperWarning)\n"
     ]
    },
    {
     "name": "stdout",
     "output_type": "stream",
     "text": [
      "Generating soundscape: 543/2000\n"
     ]
    },
    {
     "name": "stderr",
     "output_type": "stream",
     "text": [
      "/home/js7561/dev/scaper/scaper/core.py:1199: ScaperWarning: dog_bark event time (9.54) is too great given stretched event duration (2.12) and soundscape duration (10.00), changed to 7.88.\n",
      "  ScaperWarning)\n"
     ]
    },
    {
     "name": "stdout",
     "output_type": "stream",
     "text": [
      "Generating soundscape: 544/2000\n",
      "Generating soundscape: 545/2000\n"
     ]
    },
    {
     "name": "stderr",
     "output_type": "stream",
     "text": [
      "/home/js7561/dev/scaper/scaper/core.py:1112: ScaperWarning: gun_shot event duration (3.36) is greater that source duration (1.10), changing to 1.10\n",
      "  ScaperWarning)\n",
      "/home/js7561/dev/scaper/scaper/core.py:1199: ScaperWarning: engine_idling event time (8.68) is too great given stretched event duration (3.86) and soundscape duration (10.00), changed to 6.14.\n",
      "  ScaperWarning)\n"
     ]
    },
    {
     "name": "stdout",
     "output_type": "stream",
     "text": [
      "Generating soundscape: 546/2000\n"
     ]
    },
    {
     "name": "stderr",
     "output_type": "stream",
     "text": [
      "/home/js7561/dev/scaper/scaper/core.py:1112: ScaperWarning: car_horn event duration (3.85) is greater that source duration (0.24), changing to 0.24\n",
      "  ScaperWarning)\n"
     ]
    },
    {
     "name": "stdout",
     "output_type": "stream",
     "text": [
      "Generating soundscape: 547/2000\n"
     ]
    },
    {
     "name": "stderr",
     "output_type": "stream",
     "text": [
      "/home/js7561/dev/scaper/scaper/core.py:1112: ScaperWarning: gun_shot event duration (3.94) is greater that source duration (1.45), changing to 1.45\n",
      "  ScaperWarning)\n",
      "/home/js7561/dev/scaper/scaper/core.py:1199: ScaperWarning: jackhammer event time (8.79) is too great given stretched event duration (1.30) and soundscape duration (10.00), changed to 8.70.\n",
      "  ScaperWarning)\n",
      "/home/js7561/dev/scaper/scaper/core.py:1199: ScaperWarning: siren event time (7.43) is too great given stretched event duration (3.99) and soundscape duration (10.00), changed to 6.01.\n",
      "  ScaperWarning)\n",
      "/home/js7561/dev/scaper/scaper/core.py:1199: ScaperWarning: siren event time (9.63) is too great given stretched event duration (1.12) and soundscape duration (10.00), changed to 8.88.\n",
      "  ScaperWarning)\n"
     ]
    },
    {
     "name": "stdout",
     "output_type": "stream",
     "text": [
      "Generating soundscape: 548/2000\n",
      "Generating soundscape: 549/2000\n"
     ]
    },
    {
     "name": "stderr",
     "output_type": "stream",
     "text": [
      "/home/js7561/dev/scaper/scaper/core.py:1112: ScaperWarning: dog_bark event duration (1.65) is greater that source duration (0.35), changing to 0.35\n",
      "  ScaperWarning)\n",
      "/home/js7561/dev/scaper/scaper/core.py:1199: ScaperWarning: car_horn event time (6.92) is too great given stretched event duration (3.76) and soundscape duration (10.00), changed to 6.24.\n",
      "  ScaperWarning)\n",
      "/home/js7561/dev/scaper/scaper/core.py:1112: ScaperWarning: car_horn event duration (3.32) is greater that source duration (1.99), changing to 1.99\n",
      "  ScaperWarning)\n",
      "/home/js7561/dev/scaper/scaper/core.py:1199: ScaperWarning: car_horn event time (9.82) is too great given stretched event duration (2.17) and soundscape duration (10.00), changed to 7.83.\n",
      "  ScaperWarning)\n",
      "/home/js7561/dev/scaper/scaper/core.py:1199: ScaperWarning: car_horn event time (9.21) is too great given stretched event duration (2.61) and soundscape duration (10.00), changed to 7.39.\n",
      "  ScaperWarning)\n"
     ]
    },
    {
     "name": "stdout",
     "output_type": "stream",
     "text": [
      "Generating soundscape: 550/2000\n"
     ]
    },
    {
     "name": "stderr",
     "output_type": "stream",
     "text": [
      "/home/js7561/dev/scaper/scaper/core.py:1112: ScaperWarning: jackhammer event duration (2.52) is greater that source duration (0.84), changing to 0.84\n",
      "  ScaperWarning)\n",
      "/home/js7561/dev/scaper/scaper/core.py:1199: ScaperWarning: jackhammer event time (10.00) is too great given stretched event duration (0.93) and soundscape duration (10.00), changed to 9.07.\n",
      "  ScaperWarning)\n",
      "/home/js7561/dev/scaper/scaper/core.py:1199: ScaperWarning: car_horn event time (7.69) is too great given stretched event duration (3.06) and soundscape duration (10.00), changed to 6.94.\n",
      "  ScaperWarning)\n"
     ]
    },
    {
     "name": "stdout",
     "output_type": "stream",
     "text": [
      "Generating soundscape: 551/2000\n",
      "Generating soundscape: 552/2000\n",
      "Generating soundscape: 553/2000\n"
     ]
    },
    {
     "name": "stderr",
     "output_type": "stream",
     "text": [
      "/home/js7561/dev/scaper/scaper/core.py:1199: ScaperWarning: siren event time (7.02) is too great given stretched event duration (3.21) and soundscape duration (10.00), changed to 6.79.\n",
      "  ScaperWarning)\n",
      "/home/js7561/dev/scaper/scaper/core.py:1199: ScaperWarning: engine_idling event time (8.30) is too great given stretched event duration (3.44) and soundscape duration (10.00), changed to 6.56.\n",
      "  ScaperWarning)\n"
     ]
    },
    {
     "name": "stdout",
     "output_type": "stream",
     "text": [
      "Generating soundscape: 554/2000\n"
     ]
    },
    {
     "name": "stderr",
     "output_type": "stream",
     "text": [
      "/home/js7561/dev/scaper/scaper/core.py:1112: ScaperWarning: drilling event duration (2.44) is greater that source duration (0.69), changing to 0.69\n",
      "  ScaperWarning)\n"
     ]
    },
    {
     "name": "stdout",
     "output_type": "stream",
     "text": [
      "Generating soundscape: 555/2000\n"
     ]
    },
    {
     "name": "stderr",
     "output_type": "stream",
     "text": [
      "/home/js7561/dev/scaper/scaper/core.py:1112: ScaperWarning: dog_bark event duration (1.55) is greater that source duration (1.32), changing to 1.32\n",
      "  ScaperWarning)\n",
      "/home/js7561/dev/scaper/scaper/core.py:1112: ScaperWarning: dog_bark event duration (0.77) is greater that source duration (0.52), changing to 0.52\n",
      "  ScaperWarning)\n",
      "/home/js7561/dev/scaper/scaper/core.py:1199: ScaperWarning: jackhammer event time (6.86) is too great given stretched event duration (3.72) and soundscape duration (10.00), changed to 6.28.\n",
      "  ScaperWarning)\n"
     ]
    },
    {
     "name": "stdout",
     "output_type": "stream",
     "text": [
      "Generating soundscape: 556/2000\n"
     ]
    },
    {
     "name": "stderr",
     "output_type": "stream",
     "text": [
      "/home/js7561/dev/scaper/scaper/core.py:1112: ScaperWarning: drilling event duration (3.80) is greater that source duration (1.99), changing to 1.99\n",
      "  ScaperWarning)\n"
     ]
    },
    {
     "name": "stdout",
     "output_type": "stream",
     "text": [
      "Generating soundscape: 557/2000\n",
      "Generating soundscape: 558/2000\n"
     ]
    },
    {
     "name": "stderr",
     "output_type": "stream",
     "text": [
      "/home/js7561/dev/scaper/scaper/core.py:1199: ScaperWarning: car_horn event time (9.02) is too great given stretched event duration (3.04) and soundscape duration (10.00), changed to 6.96.\n",
      "  ScaperWarning)\n",
      "/home/js7561/dev/scaper/scaper/core.py:1199: ScaperWarning: air_conditioner event time (7.04) is too great given stretched event duration (3.57) and soundscape duration (10.00), changed to 6.43.\n",
      "  ScaperWarning)\n"
     ]
    },
    {
     "name": "stdout",
     "output_type": "stream",
     "text": [
      "Generating soundscape: 559/2000\n"
     ]
    },
    {
     "name": "stderr",
     "output_type": "stream",
     "text": [
      "/home/js7561/dev/scaper/scaper/core.py:1112: ScaperWarning: dog_bark event duration (2.08) is greater that source duration (1.84), changing to 1.84\n",
      "  ScaperWarning)\n",
      "/home/js7561/dev/scaper/scaper/core.py:1199: ScaperWarning: engine_idling event time (8.14) is too great given stretched event duration (2.33) and soundscape duration (10.00), changed to 7.67.\n",
      "  ScaperWarning)\n",
      "/home/js7561/dev/scaper/scaper/core.py:1112: ScaperWarning: gun_shot event duration (2.14) is greater that source duration (1.16), changing to 1.16\n",
      "  ScaperWarning)\n",
      "/home/js7561/dev/scaper/scaper/core.py:1199: ScaperWarning: engine_idling event time (6.87) is too great given stretched event duration (3.71) and soundscape duration (10.00), changed to 6.29.\n",
      "  ScaperWarning)\n"
     ]
    },
    {
     "name": "stdout",
     "output_type": "stream",
     "text": [
      "Generating soundscape: 560/2000\n",
      "Generating soundscape: 561/2000\n"
     ]
    },
    {
     "name": "stderr",
     "output_type": "stream",
     "text": [
      "/home/js7561/dev/scaper/scaper/core.py:1199: ScaperWarning: car_horn event time (9.62) is too great given stretched event duration (1.98) and soundscape duration (10.00), changed to 8.02.\n",
      "  ScaperWarning)\n",
      "/home/js7561/dev/scaper/scaper/core.py:1199: ScaperWarning: siren event time (7.29) is too great given stretched event duration (2.74) and soundscape duration (10.00), changed to 7.26.\n",
      "  ScaperWarning)\n",
      "/home/js7561/dev/scaper/scaper/core.py:1199: ScaperWarning: street_music event time (7.23) is too great given stretched event duration (3.17) and soundscape duration (10.00), changed to 6.83.\n",
      "  ScaperWarning)\n"
     ]
    },
    {
     "name": "stdout",
     "output_type": "stream",
     "text": [
      "Generating soundscape: 562/2000\n",
      "Generating soundscape: 563/2000\n"
     ]
    },
    {
     "name": "stderr",
     "output_type": "stream",
     "text": [
      "/home/js7561/dev/scaper/scaper/core.py:1112: ScaperWarning: gun_shot event duration (2.52) is greater that source duration (1.16), changing to 1.16\n",
      "  ScaperWarning)\n",
      "/home/js7561/dev/scaper/scaper/core.py:1112: ScaperWarning: gun_shot event duration (1.62) is greater that source duration (1.23), changing to 1.23\n",
      "  ScaperWarning)\n"
     ]
    },
    {
     "name": "stdout",
     "output_type": "stream",
     "text": [
      "Generating soundscape: 564/2000\n"
     ]
    },
    {
     "name": "stderr",
     "output_type": "stream",
     "text": [
      "/home/js7561/dev/scaper/scaper/core.py:1199: ScaperWarning: drilling event time (8.41) is too great given stretched event duration (1.71) and soundscape duration (10.00), changed to 8.29.\n",
      "  ScaperWarning)\n",
      "/home/js7561/dev/scaper/scaper/core.py:1112: ScaperWarning: gun_shot event duration (2.65) is greater that source duration (2.38), changing to 2.38\n",
      "  ScaperWarning)\n",
      "/home/js7561/dev/scaper/scaper/core.py:1199: ScaperWarning: gun_shot event time (8.40) is too great given stretched event duration (2.22) and soundscape duration (10.00), changed to 7.78.\n",
      "  ScaperWarning)\n",
      "/home/js7561/dev/scaper/scaper/core.py:1199: ScaperWarning: children_playing event time (9.38) is too great given stretched event duration (2.12) and soundscape duration (10.00), changed to 7.88.\n",
      "  ScaperWarning)\n",
      "/home/js7561/dev/scaper/scaper/core.py:1199: ScaperWarning: car_horn event time (8.61) is too great given stretched event duration (2.71) and soundscape duration (10.00), changed to 7.29.\n",
      "  ScaperWarning)\n"
     ]
    },
    {
     "name": "stdout",
     "output_type": "stream",
     "text": [
      "Generating soundscape: 565/2000\n"
     ]
    },
    {
     "name": "stderr",
     "output_type": "stream",
     "text": [
      "/home/js7561/dev/scaper/scaper/core.py:1199: ScaperWarning: engine_idling event time (9.40) is too great given stretched event duration (1.45) and soundscape duration (10.00), changed to 8.55.\n",
      "  ScaperWarning)\n"
     ]
    },
    {
     "name": "stdout",
     "output_type": "stream",
     "text": [
      "Generating soundscape: 566/2000\n"
     ]
    },
    {
     "name": "stderr",
     "output_type": "stream",
     "text": [
      "/home/js7561/dev/scaper/scaper/core.py:1199: ScaperWarning: jackhammer event time (6.11) is too great given stretched event duration (3.99) and soundscape duration (10.00), changed to 6.01.\n",
      "  ScaperWarning)\n"
     ]
    },
    {
     "name": "stdout",
     "output_type": "stream",
     "text": [
      "Generating soundscape: 567/2000\n"
     ]
    },
    {
     "name": "stderr",
     "output_type": "stream",
     "text": [
      "/home/js7561/dev/scaper/scaper/core.py:1112: ScaperWarning: gun_shot event duration (3.84) is greater that source duration (1.61), changing to 1.61\n",
      "  ScaperWarning)\n",
      "/home/js7561/dev/scaper/scaper/core.py:1112: ScaperWarning: drilling event duration (1.56) is greater that source duration (1.53), changing to 1.53\n",
      "  ScaperWarning)\n"
     ]
    },
    {
     "name": "stdout",
     "output_type": "stream",
     "text": [
      "Generating soundscape: 568/2000\n"
     ]
    },
    {
     "name": "stderr",
     "output_type": "stream",
     "text": [
      "/home/js7561/dev/scaper/scaper/core.py:1112: ScaperWarning: dog_bark event duration (1.38) is greater that source duration (0.96), changing to 0.96\n",
      "  ScaperWarning)\n",
      "/home/js7561/dev/scaper/scaper/core.py:1199: ScaperWarning: air_conditioner event time (9.50) is too great given stretched event duration (2.42) and soundscape duration (10.00), changed to 7.58.\n",
      "  ScaperWarning)\n"
     ]
    },
    {
     "name": "stdout",
     "output_type": "stream",
     "text": [
      "Generating soundscape: 569/2000\n",
      "Generating soundscape: 570/2000\n"
     ]
    },
    {
     "name": "stderr",
     "output_type": "stream",
     "text": [
      "/home/js7561/dev/scaper/scaper/core.py:1112: ScaperWarning: car_horn event duration (0.55) is greater that source duration (0.11), changing to 0.11\n",
      "  ScaperWarning)\n"
     ]
    },
    {
     "name": "stdout",
     "output_type": "stream",
     "text": [
      "Generating soundscape: 571/2000\n"
     ]
    },
    {
     "name": "stderr",
     "output_type": "stream",
     "text": [
      "/home/js7561/dev/scaper/scaper/core.py:1199: ScaperWarning: air_conditioner event time (9.34) is too great given stretched event duration (2.99) and soundscape duration (10.00), changed to 7.01.\n",
      "  ScaperWarning)\n",
      "/home/js7561/dev/scaper/scaper/core.py:1199: ScaperWarning: street_music event time (7.47) is too great given stretched event duration (2.87) and soundscape duration (10.00), changed to 7.13.\n",
      "  ScaperWarning)\n",
      "/home/js7561/dev/scaper/scaper/core.py:1199: ScaperWarning: siren event time (8.58) is too great given stretched event duration (2.31) and soundscape duration (10.00), changed to 7.69.\n",
      "  ScaperWarning)\n"
     ]
    },
    {
     "name": "stdout",
     "output_type": "stream",
     "text": [
      "Generating soundscape: 572/2000\n"
     ]
    },
    {
     "name": "stderr",
     "output_type": "stream",
     "text": [
      "/home/js7561/dev/scaper/scaper/core.py:1199: ScaperWarning: jackhammer event time (6.35) is too great given stretched event duration (3.75) and soundscape duration (10.00), changed to 6.25.\n",
      "  ScaperWarning)\n"
     ]
    },
    {
     "name": "stdout",
     "output_type": "stream",
     "text": [
      "Generating soundscape: 573/2000\n"
     ]
    },
    {
     "name": "stderr",
     "output_type": "stream",
     "text": [
      "/home/js7561/dev/scaper/scaper/core.py:1199: ScaperWarning: car_horn event time (9.09) is too great given stretched event duration (3.45) and soundscape duration (10.00), changed to 6.55.\n",
      "  ScaperWarning)\n"
     ]
    },
    {
     "name": "stdout",
     "output_type": "stream",
     "text": [
      "Generating soundscape: 574/2000\n"
     ]
    },
    {
     "name": "stderr",
     "output_type": "stream",
     "text": [
      "/home/js7561/dev/scaper/scaper/core.py:1112: ScaperWarning: car_horn event duration (3.40) is greater that source duration (1.21), changing to 1.21\n",
      "  ScaperWarning)\n",
      "/home/js7561/dev/scaper/scaper/core.py:1199: ScaperWarning: drilling event time (9.92) is too great given stretched event duration (2.78) and soundscape duration (10.00), changed to 7.22.\n",
      "  ScaperWarning)\n",
      "/home/js7561/dev/scaper/scaper/core.py:1112: ScaperWarning: drilling event duration (3.82) is greater that source duration (0.81), changing to 0.81\n",
      "  ScaperWarning)\n"
     ]
    },
    {
     "name": "stdout",
     "output_type": "stream",
     "text": [
      "Generating soundscape: 575/2000\n",
      "Generating soundscape: 576/2000\n",
      "Generating soundscape: 577/2000\n"
     ]
    },
    {
     "name": "stderr",
     "output_type": "stream",
     "text": [
      "/home/js7561/dev/scaper/scaper/core.py:1199: ScaperWarning: siren event time (9.29) is too great given stretched event duration (2.60) and soundscape duration (10.00), changed to 7.40.\n",
      "  ScaperWarning)\n"
     ]
    },
    {
     "name": "stdout",
     "output_type": "stream",
     "text": [
      "Generating soundscape: 578/2000\n"
     ]
    },
    {
     "name": "stderr",
     "output_type": "stream",
     "text": [
      "/home/js7561/dev/scaper/scaper/core.py:1112: ScaperWarning: gun_shot event duration (2.78) is greater that source duration (1.53), changing to 1.53\n",
      "  ScaperWarning)\n",
      "/home/js7561/dev/scaper/scaper/core.py:1199: ScaperWarning: jackhammer event time (9.12) is too great given stretched event duration (2.95) and soundscape duration (10.00), changed to 7.05.\n",
      "  ScaperWarning)\n"
     ]
    },
    {
     "name": "stdout",
     "output_type": "stream",
     "text": [
      "Generating soundscape: 579/2000\n"
     ]
    },
    {
     "name": "stderr",
     "output_type": "stream",
     "text": [
      "/home/js7561/dev/scaper/scaper/core.py:1199: ScaperWarning: drilling event time (7.66) is too great given stretched event duration (2.70) and soundscape duration (10.00), changed to 7.30.\n",
      "  ScaperWarning)\n"
     ]
    },
    {
     "name": "stdout",
     "output_type": "stream",
     "text": [
      "Generating soundscape: 580/2000\n"
     ]
    },
    {
     "name": "stderr",
     "output_type": "stream",
     "text": [
      "/home/js7561/dev/scaper/scaper/core.py:1112: ScaperWarning: gun_shot event duration (3.42) is greater that source duration (1.14), changing to 1.14\n",
      "  ScaperWarning)\n"
     ]
    },
    {
     "name": "stdout",
     "output_type": "stream",
     "text": [
      "Generating soundscape: 581/2000\n",
      "Generating soundscape: 582/2000\n",
      "Generating soundscape: 583/2000\n"
     ]
    },
    {
     "name": "stderr",
     "output_type": "stream",
     "text": [
      "/home/js7561/dev/scaper/scaper/core.py:1112: ScaperWarning: jackhammer event duration (3.15) is greater that source duration (2.93), changing to 2.93\n",
      "  ScaperWarning)\n",
      "/home/js7561/dev/scaper/scaper/core.py:1112: ScaperWarning: gun_shot event duration (0.66) is greater that source duration (0.28), changing to 0.28\n",
      "  ScaperWarning)\n",
      "/home/js7561/dev/scaper/scaper/core.py:1112: ScaperWarning: gun_shot event duration (1.54) is greater that source duration (1.19), changing to 1.19\n",
      "  ScaperWarning)\n",
      "/home/js7561/dev/scaper/scaper/core.py:1112: ScaperWarning: gun_shot event duration (3.95) is greater that source duration (1.17), changing to 1.17\n",
      "  ScaperWarning)\n",
      "/home/js7561/dev/scaper/scaper/core.py:1112: ScaperWarning: car_horn event duration (3.68) is greater that source duration (0.69), changing to 0.69\n",
      "  ScaperWarning)\n"
     ]
    },
    {
     "name": "stdout",
     "output_type": "stream",
     "text": [
      "Generating soundscape: 584/2000\n"
     ]
    },
    {
     "name": "stderr",
     "output_type": "stream",
     "text": [
      "/home/js7561/dev/scaper/scaper/core.py:1199: ScaperWarning: dog_bark event time (9.00) is too great given stretched event duration (1.86) and soundscape duration (10.00), changed to 8.14.\n",
      "  ScaperWarning)\n",
      "/home/js7561/dev/scaper/scaper/core.py:1112: ScaperWarning: car_horn event duration (2.79) is greater that source duration (0.54), changing to 0.54\n",
      "  ScaperWarning)\n"
     ]
    },
    {
     "name": "stdout",
     "output_type": "stream",
     "text": [
      "Generating soundscape: 585/2000\n"
     ]
    },
    {
     "name": "stderr",
     "output_type": "stream",
     "text": [
      "/home/js7561/dev/scaper/scaper/core.py:1112: ScaperWarning: gun_shot event duration (1.93) is greater that source duration (1.05), changing to 1.05\n",
      "  ScaperWarning)\n",
      "/home/js7561/dev/scaper/scaper/core.py:1199: ScaperWarning: siren event time (7.25) is too great given stretched event duration (3.12) and soundscape duration (10.00), changed to 6.88.\n",
      "  ScaperWarning)\n",
      "/home/js7561/dev/scaper/scaper/core.py:1199: ScaperWarning: jackhammer event time (8.01) is too great given stretched event duration (3.61) and soundscape duration (10.00), changed to 6.39.\n",
      "  ScaperWarning)\n"
     ]
    },
    {
     "name": "stdout",
     "output_type": "stream",
     "text": [
      "Generating soundscape: 586/2000\n",
      "Generating soundscape: 587/2000\n"
     ]
    },
    {
     "name": "stderr",
     "output_type": "stream",
     "text": [
      "/home/js7561/dev/scaper/scaper/core.py:1112: ScaperWarning: drilling event duration (2.41) is greater that source duration (2.25), changing to 2.25\n",
      "  ScaperWarning)\n"
     ]
    },
    {
     "name": "stdout",
     "output_type": "stream",
     "text": [
      "Generating soundscape: 588/2000\n"
     ]
    },
    {
     "name": "stderr",
     "output_type": "stream",
     "text": [
      "/home/js7561/dev/scaper/scaper/core.py:1112: ScaperWarning: drilling event duration (2.25) is greater that source duration (1.04), changing to 1.04\n",
      "  ScaperWarning)\n",
      "/home/js7561/dev/scaper/scaper/core.py:1199: ScaperWarning: jackhammer event time (7.99) is too great given stretched event duration (3.56) and soundscape duration (10.00), changed to 6.44.\n",
      "  ScaperWarning)\n"
     ]
    },
    {
     "name": "stdout",
     "output_type": "stream",
     "text": [
      "Generating soundscape: 589/2000\n",
      "Generating soundscape: 590/2000\n",
      "Generating soundscape: 591/2000\n",
      "Generating soundscape: 592/2000\n"
     ]
    },
    {
     "name": "stderr",
     "output_type": "stream",
     "text": [
      "/home/js7561/dev/scaper/scaper/core.py:1199: ScaperWarning: air_conditioner event time (9.33) is too great given stretched event duration (4.37) and soundscape duration (10.00), changed to 5.63.\n",
      "  ScaperWarning)\n",
      "/home/js7561/dev/scaper/scaper/core.py:1112: ScaperWarning: dog_bark event duration (1.47) is greater that source duration (0.32), changing to 0.32\n",
      "  ScaperWarning)\n"
     ]
    },
    {
     "name": "stdout",
     "output_type": "stream",
     "text": [
      "Generating soundscape: 593/2000\n",
      "Generating soundscape: 594/2000\n"
     ]
    },
    {
     "name": "stderr",
     "output_type": "stream",
     "text": [
      "/home/js7561/dev/scaper/scaper/core.py:1199: ScaperWarning: siren event time (9.79) is too great given stretched event duration (2.14) and soundscape duration (10.00), changed to 7.86.\n",
      "  ScaperWarning)\n"
     ]
    },
    {
     "name": "stdout",
     "output_type": "stream",
     "text": [
      "Generating soundscape: 595/2000\n",
      "Generating soundscape: 596/2000\n"
     ]
    },
    {
     "name": "stderr",
     "output_type": "stream",
     "text": [
      "/home/js7561/dev/scaper/scaper/core.py:1199: ScaperWarning: engine_idling event time (6.93) is too great given stretched event duration (3.85) and soundscape duration (10.00), changed to 6.15.\n",
      "  ScaperWarning)\n",
      "/home/js7561/dev/scaper/scaper/core.py:1112: ScaperWarning: gun_shot event duration (2.56) is greater that source duration (0.62), changing to 0.62\n",
      "  ScaperWarning)\n",
      "/home/js7561/dev/scaper/scaper/core.py:1199: ScaperWarning: car_horn event time (7.72) is too great given stretched event duration (2.76) and soundscape duration (10.00), changed to 7.24.\n",
      "  ScaperWarning)\n"
     ]
    },
    {
     "name": "stdout",
     "output_type": "stream",
     "text": [
      "Generating soundscape: 597/2000\n"
     ]
    },
    {
     "name": "stderr",
     "output_type": "stream",
     "text": [
      "/home/js7561/dev/scaper/scaper/core.py:1112: ScaperWarning: gun_shot event duration (2.75) is greater that source duration (0.84), changing to 0.84\n",
      "  ScaperWarning)\n"
     ]
    },
    {
     "name": "stdout",
     "output_type": "stream",
     "text": [
      "Generating soundscape: 598/2000\n",
      "Generating soundscape: 599/2000\n"
     ]
    },
    {
     "name": "stderr",
     "output_type": "stream",
     "text": [
      "/home/js7561/dev/scaper/scaper/core.py:1199: ScaperWarning: street_music event time (7.72) is too great given stretched event duration (3.50) and soundscape duration (10.00), changed to 6.50.\n",
      "  ScaperWarning)\n"
     ]
    },
    {
     "name": "stdout",
     "output_type": "stream",
     "text": [
      "Generating soundscape: 600/2000\n",
      "Generating soundscape: 601/2000\n",
      "Generating soundscape: 602/2000\n"
     ]
    },
    {
     "name": "stderr",
     "output_type": "stream",
     "text": [
      "/home/js7561/dev/scaper/scaper/core.py:1199: ScaperWarning: dog_bark event time (9.52) is too great given stretched event duration (1.95) and soundscape duration (10.00), changed to 8.05.\n",
      "  ScaperWarning)\n"
     ]
    },
    {
     "name": "stdout",
     "output_type": "stream",
     "text": [
      "Generating soundscape: 603/2000\n"
     ]
    },
    {
     "name": "stderr",
     "output_type": "stream",
     "text": [
      "/home/js7561/dev/scaper/scaper/core.py:1112: ScaperWarning: gun_shot event duration (3.47) is greater that source duration (1.27), changing to 1.27\n",
      "  ScaperWarning)\n"
     ]
    },
    {
     "name": "stdout",
     "output_type": "stream",
     "text": [
      "Generating soundscape: 604/2000\n"
     ]
    },
    {
     "name": "stderr",
     "output_type": "stream",
     "text": [
      "/home/js7561/dev/scaper/scaper/core.py:1199: ScaperWarning: siren event time (7.72) is too great given stretched event duration (2.86) and soundscape duration (10.00), changed to 7.14.\n",
      "  ScaperWarning)\n",
      "/home/js7561/dev/scaper/scaper/core.py:1112: ScaperWarning: gun_shot event duration (3.82) is greater that source duration (0.17), changing to 0.17\n",
      "  ScaperWarning)\n",
      "/home/js7561/dev/scaper/scaper/core.py:1199: ScaperWarning: street_music event time (9.59) is too great given stretched event duration (2.62) and soundscape duration (10.00), changed to 7.38.\n",
      "  ScaperWarning)\n"
     ]
    },
    {
     "name": "stdout",
     "output_type": "stream",
     "text": [
      "Generating soundscape: 605/2000\n"
     ]
    },
    {
     "name": "stderr",
     "output_type": "stream",
     "text": [
      "/home/js7561/dev/scaper/scaper/core.py:1112: ScaperWarning: jackhammer event duration (2.13) is greater that source duration (0.81), changing to 0.81\n",
      "  ScaperWarning)\n",
      "/home/js7561/dev/scaper/scaper/core.py:1112: ScaperWarning: car_horn event duration (3.21) is greater that source duration (0.63), changing to 0.63\n",
      "  ScaperWarning)\n"
     ]
    },
    {
     "name": "stdout",
     "output_type": "stream",
     "text": [
      "Generating soundscape: 606/2000\n"
     ]
    },
    {
     "name": "stderr",
     "output_type": "stream",
     "text": [
      "/home/js7561/dev/scaper/scaper/core.py:1112: ScaperWarning: car_horn event duration (0.99) is greater that source duration (0.31), changing to 0.31\n",
      "  ScaperWarning)\n"
     ]
    },
    {
     "name": "stdout",
     "output_type": "stream",
     "text": [
      "Generating soundscape: 607/2000\n"
     ]
    },
    {
     "name": "stderr",
     "output_type": "stream",
     "text": [
      "/home/js7561/dev/scaper/scaper/core.py:1112: ScaperWarning: car_horn event duration (2.65) is greater that source duration (0.93), changing to 0.93\n",
      "  ScaperWarning)\n"
     ]
    },
    {
     "name": "stdout",
     "output_type": "stream",
     "text": [
      "Generating soundscape: 608/2000\n"
     ]
    },
    {
     "name": "stderr",
     "output_type": "stream",
     "text": [
      "/home/js7561/dev/scaper/scaper/core.py:1199: ScaperWarning: drilling event time (9.68) is too great given stretched event duration (1.70) and soundscape duration (10.00), changed to 8.30.\n",
      "  ScaperWarning)\n"
     ]
    },
    {
     "name": "stdout",
     "output_type": "stream",
     "text": [
      "Generating soundscape: 609/2000\n"
     ]
    },
    {
     "name": "stderr",
     "output_type": "stream",
     "text": [
      "/home/js7561/dev/scaper/scaper/core.py:1112: ScaperWarning: jackhammer event duration (1.17) is greater that source duration (1.06), changing to 1.06\n",
      "  ScaperWarning)\n",
      "/home/js7561/dev/scaper/scaper/core.py:1112: ScaperWarning: dog_bark event duration (1.92) is greater that source duration (0.77), changing to 0.77\n",
      "  ScaperWarning)\n"
     ]
    },
    {
     "name": "stdout",
     "output_type": "stream",
     "text": [
      "Generating soundscape: 610/2000\n"
     ]
    },
    {
     "name": "stderr",
     "output_type": "stream",
     "text": [
      "/home/js7561/dev/scaper/scaper/core.py:1199: ScaperWarning: gun_shot event time (9.97) is too great given stretched event duration (0.56) and soundscape duration (10.00), changed to 9.44.\n",
      "  ScaperWarning)\n"
     ]
    },
    {
     "name": "stdout",
     "output_type": "stream",
     "text": [
      "Generating soundscape: 611/2000\n"
     ]
    },
    {
     "name": "stderr",
     "output_type": "stream",
     "text": [
      "/home/js7561/dev/scaper/scaper/core.py:1112: ScaperWarning: jackhammer event duration (3.63) is greater that source duration (1.37), changing to 1.37\n",
      "  ScaperWarning)\n",
      "/home/js7561/dev/scaper/scaper/core.py:1112: ScaperWarning: car_horn event duration (2.78) is greater that source duration (1.36), changing to 1.36\n",
      "  ScaperWarning)\n"
     ]
    },
    {
     "name": "stdout",
     "output_type": "stream",
     "text": [
      "Generating soundscape: 612/2000\n",
      "Generating soundscape: 613/2000\n"
     ]
    },
    {
     "name": "stderr",
     "output_type": "stream",
     "text": [
      "/home/js7561/dev/scaper/scaper/core.py:1199: ScaperWarning: children_playing event time (9.75) is too great given stretched event duration (3.43) and soundscape duration (10.00), changed to 6.57.\n",
      "  ScaperWarning)\n",
      "/home/js7561/dev/scaper/scaper/core.py:1112: ScaperWarning: gun_shot event duration (3.91) is greater that source duration (3.02), changing to 3.02\n",
      "  ScaperWarning)\n"
     ]
    },
    {
     "name": "stdout",
     "output_type": "stream",
     "text": [
      "Generating soundscape: 614/2000\n"
     ]
    },
    {
     "name": "stderr",
     "output_type": "stream",
     "text": [
      "/home/js7561/dev/scaper/scaper/core.py:1199: ScaperWarning: dog_bark event time (9.92) is too great given stretched event duration (3.54) and soundscape duration (10.00), changed to 6.46.\n",
      "  ScaperWarning)\n",
      "/home/js7561/dev/scaper/scaper/core.py:1199: ScaperWarning: siren event time (7.23) is too great given stretched event duration (4.02) and soundscape duration (10.00), changed to 5.98.\n",
      "  ScaperWarning)\n"
     ]
    },
    {
     "name": "stdout",
     "output_type": "stream",
     "text": [
      "Generating soundscape: 615/2000\n"
     ]
    },
    {
     "name": "stderr",
     "output_type": "stream",
     "text": [
      "/home/js7561/dev/scaper/scaper/core.py:1199: ScaperWarning: air_conditioner event time (9.44) is too great given stretched event duration (2.11) and soundscape duration (10.00), changed to 7.89.\n",
      "  ScaperWarning)\n",
      "/home/js7561/dev/scaper/scaper/core.py:1199: ScaperWarning: siren event time (8.01) is too great given stretched event duration (3.03) and soundscape duration (10.00), changed to 6.97.\n",
      "  ScaperWarning)\n",
      "/home/js7561/dev/scaper/scaper/core.py:1112: ScaperWarning: gun_shot event duration (3.43) is greater that source duration (0.65), changing to 0.65\n",
      "  ScaperWarning)\n"
     ]
    },
    {
     "name": "stdout",
     "output_type": "stream",
     "text": [
      "Generating soundscape: 616/2000\n"
     ]
    },
    {
     "name": "stderr",
     "output_type": "stream",
     "text": [
      "/home/js7561/dev/scaper/scaper/core.py:1199: ScaperWarning: street_music event time (8.55) is too great given stretched event duration (2.49) and soundscape duration (10.00), changed to 7.51.\n",
      "  ScaperWarning)\n"
     ]
    },
    {
     "name": "stdout",
     "output_type": "stream",
     "text": [
      "Generating soundscape: 617/2000\n"
     ]
    },
    {
     "name": "stderr",
     "output_type": "stream",
     "text": [
      "/home/js7561/dev/scaper/scaper/core.py:1199: ScaperWarning: drilling event time (9.55) is too great given stretched event duration (0.59) and soundscape duration (10.00), changed to 9.41.\n",
      "  ScaperWarning)\n",
      "/home/js7561/dev/scaper/scaper/core.py:1199: ScaperWarning: siren event time (9.10) is too great given stretched event duration (2.59) and soundscape duration (10.00), changed to 7.41.\n",
      "  ScaperWarning)\n"
     ]
    }
   ],
   "source": [
    "# Generate 2000 soundscapes using a BIMODAL distribution of start times\n",
    "\n",
    "for n in range(n_soundscapes):\n",
    "    \n",
    "    print('Generating soundscape: {:d}/{:d}'.format(n+1, n_soundscapes))\n",
    "    \n",
    "    # create a scaper\n",
    "    sc = scaper.Scaper(duration, fg_folder, bg_folder)\n",
    "    sc.protected_labels = []\n",
    "    sc.ref_db = ref_db\n",
    "    \n",
    "    # add background\n",
    "    sc.add_background(label=('const', 'noise'), \n",
    "                      source_file=('choose', []), \n",
    "                      source_time=('const', 0))\n",
    "\n",
    "    # add random foreground events\n",
    "    n_events = np.random.randint(min_events, max_events+1)\n",
    "    for _ in range(n_events):\n",
    "        \n",
    "        coin = np.random.randint(0, 2)\n",
    "        if coin==0:\n",
    "            mu = event_time_mean1\n",
    "        else:\n",
    "            mu = event_time_mean2\n",
    "            \n",
    "        sc.add_event(label=('choose', []), \n",
    "                     source_file=('choose', []), \n",
    "                     source_time=(source_time_dist, source_time), \n",
    "                     event_time=(event_time_dist, mu, event_time_std, event_time_min, event_time_max), \n",
    "                     event_duration=(event_duration_dist, event_duration_min, event_duration_max), \n",
    "                     snr=(snr_dist, snr_min, snr_max),\n",
    "                     pitch_shift=(pitch_dist, pitch_min, pitch_max),\n",
    "                     time_stretch=(time_stretch_dist, time_stretch_min, time_stretch_max))\n",
    "    \n",
    "    # generate\n",
    "    audiofile = os.path.join(outfolder, \"soundscape_train_bimodal{:d}.wav\".format(n))\n",
    "    jamsfile = os.path.join(outfolder, \"soundscape_train_bimodal{:d}.jams\".format(n))\n",
    "    txtfile = os.path.join(outfolder, \"soundscape_train_bimodal{:d}.txt\".format(n))\n",
    "    \n",
    "    sc.generate(audiofile, jamsfile,\n",
    "                allow_repeated_label=True,\n",
    "                allow_repeated_source=False,\n",
    "                reverb=0.1,\n",
    "                disable_sox_warnings=True,\n",
    "                no_audio=False,\n",
    "                txt_path=txtfile)"
   ]
  },
  {
   "cell_type": "code",
   "execution_count": null,
   "metadata": {
    "collapsed": true,
    "deletable": true,
    "editable": true
   },
   "outputs": [],
   "source": []
  }
 ],
 "metadata": {
  "kernelspec": {
   "display_name": "Python 3",
   "language": "python",
   "name": "python3"
  },
  "language_info": {
   "codemirror_mode": {
    "name": "ipython",
    "version": 3
   },
   "file_extension": ".py",
   "mimetype": "text/x-python",
   "name": "python",
   "nbconvert_exporter": "python",
   "pygments_lexer": "ipython3",
   "version": "3.5.3"
  }
 },
 "nbformat": 4,
 "nbformat_minor": 2
}
