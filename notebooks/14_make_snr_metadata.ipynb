{
 "cells": [
  {
   "cell_type": "code",
   "execution_count": 1,
   "metadata": {
    "collapsed": true
   },
   "outputs": [],
   "source": [
    "import scaper\n",
    "import jams\n",
    "import os\n",
    "import numpy as np\n",
    "import gzip\n",
    "import glob\n",
    "import pandas as pd\n",
    "from tqdm import tqdm\n",
    "np.random.seed(123)"
   ]
  },
  {
   "cell_type": "code",
   "execution_count": 2,
   "metadata": {
    "collapsed": false
   },
   "outputs": [
    {
     "data": {
      "text/plain": [
       "2000"
      ]
     },
     "execution_count": 2,
     "metadata": {},
     "output_type": "execute_result"
    }
   ],
   "source": [
    "metadatafolder = '/scratch/js7561/datasets/scaper_waspaa2017/urban-sed/metadata/'\n",
    "test_jams_files = sorted(glob.glob(os.path.join(metadatafolder, 'test', '*.jams')))\n",
    "len(test_jams_files)"
   ]
  },
  {
   "cell_type": "code",
   "execution_count": 4,
   "metadata": {
    "collapsed": false
   },
   "outputs": [
    {
     "name": "stderr",
     "output_type": "stream",
     "text": [
      "100%|██████████| 2000/2000 [06:56<00:00,  5.54it/s]\n"
     ]
    }
   ],
   "source": [
    "for jf in tqdm(test_jams_files):\n",
    "    \n",
    "    # Load jam\n",
    "    jam = jams.load(jf)\n",
    "    \n",
    "    # For all SNR groups\n",
    "    snr_range = 6\n",
    "    for min_snr in [6, 12, 18, 24]:\n",
    "        \n",
    "        # Change SNR of all events\n",
    "        for i in range(len(jam.annotations[0].data)):\n",
    "            jam.annotations[0].data.loc[i, 'value']['snr'] = min_snr + np.random.rand() * snr_range\n",
    "            \n",
    "        # Save new jam\n",
    "        outjam = os.path.join(metadatafolder, 'snr', os.path.basename(jf).replace('.jams', '_snr{:d}.jams'.format(min_snr)))\n",
    "        jam.save(outjam)\n",
    "        \n",
    "        # Create event list for txt file\n",
    "        df = pd.DataFrame(columns=['onset', 'offset', 'label'])\n",
    "\n",
    "        for idx, row in jam.annotations[0].data.iterrows():\n",
    "            if row.value['role'] == 'foreground':\n",
    "                newrow = ([row.time.total_seconds(),\n",
    "                           row.time.total_seconds() +\n",
    "                           row.duration.total_seconds(),\n",
    "                           row.value['label']])\n",
    "                df.loc[len(df)] = newrow\n",
    "\n",
    "        # sort events by onset time and save\n",
    "        outtxt = outjam.replace('.jams', '.txt')\n",
    "        df = df.sort_values('onset')\n",
    "        df.reset_index(inplace=True, drop=True)\n",
    "        df.to_csv(outtxt, index=False, header=False, sep=' ')"
   ]
  },
  {
   "cell_type": "code",
   "execution_count": null,
   "metadata": {
    "collapsed": true
   },
   "outputs": [],
   "source": []
  }
 ],
 "metadata": {
  "kernelspec": {
   "display_name": "Python 3",
   "language": "python",
   "name": "python3"
  },
  "language_info": {
   "codemirror_mode": {
    "name": "ipython",
    "version": 3
   },
   "file_extension": ".py",
   "mimetype": "text/x-python",
   "name": "python",
   "nbconvert_exporter": "python",
   "pygments_lexer": "ipython3",
   "version": "3.5.3"
  }
 },
 "nbformat": 4,
 "nbformat_minor": 2
}
