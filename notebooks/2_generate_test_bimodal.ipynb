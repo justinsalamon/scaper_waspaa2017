{
 "cells": [
  {
   "cell_type": "code",
   "execution_count": 1,
   "metadata": {
    "collapsed": true,
    "deletable": true,
    "editable": true
   },
   "outputs": [],
   "source": [
    "import numpy as np\n",
    "np.random.seed(123)\n",
    "import scaper\n",
    "import os"
   ]
  },
  {
   "cell_type": "code",
   "execution_count": 2,
   "metadata": {
    "collapsed": true,
    "deletable": true,
    "editable": true
   },
   "outputs": [],
   "source": [
    "# SCAPER SETTINGS\n",
    "fg_folder = '/scratch/js7561/datasets/scaper_waspaa2017/audio/soundbanks/test/foreground/'\n",
    "bg_folder = '/scratch/js7561/datasets/scaper_waspaa2017/audio/soundbanks/test/background/'\n",
    "\n",
    "n_soundscapes = 666\n",
    "ref_db = -50\n",
    "duration = 10.0 \n",
    "\n",
    "min_events = 1\n",
    "max_events = 9\n",
    "\n",
    "event_time_dist = 'truncnorm'\n",
    "event_time_mean1 = 3.0\n",
    "event_time_mean2 = 7.0\n",
    "event_time_std = 2.0\n",
    "event_time_min = 0.0\n",
    "event_time_max = 10.0\n",
    "\n",
    "source_time_dist = 'const'\n",
    "source_time = 0.0\n",
    "\n",
    "event_duration_dist = 'uniform'\n",
    "event_duration_min = 0.5\n",
    "event_duration_max = 4.0\n",
    "\n",
    "snr_dist = 'uniform'\n",
    "snr_min = 6\n",
    "snr_max = 30\n",
    "\n",
    "pitch_dist = 'uniform'\n",
    "pitch_min = -3.0\n",
    "pitch_max = 3.0\n",
    "\n",
    "time_stretch_dist = 'uniform'\n",
    "time_stretch_min = 0.8\n",
    "time_stretch_max = 1.2\n",
    "\n",
    "\n",
    "# FILE SETTINGS\n",
    "outfolder = os.path.join('/scratch/js7561/datasets/scaper_waspaa2017/audio/soundscapes/test/bimodal')\n",
    "if not os.path.isdir(outfolder):\n",
    "    os.mkdir(outfolder)"
   ]
  },
  {
   "cell_type": "code",
   "execution_count": 3,
   "metadata": {
    "collapsed": false,
    "deletable": true,
    "editable": true,
    "scrolled": true
   },
   "outputs": [
    {
     "name": "stdout",
     "output_type": "stream",
     "text": [
      "Generating soundscape: 1/666\n"
     ]
    },
    {
     "name": "stderr",
     "output_type": "stream",
     "text": [
      "/home/js7561/dev/scaper/scaper/core.py:1112: ScaperWarning: drilling event duration (3.51) is greater that source duration (1.57), changing to 1.57\n",
      "  ScaperWarning)\n"
     ]
    },
    {
     "name": "stdout",
     "output_type": "stream",
     "text": [
      "Generating soundscape: 2/666\n",
      "Generating soundscape: 3/666\n"
     ]
    },
    {
     "name": "stderr",
     "output_type": "stream",
     "text": [
      "/home/js7561/dev/scaper/scaper/core.py:1112: ScaperWarning: gun_shot event duration (0.96) is greater that source duration (0.94), changing to 0.94\n",
      "  ScaperWarning)\n"
     ]
    },
    {
     "name": "stdout",
     "output_type": "stream",
     "text": [
      "Generating soundscape: 4/666\n"
     ]
    },
    {
     "name": "stderr",
     "output_type": "stream",
     "text": [
      "/home/js7561/dev/scaper/scaper/core.py:1112: ScaperWarning: dog_bark event duration (2.37) is greater that source duration (0.40), changing to 0.40\n",
      "  ScaperWarning)\n"
     ]
    },
    {
     "name": "stdout",
     "output_type": "stream",
     "text": [
      "Generating soundscape: 5/666\n"
     ]
    },
    {
     "name": "stderr",
     "output_type": "stream",
     "text": [
      "/home/js7561/dev/scaper/scaper/core.py:1199: ScaperWarning: car_horn event time (6.50) is too great given stretched event duration (3.86) and soundscape duration (10.00), changed to 6.14.\n",
      "  ScaperWarning)\n",
      "/home/js7561/dev/scaper/scaper/core.py:1112: ScaperWarning: car_horn event duration (0.80) is greater that source duration (0.47), changing to 0.47\n",
      "  ScaperWarning)\n"
     ]
    },
    {
     "name": "stdout",
     "output_type": "stream",
     "text": [
      "Generating soundscape: 6/666\n"
     ]
    },
    {
     "name": "stderr",
     "output_type": "stream",
     "text": [
      "/home/js7561/dev/scaper/scaper/core.py:1112: ScaperWarning: car_horn event duration (3.55) is greater that source duration (0.65), changing to 0.65\n",
      "  ScaperWarning)\n"
     ]
    },
    {
     "name": "stdout",
     "output_type": "stream",
     "text": [
      "Generating soundscape: 7/666\n",
      "Generating soundscape: 8/666\n"
     ]
    },
    {
     "name": "stderr",
     "output_type": "stream",
     "text": [
      "/home/js7561/dev/scaper/scaper/core.py:1112: ScaperWarning: car_horn event duration (3.54) is greater that source duration (1.20), changing to 1.20\n",
      "  ScaperWarning)\n"
     ]
    },
    {
     "name": "stdout",
     "output_type": "stream",
     "text": [
      "Generating soundscape: 9/666\n"
     ]
    },
    {
     "name": "stderr",
     "output_type": "stream",
     "text": [
      "/home/js7561/dev/scaper/scaper/core.py:1112: ScaperWarning: car_horn event duration (3.48) is greater that source duration (0.25), changing to 0.25\n",
      "  ScaperWarning)\n",
      "/home/js7561/dev/scaper/scaper/core.py:1199: ScaperWarning: car_horn event time (8.55) is too great given stretched event duration (2.67) and soundscape duration (10.00), changed to 7.33.\n",
      "  ScaperWarning)\n",
      "/home/js7561/dev/scaper/scaper/core.py:1199: ScaperWarning: street_music event time (8.92) is too great given stretched event duration (2.92) and soundscape duration (10.00), changed to 7.08.\n",
      "  ScaperWarning)\n"
     ]
    },
    {
     "name": "stdout",
     "output_type": "stream",
     "text": [
      "Generating soundscape: 10/666\n"
     ]
    },
    {
     "name": "stderr",
     "output_type": "stream",
     "text": [
      "/home/js7561/dev/scaper/scaper/core.py:1199: ScaperWarning: siren event time (9.92) is too great given stretched event duration (3.71) and soundscape duration (10.00), changed to 6.29.\n",
      "  ScaperWarning)\n",
      "/home/js7561/dev/scaper/scaper/core.py:1199: ScaperWarning: children_playing event time (6.87) is too great given stretched event duration (3.24) and soundscape duration (10.00), changed to 6.76.\n",
      "  ScaperWarning)\n"
     ]
    },
    {
     "name": "stdout",
     "output_type": "stream",
     "text": [
      "Generating soundscape: 11/666\n"
     ]
    },
    {
     "name": "stderr",
     "output_type": "stream",
     "text": [
      "/home/js7561/dev/scaper/scaper/core.py:1199: ScaperWarning: street_music event time (9.19) is too great given stretched event duration (2.60) and soundscape duration (10.00), changed to 7.40.\n",
      "  ScaperWarning)\n",
      "/home/js7561/dev/scaper/scaper/core.py:1112: ScaperWarning: car_horn event duration (2.32) is greater that source duration (1.62), changing to 1.62\n",
      "  ScaperWarning)\n",
      "/home/js7561/dev/scaper/scaper/core.py:1112: ScaperWarning: gun_shot event duration (1.38) is greater that source duration (0.98), changing to 0.98\n",
      "  ScaperWarning)\n",
      "/home/js7561/dev/scaper/scaper/core.py:1199: ScaperWarning: gun_shot event time (9.93) is too great given stretched event duration (1.11) and soundscape duration (10.00), changed to 8.89.\n",
      "  ScaperWarning)\n"
     ]
    },
    {
     "name": "stdout",
     "output_type": "stream",
     "text": [
      "Generating soundscape: 12/666\n"
     ]
    },
    {
     "name": "stderr",
     "output_type": "stream",
     "text": [
      "/home/js7561/dev/scaper/scaper/core.py:1112: ScaperWarning: car_horn event duration (1.06) is greater that source duration (1.04), changing to 1.04\n",
      "  ScaperWarning)\n",
      "/home/js7561/dev/scaper/scaper/core.py:1112: ScaperWarning: gun_shot event duration (2.94) is greater that source duration (1.90), changing to 1.90\n",
      "  ScaperWarning)\n"
     ]
    },
    {
     "name": "stdout",
     "output_type": "stream",
     "text": [
      "Generating soundscape: 13/666\n"
     ]
    },
    {
     "name": "stderr",
     "output_type": "stream",
     "text": [
      "/home/js7561/dev/scaper/scaper/core.py:1199: ScaperWarning: drilling event time (8.61) is too great given stretched event duration (2.90) and soundscape duration (10.00), changed to 7.10.\n",
      "  ScaperWarning)\n",
      "/home/js7561/dev/scaper/scaper/core.py:1112: ScaperWarning: gun_shot event duration (1.42) is greater that source duration (1.25), changing to 1.25\n",
      "  ScaperWarning)\n",
      "/home/js7561/dev/scaper/scaper/core.py:1112: ScaperWarning: car_horn event duration (1.76) is greater that source duration (0.21), changing to 0.21\n",
      "  ScaperWarning)\n"
     ]
    },
    {
     "name": "stdout",
     "output_type": "stream",
     "text": [
      "Generating soundscape: 14/666\n"
     ]
    },
    {
     "name": "stderr",
     "output_type": "stream",
     "text": [
      "/home/js7561/dev/scaper/scaper/core.py:1199: ScaperWarning: air_conditioner event time (9.15) is too great given stretched event duration (2.77) and soundscape duration (10.00), changed to 7.23.\n",
      "  ScaperWarning)\n",
      "/home/js7561/dev/scaper/scaper/core.py:1112: ScaperWarning: dog_bark event duration (1.82) is greater that source duration (0.72), changing to 0.72\n",
      "  ScaperWarning)\n",
      "/home/js7561/dev/scaper/scaper/core.py:1112: ScaperWarning: gun_shot event duration (1.36) is greater that source duration (0.50), changing to 0.50\n",
      "  ScaperWarning)\n",
      "/home/js7561/dev/scaper/scaper/core.py:1112: ScaperWarning: drilling event duration (2.23) is greater that source duration (1.73), changing to 1.73\n",
      "  ScaperWarning)\n"
     ]
    },
    {
     "name": "stdout",
     "output_type": "stream",
     "text": [
      "Generating soundscape: 15/666\n"
     ]
    },
    {
     "name": "stderr",
     "output_type": "stream",
     "text": [
      "/home/js7561/dev/scaper/scaper/core.py:1112: ScaperWarning: drilling event duration (2.43) is greater that source duration (1.73), changing to 1.73\n",
      "  ScaperWarning)\n"
     ]
    },
    {
     "name": "stdout",
     "output_type": "stream",
     "text": [
      "Generating soundscape: 16/666\n"
     ]
    },
    {
     "name": "stderr",
     "output_type": "stream",
     "text": [
      "/home/js7561/dev/scaper/scaper/core.py:1199: ScaperWarning: siren event time (8.89) is too great given stretched event duration (3.44) and soundscape duration (10.00), changed to 6.56.\n",
      "  ScaperWarning)\n",
      "/home/js7561/dev/scaper/scaper/core.py:1112: ScaperWarning: car_horn event duration (0.84) is greater that source duration (0.41), changing to 0.41\n",
      "  ScaperWarning)\n"
     ]
    },
    {
     "name": "stdout",
     "output_type": "stream",
     "text": [
      "Generating soundscape: 17/666\n",
      "Generating soundscape: 18/666\n",
      "Generating soundscape: 19/666\n"
     ]
    },
    {
     "name": "stderr",
     "output_type": "stream",
     "text": [
      "/home/js7561/dev/scaper/scaper/core.py:1199: ScaperWarning: siren event time (7.62) is too great given stretched event duration (2.41) and soundscape duration (10.00), changed to 7.59.\n",
      "  ScaperWarning)\n",
      "/home/js7561/dev/scaper/scaper/core.py:1199: ScaperWarning: street_music event time (7.61) is too great given stretched event duration (3.37) and soundscape duration (10.00), changed to 6.63.\n",
      "  ScaperWarning)\n"
     ]
    },
    {
     "name": "stdout",
     "output_type": "stream",
     "text": [
      "Generating soundscape: 20/666\n"
     ]
    },
    {
     "name": "stderr",
     "output_type": "stream",
     "text": [
      "/home/js7561/dev/scaper/scaper/core.py:1199: ScaperWarning: siren event time (9.21) is too great given stretched event duration (0.96) and soundscape duration (10.00), changed to 9.04.\n",
      "  ScaperWarning)\n",
      "/home/js7561/dev/scaper/scaper/core.py:1112: ScaperWarning: gun_shot event duration (3.86) is greater that source duration (1.33), changing to 1.33\n",
      "  ScaperWarning)\n",
      "/home/js7561/dev/scaper/scaper/core.py:1112: ScaperWarning: car_horn event duration (2.51) is greater that source duration (2.15), changing to 2.15\n",
      "  ScaperWarning)\n",
      "/home/js7561/dev/scaper/scaper/core.py:1199: ScaperWarning: car_horn event time (8.06) is too great given stretched event duration (2.12) and soundscape duration (10.00), changed to 7.88.\n",
      "  ScaperWarning)\n"
     ]
    },
    {
     "name": "stdout",
     "output_type": "stream",
     "text": [
      "Generating soundscape: 21/666\n"
     ]
    },
    {
     "name": "stderr",
     "output_type": "stream",
     "text": [
      "/home/js7561/dev/scaper/scaper/core.py:1112: ScaperWarning: gun_shot event duration (3.98) is greater that source duration (3.25), changing to 3.25\n",
      "  ScaperWarning)\n",
      "/home/js7561/dev/scaper/scaper/core.py:1199: ScaperWarning: siren event time (7.78) is too great given stretched event duration (2.63) and soundscape duration (10.00), changed to 7.37.\n",
      "  ScaperWarning)\n"
     ]
    },
    {
     "name": "stdout",
     "output_type": "stream",
     "text": [
      "Generating soundscape: 22/666\n"
     ]
    },
    {
     "name": "stderr",
     "output_type": "stream",
     "text": [
      "/home/js7561/dev/scaper/scaper/core.py:1112: ScaperWarning: gun_shot event duration (1.80) is greater that source duration (0.79), changing to 0.79\n",
      "  ScaperWarning)\n",
      "/home/js7561/dev/scaper/scaper/core.py:1112: ScaperWarning: car_horn event duration (2.03) is greater that source duration (0.28), changing to 0.28\n",
      "  ScaperWarning)\n",
      "/home/js7561/dev/scaper/scaper/core.py:1112: ScaperWarning: dog_bark event duration (1.61) is greater that source duration (0.74), changing to 0.74\n",
      "  ScaperWarning)\n",
      "/home/js7561/dev/scaper/scaper/core.py:1112: ScaperWarning: dog_bark event duration (3.48) is greater that source duration (1.35), changing to 1.35\n",
      "  ScaperWarning)\n"
     ]
    },
    {
     "name": "stdout",
     "output_type": "stream",
     "text": [
      "Generating soundscape: 23/666\n",
      "Generating soundscape: 24/666\n"
     ]
    },
    {
     "name": "stderr",
     "output_type": "stream",
     "text": [
      "/home/js7561/dev/scaper/scaper/core.py:1112: ScaperWarning: car_horn event duration (2.08) is greater that source duration (1.62), changing to 1.62\n",
      "  ScaperWarning)\n",
      "/home/js7561/dev/scaper/scaper/core.py:1112: ScaperWarning: car_horn event duration (2.84) is greater that source duration (1.21), changing to 1.21\n",
      "  ScaperWarning)\n",
      "/home/js7561/dev/scaper/scaper/core.py:1199: ScaperWarning: car_horn event time (9.94) is too great given stretched event duration (1.23) and soundscape duration (10.00), changed to 8.77.\n",
      "  ScaperWarning)\n",
      "/home/js7561/dev/scaper/scaper/core.py:1199: ScaperWarning: siren event time (8.15) is too great given stretched event duration (2.79) and soundscape duration (10.00), changed to 7.21.\n",
      "  ScaperWarning)\n",
      "/home/js7561/dev/scaper/scaper/core.py:1112: ScaperWarning: drilling event duration (3.84) is greater that source duration (2.49), changing to 2.49\n",
      "  ScaperWarning)\n",
      "/home/js7561/dev/scaper/scaper/core.py:1199: ScaperWarning: drilling event time (7.79) is too great given stretched event duration (2.71) and soundscape duration (10.00), changed to 7.29.\n",
      "  ScaperWarning)\n",
      "/home/js7561/dev/scaper/scaper/core.py:1199: ScaperWarning: drilling event time (7.60) is too great given stretched event duration (3.62) and soundscape duration (10.00), changed to 6.38.\n",
      "  ScaperWarning)\n",
      "/home/js7561/dev/scaper/scaper/core.py:1112: ScaperWarning: gun_shot event duration (1.36) is greater that source duration (1.15), changing to 1.15\n",
      "  ScaperWarning)\n"
     ]
    },
    {
     "name": "stdout",
     "output_type": "stream",
     "text": [
      "Generating soundscape: 25/666\n",
      "Generating soundscape: 26/666\n"
     ]
    },
    {
     "name": "stderr",
     "output_type": "stream",
     "text": [
      "/home/js7561/dev/scaper/scaper/core.py:1199: ScaperWarning: siren event time (7.00) is too great given stretched event duration (3.67) and soundscape duration (10.00), changed to 6.33.\n",
      "  ScaperWarning)\n",
      "/home/js7561/dev/scaper/scaper/core.py:1112: ScaperWarning: gun_shot event duration (3.64) is greater that source duration (2.24), changing to 2.24\n",
      "  ScaperWarning)\n",
      "/home/js7561/dev/scaper/scaper/core.py:1199: ScaperWarning: drilling event time (6.82) is too great given stretched event duration (3.81) and soundscape duration (10.00), changed to 6.19.\n",
      "  ScaperWarning)\n",
      "/home/js7561/dev/scaper/scaper/core.py:1112: ScaperWarning: gun_shot event duration (3.72) is greater that source duration (2.62), changing to 2.62\n",
      "  ScaperWarning)\n"
     ]
    },
    {
     "name": "stdout",
     "output_type": "stream",
     "text": [
      "Generating soundscape: 27/666\n",
      "Generating soundscape: 28/666\n",
      "Generating soundscape: 29/666\n"
     ]
    },
    {
     "name": "stderr",
     "output_type": "stream",
     "text": [
      "/home/js7561/dev/scaper/scaper/core.py:1112: ScaperWarning: car_horn event duration (3.98) is greater that source duration (0.86), changing to 0.86\n",
      "  ScaperWarning)\n"
     ]
    },
    {
     "name": "stdout",
     "output_type": "stream",
     "text": [
      "Generating soundscape: 30/666\n",
      "Generating soundscape: 31/666\n",
      "Generating soundscape: 32/666\n"
     ]
    },
    {
     "name": "stderr",
     "output_type": "stream",
     "text": [
      "/home/js7561/dev/scaper/scaper/core.py:1112: ScaperWarning: car_horn event duration (2.47) is greater that source duration (0.68), changing to 0.68\n",
      "  ScaperWarning)\n",
      "/home/js7561/dev/scaper/scaper/core.py:1199: ScaperWarning: car_horn event time (9.79) is too great given stretched event duration (0.60) and soundscape duration (10.00), changed to 9.40.\n",
      "  ScaperWarning)\n"
     ]
    },
    {
     "name": "stdout",
     "output_type": "stream",
     "text": [
      "Generating soundscape: 33/666\n"
     ]
    },
    {
     "name": "stderr",
     "output_type": "stream",
     "text": [
      "/home/js7561/dev/scaper/scaper/core.py:1199: ScaperWarning: siren event time (6.99) is too great given stretched event duration (3.73) and soundscape duration (10.00), changed to 6.27.\n",
      "  ScaperWarning)\n",
      "/home/js7561/dev/scaper/scaper/core.py:1199: ScaperWarning: drilling event time (7.29) is too great given stretched event duration (3.14) and soundscape duration (10.00), changed to 6.86.\n",
      "  ScaperWarning)\n"
     ]
    },
    {
     "name": "stdout",
     "output_type": "stream",
     "text": [
      "Generating soundscape: 34/666\n"
     ]
    },
    {
     "name": "stderr",
     "output_type": "stream",
     "text": [
      "/home/js7561/dev/scaper/scaper/core.py:1199: ScaperWarning: children_playing event time (7.84) is too great given stretched event duration (4.16) and soundscape duration (10.00), changed to 5.84.\n",
      "  ScaperWarning)\n",
      "/home/js7561/dev/scaper/scaper/core.py:1199: ScaperWarning: siren event time (9.50) is too great given stretched event duration (1.61) and soundscape duration (10.00), changed to 8.39.\n",
      "  ScaperWarning)\n",
      "/home/js7561/dev/scaper/scaper/core.py:1199: ScaperWarning: jackhammer event time (8.79) is too great given stretched event duration (3.31) and soundscape duration (10.00), changed to 6.69.\n",
      "  ScaperWarning)\n",
      "/home/js7561/dev/scaper/scaper/core.py:1112: ScaperWarning: gun_shot event duration (3.05) is greater that source duration (1.23), changing to 1.23\n",
      "  ScaperWarning)\n",
      "/home/js7561/dev/scaper/scaper/core.py:1199: ScaperWarning: engine_idling event time (9.23) is too great given stretched event duration (1.80) and soundscape duration (10.00), changed to 8.20.\n",
      "  ScaperWarning)\n"
     ]
    },
    {
     "name": "stdout",
     "output_type": "stream",
     "text": [
      "Generating soundscape: 35/666\n"
     ]
    },
    {
     "name": "stderr",
     "output_type": "stream",
     "text": [
      "/home/js7561/dev/scaper/scaper/core.py:1112: ScaperWarning: gun_shot event duration (2.66) is greater that source duration (0.86), changing to 0.86\n",
      "  ScaperWarning)\n"
     ]
    },
    {
     "name": "stdout",
     "output_type": "stream",
     "text": [
      "Generating soundscape: 36/666\n"
     ]
    },
    {
     "name": "stderr",
     "output_type": "stream",
     "text": [
      "/home/js7561/dev/scaper/scaper/core.py:1112: ScaperWarning: gun_shot event duration (2.48) is greater that source duration (0.79), changing to 0.79\n",
      "  ScaperWarning)\n",
      "/home/js7561/dev/scaper/scaper/core.py:1199: ScaperWarning: street_music event time (5.52) is too great given stretched event duration (4.70) and soundscape duration (10.00), changed to 5.30.\n",
      "  ScaperWarning)\n"
     ]
    },
    {
     "name": "stdout",
     "output_type": "stream",
     "text": [
      "Generating soundscape: 37/666\n"
     ]
    },
    {
     "name": "stderr",
     "output_type": "stream",
     "text": [
      "/home/js7561/dev/scaper/scaper/core.py:1112: ScaperWarning: car_horn event duration (3.92) is greater that source duration (0.86), changing to 0.86\n",
      "  ScaperWarning)\n",
      "/home/js7561/dev/scaper/scaper/core.py:1199: ScaperWarning: siren event time (6.22) is too great given stretched event duration (3.97) and soundscape duration (10.00), changed to 6.03.\n",
      "  ScaperWarning)\n",
      "/home/js7561/dev/scaper/scaper/core.py:1112: ScaperWarning: gun_shot event duration (2.87) is greater that source duration (1.33), changing to 1.33\n",
      "  ScaperWarning)\n",
      "/home/js7561/dev/scaper/scaper/core.py:1199: ScaperWarning: gun_shot event time (8.68) is too great given stretched event duration (1.45) and soundscape duration (10.00), changed to 8.55.\n",
      "  ScaperWarning)\n",
      "/home/js7561/dev/scaper/scaper/core.py:1199: ScaperWarning: children_playing event time (9.15) is too great given stretched event duration (3.42) and soundscape duration (10.00), changed to 6.58.\n",
      "  ScaperWarning)\n",
      "/home/js7561/dev/scaper/scaper/core.py:1112: ScaperWarning: drilling event duration (1.61) is greater that source duration (0.55), changing to 0.55\n",
      "  ScaperWarning)\n"
     ]
    },
    {
     "name": "stdout",
     "output_type": "stream",
     "text": [
      "Generating soundscape: 38/666\n"
     ]
    },
    {
     "name": "stderr",
     "output_type": "stream",
     "text": [
      "/home/js7561/dev/scaper/scaper/core.py:1112: ScaperWarning: jackhammer event duration (3.76) is greater that source duration (3.73), changing to 3.73\n",
      "  ScaperWarning)\n",
      "/home/js7561/dev/scaper/scaper/core.py:1199: ScaperWarning: jackhammer event time (6.03) is too great given stretched event duration (4.38) and soundscape duration (10.00), changed to 5.62.\n",
      "  ScaperWarning)\n"
     ]
    },
    {
     "name": "stdout",
     "output_type": "stream",
     "text": [
      "Generating soundscape: 39/666\n"
     ]
    },
    {
     "name": "stderr",
     "output_type": "stream",
     "text": [
      "/home/js7561/dev/scaper/scaper/core.py:1199: ScaperWarning: air_conditioner event time (8.93) is too great given stretched event duration (1.83) and soundscape duration (10.00), changed to 8.17.\n",
      "  ScaperWarning)\n"
     ]
    },
    {
     "name": "stdout",
     "output_type": "stream",
     "text": [
      "Generating soundscape: 40/666\n"
     ]
    },
    {
     "name": "stderr",
     "output_type": "stream",
     "text": [
      "/home/js7561/dev/scaper/scaper/core.py:1199: ScaperWarning: street_music event time (7.32) is too great given stretched event duration (4.07) and soundscape duration (10.00), changed to 5.93.\n",
      "  ScaperWarning)\n"
     ]
    },
    {
     "name": "stdout",
     "output_type": "stream",
     "text": [
      "Generating soundscape: 41/666\n",
      "Generating soundscape: 42/666\n"
     ]
    },
    {
     "name": "stderr",
     "output_type": "stream",
     "text": [
      "/home/js7561/dev/scaper/scaper/core.py:1199: ScaperWarning: gun_shot event time (8.03) is too great given stretched event duration (2.46) and soundscape duration (10.00), changed to 7.54.\n",
      "  ScaperWarning)\n",
      "/home/js7561/dev/scaper/scaper/core.py:1112: ScaperWarning: gun_shot event duration (3.59) is greater that source duration (1.33), changing to 1.33\n",
      "  ScaperWarning)\n"
     ]
    },
    {
     "name": "stdout",
     "output_type": "stream",
     "text": [
      "Generating soundscape: 43/666\n"
     ]
    },
    {
     "name": "stderr",
     "output_type": "stream",
     "text": [
      "/home/js7561/dev/scaper/scaper/core.py:1112: ScaperWarning: car_horn event duration (2.69) is greater that source duration (0.90), changing to 0.90\n",
      "  ScaperWarning)\n"
     ]
    },
    {
     "name": "stdout",
     "output_type": "stream",
     "text": [
      "Generating soundscape: 44/666\n"
     ]
    },
    {
     "name": "stderr",
     "output_type": "stream",
     "text": [
      "/home/js7561/dev/scaper/scaper/core.py:1112: ScaperWarning: gun_shot event duration (1.75) is greater that source duration (1.25), changing to 1.25\n",
      "  ScaperWarning)\n"
     ]
    },
    {
     "name": "stdout",
     "output_type": "stream",
     "text": [
      "Generating soundscape: 45/666\n"
     ]
    },
    {
     "name": "stderr",
     "output_type": "stream",
     "text": [
      "/home/js7561/dev/scaper/scaper/core.py:1112: ScaperWarning: car_horn event duration (2.20) is greater that source duration (1.46), changing to 1.46\n",
      "  ScaperWarning)\n",
      "/home/js7561/dev/scaper/scaper/core.py:1112: ScaperWarning: car_horn event duration (3.06) is greater that source duration (0.66), changing to 0.66\n",
      "  ScaperWarning)\n",
      "/home/js7561/dev/scaper/scaper/core.py:1199: ScaperWarning: siren event time (8.61) is too great given stretched event duration (1.68) and soundscape duration (10.00), changed to 8.32.\n",
      "  ScaperWarning)\n"
     ]
    },
    {
     "name": "stdout",
     "output_type": "stream",
     "text": [
      "Generating soundscape: 46/666\n",
      "Generating soundscape: 47/666\n"
     ]
    },
    {
     "name": "stderr",
     "output_type": "stream",
     "text": [
      "/home/js7561/dev/scaper/scaper/core.py:1112: ScaperWarning: gun_shot event duration (2.28) is greater that source duration (1.77), changing to 1.77\n",
      "  ScaperWarning)\n",
      "/home/js7561/dev/scaper/scaper/core.py:1199: ScaperWarning: jackhammer event time (6.33) is too great given stretched event duration (4.42) and soundscape duration (10.00), changed to 5.58.\n",
      "  ScaperWarning)\n"
     ]
    },
    {
     "name": "stdout",
     "output_type": "stream",
     "text": [
      "Generating soundscape: 48/666\n"
     ]
    },
    {
     "name": "stderr",
     "output_type": "stream",
     "text": [
      "/home/js7561/dev/scaper/scaper/core.py:1199: ScaperWarning: engine_idling event time (6.88) is too great given stretched event duration (4.16) and soundscape duration (10.00), changed to 5.84.\n",
      "  ScaperWarning)\n",
      "/home/js7561/dev/scaper/scaper/core.py:1112: ScaperWarning: dog_bark event duration (0.71) is greater that source duration (0.59), changing to 0.59\n",
      "  ScaperWarning)\n",
      "/home/js7561/dev/scaper/scaper/core.py:1199: ScaperWarning: drilling event time (6.88) is too great given stretched event duration (3.25) and soundscape duration (10.00), changed to 6.75.\n",
      "  ScaperWarning)\n",
      "/home/js7561/dev/scaper/scaper/core.py:1112: ScaperWarning: car_horn event duration (1.08) is greater that source duration (0.60), changing to 0.60\n",
      "  ScaperWarning)\n",
      "/home/js7561/dev/scaper/scaper/core.py:1199: ScaperWarning: car_horn event time (9.83) is too great given stretched event duration (0.49) and soundscape duration (10.00), changed to 9.51.\n",
      "  ScaperWarning)\n",
      "/home/js7561/dev/scaper/scaper/core.py:1199: ScaperWarning: siren event time (6.40) is too great given stretched event duration (4.09) and soundscape duration (10.00), changed to 5.91.\n",
      "  ScaperWarning)\n"
     ]
    },
    {
     "name": "stdout",
     "output_type": "stream",
     "text": [
      "Generating soundscape: 49/666\n"
     ]
    },
    {
     "name": "stderr",
     "output_type": "stream",
     "text": [
      "/home/js7561/dev/scaper/scaper/core.py:1112: ScaperWarning: gun_shot event duration (1.09) is greater that source duration (0.92), changing to 0.92\n",
      "  ScaperWarning)\n",
      "/home/js7561/dev/scaper/scaper/core.py:1199: ScaperWarning: siren event time (8.60) is too great given stretched event duration (4.69) and soundscape duration (10.00), changed to 5.31.\n",
      "  ScaperWarning)\n"
     ]
    },
    {
     "name": "stdout",
     "output_type": "stream",
     "text": [
      "Generating soundscape: 50/666\n"
     ]
    },
    {
     "name": "stderr",
     "output_type": "stream",
     "text": [
      "/home/js7561/dev/scaper/scaper/core.py:1112: ScaperWarning: car_horn event duration (1.06) is greater that source duration (0.68), changing to 0.68\n",
      "  ScaperWarning)\n",
      "/home/js7561/dev/scaper/scaper/core.py:1199: ScaperWarning: drilling event time (9.84) is too great given stretched event duration (0.60) and soundscape duration (10.00), changed to 9.40.\n",
      "  ScaperWarning)\n",
      "/home/js7561/dev/scaper/scaper/core.py:1112: ScaperWarning: car_horn event duration (2.11) is greater that source duration (1.62), changing to 1.62\n",
      "  ScaperWarning)\n",
      "/home/js7561/dev/scaper/scaper/core.py:1199: ScaperWarning: street_music event time (7.33) is too great given stretched event duration (2.80) and soundscape duration (10.00), changed to 7.20.\n",
      "  ScaperWarning)\n"
     ]
    },
    {
     "name": "stdout",
     "output_type": "stream",
     "text": [
      "Generating soundscape: 51/666\n"
     ]
    },
    {
     "name": "stderr",
     "output_type": "stream",
     "text": [
      "/home/js7561/dev/scaper/scaper/core.py:1112: ScaperWarning: jackhammer event duration (1.05) is greater that source duration (0.84), changing to 0.84\n",
      "  ScaperWarning)\n",
      "/home/js7561/dev/scaper/scaper/core.py:1199: ScaperWarning: dog_bark event time (8.45) is too great given stretched event duration (3.22) and soundscape duration (10.00), changed to 6.78.\n",
      "  ScaperWarning)\n"
     ]
    },
    {
     "name": "stdout",
     "output_type": "stream",
     "text": [
      "Generating soundscape: 52/666\n",
      "Generating soundscape: 53/666\n",
      "Generating soundscape: 54/666\n"
     ]
    },
    {
     "name": "stderr",
     "output_type": "stream",
     "text": [
      "/home/js7561/dev/scaper/scaper/core.py:1199: ScaperWarning: drilling event time (7.52) is too great given stretched event duration (2.91) and soundscape duration (10.00), changed to 7.09.\n",
      "  ScaperWarning)\n",
      "/home/js7561/dev/scaper/scaper/core.py:1112: ScaperWarning: gun_shot event duration (2.47) is greater that source duration (0.92), changing to 0.92\n",
      "  ScaperWarning)\n"
     ]
    },
    {
     "name": "stdout",
     "output_type": "stream",
     "text": [
      "Generating soundscape: 55/666\n"
     ]
    },
    {
     "name": "stderr",
     "output_type": "stream",
     "text": [
      "/home/js7561/dev/scaper/scaper/core.py:1199: ScaperWarning: drilling event time (9.49) is too great given stretched event duration (0.76) and soundscape duration (10.00), changed to 9.24.\n",
      "  ScaperWarning)\n"
     ]
    },
    {
     "name": "stdout",
     "output_type": "stream",
     "text": [
      "Generating soundscape: 56/666\n",
      "Generating soundscape: 57/666\n"
     ]
    },
    {
     "name": "stderr",
     "output_type": "stream",
     "text": [
      "/home/js7561/dev/scaper/scaper/core.py:1199: ScaperWarning: siren event time (8.41) is too great given stretched event duration (3.43) and soundscape duration (10.00), changed to 6.57.\n",
      "  ScaperWarning)\n",
      "/home/js7561/dev/scaper/scaper/core.py:1199: ScaperWarning: drilling event time (7.44) is too great given stretched event duration (3.04) and soundscape duration (10.00), changed to 6.96.\n",
      "  ScaperWarning)\n",
      "/home/js7561/dev/scaper/scaper/core.py:1199: ScaperWarning: street_music event time (8.22) is too great given stretched event duration (3.13) and soundscape duration (10.00), changed to 6.87.\n",
      "  ScaperWarning)\n"
     ]
    },
    {
     "name": "stdout",
     "output_type": "stream",
     "text": [
      "Generating soundscape: 58/666\n",
      "Generating soundscape: 59/666\n"
     ]
    },
    {
     "name": "stderr",
     "output_type": "stream",
     "text": [
      "/home/js7561/dev/scaper/scaper/core.py:1112: ScaperWarning: drilling event duration (1.93) is greater that source duration (1.57), changing to 1.57\n",
      "  ScaperWarning)\n",
      "/home/js7561/dev/scaper/scaper/core.py:1199: ScaperWarning: street_music event time (8.47) is too great given stretched event duration (3.24) and soundscape duration (10.00), changed to 6.76.\n",
      "  ScaperWarning)\n",
      "/home/js7561/dev/scaper/scaper/core.py:1112: ScaperWarning: gun_shot event duration (3.90) is greater that source duration (2.89), changing to 2.89\n",
      "  ScaperWarning)\n"
     ]
    },
    {
     "name": "stdout",
     "output_type": "stream",
     "text": [
      "Generating soundscape: 60/666\n",
      "Generating soundscape: 61/666\n"
     ]
    },
    {
     "name": "stderr",
     "output_type": "stream",
     "text": [
      "/home/js7561/dev/scaper/scaper/core.py:1199: ScaperWarning: jackhammer event time (8.74) is too great given stretched event duration (2.12) and soundscape duration (10.00), changed to 7.88.\n",
      "  ScaperWarning)\n"
     ]
    },
    {
     "name": "stdout",
     "output_type": "stream",
     "text": [
      "Generating soundscape: 62/666\n",
      "Generating soundscape: 63/666\n"
     ]
    },
    {
     "name": "stderr",
     "output_type": "stream",
     "text": [
      "/home/js7561/dev/scaper/scaper/core.py:1112: ScaperWarning: gun_shot event duration (3.13) is greater that source duration (1.92), changing to 1.92\n",
      "  ScaperWarning)\n",
      "/home/js7561/dev/scaper/scaper/core.py:1112: ScaperWarning: car_horn event duration (1.14) is greater that source duration (0.85), changing to 0.85\n",
      "  ScaperWarning)\n"
     ]
    },
    {
     "name": "stdout",
     "output_type": "stream",
     "text": [
      "Generating soundscape: 64/666\n",
      "Generating soundscape: 65/666\n"
     ]
    },
    {
     "name": "stderr",
     "output_type": "stream",
     "text": [
      "/home/js7561/dev/scaper/scaper/core.py:1112: ScaperWarning: dog_bark event duration (3.83) is greater that source duration (1.00), changing to 1.00\n",
      "  ScaperWarning)\n"
     ]
    },
    {
     "name": "stdout",
     "output_type": "stream",
     "text": [
      "Generating soundscape: 66/666\n"
     ]
    },
    {
     "name": "stderr",
     "output_type": "stream",
     "text": [
      "/home/js7561/dev/scaper/scaper/core.py:1112: ScaperWarning: car_horn event duration (3.08) is greater that source duration (0.48), changing to 0.48\n",
      "  ScaperWarning)\n",
      "/home/js7561/dev/scaper/scaper/core.py:1199: ScaperWarning: car_horn event time (8.75) is too great given stretched event duration (1.84) and soundscape duration (10.00), changed to 8.16.\n",
      "  ScaperWarning)\n"
     ]
    },
    {
     "name": "stdout",
     "output_type": "stream",
     "text": [
      "Generating soundscape: 67/666\n"
     ]
    },
    {
     "name": "stderr",
     "output_type": "stream",
     "text": [
      "/home/js7561/dev/scaper/scaper/core.py:1112: ScaperWarning: gun_shot event duration (3.92) is greater that source duration (1.25), changing to 1.25\n",
      "  ScaperWarning)\n",
      "/home/js7561/dev/scaper/scaper/core.py:1112: ScaperWarning: car_horn event duration (2.89) is greater that source duration (0.65), changing to 0.65\n",
      "  ScaperWarning)\n"
     ]
    },
    {
     "name": "stdout",
     "output_type": "stream",
     "text": [
      "Generating soundscape: 68/666\n"
     ]
    },
    {
     "name": "stderr",
     "output_type": "stream",
     "text": [
      "/home/js7561/dev/scaper/scaper/core.py:1112: ScaperWarning: gun_shot event duration (2.94) is greater that source duration (1.97), changing to 1.97\n",
      "  ScaperWarning)\n",
      "/home/js7561/dev/scaper/scaper/core.py:1199: ScaperWarning: jackhammer event time (8.00) is too great given stretched event duration (3.55) and soundscape duration (10.00), changed to 6.45.\n",
      "  ScaperWarning)\n",
      "/home/js7561/dev/scaper/scaper/core.py:1112: ScaperWarning: gun_shot event duration (2.90) is greater that source duration (2.36), changing to 2.36\n",
      "  ScaperWarning)\n",
      "/home/js7561/dev/scaper/scaper/core.py:1199: ScaperWarning: gun_shot event time (7.96) is too great given stretched event duration (2.81) and soundscape duration (10.00), changed to 7.19.\n",
      "  ScaperWarning)\n",
      "/home/js7561/dev/scaper/scaper/core.py:1112: ScaperWarning: gun_shot event duration (1.43) is greater that source duration (0.98), changing to 0.98\n",
      "  ScaperWarning)\n"
     ]
    },
    {
     "name": "stdout",
     "output_type": "stream",
     "text": [
      "Generating soundscape: 69/666\n"
     ]
    },
    {
     "name": "stderr",
     "output_type": "stream",
     "text": [
      "/home/js7561/dev/scaper/scaper/core.py:1199: ScaperWarning: engine_idling event time (7.61) is too great given stretched event duration (3.18) and soundscape duration (10.00), changed to 6.82.\n",
      "  ScaperWarning)\n"
     ]
    },
    {
     "name": "stdout",
     "output_type": "stream",
     "text": [
      "Generating soundscape: 70/666\n"
     ]
    },
    {
     "name": "stderr",
     "output_type": "stream",
     "text": [
      "/home/js7561/dev/scaper/scaper/core.py:1199: ScaperWarning: engine_idling event time (7.80) is too great given stretched event duration (2.90) and soundscape duration (10.00), changed to 7.10.\n",
      "  ScaperWarning)\n",
      "/home/js7561/dev/scaper/scaper/core.py:1199: ScaperWarning: children_playing event time (7.83) is too great given stretched event duration (2.99) and soundscape duration (10.00), changed to 7.01.\n",
      "  ScaperWarning)\n",
      "/home/js7561/dev/scaper/scaper/core.py:1112: ScaperWarning: dog_bark event duration (1.51) is greater that source duration (0.72), changing to 0.72\n",
      "  ScaperWarning)\n"
     ]
    },
    {
     "name": "stdout",
     "output_type": "stream",
     "text": [
      "Generating soundscape: 71/666\n",
      "Generating soundscape: 72/666\n"
     ]
    },
    {
     "name": "stderr",
     "output_type": "stream",
     "text": [
      "/home/js7561/dev/scaper/scaper/core.py:1199: ScaperWarning: children_playing event time (7.57) is too great given stretched event duration (4.30) and soundscape duration (10.00), changed to 5.70.\n",
      "  ScaperWarning)\n"
     ]
    },
    {
     "name": "stdout",
     "output_type": "stream",
     "text": [
      "Generating soundscape: 73/666\n"
     ]
    },
    {
     "name": "stderr",
     "output_type": "stream",
     "text": [
      "/home/js7561/dev/scaper/scaper/core.py:1199: ScaperWarning: street_music event time (9.72) is too great given stretched event duration (1.29) and soundscape duration (10.00), changed to 8.71.\n",
      "  ScaperWarning)\n"
     ]
    },
    {
     "name": "stdout",
     "output_type": "stream",
     "text": [
      "Generating soundscape: 74/666\n"
     ]
    },
    {
     "name": "stderr",
     "output_type": "stream",
     "text": [
      "/home/js7561/dev/scaper/scaper/core.py:1112: ScaperWarning: dog_bark event duration (1.52) is greater that source duration (1.19), changing to 1.19\n",
      "  ScaperWarning)\n",
      "/home/js7561/dev/scaper/scaper/core.py:1112: ScaperWarning: car_horn event duration (0.99) is greater that source duration (0.48), changing to 0.48\n",
      "  ScaperWarning)\n"
     ]
    },
    {
     "name": "stdout",
     "output_type": "stream",
     "text": [
      "Generating soundscape: 75/666\n"
     ]
    },
    {
     "name": "stderr",
     "output_type": "stream",
     "text": [
      "/home/js7561/dev/scaper/scaper/core.py:1112: ScaperWarning: car_horn event duration (0.61) is greater that source duration (0.36), changing to 0.36\n",
      "  ScaperWarning)\n"
     ]
    },
    {
     "name": "stdout",
     "output_type": "stream",
     "text": [
      "Generating soundscape: 76/666\n",
      "Generating soundscape: 77/666\n"
     ]
    },
    {
     "name": "stderr",
     "output_type": "stream",
     "text": [
      "/home/js7561/dev/scaper/scaper/core.py:1199: ScaperWarning: children_playing event time (9.35) is too great given stretched event duration (1.31) and soundscape duration (10.00), changed to 8.69.\n",
      "  ScaperWarning)\n",
      "/home/js7561/dev/scaper/scaper/core.py:1112: ScaperWarning: dog_bark event duration (2.79) is greater that source duration (1.91), changing to 1.91\n",
      "  ScaperWarning)\n",
      "/home/js7561/dev/scaper/scaper/core.py:1112: ScaperWarning: car_horn event duration (1.52) is greater that source duration (0.39), changing to 0.39\n",
      "  ScaperWarning)\n"
     ]
    },
    {
     "name": "stdout",
     "output_type": "stream",
     "text": [
      "Generating soundscape: 78/666\n",
      "Generating soundscape: 79/666\n",
      "Generating soundscape: 80/666\n"
     ]
    },
    {
     "name": "stderr",
     "output_type": "stream",
     "text": [
      "/home/js7561/dev/scaper/scaper/core.py:1112: ScaperWarning: gun_shot event duration (3.63) is greater that source duration (1.25), changing to 1.25\n",
      "  ScaperWarning)\n",
      "/home/js7561/dev/scaper/scaper/core.py:1112: ScaperWarning: car_horn event duration (3.01) is greater that source duration (0.66), changing to 0.66\n",
      "  ScaperWarning)\n",
      "/home/js7561/dev/scaper/scaper/core.py:1199: ScaperWarning: engine_idling event time (9.79) is too great given stretched event duration (2.33) and soundscape duration (10.00), changed to 7.67.\n",
      "  ScaperWarning)\n"
     ]
    },
    {
     "name": "stdout",
     "output_type": "stream",
     "text": [
      "Generating soundscape: 81/666\n"
     ]
    },
    {
     "name": "stderr",
     "output_type": "stream",
     "text": [
      "/home/js7561/dev/scaper/scaper/core.py:1199: ScaperWarning: drilling event time (9.44) is too great given stretched event duration (2.20) and soundscape duration (10.00), changed to 7.80.\n",
      "  ScaperWarning)\n",
      "/home/js7561/dev/scaper/scaper/core.py:1112: ScaperWarning: gun_shot event duration (3.95) is greater that source duration (2.59), changing to 2.59\n",
      "  ScaperWarning)\n",
      "/home/js7561/dev/scaper/scaper/core.py:1112: ScaperWarning: drilling event duration (1.18) is greater that source duration (1.10), changing to 1.10\n",
      "  ScaperWarning)\n"
     ]
    },
    {
     "name": "stdout",
     "output_type": "stream",
     "text": [
      "Generating soundscape: 82/666\n",
      "Generating soundscape: 83/666\n"
     ]
    },
    {
     "name": "stderr",
     "output_type": "stream",
     "text": [
      "/home/js7561/dev/scaper/scaper/core.py:1112: ScaperWarning: gun_shot event duration (1.06) is greater that source duration (0.50), changing to 0.50\n",
      "  ScaperWarning)\n"
     ]
    },
    {
     "name": "stdout",
     "output_type": "stream",
     "text": [
      "Generating soundscape: 84/666\n",
      "Generating soundscape: 85/666\n",
      "Generating soundscape: 86/666\n"
     ]
    },
    {
     "name": "stderr",
     "output_type": "stream",
     "text": [
      "/home/js7561/dev/scaper/scaper/core.py:1199: ScaperWarning: siren event time (7.93) is too great given stretched event duration (2.62) and soundscape duration (10.00), changed to 7.38.\n",
      "  ScaperWarning)\n",
      "/home/js7561/dev/scaper/scaper/core.py:1199: ScaperWarning: jackhammer event time (8.83) is too great given stretched event duration (2.68) and soundscape duration (10.00), changed to 7.32.\n",
      "  ScaperWarning)\n"
     ]
    },
    {
     "name": "stdout",
     "output_type": "stream",
     "text": [
      "Generating soundscape: 87/666\n"
     ]
    },
    {
     "name": "stderr",
     "output_type": "stream",
     "text": [
      "/home/js7561/dev/scaper/scaper/core.py:1112: ScaperWarning: dog_bark event duration (1.55) is greater that source duration (0.55), changing to 0.55\n",
      "  ScaperWarning)\n",
      "/home/js7561/dev/scaper/scaper/core.py:1112: ScaperWarning: drilling event duration (1.48) is greater that source duration (0.58), changing to 0.58\n",
      "  ScaperWarning)\n",
      "/home/js7561/dev/scaper/scaper/core.py:1199: ScaperWarning: siren event time (7.44) is too great given stretched event duration (3.40) and soundscape duration (10.00), changed to 6.60.\n",
      "  ScaperWarning)\n",
      "/home/js7561/dev/scaper/scaper/core.py:1199: ScaperWarning: jackhammer event time (7.61) is too great given stretched event duration (2.62) and soundscape duration (10.00), changed to 7.38.\n",
      "  ScaperWarning)\n"
     ]
    },
    {
     "name": "stdout",
     "output_type": "stream",
     "text": [
      "Generating soundscape: 88/666\n"
     ]
    },
    {
     "name": "stderr",
     "output_type": "stream",
     "text": [
      "/home/js7561/dev/scaper/scaper/core.py:1112: ScaperWarning: car_horn event duration (0.98) is greater that source duration (0.90), changing to 0.90\n",
      "  ScaperWarning)\n",
      "/home/js7561/dev/scaper/scaper/core.py:1199: ScaperWarning: engine_idling event time (8.70) is too great given stretched event duration (3.38) and soundscape duration (10.00), changed to 6.62.\n",
      "  ScaperWarning)\n"
     ]
    },
    {
     "name": "stdout",
     "output_type": "stream",
     "text": [
      "Generating soundscape: 89/666\n",
      "Generating soundscape: 90/666\n"
     ]
    },
    {
     "name": "stderr",
     "output_type": "stream",
     "text": [
      "/home/js7561/dev/scaper/scaper/core.py:1112: ScaperWarning: gun_shot event duration (2.01) is greater that source duration (1.25), changing to 1.25\n",
      "  ScaperWarning)\n"
     ]
    },
    {
     "name": "stdout",
     "output_type": "stream",
     "text": [
      "Generating soundscape: 91/666\n"
     ]
    },
    {
     "name": "stderr",
     "output_type": "stream",
     "text": [
      "/home/js7561/dev/scaper/scaper/core.py:1112: ScaperWarning: car_horn event duration (1.26) is greater that source duration (0.47), changing to 0.47\n",
      "  ScaperWarning)\n",
      "/home/js7561/dev/scaper/scaper/core.py:1112: ScaperWarning: dog_bark event duration (2.58) is greater that source duration (1.26), changing to 1.26\n",
      "  ScaperWarning)\n"
     ]
    },
    {
     "name": "stdout",
     "output_type": "stream",
     "text": [
      "Generating soundscape: 92/666\n"
     ]
    },
    {
     "name": "stderr",
     "output_type": "stream",
     "text": [
      "/home/js7561/dev/scaper/scaper/core.py:1112: ScaperWarning: dog_bark event duration (1.88) is greater that source duration (0.72), changing to 0.72\n",
      "  ScaperWarning)\n"
     ]
    },
    {
     "name": "stdout",
     "output_type": "stream",
     "text": [
      "Generating soundscape: 93/666\n"
     ]
    },
    {
     "name": "stderr",
     "output_type": "stream",
     "text": [
      "/home/js7561/dev/scaper/scaper/core.py:1199: ScaperWarning: siren event time (8.33) is too great given stretched event duration (2.87) and soundscape duration (10.00), changed to 7.13.\n",
      "  ScaperWarning)\n"
     ]
    },
    {
     "name": "stdout",
     "output_type": "stream",
     "text": [
      "Generating soundscape: 94/666\n"
     ]
    },
    {
     "name": "stderr",
     "output_type": "stream",
     "text": [
      "/home/js7561/dev/scaper/scaper/core.py:1199: ScaperWarning: engine_idling event time (8.76) is too great given stretched event duration (1.62) and soundscape duration (10.00), changed to 8.38.\n",
      "  ScaperWarning)\n"
     ]
    },
    {
     "name": "stdout",
     "output_type": "stream",
     "text": [
      "Generating soundscape: 95/666\n"
     ]
    },
    {
     "name": "stderr",
     "output_type": "stream",
     "text": [
      "/home/js7561/dev/scaper/scaper/core.py:1112: ScaperWarning: gun_shot event duration (1.87) is greater that source duration (1.68), changing to 1.68\n",
      "  ScaperWarning)\n"
     ]
    },
    {
     "name": "stdout",
     "output_type": "stream",
     "text": [
      "Generating soundscape: 96/666\n"
     ]
    },
    {
     "name": "stderr",
     "output_type": "stream",
     "text": [
      "/home/js7561/dev/scaper/scaper/core.py:1112: ScaperWarning: dog_bark event duration (1.04) is greater that source duration (0.94), changing to 0.94\n",
      "  ScaperWarning)\n",
      "/home/js7561/dev/scaper/scaper/core.py:1199: ScaperWarning: siren event time (9.92) is too great given stretched event duration (1.14) and soundscape duration (10.00), changed to 8.86.\n",
      "  ScaperWarning)\n",
      "/home/js7561/dev/scaper/scaper/core.py:1112: ScaperWarning: gun_shot event duration (1.95) is greater that source duration (0.86), changing to 0.86\n",
      "  ScaperWarning)\n"
     ]
    },
    {
     "name": "stdout",
     "output_type": "stream",
     "text": [
      "Generating soundscape: 97/666\n"
     ]
    },
    {
     "name": "stderr",
     "output_type": "stream",
     "text": [
      "/home/js7561/dev/scaper/scaper/core.py:1199: ScaperWarning: air_conditioner event time (7.55) is too great given stretched event duration (2.87) and soundscape duration (10.00), changed to 7.13.\n",
      "  ScaperWarning)\n",
      "/home/js7561/dev/scaper/scaper/core.py:1112: ScaperWarning: gun_shot event duration (3.26) is greater that source duration (2.59), changing to 2.59\n",
      "  ScaperWarning)\n",
      "/home/js7561/dev/scaper/scaper/core.py:1199: ScaperWarning: gun_shot event time (8.54) is too great given stretched event duration (2.51) and soundscape duration (10.00), changed to 7.49.\n",
      "  ScaperWarning)\n",
      "/home/js7561/dev/scaper/scaper/core.py:1112: ScaperWarning: car_horn event duration (3.80) is greater that source duration (1.32), changing to 1.32\n",
      "  ScaperWarning)\n",
      "/home/js7561/dev/scaper/scaper/core.py:1199: ScaperWarning: car_horn event time (8.98) is too great given stretched event duration (1.41) and soundscape duration (10.00), changed to 8.59.\n",
      "  ScaperWarning)\n"
     ]
    },
    {
     "name": "stdout",
     "output_type": "stream",
     "text": [
      "Generating soundscape: 98/666\n"
     ]
    },
    {
     "name": "stderr",
     "output_type": "stream",
     "text": [
      "/home/js7561/dev/scaper/scaper/core.py:1112: ScaperWarning: car_horn event duration (2.73) is greater that source duration (2.36), changing to 2.36\n",
      "  ScaperWarning)\n"
     ]
    },
    {
     "name": "stdout",
     "output_type": "stream",
     "text": [
      "Generating soundscape: 99/666\n"
     ]
    },
    {
     "name": "stderr",
     "output_type": "stream",
     "text": [
      "/home/js7561/dev/scaper/scaper/core.py:1112: ScaperWarning: gun_shot event duration (3.12) is greater that source duration (1.15), changing to 1.15\n",
      "  ScaperWarning)\n",
      "/home/js7561/dev/scaper/scaper/core.py:1112: ScaperWarning: dog_bark event duration (2.61) is greater that source duration (0.78), changing to 0.78\n",
      "  ScaperWarning)\n",
      "/home/js7561/dev/scaper/scaper/core.py:1199: ScaperWarning: car_horn event time (8.62) is too great given stretched event duration (1.66) and soundscape duration (10.00), changed to 8.34.\n",
      "  ScaperWarning)\n"
     ]
    },
    {
     "name": "stdout",
     "output_type": "stream",
     "text": [
      "Generating soundscape: 100/666\n"
     ]
    },
    {
     "name": "stderr",
     "output_type": "stream",
     "text": [
      "/home/js7561/dev/scaper/scaper/core.py:1199: ScaperWarning: car_horn event time (9.05) is too great given stretched event duration (1.29) and soundscape duration (10.00), changed to 8.71.\n",
      "  ScaperWarning)\n"
     ]
    },
    {
     "name": "stdout",
     "output_type": "stream",
     "text": [
      "Generating soundscape: 101/666\n"
     ]
    },
    {
     "name": "stderr",
     "output_type": "stream",
     "text": [
      "/home/js7561/dev/scaper/scaper/core.py:1112: ScaperWarning: car_horn event duration (1.51) is greater that source duration (0.17), changing to 0.17\n",
      "  ScaperWarning)\n",
      "/home/js7561/dev/scaper/scaper/core.py:1112: ScaperWarning: jackhammer event duration (3.48) is greater that source duration (1.80), changing to 1.80\n",
      "  ScaperWarning)\n",
      "/home/js7561/dev/scaper/scaper/core.py:1112: ScaperWarning: car_horn event duration (3.31) is greater that source duration (1.86), changing to 1.86\n",
      "  ScaperWarning)\n"
     ]
    },
    {
     "name": "stdout",
     "output_type": "stream",
     "text": [
      "Generating soundscape: 102/666\n"
     ]
    },
    {
     "name": "stderr",
     "output_type": "stream",
     "text": [
      "/home/js7561/dev/scaper/scaper/core.py:1112: ScaperWarning: gun_shot event duration (2.90) is greater that source duration (0.86), changing to 0.86\n",
      "  ScaperWarning)\n"
     ]
    },
    {
     "name": "stdout",
     "output_type": "stream",
     "text": [
      "Generating soundscape: 103/666\n"
     ]
    },
    {
     "name": "stderr",
     "output_type": "stream",
     "text": [
      "/home/js7561/dev/scaper/scaper/core.py:1112: ScaperWarning: drilling event duration (1.39) is greater that source duration (0.78), changing to 0.78\n",
      "  ScaperWarning)\n",
      "/home/js7561/dev/scaper/scaper/core.py:1199: ScaperWarning: street_music event time (9.52) is too great given stretched event duration (3.27) and soundscape duration (10.00), changed to 6.73.\n",
      "  ScaperWarning)\n",
      "/home/js7561/dev/scaper/scaper/core.py:1112: ScaperWarning: gun_shot event duration (3.73) is greater that source duration (0.90), changing to 0.90\n",
      "  ScaperWarning)\n"
     ]
    },
    {
     "name": "stdout",
     "output_type": "stream",
     "text": [
      "Generating soundscape: 104/666\n"
     ]
    },
    {
     "name": "stderr",
     "output_type": "stream",
     "text": [
      "/home/js7561/dev/scaper/scaper/core.py:1199: ScaperWarning: jackhammer event time (7.23) is too great given stretched event duration (3.19) and soundscape duration (10.00), changed to 6.81.\n",
      "  ScaperWarning)\n"
     ]
    },
    {
     "name": "stdout",
     "output_type": "stream",
     "text": [
      "Generating soundscape: 105/666\n"
     ]
    },
    {
     "name": "stderr",
     "output_type": "stream",
     "text": [
      "/home/js7561/dev/scaper/scaper/core.py:1199: ScaperWarning: jackhammer event time (7.88) is too great given stretched event duration (3.17) and soundscape duration (10.00), changed to 6.83.\n",
      "  ScaperWarning)\n"
     ]
    },
    {
     "name": "stdout",
     "output_type": "stream",
     "text": [
      "Generating soundscape: 106/666\n"
     ]
    },
    {
     "name": "stderr",
     "output_type": "stream",
     "text": [
      "/home/js7561/dev/scaper/scaper/core.py:1112: ScaperWarning: dog_bark event duration (2.88) is greater that source duration (1.29), changing to 1.29\n",
      "  ScaperWarning)\n",
      "/home/js7561/dev/scaper/scaper/core.py:1112: ScaperWarning: gun_shot event duration (3.88) is greater that source duration (1.02), changing to 1.02\n",
      "  ScaperWarning)\n"
     ]
    },
    {
     "name": "stdout",
     "output_type": "stream",
     "text": [
      "Generating soundscape: 107/666\n",
      "Generating soundscape: 108/666\n"
     ]
    },
    {
     "name": "stderr",
     "output_type": "stream",
     "text": [
      "/home/js7561/dev/scaper/scaper/core.py:1199: ScaperWarning: air_conditioner event time (7.26) is too great given stretched event duration (4.23) and soundscape duration (10.00), changed to 5.77.\n",
      "  ScaperWarning)\n"
     ]
    },
    {
     "name": "stdout",
     "output_type": "stream",
     "text": [
      "Generating soundscape: 109/666\n"
     ]
    },
    {
     "name": "stderr",
     "output_type": "stream",
     "text": [
      "/home/js7561/dev/scaper/scaper/core.py:1112: ScaperWarning: jackhammer event duration (3.40) is greater that source duration (2.65), changing to 2.65\n",
      "  ScaperWarning)\n"
     ]
    },
    {
     "name": "stdout",
     "output_type": "stream",
     "text": [
      "Generating soundscape: 110/666\n"
     ]
    },
    {
     "name": "stderr",
     "output_type": "stream",
     "text": [
      "/home/js7561/dev/scaper/scaper/core.py:1199: ScaperWarning: air_conditioner event time (8.02) is too great given stretched event duration (3.96) and soundscape duration (10.00), changed to 6.04.\n",
      "  ScaperWarning)\n",
      "/home/js7561/dev/scaper/scaper/core.py:1199: ScaperWarning: dog_bark event time (9.01) is too great given stretched event duration (1.49) and soundscape duration (10.00), changed to 8.51.\n",
      "  ScaperWarning)\n",
      "/home/js7561/dev/scaper/scaper/core.py:1112: ScaperWarning: gun_shot event duration (2.17) is greater that source duration (2.08), changing to 2.08\n",
      "  ScaperWarning)\n",
      "/home/js7561/dev/scaper/scaper/core.py:1199: ScaperWarning: gun_shot event time (7.96) is too great given stretched event duration (2.19) and soundscape duration (10.00), changed to 7.81.\n",
      "  ScaperWarning)\n",
      "/home/js7561/dev/scaper/scaper/core.py:1112: ScaperWarning: dog_bark event duration (2.03) is greater that source duration (0.65), changing to 0.65\n",
      "  ScaperWarning)\n"
     ]
    },
    {
     "name": "stdout",
     "output_type": "stream",
     "text": [
      "Generating soundscape: 111/666\n"
     ]
    },
    {
     "name": "stderr",
     "output_type": "stream",
     "text": [
      "/home/js7561/dev/scaper/scaper/core.py:1199: ScaperWarning: drilling event time (7.74) is too great given stretched event duration (2.27) and soundscape duration (10.00), changed to 7.73.\n",
      "  ScaperWarning)\n",
      "/home/js7561/dev/scaper/scaper/core.py:1199: ScaperWarning: drilling event time (9.46) is too great given stretched event duration (3.44) and soundscape duration (10.00), changed to 6.56.\n",
      "  ScaperWarning)\n",
      "/home/js7561/dev/scaper/scaper/core.py:1199: ScaperWarning: car_horn event time (8.69) is too great given stretched event duration (4.43) and soundscape duration (10.00), changed to 5.57.\n",
      "  ScaperWarning)\n"
     ]
    },
    {
     "name": "stdout",
     "output_type": "stream",
     "text": [
      "Generating soundscape: 112/666\n"
     ]
    },
    {
     "name": "stderr",
     "output_type": "stream",
     "text": [
      "/home/js7561/dev/scaper/scaper/core.py:1112: ScaperWarning: gun_shot event duration (2.56) is greater that source duration (0.90), changing to 0.90\n",
      "  ScaperWarning)\n",
      "/home/js7561/dev/scaper/scaper/core.py:1112: ScaperWarning: car_horn event duration (1.87) is greater that source duration (0.25), changing to 0.25\n",
      "  ScaperWarning)\n",
      "/home/js7561/dev/scaper/scaper/core.py:1199: ScaperWarning: car_horn event time (7.79) is too great given stretched event duration (2.67) and soundscape duration (10.00), changed to 7.33.\n",
      "  ScaperWarning)\n",
      "/home/js7561/dev/scaper/scaper/core.py:1199: ScaperWarning: siren event time (8.77) is too great given stretched event duration (3.22) and soundscape duration (10.00), changed to 6.78.\n",
      "  ScaperWarning)\n"
     ]
    },
    {
     "name": "stdout",
     "output_type": "stream",
     "text": [
      "Generating soundscape: 113/666\n"
     ]
    },
    {
     "name": "stderr",
     "output_type": "stream",
     "text": [
      "/home/js7561/dev/scaper/scaper/core.py:1112: ScaperWarning: car_horn event duration (3.26) is greater that source duration (0.36), changing to 0.36\n",
      "  ScaperWarning)\n"
     ]
    },
    {
     "name": "stdout",
     "output_type": "stream",
     "text": [
      "Generating soundscape: 114/666\n",
      "Generating soundscape: 115/666\n"
     ]
    },
    {
     "name": "stderr",
     "output_type": "stream",
     "text": [
      "/home/js7561/dev/scaper/scaper/core.py:1199: ScaperWarning: car_horn event time (8.98) is too great given stretched event duration (3.40) and soundscape duration (10.00), changed to 6.60.\n",
      "  ScaperWarning)\n"
     ]
    },
    {
     "name": "stdout",
     "output_type": "stream",
     "text": [
      "Generating soundscape: 116/666\n"
     ]
    },
    {
     "name": "stderr",
     "output_type": "stream",
     "text": [
      "/home/js7561/dev/scaper/scaper/core.py:1199: ScaperWarning: engine_idling event time (7.99) is too great given stretched event duration (3.43) and soundscape duration (10.00), changed to 6.57.\n",
      "  ScaperWarning)\n",
      "/home/js7561/dev/scaper/scaper/core.py:1112: ScaperWarning: gun_shot event duration (2.36) is greater that source duration (1.15), changing to 1.15\n",
      "  ScaperWarning)\n"
     ]
    },
    {
     "name": "stdout",
     "output_type": "stream",
     "text": [
      "Generating soundscape: 117/666\n"
     ]
    },
    {
     "name": "stderr",
     "output_type": "stream",
     "text": [
      "/home/js7561/dev/scaper/scaper/core.py:1112: ScaperWarning: car_horn event duration (2.09) is greater that source duration (0.28), changing to 0.28\n",
      "  ScaperWarning)\n",
      "/home/js7561/dev/scaper/scaper/core.py:1112: ScaperWarning: gun_shot event duration (2.86) is greater that source duration (2.35), changing to 2.35\n",
      "  ScaperWarning)\n",
      "/home/js7561/dev/scaper/scaper/core.py:1199: ScaperWarning: children_playing event time (8.55) is too great given stretched event duration (2.89) and soundscape duration (10.00), changed to 7.11.\n",
      "  ScaperWarning)\n"
     ]
    },
    {
     "name": "stdout",
     "output_type": "stream",
     "text": [
      "Generating soundscape: 118/666\n"
     ]
    },
    {
     "name": "stderr",
     "output_type": "stream",
     "text": [
      "/home/js7561/dev/scaper/scaper/core.py:1199: ScaperWarning: jackhammer event time (8.82) is too great given stretched event duration (1.29) and soundscape duration (10.00), changed to 8.71.\n",
      "  ScaperWarning)\n"
     ]
    },
    {
     "name": "stdout",
     "output_type": "stream",
     "text": [
      "Generating soundscape: 119/666\n",
      "Generating soundscape: 120/666\n"
     ]
    },
    {
     "name": "stderr",
     "output_type": "stream",
     "text": [
      "/home/js7561/dev/scaper/scaper/core.py:1199: ScaperWarning: street_music event time (6.09) is too great given stretched event duration (4.32) and soundscape duration (10.00), changed to 5.68.\n",
      "  ScaperWarning)\n",
      "/home/js7561/dev/scaper/scaper/core.py:1199: ScaperWarning: children_playing event time (8.99) is too great given stretched event duration (2.39) and soundscape duration (10.00), changed to 7.61.\n",
      "  ScaperWarning)\n"
     ]
    },
    {
     "name": "stdout",
     "output_type": "stream",
     "text": [
      "Generating soundscape: 121/666\n"
     ]
    },
    {
     "name": "stderr",
     "output_type": "stream",
     "text": [
      "/home/js7561/dev/scaper/scaper/core.py:1199: ScaperWarning: dog_bark event time (6.79) is too great given stretched event duration (3.32) and soundscape duration (10.00), changed to 6.68.\n",
      "  ScaperWarning)\n"
     ]
    },
    {
     "name": "stdout",
     "output_type": "stream",
     "text": [
      "Generating soundscape: 122/666\n",
      "Generating soundscape: 123/666\n",
      "Generating soundscape: 124/666\n",
      "Generating soundscape: 125/666\n"
     ]
    },
    {
     "name": "stderr",
     "output_type": "stream",
     "text": [
      "/home/js7561/dev/scaper/scaper/core.py:1112: ScaperWarning: dog_bark event duration (1.95) is greater that source duration (0.58), changing to 0.58\n",
      "  ScaperWarning)\n"
     ]
    },
    {
     "name": "stdout",
     "output_type": "stream",
     "text": [
      "Generating soundscape: 126/666\n",
      "Generating soundscape: 127/666\n"
     ]
    },
    {
     "name": "stderr",
     "output_type": "stream",
     "text": [
      "/home/js7561/dev/scaper/scaper/core.py:1199: ScaperWarning: children_playing event time (7.74) is too great given stretched event duration (2.91) and soundscape duration (10.00), changed to 7.09.\n",
      "  ScaperWarning)\n",
      "/home/js7561/dev/scaper/scaper/core.py:1112: ScaperWarning: gun_shot event duration (3.90) is greater that source duration (3.35), changing to 3.35\n",
      "  ScaperWarning)\n",
      "/home/js7561/dev/scaper/scaper/core.py:1112: ScaperWarning: drilling event duration (2.94) is greater that source duration (1.02), changing to 1.02\n",
      "  ScaperWarning)\n"
     ]
    },
    {
     "name": "stdout",
     "output_type": "stream",
     "text": [
      "Generating soundscape: 128/666\n"
     ]
    },
    {
     "name": "stderr",
     "output_type": "stream",
     "text": [
      "/home/js7561/dev/scaper/scaper/core.py:1199: ScaperWarning: children_playing event time (8.74) is too great given stretched event duration (2.19) and soundscape duration (10.00), changed to 7.81.\n",
      "  ScaperWarning)\n",
      "/home/js7561/dev/scaper/scaper/core.py:1112: ScaperWarning: car_horn event duration (3.71) is greater that source duration (0.65), changing to 0.65\n",
      "  ScaperWarning)\n",
      "/home/js7561/dev/scaper/scaper/core.py:1199: ScaperWarning: children_playing event time (6.35) is too great given stretched event duration (3.99) and soundscape duration (10.00), changed to 6.01.\n",
      "  ScaperWarning)\n"
     ]
    },
    {
     "name": "stdout",
     "output_type": "stream",
     "text": [
      "Generating soundscape: 129/666\n"
     ]
    },
    {
     "name": "stderr",
     "output_type": "stream",
     "text": [
      "/home/js7561/dev/scaper/scaper/core.py:1199: ScaperWarning: street_music event time (8.69) is too great given stretched event duration (3.07) and soundscape duration (10.00), changed to 6.93.\n",
      "  ScaperWarning)\n",
      "/home/js7561/dev/scaper/scaper/core.py:1199: ScaperWarning: siren event time (7.39) is too great given stretched event duration (3.22) and soundscape duration (10.00), changed to 6.78.\n",
      "  ScaperWarning)\n",
      "/home/js7561/dev/scaper/scaper/core.py:1199: ScaperWarning: siren event time (8.79) is too great given stretched event duration (2.24) and soundscape duration (10.00), changed to 7.76.\n",
      "  ScaperWarning)\n"
     ]
    },
    {
     "name": "stdout",
     "output_type": "stream",
     "text": [
      "Generating soundscape: 130/666\n"
     ]
    },
    {
     "name": "stderr",
     "output_type": "stream",
     "text": [
      "/home/js7561/dev/scaper/scaper/core.py:1112: ScaperWarning: dog_bark event duration (1.58) is greater that source duration (1.09), changing to 1.09\n",
      "  ScaperWarning)\n",
      "/home/js7561/dev/scaper/scaper/core.py:1199: ScaperWarning: car_horn event time (9.38) is too great given stretched event duration (1.51) and soundscape duration (10.00), changed to 8.49.\n",
      "  ScaperWarning)\n"
     ]
    },
    {
     "name": "stdout",
     "output_type": "stream",
     "text": [
      "Generating soundscape: 131/666\n"
     ]
    },
    {
     "name": "stderr",
     "output_type": "stream",
     "text": [
      "/home/js7561/dev/scaper/scaper/core.py:1112: ScaperWarning: gun_shot event duration (3.27) is greater that source duration (2.53), changing to 2.53\n",
      "  ScaperWarning)\n"
     ]
    },
    {
     "name": "stdout",
     "output_type": "stream",
     "text": [
      "Generating soundscape: 132/666\n"
     ]
    },
    {
     "name": "stderr",
     "output_type": "stream",
     "text": [
      "/home/js7561/dev/scaper/scaper/core.py:1199: ScaperWarning: dog_bark event time (8.04) is too great given stretched event duration (2.32) and soundscape duration (10.00), changed to 7.68.\n",
      "  ScaperWarning)\n"
     ]
    },
    {
     "name": "stdout",
     "output_type": "stream",
     "text": [
      "Generating soundscape: 133/666\n"
     ]
    },
    {
     "name": "stderr",
     "output_type": "stream",
     "text": [
      "/home/js7561/dev/scaper/scaper/core.py:1112: ScaperWarning: gun_shot event duration (1.99) is greater that source duration (1.15), changing to 1.15\n",
      "  ScaperWarning)\n",
      "/home/js7561/dev/scaper/scaper/core.py:1112: ScaperWarning: dog_bark event duration (2.85) is greater that source duration (0.94), changing to 0.94\n",
      "  ScaperWarning)\n"
     ]
    },
    {
     "name": "stdout",
     "output_type": "stream",
     "text": [
      "Generating soundscape: 134/666\n",
      "Generating soundscape: 135/666\n",
      "Generating soundscape: 136/666\n"
     ]
    },
    {
     "name": "stderr",
     "output_type": "stream",
     "text": [
      "/home/js7561/dev/scaper/scaper/core.py:1199: ScaperWarning: children_playing event time (8.71) is too great given stretched event duration (1.61) and soundscape duration (10.00), changed to 8.39.\n",
      "  ScaperWarning)\n"
     ]
    },
    {
     "name": "stdout",
     "output_type": "stream",
     "text": [
      "Generating soundscape: 137/666\n"
     ]
    },
    {
     "name": "stderr",
     "output_type": "stream",
     "text": [
      "/home/js7561/dev/scaper/scaper/core.py:1199: ScaperWarning: drilling event time (9.19) is too great given stretched event duration (2.05) and soundscape duration (10.00), changed to 7.95.\n",
      "  ScaperWarning)\n",
      "/home/js7561/dev/scaper/scaper/core.py:1112: ScaperWarning: dog_bark event duration (1.91) is greater that source duration (0.44), changing to 0.44\n",
      "  ScaperWarning)\n",
      "/home/js7561/dev/scaper/scaper/core.py:1199: ScaperWarning: air_conditioner event time (8.11) is too great given stretched event duration (2.04) and soundscape duration (10.00), changed to 7.96.\n",
      "  ScaperWarning)\n"
     ]
    },
    {
     "name": "stdout",
     "output_type": "stream",
     "text": [
      "Generating soundscape: 138/666\n"
     ]
    },
    {
     "name": "stderr",
     "output_type": "stream",
     "text": [
      "/home/js7561/dev/scaper/scaper/core.py:1199: ScaperWarning: siren event time (6.53) is too great given stretched event duration (3.83) and soundscape duration (10.00), changed to 6.17.\n",
      "  ScaperWarning)\n",
      "/home/js7561/dev/scaper/scaper/core.py:1199: ScaperWarning: drilling event time (8.87) is too great given stretched event duration (1.58) and soundscape duration (10.00), changed to 8.42.\n",
      "  ScaperWarning)\n",
      "/home/js7561/dev/scaper/scaper/core.py:1199: ScaperWarning: engine_idling event time (7.94) is too great given stretched event duration (4.09) and soundscape duration (10.00), changed to 5.91.\n",
      "  ScaperWarning)\n"
     ]
    },
    {
     "name": "stdout",
     "output_type": "stream",
     "text": [
      "Generating soundscape: 139/666\n"
     ]
    },
    {
     "name": "stderr",
     "output_type": "stream",
     "text": [
      "/home/js7561/dev/scaper/scaper/core.py:1199: ScaperWarning: street_music event time (9.96) is too great given stretched event duration (4.66) and soundscape duration (10.00), changed to 5.34.\n",
      "  ScaperWarning)\n",
      "/home/js7561/dev/scaper/scaper/core.py:1199: ScaperWarning: dog_bark event time (8.73) is too great given stretched event duration (3.88) and soundscape duration (10.00), changed to 6.12.\n",
      "  ScaperWarning)\n"
     ]
    },
    {
     "name": "stdout",
     "output_type": "stream",
     "text": [
      "Generating soundscape: 140/666\n"
     ]
    },
    {
     "name": "stderr",
     "output_type": "stream",
     "text": [
      "/home/js7561/dev/scaper/scaper/core.py:1199: ScaperWarning: street_music event time (8.89) is too great given stretched event duration (1.30) and soundscape duration (10.00), changed to 8.70.\n",
      "  ScaperWarning)\n"
     ]
    },
    {
     "name": "stdout",
     "output_type": "stream",
     "text": [
      "Generating soundscape: 141/666\n"
     ]
    },
    {
     "name": "stderr",
     "output_type": "stream",
     "text": [
      "/home/js7561/dev/scaper/scaper/core.py:1199: ScaperWarning: gun_shot event time (7.89) is too great given stretched event duration (2.21) and soundscape duration (10.00), changed to 7.79.\n",
      "  ScaperWarning)\n",
      "/home/js7561/dev/scaper/scaper/core.py:1199: ScaperWarning: siren event time (7.23) is too great given stretched event duration (4.04) and soundscape duration (10.00), changed to 5.96.\n",
      "  ScaperWarning)\n",
      "/home/js7561/dev/scaper/scaper/core.py:1112: ScaperWarning: car_horn event duration (1.58) is greater that source duration (0.60), changing to 0.60\n",
      "  ScaperWarning)\n"
     ]
    },
    {
     "name": "stdout",
     "output_type": "stream",
     "text": [
      "Generating soundscape: 142/666\n",
      "Generating soundscape: 143/666\n"
     ]
    },
    {
     "name": "stderr",
     "output_type": "stream",
     "text": [
      "/home/js7561/dev/scaper/scaper/core.py:1199: ScaperWarning: air_conditioner event time (9.68) is too great given stretched event duration (1.09) and soundscape duration (10.00), changed to 8.91.\n",
      "  ScaperWarning)\n",
      "/home/js7561/dev/scaper/scaper/core.py:1199: ScaperWarning: air_conditioner event time (8.98) is too great given stretched event duration (4.27) and soundscape duration (10.00), changed to 5.73.\n",
      "  ScaperWarning)\n",
      "/home/js7561/dev/scaper/scaper/core.py:1112: ScaperWarning: gun_shot event duration (2.03) is greater that source duration (1.04), changing to 1.04\n",
      "  ScaperWarning)\n"
     ]
    },
    {
     "name": "stdout",
     "output_type": "stream",
     "text": [
      "Generating soundscape: 144/666\n",
      "Generating soundscape: 145/666\n"
     ]
    },
    {
     "name": "stderr",
     "output_type": "stream",
     "text": [
      "/home/js7561/dev/scaper/scaper/core.py:1199: ScaperWarning: dog_bark event time (8.15) is too great given stretched event duration (1.87) and soundscape duration (10.00), changed to 8.13.\n",
      "  ScaperWarning)\n",
      "/home/js7561/dev/scaper/scaper/core.py:1199: ScaperWarning: dog_bark event time (5.94) is too great given stretched event duration (4.19) and soundscape duration (10.00), changed to 5.81.\n",
      "  ScaperWarning)\n"
     ]
    },
    {
     "name": "stdout",
     "output_type": "stream",
     "text": [
      "Generating soundscape: 146/666\n"
     ]
    },
    {
     "name": "stderr",
     "output_type": "stream",
     "text": [
      "/home/js7561/dev/scaper/scaper/core.py:1112: ScaperWarning: car_horn event duration (3.61) is greater that source duration (0.48), changing to 0.48\n",
      "  ScaperWarning)\n"
     ]
    },
    {
     "name": "stdout",
     "output_type": "stream",
     "text": [
      "Generating soundscape: 147/666\n",
      "Generating soundscape: 148/666\n"
     ]
    },
    {
     "name": "stderr",
     "output_type": "stream",
     "text": [
      "/home/js7561/dev/scaper/scaper/core.py:1112: ScaperWarning: car_horn event duration (2.03) is greater that source duration (0.17), changing to 0.17\n",
      "  ScaperWarning)\n",
      "/home/js7561/dev/scaper/scaper/core.py:1199: ScaperWarning: children_playing event time (7.05) is too great given stretched event duration (3.41) and soundscape duration (10.00), changed to 6.59.\n",
      "  ScaperWarning)\n"
     ]
    },
    {
     "name": "stdout",
     "output_type": "stream",
     "text": [
      "Generating soundscape: 149/666\n"
     ]
    },
    {
     "name": "stderr",
     "output_type": "stream",
     "text": [
      "/home/js7561/dev/scaper/scaper/core.py:1199: ScaperWarning: drilling event time (8.62) is too great given stretched event duration (3.77) and soundscape duration (10.00), changed to 6.23.\n",
      "  ScaperWarning)\n"
     ]
    },
    {
     "name": "stdout",
     "output_type": "stream",
     "text": [
      "Generating soundscape: 150/666\n"
     ]
    },
    {
     "name": "stderr",
     "output_type": "stream",
     "text": [
      "/home/js7561/dev/scaper/scaper/core.py:1199: ScaperWarning: engine_idling event time (9.84) is too great given stretched event duration (1.93) and soundscape duration (10.00), changed to 8.07.\n",
      "  ScaperWarning)\n"
     ]
    },
    {
     "name": "stdout",
     "output_type": "stream",
     "text": [
      "Generating soundscape: 151/666\n"
     ]
    },
    {
     "name": "stderr",
     "output_type": "stream",
     "text": [
      "/home/js7561/dev/scaper/scaper/core.py:1112: ScaperWarning: car_horn event duration (3.15) is greater that source duration (0.90), changing to 0.90\n",
      "  ScaperWarning)\n",
      "/home/js7561/dev/scaper/scaper/core.py:1112: ScaperWarning: car_horn event duration (4.00) is greater that source duration (1.05), changing to 1.05\n",
      "  ScaperWarning)\n"
     ]
    },
    {
     "name": "stdout",
     "output_type": "stream",
     "text": [
      "Generating soundscape: 152/666\n"
     ]
    },
    {
     "name": "stderr",
     "output_type": "stream",
     "text": [
      "/home/js7561/dev/scaper/scaper/core.py:1199: ScaperWarning: street_music event time (9.85) is too great given stretched event duration (1.52) and soundscape duration (10.00), changed to 8.48.\n",
      "  ScaperWarning)\n"
     ]
    },
    {
     "name": "stdout",
     "output_type": "stream",
     "text": [
      "Generating soundscape: 153/666\n"
     ]
    },
    {
     "name": "stderr",
     "output_type": "stream",
     "text": [
      "/home/js7561/dev/scaper/scaper/core.py:1112: ScaperWarning: car_horn event duration (3.60) is greater that source duration (1.62), changing to 1.62\n",
      "  ScaperWarning)\n",
      "/home/js7561/dev/scaper/scaper/core.py:1199: ScaperWarning: siren event time (9.75) is too great given stretched event duration (2.95) and soundscape duration (10.00), changed to 7.05.\n",
      "  ScaperWarning)\n",
      "/home/js7561/dev/scaper/scaper/core.py:1112: ScaperWarning: car_horn event duration (1.04) is greater that source duration (0.28), changing to 0.28\n",
      "  ScaperWarning)\n"
     ]
    },
    {
     "name": "stdout",
     "output_type": "stream",
     "text": [
      "Generating soundscape: 154/666\n",
      "Generating soundscape: 155/666\n"
     ]
    },
    {
     "name": "stderr",
     "output_type": "stream",
     "text": [
      "/home/js7561/dev/scaper/scaper/core.py:1112: ScaperWarning: dog_bark event duration (1.88) is greater that source duration (1.15), changing to 1.15\n",
      "  ScaperWarning)\n"
     ]
    },
    {
     "name": "stdout",
     "output_type": "stream",
     "text": [
      "Generating soundscape: 156/666\n"
     ]
    },
    {
     "name": "stderr",
     "output_type": "stream",
     "text": [
      "/home/js7561/dev/scaper/scaper/core.py:1199: ScaperWarning: jackhammer event time (8.73) is too great given stretched event duration (1.58) and soundscape duration (10.00), changed to 8.42.\n",
      "  ScaperWarning)\n"
     ]
    },
    {
     "name": "stdout",
     "output_type": "stream",
     "text": [
      "Generating soundscape: 157/666\n",
      "Generating soundscape: 158/666\n"
     ]
    },
    {
     "name": "stderr",
     "output_type": "stream",
     "text": [
      "/home/js7561/dev/scaper/scaper/core.py:1112: ScaperWarning: car_horn event duration (2.39) is greater that source duration (0.36), changing to 0.36\n",
      "  ScaperWarning)\n",
      "/home/js7561/dev/scaper/scaper/core.py:1112: ScaperWarning: dog_bark event duration (3.89) is greater that source duration (2.25), changing to 2.25\n",
      "  ScaperWarning)\n",
      "/home/js7561/dev/scaper/scaper/core.py:1199: ScaperWarning: dog_bark event time (8.60) is too great given stretched event duration (1.84) and soundscape duration (10.00), changed to 8.16.\n",
      "  ScaperWarning)\n",
      "/home/js7561/dev/scaper/scaper/core.py:1112: ScaperWarning: gun_shot event duration (3.28) is greater that source duration (3.04), changing to 3.04\n",
      "  ScaperWarning)\n"
     ]
    },
    {
     "name": "stdout",
     "output_type": "stream",
     "text": [
      "Generating soundscape: 159/666\n"
     ]
    },
    {
     "name": "stderr",
     "output_type": "stream",
     "text": [
      "/home/js7561/dev/scaper/scaper/core.py:1112: ScaperWarning: gun_shot event duration (2.17) is greater that source duration (0.79), changing to 0.79\n",
      "  ScaperWarning)\n"
     ]
    },
    {
     "name": "stdout",
     "output_type": "stream",
     "text": [
      "Generating soundscape: 160/666\n"
     ]
    },
    {
     "name": "stderr",
     "output_type": "stream",
     "text": [
      "/home/js7561/dev/scaper/scaper/core.py:1112: ScaperWarning: dog_bark event duration (2.03) is greater that source duration (1.00), changing to 1.00\n",
      "  ScaperWarning)\n",
      "/home/js7561/dev/scaper/scaper/core.py:1112: ScaperWarning: gun_shot event duration (2.15) is greater that source duration (0.50), changing to 0.50\n",
      "  ScaperWarning)\n"
     ]
    },
    {
     "name": "stdout",
     "output_type": "stream",
     "text": [
      "Generating soundscape: 161/666\n"
     ]
    },
    {
     "name": "stderr",
     "output_type": "stream",
     "text": [
      "/home/js7561/dev/scaper/scaper/core.py:1199: ScaperWarning: children_playing event time (6.88) is too great given stretched event duration (4.18) and soundscape duration (10.00), changed to 5.82.\n",
      "  ScaperWarning)\n",
      "/home/js7561/dev/scaper/scaper/core.py:1199: ScaperWarning: siren event time (9.21) is too great given stretched event duration (1.33) and soundscape duration (10.00), changed to 8.67.\n",
      "  ScaperWarning)\n",
      "/home/js7561/dev/scaper/scaper/core.py:1112: ScaperWarning: car_horn event duration (2.13) is greater that source duration (0.25), changing to 0.25\n",
      "  ScaperWarning)\n",
      "/home/js7561/dev/scaper/scaper/core.py:1199: ScaperWarning: street_music event time (7.93) is too great given stretched event duration (4.29) and soundscape duration (10.00), changed to 5.71.\n",
      "  ScaperWarning)\n"
     ]
    },
    {
     "name": "stdout",
     "output_type": "stream",
     "text": [
      "Generating soundscape: 162/666\n"
     ]
    },
    {
     "name": "stderr",
     "output_type": "stream",
     "text": [
      "/home/js7561/dev/scaper/scaper/core.py:1199: ScaperWarning: air_conditioner event time (7.87) is too great given stretched event duration (2.52) and soundscape duration (10.00), changed to 7.48.\n",
      "  ScaperWarning)\n",
      "/home/js7561/dev/scaper/scaper/core.py:1199: ScaperWarning: children_playing event time (8.65) is too great given stretched event duration (3.10) and soundscape duration (10.00), changed to 6.90.\n",
      "  ScaperWarning)\n",
      "/home/js7561/dev/scaper/scaper/core.py:1199: ScaperWarning: air_conditioner event time (9.99) is too great given stretched event duration (1.70) and soundscape duration (10.00), changed to 8.30.\n",
      "  ScaperWarning)\n"
     ]
    },
    {
     "name": "stdout",
     "output_type": "stream",
     "text": [
      "Generating soundscape: 163/666\n",
      "Generating soundscape: 164/666\n",
      "Generating soundscape: 165/666\n"
     ]
    },
    {
     "name": "stderr",
     "output_type": "stream",
     "text": [
      "/home/js7561/dev/scaper/scaper/core.py:1199: ScaperWarning: drilling event time (9.32) is too great given stretched event duration (2.35) and soundscape duration (10.00), changed to 7.65.\n",
      "  ScaperWarning)\n"
     ]
    },
    {
     "name": "stdout",
     "output_type": "stream",
     "text": [
      "Generating soundscape: 166/666\n"
     ]
    },
    {
     "name": "stderr",
     "output_type": "stream",
     "text": [
      "/home/js7561/dev/scaper/scaper/core.py:1112: ScaperWarning: dog_bark event duration (2.87) is greater that source duration (1.86), changing to 1.86\n",
      "  ScaperWarning)\n"
     ]
    },
    {
     "name": "stdout",
     "output_type": "stream",
     "text": [
      "Generating soundscape: 167/666\n"
     ]
    },
    {
     "name": "stderr",
     "output_type": "stream",
     "text": [
      "/home/js7561/dev/scaper/scaper/core.py:1112: ScaperWarning: dog_bark event duration (1.72) is greater that source duration (0.76), changing to 0.76\n",
      "  ScaperWarning)\n"
     ]
    },
    {
     "name": "stdout",
     "output_type": "stream",
     "text": [
      "Generating soundscape: 168/666\n"
     ]
    },
    {
     "name": "stderr",
     "output_type": "stream",
     "text": [
      "/home/js7561/dev/scaper/scaper/core.py:1112: ScaperWarning: gun_shot event duration (1.14) is greater that source duration (0.86), changing to 0.86\n",
      "  ScaperWarning)\n",
      "/home/js7561/dev/scaper/scaper/core.py:1112: ScaperWarning: car_horn event duration (2.25) is greater that source duration (1.21), changing to 1.21\n",
      "  ScaperWarning)\n"
     ]
    },
    {
     "name": "stdout",
     "output_type": "stream",
     "text": [
      "Generating soundscape: 169/666\n"
     ]
    },
    {
     "name": "stderr",
     "output_type": "stream",
     "text": [
      "/home/js7561/dev/scaper/scaper/core.py:1199: ScaperWarning: engine_idling event time (9.33) is too great given stretched event duration (2.61) and soundscape duration (10.00), changed to 7.39.\n",
      "  ScaperWarning)\n",
      "/home/js7561/dev/scaper/scaper/core.py:1199: ScaperWarning: street_music event time (7.93) is too great given stretched event duration (2.92) and soundscape duration (10.00), changed to 7.08.\n",
      "  ScaperWarning)\n",
      "/home/js7561/dev/scaper/scaper/core.py:1199: ScaperWarning: siren event time (8.14) is too great given stretched event duration (3.27) and soundscape duration (10.00), changed to 6.73.\n",
      "  ScaperWarning)\n"
     ]
    },
    {
     "name": "stdout",
     "output_type": "stream",
     "text": [
      "Generating soundscape: 170/666\n"
     ]
    },
    {
     "name": "stderr",
     "output_type": "stream",
     "text": [
      "/home/js7561/dev/scaper/scaper/core.py:1199: ScaperWarning: gun_shot event time (9.43) is too great given stretched event duration (0.67) and soundscape duration (10.00), changed to 9.33.\n",
      "  ScaperWarning)\n",
      "/home/js7561/dev/scaper/scaper/core.py:1112: ScaperWarning: gun_shot event duration (2.89) is greater that source duration (1.37), changing to 1.37\n",
      "  ScaperWarning)\n"
     ]
    },
    {
     "name": "stdout",
     "output_type": "stream",
     "text": [
      "Generating soundscape: 171/666\n"
     ]
    },
    {
     "name": "stderr",
     "output_type": "stream",
     "text": [
      "/home/js7561/dev/scaper/scaper/core.py:1112: ScaperWarning: jackhammer event duration (2.73) is greater that source duration (1.03), changing to 1.03\n",
      "  ScaperWarning)\n"
     ]
    },
    {
     "name": "stdout",
     "output_type": "stream",
     "text": [
      "Generating soundscape: 172/666\n"
     ]
    },
    {
     "name": "stderr",
     "output_type": "stream",
     "text": [
      "/home/js7561/dev/scaper/scaper/core.py:1199: ScaperWarning: gun_shot event time (8.75) is too great given stretched event duration (1.59) and soundscape duration (10.00), changed to 8.41.\n",
      "  ScaperWarning)\n",
      "/home/js7561/dev/scaper/scaper/core.py:1112: ScaperWarning: car_horn event duration (3.43) is greater that source duration (0.35), changing to 0.35\n",
      "  ScaperWarning)\n"
     ]
    },
    {
     "name": "stdout",
     "output_type": "stream",
     "text": [
      "Generating soundscape: 173/666\n",
      "Generating soundscape: 174/666\n",
      "Generating soundscape: 175/666\n"
     ]
    },
    {
     "name": "stderr",
     "output_type": "stream",
     "text": [
      "/home/js7561/dev/scaper/scaper/core.py:1199: ScaperWarning: street_music event time (9.92) is too great given stretched event duration (0.81) and soundscape duration (10.00), changed to 9.19.\n",
      "  ScaperWarning)\n",
      "/home/js7561/dev/scaper/scaper/core.py:1112: ScaperWarning: drilling event duration (3.18) is greater that source duration (2.25), changing to 2.25\n",
      "  ScaperWarning)\n"
     ]
    },
    {
     "name": "stdout",
     "output_type": "stream",
     "text": [
      "Generating soundscape: 176/666\n"
     ]
    },
    {
     "name": "stderr",
     "output_type": "stream",
     "text": [
      "/home/js7561/dev/scaper/scaper/core.py:1112: ScaperWarning: drilling event duration (3.85) is greater that source duration (1.23), changing to 1.23\n",
      "  ScaperWarning)\n",
      "/home/js7561/dev/scaper/scaper/core.py:1199: ScaperWarning: drilling event time (9.56) is too great given stretched event duration (1.53) and soundscape duration (10.00), changed to 8.47.\n",
      "  ScaperWarning)\n",
      "/home/js7561/dev/scaper/scaper/core.py:1112: ScaperWarning: gun_shot event duration (1.96) is greater that source duration (1.92), changing to 1.92\n",
      "  ScaperWarning)\n",
      "/home/js7561/dev/scaper/scaper/core.py:1199: ScaperWarning: gun_shot event time (8.14) is too great given stretched event duration (1.96) and soundscape duration (10.00), changed to 8.04.\n",
      "  ScaperWarning)\n"
     ]
    },
    {
     "name": "stdout",
     "output_type": "stream",
     "text": [
      "Generating soundscape: 177/666\n"
     ]
    },
    {
     "name": "stderr",
     "output_type": "stream",
     "text": [
      "/home/js7561/dev/scaper/scaper/core.py:1112: ScaperWarning: gun_shot event duration (3.16) is greater that source duration (1.40), changing to 1.40\n",
      "  ScaperWarning)\n",
      "/home/js7561/dev/scaper/scaper/core.py:1199: ScaperWarning: dog_bark event time (6.22) is too great given stretched event duration (4.61) and soundscape duration (10.00), changed to 5.39.\n",
      "  ScaperWarning)\n"
     ]
    },
    {
     "name": "stdout",
     "output_type": "stream",
     "text": [
      "Generating soundscape: 178/666\n"
     ]
    },
    {
     "name": "stderr",
     "output_type": "stream",
     "text": [
      "/home/js7561/dev/scaper/scaper/core.py:1112: ScaperWarning: drilling event duration (3.59) is greater that source duration (2.31), changing to 2.31\n",
      "  ScaperWarning)\n",
      "/home/js7561/dev/scaper/scaper/core.py:1112: ScaperWarning: gun_shot event duration (2.81) is greater that source duration (1.33), changing to 1.33\n",
      "  ScaperWarning)\n",
      "/home/js7561/dev/scaper/scaper/core.py:1112: ScaperWarning: dog_bark event duration (3.68) is greater that source duration (2.24), changing to 2.24\n",
      "  ScaperWarning)\n"
     ]
    },
    {
     "name": "stdout",
     "output_type": "stream",
     "text": [
      "Generating soundscape: 179/666\n"
     ]
    },
    {
     "name": "stderr",
     "output_type": "stream",
     "text": [
      "/home/js7561/dev/scaper/scaper/core.py:1112: ScaperWarning: gun_shot event duration (3.29) is greater that source duration (1.50), changing to 1.50\n",
      "  ScaperWarning)\n",
      "/home/js7561/dev/scaper/scaper/core.py:1199: ScaperWarning: street_music event time (8.74) is too great given stretched event duration (2.56) and soundscape duration (10.00), changed to 7.44.\n",
      "  ScaperWarning)\n"
     ]
    },
    {
     "name": "stdout",
     "output_type": "stream",
     "text": [
      "Generating soundscape: 180/666\n"
     ]
    },
    {
     "name": "stderr",
     "output_type": "stream",
     "text": [
      "/home/js7561/dev/scaper/scaper/core.py:1199: ScaperWarning: air_conditioner event time (8.50) is too great given stretched event duration (2.02) and soundscape duration (10.00), changed to 7.98.\n",
      "  ScaperWarning)\n"
     ]
    },
    {
     "name": "stdout",
     "output_type": "stream",
     "text": [
      "Generating soundscape: 181/666\n"
     ]
    },
    {
     "name": "stderr",
     "output_type": "stream",
     "text": [
      "/home/js7561/dev/scaper/scaper/core.py:1112: ScaperWarning: car_horn event duration (1.15) is greater that source duration (0.60), changing to 0.60\n",
      "  ScaperWarning)\n"
     ]
    },
    {
     "name": "stdout",
     "output_type": "stream",
     "text": [
      "Generating soundscape: 182/666\n"
     ]
    },
    {
     "name": "stderr",
     "output_type": "stream",
     "text": [
      "/home/js7561/dev/scaper/scaper/core.py:1112: ScaperWarning: gun_shot event duration (1.67) is greater that source duration (0.92), changing to 0.92\n",
      "  ScaperWarning)\n"
     ]
    },
    {
     "name": "stdout",
     "output_type": "stream",
     "text": [
      "Generating soundscape: 183/666\n",
      "Generating soundscape: 184/666\n",
      "Generating soundscape: 185/666\n"
     ]
    },
    {
     "name": "stderr",
     "output_type": "stream",
     "text": [
      "/home/js7561/dev/scaper/scaper/core.py:1199: ScaperWarning: engine_idling event time (6.41) is too great given stretched event duration (3.77) and soundscape duration (10.00), changed to 6.23.\n",
      "  ScaperWarning)\n"
     ]
    },
    {
     "name": "stdout",
     "output_type": "stream",
     "text": [
      "Generating soundscape: 186/666\n"
     ]
    },
    {
     "name": "stderr",
     "output_type": "stream",
     "text": [
      "/home/js7561/dev/scaper/scaper/core.py:1112: ScaperWarning: dog_bark event duration (3.79) is greater that source duration (0.44), changing to 0.44\n",
      "  ScaperWarning)\n",
      "/home/js7561/dev/scaper/scaper/core.py:1199: ScaperWarning: children_playing event time (9.99) is too great given stretched event duration (1.25) and soundscape duration (10.00), changed to 8.75.\n",
      "  ScaperWarning)\n"
     ]
    },
    {
     "name": "stdout",
     "output_type": "stream",
     "text": [
      "Generating soundscape: 187/666\n"
     ]
    },
    {
     "name": "stderr",
     "output_type": "stream",
     "text": [
      "/home/js7561/dev/scaper/scaper/core.py:1112: ScaperWarning: car_horn event duration (2.00) is greater that source duration (0.17), changing to 0.17\n",
      "  ScaperWarning)\n"
     ]
    },
    {
     "name": "stdout",
     "output_type": "stream",
     "text": [
      "Generating soundscape: 188/666\n"
     ]
    },
    {
     "name": "stderr",
     "output_type": "stream",
     "text": [
      "/home/js7561/dev/scaper/scaper/core.py:1112: ScaperWarning: drilling event duration (3.58) is greater that source duration (2.50), changing to 2.50\n",
      "  ScaperWarning)\n"
     ]
    },
    {
     "name": "stdout",
     "output_type": "stream",
     "text": [
      "Generating soundscape: 189/666\n"
     ]
    },
    {
     "name": "stderr",
     "output_type": "stream",
     "text": [
      "/home/js7561/dev/scaper/scaper/core.py:1112: ScaperWarning: gun_shot event duration (1.97) is greater that source duration (1.90), changing to 1.90\n",
      "  ScaperWarning)\n",
      "/home/js7561/dev/scaper/scaper/core.py:1112: ScaperWarning: car_horn event duration (1.29) is greater that source duration (0.48), changing to 0.48\n",
      "  ScaperWarning)\n"
     ]
    },
    {
     "name": "stdout",
     "output_type": "stream",
     "text": [
      "Generating soundscape: 190/666\n"
     ]
    },
    {
     "name": "stderr",
     "output_type": "stream",
     "text": [
      "/home/js7561/dev/scaper/scaper/core.py:1112: ScaperWarning: car_horn event duration (1.88) is greater that source duration (1.32), changing to 1.32\n",
      "  ScaperWarning)\n",
      "/home/js7561/dev/scaper/scaper/core.py:1199: ScaperWarning: drilling event time (7.96) is too great given stretched event duration (3.75) and soundscape duration (10.00), changed to 6.25.\n",
      "  ScaperWarning)\n",
      "/home/js7561/dev/scaper/scaper/core.py:1199: ScaperWarning: children_playing event time (8.74) is too great given stretched event duration (3.16) and soundscape duration (10.00), changed to 6.84.\n",
      "  ScaperWarning)\n"
     ]
    },
    {
     "name": "stdout",
     "output_type": "stream",
     "text": [
      "Generating soundscape: 191/666\n"
     ]
    },
    {
     "name": "stderr",
     "output_type": "stream",
     "text": [
      "/home/js7561/dev/scaper/scaper/core.py:1199: ScaperWarning: street_music event time (7.37) is too great given stretched event duration (3.33) and soundscape duration (10.00), changed to 6.67.\n",
      "  ScaperWarning)\n"
     ]
    },
    {
     "name": "stdout",
     "output_type": "stream",
     "text": [
      "Generating soundscape: 192/666\n"
     ]
    },
    {
     "name": "stderr",
     "output_type": "stream",
     "text": [
      "/home/js7561/dev/scaper/scaper/core.py:1199: ScaperWarning: street_music event time (8.61) is too great given stretched event duration (4.27) and soundscape duration (10.00), changed to 5.73.\n",
      "  ScaperWarning)\n",
      "/home/js7561/dev/scaper/scaper/core.py:1199: ScaperWarning: children_playing event time (9.72) is too great given stretched event duration (2.35) and soundscape duration (10.00), changed to 7.65.\n",
      "  ScaperWarning)\n",
      "/home/js7561/dev/scaper/scaper/core.py:1112: ScaperWarning: car_horn event duration (1.28) is greater that source duration (0.65), changing to 0.65\n",
      "  ScaperWarning)\n",
      "/home/js7561/dev/scaper/scaper/core.py:1112: ScaperWarning: siren event duration (3.40) is greater that source duration (1.10), changing to 1.10\n",
      "  ScaperWarning)\n"
     ]
    },
    {
     "name": "stdout",
     "output_type": "stream",
     "text": [
      "Generating soundscape: 193/666\n"
     ]
    },
    {
     "name": "stderr",
     "output_type": "stream",
     "text": [
      "/home/js7561/dev/scaper/scaper/core.py:1112: ScaperWarning: drilling event duration (3.99) is greater that source duration (1.36), changing to 1.36\n",
      "  ScaperWarning)\n",
      "/home/js7561/dev/scaper/scaper/core.py:1199: ScaperWarning: children_playing event time (8.45) is too great given stretched event duration (3.46) and soundscape duration (10.00), changed to 6.54.\n",
      "  ScaperWarning)\n",
      "/home/js7561/dev/scaper/scaper/core.py:1112: ScaperWarning: drilling event duration (2.54) is greater that source duration (0.44), changing to 0.44\n",
      "  ScaperWarning)\n",
      "/home/js7561/dev/scaper/scaper/core.py:1199: ScaperWarning: drilling event time (9.63) is too great given stretched event duration (0.38) and soundscape duration (10.00), changed to 9.62.\n",
      "  ScaperWarning)\n",
      "/home/js7561/dev/scaper/scaper/core.py:1112: ScaperWarning: car_horn event duration (2.97) is greater that source duration (0.60), changing to 0.60\n",
      "  ScaperWarning)\n",
      "/home/js7561/dev/scaper/scaper/core.py:1199: ScaperWarning: jackhammer event time (8.74) is too great given stretched event duration (3.41) and soundscape duration (10.00), changed to 6.59.\n",
      "  ScaperWarning)\n"
     ]
    },
    {
     "name": "stdout",
     "output_type": "stream",
     "text": [
      "Generating soundscape: 194/666\n"
     ]
    },
    {
     "name": "stderr",
     "output_type": "stream",
     "text": [
      "/home/js7561/dev/scaper/scaper/core.py:1112: ScaperWarning: gun_shot event duration (2.45) is greater that source duration (0.94), changing to 0.94\n",
      "  ScaperWarning)\n",
      "/home/js7561/dev/scaper/scaper/core.py:1199: ScaperWarning: gun_shot event time (9.92) is too great given stretched event duration (1.10) and soundscape duration (10.00), changed to 8.90.\n",
      "  ScaperWarning)\n"
     ]
    },
    {
     "name": "stdout",
     "output_type": "stream",
     "text": [
      "Generating soundscape: 195/666\n",
      "Generating soundscape: 196/666\n"
     ]
    },
    {
     "name": "stderr",
     "output_type": "stream",
     "text": [
      "/home/js7561/dev/scaper/scaper/core.py:1199: ScaperWarning: engine_idling event time (7.47) is too great given stretched event duration (3.41) and soundscape duration (10.00), changed to 6.59.\n",
      "  ScaperWarning)\n",
      "/home/js7561/dev/scaper/scaper/core.py:1112: ScaperWarning: gun_shot event duration (1.17) is greater that source duration (0.98), changing to 0.98\n",
      "  ScaperWarning)\n",
      "/home/js7561/dev/scaper/scaper/core.py:1112: ScaperWarning: car_horn event duration (3.46) is greater that source duration (0.47), changing to 0.47\n",
      "  ScaperWarning)\n"
     ]
    },
    {
     "name": "stdout",
     "output_type": "stream",
     "text": [
      "Generating soundscape: 197/666\n",
      "Generating soundscape: 198/666\n"
     ]
    },
    {
     "name": "stderr",
     "output_type": "stream",
     "text": [
      "/home/js7561/dev/scaper/scaper/core.py:1112: ScaperWarning: dog_bark event duration (3.45) is greater that source duration (1.00), changing to 1.00\n",
      "  ScaperWarning)\n",
      "/home/js7561/dev/scaper/scaper/core.py:1112: ScaperWarning: gun_shot event duration (3.21) is greater that source duration (0.90), changing to 0.90\n",
      "  ScaperWarning)\n",
      "/home/js7561/dev/scaper/scaper/core.py:1199: ScaperWarning: air_conditioner event time (8.88) is too great given stretched event duration (3.20) and soundscape duration (10.00), changed to 6.80.\n",
      "  ScaperWarning)\n",
      "/home/js7561/dev/scaper/scaper/core.py:1112: ScaperWarning: jackhammer event duration (2.69) is greater that source duration (1.38), changing to 1.38\n",
      "  ScaperWarning)\n",
      "/home/js7561/dev/scaper/scaper/core.py:1112: ScaperWarning: car_horn event duration (1.50) is greater that source duration (0.36), changing to 0.36\n",
      "  ScaperWarning)\n"
     ]
    },
    {
     "name": "stdout",
     "output_type": "stream",
     "text": [
      "Generating soundscape: 199/666\n"
     ]
    },
    {
     "name": "stderr",
     "output_type": "stream",
     "text": [
      "/home/js7561/dev/scaper/scaper/core.py:1112: ScaperWarning: gun_shot event duration (2.33) is greater that source duration (1.33), changing to 1.33\n",
      "  ScaperWarning)\n"
     ]
    },
    {
     "name": "stdout",
     "output_type": "stream",
     "text": [
      "Generating soundscape: 200/666\n"
     ]
    },
    {
     "name": "stderr",
     "output_type": "stream",
     "text": [
      "/home/js7561/dev/scaper/scaper/core.py:1112: ScaperWarning: car_horn event duration (2.47) is greater that source duration (1.05), changing to 1.05\n",
      "  ScaperWarning)\n"
     ]
    },
    {
     "name": "stdout",
     "output_type": "stream",
     "text": [
      "Generating soundscape: 201/666\n",
      "Generating soundscape: 202/666\n",
      "Generating soundscape: 203/666\n"
     ]
    },
    {
     "name": "stderr",
     "output_type": "stream",
     "text": [
      "/home/js7561/dev/scaper/scaper/core.py:1112: ScaperWarning: car_horn event duration (2.29) is greater that source duration (0.62), changing to 0.62\n",
      "  ScaperWarning)\n",
      "/home/js7561/dev/scaper/scaper/core.py:1112: ScaperWarning: car_horn event duration (3.81) is greater that source duration (1.62), changing to 1.62\n",
      "  ScaperWarning)\n",
      "/home/js7561/dev/scaper/scaper/core.py:1199: ScaperWarning: engine_idling event time (9.00) is too great given stretched event duration (3.35) and soundscape duration (10.00), changed to 6.65.\n",
      "  ScaperWarning)\n",
      "/home/js7561/dev/scaper/scaper/core.py:1112: ScaperWarning: gun_shot event duration (3.22) is greater that source duration (1.33), changing to 1.33\n",
      "  ScaperWarning)\n",
      "/home/js7561/dev/scaper/scaper/core.py:1112: ScaperWarning: gun_shot event duration (2.46) is greater that source duration (1.92), changing to 1.92\n",
      "  ScaperWarning)\n"
     ]
    },
    {
     "name": "stdout",
     "output_type": "stream",
     "text": [
      "Generating soundscape: 204/666\n"
     ]
    },
    {
     "name": "stderr",
     "output_type": "stream",
     "text": [
      "/home/js7561/dev/scaper/scaper/core.py:1112: ScaperWarning: gun_shot event duration (3.08) is greater that source duration (2.62), changing to 2.62\n",
      "  ScaperWarning)\n"
     ]
    },
    {
     "name": "stdout",
     "output_type": "stream",
     "text": [
      "Generating soundscape: 205/666\n"
     ]
    },
    {
     "name": "stderr",
     "output_type": "stream",
     "text": [
      "/home/js7561/dev/scaper/scaper/core.py:1199: ScaperWarning: dog_bark event time (7.04) is too great given stretched event duration (4.25) and soundscape duration (10.00), changed to 5.75.\n",
      "  ScaperWarning)\n",
      "/home/js7561/dev/scaper/scaper/core.py:1112: ScaperWarning: gun_shot event duration (1.78) is greater that source duration (1.77), changing to 1.77\n",
      "  ScaperWarning)\n",
      "/home/js7561/dev/scaper/scaper/core.py:1199: ScaperWarning: air_conditioner event time (8.86) is too great given stretched event duration (2.63) and soundscape duration (10.00), changed to 7.37.\n",
      "  ScaperWarning)\n"
     ]
    },
    {
     "name": "stdout",
     "output_type": "stream",
     "text": [
      "Generating soundscape: 206/666\n"
     ]
    },
    {
     "name": "stderr",
     "output_type": "stream",
     "text": [
      "/home/js7561/dev/scaper/scaper/core.py:1199: ScaperWarning: siren event time (9.49) is too great given stretched event duration (1.99) and soundscape duration (10.00), changed to 8.01.\n",
      "  ScaperWarning)\n",
      "/home/js7561/dev/scaper/scaper/core.py:1112: ScaperWarning: gun_shot event duration (3.71) is greater that source duration (1.93), changing to 1.93\n",
      "  ScaperWarning)\n",
      "/home/js7561/dev/scaper/scaper/core.py:1199: ScaperWarning: gun_shot event time (9.08) is too great given stretched event duration (1.99) and soundscape duration (10.00), changed to 8.01.\n",
      "  ScaperWarning)\n",
      "/home/js7561/dev/scaper/scaper/core.py:1199: ScaperWarning: siren event time (9.83) is too great given stretched event duration (0.89) and soundscape duration (10.00), changed to 9.11.\n",
      "  ScaperWarning)\n",
      "/home/js7561/dev/scaper/scaper/core.py:1199: ScaperWarning: gun_shot event time (9.46) is too great given stretched event duration (0.73) and soundscape duration (10.00), changed to 9.27.\n",
      "  ScaperWarning)\n"
     ]
    },
    {
     "name": "stdout",
     "output_type": "stream",
     "text": [
      "Generating soundscape: 207/666\n",
      "Generating soundscape: 208/666\n",
      "Generating soundscape: 209/666\n",
      "Generating soundscape: 210/666\n"
     ]
    },
    {
     "name": "stderr",
     "output_type": "stream",
     "text": [
      "/home/js7561/dev/scaper/scaper/core.py:1112: ScaperWarning: gun_shot event duration (3.45) is greater that source duration (1.81), changing to 1.81\n",
      "  ScaperWarning)\n",
      "/home/js7561/dev/scaper/scaper/core.py:1199: ScaperWarning: gun_shot event time (8.42) is too great given stretched event duration (1.97) and soundscape duration (10.00), changed to 8.03.\n",
      "  ScaperWarning)\n",
      "/home/js7561/dev/scaper/scaper/core.py:1112: ScaperWarning: car_horn event duration (1.96) is greater that source duration (0.99), changing to 0.99\n",
      "  ScaperWarning)\n"
     ]
    },
    {
     "name": "stdout",
     "output_type": "stream",
     "text": [
      "Generating soundscape: 211/666\n"
     ]
    },
    {
     "name": "stderr",
     "output_type": "stream",
     "text": [
      "/home/js7561/dev/scaper/scaper/core.py:1199: ScaperWarning: air_conditioner event time (9.21) is too great given stretched event duration (4.20) and soundscape duration (10.00), changed to 5.80.\n",
      "  ScaperWarning)\n",
      "/home/js7561/dev/scaper/scaper/core.py:1199: ScaperWarning: siren event time (9.62) is too great given stretched event duration (1.46) and soundscape duration (10.00), changed to 8.54.\n",
      "  ScaperWarning)\n"
     ]
    },
    {
     "name": "stdout",
     "output_type": "stream",
     "text": [
      "Generating soundscape: 212/666\n"
     ]
    },
    {
     "name": "stderr",
     "output_type": "stream",
     "text": [
      "/home/js7561/dev/scaper/scaper/core.py:1112: ScaperWarning: car_horn event duration (2.90) is greater that source duration (1.04), changing to 1.04\n",
      "  ScaperWarning)\n"
     ]
    },
    {
     "name": "stdout",
     "output_type": "stream",
     "text": [
      "Generating soundscape: 213/666\n",
      "Generating soundscape: 214/666\n"
     ]
    },
    {
     "name": "stderr",
     "output_type": "stream",
     "text": [
      "/home/js7561/dev/scaper/scaper/core.py:1112: ScaperWarning: drilling event duration (3.69) is greater that source duration (2.31), changing to 2.31\n",
      "  ScaperWarning)\n"
     ]
    },
    {
     "name": "stdout",
     "output_type": "stream",
     "text": [
      "Generating soundscape: 215/666\n"
     ]
    },
    {
     "name": "stderr",
     "output_type": "stream",
     "text": [
      "/home/js7561/dev/scaper/scaper/core.py:1112: ScaperWarning: car_horn event duration (1.43) is greater that source duration (0.62), changing to 0.62\n",
      "  ScaperWarning)\n"
     ]
    },
    {
     "name": "stdout",
     "output_type": "stream",
     "text": [
      "Generating soundscape: 216/666\n"
     ]
    },
    {
     "name": "stderr",
     "output_type": "stream",
     "text": [
      "/home/js7561/dev/scaper/scaper/core.py:1199: ScaperWarning: air_conditioner event time (8.77) is too great given stretched event duration (3.65) and soundscape duration (10.00), changed to 6.35.\n",
      "  ScaperWarning)\n",
      "/home/js7561/dev/scaper/scaper/core.py:1199: ScaperWarning: children_playing event time (7.61) is too great given stretched event duration (3.01) and soundscape duration (10.00), changed to 6.99.\n",
      "  ScaperWarning)\n"
     ]
    },
    {
     "name": "stdout",
     "output_type": "stream",
     "text": [
      "Generating soundscape: 217/666\n"
     ]
    },
    {
     "name": "stderr",
     "output_type": "stream",
     "text": [
      "/home/js7561/dev/scaper/scaper/core.py:1199: ScaperWarning: air_conditioner event time (9.82) is too great given stretched event duration (2.03) and soundscape duration (10.00), changed to 7.97.\n",
      "  ScaperWarning)\n",
      "/home/js7561/dev/scaper/scaper/core.py:1112: ScaperWarning: dog_bark event duration (1.42) is greater that source duration (0.78), changing to 0.78\n",
      "  ScaperWarning)\n",
      "/home/js7561/dev/scaper/scaper/core.py:1199: ScaperWarning: dog_bark event time (9.52) is too great given stretched event duration (0.75) and soundscape duration (10.00), changed to 9.25.\n",
      "  ScaperWarning)\n",
      "/home/js7561/dev/scaper/scaper/core.py:1199: ScaperWarning: car_horn event time (8.35) is too great given stretched event duration (2.86) and soundscape duration (10.00), changed to 7.14.\n",
      "  ScaperWarning)\n"
     ]
    },
    {
     "name": "stdout",
     "output_type": "stream",
     "text": [
      "Generating soundscape: 218/666\n"
     ]
    },
    {
     "name": "stderr",
     "output_type": "stream",
     "text": [
      "/home/js7561/dev/scaper/scaper/core.py:1112: ScaperWarning: dog_bark event duration (2.37) is greater that source duration (1.05), changing to 1.05\n",
      "  ScaperWarning)\n",
      "/home/js7561/dev/scaper/scaper/core.py:1112: ScaperWarning: gun_shot event duration (3.55) is greater that source duration (1.97), changing to 1.97\n",
      "  ScaperWarning)\n"
     ]
    },
    {
     "name": "stdout",
     "output_type": "stream",
     "text": [
      "Generating soundscape: 219/666\n"
     ]
    },
    {
     "name": "stderr",
     "output_type": "stream",
     "text": [
      "/home/js7561/dev/scaper/scaper/core.py:1112: ScaperWarning: children_playing event duration (1.36) is greater that source duration (1.05), changing to 1.05\n",
      "  ScaperWarning)\n"
     ]
    },
    {
     "name": "stdout",
     "output_type": "stream",
     "text": [
      "Generating soundscape: 220/666\n"
     ]
    },
    {
     "name": "stderr",
     "output_type": "stream",
     "text": [
      "/home/js7561/dev/scaper/scaper/core.py:1199: ScaperWarning: children_playing event time (8.75) is too great given stretched event duration (1.47) and soundscape duration (10.00), changed to 8.53.\n",
      "  ScaperWarning)\n",
      "/home/js7561/dev/scaper/scaper/core.py:1112: ScaperWarning: gun_shot event duration (3.51) is greater that source duration (1.15), changing to 1.15\n",
      "  ScaperWarning)\n"
     ]
    },
    {
     "name": "stdout",
     "output_type": "stream",
     "text": [
      "Generating soundscape: 221/666\n"
     ]
    },
    {
     "name": "stderr",
     "output_type": "stream",
     "text": [
      "/home/js7561/dev/scaper/scaper/core.py:1199: ScaperWarning: street_music event time (8.61) is too great given stretched event duration (1.87) and soundscape duration (10.00), changed to 8.13.\n",
      "  ScaperWarning)\n",
      "/home/js7561/dev/scaper/scaper/core.py:1112: ScaperWarning: car_horn event duration (2.29) is greater that source duration (1.74), changing to 1.74\n",
      "  ScaperWarning)\n"
     ]
    },
    {
     "name": "stdout",
     "output_type": "stream",
     "text": [
      "Generating soundscape: 222/666\n"
     ]
    },
    {
     "name": "stderr",
     "output_type": "stream",
     "text": [
      "/home/js7561/dev/scaper/scaper/core.py:1199: ScaperWarning: siren event time (9.64) is too great given stretched event duration (0.58) and soundscape duration (10.00), changed to 9.42.\n",
      "  ScaperWarning)\n",
      "/home/js7561/dev/scaper/scaper/core.py:1199: ScaperWarning: engine_idling event time (6.29) is too great given stretched event duration (4.20) and soundscape duration (10.00), changed to 5.80.\n",
      "  ScaperWarning)\n",
      "/home/js7561/dev/scaper/scaper/core.py:1112: ScaperWarning: gun_shot event duration (2.17) is greater that source duration (1.77), changing to 1.77\n",
      "  ScaperWarning)\n",
      "/home/js7561/dev/scaper/scaper/core.py:1199: ScaperWarning: drilling event time (8.72) is too great given stretched event duration (2.77) and soundscape duration (10.00), changed to 7.23.\n",
      "  ScaperWarning)\n"
     ]
    },
    {
     "name": "stdout",
     "output_type": "stream",
     "text": [
      "Generating soundscape: 223/666\n"
     ]
    },
    {
     "name": "stderr",
     "output_type": "stream",
     "text": [
      "/home/js7561/dev/scaper/scaper/core.py:1199: ScaperWarning: children_playing event time (8.05) is too great given stretched event duration (3.80) and soundscape duration (10.00), changed to 6.20.\n",
      "  ScaperWarning)\n",
      "/home/js7561/dev/scaper/scaper/core.py:1112: ScaperWarning: car_horn event duration (0.80) is greater that source duration (0.33), changing to 0.33\n",
      "  ScaperWarning)\n",
      "/home/js7561/dev/scaper/scaper/core.py:1112: ScaperWarning: gun_shot event duration (1.11) is greater that source duration (1.02), changing to 1.02\n",
      "  ScaperWarning)\n",
      "/home/js7561/dev/scaper/scaper/core.py:1112: ScaperWarning: gun_shot event duration (3.10) is greater that source duration (1.81), changing to 1.81\n",
      "  ScaperWarning)\n"
     ]
    },
    {
     "name": "stdout",
     "output_type": "stream",
     "text": [
      "Generating soundscape: 224/666\n"
     ]
    },
    {
     "name": "stderr",
     "output_type": "stream",
     "text": [
      "/home/js7561/dev/scaper/scaper/core.py:1112: ScaperWarning: car_horn event duration (1.17) is greater that source duration (0.99), changing to 0.99\n",
      "  ScaperWarning)\n"
     ]
    },
    {
     "name": "stdout",
     "output_type": "stream",
     "text": [
      "Generating soundscape: 225/666\n"
     ]
    },
    {
     "name": "stderr",
     "output_type": "stream",
     "text": [
      "/home/js7561/dev/scaper/scaper/core.py:1112: ScaperWarning: car_horn event duration (0.86) is greater that source duration (0.35), changing to 0.35\n",
      "  ScaperWarning)\n"
     ]
    },
    {
     "name": "stdout",
     "output_type": "stream",
     "text": [
      "Generating soundscape: 226/666\n"
     ]
    },
    {
     "name": "stderr",
     "output_type": "stream",
     "text": [
      "/home/js7561/dev/scaper/scaper/core.py:1199: ScaperWarning: gun_shot event time (9.26) is too great given stretched event duration (1.64) and soundscape duration (10.00), changed to 8.36.\n",
      "  ScaperWarning)\n",
      "/home/js7561/dev/scaper/scaper/core.py:1112: ScaperWarning: gun_shot event duration (3.29) is greater that source duration (0.79), changing to 0.79\n",
      "  ScaperWarning)\n"
     ]
    },
    {
     "name": "stdout",
     "output_type": "stream",
     "text": [
      "Generating soundscape: 227/666\n",
      "Generating soundscape: 228/666\n"
     ]
    },
    {
     "name": "stderr",
     "output_type": "stream",
     "text": [
      "/home/js7561/dev/scaper/scaper/core.py:1112: ScaperWarning: car_horn event duration (1.06) is greater that source duration (0.33), changing to 0.33\n",
      "  ScaperWarning)\n",
      "/home/js7561/dev/scaper/scaper/core.py:1112: ScaperWarning: drilling event duration (3.90) is greater that source duration (0.58), changing to 0.58\n",
      "  ScaperWarning)\n"
     ]
    },
    {
     "name": "stdout",
     "output_type": "stream",
     "text": [
      "Generating soundscape: 229/666\n"
     ]
    },
    {
     "name": "stderr",
     "output_type": "stream",
     "text": [
      "/home/js7561/dev/scaper/scaper/core.py:1199: ScaperWarning: children_playing event time (7.77) is too great given stretched event duration (3.06) and soundscape duration (10.00), changed to 6.94.\n",
      "  ScaperWarning)\n",
      "/home/js7561/dev/scaper/scaper/core.py:1199: ScaperWarning: siren event time (7.15) is too great given stretched event duration (3.56) and soundscape duration (10.00), changed to 6.44.\n",
      "  ScaperWarning)\n"
     ]
    },
    {
     "name": "stdout",
     "output_type": "stream",
     "text": [
      "Generating soundscape: 230/666\n"
     ]
    },
    {
     "name": "stderr",
     "output_type": "stream",
     "text": [
      "/home/js7561/dev/scaper/scaper/core.py:1112: ScaperWarning: car_horn event duration (2.19) is greater that source duration (0.36), changing to 0.36\n",
      "  ScaperWarning)\n"
     ]
    },
    {
     "name": "stdout",
     "output_type": "stream",
     "text": [
      "Generating soundscape: 231/666\n"
     ]
    },
    {
     "name": "stderr",
     "output_type": "stream",
     "text": [
      "/home/js7561/dev/scaper/scaper/core.py:1199: ScaperWarning: children_playing event time (7.89) is too great given stretched event duration (3.30) and soundscape duration (10.00), changed to 6.70.\n",
      "  ScaperWarning)\n"
     ]
    },
    {
     "name": "stdout",
     "output_type": "stream",
     "text": [
      "Generating soundscape: 232/666\n"
     ]
    },
    {
     "name": "stderr",
     "output_type": "stream",
     "text": [
      "/home/js7561/dev/scaper/scaper/core.py:1112: ScaperWarning: gun_shot event duration (3.37) is greater that source duration (1.15), changing to 1.15\n",
      "  ScaperWarning)\n",
      "/home/js7561/dev/scaper/scaper/core.py:1112: ScaperWarning: jackhammer event duration (3.92) is greater that source duration (3.04), changing to 3.04\n",
      "  ScaperWarning)\n"
     ]
    },
    {
     "name": "stdout",
     "output_type": "stream",
     "text": [
      "Generating soundscape: 233/666\n"
     ]
    },
    {
     "name": "stderr",
     "output_type": "stream",
     "text": [
      "/home/js7561/dev/scaper/scaper/core.py:1112: ScaperWarning: siren event duration (2.19) is greater that source duration (1.10), changing to 1.10\n",
      "  ScaperWarning)\n"
     ]
    },
    {
     "name": "stdout",
     "output_type": "stream",
     "text": [
      "Generating soundscape: 234/666\n",
      "Generating soundscape: 235/666\n"
     ]
    },
    {
     "name": "stderr",
     "output_type": "stream",
     "text": [
      "/home/js7561/dev/scaper/scaper/core.py:1112: ScaperWarning: gun_shot event duration (1.93) is greater that source duration (0.79), changing to 0.79\n",
      "  ScaperWarning)\n",
      "/home/js7561/dev/scaper/scaper/core.py:1199: ScaperWarning: engine_idling event time (8.63) is too great given stretched event duration (2.57) and soundscape duration (10.00), changed to 7.43.\n",
      "  ScaperWarning)\n"
     ]
    },
    {
     "name": "stdout",
     "output_type": "stream",
     "text": [
      "Generating soundscape: 236/666\n"
     ]
    },
    {
     "name": "stderr",
     "output_type": "stream",
     "text": [
      "/home/js7561/dev/scaper/scaper/core.py:1112: ScaperWarning: drilling event duration (2.35) is greater that source duration (1.94), changing to 1.94\n",
      "  ScaperWarning)\n"
     ]
    },
    {
     "name": "stdout",
     "output_type": "stream",
     "text": [
      "Generating soundscape: 237/666\n"
     ]
    },
    {
     "name": "stderr",
     "output_type": "stream",
     "text": [
      "/home/js7561/dev/scaper/scaper/core.py:1112: ScaperWarning: gun_shot event duration (2.01) is greater that source duration (1.02), changing to 1.02\n",
      "  ScaperWarning)\n"
     ]
    },
    {
     "name": "stdout",
     "output_type": "stream",
     "text": [
      "Generating soundscape: 238/666\n",
      "Generating soundscape: 239/666\n",
      "Generating soundscape: 240/666\n"
     ]
    },
    {
     "name": "stderr",
     "output_type": "stream",
     "text": [
      "/home/js7561/dev/scaper/scaper/core.py:1112: ScaperWarning: gun_shot event duration (2.29) is greater that source duration (1.40), changing to 1.40\n",
      "  ScaperWarning)\n"
     ]
    },
    {
     "name": "stdout",
     "output_type": "stream",
     "text": [
      "Generating soundscape: 241/666\n"
     ]
    },
    {
     "name": "stderr",
     "output_type": "stream",
     "text": [
      "/home/js7561/dev/scaper/scaper/core.py:1112: ScaperWarning: gun_shot event duration (3.32) is greater that source duration (1.38), changing to 1.38\n",
      "  ScaperWarning)\n"
     ]
    },
    {
     "name": "stdout",
     "output_type": "stream",
     "text": [
      "Generating soundscape: 242/666\n"
     ]
    },
    {
     "name": "stderr",
     "output_type": "stream",
     "text": [
      "/home/js7561/dev/scaper/scaper/core.py:1199: ScaperWarning: air_conditioner event time (7.23) is too great given stretched event duration (3.40) and soundscape duration (10.00), changed to 6.60.\n",
      "  ScaperWarning)\n"
     ]
    },
    {
     "name": "stdout",
     "output_type": "stream",
     "text": [
      "Generating soundscape: 243/666\n",
      "Generating soundscape: 244/666\n"
     ]
    },
    {
     "name": "stderr",
     "output_type": "stream",
     "text": [
      "/home/js7561/dev/scaper/scaper/core.py:1199: ScaperWarning: siren event time (9.48) is too great given stretched event duration (2.12) and soundscape duration (10.00), changed to 7.88.\n",
      "  ScaperWarning)\n"
     ]
    },
    {
     "name": "stdout",
     "output_type": "stream",
     "text": [
      "Generating soundscape: 245/666\n"
     ]
    },
    {
     "name": "stderr",
     "output_type": "stream",
     "text": [
      "/home/js7561/dev/scaper/scaper/core.py:1112: ScaperWarning: car_horn event duration (3.50) is greater that source duration (0.28), changing to 0.28\n",
      "  ScaperWarning)\n",
      "/home/js7561/dev/scaper/scaper/core.py:1199: ScaperWarning: dog_bark event time (7.93) is too great given stretched event duration (3.42) and soundscape duration (10.00), changed to 6.58.\n",
      "  ScaperWarning)\n"
     ]
    },
    {
     "name": "stdout",
     "output_type": "stream",
     "text": [
      "Generating soundscape: 246/666\n",
      "Generating soundscape: 247/666\n"
     ]
    },
    {
     "name": "stderr",
     "output_type": "stream",
     "text": [
      "/home/js7561/dev/scaper/scaper/core.py:1112: ScaperWarning: gun_shot event duration (1.90) is greater that source duration (0.92), changing to 0.92\n",
      "  ScaperWarning)\n",
      "/home/js7561/dev/scaper/scaper/core.py:1112: ScaperWarning: dog_bark event duration (2.15) is greater that source duration (0.94), changing to 0.94\n",
      "  ScaperWarning)\n"
     ]
    },
    {
     "name": "stdout",
     "output_type": "stream",
     "text": [
      "Generating soundscape: 248/666\n"
     ]
    },
    {
     "name": "stderr",
     "output_type": "stream",
     "text": [
      "/home/js7561/dev/scaper/scaper/core.py:1112: ScaperWarning: drilling event duration (3.29) is greater that source duration (2.50), changing to 2.50\n",
      "  ScaperWarning)\n",
      "/home/js7561/dev/scaper/scaper/core.py:1199: ScaperWarning: drilling event time (8.65) is too great given stretched event duration (2.64) and soundscape duration (10.00), changed to 7.36.\n",
      "  ScaperWarning)\n",
      "/home/js7561/dev/scaper/scaper/core.py:1112: ScaperWarning: gun_shot event duration (2.78) is greater that source duration (2.24), changing to 2.24\n",
      "  ScaperWarning)\n"
     ]
    },
    {
     "name": "stdout",
     "output_type": "stream",
     "text": [
      "Generating soundscape: 249/666\n",
      "Generating soundscape: 250/666\n",
      "Generating soundscape: 251/666\n",
      "Generating soundscape: 252/666\n"
     ]
    },
    {
     "name": "stderr",
     "output_type": "stream",
     "text": [
      "/home/js7561/dev/scaper/scaper/core.py:1112: ScaperWarning: gun_shot event duration (1.81) is greater that source duration (0.86), changing to 0.86\n",
      "  ScaperWarning)\n"
     ]
    },
    {
     "name": "stdout",
     "output_type": "stream",
     "text": [
      "Generating soundscape: 253/666\n"
     ]
    },
    {
     "name": "stderr",
     "output_type": "stream",
     "text": [
      "/home/js7561/dev/scaper/scaper/core.py:1112: ScaperWarning: car_horn event duration (3.34) is greater that source duration (0.28), changing to 0.28\n",
      "  ScaperWarning)\n",
      "/home/js7561/dev/scaper/scaper/core.py:1112: ScaperWarning: car_horn event duration (3.53) is greater that source duration (1.74), changing to 1.74\n",
      "  ScaperWarning)\n"
     ]
    },
    {
     "name": "stdout",
     "output_type": "stream",
     "text": [
      "Generating soundscape: 254/666\n",
      "Generating soundscape: 255/666\n",
      "Generating soundscape: 256/666\n",
      "Generating soundscape: 257/666\n"
     ]
    },
    {
     "name": "stderr",
     "output_type": "stream",
     "text": [
      "/home/js7561/dev/scaper/scaper/core.py:1112: ScaperWarning: car_horn event duration (2.81) is greater that source duration (1.20), changing to 1.20\n",
      "  ScaperWarning)\n",
      "/home/js7561/dev/scaper/scaper/core.py:1112: ScaperWarning: dog_bark event duration (2.59) is greater that source duration (0.65), changing to 0.65\n",
      "  ScaperWarning)\n"
     ]
    },
    {
     "name": "stdout",
     "output_type": "stream",
     "text": [
      "Generating soundscape: 258/666\n"
     ]
    },
    {
     "name": "stderr",
     "output_type": "stream",
     "text": [
      "/home/js7561/dev/scaper/scaper/core.py:1112: ScaperWarning: car_horn event duration (2.18) is greater that source duration (0.60), changing to 0.60\n",
      "  ScaperWarning)\n"
     ]
    },
    {
     "name": "stdout",
     "output_type": "stream",
     "text": [
      "Generating soundscape: 259/666\n",
      "Generating soundscape: 260/666\n"
     ]
    },
    {
     "name": "stderr",
     "output_type": "stream",
     "text": [
      "/home/js7561/dev/scaper/scaper/core.py:1199: ScaperWarning: car_horn event time (9.71) is too great given stretched event duration (1.39) and soundscape duration (10.00), changed to 8.61.\n",
      "  ScaperWarning)\n",
      "/home/js7561/dev/scaper/scaper/core.py:1112: ScaperWarning: siren event duration (3.14) is greater that source duration (1.49), changing to 1.49\n",
      "  ScaperWarning)\n",
      "/home/js7561/dev/scaper/scaper/core.py:1112: ScaperWarning: car_horn event duration (1.03) is greater that source duration (0.66), changing to 0.66\n",
      "  ScaperWarning)\n"
     ]
    },
    {
     "name": "stdout",
     "output_type": "stream",
     "text": [
      "Generating soundscape: 261/666\n"
     ]
    },
    {
     "name": "stderr",
     "output_type": "stream",
     "text": [
      "/home/js7561/dev/scaper/scaper/core.py:1199: ScaperWarning: children_playing event time (8.40) is too great given stretched event duration (2.14) and soundscape duration (10.00), changed to 7.86.\n",
      "  ScaperWarning)\n",
      "/home/js7561/dev/scaper/scaper/core.py:1199: ScaperWarning: engine_idling event time (7.96) is too great given stretched event duration (3.74) and soundscape duration (10.00), changed to 6.26.\n",
      "  ScaperWarning)\n",
      "/home/js7561/dev/scaper/scaper/core.py:1199: ScaperWarning: air_conditioner event time (7.65) is too great given stretched event duration (3.70) and soundscape duration (10.00), changed to 6.30.\n",
      "  ScaperWarning)\n",
      "/home/js7561/dev/scaper/scaper/core.py:1199: ScaperWarning: dog_bark event time (9.49) is too great given stretched event duration (0.96) and soundscape duration (10.00), changed to 9.04.\n",
      "  ScaperWarning)\n"
     ]
    },
    {
     "name": "stdout",
     "output_type": "stream",
     "text": [
      "Generating soundscape: 262/666\n",
      "Generating soundscape: 263/666\n",
      "Generating soundscape: 264/666\n"
     ]
    },
    {
     "name": "stderr",
     "output_type": "stream",
     "text": [
      "/home/js7561/dev/scaper/scaper/core.py:1112: ScaperWarning: dog_bark event duration (3.99) is greater that source duration (1.05), changing to 1.05\n",
      "  ScaperWarning)\n"
     ]
    },
    {
     "name": "stdout",
     "output_type": "stream",
     "text": [
      "Generating soundscape: 265/666\n"
     ]
    },
    {
     "name": "stderr",
     "output_type": "stream",
     "text": [
      "/home/js7561/dev/scaper/scaper/core.py:1112: ScaperWarning: car_horn event duration (1.36) is greater that source duration (1.04), changing to 1.04\n",
      "  ScaperWarning)\n",
      "/home/js7561/dev/scaper/scaper/core.py:1199: ScaperWarning: air_conditioner event time (6.44) is too great given stretched event duration (3.72) and soundscape duration (10.00), changed to 6.28.\n",
      "  ScaperWarning)\n",
      "/home/js7561/dev/scaper/scaper/core.py:1199: ScaperWarning: dog_bark event time (7.89) is too great given stretched event duration (3.04) and soundscape duration (10.00), changed to 6.96.\n",
      "  ScaperWarning)\n"
     ]
    },
    {
     "name": "stdout",
     "output_type": "stream",
     "text": [
      "Generating soundscape: 266/666\n"
     ]
    },
    {
     "name": "stderr",
     "output_type": "stream",
     "text": [
      "/home/js7561/dev/scaper/scaper/core.py:1112: ScaperWarning: car_horn event duration (1.64) is greater that source duration (0.33), changing to 0.33\n",
      "  ScaperWarning)\n",
      "/home/js7561/dev/scaper/scaper/core.py:1112: ScaperWarning: car_horn event duration (2.78) is greater that source duration (0.39), changing to 0.39\n",
      "  ScaperWarning)\n",
      "/home/js7561/dev/scaper/scaper/core.py:1112: ScaperWarning: gun_shot event duration (3.45) is greater that source duration (2.46), changing to 2.46\n",
      "  ScaperWarning)\n"
     ]
    },
    {
     "name": "stdout",
     "output_type": "stream",
     "text": [
      "Generating soundscape: 267/666\n",
      "Generating soundscape: 268/666\n",
      "Generating soundscape: 269/666\n",
      "Generating soundscape: 270/666\n"
     ]
    },
    {
     "name": "stderr",
     "output_type": "stream",
     "text": [
      "/home/js7561/dev/scaper/scaper/core.py:1199: ScaperWarning: air_conditioner event time (7.14) is too great given stretched event duration (2.99) and soundscape duration (10.00), changed to 7.01.\n",
      "  ScaperWarning)\n",
      "/home/js7561/dev/scaper/scaper/core.py:1112: ScaperWarning: gun_shot event duration (1.01) is greater that source duration (0.90), changing to 0.90\n",
      "  ScaperWarning)\n",
      "/home/js7561/dev/scaper/scaper/core.py:1112: ScaperWarning: gun_shot event duration (1.44) is greater that source duration (0.98), changing to 0.98\n",
      "  ScaperWarning)\n"
     ]
    },
    {
     "name": "stdout",
     "output_type": "stream",
     "text": [
      "Generating soundscape: 271/666\n",
      "Generating soundscape: 272/666\n"
     ]
    },
    {
     "name": "stderr",
     "output_type": "stream",
     "text": [
      "/home/js7561/dev/scaper/scaper/core.py:1112: ScaperWarning: dog_bark event duration (3.76) is greater that source duration (0.58), changing to 0.58\n",
      "  ScaperWarning)\n",
      "/home/js7561/dev/scaper/scaper/core.py:1112: ScaperWarning: car_horn event duration (2.97) is greater that source duration (0.28), changing to 0.28\n",
      "  ScaperWarning)\n",
      "/home/js7561/dev/scaper/scaper/core.py:1199: ScaperWarning: car_horn event time (9.86) is too great given stretched event duration (0.30) and soundscape duration (10.00), changed to 9.70.\n",
      "  ScaperWarning)\n",
      "/home/js7561/dev/scaper/scaper/core.py:1199: ScaperWarning: drilling event time (6.40) is too great given stretched event duration (4.40) and soundscape duration (10.00), changed to 5.60.\n",
      "  ScaperWarning)\n"
     ]
    },
    {
     "name": "stdout",
     "output_type": "stream",
     "text": [
      "Generating soundscape: 273/666\n"
     ]
    },
    {
     "name": "stderr",
     "output_type": "stream",
     "text": [
      "/home/js7561/dev/scaper/scaper/core.py:1199: ScaperWarning: air_conditioner event time (7.29) is too great given stretched event duration (2.78) and soundscape duration (10.00), changed to 7.22.\n",
      "  ScaperWarning)\n"
     ]
    },
    {
     "name": "stdout",
     "output_type": "stream",
     "text": [
      "Generating soundscape: 274/666\n"
     ]
    },
    {
     "name": "stderr",
     "output_type": "stream",
     "text": [
      "/home/js7561/dev/scaper/scaper/core.py:1199: ScaperWarning: street_music event time (9.69) is too great given stretched event duration (1.40) and soundscape duration (10.00), changed to 8.60.\n",
      "  ScaperWarning)\n",
      "/home/js7561/dev/scaper/scaper/core.py:1112: ScaperWarning: car_horn event duration (2.59) is greater that source duration (0.65), changing to 0.65\n",
      "  ScaperWarning)\n",
      "/home/js7561/dev/scaper/scaper/core.py:1112: ScaperWarning: gun_shot event duration (1.53) is greater that source duration (1.33), changing to 1.33\n",
      "  ScaperWarning)\n",
      "/home/js7561/dev/scaper/scaper/core.py:1112: ScaperWarning: gun_shot event duration (1.61) is greater that source duration (1.33), changing to 1.33\n",
      "  ScaperWarning)\n"
     ]
    },
    {
     "name": "stdout",
     "output_type": "stream",
     "text": [
      "Generating soundscape: 275/666\n"
     ]
    },
    {
     "name": "stderr",
     "output_type": "stream",
     "text": [
      "/home/js7561/dev/scaper/scaper/core.py:1199: ScaperWarning: children_playing event time (9.87) is too great given stretched event duration (3.48) and soundscape duration (10.00), changed to 6.52.\n",
      "  ScaperWarning)\n",
      "/home/js7561/dev/scaper/scaper/core.py:1199: ScaperWarning: air_conditioner event time (7.85) is too great given stretched event duration (2.84) and soundscape duration (10.00), changed to 7.16.\n",
      "  ScaperWarning)\n"
     ]
    },
    {
     "name": "stdout",
     "output_type": "stream",
     "text": [
      "Generating soundscape: 276/666\n"
     ]
    },
    {
     "name": "stderr",
     "output_type": "stream",
     "text": [
      "/home/js7561/dev/scaper/scaper/core.py:1199: ScaperWarning: jackhammer event time (8.49) is too great given stretched event duration (1.56) and soundscape duration (10.00), changed to 8.44.\n",
      "  ScaperWarning)\n"
     ]
    },
    {
     "name": "stdout",
     "output_type": "stream",
     "text": [
      "Generating soundscape: 277/666\n"
     ]
    },
    {
     "name": "stderr",
     "output_type": "stream",
     "text": [
      "/home/js7561/dev/scaper/scaper/core.py:1199: ScaperWarning: street_music event time (6.93) is too great given stretched event duration (3.20) and soundscape duration (10.00), changed to 6.80.\n",
      "  ScaperWarning)\n"
     ]
    },
    {
     "name": "stdout",
     "output_type": "stream",
     "text": [
      "Generating soundscape: 278/666\n"
     ]
    },
    {
     "name": "stderr",
     "output_type": "stream",
     "text": [
      "/home/js7561/dev/scaper/scaper/core.py:1112: ScaperWarning: gun_shot event duration (3.58) is greater that source duration (2.46), changing to 2.46\n",
      "  ScaperWarning)\n",
      "/home/js7561/dev/scaper/scaper/core.py:1199: ScaperWarning: engine_idling event time (7.24) is too great given stretched event duration (2.88) and soundscape duration (10.00), changed to 7.12.\n",
      "  ScaperWarning)\n"
     ]
    },
    {
     "name": "stdout",
     "output_type": "stream",
     "text": [
      "Generating soundscape: 279/666\n"
     ]
    },
    {
     "name": "stderr",
     "output_type": "stream",
     "text": [
      "/home/js7561/dev/scaper/scaper/core.py:1112: ScaperWarning: car_horn event duration (3.99) is greater that source duration (0.17), changing to 0.17\n",
      "  ScaperWarning)\n",
      "/home/js7561/dev/scaper/scaper/core.py:1112: ScaperWarning: car_horn event duration (2.58) is greater that source duration (1.32), changing to 1.32\n",
      "  ScaperWarning)\n"
     ]
    },
    {
     "name": "stdout",
     "output_type": "stream",
     "text": [
      "Generating soundscape: 280/666\n"
     ]
    },
    {
     "name": "stderr",
     "output_type": "stream",
     "text": [
      "/home/js7561/dev/scaper/scaper/core.py:1199: ScaperWarning: car_horn event time (9.32) is too great given stretched event duration (2.91) and soundscape duration (10.00), changed to 7.09.\n",
      "  ScaperWarning)\n"
     ]
    },
    {
     "name": "stdout",
     "output_type": "stream",
     "text": [
      "Generating soundscape: 281/666\n"
     ]
    },
    {
     "name": "stderr",
     "output_type": "stream",
     "text": [
      "/home/js7561/dev/scaper/scaper/core.py:1199: ScaperWarning: siren event time (8.84) is too great given stretched event duration (3.51) and soundscape duration (10.00), changed to 6.49.\n",
      "  ScaperWarning)\n"
     ]
    },
    {
     "name": "stdout",
     "output_type": "stream",
     "text": [
      "Generating soundscape: 282/666\n"
     ]
    },
    {
     "name": "stderr",
     "output_type": "stream",
     "text": [
      "/home/js7561/dev/scaper/scaper/core.py:1112: ScaperWarning: gun_shot event duration (2.39) is greater that source duration (1.55), changing to 1.55\n",
      "  ScaperWarning)\n",
      "/home/js7561/dev/scaper/scaper/core.py:1199: ScaperWarning: siren event time (9.59) is too great given stretched event duration (3.01) and soundscape duration (10.00), changed to 6.99.\n",
      "  ScaperWarning)\n",
      "/home/js7561/dev/scaper/scaper/core.py:1199: ScaperWarning: engine_idling event time (6.55) is too great given stretched event duration (3.45) and soundscape duration (10.00), changed to 6.55.\n",
      "  ScaperWarning)\n"
     ]
    },
    {
     "name": "stdout",
     "output_type": "stream",
     "text": [
      "Generating soundscape: 283/666\n"
     ]
    },
    {
     "name": "stderr",
     "output_type": "stream",
     "text": [
      "/home/js7561/dev/scaper/scaper/core.py:1112: ScaperWarning: dog_bark event duration (3.78) is greater that source duration (1.10), changing to 1.10\n",
      "  ScaperWarning)\n",
      "/home/js7561/dev/scaper/scaper/core.py:1112: ScaperWarning: car_horn event duration (3.15) is greater that source duration (0.17), changing to 0.17\n",
      "  ScaperWarning)\n"
     ]
    },
    {
     "name": "stdout",
     "output_type": "stream",
     "text": [
      "Generating soundscape: 284/666\n"
     ]
    },
    {
     "name": "stderr",
     "output_type": "stream",
     "text": [
      "/home/js7561/dev/scaper/scaper/core.py:1112: ScaperWarning: drilling event duration (2.01) is greater that source duration (0.78), changing to 0.78\n",
      "  ScaperWarning)\n",
      "/home/js7561/dev/scaper/scaper/core.py:1199: ScaperWarning: dog_bark event time (9.73) is too great given stretched event duration (2.92) and soundscape duration (10.00), changed to 7.08.\n",
      "  ScaperWarning)\n"
     ]
    },
    {
     "name": "stdout",
     "output_type": "stream",
     "text": [
      "Generating soundscape: 285/666\n"
     ]
    },
    {
     "name": "stderr",
     "output_type": "stream",
     "text": [
      "/home/js7561/dev/scaper/scaper/core.py:1199: ScaperWarning: street_music event time (9.90) is too great given stretched event duration (0.85) and soundscape duration (10.00), changed to 9.15.\n",
      "  ScaperWarning)\n",
      "/home/js7561/dev/scaper/scaper/core.py:1199: ScaperWarning: children_playing event time (9.79) is too great given stretched event duration (2.82) and soundscape duration (10.00), changed to 7.18.\n",
      "  ScaperWarning)\n",
      "/home/js7561/dev/scaper/scaper/core.py:1112: ScaperWarning: dog_bark event duration (0.80) is greater that source duration (0.39), changing to 0.39\n",
      "  ScaperWarning)\n",
      "/home/js7561/dev/scaper/scaper/core.py:1199: ScaperWarning: air_conditioner event time (5.58) is too great given stretched event duration (4.45) and soundscape duration (10.00), changed to 5.55.\n",
      "  ScaperWarning)\n",
      "/home/js7561/dev/scaper/scaper/core.py:1199: ScaperWarning: drilling event time (7.58) is too great given stretched event duration (3.34) and soundscape duration (10.00), changed to 6.66.\n",
      "  ScaperWarning)\n"
     ]
    },
    {
     "name": "stdout",
     "output_type": "stream",
     "text": [
      "Generating soundscape: 286/666\n"
     ]
    },
    {
     "name": "stderr",
     "output_type": "stream",
     "text": [
      "/home/js7561/dev/scaper/scaper/core.py:1112: ScaperWarning: jackhammer event duration (3.21) is greater that source duration (1.84), changing to 1.84\n",
      "  ScaperWarning)\n",
      "/home/js7561/dev/scaper/scaper/core.py:1112: ScaperWarning: gun_shot event duration (3.24) is greater that source duration (0.98), changing to 0.98\n",
      "  ScaperWarning)\n",
      "/home/js7561/dev/scaper/scaper/core.py:1199: ScaperWarning: air_conditioner event time (7.72) is too great given stretched event duration (3.04) and soundscape duration (10.00), changed to 6.96.\n",
      "  ScaperWarning)\n",
      "/home/js7561/dev/scaper/scaper/core.py:1199: ScaperWarning: drilling event time (6.97) is too great given stretched event duration (3.94) and soundscape duration (10.00), changed to 6.06.\n",
      "  ScaperWarning)\n"
     ]
    },
    {
     "name": "stdout",
     "output_type": "stream",
     "text": [
      "Generating soundscape: 287/666\n"
     ]
    },
    {
     "name": "stderr",
     "output_type": "stream",
     "text": [
      "/home/js7561/dev/scaper/scaper/core.py:1112: ScaperWarning: gun_shot event duration (1.04) is greater that source duration (0.79), changing to 0.79\n",
      "  ScaperWarning)\n"
     ]
    },
    {
     "name": "stdout",
     "output_type": "stream",
     "text": [
      "Generating soundscape: 288/666\n"
     ]
    },
    {
     "name": "stderr",
     "output_type": "stream",
     "text": [
      "/home/js7561/dev/scaper/scaper/core.py:1199: ScaperWarning: street_music event time (8.28) is too great given stretched event duration (3.13) and soundscape duration (10.00), changed to 6.87.\n",
      "  ScaperWarning)\n"
     ]
    },
    {
     "name": "stdout",
     "output_type": "stream",
     "text": [
      "Generating soundscape: 289/666\n"
     ]
    },
    {
     "name": "stderr",
     "output_type": "stream",
     "text": [
      "/home/js7561/dev/scaper/scaper/core.py:1112: ScaperWarning: dog_bark event duration (1.75) is greater that source duration (0.78), changing to 0.78\n",
      "  ScaperWarning)\n",
      "/home/js7561/dev/scaper/scaper/core.py:1199: ScaperWarning: engine_idling event time (9.97) is too great given stretched event duration (2.16) and soundscape duration (10.00), changed to 7.84.\n",
      "  ScaperWarning)\n"
     ]
    },
    {
     "name": "stdout",
     "output_type": "stream",
     "text": [
      "Generating soundscape: 290/666\n",
      "Generating soundscape: 291/666\n"
     ]
    },
    {
     "name": "stderr",
     "output_type": "stream",
     "text": [
      "/home/js7561/dev/scaper/scaper/core.py:1112: ScaperWarning: siren event duration (3.92) is greater that source duration (1.63), changing to 1.63\n",
      "  ScaperWarning)\n",
      "/home/js7561/dev/scaper/scaper/core.py:1199: ScaperWarning: siren event time (8.74) is too great given stretched event duration (1.80) and soundscape duration (10.00), changed to 8.20.\n",
      "  ScaperWarning)\n"
     ]
    },
    {
     "name": "stdout",
     "output_type": "stream",
     "text": [
      "Generating soundscape: 292/666\n",
      "Generating soundscape: 293/666\n"
     ]
    },
    {
     "name": "stderr",
     "output_type": "stream",
     "text": [
      "/home/js7561/dev/scaper/scaper/core.py:1112: ScaperWarning: dog_bark event duration (3.15) is greater that source duration (3.10), changing to 3.10\n",
      "  ScaperWarning)\n"
     ]
    },
    {
     "name": "stdout",
     "output_type": "stream",
     "text": [
      "Generating soundscape: 294/666\n",
      "Generating soundscape: 295/666\n",
      "Generating soundscape: 296/666\n"
     ]
    },
    {
     "name": "stderr",
     "output_type": "stream",
     "text": [
      "/home/js7561/dev/scaper/scaper/core.py:1112: ScaperWarning: dog_bark event duration (3.11) is greater that source duration (2.95), changing to 2.95\n",
      "  ScaperWarning)\n",
      "/home/js7561/dev/scaper/scaper/core.py:1199: ScaperWarning: dog_bark event time (8.21) is too great given stretched event duration (2.55) and soundscape duration (10.00), changed to 7.45.\n",
      "  ScaperWarning)\n"
     ]
    },
    {
     "name": "stdout",
     "output_type": "stream",
     "text": [
      "Generating soundscape: 297/666\n"
     ]
    },
    {
     "name": "stderr",
     "output_type": "stream",
     "text": [
      "/home/js7561/dev/scaper/scaper/core.py:1199: ScaperWarning: street_music event time (8.22) is too great given stretched event duration (3.07) and soundscape duration (10.00), changed to 6.93.\n",
      "  ScaperWarning)\n",
      "/home/js7561/dev/scaper/scaper/core.py:1112: ScaperWarning: gun_shot event duration (1.97) is greater that source duration (1.79), changing to 1.79\n",
      "  ScaperWarning)\n"
     ]
    },
    {
     "name": "stdout",
     "output_type": "stream",
     "text": [
      "Generating soundscape: 298/666\n"
     ]
    },
    {
     "name": "stderr",
     "output_type": "stream",
     "text": [
      "/home/js7561/dev/scaper/scaper/core.py:1112: ScaperWarning: car_horn event duration (2.65) is greater that source duration (0.39), changing to 0.39\n",
      "  ScaperWarning)\n"
     ]
    },
    {
     "name": "stdout",
     "output_type": "stream",
     "text": [
      "Generating soundscape: 299/666\n"
     ]
    },
    {
     "name": "stderr",
     "output_type": "stream",
     "text": [
      "/home/js7561/dev/scaper/scaper/core.py:1112: ScaperWarning: gun_shot event duration (2.81) is greater that source duration (2.62), changing to 2.62\n",
      "  ScaperWarning)\n",
      "/home/js7561/dev/scaper/scaper/core.py:1199: ScaperWarning: gun_shot event time (7.86) is too great given stretched event duration (2.89) and soundscape duration (10.00), changed to 7.11.\n",
      "  ScaperWarning)\n",
      "/home/js7561/dev/scaper/scaper/core.py:1112: ScaperWarning: car_horn event duration (3.80) is greater that source duration (3.15), changing to 3.15\n",
      "  ScaperWarning)\n"
     ]
    },
    {
     "name": "stdout",
     "output_type": "stream",
     "text": [
      "Generating soundscape: 300/666\n"
     ]
    },
    {
     "name": "stderr",
     "output_type": "stream",
     "text": [
      "/home/js7561/dev/scaper/scaper/core.py:1199: ScaperWarning: gun_shot event time (9.72) is too great given stretched event duration (1.65) and soundscape duration (10.00), changed to 8.35.\n",
      "  ScaperWarning)\n",
      "/home/js7561/dev/scaper/scaper/core.py:1112: ScaperWarning: gun_shot event duration (3.50) is greater that source duration (1.02), changing to 1.02\n",
      "  ScaperWarning)\n"
     ]
    },
    {
     "name": "stdout",
     "output_type": "stream",
     "text": [
      "Generating soundscape: 301/666\n",
      "Generating soundscape: 302/666\n",
      "Generating soundscape: 303/666\n"
     ]
    },
    {
     "name": "stderr",
     "output_type": "stream",
     "text": [
      "/home/js7561/dev/scaper/scaper/core.py:1199: ScaperWarning: jackhammer event time (8.43) is too great given stretched event duration (1.82) and soundscape duration (10.00), changed to 8.18.\n",
      "  ScaperWarning)\n",
      "/home/js7561/dev/scaper/scaper/core.py:1112: ScaperWarning: gun_shot event duration (3.96) is greater that source duration (2.24), changing to 2.24\n",
      "  ScaperWarning)\n",
      "/home/js7561/dev/scaper/scaper/core.py:1199: ScaperWarning: children_playing event time (8.13) is too great given stretched event duration (3.45) and soundscape duration (10.00), changed to 6.55.\n",
      "  ScaperWarning)\n"
     ]
    },
    {
     "name": "stdout",
     "output_type": "stream",
     "text": [
      "Generating soundscape: 304/666\n",
      "Generating soundscape: 305/666\n"
     ]
    },
    {
     "name": "stderr",
     "output_type": "stream",
     "text": [
      "/home/js7561/dev/scaper/scaper/core.py:1112: ScaperWarning: car_horn event duration (0.87) is greater that source duration (0.25), changing to 0.25\n",
      "  ScaperWarning)\n",
      "/home/js7561/dev/scaper/scaper/core.py:1112: ScaperWarning: car_horn event duration (1.04) is greater that source duration (0.99), changing to 0.99\n",
      "  ScaperWarning)\n",
      "/home/js7561/dev/scaper/scaper/core.py:1112: ScaperWarning: dog_bark event duration (1.93) is greater that source duration (0.58), changing to 0.58\n",
      "  ScaperWarning)\n"
     ]
    },
    {
     "name": "stdout",
     "output_type": "stream",
     "text": [
      "Generating soundscape: 306/666\n",
      "Generating soundscape: 307/666\n"
     ]
    },
    {
     "name": "stderr",
     "output_type": "stream",
     "text": [
      "/home/js7561/dev/scaper/scaper/core.py:1112: ScaperWarning: gun_shot event duration (2.13) is greater that source duration (0.98), changing to 0.98\n",
      "  ScaperWarning)\n",
      "/home/js7561/dev/scaper/scaper/core.py:1112: ScaperWarning: gun_shot event duration (1.58) is greater that source duration (1.02), changing to 1.02\n",
      "  ScaperWarning)\n"
     ]
    },
    {
     "name": "stdout",
     "output_type": "stream",
     "text": [
      "Generating soundscape: 308/666\n",
      "Generating soundscape: 309/666\n"
     ]
    },
    {
     "name": "stderr",
     "output_type": "stream",
     "text": [
      "/home/js7561/dev/scaper/scaper/core.py:1112: ScaperWarning: car_horn event duration (2.17) is greater that source duration (0.36), changing to 0.36\n",
      "  ScaperWarning)\n"
     ]
    },
    {
     "name": "stdout",
     "output_type": "stream",
     "text": [
      "Generating soundscape: 310/666\n",
      "Generating soundscape: 311/666\n"
     ]
    },
    {
     "name": "stderr",
     "output_type": "stream",
     "text": [
      "/home/js7561/dev/scaper/scaper/core.py:1112: ScaperWarning: gun_shot event duration (2.26) is greater that source duration (1.66), changing to 1.66\n",
      "  ScaperWarning)\n",
      "/home/js7561/dev/scaper/scaper/core.py:1199: ScaperWarning: street_music event time (9.03) is too great given stretched event duration (3.77) and soundscape duration (10.00), changed to 6.23.\n",
      "  ScaperWarning)\n"
     ]
    },
    {
     "name": "stdout",
     "output_type": "stream",
     "text": [
      "Generating soundscape: 312/666\n"
     ]
    },
    {
     "name": "stderr",
     "output_type": "stream",
     "text": [
      "/home/js7561/dev/scaper/scaper/core.py:1112: ScaperWarning: gun_shot event duration (2.38) is greater that source duration (1.50), changing to 1.50\n",
      "  ScaperWarning)\n"
     ]
    },
    {
     "name": "stdout",
     "output_type": "stream",
     "text": [
      "Generating soundscape: 313/666\n",
      "Generating soundscape: 314/666\n"
     ]
    },
    {
     "name": "stderr",
     "output_type": "stream",
     "text": [
      "/home/js7561/dev/scaper/scaper/core.py:1112: ScaperWarning: dog_bark event duration (0.93) is greater that source duration (0.70), changing to 0.70\n",
      "  ScaperWarning)\n",
      "/home/js7561/dev/scaper/scaper/core.py:1112: ScaperWarning: drilling event duration (2.94) is greater that source duration (0.44), changing to 0.44\n",
      "  ScaperWarning)\n",
      "/home/js7561/dev/scaper/scaper/core.py:1112: ScaperWarning: siren event duration (1.83) is greater that source duration (1.64), changing to 1.64\n",
      "  ScaperWarning)\n"
     ]
    },
    {
     "name": "stdout",
     "output_type": "stream",
     "text": [
      "Generating soundscape: 315/666\n",
      "Generating soundscape: 316/666\n"
     ]
    },
    {
     "name": "stderr",
     "output_type": "stream",
     "text": [
      "/home/js7561/dev/scaper/scaper/core.py:1112: ScaperWarning: gun_shot event duration (3.74) is greater that source duration (1.25), changing to 1.25\n",
      "  ScaperWarning)\n"
     ]
    },
    {
     "name": "stdout",
     "output_type": "stream",
     "text": [
      "Generating soundscape: 317/666\n"
     ]
    },
    {
     "name": "stderr",
     "output_type": "stream",
     "text": [
      "/home/js7561/dev/scaper/scaper/core.py:1112: ScaperWarning: gun_shot event duration (3.75) is greater that source duration (3.04), changing to 3.04\n",
      "  ScaperWarning)\n"
     ]
    },
    {
     "name": "stdout",
     "output_type": "stream",
     "text": [
      "Generating soundscape: 318/666\n"
     ]
    },
    {
     "name": "stderr",
     "output_type": "stream",
     "text": [
      "/home/js7561/dev/scaper/scaper/core.py:1112: ScaperWarning: drilling event duration (3.71) is greater that source duration (0.97), changing to 0.97\n",
      "  ScaperWarning)\n",
      "/home/js7561/dev/scaper/scaper/core.py:1199: ScaperWarning: children_playing event time (7.78) is too great given stretched event duration (3.34) and soundscape duration (10.00), changed to 6.66.\n",
      "  ScaperWarning)\n",
      "/home/js7561/dev/scaper/scaper/core.py:1112: ScaperWarning: jackhammer event duration (3.52) is greater that source duration (1.44), changing to 1.44\n",
      "  ScaperWarning)\n",
      "/home/js7561/dev/scaper/scaper/core.py:1112: ScaperWarning: car_horn event duration (2.32) is greater that source duration (1.74), changing to 1.74\n",
      "  ScaperWarning)\n"
     ]
    },
    {
     "name": "stdout",
     "output_type": "stream",
     "text": [
      "Generating soundscape: 319/666\n"
     ]
    },
    {
     "name": "stderr",
     "output_type": "stream",
     "text": [
      "/home/js7561/dev/scaper/scaper/core.py:1112: ScaperWarning: gun_shot event duration (2.64) is greater that source duration (1.92), changing to 1.92\n",
      "  ScaperWarning)\n"
     ]
    },
    {
     "name": "stdout",
     "output_type": "stream",
     "text": [
      "Generating soundscape: 320/666\n",
      "Generating soundscape: 321/666\n"
     ]
    },
    {
     "name": "stderr",
     "output_type": "stream",
     "text": [
      "/home/js7561/dev/scaper/scaper/core.py:1112: ScaperWarning: car_horn event duration (3.93) is greater that source duration (1.21), changing to 1.21\n",
      "  ScaperWarning)\n",
      "/home/js7561/dev/scaper/scaper/core.py:1112: ScaperWarning: car_horn event duration (2.86) is greater that source duration (0.21), changing to 0.21\n",
      "  ScaperWarning)\n",
      "/home/js7561/dev/scaper/scaper/core.py:1199: ScaperWarning: jackhammer event time (7.37) is too great given stretched event duration (3.91) and soundscape duration (10.00), changed to 6.09.\n",
      "  ScaperWarning)\n"
     ]
    },
    {
     "name": "stdout",
     "output_type": "stream",
     "text": [
      "Generating soundscape: 322/666\n",
      "Generating soundscape: 323/666\n"
     ]
    },
    {
     "name": "stderr",
     "output_type": "stream",
     "text": [
      "/home/js7561/dev/scaper/scaper/core.py:1199: ScaperWarning: air_conditioner event time (8.25) is too great given stretched event duration (2.24) and soundscape duration (10.00), changed to 7.76.\n",
      "  ScaperWarning)\n",
      "/home/js7561/dev/scaper/scaper/core.py:1112: ScaperWarning: engine_idling event duration (1.97) is greater that source duration (1.52), changing to 1.52\n",
      "  ScaperWarning)\n"
     ]
    },
    {
     "name": "stdout",
     "output_type": "stream",
     "text": [
      "Generating soundscape: 324/666\n"
     ]
    },
    {
     "name": "stderr",
     "output_type": "stream",
     "text": [
      "/home/js7561/dev/scaper/scaper/core.py:1112: ScaperWarning: drilling event duration (2.89) is greater that source duration (1.96), changing to 1.96\n",
      "  ScaperWarning)\n"
     ]
    },
    {
     "name": "stdout",
     "output_type": "stream",
     "text": [
      "Generating soundscape: 325/666\n"
     ]
    },
    {
     "name": "stderr",
     "output_type": "stream",
     "text": [
      "/home/js7561/dev/scaper/scaper/core.py:1112: ScaperWarning: gun_shot event duration (1.41) is greater that source duration (0.94), changing to 0.94\n",
      "  ScaperWarning)\n"
     ]
    },
    {
     "name": "stdout",
     "output_type": "stream",
     "text": [
      "Generating soundscape: 326/666\n"
     ]
    },
    {
     "name": "stderr",
     "output_type": "stream",
     "text": [
      "/home/js7561/dev/scaper/scaper/core.py:1112: ScaperWarning: gun_shot event duration (1.47) is greater that source duration (0.98), changing to 0.98\n",
      "  ScaperWarning)\n",
      "/home/js7561/dev/scaper/scaper/core.py:1112: ScaperWarning: gun_shot event duration (3.04) is greater that source duration (1.93), changing to 1.93\n",
      "  ScaperWarning)\n"
     ]
    },
    {
     "name": "stdout",
     "output_type": "stream",
     "text": [
      "Generating soundscape: 327/666\n",
      "Generating soundscape: 328/666\n"
     ]
    },
    {
     "name": "stderr",
     "output_type": "stream",
     "text": [
      "/home/js7561/dev/scaper/scaper/core.py:1112: ScaperWarning: gun_shot event duration (1.34) is greater that source duration (0.86), changing to 0.86\n",
      "  ScaperWarning)\n",
      "/home/js7561/dev/scaper/scaper/core.py:1199: ScaperWarning: drilling event time (9.14) is too great given stretched event duration (2.22) and soundscape duration (10.00), changed to 7.78.\n",
      "  ScaperWarning)\n",
      "/home/js7561/dev/scaper/scaper/core.py:1112: ScaperWarning: gun_shot event duration (2.17) is greater that source duration (1.40), changing to 1.40\n",
      "  ScaperWarning)\n",
      "/home/js7561/dev/scaper/scaper/core.py:1199: ScaperWarning: car_horn event time (9.32) is too great given stretched event duration (3.89) and soundscape duration (10.00), changed to 6.11.\n",
      "  ScaperWarning)\n"
     ]
    },
    {
     "name": "stdout",
     "output_type": "stream",
     "text": [
      "Generating soundscape: 329/666\n"
     ]
    },
    {
     "name": "stderr",
     "output_type": "stream",
     "text": [
      "/home/js7561/dev/scaper/scaper/core.py:1199: ScaperWarning: children_playing event time (8.61) is too great given stretched event duration (2.08) and soundscape duration (10.00), changed to 7.92.\n",
      "  ScaperWarning)\n"
     ]
    },
    {
     "name": "stdout",
     "output_type": "stream",
     "text": [
      "Generating soundscape: 330/666\n"
     ]
    },
    {
     "name": "stderr",
     "output_type": "stream",
     "text": [
      "/home/js7561/dev/scaper/scaper/core.py:1112: ScaperWarning: car_horn event duration (3.77) is greater that source duration (0.21), changing to 0.21\n",
      "  ScaperWarning)\n"
     ]
    },
    {
     "name": "stdout",
     "output_type": "stream",
     "text": [
      "Generating soundscape: 331/666\n"
     ]
    },
    {
     "name": "stderr",
     "output_type": "stream",
     "text": [
      "/home/js7561/dev/scaper/scaper/core.py:1112: ScaperWarning: siren event duration (2.25) is greater that source duration (1.95), changing to 1.95\n",
      "  ScaperWarning)\n"
     ]
    },
    {
     "name": "stdout",
     "output_type": "stream",
     "text": [
      "Generating soundscape: 332/666\n"
     ]
    },
    {
     "name": "stderr",
     "output_type": "stream",
     "text": [
      "/home/js7561/dev/scaper/scaper/core.py:1199: ScaperWarning: street_music event time (9.54) is too great given stretched event duration (2.43) and soundscape duration (10.00), changed to 7.57.\n",
      "  ScaperWarning)\n"
     ]
    },
    {
     "name": "stdout",
     "output_type": "stream",
     "text": [
      "Generating soundscape: 333/666\n"
     ]
    },
    {
     "name": "stderr",
     "output_type": "stream",
     "text": [
      "/home/js7561/dev/scaper/scaper/core.py:1112: ScaperWarning: gun_shot event duration (3.63) is greater that source duration (0.98), changing to 0.98\n",
      "  ScaperWarning)\n",
      "/home/js7561/dev/scaper/scaper/core.py:1199: ScaperWarning: children_playing event time (8.46) is too great given stretched event duration (3.31) and soundscape duration (10.00), changed to 6.69.\n",
      "  ScaperWarning)\n",
      "/home/js7561/dev/scaper/scaper/core.py:1199: ScaperWarning: air_conditioner event time (9.76) is too great given stretched event duration (3.20) and soundscape duration (10.00), changed to 6.80.\n",
      "  ScaperWarning)\n",
      "/home/js7561/dev/scaper/scaper/core.py:1112: ScaperWarning: drilling event duration (1.38) is greater that source duration (0.46), changing to 0.46\n",
      "  ScaperWarning)\n"
     ]
    },
    {
     "name": "stdout",
     "output_type": "stream",
     "text": [
      "Generating soundscape: 334/666\n"
     ]
    },
    {
     "name": "stderr",
     "output_type": "stream",
     "text": [
      "/home/js7561/dev/scaper/scaper/core.py:1199: ScaperWarning: jackhammer event time (7.14) is too great given stretched event duration (3.11) and soundscape duration (10.00), changed to 6.89.\n",
      "  ScaperWarning)\n",
      "/home/js7561/dev/scaper/scaper/core.py:1112: ScaperWarning: car_horn event duration (2.29) is greater that source duration (0.60), changing to 0.60\n",
      "  ScaperWarning)\n",
      "/home/js7561/dev/scaper/scaper/core.py:1199: ScaperWarning: children_playing event time (8.40) is too great given stretched event duration (2.33) and soundscape duration (10.00), changed to 7.67.\n",
      "  ScaperWarning)\n",
      "/home/js7561/dev/scaper/scaper/core.py:1199: ScaperWarning: air_conditioner event time (8.54) is too great given stretched event duration (3.24) and soundscape duration (10.00), changed to 6.76.\n",
      "  ScaperWarning)\n"
     ]
    },
    {
     "name": "stdout",
     "output_type": "stream",
     "text": [
      "Generating soundscape: 335/666\n"
     ]
    },
    {
     "name": "stderr",
     "output_type": "stream",
     "text": [
      "/home/js7561/dev/scaper/scaper/core.py:1112: ScaperWarning: gun_shot event duration (3.89) is greater that source duration (2.35), changing to 2.35\n",
      "  ScaperWarning)\n",
      "/home/js7561/dev/scaper/scaper/core.py:1199: ScaperWarning: street_music event time (9.20) is too great given stretched event duration (1.54) and soundscape duration (10.00), changed to 8.46.\n",
      "  ScaperWarning)\n",
      "/home/js7561/dev/scaper/scaper/core.py:1112: ScaperWarning: car_horn event duration (2.89) is greater that source duration (1.20), changing to 1.20\n",
      "  ScaperWarning)\n",
      "/home/js7561/dev/scaper/scaper/core.py:1112: ScaperWarning: gun_shot event duration (2.37) is greater that source duration (1.55), changing to 1.55\n",
      "  ScaperWarning)\n",
      "/home/js7561/dev/scaper/scaper/core.py:1199: ScaperWarning: car_horn event time (7.29) is too great given stretched event duration (2.76) and soundscape duration (10.00), changed to 7.24.\n",
      "  ScaperWarning)\n"
     ]
    },
    {
     "name": "stdout",
     "output_type": "stream",
     "text": [
      "Generating soundscape: 336/666\n"
     ]
    },
    {
     "name": "stderr",
     "output_type": "stream",
     "text": [
      "/home/js7561/dev/scaper/scaper/core.py:1112: ScaperWarning: car_horn event duration (3.98) is greater that source duration (0.24), changing to 0.24\n",
      "  ScaperWarning)\n",
      "/home/js7561/dev/scaper/scaper/core.py:1112: ScaperWarning: gun_shot event duration (3.76) is greater that source duration (1.38), changing to 1.38\n",
      "  ScaperWarning)\n",
      "/home/js7561/dev/scaper/scaper/core.py:1199: ScaperWarning: jackhammer event time (6.34) is too great given stretched event duration (3.87) and soundscape duration (10.00), changed to 6.13.\n",
      "  ScaperWarning)\n"
     ]
    },
    {
     "name": "stdout",
     "output_type": "stream",
     "text": [
      "Generating soundscape: 337/666\n",
      "Generating soundscape: 338/666\n"
     ]
    },
    {
     "name": "stderr",
     "output_type": "stream",
     "text": [
      "/home/js7561/dev/scaper/scaper/core.py:1112: ScaperWarning: car_horn event duration (2.17) is greater that source duration (0.28), changing to 0.28\n",
      "  ScaperWarning)\n",
      "/home/js7561/dev/scaper/scaper/core.py:1112: ScaperWarning: gun_shot event duration (2.35) is greater that source duration (1.33), changing to 1.33\n",
      "  ScaperWarning)\n"
     ]
    },
    {
     "name": "stdout",
     "output_type": "stream",
     "text": [
      "Generating soundscape: 339/666\n"
     ]
    },
    {
     "name": "stderr",
     "output_type": "stream",
     "text": [
      "/home/js7561/dev/scaper/scaper/core.py:1112: ScaperWarning: car_horn event duration (1.19) is greater that source duration (0.66), changing to 0.66\n",
      "  ScaperWarning)\n",
      "/home/js7561/dev/scaper/scaper/core.py:1199: ScaperWarning: car_horn event time (7.58) is too great given stretched event duration (3.47) and soundscape duration (10.00), changed to 6.53.\n",
      "  ScaperWarning)\n",
      "/home/js7561/dev/scaper/scaper/core.py:1112: ScaperWarning: gun_shot event duration (3.58) is greater that source duration (0.90), changing to 0.90\n",
      "  ScaperWarning)\n",
      "/home/js7561/dev/scaper/scaper/core.py:1112: ScaperWarning: car_horn event duration (1.00) is greater that source duration (0.62), changing to 0.62\n",
      "  ScaperWarning)\n",
      "/home/js7561/dev/scaper/scaper/core.py:1199: ScaperWarning: car_horn event time (9.73) is too great given stretched event duration (0.56) and soundscape duration (10.00), changed to 9.44.\n",
      "  ScaperWarning)\n"
     ]
    },
    {
     "name": "stdout",
     "output_type": "stream",
     "text": [
      "Generating soundscape: 340/666\n"
     ]
    },
    {
     "name": "stderr",
     "output_type": "stream",
     "text": [
      "/home/js7561/dev/scaper/scaper/core.py:1112: ScaperWarning: gun_shot event duration (3.91) is greater that source duration (1.37), changing to 1.37\n",
      "  ScaperWarning)\n",
      "/home/js7561/dev/scaper/scaper/core.py:1199: ScaperWarning: street_music event time (7.38) is too great given stretched event duration (3.30) and soundscape duration (10.00), changed to 6.70.\n",
      "  ScaperWarning)\n",
      "/home/js7561/dev/scaper/scaper/core.py:1112: ScaperWarning: gun_shot event duration (3.40) is greater that source duration (1.02), changing to 1.02\n",
      "  ScaperWarning)\n"
     ]
    },
    {
     "name": "stdout",
     "output_type": "stream",
     "text": [
      "Generating soundscape: 341/666\n"
     ]
    },
    {
     "name": "stderr",
     "output_type": "stream",
     "text": [
      "/home/js7561/dev/scaper/scaper/core.py:1112: ScaperWarning: car_horn event duration (3.14) is greater that source duration (1.21), changing to 1.21\n",
      "  ScaperWarning)\n",
      "/home/js7561/dev/scaper/scaper/core.py:1199: ScaperWarning: dog_bark event time (8.89) is too great given stretched event duration (2.62) and soundscape duration (10.00), changed to 7.38.\n",
      "  ScaperWarning)\n"
     ]
    },
    {
     "name": "stdout",
     "output_type": "stream",
     "text": [
      "Generating soundscape: 342/666\n"
     ]
    },
    {
     "name": "stderr",
     "output_type": "stream",
     "text": [
      "/home/js7561/dev/scaper/scaper/core.py:1199: ScaperWarning: street_music event time (8.03) is too great given stretched event duration (4.05) and soundscape duration (10.00), changed to 5.95.\n",
      "  ScaperWarning)\n"
     ]
    },
    {
     "name": "stdout",
     "output_type": "stream",
     "text": [
      "Generating soundscape: 343/666\n"
     ]
    },
    {
     "name": "stderr",
     "output_type": "stream",
     "text": [
      "/home/js7561/dev/scaper/scaper/core.py:1199: ScaperWarning: jackhammer event time (9.43) is too great given stretched event duration (0.91) and soundscape duration (10.00), changed to 9.09.\n",
      "  ScaperWarning)\n",
      "/home/js7561/dev/scaper/scaper/core.py:1199: ScaperWarning: air_conditioner event time (7.38) is too great given stretched event duration (3.09) and soundscape duration (10.00), changed to 6.91.\n",
      "  ScaperWarning)\n",
      "/home/js7561/dev/scaper/scaper/core.py:1112: ScaperWarning: dog_bark event duration (3.57) is greater that source duration (1.19), changing to 1.19\n",
      "  ScaperWarning)\n"
     ]
    },
    {
     "name": "stdout",
     "output_type": "stream",
     "text": [
      "Generating soundscape: 344/666\n"
     ]
    },
    {
     "name": "stderr",
     "output_type": "stream",
     "text": [
      "/home/js7561/dev/scaper/scaper/core.py:1112: ScaperWarning: gun_shot event duration (1.73) is greater that source duration (1.66), changing to 1.66\n",
      "  ScaperWarning)\n",
      "/home/js7561/dev/scaper/scaper/core.py:1112: ScaperWarning: dog_bark event duration (3.14) is greater that source duration (1.00), changing to 1.00\n",
      "  ScaperWarning)\n"
     ]
    },
    {
     "name": "stdout",
     "output_type": "stream",
     "text": [
      "Generating soundscape: 345/666\n",
      "Generating soundscape: 346/666\n"
     ]
    },
    {
     "name": "stderr",
     "output_type": "stream",
     "text": [
      "/home/js7561/dev/scaper/scaper/core.py:1199: ScaperWarning: street_music event time (8.39) is too great given stretched event duration (1.80) and soundscape duration (10.00), changed to 8.20.\n",
      "  ScaperWarning)\n",
      "/home/js7561/dev/scaper/scaper/core.py:1199: ScaperWarning: car_horn event time (6.04) is too great given stretched event duration (4.14) and soundscape duration (10.00), changed to 5.86.\n",
      "  ScaperWarning)\n"
     ]
    },
    {
     "name": "stdout",
     "output_type": "stream",
     "text": [
      "Generating soundscape: 347/666\n",
      "Generating soundscape: 348/666\n"
     ]
    },
    {
     "name": "stderr",
     "output_type": "stream",
     "text": [
      "/home/js7561/dev/scaper/scaper/core.py:1199: ScaperWarning: siren event time (8.15) is too great given stretched event duration (1.91) and soundscape duration (10.00), changed to 8.09.\n",
      "  ScaperWarning)\n"
     ]
    },
    {
     "name": "stdout",
     "output_type": "stream",
     "text": [
      "Generating soundscape: 349/666\n"
     ]
    },
    {
     "name": "stderr",
     "output_type": "stream",
     "text": [
      "/home/js7561/dev/scaper/scaper/core.py:1112: ScaperWarning: gun_shot event duration (2.85) is greater that source duration (2.35), changing to 2.35\n",
      "  ScaperWarning)\n"
     ]
    },
    {
     "name": "stdout",
     "output_type": "stream",
     "text": [
      "Generating soundscape: 350/666\n"
     ]
    },
    {
     "name": "stderr",
     "output_type": "stream",
     "text": [
      "/home/js7561/dev/scaper/scaper/core.py:1199: ScaperWarning: engine_idling event time (7.26) is too great given stretched event duration (3.46) and soundscape duration (10.00), changed to 6.54.\n",
      "  ScaperWarning)\n",
      "/home/js7561/dev/scaper/scaper/core.py:1112: ScaperWarning: gun_shot event duration (2.68) is greater that source duration (1.15), changing to 1.15\n",
      "  ScaperWarning)\n"
     ]
    },
    {
     "name": "stdout",
     "output_type": "stream",
     "text": [
      "Generating soundscape: 351/666\n",
      "Generating soundscape: 352/666\n"
     ]
    },
    {
     "name": "stderr",
     "output_type": "stream",
     "text": [
      "/home/js7561/dev/scaper/scaper/core.py:1112: ScaperWarning: gun_shot event duration (3.83) is greater that source duration (1.02), changing to 1.02\n",
      "  ScaperWarning)\n",
      "/home/js7561/dev/scaper/scaper/core.py:1112: ScaperWarning: gun_shot event duration (3.75) is greater that source duration (3.25), changing to 3.25\n",
      "  ScaperWarning)\n"
     ]
    },
    {
     "name": "stdout",
     "output_type": "stream",
     "text": [
      "Generating soundscape: 353/666\n"
     ]
    },
    {
     "name": "stderr",
     "output_type": "stream",
     "text": [
      "/home/js7561/dev/scaper/scaper/core.py:1112: ScaperWarning: dog_bark event duration (2.87) is greater that source duration (0.59), changing to 0.59\n",
      "  ScaperWarning)\n",
      "/home/js7561/dev/scaper/scaper/core.py:1112: ScaperWarning: car_horn event duration (3.18) is greater that source duration (0.48), changing to 0.48\n",
      "  ScaperWarning)\n",
      "/home/js7561/dev/scaper/scaper/core.py:1112: ScaperWarning: car_horn event duration (1.25) is greater that source duration (0.28), changing to 0.28\n",
      "  ScaperWarning)\n"
     ]
    },
    {
     "name": "stdout",
     "output_type": "stream",
     "text": [
      "Generating soundscape: 354/666\n"
     ]
    },
    {
     "name": "stderr",
     "output_type": "stream",
     "text": [
      "/home/js7561/dev/scaper/scaper/core.py:1112: ScaperWarning: gun_shot event duration (3.07) is greater that source duration (1.90), changing to 1.90\n",
      "  ScaperWarning)\n"
     ]
    },
    {
     "name": "stdout",
     "output_type": "stream",
     "text": [
      "Generating soundscape: 355/666\n",
      "Generating soundscape: 356/666\n"
     ]
    },
    {
     "name": "stderr",
     "output_type": "stream",
     "text": [
      "/home/js7561/dev/scaper/scaper/core.py:1112: ScaperWarning: car_horn event duration (0.62) is greater that source duration (0.60), changing to 0.60\n",
      "  ScaperWarning)\n"
     ]
    },
    {
     "name": "stdout",
     "output_type": "stream",
     "text": [
      "Generating soundscape: 357/666\n"
     ]
    },
    {
     "name": "stderr",
     "output_type": "stream",
     "text": [
      "/home/js7561/dev/scaper/scaper/core.py:1199: ScaperWarning: dog_bark event time (8.08) is too great given stretched event duration (2.63) and soundscape duration (10.00), changed to 7.37.\n",
      "  ScaperWarning)\n",
      "/home/js7561/dev/scaper/scaper/core.py:1112: ScaperWarning: dog_bark event duration (1.49) is greater that source duration (0.70), changing to 0.70\n",
      "  ScaperWarning)\n",
      "/home/js7561/dev/scaper/scaper/core.py:1199: ScaperWarning: dog_bark event time (8.37) is too great given stretched event duration (2.06) and soundscape duration (10.00), changed to 7.94.\n",
      "  ScaperWarning)\n"
     ]
    },
    {
     "name": "stdout",
     "output_type": "stream",
     "text": [
      "Generating soundscape: 358/666\n",
      "Generating soundscape: 359/666\n"
     ]
    },
    {
     "name": "stderr",
     "output_type": "stream",
     "text": [
      "/home/js7561/dev/scaper/scaper/core.py:1112: ScaperWarning: car_horn event duration (2.49) is greater that source duration (2.05), changing to 2.05\n",
      "  ScaperWarning)\n"
     ]
    },
    {
     "name": "stdout",
     "output_type": "stream",
     "text": [
      "Generating soundscape: 360/666\n"
     ]
    },
    {
     "name": "stderr",
     "output_type": "stream",
     "text": [
      "/home/js7561/dev/scaper/scaper/core.py:1112: ScaperWarning: dog_bark event duration (3.65) is greater that source duration (1.15), changing to 1.15\n",
      "  ScaperWarning)\n",
      "/home/js7561/dev/scaper/scaper/core.py:1112: ScaperWarning: gun_shot event duration (1.81) is greater that source duration (1.79), changing to 1.79\n",
      "  ScaperWarning)\n"
     ]
    },
    {
     "name": "stdout",
     "output_type": "stream",
     "text": [
      "Generating soundscape: 361/666\n",
      "Generating soundscape: 362/666\n"
     ]
    },
    {
     "name": "stderr",
     "output_type": "stream",
     "text": [
      "/home/js7561/dev/scaper/scaper/core.py:1199: ScaperWarning: engine_idling event time (6.41) is too great given stretched event duration (3.74) and soundscape duration (10.00), changed to 6.26.\n",
      "  ScaperWarning)\n",
      "/home/js7561/dev/scaper/scaper/core.py:1199: ScaperWarning: drilling event time (8.88) is too great given stretched event duration (1.95) and soundscape duration (10.00), changed to 8.05.\n",
      "  ScaperWarning)\n",
      "/home/js7561/dev/scaper/scaper/core.py:1112: ScaperWarning: dog_bark event duration (1.67) is greater that source duration (1.41), changing to 1.41\n",
      "  ScaperWarning)\n"
     ]
    },
    {
     "name": "stdout",
     "output_type": "stream",
     "text": [
      "Generating soundscape: 363/666\n"
     ]
    },
    {
     "name": "stderr",
     "output_type": "stream",
     "text": [
      "/home/js7561/dev/scaper/scaper/core.py:1112: ScaperWarning: car_horn event duration (1.66) is greater that source duration (1.46), changing to 1.46\n",
      "  ScaperWarning)\n"
     ]
    },
    {
     "name": "stdout",
     "output_type": "stream",
     "text": [
      "Generating soundscape: 364/666\n"
     ]
    },
    {
     "name": "stderr",
     "output_type": "stream",
     "text": [
      "/home/js7561/dev/scaper/scaper/core.py:1199: ScaperWarning: street_music event time (8.75) is too great given stretched event duration (1.64) and soundscape duration (10.00), changed to 8.36.\n",
      "  ScaperWarning)\n"
     ]
    },
    {
     "name": "stdout",
     "output_type": "stream",
     "text": [
      "Generating soundscape: 365/666\n"
     ]
    },
    {
     "name": "stderr",
     "output_type": "stream",
     "text": [
      "/home/js7561/dev/scaper/scaper/core.py:1199: ScaperWarning: jackhammer event time (9.40) is too great given stretched event duration (3.50) and soundscape duration (10.00), changed to 6.50.\n",
      "  ScaperWarning)\n",
      "/home/js7561/dev/scaper/scaper/core.py:1112: ScaperWarning: car_horn event duration (2.65) is greater that source duration (0.28), changing to 0.28\n",
      "  ScaperWarning)\n",
      "/home/js7561/dev/scaper/scaper/core.py:1112: ScaperWarning: siren event duration (2.48) is greater that source duration (1.63), changing to 1.63\n",
      "  ScaperWarning)\n"
     ]
    },
    {
     "name": "stdout",
     "output_type": "stream",
     "text": [
      "Generating soundscape: 366/666\n",
      "Generating soundscape: 367/666\n"
     ]
    },
    {
     "name": "stderr",
     "output_type": "stream",
     "text": [
      "/home/js7561/dev/scaper/scaper/core.py:1199: ScaperWarning: air_conditioner event time (7.80) is too great given stretched event duration (3.59) and soundscape duration (10.00), changed to 6.41.\n",
      "  ScaperWarning)\n",
      "/home/js7561/dev/scaper/scaper/core.py:1112: ScaperWarning: gun_shot event duration (2.22) is greater that source duration (1.33), changing to 1.33\n",
      "  ScaperWarning)\n",
      "/home/js7561/dev/scaper/scaper/core.py:1112: ScaperWarning: car_horn event duration (2.26) is greater that source duration (0.17), changing to 0.17\n",
      "  ScaperWarning)\n"
     ]
    },
    {
     "name": "stdout",
     "output_type": "stream",
     "text": [
      "Generating soundscape: 368/666\n"
     ]
    },
    {
     "name": "stderr",
     "output_type": "stream",
     "text": [
      "/home/js7561/dev/scaper/scaper/core.py:1199: ScaperWarning: engine_idling event time (8.05) is too great given stretched event duration (1.97) and soundscape duration (10.00), changed to 8.03.\n",
      "  ScaperWarning)\n"
     ]
    },
    {
     "name": "stdout",
     "output_type": "stream",
     "text": [
      "Generating soundscape: 369/666\n"
     ]
    },
    {
     "name": "stderr",
     "output_type": "stream",
     "text": [
      "/home/js7561/dev/scaper/scaper/core.py:1199: ScaperWarning: drilling event time (9.62) is too great given stretched event duration (4.01) and soundscape duration (10.00), changed to 5.99.\n",
      "  ScaperWarning)\n",
      "/home/js7561/dev/scaper/scaper/core.py:1112: ScaperWarning: gun_shot event duration (3.88) is greater that source duration (2.95), changing to 2.95\n",
      "  ScaperWarning)\n",
      "/home/js7561/dev/scaper/scaper/core.py:1199: ScaperWarning: engine_idling event time (8.62) is too great given stretched event duration (3.01) and soundscape duration (10.00), changed to 6.99.\n",
      "  ScaperWarning)\n",
      "/home/js7561/dev/scaper/scaper/core.py:1112: ScaperWarning: gun_shot event duration (2.00) is greater that source duration (1.09), changing to 1.09\n",
      "  ScaperWarning)\n"
     ]
    },
    {
     "name": "stdout",
     "output_type": "stream",
     "text": [
      "Generating soundscape: 370/666\n"
     ]
    },
    {
     "name": "stderr",
     "output_type": "stream",
     "text": [
      "/home/js7561/dev/scaper/scaper/core.py:1112: ScaperWarning: gun_shot event duration (2.45) is greater that source duration (1.93), changing to 1.93\n",
      "  ScaperWarning)\n"
     ]
    },
    {
     "name": "stdout",
     "output_type": "stream",
     "text": [
      "Generating soundscape: 371/666\n",
      "Generating soundscape: 372/666\n"
     ]
    },
    {
     "name": "stderr",
     "output_type": "stream",
     "text": [
      "/home/js7561/dev/scaper/scaper/core.py:1199: ScaperWarning: gun_shot event time (9.59) is too great given stretched event duration (1.11) and soundscape duration (10.00), changed to 8.89.\n",
      "  ScaperWarning)\n",
      "/home/js7561/dev/scaper/scaper/core.py:1112: ScaperWarning: jackhammer event duration (3.33) is greater that source duration (2.65), changing to 2.65\n",
      "  ScaperWarning)\n",
      "/home/js7561/dev/scaper/scaper/core.py:1199: ScaperWarning: engine_idling event time (5.85) is too great given stretched event duration (4.20) and soundscape duration (10.00), changed to 5.80.\n",
      "  ScaperWarning)\n",
      "/home/js7561/dev/scaper/scaper/core.py:1112: ScaperWarning: car_horn event duration (2.59) is greater that source duration (0.65), changing to 0.65\n",
      "  ScaperWarning)\n"
     ]
    },
    {
     "name": "stdout",
     "output_type": "stream",
     "text": [
      "Generating soundscape: 373/666\n"
     ]
    },
    {
     "name": "stderr",
     "output_type": "stream",
     "text": [
      "/home/js7561/dev/scaper/scaper/core.py:1112: ScaperWarning: car_horn event duration (0.93) is greater that source duration (0.48), changing to 0.48\n",
      "  ScaperWarning)\n",
      "/home/js7561/dev/scaper/scaper/core.py:1112: ScaperWarning: gun_shot event duration (1.85) is greater that source duration (1.68), changing to 1.68\n",
      "  ScaperWarning)\n"
     ]
    },
    {
     "name": "stdout",
     "output_type": "stream",
     "text": [
      "Generating soundscape: 374/666\n"
     ]
    },
    {
     "name": "stderr",
     "output_type": "stream",
     "text": [
      "/home/js7561/dev/scaper/scaper/core.py:1112: ScaperWarning: gun_shot event duration (2.18) is greater that source duration (1.92), changing to 1.92\n",
      "  ScaperWarning)\n",
      "/home/js7561/dev/scaper/scaper/core.py:1199: ScaperWarning: drilling event time (6.65) is too great given stretched event duration (3.43) and soundscape duration (10.00), changed to 6.57.\n",
      "  ScaperWarning)\n"
     ]
    },
    {
     "name": "stdout",
     "output_type": "stream",
     "text": [
      "Generating soundscape: 375/666\n",
      "Generating soundscape: 376/666\n"
     ]
    },
    {
     "name": "stderr",
     "output_type": "stream",
     "text": [
      "/home/js7561/dev/scaper/scaper/core.py:1112: ScaperWarning: gun_shot event duration (2.54) is greater that source duration (0.50), changing to 0.50\n",
      "  ScaperWarning)\n",
      "/home/js7561/dev/scaper/scaper/core.py:1112: ScaperWarning: car_horn event duration (3.17) is greater that source duration (1.21), changing to 1.21\n",
      "  ScaperWarning)\n"
     ]
    },
    {
     "name": "stdout",
     "output_type": "stream",
     "text": [
      "Generating soundscape: 377/666\n",
      "Generating soundscape: 378/666\n"
     ]
    },
    {
     "name": "stderr",
     "output_type": "stream",
     "text": [
      "/home/js7561/dev/scaper/scaper/core.py:1112: ScaperWarning: gun_shot event duration (3.74) is greater that source duration (1.38), changing to 1.38\n",
      "  ScaperWarning)\n",
      "/home/js7561/dev/scaper/scaper/core.py:1112: ScaperWarning: dog_bark event duration (3.37) is greater that source duration (2.14), changing to 2.14\n",
      "  ScaperWarning)\n",
      "/home/js7561/dev/scaper/scaper/core.py:1199: ScaperWarning: dog_bark event time (9.26) is too great given stretched event duration (2.19) and soundscape duration (10.00), changed to 7.81.\n",
      "  ScaperWarning)\n",
      "/home/js7561/dev/scaper/scaper/core.py:1112: ScaperWarning: gun_shot event duration (2.81) is greater that source duration (2.08), changing to 2.08\n",
      "  ScaperWarning)\n",
      "/home/js7561/dev/scaper/scaper/core.py:1112: ScaperWarning: car_horn event duration (2.66) is greater that source duration (1.16), changing to 1.16\n",
      "  ScaperWarning)\n"
     ]
    },
    {
     "name": "stdout",
     "output_type": "stream",
     "text": [
      "Generating soundscape: 379/666\n"
     ]
    },
    {
     "name": "stderr",
     "output_type": "stream",
     "text": [
      "/home/js7561/dev/scaper/scaper/core.py:1199: ScaperWarning: gun_shot event time (9.15) is too great given stretched event duration (2.32) and soundscape duration (10.00), changed to 7.68.\n",
      "  ScaperWarning)\n"
     ]
    },
    {
     "name": "stdout",
     "output_type": "stream",
     "text": [
      "Generating soundscape: 380/666\n"
     ]
    },
    {
     "name": "stderr",
     "output_type": "stream",
     "text": [
      "/home/js7561/dev/scaper/scaper/core.py:1112: ScaperWarning: gun_shot event duration (3.93) is greater that source duration (2.95), changing to 2.95\n",
      "  ScaperWarning)\n",
      "/home/js7561/dev/scaper/scaper/core.py:1112: ScaperWarning: gun_shot event duration (3.14) is greater that source duration (0.90), changing to 0.90\n",
      "  ScaperWarning)\n",
      "/home/js7561/dev/scaper/scaper/core.py:1112: ScaperWarning: car_horn event duration (3.90) is greater that source duration (0.85), changing to 0.85\n",
      "  ScaperWarning)\n"
     ]
    },
    {
     "name": "stdout",
     "output_type": "stream",
     "text": [
      "Generating soundscape: 381/666\n"
     ]
    },
    {
     "name": "stderr",
     "output_type": "stream",
     "text": [
      "/home/js7561/dev/scaper/scaper/core.py:1112: ScaperWarning: gun_shot event duration (2.96) is greater that source duration (0.90), changing to 0.90\n",
      "  ScaperWarning)\n",
      "/home/js7561/dev/scaper/scaper/core.py:1112: ScaperWarning: car_horn event duration (1.75) is greater that source duration (1.29), changing to 1.29\n",
      "  ScaperWarning)\n",
      "/home/js7561/dev/scaper/scaper/core.py:1199: ScaperWarning: engine_idling event time (7.39) is too great given stretched event duration (3.02) and soundscape duration (10.00), changed to 6.98.\n",
      "  ScaperWarning)\n"
     ]
    },
    {
     "name": "stdout",
     "output_type": "stream",
     "text": [
      "Generating soundscape: 382/666\n"
     ]
    },
    {
     "name": "stderr",
     "output_type": "stream",
     "text": [
      "/home/js7561/dev/scaper/scaper/core.py:1112: ScaperWarning: gun_shot event duration (1.37) is greater that source duration (0.50), changing to 0.50\n",
      "  ScaperWarning)\n"
     ]
    },
    {
     "name": "stdout",
     "output_type": "stream",
     "text": [
      "Generating soundscape: 383/666\n"
     ]
    },
    {
     "name": "stderr",
     "output_type": "stream",
     "text": [
      "/home/js7561/dev/scaper/scaper/core.py:1199: ScaperWarning: car_horn event time (8.16) is too great given stretched event duration (2.95) and soundscape duration (10.00), changed to 7.05.\n",
      "  ScaperWarning)\n",
      "/home/js7561/dev/scaper/scaper/core.py:1112: ScaperWarning: car_horn event duration (3.12) is greater that source duration (1.74), changing to 1.74\n",
      "  ScaperWarning)\n",
      "/home/js7561/dev/scaper/scaper/core.py:1199: ScaperWarning: air_conditioner event time (9.41) is too great given stretched event duration (2.16) and soundscape duration (10.00), changed to 7.84.\n",
      "  ScaperWarning)\n"
     ]
    },
    {
     "name": "stdout",
     "output_type": "stream",
     "text": [
      "Generating soundscape: 384/666\n"
     ]
    },
    {
     "name": "stderr",
     "output_type": "stream",
     "text": [
      "/home/js7561/dev/scaper/scaper/core.py:1199: ScaperWarning: children_playing event time (8.55) is too great given stretched event duration (3.35) and soundscape duration (10.00), changed to 6.65.\n",
      "  ScaperWarning)\n"
     ]
    },
    {
     "name": "stdout",
     "output_type": "stream",
     "text": [
      "Generating soundscape: 385/666\n"
     ]
    },
    {
     "name": "stderr",
     "output_type": "stream",
     "text": [
      "/home/js7561/dev/scaper/scaper/core.py:1112: ScaperWarning: gun_shot event duration (3.88) is greater that source duration (0.90), changing to 0.90\n",
      "  ScaperWarning)\n",
      "/home/js7561/dev/scaper/scaper/core.py:1112: ScaperWarning: siren event duration (1.69) is greater that source duration (1.53), changing to 1.53\n",
      "  ScaperWarning)\n",
      "/home/js7561/dev/scaper/scaper/core.py:1199: ScaperWarning: siren event time (8.63) is too great given stretched event duration (1.40) and soundscape duration (10.00), changed to 8.60.\n",
      "  ScaperWarning)\n"
     ]
    },
    {
     "name": "stdout",
     "output_type": "stream",
     "text": [
      "Generating soundscape: 386/666\n",
      "Generating soundscape: 387/666\n"
     ]
    },
    {
     "name": "stderr",
     "output_type": "stream",
     "text": [
      "/home/js7561/dev/scaper/scaper/core.py:1199: ScaperWarning: street_music event time (9.45) is too great given stretched event duration (3.33) and soundscape duration (10.00), changed to 6.67.\n",
      "  ScaperWarning)\n",
      "/home/js7561/dev/scaper/scaper/core.py:1199: ScaperWarning: engine_idling event time (9.02) is too great given stretched event duration (1.34) and soundscape duration (10.00), changed to 8.66.\n",
      "  ScaperWarning)\n",
      "/home/js7561/dev/scaper/scaper/core.py:1112: ScaperWarning: car_horn event duration (2.29) is greater that source duration (1.62), changing to 1.62\n",
      "  ScaperWarning)\n",
      "/home/js7561/dev/scaper/scaper/core.py:1112: ScaperWarning: drilling event duration (2.89) is greater that source duration (1.94), changing to 1.94\n",
      "  ScaperWarning)\n"
     ]
    },
    {
     "name": "stdout",
     "output_type": "stream",
     "text": [
      "Generating soundscape: 388/666\n"
     ]
    },
    {
     "name": "stderr",
     "output_type": "stream",
     "text": [
      "/home/js7561/dev/scaper/scaper/core.py:1112: ScaperWarning: car_horn event duration (1.69) is greater that source duration (0.99), changing to 0.99\n",
      "  ScaperWarning)\n"
     ]
    },
    {
     "name": "stdout",
     "output_type": "stream",
     "text": [
      "Generating soundscape: 389/666\n"
     ]
    },
    {
     "name": "stderr",
     "output_type": "stream",
     "text": [
      "/home/js7561/dev/scaper/scaper/core.py:1199: ScaperWarning: jackhammer event time (9.63) is too great given stretched event duration (1.06) and soundscape duration (10.00), changed to 8.94.\n",
      "  ScaperWarning)\n",
      "/home/js7561/dev/scaper/scaper/core.py:1199: ScaperWarning: street_music event time (9.25) is too great given stretched event duration (2.85) and soundscape duration (10.00), changed to 7.15.\n",
      "  ScaperWarning)\n"
     ]
    },
    {
     "name": "stdout",
     "output_type": "stream",
     "text": [
      "Generating soundscape: 390/666\n"
     ]
    },
    {
     "name": "stderr",
     "output_type": "stream",
     "text": [
      "/home/js7561/dev/scaper/scaper/core.py:1112: ScaperWarning: car_horn event duration (1.63) is greater that source duration (0.24), changing to 0.24\n",
      "  ScaperWarning)\n",
      "/home/js7561/dev/scaper/scaper/core.py:1199: ScaperWarning: dog_bark event time (8.80) is too great given stretched event duration (1.82) and soundscape duration (10.00), changed to 8.18.\n",
      "  ScaperWarning)\n",
      "/home/js7561/dev/scaper/scaper/core.py:1112: ScaperWarning: siren event duration (2.05) is greater that source duration (1.95), changing to 1.95\n",
      "  ScaperWarning)\n",
      "/home/js7561/dev/scaper/scaper/core.py:1112: ScaperWarning: gun_shot event duration (1.77) is greater that source duration (1.40), changing to 1.40\n",
      "  ScaperWarning)\n"
     ]
    },
    {
     "name": "stdout",
     "output_type": "stream",
     "text": [
      "Generating soundscape: 391/666\n"
     ]
    },
    {
     "name": "stderr",
     "output_type": "stream",
     "text": [
      "/home/js7561/dev/scaper/scaper/core.py:1199: ScaperWarning: street_music event time (9.07) is too great given stretched event duration (1.61) and soundscape duration (10.00), changed to 8.39.\n",
      "  ScaperWarning)\n",
      "/home/js7561/dev/scaper/scaper/core.py:1199: ScaperWarning: dog_bark event time (7.32) is too great given stretched event duration (3.23) and soundscape duration (10.00), changed to 6.77.\n",
      "  ScaperWarning)\n",
      "/home/js7561/dev/scaper/scaper/core.py:1199: ScaperWarning: children_playing event time (9.19) is too great given stretched event duration (2.72) and soundscape duration (10.00), changed to 7.28.\n",
      "  ScaperWarning)\n",
      "/home/js7561/dev/scaper/scaper/core.py:1112: ScaperWarning: drilling event duration (2.87) is greater that source duration (0.97), changing to 0.97\n",
      "  ScaperWarning)\n",
      "/home/js7561/dev/scaper/scaper/core.py:1199: ScaperWarning: drilling event time (9.82) is too great given stretched event duration (1.14) and soundscape duration (10.00), changed to 8.86.\n",
      "  ScaperWarning)\n",
      "/home/js7561/dev/scaper/scaper/core.py:1199: ScaperWarning: drilling event time (9.10) is too great given stretched event duration (1.54) and soundscape duration (10.00), changed to 8.46.\n",
      "  ScaperWarning)\n"
     ]
    },
    {
     "name": "stdout",
     "output_type": "stream",
     "text": [
      "Generating soundscape: 392/666\n",
      "Generating soundscape: 393/666\n"
     ]
    },
    {
     "name": "stderr",
     "output_type": "stream",
     "text": [
      "/home/js7561/dev/scaper/scaper/core.py:1112: ScaperWarning: jackhammer event duration (2.79) is greater that source duration (1.80), changing to 1.80\n",
      "  ScaperWarning)\n"
     ]
    },
    {
     "name": "stdout",
     "output_type": "stream",
     "text": [
      "Generating soundscape: 394/666\n"
     ]
    },
    {
     "name": "stderr",
     "output_type": "stream",
     "text": [
      "/home/js7561/dev/scaper/scaper/core.py:1199: ScaperWarning: drilling event time (8.60) is too great given stretched event duration (3.34) and soundscape duration (10.00), changed to 6.66.\n",
      "  ScaperWarning)\n"
     ]
    },
    {
     "name": "stdout",
     "output_type": "stream",
     "text": [
      "Generating soundscape: 395/666\n"
     ]
    },
    {
     "name": "stderr",
     "output_type": "stream",
     "text": [
      "/home/js7561/dev/scaper/scaper/core.py:1112: ScaperWarning: car_horn event duration (3.46) is greater that source duration (1.62), changing to 1.62\n",
      "  ScaperWarning)\n",
      "/home/js7561/dev/scaper/scaper/core.py:1199: ScaperWarning: dog_bark event time (9.63) is too great given stretched event duration (2.99) and soundscape duration (10.00), changed to 7.01.\n",
      "  ScaperWarning)\n"
     ]
    },
    {
     "name": "stdout",
     "output_type": "stream",
     "text": [
      "Generating soundscape: 396/666\n",
      "Generating soundscape: 397/666\n"
     ]
    },
    {
     "name": "stderr",
     "output_type": "stream",
     "text": [
      "/home/js7561/dev/scaper/scaper/core.py:1199: ScaperWarning: jackhammer event time (9.70) is too great given stretched event duration (2.41) and soundscape duration (10.00), changed to 7.59.\n",
      "  ScaperWarning)\n"
     ]
    },
    {
     "name": "stdout",
     "output_type": "stream",
     "text": [
      "Generating soundscape: 398/666\n"
     ]
    },
    {
     "name": "stderr",
     "output_type": "stream",
     "text": [
      "/home/js7561/dev/scaper/scaper/core.py:1112: ScaperWarning: gun_shot event duration (3.83) is greater that source duration (3.04), changing to 3.04\n",
      "  ScaperWarning)\n"
     ]
    },
    {
     "name": "stdout",
     "output_type": "stream",
     "text": [
      "Generating soundscape: 399/666\n"
     ]
    },
    {
     "name": "stderr",
     "output_type": "stream",
     "text": [
      "/home/js7561/dev/scaper/scaper/core.py:1199: ScaperWarning: drilling event time (7.16) is too great given stretched event duration (3.98) and soundscape duration (10.00), changed to 6.02.\n",
      "  ScaperWarning)\n",
      "/home/js7561/dev/scaper/scaper/core.py:1112: ScaperWarning: siren event duration (3.96) is greater that source duration (1.63), changing to 1.63\n",
      "  ScaperWarning)\n",
      "/home/js7561/dev/scaper/scaper/core.py:1112: ScaperWarning: car_horn event duration (2.58) is greater that source duration (0.68), changing to 0.68\n",
      "  ScaperWarning)\n"
     ]
    },
    {
     "name": "stdout",
     "output_type": "stream",
     "text": [
      "Generating soundscape: 400/666\n",
      "Generating soundscape: 401/666\n"
     ]
    },
    {
     "name": "stderr",
     "output_type": "stream",
     "text": [
      "/home/js7561/dev/scaper/scaper/core.py:1199: ScaperWarning: children_playing event time (8.05) is too great given stretched event duration (2.66) and soundscape duration (10.00), changed to 7.34.\n",
      "  ScaperWarning)\n",
      "/home/js7561/dev/scaper/scaper/core.py:1112: ScaperWarning: car_horn event duration (3.44) is greater that source duration (0.68), changing to 0.68\n",
      "  ScaperWarning)\n"
     ]
    },
    {
     "name": "stdout",
     "output_type": "stream",
     "text": [
      "Generating soundscape: 402/666\n"
     ]
    },
    {
     "name": "stderr",
     "output_type": "stream",
     "text": [
      "/home/js7561/dev/scaper/scaper/core.py:1199: ScaperWarning: air_conditioner event time (7.40) is too great given stretched event duration (4.44) and soundscape duration (10.00), changed to 5.56.\n",
      "  ScaperWarning)\n"
     ]
    },
    {
     "name": "stdout",
     "output_type": "stream",
     "text": [
      "Generating soundscape: 403/666\n"
     ]
    },
    {
     "name": "stderr",
     "output_type": "stream",
     "text": [
      "/home/js7561/dev/scaper/scaper/core.py:1112: ScaperWarning: gun_shot event duration (2.81) is greater that source duration (1.55), changing to 1.55\n",
      "  ScaperWarning)\n"
     ]
    },
    {
     "name": "stdout",
     "output_type": "stream",
     "text": [
      "Generating soundscape: 404/666\n"
     ]
    },
    {
     "name": "stderr",
     "output_type": "stream",
     "text": [
      "/home/js7561/dev/scaper/scaper/core.py:1112: ScaperWarning: car_horn event duration (0.56) is greater that source duration (0.24), changing to 0.24\n",
      "  ScaperWarning)\n"
     ]
    },
    {
     "name": "stdout",
     "output_type": "stream",
     "text": [
      "Generating soundscape: 405/666\n"
     ]
    },
    {
     "name": "stderr",
     "output_type": "stream",
     "text": [
      "/home/js7561/dev/scaper/scaper/core.py:1112: ScaperWarning: dog_bark event duration (3.96) is greater that source duration (0.59), changing to 0.59\n",
      "  ScaperWarning)\n",
      "/home/js7561/dev/scaper/scaper/core.py:1199: ScaperWarning: jackhammer event time (7.88) is too great given stretched event duration (3.61) and soundscape duration (10.00), changed to 6.39.\n",
      "  ScaperWarning)\n",
      "/home/js7561/dev/scaper/scaper/core.py:1112: ScaperWarning: gun_shot event duration (3.64) is greater that source duration (1.15), changing to 1.15\n",
      "  ScaperWarning)\n",
      "/home/js7561/dev/scaper/scaper/core.py:1112: ScaperWarning: dog_bark event duration (3.81) is greater that source duration (0.40), changing to 0.40\n",
      "  ScaperWarning)\n"
     ]
    },
    {
     "name": "stdout",
     "output_type": "stream",
     "text": [
      "Generating soundscape: 406/666\n"
     ]
    },
    {
     "name": "stderr",
     "output_type": "stream",
     "text": [
      "/home/js7561/dev/scaper/scaper/core.py:1199: ScaperWarning: jackhammer event time (6.79) is too great given stretched event duration (3.25) and soundscape duration (10.00), changed to 6.75.\n",
      "  ScaperWarning)\n",
      "/home/js7561/dev/scaper/scaper/core.py:1112: ScaperWarning: car_horn event duration (3.33) is greater that source duration (0.66), changing to 0.66\n",
      "  ScaperWarning)\n",
      "/home/js7561/dev/scaper/scaper/core.py:1112: ScaperWarning: dog_bark event duration (1.70) is greater that source duration (1.10), changing to 1.10\n",
      "  ScaperWarning)\n"
     ]
    },
    {
     "name": "stdout",
     "output_type": "stream",
     "text": [
      "Generating soundscape: 407/666\n",
      "Generating soundscape: 408/666\n"
     ]
    },
    {
     "name": "stderr",
     "output_type": "stream",
     "text": [
      "/home/js7561/dev/scaper/scaper/core.py:1112: ScaperWarning: gun_shot event duration (3.26) is greater that source duration (3.04), changing to 3.04\n",
      "  ScaperWarning)\n",
      "/home/js7561/dev/scaper/scaper/core.py:1199: ScaperWarning: siren event time (7.43) is too great given stretched event duration (4.05) and soundscape duration (10.00), changed to 5.95.\n",
      "  ScaperWarning)\n",
      "/home/js7561/dev/scaper/scaper/core.py:1112: ScaperWarning: drilling event duration (3.82) is greater that source duration (1.29), changing to 1.29\n",
      "  ScaperWarning)\n"
     ]
    },
    {
     "name": "stdout",
     "output_type": "stream",
     "text": [
      "Generating soundscape: 409/666\n"
     ]
    },
    {
     "name": "stderr",
     "output_type": "stream",
     "text": [
      "/home/js7561/dev/scaper/scaper/core.py:1112: ScaperWarning: car_horn event duration (3.30) is greater that source duration (1.21), changing to 1.21\n",
      "  ScaperWarning)\n"
     ]
    },
    {
     "name": "stdout",
     "output_type": "stream",
     "text": [
      "Generating soundscape: 410/666\n"
     ]
    },
    {
     "name": "stderr",
     "output_type": "stream",
     "text": [
      "/home/js7561/dev/scaper/scaper/core.py:1112: ScaperWarning: drilling event duration (1.20) is greater that source duration (1.02), changing to 1.02\n",
      "  ScaperWarning)\n",
      "/home/js7561/dev/scaper/scaper/core.py:1112: ScaperWarning: car_horn event duration (3.67) is greater that source duration (0.68), changing to 0.68\n",
      "  ScaperWarning)\n"
     ]
    },
    {
     "name": "stdout",
     "output_type": "stream",
     "text": [
      "Generating soundscape: 411/666\n",
      "Generating soundscape: 412/666\n"
     ]
    },
    {
     "name": "stderr",
     "output_type": "stream",
     "text": [
      "/home/js7561/dev/scaper/scaper/core.py:1199: ScaperWarning: drilling event time (8.73) is too great given stretched event duration (3.64) and soundscape duration (10.00), changed to 6.36.\n",
      "  ScaperWarning)\n",
      "/home/js7561/dev/scaper/scaper/core.py:1112: ScaperWarning: car_horn event duration (1.94) is greater that source duration (1.05), changing to 1.05\n",
      "  ScaperWarning)\n",
      "/home/js7561/dev/scaper/scaper/core.py:1112: ScaperWarning: gun_shot event duration (3.46) is greater that source duration (1.97), changing to 1.97\n",
      "  ScaperWarning)\n",
      "/home/js7561/dev/scaper/scaper/core.py:1199: ScaperWarning: siren event time (7.90) is too great given stretched event duration (3.47) and soundscape duration (10.00), changed to 6.53.\n",
      "  ScaperWarning)\n"
     ]
    },
    {
     "name": "stdout",
     "output_type": "stream",
     "text": [
      "Generating soundscape: 413/666\n"
     ]
    },
    {
     "name": "stderr",
     "output_type": "stream",
     "text": [
      "/home/js7561/dev/scaper/scaper/core.py:1199: ScaperWarning: engine_idling event time (8.86) is too great given stretched event duration (2.51) and soundscape duration (10.00), changed to 7.49.\n",
      "  ScaperWarning)\n"
     ]
    },
    {
     "name": "stdout",
     "output_type": "stream",
     "text": [
      "Generating soundscape: 414/666\n"
     ]
    },
    {
     "name": "stderr",
     "output_type": "stream",
     "text": [
      "/home/js7561/dev/scaper/scaper/core.py:1112: ScaperWarning: car_horn event duration (3.35) is greater that source duration (0.25), changing to 0.25\n",
      "  ScaperWarning)\n",
      "/home/js7561/dev/scaper/scaper/core.py:1199: ScaperWarning: drilling event time (9.20) is too great given stretched event duration (1.28) and soundscape duration (10.00), changed to 8.72.\n",
      "  ScaperWarning)\n"
     ]
    },
    {
     "name": "stdout",
     "output_type": "stream",
     "text": [
      "Generating soundscape: 415/666\n"
     ]
    },
    {
     "name": "stderr",
     "output_type": "stream",
     "text": [
      "/home/js7561/dev/scaper/scaper/core.py:1199: ScaperWarning: children_playing event time (6.86) is too great given stretched event duration (3.55) and soundscape duration (10.00), changed to 6.45.\n",
      "  ScaperWarning)\n"
     ]
    },
    {
     "name": "stdout",
     "output_type": "stream",
     "text": [
      "Generating soundscape: 416/666\n",
      "Generating soundscape: 417/666\n"
     ]
    },
    {
     "name": "stderr",
     "output_type": "stream",
     "text": [
      "/home/js7561/dev/scaper/scaper/core.py:1199: ScaperWarning: children_playing event time (9.61) is too great given stretched event duration (2.81) and soundscape duration (10.00), changed to 7.19.\n",
      "  ScaperWarning)\n"
     ]
    },
    {
     "name": "stdout",
     "output_type": "stream",
     "text": [
      "Generating soundscape: 418/666\n"
     ]
    },
    {
     "name": "stderr",
     "output_type": "stream",
     "text": [
      "/home/js7561/dev/scaper/scaper/core.py:1199: ScaperWarning: jackhammer event time (7.75) is too great given stretched event duration (2.47) and soundscape duration (10.00), changed to 7.53.\n",
      "  ScaperWarning)\n"
     ]
    },
    {
     "name": "stdout",
     "output_type": "stream",
     "text": [
      "Generating soundscape: 419/666\n"
     ]
    },
    {
     "name": "stderr",
     "output_type": "stream",
     "text": [
      "/home/js7561/dev/scaper/scaper/core.py:1112: ScaperWarning: drilling event duration (2.17) is greater that source duration (1.73), changing to 1.73\n",
      "  ScaperWarning)\n",
      "/home/js7561/dev/scaper/scaper/core.py:1112: ScaperWarning: gun_shot event duration (2.77) is greater that source duration (1.77), changing to 1.77\n",
      "  ScaperWarning)\n",
      "/home/js7561/dev/scaper/scaper/core.py:1112: ScaperWarning: dog_bark event duration (3.71) is greater that source duration (2.28), changing to 2.28\n",
      "  ScaperWarning)\n",
      "/home/js7561/dev/scaper/scaper/core.py:1199: ScaperWarning: dog_bark event time (8.86) is too great given stretched event duration (2.04) and soundscape duration (10.00), changed to 7.96.\n",
      "  ScaperWarning)\n",
      "/home/js7561/dev/scaper/scaper/core.py:1112: ScaperWarning: gun_shot event duration (3.52) is greater that source duration (1.97), changing to 1.97\n",
      "  ScaperWarning)\n"
     ]
    },
    {
     "name": "stdout",
     "output_type": "stream",
     "text": [
      "Generating soundscape: 420/666\n"
     ]
    },
    {
     "name": "stderr",
     "output_type": "stream",
     "text": [
      "/home/js7561/dev/scaper/scaper/core.py:1112: ScaperWarning: drilling event duration (2.41) is greater that source duration (0.55), changing to 0.55\n",
      "  ScaperWarning)\n",
      "/home/js7561/dev/scaper/scaper/core.py:1112: ScaperWarning: car_horn event duration (0.56) is greater that source duration (0.39), changing to 0.39\n",
      "  ScaperWarning)\n"
     ]
    },
    {
     "name": "stdout",
     "output_type": "stream",
     "text": [
      "Generating soundscape: 421/666\n"
     ]
    },
    {
     "name": "stderr",
     "output_type": "stream",
     "text": [
      "/home/js7561/dev/scaper/scaper/core.py:1112: ScaperWarning: gun_shot event duration (1.35) is greater that source duration (0.92), changing to 0.92\n",
      "  ScaperWarning)\n",
      "/home/js7561/dev/scaper/scaper/core.py:1199: ScaperWarning: dog_bark event time (6.62) is too great given stretched event duration (3.50) and soundscape duration (10.00), changed to 6.50.\n",
      "  ScaperWarning)\n",
      "/home/js7561/dev/scaper/scaper/core.py:1199: ScaperWarning: jackhammer event time (7.24) is too great given stretched event duration (3.54) and soundscape duration (10.00), changed to 6.46.\n",
      "  ScaperWarning)\n"
     ]
    },
    {
     "name": "stdout",
     "output_type": "stream",
     "text": [
      "Generating soundscape: 422/666\n"
     ]
    },
    {
     "name": "stderr",
     "output_type": "stream",
     "text": [
      "/home/js7561/dev/scaper/scaper/core.py:1112: ScaperWarning: dog_bark event duration (3.00) is greater that source duration (1.29), changing to 1.29\n",
      "  ScaperWarning)\n",
      "/home/js7561/dev/scaper/scaper/core.py:1199: ScaperWarning: siren event time (8.70) is too great given stretched event duration (3.10) and soundscape duration (10.00), changed to 6.90.\n",
      "  ScaperWarning)\n",
      "/home/js7561/dev/scaper/scaper/core.py:1112: ScaperWarning: car_horn event duration (3.70) is greater that source duration (0.24), changing to 0.24\n",
      "  ScaperWarning)\n"
     ]
    },
    {
     "name": "stdout",
     "output_type": "stream",
     "text": [
      "Generating soundscape: 423/666\n"
     ]
    },
    {
     "name": "stderr",
     "output_type": "stream",
     "text": [
      "/home/js7561/dev/scaper/scaper/core.py:1112: ScaperWarning: car_horn event duration (2.40) is greater that source duration (1.86), changing to 1.86\n",
      "  ScaperWarning)\n"
     ]
    },
    {
     "name": "stdout",
     "output_type": "stream",
     "text": [
      "Generating soundscape: 424/666\n"
     ]
    },
    {
     "name": "stderr",
     "output_type": "stream",
     "text": [
      "/home/js7561/dev/scaper/scaper/core.py:1112: ScaperWarning: gun_shot event duration (1.27) is greater that source duration (1.25), changing to 1.25\n",
      "  ScaperWarning)\n",
      "/home/js7561/dev/scaper/scaper/core.py:1112: ScaperWarning: car_horn event duration (1.34) is greater that source duration (1.20), changing to 1.20\n",
      "  ScaperWarning)\n",
      "/home/js7561/dev/scaper/scaper/core.py:1199: ScaperWarning: siren event time (8.22) is too great given stretched event duration (3.05) and soundscape duration (10.00), changed to 6.95.\n",
      "  ScaperWarning)\n"
     ]
    },
    {
     "name": "stdout",
     "output_type": "stream",
     "text": [
      "Generating soundscape: 425/666\n"
     ]
    },
    {
     "name": "stderr",
     "output_type": "stream",
     "text": [
      "/home/js7561/dev/scaper/scaper/core.py:1112: ScaperWarning: children_playing event duration (3.40) is greater that source duration (2.54), changing to 2.54\n",
      "  ScaperWarning)\n",
      "/home/js7561/dev/scaper/scaper/core.py:1199: ScaperWarning: children_playing event time (8.48) is too great given stretched event duration (2.20) and soundscape duration (10.00), changed to 7.80.\n",
      "  ScaperWarning)\n",
      "/home/js7561/dev/scaper/scaper/core.py:1112: ScaperWarning: gun_shot event duration (3.49) is greater that source duration (1.37), changing to 1.37\n",
      "  ScaperWarning)\n"
     ]
    },
    {
     "name": "stdout",
     "output_type": "stream",
     "text": [
      "Generating soundscape: 426/666\n"
     ]
    },
    {
     "name": "stderr",
     "output_type": "stream",
     "text": [
      "/home/js7561/dev/scaper/scaper/core.py:1112: ScaperWarning: car_horn event duration (1.68) is greater that source duration (0.66), changing to 0.66\n",
      "  ScaperWarning)\n",
      "/home/js7561/dev/scaper/scaper/core.py:1199: ScaperWarning: engine_idling event time (8.23) is too great given stretched event duration (2.86) and soundscape duration (10.00), changed to 7.14.\n",
      "  ScaperWarning)\n"
     ]
    },
    {
     "name": "stdout",
     "output_type": "stream",
     "text": [
      "Generating soundscape: 427/666\n"
     ]
    },
    {
     "name": "stderr",
     "output_type": "stream",
     "text": [
      "/home/js7561/dev/scaper/scaper/core.py:1112: ScaperWarning: gun_shot event duration (3.31) is greater that source duration (1.97), changing to 1.97\n",
      "  ScaperWarning)\n"
     ]
    },
    {
     "name": "stdout",
     "output_type": "stream",
     "text": [
      "Generating soundscape: 428/666\n",
      "Generating soundscape: 429/666\n"
     ]
    },
    {
     "name": "stderr",
     "output_type": "stream",
     "text": [
      "/home/js7561/dev/scaper/scaper/core.py:1199: ScaperWarning: siren event time (9.28) is too great given stretched event duration (1.84) and soundscape duration (10.00), changed to 8.16.\n",
      "  ScaperWarning)\n"
     ]
    },
    {
     "name": "stdout",
     "output_type": "stream",
     "text": [
      "Generating soundscape: 430/666\n"
     ]
    },
    {
     "name": "stderr",
     "output_type": "stream",
     "text": [
      "/home/js7561/dev/scaper/scaper/core.py:1199: ScaperWarning: street_music event time (7.38) is too great given stretched event duration (3.24) and soundscape duration (10.00), changed to 6.76.\n",
      "  ScaperWarning)\n"
     ]
    },
    {
     "name": "stdout",
     "output_type": "stream",
     "text": [
      "Generating soundscape: 431/666\n"
     ]
    },
    {
     "name": "stderr",
     "output_type": "stream",
     "text": [
      "/home/js7561/dev/scaper/scaper/core.py:1112: ScaperWarning: gun_shot event duration (1.46) is greater that source duration (1.37), changing to 1.37\n",
      "  ScaperWarning)\n"
     ]
    },
    {
     "name": "stdout",
     "output_type": "stream",
     "text": [
      "Generating soundscape: 432/666\n"
     ]
    },
    {
     "name": "stderr",
     "output_type": "stream",
     "text": [
      "/home/js7561/dev/scaper/scaper/core.py:1199: ScaperWarning: air_conditioner event time (8.86) is too great given stretched event duration (2.09) and soundscape duration (10.00), changed to 7.91.\n",
      "  ScaperWarning)\n",
      "/home/js7561/dev/scaper/scaper/core.py:1199: ScaperWarning: gun_shot event time (9.49) is too great given stretched event duration (0.62) and soundscape duration (10.00), changed to 9.38.\n",
      "  ScaperWarning)\n"
     ]
    },
    {
     "name": "stdout",
     "output_type": "stream",
     "text": [
      "Generating soundscape: 433/666\n"
     ]
    },
    {
     "name": "stderr",
     "output_type": "stream",
     "text": [
      "/home/js7561/dev/scaper/scaper/core.py:1199: ScaperWarning: children_playing event time (8.75) is too great given stretched event duration (1.56) and soundscape duration (10.00), changed to 8.44.\n",
      "  ScaperWarning)\n",
      "/home/js7561/dev/scaper/scaper/core.py:1112: ScaperWarning: gun_shot event duration (1.77) is greater that source duration (1.38), changing to 1.38\n",
      "  ScaperWarning)\n",
      "/home/js7561/dev/scaper/scaper/core.py:1112: ScaperWarning: car_horn event duration (2.39) is greater that source duration (0.99), changing to 0.99\n",
      "  ScaperWarning)\n"
     ]
    },
    {
     "name": "stdout",
     "output_type": "stream",
     "text": [
      "Generating soundscape: 434/666\n",
      "Generating soundscape: 435/666\n",
      "Generating soundscape: 436/666\n",
      "Generating soundscape: 437/666\n"
     ]
    },
    {
     "name": "stderr",
     "output_type": "stream",
     "text": [
      "/home/js7561/dev/scaper/scaper/core.py:1112: ScaperWarning: jackhammer event duration (3.43) is greater that source duration (1.89), changing to 1.89\n",
      "  ScaperWarning)\n",
      "/home/js7561/dev/scaper/scaper/core.py:1199: ScaperWarning: drilling event time (6.72) is too great given stretched event duration (3.35) and soundscape duration (10.00), changed to 6.65.\n",
      "  ScaperWarning)\n"
     ]
    },
    {
     "name": "stdout",
     "output_type": "stream",
     "text": [
      "Generating soundscape: 438/666\n"
     ]
    },
    {
     "name": "stderr",
     "output_type": "stream",
     "text": [
      "/home/js7561/dev/scaper/scaper/core.py:1112: ScaperWarning: drilling event duration (2.73) is greater that source duration (1.57), changing to 1.57\n",
      "  ScaperWarning)\n",
      "/home/js7561/dev/scaper/scaper/core.py:1112: ScaperWarning: jackhammer event duration (2.31) is greater that source duration (1.03), changing to 1.03\n",
      "  ScaperWarning)\n"
     ]
    },
    {
     "name": "stdout",
     "output_type": "stream",
     "text": [
      "Generating soundscape: 439/666\n",
      "Generating soundscape: 440/666\n",
      "Generating soundscape: 441/666\n"
     ]
    },
    {
     "name": "stderr",
     "output_type": "stream",
     "text": [
      "/home/js7561/dev/scaper/scaper/core.py:1112: ScaperWarning: gun_shot event duration (2.22) is greater that source duration (0.94), changing to 0.94\n",
      "  ScaperWarning)\n",
      "/home/js7561/dev/scaper/scaper/core.py:1112: ScaperWarning: dog_bark event duration (1.09) is greater that source duration (0.94), changing to 0.94\n",
      "  ScaperWarning)\n",
      "/home/js7561/dev/scaper/scaper/core.py:1199: ScaperWarning: drilling event time (7.55) is too great given stretched event duration (3.11) and soundscape duration (10.00), changed to 6.89.\n",
      "  ScaperWarning)\n",
      "/home/js7561/dev/scaper/scaper/core.py:1199: ScaperWarning: children_playing event time (8.00) is too great given stretched event duration (3.40) and soundscape duration (10.00), changed to 6.60.\n",
      "  ScaperWarning)\n"
     ]
    },
    {
     "name": "stdout",
     "output_type": "stream",
     "text": [
      "Generating soundscape: 442/666\n"
     ]
    },
    {
     "name": "stderr",
     "output_type": "stream",
     "text": [
      "/home/js7561/dev/scaper/scaper/core.py:1199: ScaperWarning: gun_shot event time (9.71) is too great given stretched event duration (1.70) and soundscape duration (10.00), changed to 8.30.\n",
      "  ScaperWarning)\n",
      "/home/js7561/dev/scaper/scaper/core.py:1112: ScaperWarning: car_horn event duration (2.05) is greater that source duration (0.39), changing to 0.39\n",
      "  ScaperWarning)\n",
      "/home/js7561/dev/scaper/scaper/core.py:1199: ScaperWarning: car_horn event time (9.24) is too great given stretched event duration (1.01) and soundscape duration (10.00), changed to 8.99.\n",
      "  ScaperWarning)\n"
     ]
    },
    {
     "name": "stdout",
     "output_type": "stream",
     "text": [
      "Generating soundscape: 443/666\n"
     ]
    },
    {
     "name": "stderr",
     "output_type": "stream",
     "text": [
      "/home/js7561/dev/scaper/scaper/core.py:1112: ScaperWarning: car_horn event duration (3.13) is greater that source duration (2.36), changing to 2.36\n",
      "  ScaperWarning)\n",
      "/home/js7561/dev/scaper/scaper/core.py:1199: ScaperWarning: air_conditioner event time (9.02) is too great given stretched event duration (1.19) and soundscape duration (10.00), changed to 8.81.\n",
      "  ScaperWarning)\n",
      "/home/js7561/dev/scaper/scaper/core.py:1112: ScaperWarning: gun_shot event duration (1.99) is greater that source duration (1.92), changing to 1.92\n",
      "  ScaperWarning)\n",
      "/home/js7561/dev/scaper/scaper/core.py:1199: ScaperWarning: street_music event time (8.48) is too great given stretched event duration (3.36) and soundscape duration (10.00), changed to 6.64.\n",
      "  ScaperWarning)\n"
     ]
    },
    {
     "name": "stdout",
     "output_type": "stream",
     "text": [
      "Generating soundscape: 444/666\n"
     ]
    },
    {
     "name": "stderr",
     "output_type": "stream",
     "text": [
      "/home/js7561/dev/scaper/scaper/core.py:1199: ScaperWarning: siren event time (9.44) is too great given stretched event duration (4.23) and soundscape duration (10.00), changed to 5.77.\n",
      "  ScaperWarning)\n",
      "/home/js7561/dev/scaper/scaper/core.py:1199: ScaperWarning: street_music event time (9.05) is too great given stretched event duration (2.26) and soundscape duration (10.00), changed to 7.74.\n",
      "  ScaperWarning)\n",
      "/home/js7561/dev/scaper/scaper/core.py:1112: ScaperWarning: gun_shot event duration (3.57) is greater that source duration (1.55), changing to 1.55\n",
      "  ScaperWarning)\n",
      "/home/js7561/dev/scaper/scaper/core.py:1199: ScaperWarning: jackhammer event time (9.37) is too great given stretched event duration (3.46) and soundscape duration (10.00), changed to 6.54.\n",
      "  ScaperWarning)\n"
     ]
    },
    {
     "name": "stdout",
     "output_type": "stream",
     "text": [
      "Generating soundscape: 445/666\n",
      "Generating soundscape: 446/666\n"
     ]
    },
    {
     "name": "stderr",
     "output_type": "stream",
     "text": [
      "/home/js7561/dev/scaper/scaper/core.py:1112: ScaperWarning: car_horn event duration (0.51) is greater that source duration (0.33), changing to 0.33\n",
      "  ScaperWarning)\n"
     ]
    },
    {
     "name": "stdout",
     "output_type": "stream",
     "text": [
      "Generating soundscape: 447/666\n",
      "Generating soundscape: 448/666\n"
     ]
    },
    {
     "name": "stderr",
     "output_type": "stream",
     "text": [
      "/home/js7561/dev/scaper/scaper/core.py:1199: ScaperWarning: jackhammer event time (7.76) is too great given stretched event duration (4.32) and soundscape duration (10.00), changed to 5.68.\n",
      "  ScaperWarning)\n"
     ]
    },
    {
     "name": "stdout",
     "output_type": "stream",
     "text": [
      "Generating soundscape: 449/666\n"
     ]
    },
    {
     "name": "stderr",
     "output_type": "stream",
     "text": [
      "/home/js7561/dev/scaper/scaper/core.py:1199: ScaperWarning: drilling event time (9.52) is too great given stretched event duration (0.61) and soundscape duration (10.00), changed to 9.39.\n",
      "  ScaperWarning)\n",
      "/home/js7561/dev/scaper/scaper/core.py:1112: ScaperWarning: car_horn event duration (3.20) is greater that source duration (0.41), changing to 0.41\n",
      "  ScaperWarning)\n",
      "/home/js7561/dev/scaper/scaper/core.py:1199: ScaperWarning: jackhammer event time (7.49) is too great given stretched event duration (3.17) and soundscape duration (10.00), changed to 6.83.\n",
      "  ScaperWarning)\n",
      "/home/js7561/dev/scaper/scaper/core.py:1199: ScaperWarning: drilling event time (8.56) is too great given stretched event duration (1.52) and soundscape duration (10.00), changed to 8.48.\n",
      "  ScaperWarning)\n",
      "/home/js7561/dev/scaper/scaper/core.py:1112: ScaperWarning: car_horn event duration (2.17) is greater that source duration (0.90), changing to 0.90\n",
      "  ScaperWarning)\n"
     ]
    },
    {
     "name": "stdout",
     "output_type": "stream",
     "text": [
      "Generating soundscape: 450/666\n",
      "Generating soundscape: 451/666\n",
      "Generating soundscape: 452/666\n",
      "Generating soundscape: 453/666\n"
     ]
    },
    {
     "name": "stderr",
     "output_type": "stream",
     "text": [
      "/home/js7561/dev/scaper/scaper/core.py:1199: ScaperWarning: dog_bark event time (8.82) is too great given stretched event duration (3.26) and soundscape duration (10.00), changed to 6.74.\n",
      "  ScaperWarning)\n"
     ]
    },
    {
     "name": "stdout",
     "output_type": "stream",
     "text": [
      "Generating soundscape: 454/666\n"
     ]
    },
    {
     "name": "stderr",
     "output_type": "stream",
     "text": [
      "/home/js7561/dev/scaper/scaper/core.py:1112: ScaperWarning: car_horn event duration (2.06) is greater that source duration (1.62), changing to 1.62\n",
      "  ScaperWarning)\n",
      "/home/js7561/dev/scaper/scaper/core.py:1199: ScaperWarning: drilling event time (7.88) is too great given stretched event duration (3.54) and soundscape duration (10.00), changed to 6.46.\n",
      "  ScaperWarning)\n"
     ]
    },
    {
     "name": "stdout",
     "output_type": "stream",
     "text": [
      "Generating soundscape: 455/666\n"
     ]
    },
    {
     "name": "stderr",
     "output_type": "stream",
     "text": [
      "/home/js7561/dev/scaper/scaper/core.py:1112: ScaperWarning: dog_bark event duration (1.92) is greater that source duration (1.15), changing to 1.15\n",
      "  ScaperWarning)\n"
     ]
    },
    {
     "name": "stdout",
     "output_type": "stream",
     "text": [
      "Generating soundscape: 456/666\n"
     ]
    },
    {
     "name": "stderr",
     "output_type": "stream",
     "text": [
      "/home/js7561/dev/scaper/scaper/core.py:1112: ScaperWarning: gun_shot event duration (2.05) is greater that source duration (1.92), changing to 1.92\n",
      "  ScaperWarning)\n",
      "/home/js7561/dev/scaper/scaper/core.py:1199: ScaperWarning: gun_shot event time (8.73) is too great given stretched event duration (1.63) and soundscape duration (10.00), changed to 8.37.\n",
      "  ScaperWarning)\n"
     ]
    },
    {
     "name": "stdout",
     "output_type": "stream",
     "text": [
      "Generating soundscape: 457/666\n"
     ]
    },
    {
     "name": "stderr",
     "output_type": "stream",
     "text": [
      "/home/js7561/dev/scaper/scaper/core.py:1199: ScaperWarning: street_music event time (7.34) is too great given stretched event duration (2.72) and soundscape duration (10.00), changed to 7.28.\n",
      "  ScaperWarning)\n",
      "/home/js7561/dev/scaper/scaper/core.py:1112: ScaperWarning: gun_shot event duration (2.83) is greater that source duration (0.86), changing to 0.86\n",
      "  ScaperWarning)\n"
     ]
    },
    {
     "name": "stdout",
     "output_type": "stream",
     "text": [
      "Generating soundscape: 458/666\n"
     ]
    },
    {
     "name": "stderr",
     "output_type": "stream",
     "text": [
      "/home/js7561/dev/scaper/scaper/core.py:1199: ScaperWarning: children_playing event time (7.98) is too great given stretched event duration (2.77) and soundscape duration (10.00), changed to 7.23.\n",
      "  ScaperWarning)\n",
      "/home/js7561/dev/scaper/scaper/core.py:1112: ScaperWarning: gun_shot event duration (2.25) is greater that source duration (1.25), changing to 1.25\n",
      "  ScaperWarning)\n"
     ]
    },
    {
     "name": "stdout",
     "output_type": "stream",
     "text": [
      "Generating soundscape: 459/666\n"
     ]
    },
    {
     "name": "stderr",
     "output_type": "stream",
     "text": [
      "/home/js7561/dev/scaper/scaper/core.py:1112: ScaperWarning: gun_shot event duration (3.07) is greater that source duration (0.90), changing to 0.90\n",
      "  ScaperWarning)\n"
     ]
    },
    {
     "name": "stdout",
     "output_type": "stream",
     "text": [
      "Generating soundscape: 460/666\n",
      "Generating soundscape: 461/666\n",
      "Generating soundscape: 462/666\n",
      "Generating soundscape: 463/666\n"
     ]
    },
    {
     "name": "stderr",
     "output_type": "stream",
     "text": [
      "/home/js7561/dev/scaper/scaper/core.py:1199: ScaperWarning: street_music event time (9.76) is too great given stretched event duration (2.72) and soundscape duration (10.00), changed to 7.28.\n",
      "  ScaperWarning)\n"
     ]
    },
    {
     "name": "stdout",
     "output_type": "stream",
     "text": [
      "Generating soundscape: 464/666\n"
     ]
    },
    {
     "name": "stderr",
     "output_type": "stream",
     "text": [
      "/home/js7561/dev/scaper/scaper/core.py:1112: ScaperWarning: siren event duration (2.49) is greater that source duration (1.41), changing to 1.41\n",
      "  ScaperWarning)\n",
      "/home/js7561/dev/scaper/scaper/core.py:1199: ScaperWarning: engine_idling event time (8.46) is too great given stretched event duration (2.94) and soundscape duration (10.00), changed to 7.06.\n",
      "  ScaperWarning)\n"
     ]
    },
    {
     "name": "stdout",
     "output_type": "stream",
     "text": [
      "Generating soundscape: 465/666\n"
     ]
    },
    {
     "name": "stderr",
     "output_type": "stream",
     "text": [
      "/home/js7561/dev/scaper/scaper/core.py:1112: ScaperWarning: dog_bark event duration (2.64) is greater that source duration (1.15), changing to 1.15\n",
      "  ScaperWarning)\n"
     ]
    },
    {
     "name": "stdout",
     "output_type": "stream",
     "text": [
      "Generating soundscape: 466/666\n",
      "Generating soundscape: 467/666\n",
      "Generating soundscape: 468/666\n"
     ]
    },
    {
     "name": "stderr",
     "output_type": "stream",
     "text": [
      "/home/js7561/dev/scaper/scaper/core.py:1112: ScaperWarning: jackhammer event duration (3.68) is greater that source duration (2.97), changing to 2.97\n",
      "  ScaperWarning)\n",
      "/home/js7561/dev/scaper/scaper/core.py:1112: ScaperWarning: children_playing event duration (3.56) is greater that source duration (2.54), changing to 2.54\n",
      "  ScaperWarning)\n",
      "/home/js7561/dev/scaper/scaper/core.py:1199: ScaperWarning: dog_bark event time (7.91) is too great given stretched event duration (3.03) and soundscape duration (10.00), changed to 6.97.\n",
      "  ScaperWarning)\n",
      "/home/js7561/dev/scaper/scaper/core.py:1112: ScaperWarning: dog_bark event duration (1.27) is greater that source duration (0.70), changing to 0.70\n",
      "  ScaperWarning)\n",
      "/home/js7561/dev/scaper/scaper/core.py:1112: ScaperWarning: gun_shot event duration (1.12) is greater that source duration (0.86), changing to 0.86\n",
      "  ScaperWarning)\n"
     ]
    },
    {
     "name": "stdout",
     "output_type": "stream",
     "text": [
      "Generating soundscape: 469/666\n",
      "Generating soundscape: 470/666\n"
     ]
    },
    {
     "name": "stderr",
     "output_type": "stream",
     "text": [
      "/home/js7561/dev/scaper/scaper/core.py:1199: ScaperWarning: children_playing event time (7.73) is too great given stretched event duration (3.83) and soundscape duration (10.00), changed to 6.17.\n",
      "  ScaperWarning)\n"
     ]
    },
    {
     "name": "stdout",
     "output_type": "stream",
     "text": [
      "Generating soundscape: 471/666\n"
     ]
    },
    {
     "name": "stderr",
     "output_type": "stream",
     "text": [
      "/home/js7561/dev/scaper/scaper/core.py:1199: ScaperWarning: drilling event time (6.17) is too great given stretched event duration (4.52) and soundscape duration (10.00), changed to 5.48.\n",
      "  ScaperWarning)\n"
     ]
    },
    {
     "name": "stdout",
     "output_type": "stream",
     "text": [
      "Generating soundscape: 472/666\n",
      "Generating soundscape: 473/666\n"
     ]
    },
    {
     "name": "stderr",
     "output_type": "stream",
     "text": [
      "/home/js7561/dev/scaper/scaper/core.py:1199: ScaperWarning: siren event time (6.74) is too great given stretched event duration (4.68) and soundscape duration (10.00), changed to 5.32.\n",
      "  ScaperWarning)\n",
      "/home/js7561/dev/scaper/scaper/core.py:1199: ScaperWarning: engine_idling event time (9.83) is too great given stretched event duration (1.29) and soundscape duration (10.00), changed to 8.71.\n",
      "  ScaperWarning)\n"
     ]
    },
    {
     "name": "stdout",
     "output_type": "stream",
     "text": [
      "Generating soundscape: 474/666\n"
     ]
    },
    {
     "name": "stderr",
     "output_type": "stream",
     "text": [
      "/home/js7561/dev/scaper/scaper/core.py:1112: ScaperWarning: car_horn event duration (2.31) is greater that source duration (0.41), changing to 0.41\n",
      "  ScaperWarning)\n",
      "/home/js7561/dev/scaper/scaper/core.py:1112: ScaperWarning: jackhammer event duration (2.66) is greater that source duration (1.87), changing to 1.87\n",
      "  ScaperWarning)\n",
      "/home/js7561/dev/scaper/scaper/core.py:1199: ScaperWarning: jackhammer event time (8.40) is too great given stretched event duration (1.87) and soundscape duration (10.00), changed to 8.13.\n",
      "  ScaperWarning)\n"
     ]
    },
    {
     "name": "stdout",
     "output_type": "stream",
     "text": [
      "Generating soundscape: 475/666\n"
     ]
    },
    {
     "name": "stderr",
     "output_type": "stream",
     "text": [
      "/home/js7561/dev/scaper/scaper/core.py:1112: ScaperWarning: gun_shot event duration (3.19) is greater that source duration (2.36), changing to 2.36\n",
      "  ScaperWarning)\n",
      "/home/js7561/dev/scaper/scaper/core.py:1199: ScaperWarning: gun_shot event time (8.06) is too great given stretched event duration (2.55) and soundscape duration (10.00), changed to 7.45.\n",
      "  ScaperWarning)\n"
     ]
    },
    {
     "name": "stdout",
     "output_type": "stream",
     "text": [
      "Generating soundscape: 476/666\n",
      "Generating soundscape: 477/666\n"
     ]
    },
    {
     "name": "stderr",
     "output_type": "stream",
     "text": [
      "/home/js7561/dev/scaper/scaper/core.py:1112: ScaperWarning: car_horn event duration (3.58) is greater that source duration (0.28), changing to 0.28\n",
      "  ScaperWarning)\n",
      "/home/js7561/dev/scaper/scaper/core.py:1199: ScaperWarning: engine_idling event time (8.13) is too great given stretched event duration (3.13) and soundscape duration (10.00), changed to 6.87.\n",
      "  ScaperWarning)\n"
     ]
    },
    {
     "name": "stdout",
     "output_type": "stream",
     "text": [
      "Generating soundscape: 478/666\n"
     ]
    },
    {
     "name": "stderr",
     "output_type": "stream",
     "text": [
      "/home/js7561/dev/scaper/scaper/core.py:1112: ScaperWarning: car_horn event duration (2.97) is greater that source duration (0.25), changing to 0.25\n",
      "  ScaperWarning)\n"
     ]
    },
    {
     "name": "stdout",
     "output_type": "stream",
     "text": [
      "Generating soundscape: 479/666\n"
     ]
    },
    {
     "name": "stderr",
     "output_type": "stream",
     "text": [
      "/home/js7561/dev/scaper/scaper/core.py:1199: ScaperWarning: jackhammer event time (8.40) is too great given stretched event duration (2.24) and soundscape duration (10.00), changed to 7.76.\n",
      "  ScaperWarning)\n"
     ]
    },
    {
     "name": "stdout",
     "output_type": "stream",
     "text": [
      "Generating soundscape: 480/666\n",
      "Generating soundscape: 481/666\n",
      "Generating soundscape: 482/666\n"
     ]
    },
    {
     "name": "stderr",
     "output_type": "stream",
     "text": [
      "/home/js7561/dev/scaper/scaper/core.py:1112: ScaperWarning: dog_bark event duration (1.83) is greater that source duration (0.55), changing to 0.55\n",
      "  ScaperWarning)\n",
      "/home/js7561/dev/scaper/scaper/core.py:1112: ScaperWarning: dog_bark event duration (2.45) is greater that source duration (1.88), changing to 1.88\n",
      "  ScaperWarning)\n",
      "/home/js7561/dev/scaper/scaper/core.py:1112: ScaperWarning: siren event duration (3.57) is greater that source duration (1.63), changing to 1.63\n",
      "  ScaperWarning)\n"
     ]
    },
    {
     "name": "stdout",
     "output_type": "stream",
     "text": [
      "Generating soundscape: 483/666\n"
     ]
    },
    {
     "name": "stderr",
     "output_type": "stream",
     "text": [
      "/home/js7561/dev/scaper/scaper/core.py:1199: ScaperWarning: dog_bark event time (6.96) is too great given stretched event duration (3.53) and soundscape duration (10.00), changed to 6.47.\n",
      "  ScaperWarning)\n",
      "/home/js7561/dev/scaper/scaper/core.py:1199: ScaperWarning: children_playing event time (9.19) is too great given stretched event duration (1.31) and soundscape duration (10.00), changed to 8.69.\n",
      "  ScaperWarning)\n",
      "/home/js7561/dev/scaper/scaper/core.py:1112: ScaperWarning: car_horn event duration (3.92) is greater that source duration (0.28), changing to 0.28\n",
      "  ScaperWarning)\n"
     ]
    },
    {
     "name": "stdout",
     "output_type": "stream",
     "text": [
      "Generating soundscape: 484/666\n"
     ]
    },
    {
     "name": "stderr",
     "output_type": "stream",
     "text": [
      "/home/js7561/dev/scaper/scaper/core.py:1112: ScaperWarning: gun_shot event duration (3.48) is greater that source duration (0.79), changing to 0.79\n",
      "  ScaperWarning)\n",
      "/home/js7561/dev/scaper/scaper/core.py:1112: ScaperWarning: jackhammer event duration (3.24) is greater that source duration (2.13), changing to 2.13\n",
      "  ScaperWarning)\n",
      "/home/js7561/dev/scaper/scaper/core.py:1199: ScaperWarning: jackhammer event time (7.87) is too great given stretched event duration (4.04) and soundscape duration (10.00), changed to 5.96.\n",
      "  ScaperWarning)\n",
      "/home/js7561/dev/scaper/scaper/core.py:1112: ScaperWarning: drilling event duration (3.70) is greater that source duration (2.05), changing to 2.05\n",
      "  ScaperWarning)\n"
     ]
    },
    {
     "name": "stdout",
     "output_type": "stream",
     "text": [
      "Generating soundscape: 485/666\n",
      "Generating soundscape: 486/666\n"
     ]
    },
    {
     "name": "stderr",
     "output_type": "stream",
     "text": [
      "/home/js7561/dev/scaper/scaper/core.py:1199: ScaperWarning: children_playing event time (8.08) is too great given stretched event duration (3.10) and soundscape duration (10.00), changed to 6.90.\n",
      "  ScaperWarning)\n"
     ]
    },
    {
     "name": "stdout",
     "output_type": "stream",
     "text": [
      "Generating soundscape: 487/666\n"
     ]
    },
    {
     "name": "stderr",
     "output_type": "stream",
     "text": [
      "/home/js7561/dev/scaper/scaper/core.py:1199: ScaperWarning: siren event time (7.44) is too great given stretched event duration (3.44) and soundscape duration (10.00), changed to 6.56.\n",
      "  ScaperWarning)\n"
     ]
    },
    {
     "name": "stdout",
     "output_type": "stream",
     "text": [
      "Generating soundscape: 488/666\n"
     ]
    },
    {
     "name": "stderr",
     "output_type": "stream",
     "text": [
      "/home/js7561/dev/scaper/scaper/core.py:1112: ScaperWarning: car_horn event duration (0.72) is greater that source duration (0.41), changing to 0.41\n",
      "  ScaperWarning)\n"
     ]
    },
    {
     "name": "stdout",
     "output_type": "stream",
     "text": [
      "Generating soundscape: 489/666\n"
     ]
    },
    {
     "name": "stderr",
     "output_type": "stream",
     "text": [
      "/home/js7561/dev/scaper/scaper/core.py:1112: ScaperWarning: car_horn event duration (2.98) is greater that source duration (0.68), changing to 0.68\n",
      "  ScaperWarning)\n"
     ]
    },
    {
     "name": "stdout",
     "output_type": "stream",
     "text": [
      "Generating soundscape: 490/666\n"
     ]
    },
    {
     "name": "stderr",
     "output_type": "stream",
     "text": [
      "/home/js7561/dev/scaper/scaper/core.py:1112: ScaperWarning: car_horn event duration (2.52) is greater that source duration (0.21), changing to 0.21\n",
      "  ScaperWarning)\n"
     ]
    },
    {
     "name": "stdout",
     "output_type": "stream",
     "text": [
      "Generating soundscape: 491/666\n"
     ]
    },
    {
     "name": "stderr",
     "output_type": "stream",
     "text": [
      "/home/js7561/dev/scaper/scaper/core.py:1199: ScaperWarning: engine_idling event time (8.54) is too great given stretched event duration (2.68) and soundscape duration (10.00), changed to 7.32.\n",
      "  ScaperWarning)\n"
     ]
    },
    {
     "name": "stdout",
     "output_type": "stream",
     "text": [
      "Generating soundscape: 492/666\n",
      "Generating soundscape: 493/666\n"
     ]
    },
    {
     "name": "stderr",
     "output_type": "stream",
     "text": [
      "/home/js7561/dev/scaper/scaper/core.py:1112: ScaperWarning: car_horn event duration (3.38) is greater that source duration (0.99), changing to 0.99\n",
      "  ScaperWarning)\n",
      "/home/js7561/dev/scaper/scaper/core.py:1112: ScaperWarning: car_horn event duration (2.26) is greater that source duration (0.35), changing to 0.35\n",
      "  ScaperWarning)\n"
     ]
    },
    {
     "name": "stdout",
     "output_type": "stream",
     "text": [
      "Generating soundscape: 494/666\n"
     ]
    },
    {
     "name": "stderr",
     "output_type": "stream",
     "text": [
      "/home/js7561/dev/scaper/scaper/core.py:1112: ScaperWarning: drilling event duration (3.20) is greater that source duration (0.44), changing to 0.44\n",
      "  ScaperWarning)\n",
      "/home/js7561/dev/scaper/scaper/core.py:1112: ScaperWarning: car_horn event duration (3.85) is greater that source duration (1.74), changing to 1.74\n",
      "  ScaperWarning)\n",
      "/home/js7561/dev/scaper/scaper/core.py:1199: ScaperWarning: gun_shot event time (8.52) is too great given stretched event duration (1.50) and soundscape duration (10.00), changed to 8.50.\n",
      "  ScaperWarning)\n"
     ]
    },
    {
     "name": "stdout",
     "output_type": "stream",
     "text": [
      "Generating soundscape: 495/666\n"
     ]
    },
    {
     "name": "stderr",
     "output_type": "stream",
     "text": [
      "/home/js7561/dev/scaper/scaper/core.py:1112: ScaperWarning: dog_bark event duration (2.84) is greater that source duration (0.45), changing to 0.45\n",
      "  ScaperWarning)\n",
      "/home/js7561/dev/scaper/scaper/core.py:1199: ScaperWarning: car_horn event time (7.29) is too great given stretched event duration (3.17) and soundscape duration (10.00), changed to 6.83.\n",
      "  ScaperWarning)\n",
      "/home/js7561/dev/scaper/scaper/core.py:1112: ScaperWarning: dog_bark event duration (2.36) is greater that source duration (0.40), changing to 0.40\n",
      "  ScaperWarning)\n"
     ]
    },
    {
     "name": "stdout",
     "output_type": "stream",
     "text": [
      "Generating soundscape: 496/666\n"
     ]
    },
    {
     "name": "stderr",
     "output_type": "stream",
     "text": [
      "/home/js7561/dev/scaper/scaper/core.py:1199: ScaperWarning: siren event time (8.23) is too great given stretched event duration (2.09) and soundscape duration (10.00), changed to 7.91.\n",
      "  ScaperWarning)\n"
     ]
    },
    {
     "name": "stdout",
     "output_type": "stream",
     "text": [
      "Generating soundscape: 497/666\n",
      "Generating soundscape: 498/666\n"
     ]
    },
    {
     "name": "stderr",
     "output_type": "stream",
     "text": [
      "/home/js7561/dev/scaper/scaper/core.py:1112: ScaperWarning: gun_shot event duration (1.56) is greater that source duration (1.50), changing to 1.50\n",
      "  ScaperWarning)\n"
     ]
    },
    {
     "name": "stdout",
     "output_type": "stream",
     "text": [
      "Generating soundscape: 499/666\n",
      "Generating soundscape: 500/666\n",
      "Generating soundscape: 501/666\n"
     ]
    },
    {
     "name": "stderr",
     "output_type": "stream",
     "text": [
      "/home/js7561/dev/scaper/scaper/core.py:1112: ScaperWarning: gun_shot event duration (3.98) is greater that source duration (1.77), changing to 1.77\n",
      "  ScaperWarning)\n"
     ]
    },
    {
     "name": "stdout",
     "output_type": "stream",
     "text": [
      "Generating soundscape: 502/666\n",
      "Generating soundscape: 503/666\n",
      "Generating soundscape: 504/666\n",
      "Generating soundscape: 505/666\n"
     ]
    },
    {
     "name": "stderr",
     "output_type": "stream",
     "text": [
      "/home/js7561/dev/scaper/scaper/core.py:1199: ScaperWarning: street_music event time (8.15) is too great given stretched event duration (2.92) and soundscape duration (10.00), changed to 7.08.\n",
      "  ScaperWarning)\n"
     ]
    },
    {
     "name": "stdout",
     "output_type": "stream",
     "text": [
      "Generating soundscape: 506/666\n"
     ]
    },
    {
     "name": "stderr",
     "output_type": "stream",
     "text": [
      "/home/js7561/dev/scaper/scaper/core.py:1199: ScaperWarning: drilling event time (7.94) is too great given stretched event duration (2.29) and soundscape duration (10.00), changed to 7.71.\n",
      "  ScaperWarning)\n"
     ]
    },
    {
     "name": "stdout",
     "output_type": "stream",
     "text": [
      "Generating soundscape: 507/666\n"
     ]
    },
    {
     "name": "stderr",
     "output_type": "stream",
     "text": [
      "/home/js7561/dev/scaper/scaper/core.py:1112: ScaperWarning: gun_shot event duration (3.34) is greater that source duration (1.97), changing to 1.97\n",
      "  ScaperWarning)\n",
      "/home/js7561/dev/scaper/scaper/core.py:1112: ScaperWarning: drilling event duration (2.13) is greater that source duration (0.92), changing to 0.92\n",
      "  ScaperWarning)\n"
     ]
    },
    {
     "name": "stdout",
     "output_type": "stream",
     "text": [
      "Generating soundscape: 508/666\n"
     ]
    },
    {
     "name": "stderr",
     "output_type": "stream",
     "text": [
      "/home/js7561/dev/scaper/scaper/core.py:1199: ScaperWarning: street_music event time (8.61) is too great given stretched event duration (3.22) and soundscape duration (10.00), changed to 6.78.\n",
      "  ScaperWarning)\n"
     ]
    },
    {
     "name": "stdout",
     "output_type": "stream",
     "text": [
      "Generating soundscape: 509/666\n"
     ]
    },
    {
     "name": "stderr",
     "output_type": "stream",
     "text": [
      "/home/js7561/dev/scaper/scaper/core.py:1112: ScaperWarning: dog_bark event duration (2.95) is greater that source duration (0.49), changing to 0.49\n",
      "  ScaperWarning)\n",
      "/home/js7561/dev/scaper/scaper/core.py:1199: ScaperWarning: jackhammer event time (8.59) is too great given stretched event duration (2.46) and soundscape duration (10.00), changed to 7.54.\n",
      "  ScaperWarning)\n"
     ]
    },
    {
     "name": "stdout",
     "output_type": "stream",
     "text": [
      "Generating soundscape: 510/666\n"
     ]
    },
    {
     "name": "stderr",
     "output_type": "stream",
     "text": [
      "/home/js7561/dev/scaper/scaper/core.py:1112: ScaperWarning: dog_bark event duration (1.83) is greater that source duration (0.44), changing to 0.44\n",
      "  ScaperWarning)\n"
     ]
    },
    {
     "name": "stdout",
     "output_type": "stream",
     "text": [
      "Generating soundscape: 511/666\n"
     ]
    },
    {
     "name": "stderr",
     "output_type": "stream",
     "text": [
      "/home/js7561/dev/scaper/scaper/core.py:1199: ScaperWarning: air_conditioner event time (9.32) is too great given stretched event duration (3.27) and soundscape duration (10.00), changed to 6.73.\n",
      "  ScaperWarning)\n",
      "/home/js7561/dev/scaper/scaper/core.py:1199: ScaperWarning: jackhammer event time (9.54) is too great given stretched event duration (1.19) and soundscape duration (10.00), changed to 8.81.\n",
      "  ScaperWarning)\n"
     ]
    },
    {
     "name": "stdout",
     "output_type": "stream",
     "text": [
      "Generating soundscape: 512/666\n",
      "Generating soundscape: 513/666\n"
     ]
    },
    {
     "name": "stderr",
     "output_type": "stream",
     "text": [
      "/home/js7561/dev/scaper/scaper/core.py:1112: ScaperWarning: dog_bark event duration (3.85) is greater that source duration (0.79), changing to 0.79\n",
      "  ScaperWarning)\n"
     ]
    },
    {
     "name": "stdout",
     "output_type": "stream",
     "text": [
      "Generating soundscape: 514/666\n"
     ]
    },
    {
     "name": "stderr",
     "output_type": "stream",
     "text": [
      "/home/js7561/dev/scaper/scaper/core.py:1199: ScaperWarning: street_music event time (8.87) is too great given stretched event duration (4.37) and soundscape duration (10.00), changed to 5.63.\n",
      "  ScaperWarning)\n"
     ]
    },
    {
     "name": "stdout",
     "output_type": "stream",
     "text": [
      "Generating soundscape: 515/666\n"
     ]
    },
    {
     "name": "stderr",
     "output_type": "stream",
     "text": [
      "/home/js7561/dev/scaper/scaper/core.py:1199: ScaperWarning: jackhammer event time (8.11) is too great given stretched event duration (2.35) and soundscape duration (10.00), changed to 7.65.\n",
      "  ScaperWarning)\n"
     ]
    },
    {
     "name": "stdout",
     "output_type": "stream",
     "text": [
      "Generating soundscape: 516/666\n",
      "Generating soundscape: 517/666\n"
     ]
    },
    {
     "name": "stderr",
     "output_type": "stream",
     "text": [
      "/home/js7561/dev/scaper/scaper/core.py:1112: ScaperWarning: gun_shot event duration (3.51) is greater that source duration (2.03), changing to 2.03\n",
      "  ScaperWarning)\n",
      "/home/js7561/dev/scaper/scaper/core.py:1199: ScaperWarning: siren event time (7.91) is too great given stretched event duration (2.72) and soundscape duration (10.00), changed to 7.28.\n",
      "  ScaperWarning)\n",
      "/home/js7561/dev/scaper/scaper/core.py:1112: ScaperWarning: dog_bark event duration (2.26) is greater that source duration (1.88), changing to 1.88\n",
      "  ScaperWarning)\n"
     ]
    },
    {
     "name": "stdout",
     "output_type": "stream",
     "text": [
      "Generating soundscape: 518/666\n"
     ]
    },
    {
     "name": "stderr",
     "output_type": "stream",
     "text": [
      "/home/js7561/dev/scaper/scaper/core.py:1199: ScaperWarning: air_conditioner event time (7.95) is too great given stretched event duration (3.39) and soundscape duration (10.00), changed to 6.61.\n",
      "  ScaperWarning)\n",
      "/home/js7561/dev/scaper/scaper/core.py:1112: ScaperWarning: gun_shot event duration (3.45) is greater that source duration (2.89), changing to 2.89\n",
      "  ScaperWarning)\n"
     ]
    },
    {
     "name": "stdout",
     "output_type": "stream",
     "text": [
      "Generating soundscape: 519/666\n"
     ]
    },
    {
     "name": "stderr",
     "output_type": "stream",
     "text": [
      "/home/js7561/dev/scaper/scaper/core.py:1112: ScaperWarning: gun_shot event duration (2.38) is greater that source duration (2.09), changing to 2.09\n",
      "  ScaperWarning)\n",
      "/home/js7561/dev/scaper/scaper/core.py:1112: ScaperWarning: drilling event duration (0.88) is greater that source duration (0.44), changing to 0.44\n",
      "  ScaperWarning)\n",
      "/home/js7561/dev/scaper/scaper/core.py:1199: ScaperWarning: drilling event time (7.89) is too great given stretched event duration (2.85) and soundscape duration (10.00), changed to 7.15.\n",
      "  ScaperWarning)\n"
     ]
    },
    {
     "name": "stdout",
     "output_type": "stream",
     "text": [
      "Generating soundscape: 520/666\n"
     ]
    },
    {
     "name": "stderr",
     "output_type": "stream",
     "text": [
      "/home/js7561/dev/scaper/scaper/core.py:1112: ScaperWarning: drilling event duration (3.79) is greater that source duration (2.31), changing to 2.31\n",
      "  ScaperWarning)\n",
      "/home/js7561/dev/scaper/scaper/core.py:1199: ScaperWarning: drilling event time (9.15) is too great given stretched event duration (2.38) and soundscape duration (10.00), changed to 7.62.\n",
      "  ScaperWarning)\n",
      "/home/js7561/dev/scaper/scaper/core.py:1199: ScaperWarning: jackhammer event time (6.75) is too great given stretched event duration (4.16) and soundscape duration (10.00), changed to 5.84.\n",
      "  ScaperWarning)\n",
      "/home/js7561/dev/scaper/scaper/core.py:1112: ScaperWarning: gun_shot event duration (3.54) is greater that source duration (0.90), changing to 0.90\n",
      "  ScaperWarning)\n",
      "/home/js7561/dev/scaper/scaper/core.py:1199: ScaperWarning: siren event time (8.47) is too great given stretched event duration (1.96) and soundscape duration (10.00), changed to 8.04.\n",
      "  ScaperWarning)\n"
     ]
    },
    {
     "name": "stdout",
     "output_type": "stream",
     "text": [
      "Generating soundscape: 521/666\n",
      "Generating soundscape: 522/666\n"
     ]
    },
    {
     "name": "stderr",
     "output_type": "stream",
     "text": [
      "/home/js7561/dev/scaper/scaper/core.py:1112: ScaperWarning: car_horn event duration (3.27) is greater that source duration (0.47), changing to 0.47\n",
      "  ScaperWarning)\n",
      "/home/js7561/dev/scaper/scaper/core.py:1112: ScaperWarning: children_playing event duration (3.10) is greater that source duration (2.54), changing to 2.54\n",
      "  ScaperWarning)\n"
     ]
    },
    {
     "name": "stdout",
     "output_type": "stream",
     "text": [
      "Generating soundscape: 523/666\n"
     ]
    },
    {
     "name": "stderr",
     "output_type": "stream",
     "text": [
      "/home/js7561/dev/scaper/scaper/core.py:1199: ScaperWarning: car_horn event time (8.58) is too great given stretched event duration (2.79) and soundscape duration (10.00), changed to 7.21.\n",
      "  ScaperWarning)\n"
     ]
    },
    {
     "name": "stdout",
     "output_type": "stream",
     "text": [
      "Generating soundscape: 524/666\n"
     ]
    },
    {
     "name": "stderr",
     "output_type": "stream",
     "text": [
      "/home/js7561/dev/scaper/scaper/core.py:1112: ScaperWarning: car_horn event duration (2.14) is greater that source duration (1.16), changing to 1.16\n",
      "  ScaperWarning)\n",
      "/home/js7561/dev/scaper/scaper/core.py:1112: ScaperWarning: dog_bark event duration (3.12) is greater that source duration (1.52), changing to 1.52\n",
      "  ScaperWarning)\n",
      "/home/js7561/dev/scaper/scaper/core.py:1112: ScaperWarning: car_horn event duration (3.08) is greater that source duration (2.05), changing to 2.05\n",
      "  ScaperWarning)\n"
     ]
    },
    {
     "name": "stdout",
     "output_type": "stream",
     "text": [
      "Generating soundscape: 525/666\n"
     ]
    },
    {
     "name": "stderr",
     "output_type": "stream",
     "text": [
      "/home/js7561/dev/scaper/scaper/core.py:1199: ScaperWarning: dog_bark event time (8.83) is too great given stretched event duration (1.50) and soundscape duration (10.00), changed to 8.50.\n",
      "  ScaperWarning)\n"
     ]
    },
    {
     "name": "stdout",
     "output_type": "stream",
     "text": [
      "Generating soundscape: 526/666\n"
     ]
    },
    {
     "name": "stderr",
     "output_type": "stream",
     "text": [
      "/home/js7561/dev/scaper/scaper/core.py:1112: ScaperWarning: gun_shot event duration (2.54) is greater that source duration (1.97), changing to 1.97\n",
      "  ScaperWarning)\n"
     ]
    },
    {
     "name": "stdout",
     "output_type": "stream",
     "text": [
      "Generating soundscape: 527/666\n"
     ]
    },
    {
     "name": "stderr",
     "output_type": "stream",
     "text": [
      "/home/js7561/dev/scaper/scaper/core.py:1199: ScaperWarning: street_music event time (9.77) is too great given stretched event duration (2.15) and soundscape duration (10.00), changed to 7.85.\n",
      "  ScaperWarning)\n",
      "/home/js7561/dev/scaper/scaper/core.py:1199: ScaperWarning: children_playing event time (9.81) is too great given stretched event duration (0.86) and soundscape duration (10.00), changed to 9.14.\n",
      "  ScaperWarning)\n",
      "/home/js7561/dev/scaper/scaper/core.py:1112: ScaperWarning: gun_shot event duration (3.90) is greater that source duration (2.22), changing to 2.22\n",
      "  ScaperWarning)\n",
      "/home/js7561/dev/scaper/scaper/core.py:1199: ScaperWarning: car_horn event time (9.78) is too great given stretched event duration (1.21) and soundscape duration (10.00), changed to 8.79.\n",
      "  ScaperWarning)\n"
     ]
    },
    {
     "name": "stdout",
     "output_type": "stream",
     "text": [
      "Generating soundscape: 528/666\n",
      "Generating soundscape: 529/666\n"
     ]
    },
    {
     "name": "stderr",
     "output_type": "stream",
     "text": [
      "/home/js7561/dev/scaper/scaper/core.py:1112: ScaperWarning: engine_idling event duration (3.49) is greater that source duration (3.05), changing to 3.05\n",
      "  ScaperWarning)\n",
      "/home/js7561/dev/scaper/scaper/core.py:1112: ScaperWarning: dog_bark event duration (3.15) is greater that source duration (0.58), changing to 0.58\n",
      "  ScaperWarning)\n"
     ]
    },
    {
     "name": "stdout",
     "output_type": "stream",
     "text": [
      "Generating soundscape: 530/666\n"
     ]
    },
    {
     "name": "stderr",
     "output_type": "stream",
     "text": [
      "/home/js7561/dev/scaper/scaper/core.py:1112: ScaperWarning: car_horn event duration (1.91) is greater that source duration (1.05), changing to 1.05\n",
      "  ScaperWarning)\n"
     ]
    },
    {
     "name": "stdout",
     "output_type": "stream",
     "text": [
      "Generating soundscape: 531/666\n"
     ]
    },
    {
     "name": "stderr",
     "output_type": "stream",
     "text": [
      "/home/js7561/dev/scaper/scaper/core.py:1199: ScaperWarning: children_playing event time (8.35) is too great given stretched event duration (2.90) and soundscape duration (10.00), changed to 7.10.\n",
      "  ScaperWarning)\n"
     ]
    },
    {
     "name": "stdout",
     "output_type": "stream",
     "text": [
      "Generating soundscape: 532/666\n"
     ]
    },
    {
     "name": "stderr",
     "output_type": "stream",
     "text": [
      "/home/js7561/dev/scaper/scaper/core.py:1112: ScaperWarning: dog_bark event duration (2.80) is greater that source duration (1.33), changing to 1.33\n",
      "  ScaperWarning)\n"
     ]
    },
    {
     "name": "stdout",
     "output_type": "stream",
     "text": [
      "Generating soundscape: 533/666\n"
     ]
    },
    {
     "name": "stderr",
     "output_type": "stream",
     "text": [
      "/home/js7561/dev/scaper/scaper/core.py:1199: ScaperWarning: children_playing event time (9.66) is too great given stretched event duration (1.58) and soundscape duration (10.00), changed to 8.42.\n",
      "  ScaperWarning)\n"
     ]
    },
    {
     "name": "stdout",
     "output_type": "stream",
     "text": [
      "Generating soundscape: 534/666\n"
     ]
    },
    {
     "name": "stderr",
     "output_type": "stream",
     "text": [
      "/home/js7561/dev/scaper/scaper/core.py:1112: ScaperWarning: gun_shot event duration (1.95) is greater that source duration (1.68), changing to 1.68\n",
      "  ScaperWarning)\n"
     ]
    },
    {
     "name": "stdout",
     "output_type": "stream",
     "text": [
      "Generating soundscape: 535/666\n"
     ]
    },
    {
     "name": "stderr",
     "output_type": "stream",
     "text": [
      "/home/js7561/dev/scaper/scaper/core.py:1112: ScaperWarning: dog_bark event duration (1.02) is greater that source duration (0.45), changing to 0.45\n",
      "  ScaperWarning)\n",
      "/home/js7561/dev/scaper/scaper/core.py:1199: ScaperWarning: drilling event time (8.84) is too great given stretched event duration (1.75) and soundscape duration (10.00), changed to 8.25.\n",
      "  ScaperWarning)\n"
     ]
    },
    {
     "name": "stdout",
     "output_type": "stream",
     "text": [
      "Generating soundscape: 536/666\n"
     ]
    },
    {
     "name": "stderr",
     "output_type": "stream",
     "text": [
      "/home/js7561/dev/scaper/scaper/core.py:1199: ScaperWarning: dog_bark event time (7.74) is too great given stretched event duration (4.35) and soundscape duration (10.00), changed to 5.65.\n",
      "  ScaperWarning)\n"
     ]
    },
    {
     "name": "stdout",
     "output_type": "stream",
     "text": [
      "Generating soundscape: 537/666\n"
     ]
    },
    {
     "name": "stderr",
     "output_type": "stream",
     "text": [
      "/home/js7561/dev/scaper/scaper/core.py:1199: ScaperWarning: engine_idling event time (8.04) is too great given stretched event duration (3.56) and soundscape duration (10.00), changed to 6.44.\n",
      "  ScaperWarning)\n"
     ]
    },
    {
     "name": "stdout",
     "output_type": "stream",
     "text": [
      "Generating soundscape: 538/666\n",
      "Generating soundscape: 539/666\n"
     ]
    },
    {
     "name": "stderr",
     "output_type": "stream",
     "text": [
      "/home/js7561/dev/scaper/scaper/core.py:1199: ScaperWarning: air_conditioner event time (8.59) is too great given stretched event duration (1.75) and soundscape duration (10.00), changed to 8.25.\n",
      "  ScaperWarning)\n",
      "/home/js7561/dev/scaper/scaper/core.py:1112: ScaperWarning: car_horn event duration (3.74) is greater that source duration (0.28), changing to 0.28\n",
      "  ScaperWarning)\n"
     ]
    },
    {
     "name": "stdout",
     "output_type": "stream",
     "text": [
      "Generating soundscape: 540/666\n"
     ]
    },
    {
     "name": "stderr",
     "output_type": "stream",
     "text": [
      "/home/js7561/dev/scaper/scaper/core.py:1199: ScaperWarning: street_music event time (8.13) is too great given stretched event duration (3.28) and soundscape duration (10.00), changed to 6.72.\n",
      "  ScaperWarning)\n",
      "/home/js7561/dev/scaper/scaper/core.py:1112: ScaperWarning: car_horn event duration (2.98) is greater that source duration (1.62), changing to 1.62\n",
      "  ScaperWarning)\n"
     ]
    },
    {
     "name": "stdout",
     "output_type": "stream",
     "text": [
      "Generating soundscape: 541/666\n"
     ]
    },
    {
     "name": "stderr",
     "output_type": "stream",
     "text": [
      "/home/js7561/dev/scaper/scaper/core.py:1112: ScaperWarning: car_horn event duration (2.03) is greater that source duration (0.60), changing to 0.60\n",
      "  ScaperWarning)\n",
      "/home/js7561/dev/scaper/scaper/core.py:1199: ScaperWarning: dog_bark event time (8.82) is too great given stretched event duration (2.40) and soundscape duration (10.00), changed to 7.60.\n",
      "  ScaperWarning)\n"
     ]
    },
    {
     "name": "stdout",
     "output_type": "stream",
     "text": [
      "Generating soundscape: 542/666\n",
      "Generating soundscape: 543/666\n"
     ]
    },
    {
     "name": "stderr",
     "output_type": "stream",
     "text": [
      "/home/js7561/dev/scaper/scaper/core.py:1112: ScaperWarning: gun_shot event duration (1.09) is greater that source duration (1.02), changing to 1.02\n",
      "  ScaperWarning)\n",
      "/home/js7561/dev/scaper/scaper/core.py:1199: ScaperWarning: gun_shot event time (9.54) is too great given stretched event duration (0.84) and soundscape duration (10.00), changed to 9.16.\n",
      "  ScaperWarning)\n",
      "/home/js7561/dev/scaper/scaper/core.py:1112: ScaperWarning: gun_shot event duration (3.57) is greater that source duration (2.62), changing to 2.62\n",
      "  ScaperWarning)\n"
     ]
    },
    {
     "name": "stdout",
     "output_type": "stream",
     "text": [
      "Generating soundscape: 544/666\n",
      "Generating soundscape: 545/666\n"
     ]
    },
    {
     "name": "stderr",
     "output_type": "stream",
     "text": [
      "/home/js7561/dev/scaper/scaper/core.py:1112: ScaperWarning: car_horn event duration (2.83) is greater that source duration (0.22), changing to 0.22\n",
      "  ScaperWarning)\n"
     ]
    },
    {
     "name": "stdout",
     "output_type": "stream",
     "text": [
      "Generating soundscape: 546/666\n"
     ]
    },
    {
     "name": "stderr",
     "output_type": "stream",
     "text": [
      "/home/js7561/dev/scaper/scaper/core.py:1112: ScaperWarning: dog_bark event duration (1.11) is greater that source duration (0.65), changing to 0.65\n",
      "  ScaperWarning)\n"
     ]
    },
    {
     "name": "stdout",
     "output_type": "stream",
     "text": [
      "Generating soundscape: 547/666\n"
     ]
    },
    {
     "name": "stderr",
     "output_type": "stream",
     "text": [
      "/home/js7561/dev/scaper/scaper/core.py:1112: ScaperWarning: drilling event duration (3.01) is greater that source duration (0.46), changing to 0.46\n",
      "  ScaperWarning)\n",
      "/home/js7561/dev/scaper/scaper/core.py:1112: ScaperWarning: car_horn event duration (1.71) is greater that source duration (1.20), changing to 1.20\n",
      "  ScaperWarning)\n",
      "/home/js7561/dev/scaper/scaper/core.py:1199: ScaperWarning: air_conditioner event time (9.63) is too great given stretched event duration (2.30) and soundscape duration (10.00), changed to 7.70.\n",
      "  ScaperWarning)\n"
     ]
    },
    {
     "name": "stdout",
     "output_type": "stream",
     "text": [
      "Generating soundscape: 548/666\n"
     ]
    },
    {
     "name": "stderr",
     "output_type": "stream",
     "text": [
      "/home/js7561/dev/scaper/scaper/core.py:1112: ScaperWarning: car_horn event duration (3.96) is greater that source duration (1.62), changing to 1.62\n",
      "  ScaperWarning)\n"
     ]
    },
    {
     "name": "stdout",
     "output_type": "stream",
     "text": [
      "Generating soundscape: 549/666\n"
     ]
    },
    {
     "name": "stderr",
     "output_type": "stream",
     "text": [
      "/home/js7561/dev/scaper/scaper/core.py:1199: ScaperWarning: dog_bark event time (9.82) is too great given stretched event duration (3.07) and soundscape duration (10.00), changed to 6.93.\n",
      "  ScaperWarning)\n",
      "/home/js7561/dev/scaper/scaper/core.py:1199: ScaperWarning: car_horn event time (9.21) is too great given stretched event duration (1.18) and soundscape duration (10.00), changed to 8.82.\n",
      "  ScaperWarning)\n"
     ]
    },
    {
     "name": "stdout",
     "output_type": "stream",
     "text": [
      "Generating soundscape: 550/666\n"
     ]
    },
    {
     "name": "stderr",
     "output_type": "stream",
     "text": [
      "/home/js7561/dev/scaper/scaper/core.py:1199: ScaperWarning: siren event time (10.00) is too great given stretched event duration (0.47) and soundscape duration (10.00), changed to 9.53.\n",
      "  ScaperWarning)\n"
     ]
    },
    {
     "name": "stdout",
     "output_type": "stream",
     "text": [
      "Generating soundscape: 551/666\n"
     ]
    },
    {
     "name": "stderr",
     "output_type": "stream",
     "text": [
      "/home/js7561/dev/scaper/scaper/core.py:1112: ScaperWarning: car_horn event duration (0.91) is greater that source duration (0.33), changing to 0.33\n",
      "  ScaperWarning)\n",
      "/home/js7561/dev/scaper/scaper/core.py:1112: ScaperWarning: car_horn event duration (1.07) is greater that source duration (0.47), changing to 0.47\n",
      "  ScaperWarning)\n"
     ]
    },
    {
     "name": "stdout",
     "output_type": "stream",
     "text": [
      "Generating soundscape: 552/666\n"
     ]
    },
    {
     "name": "stderr",
     "output_type": "stream",
     "text": [
      "/home/js7561/dev/scaper/scaper/core.py:1112: ScaperWarning: car_horn event duration (2.02) is greater that source duration (1.46), changing to 1.46\n",
      "  ScaperWarning)\n"
     ]
    },
    {
     "name": "stdout",
     "output_type": "stream",
     "text": [
      "Generating soundscape: 553/666\n"
     ]
    },
    {
     "name": "stderr",
     "output_type": "stream",
     "text": [
      "/home/js7561/dev/scaper/scaper/core.py:1112: ScaperWarning: gun_shot event duration (2.77) is greater that source duration (1.92), changing to 1.92\n",
      "  ScaperWarning)\n"
     ]
    },
    {
     "name": "stdout",
     "output_type": "stream",
     "text": [
      "Generating soundscape: 554/666\n",
      "Generating soundscape: 555/666\n"
     ]
    },
    {
     "name": "stderr",
     "output_type": "stream",
     "text": [
      "/home/js7561/dev/scaper/scaper/core.py:1112: ScaperWarning: car_horn event duration (3.35) is greater that source duration (0.24), changing to 0.24\n",
      "  ScaperWarning)\n",
      "/home/js7561/dev/scaper/scaper/core.py:1199: ScaperWarning: jackhammer event time (6.86) is too great given stretched event duration (3.52) and soundscape duration (10.00), changed to 6.48.\n",
      "  ScaperWarning)\n"
     ]
    },
    {
     "name": "stdout",
     "output_type": "stream",
     "text": [
      "Generating soundscape: 556/666\n",
      "Generating soundscape: 557/666\n",
      "Generating soundscape: 558/666\n"
     ]
    },
    {
     "name": "stderr",
     "output_type": "stream",
     "text": [
      "/home/js7561/dev/scaper/scaper/core.py:1199: ScaperWarning: children_playing event time (9.02) is too great given stretched event duration (1.23) and soundscape duration (10.00), changed to 8.77.\n",
      "  ScaperWarning)\n",
      "/home/js7561/dev/scaper/scaper/core.py:1199: ScaperWarning: street_music event time (8.41) is too great given stretched event duration (1.59) and soundscape duration (10.00), changed to 8.41.\n",
      "  ScaperWarning)\n",
      "/home/js7561/dev/scaper/scaper/core.py:1112: ScaperWarning: car_horn event duration (1.90) is greater that source duration (0.62), changing to 0.62\n",
      "  ScaperWarning)\n"
     ]
    },
    {
     "name": "stdout",
     "output_type": "stream",
     "text": [
      "Generating soundscape: 559/666\n",
      "Generating soundscape: 560/666\n",
      "Generating soundscape: 561/666\n"
     ]
    },
    {
     "name": "stderr",
     "output_type": "stream",
     "text": [
      "/home/js7561/dev/scaper/scaper/core.py:1199: ScaperWarning: air_conditioner event time (9.62) is too great given stretched event duration (2.29) and soundscape duration (10.00), changed to 7.71.\n",
      "  ScaperWarning)\n",
      "/home/js7561/dev/scaper/scaper/core.py:1112: ScaperWarning: car_horn event duration (2.24) is greater that source duration (0.39), changing to 0.39\n",
      "  ScaperWarning)\n"
     ]
    },
    {
     "name": "stdout",
     "output_type": "stream",
     "text": [
      "Generating soundscape: 562/666\n"
     ]
    },
    {
     "name": "stderr",
     "output_type": "stream",
     "text": [
      "/home/js7561/dev/scaper/scaper/core.py:1112: ScaperWarning: dog_bark event duration (3.84) is greater that source duration (2.28), changing to 2.28\n",
      "  ScaperWarning)\n"
     ]
    },
    {
     "name": "stdout",
     "output_type": "stream",
     "text": [
      "Generating soundscape: 563/666\n"
     ]
    },
    {
     "name": "stderr",
     "output_type": "stream",
     "text": [
      "/home/js7561/dev/scaper/scaper/core.py:1112: ScaperWarning: car_horn event duration (1.59) is greater that source duration (1.05), changing to 1.05\n",
      "  ScaperWarning)\n"
     ]
    },
    {
     "name": "stdout",
     "output_type": "stream",
     "text": [
      "Generating soundscape: 564/666\n"
     ]
    },
    {
     "name": "stderr",
     "output_type": "stream",
     "text": [
      "/home/js7561/dev/scaper/scaper/core.py:1199: ScaperWarning: drilling event time (6.14) is too great given stretched event duration (4.55) and soundscape duration (10.00), changed to 5.45.\n",
      "  ScaperWarning)\n",
      "/home/js7561/dev/scaper/scaper/core.py:1199: ScaperWarning: street_music event time (8.40) is too great given stretched event duration (2.27) and soundscape duration (10.00), changed to 7.73.\n",
      "  ScaperWarning)\n",
      "/home/js7561/dev/scaper/scaper/core.py:1199: ScaperWarning: drilling event time (9.38) is too great given stretched event duration (3.98) and soundscape duration (10.00), changed to 6.02.\n",
      "  ScaperWarning)\n",
      "/home/js7561/dev/scaper/scaper/core.py:1112: ScaperWarning: gun_shot event duration (1.94) is greater that source duration (1.02), changing to 1.02\n",
      "  ScaperWarning)\n"
     ]
    },
    {
     "name": "stdout",
     "output_type": "stream",
     "text": [
      "Generating soundscape: 565/666\n"
     ]
    },
    {
     "name": "stderr",
     "output_type": "stream",
     "text": [
      "/home/js7561/dev/scaper/scaper/core.py:1199: ScaperWarning: siren event time (9.40) is too great given stretched event duration (3.19) and soundscape duration (10.00), changed to 6.81.\n",
      "  ScaperWarning)\n"
     ]
    },
    {
     "name": "stdout",
     "output_type": "stream",
     "text": [
      "Generating soundscape: 566/666\n"
     ]
    },
    {
     "name": "stderr",
     "output_type": "stream",
     "text": [
      "/home/js7561/dev/scaper/scaper/core.py:1112: ScaperWarning: gun_shot event duration (3.13) is greater that source duration (1.79), changing to 1.79\n",
      "  ScaperWarning)\n",
      "/home/js7561/dev/scaper/scaper/core.py:1199: ScaperWarning: jackhammer event time (7.38) is too great given stretched event duration (3.57) and soundscape duration (10.00), changed to 6.43.\n",
      "  ScaperWarning)\n"
     ]
    },
    {
     "name": "stdout",
     "output_type": "stream",
     "text": [
      "Generating soundscape: 567/666\n"
     ]
    },
    {
     "name": "stderr",
     "output_type": "stream",
     "text": [
      "/home/js7561/dev/scaper/scaper/core.py:1112: ScaperWarning: dog_bark event duration (1.84) is greater that source duration (0.74), changing to 0.74\n",
      "  ScaperWarning)\n",
      "/home/js7561/dev/scaper/scaper/core.py:1112: ScaperWarning: car_horn event duration (3.07) is greater that source duration (0.99), changing to 0.99\n",
      "  ScaperWarning)\n",
      "/home/js7561/dev/scaper/scaper/core.py:1112: ScaperWarning: dog_bark event duration (0.70) is greater that source duration (0.44), changing to 0.44\n",
      "  ScaperWarning)\n"
     ]
    },
    {
     "name": "stdout",
     "output_type": "stream",
     "text": [
      "Generating soundscape: 568/666\n"
     ]
    },
    {
     "name": "stderr",
     "output_type": "stream",
     "text": [
      "/home/js7561/dev/scaper/scaper/core.py:1112: ScaperWarning: jackhammer event duration (2.49) is greater that source duration (1.89), changing to 1.89\n",
      "  ScaperWarning)\n",
      "/home/js7561/dev/scaper/scaper/core.py:1199: ScaperWarning: jackhammer event time (9.50) is too great given stretched event duration (1.63) and soundscape duration (10.00), changed to 8.37.\n",
      "  ScaperWarning)\n",
      "/home/js7561/dev/scaper/scaper/core.py:1112: ScaperWarning: car_horn event duration (3.92) is greater that source duration (2.15), changing to 2.15\n",
      "  ScaperWarning)\n",
      "/home/js7561/dev/scaper/scaper/core.py:1199: ScaperWarning: car_horn event time (8.56) is too great given stretched event duration (2.26) and soundscape duration (10.00), changed to 7.74.\n",
      "  ScaperWarning)\n",
      "/home/js7561/dev/scaper/scaper/core.py:1112: ScaperWarning: car_horn event duration (1.17) is greater that source duration (0.17), changing to 0.17\n",
      "  ScaperWarning)\n"
     ]
    },
    {
     "name": "stdout",
     "output_type": "stream",
     "text": [
      "Generating soundscape: 569/666\n"
     ]
    },
    {
     "name": "stderr",
     "output_type": "stream",
     "text": [
      "/home/js7561/dev/scaper/scaper/core.py:1112: ScaperWarning: car_horn event duration (3.07) is greater that source duration (0.39), changing to 0.39\n",
      "  ScaperWarning)\n"
     ]
    },
    {
     "name": "stdout",
     "output_type": "stream",
     "text": [
      "Generating soundscape: 570/666\n",
      "Generating soundscape: 571/666\n"
     ]
    },
    {
     "name": "stderr",
     "output_type": "stream",
     "text": [
      "/home/js7561/dev/scaper/scaper/core.py:1112: ScaperWarning: dog_bark event duration (3.08) is greater that source duration (0.94), changing to 0.94\n",
      "  ScaperWarning)\n",
      "/home/js7561/dev/scaper/scaper/core.py:1112: ScaperWarning: gun_shot event duration (2.26) is greater that source duration (1.23), changing to 1.23\n",
      "  ScaperWarning)\n",
      "/home/js7561/dev/scaper/scaper/core.py:1199: ScaperWarning: gun_shot event time (9.34) is too great given stretched event duration (1.38) and soundscape duration (10.00), changed to 8.62.\n",
      "  ScaperWarning)\n"
     ]
    },
    {
     "name": "stdout",
     "output_type": "stream",
     "text": [
      "Generating soundscape: 572/666\n",
      "Generating soundscape: 573/666\n"
     ]
    },
    {
     "name": "stderr",
     "output_type": "stream",
     "text": [
      "/home/js7561/dev/scaper/scaper/core.py:1199: ScaperWarning: siren event time (9.09) is too great given stretched event duration (2.81) and soundscape duration (10.00), changed to 7.19.\n",
      "  ScaperWarning)\n"
     ]
    },
    {
     "name": "stdout",
     "output_type": "stream",
     "text": [
      "Generating soundscape: 574/666\n"
     ]
    },
    {
     "name": "stderr",
     "output_type": "stream",
     "text": [
      "/home/js7561/dev/scaper/scaper/core.py:1199: ScaperWarning: gun_shot event time (9.92) is too great given stretched event duration (1.98) and soundscape duration (10.00), changed to 8.02.\n",
      "  ScaperWarning)\n"
     ]
    },
    {
     "name": "stdout",
     "output_type": "stream",
     "text": [
      "Generating soundscape: 575/666\n"
     ]
    },
    {
     "name": "stderr",
     "output_type": "stream",
     "text": [
      "/home/js7561/dev/scaper/scaper/core.py:1112: ScaperWarning: siren event duration (2.82) is greater that source duration (2.37), changing to 2.37\n",
      "  ScaperWarning)\n"
     ]
    },
    {
     "name": "stdout",
     "output_type": "stream",
     "text": [
      "Generating soundscape: 576/666\n"
     ]
    },
    {
     "name": "stderr",
     "output_type": "stream",
     "text": [
      "/home/js7561/dev/scaper/scaper/core.py:1112: ScaperWarning: drilling event duration (2.06) is greater that source duration (0.95), changing to 0.95\n",
      "  ScaperWarning)\n"
     ]
    },
    {
     "name": "stdout",
     "output_type": "stream",
     "text": [
      "Generating soundscape: 577/666\n"
     ]
    },
    {
     "name": "stderr",
     "output_type": "stream",
     "text": [
      "/home/js7561/dev/scaper/scaper/core.py:1199: ScaperWarning: siren event time (9.29) is too great given stretched event duration (3.16) and soundscape duration (10.00), changed to 6.84.\n",
      "  ScaperWarning)\n",
      "/home/js7561/dev/scaper/scaper/core.py:1112: ScaperWarning: siren event duration (3.70) is greater that source duration (1.10), changing to 1.10\n",
      "  ScaperWarning)\n"
     ]
    },
    {
     "name": "stdout",
     "output_type": "stream",
     "text": [
      "Generating soundscape: 578/666\n"
     ]
    },
    {
     "name": "stderr",
     "output_type": "stream",
     "text": [
      "/home/js7561/dev/scaper/scaper/core.py:1112: ScaperWarning: dog_bark event duration (3.90) is greater that source duration (0.79), changing to 0.79\n",
      "  ScaperWarning)\n",
      "/home/js7561/dev/scaper/scaper/core.py:1199: ScaperWarning: children_playing event time (9.12) is too great given stretched event duration (3.09) and soundscape duration (10.00), changed to 6.91.\n",
      "  ScaperWarning)\n",
      "/home/js7561/dev/scaper/scaper/core.py:1112: ScaperWarning: drilling event duration (1.52) is greater that source duration (0.95), changing to 0.95\n",
      "  ScaperWarning)\n"
     ]
    },
    {
     "name": "stdout",
     "output_type": "stream",
     "text": [
      "Generating soundscape: 579/666\n"
     ]
    },
    {
     "name": "stderr",
     "output_type": "stream",
     "text": [
      "/home/js7561/dev/scaper/scaper/core.py:1199: ScaperWarning: air_conditioner event time (6.94) is too great given stretched event duration (3.59) and soundscape duration (10.00), changed to 6.41.\n",
      "  ScaperWarning)\n"
     ]
    },
    {
     "name": "stdout",
     "output_type": "stream",
     "text": [
      "Generating soundscape: 580/666\n"
     ]
    },
    {
     "name": "stderr",
     "output_type": "stream",
     "text": [
      "/home/js7561/dev/scaper/scaper/core.py:1199: ScaperWarning: engine_idling event time (7.42) is too great given stretched event duration (4.46) and soundscape duration (10.00), changed to 5.54.\n",
      "  ScaperWarning)\n",
      "/home/js7561/dev/scaper/scaper/core.py:1112: ScaperWarning: dog_bark event duration (3.93) is greater that source duration (2.81), changing to 2.81\n",
      "  ScaperWarning)\n"
     ]
    },
    {
     "name": "stdout",
     "output_type": "stream",
     "text": [
      "Generating soundscape: 581/666\n",
      "Generating soundscape: 582/666\n"
     ]
    },
    {
     "name": "stderr",
     "output_type": "stream",
     "text": [
      "/home/js7561/dev/scaper/scaper/core.py:1112: ScaperWarning: gun_shot event duration (2.65) is greater that source duration (1.66), changing to 1.66\n",
      "  ScaperWarning)\n",
      "/home/js7561/dev/scaper/scaper/core.py:1112: ScaperWarning: gun_shot event duration (1.72) is greater that source duration (1.40), changing to 1.40\n",
      "  ScaperWarning)\n"
     ]
    },
    {
     "name": "stdout",
     "output_type": "stream",
     "text": [
      "Generating soundscape: 583/666\n"
     ]
    },
    {
     "name": "stderr",
     "output_type": "stream",
     "text": [
      "/home/js7561/dev/scaper/scaper/core.py:1112: ScaperWarning: gun_shot event duration (3.09) is greater that source duration (1.81), changing to 1.81\n",
      "  ScaperWarning)\n",
      "/home/js7561/dev/scaper/scaper/core.py:1112: ScaperWarning: jackhammer event duration (3.60) is greater that source duration (3.04), changing to 3.04\n",
      "  ScaperWarning)\n"
     ]
    },
    {
     "name": "stdout",
     "output_type": "stream",
     "text": [
      "Generating soundscape: 584/666\n"
     ]
    },
    {
     "name": "stderr",
     "output_type": "stream",
     "text": [
      "/home/js7561/dev/scaper/scaper/core.py:1199: ScaperWarning: engine_idling event time (9.00) is too great given stretched event duration (2.52) and soundscape duration (10.00), changed to 7.48.\n",
      "  ScaperWarning)\n"
     ]
    },
    {
     "name": "stdout",
     "output_type": "stream",
     "text": [
      "Generating soundscape: 585/666\n"
     ]
    },
    {
     "name": "stderr",
     "output_type": "stream",
     "text": [
      "/home/js7561/dev/scaper/scaper/core.py:1199: ScaperWarning: engine_idling event time (7.25) is too great given stretched event duration (3.09) and soundscape duration (10.00), changed to 6.91.\n",
      "  ScaperWarning)\n",
      "/home/js7561/dev/scaper/scaper/core.py:1112: ScaperWarning: car_horn event duration (3.47) is greater that source duration (0.85), changing to 0.85\n",
      "  ScaperWarning)\n",
      "/home/js7561/dev/scaper/scaper/core.py:1112: ScaperWarning: gun_shot event duration (3.01) is greater that source duration (2.22), changing to 2.22\n",
      "  ScaperWarning)\n"
     ]
    },
    {
     "name": "stdout",
     "output_type": "stream",
     "text": [
      "Generating soundscape: 586/666\n",
      "Generating soundscape: 587/666\n",
      "Generating soundscape: 588/666\n"
     ]
    },
    {
     "name": "stderr",
     "output_type": "stream",
     "text": [
      "/home/js7561/dev/scaper/scaper/core.py:1112: ScaperWarning: car_horn event duration (1.78) is greater that source duration (1.16), changing to 1.16\n",
      "  ScaperWarning)\n",
      "/home/js7561/dev/scaper/scaper/core.py:1112: ScaperWarning: gun_shot event duration (3.30) is greater that source duration (0.94), changing to 0.94\n",
      "  ScaperWarning)\n",
      "/home/js7561/dev/scaper/scaper/core.py:1112: ScaperWarning: dog_bark event duration (1.72) is greater that source duration (1.19), changing to 1.19\n",
      "  ScaperWarning)\n",
      "/home/js7561/dev/scaper/scaper/core.py:1112: ScaperWarning: dog_bark event duration (3.53) is greater that source duration (1.29), changing to 1.29\n",
      "  ScaperWarning)\n",
      "/home/js7561/dev/scaper/scaper/core.py:1112: ScaperWarning: gun_shot event duration (3.18) is greater that source duration (0.50), changing to 0.50\n",
      "  ScaperWarning)\n"
     ]
    },
    {
     "name": "stdout",
     "output_type": "stream",
     "text": [
      "Generating soundscape: 589/666\n",
      "Generating soundscape: 590/666\n",
      "Generating soundscape: 591/666\n",
      "Generating soundscape: 592/666\n"
     ]
    },
    {
     "name": "stderr",
     "output_type": "stream",
     "text": [
      "/home/js7561/dev/scaper/scaper/core.py:1199: ScaperWarning: jackhammer event time (9.33) is too great given stretched event duration (1.03) and soundscape duration (10.00), changed to 8.97.\n",
      "  ScaperWarning)\n",
      "/home/js7561/dev/scaper/scaper/core.py:1112: ScaperWarning: car_horn event duration (3.41) is greater that source duration (0.86), changing to 0.86\n",
      "  ScaperWarning)\n"
     ]
    },
    {
     "name": "stdout",
     "output_type": "stream",
     "text": [
      "Generating soundscape: 593/666\n"
     ]
    },
    {
     "name": "stderr",
     "output_type": "stream",
     "text": [
      "/home/js7561/dev/scaper/scaper/core.py:1112: ScaperWarning: car_horn event duration (2.64) is greater that source duration (0.60), changing to 0.60\n",
      "  ScaperWarning)\n",
      "/home/js7561/dev/scaper/scaper/core.py:1199: ScaperWarning: street_music event time (7.89) is too great given stretched event duration (2.67) and soundscape duration (10.00), changed to 7.33.\n",
      "  ScaperWarning)\n"
     ]
    },
    {
     "name": "stdout",
     "output_type": "stream",
     "text": [
      "Generating soundscape: 594/666\n"
     ]
    },
    {
     "name": "stderr",
     "output_type": "stream",
     "text": [
      "/home/js7561/dev/scaper/scaper/core.py:1199: ScaperWarning: siren event time (9.79) is too great given stretched event duration (3.44) and soundscape duration (10.00), changed to 6.56.\n",
      "  ScaperWarning)\n"
     ]
    },
    {
     "name": "stdout",
     "output_type": "stream",
     "text": [
      "Generating soundscape: 595/666\n",
      "Generating soundscape: 596/666\n"
     ]
    },
    {
     "name": "stderr",
     "output_type": "stream",
     "text": [
      "/home/js7561/dev/scaper/scaper/core.py:1112: ScaperWarning: dog_bark event duration (3.00) is greater that source duration (0.72), changing to 0.72\n",
      "  ScaperWarning)\n",
      "/home/js7561/dev/scaper/scaper/core.py:1112: ScaperWarning: car_horn event duration (2.36) is greater that source duration (1.21), changing to 1.21\n",
      "  ScaperWarning)\n",
      "/home/js7561/dev/scaper/scaper/core.py:1199: ScaperWarning: air_conditioner event time (8.45) is too great given stretched event duration (2.16) and soundscape duration (10.00), changed to 7.84.\n",
      "  ScaperWarning)\n",
      "/home/js7561/dev/scaper/scaper/core.py:1112: ScaperWarning: gun_shot event duration (1.86) is greater that source duration (0.94), changing to 0.94\n",
      "  ScaperWarning)\n"
     ]
    },
    {
     "name": "stdout",
     "output_type": "stream",
     "text": [
      "Generating soundscape: 597/666\n"
     ]
    },
    {
     "name": "stderr",
     "output_type": "stream",
     "text": [
      "/home/js7561/dev/scaper/scaper/core.py:1112: ScaperWarning: car_horn event duration (1.47) is greater that source duration (0.22), changing to 0.22\n",
      "  ScaperWarning)\n",
      "/home/js7561/dev/scaper/scaper/core.py:1112: ScaperWarning: dog_bark event duration (2.65) is greater that source duration (1.29), changing to 1.29\n",
      "  ScaperWarning)\n"
     ]
    },
    {
     "name": "stdout",
     "output_type": "stream",
     "text": [
      "Generating soundscape: 598/666\n",
      "Generating soundscape: 599/666\n",
      "Generating soundscape: 600/666\n"
     ]
    },
    {
     "name": "stderr",
     "output_type": "stream",
     "text": [
      "/home/js7561/dev/scaper/scaper/core.py:1199: ScaperWarning: children_playing event time (8.54) is too great given stretched event duration (1.62) and soundscape duration (10.00), changed to 8.38.\n",
      "  ScaperWarning)\n",
      "/home/js7561/dev/scaper/scaper/core.py:1199: ScaperWarning: drilling event time (8.83) is too great given stretched event duration (3.26) and soundscape duration (10.00), changed to 6.74.\n",
      "  ScaperWarning)\n"
     ]
    },
    {
     "name": "stdout",
     "output_type": "stream",
     "text": [
      "Generating soundscape: 601/666\n"
     ]
    },
    {
     "name": "stderr",
     "output_type": "stream",
     "text": [
      "/home/js7561/dev/scaper/scaper/core.py:1112: ScaperWarning: car_horn event duration (3.47) is greater that source duration (0.99), changing to 0.99\n",
      "  ScaperWarning)\n",
      "/home/js7561/dev/scaper/scaper/core.py:1112: ScaperWarning: car_horn event duration (2.61) is greater that source duration (0.21), changing to 0.21\n",
      "  ScaperWarning)\n"
     ]
    },
    {
     "name": "stdout",
     "output_type": "stream",
     "text": [
      "Generating soundscape: 602/666\n"
     ]
    },
    {
     "name": "stderr",
     "output_type": "stream",
     "text": [
      "/home/js7561/dev/scaper/scaper/core.py:1199: ScaperWarning: children_playing event time (9.52) is too great given stretched event duration (3.10) and soundscape duration (10.00), changed to 6.90.\n",
      "  ScaperWarning)\n",
      "/home/js7561/dev/scaper/scaper/core.py:1112: ScaperWarning: gun_shot event duration (1.91) is greater that source duration (1.84), changing to 1.84\n",
      "  ScaperWarning)\n",
      "/home/js7561/dev/scaper/scaper/core.py:1199: ScaperWarning: engine_idling event time (6.67) is too great given stretched event duration (3.43) and soundscape duration (10.00), changed to 6.57.\n",
      "  ScaperWarning)\n"
     ]
    },
    {
     "name": "stdout",
     "output_type": "stream",
     "text": [
      "Generating soundscape: 603/666\n"
     ]
    },
    {
     "name": "stderr",
     "output_type": "stream",
     "text": [
      "/home/js7561/dev/scaper/scaper/core.py:1112: ScaperWarning: dog_bark event duration (2.31) is greater that source duration (1.86), changing to 1.86\n",
      "  ScaperWarning)\n",
      "/home/js7561/dev/scaper/scaper/core.py:1112: ScaperWarning: dog_bark event duration (3.03) is greater that source duration (2.25), changing to 2.25\n",
      "  ScaperWarning)\n",
      "/home/js7561/dev/scaper/scaper/core.py:1112: ScaperWarning: gun_shot event duration (2.43) is greater that source duration (1.09), changing to 1.09\n",
      "  ScaperWarning)\n"
     ]
    },
    {
     "name": "stdout",
     "output_type": "stream",
     "text": [
      "Generating soundscape: 604/666\n"
     ]
    },
    {
     "name": "stderr",
     "output_type": "stream",
     "text": [
      "/home/js7561/dev/scaper/scaper/core.py:1199: ScaperWarning: street_music event time (7.72) is too great given stretched event duration (2.90) and soundscape duration (10.00), changed to 7.10.\n",
      "  ScaperWarning)\n",
      "/home/js7561/dev/scaper/scaper/core.py:1199: ScaperWarning: drilling event time (9.59) is too great given stretched event duration (2.71) and soundscape duration (10.00), changed to 7.29.\n",
      "  ScaperWarning)\n"
     ]
    },
    {
     "name": "stdout",
     "output_type": "stream",
     "text": [
      "Generating soundscape: 605/666\n"
     ]
    },
    {
     "name": "stderr",
     "output_type": "stream",
     "text": [
      "/home/js7561/dev/scaper/scaper/core.py:1112: ScaperWarning: car_horn event duration (0.89) is greater that source duration (0.22), changing to 0.22\n",
      "  ScaperWarning)\n",
      "/home/js7561/dev/scaper/scaper/core.py:1199: ScaperWarning: engine_idling event time (7.37) is too great given stretched event duration (2.81) and soundscape duration (10.00), changed to 7.19.\n",
      "  ScaperWarning)\n"
     ]
    },
    {
     "name": "stdout",
     "output_type": "stream",
     "text": [
      "Generating soundscape: 606/666\n"
     ]
    },
    {
     "name": "stderr",
     "output_type": "stream",
     "text": [
      "/home/js7561/dev/scaper/scaper/core.py:1199: ScaperWarning: engine_idling event time (7.86) is too great given stretched event duration (3.77) and soundscape duration (10.00), changed to 6.23.\n",
      "  ScaperWarning)\n"
     ]
    },
    {
     "name": "stdout",
     "output_type": "stream",
     "text": [
      "Generating soundscape: 607/666\n",
      "Generating soundscape: 608/666\n"
     ]
    },
    {
     "name": "stderr",
     "output_type": "stream",
     "text": [
      "/home/js7561/dev/scaper/scaper/core.py:1199: ScaperWarning: siren event time (9.68) is too great given stretched event duration (3.44) and soundscape duration (10.00), changed to 6.56.\n",
      "  ScaperWarning)\n"
     ]
    },
    {
     "name": "stdout",
     "output_type": "stream",
     "text": [
      "Generating soundscape: 609/666\n"
     ]
    },
    {
     "name": "stderr",
     "output_type": "stream",
     "text": [
      "/home/js7561/dev/scaper/scaper/core.py:1112: ScaperWarning: car_horn event duration (1.76) is greater that source duration (1.32), changing to 1.32\n",
      "  ScaperWarning)\n"
     ]
    },
    {
     "name": "stdout",
     "output_type": "stream",
     "text": [
      "Generating soundscape: 610/666\n"
     ]
    },
    {
     "name": "stderr",
     "output_type": "stream",
     "text": [
      "/home/js7561/dev/scaper/scaper/core.py:1112: ScaperWarning: car_horn event duration (1.86) is greater that source duration (0.86), changing to 0.86\n",
      "  ScaperWarning)\n",
      "/home/js7561/dev/scaper/scaper/core.py:1112: ScaperWarning: gun_shot event duration (3.91) is greater that source duration (1.55), changing to 1.55\n",
      "  ScaperWarning)\n",
      "/home/js7561/dev/scaper/scaper/core.py:1199: ScaperWarning: gun_shot event time (9.97) is too great given stretched event duration (1.57) and soundscape duration (10.00), changed to 8.43.\n",
      "  ScaperWarning)\n"
     ]
    },
    {
     "name": "stdout",
     "output_type": "stream",
     "text": [
      "Generating soundscape: 611/666\n"
     ]
    },
    {
     "name": "stderr",
     "output_type": "stream",
     "text": [
      "/home/js7561/dev/scaper/scaper/core.py:1112: ScaperWarning: gun_shot event duration (3.53) is greater that source duration (2.93), changing to 2.93\n",
      "  ScaperWarning)\n"
     ]
    },
    {
     "name": "stdout",
     "output_type": "stream",
     "text": [
      "Generating soundscape: 612/666\n",
      "Generating soundscape: 613/666\n"
     ]
    },
    {
     "name": "stderr",
     "output_type": "stream",
     "text": [
      "/home/js7561/dev/scaper/scaper/core.py:1112: ScaperWarning: gun_shot event duration (3.09) is greater that source duration (1.26), changing to 1.26\n",
      "  ScaperWarning)\n",
      "/home/js7561/dev/scaper/scaper/core.py:1199: ScaperWarning: gun_shot event time (9.75) is too great given stretched event duration (1.34) and soundscape duration (10.00), changed to 8.66.\n",
      "  ScaperWarning)\n",
      "/home/js7561/dev/scaper/scaper/core.py:1199: ScaperWarning: air_conditioner event time (7.07) is too great given stretched event duration (3.61) and soundscape duration (10.00), changed to 6.39.\n",
      "  ScaperWarning)\n",
      "/home/js7561/dev/scaper/scaper/core.py:1112: ScaperWarning: car_horn event duration (3.01) is greater that source duration (1.74), changing to 1.74\n",
      "  ScaperWarning)\n"
     ]
    },
    {
     "name": "stdout",
     "output_type": "stream",
     "text": [
      "Generating soundscape: 614/666\n"
     ]
    },
    {
     "name": "stderr",
     "output_type": "stream",
     "text": [
      "/home/js7561/dev/scaper/scaper/core.py:1112: ScaperWarning: car_horn event duration (3.43) is greater that source duration (1.74), changing to 1.74\n",
      "  ScaperWarning)\n",
      "/home/js7561/dev/scaper/scaper/core.py:1199: ScaperWarning: car_horn event time (9.92) is too great given stretched event duration (1.90) and soundscape duration (10.00), changed to 8.10.\n",
      "  ScaperWarning)\n",
      "/home/js7561/dev/scaper/scaper/core.py:1112: ScaperWarning: gun_shot event duration (3.59) is greater that source duration (1.15), changing to 1.15\n",
      "  ScaperWarning)\n",
      "/home/js7561/dev/scaper/scaper/core.py:1199: ScaperWarning: car_horn event time (8.20) is too great given stretched event duration (2.13) and soundscape duration (10.00), changed to 7.87.\n",
      "  ScaperWarning)\n",
      "/home/js7561/dev/scaper/scaper/core.py:1112: ScaperWarning: car_horn event duration (3.71) is greater that source duration (3.60), changing to 3.60\n",
      "  ScaperWarning)\n",
      "/home/js7561/dev/scaper/scaper/core.py:1199: ScaperWarning: car_horn event time (8.54) is too great given stretched event duration (4.15) and soundscape duration (10.00), changed to 5.85.\n",
      "  ScaperWarning)\n"
     ]
    },
    {
     "name": "stdout",
     "output_type": "stream",
     "text": [
      "Generating soundscape: 615/666\n"
     ]
    },
    {
     "name": "stderr",
     "output_type": "stream",
     "text": [
      "/home/js7561/dev/scaper/scaper/core.py:1199: ScaperWarning: siren event time (9.44) is too great given stretched event duration (3.00) and soundscape duration (10.00), changed to 7.00.\n",
      "  ScaperWarning)\n",
      "/home/js7561/dev/scaper/scaper/core.py:1199: ScaperWarning: air_conditioner event time (8.94) is too great given stretched event duration (1.31) and soundscape duration (10.00), changed to 8.69.\n",
      "  ScaperWarning)\n",
      "/home/js7561/dev/scaper/scaper/core.py:1112: ScaperWarning: car_horn event duration (3.49) is greater that source duration (0.17), changing to 0.17\n",
      "  ScaperWarning)\n"
     ]
    },
    {
     "name": "stdout",
     "output_type": "stream",
     "text": [
      "Generating soundscape: 616/666\n"
     ]
    },
    {
     "name": "stderr",
     "output_type": "stream",
     "text": [
      "/home/js7561/dev/scaper/scaper/core.py:1199: ScaperWarning: jackhammer event time (8.55) is too great given stretched event duration (1.94) and soundscape duration (10.00), changed to 8.06.\n",
      "  ScaperWarning)\n",
      "/home/js7561/dev/scaper/scaper/core.py:1199: ScaperWarning: air_conditioner event time (8.16) is too great given stretched event duration (4.00) and soundscape duration (10.00), changed to 6.00.\n",
      "  ScaperWarning)\n"
     ]
    },
    {
     "name": "stdout",
     "output_type": "stream",
     "text": [
      "Generating soundscape: 617/666\n"
     ]
    },
    {
     "name": "stderr",
     "output_type": "stream",
     "text": [
      "/home/js7561/dev/scaper/scaper/core.py:1112: ScaperWarning: gun_shot event duration (3.83) is greater that source duration (2.36), changing to 2.36\n",
      "  ScaperWarning)\n",
      "/home/js7561/dev/scaper/scaper/core.py:1199: ScaperWarning: gun_shot event time (9.55) is too great given stretched event duration (1.94) and soundscape duration (10.00), changed to 8.06.\n",
      "  ScaperWarning)\n",
      "/home/js7561/dev/scaper/scaper/core.py:1199: ScaperWarning: dog_bark event time (9.10) is too great given stretched event duration (2.04) and soundscape duration (10.00), changed to 7.96.\n",
      "  ScaperWarning)\n"
     ]
    },
    {
     "name": "stdout",
     "output_type": "stream",
     "text": [
      "Generating soundscape: 618/666\n",
      "Generating soundscape: 619/666\n"
     ]
    },
    {
     "name": "stderr",
     "output_type": "stream",
     "text": [
      "/home/js7561/dev/scaper/scaper/core.py:1112: ScaperWarning: car_horn event duration (3.16) is greater that source duration (0.90), changing to 0.90\n",
      "  ScaperWarning)\n",
      "/home/js7561/dev/scaper/scaper/core.py:1199: ScaperWarning: car_horn event time (9.02) is too great given stretched event duration (2.35) and soundscape duration (10.00), changed to 7.65.\n",
      "  ScaperWarning)\n"
     ]
    },
    {
     "name": "stdout",
     "output_type": "stream",
     "text": [
      "Generating soundscape: 620/666\n",
      "Generating soundscape: 621/666\n"
     ]
    },
    {
     "name": "stderr",
     "output_type": "stream",
     "text": [
      "/home/js7561/dev/scaper/scaper/core.py:1112: ScaperWarning: drilling event duration (3.55) is greater that source duration (2.21), changing to 2.21\n",
      "  ScaperWarning)\n",
      "/home/js7561/dev/scaper/scaper/core.py:1112: ScaperWarning: car_horn event duration (2.94) is greater that source duration (0.99), changing to 0.99\n",
      "  ScaperWarning)\n",
      "/home/js7561/dev/scaper/scaper/core.py:1112: ScaperWarning: drilling event duration (2.33) is greater that source duration (1.73), changing to 1.73\n",
      "  ScaperWarning)\n",
      "/home/js7561/dev/scaper/scaper/core.py:1199: ScaperWarning: drilling event time (8.68) is too great given stretched event duration (2.03) and soundscape duration (10.00), changed to 7.97.\n",
      "  ScaperWarning)\n"
     ]
    },
    {
     "name": "stdout",
     "output_type": "stream",
     "text": [
      "Generating soundscape: 622/666\n"
     ]
    },
    {
     "name": "stderr",
     "output_type": "stream",
     "text": [
      "/home/js7561/dev/scaper/scaper/core.py:1199: ScaperWarning: engine_idling event time (8.17) is too great given stretched event duration (2.98) and soundscape duration (10.00), changed to 7.02.\n",
      "  ScaperWarning)\n"
     ]
    },
    {
     "name": "stdout",
     "output_type": "stream",
     "text": [
      "Generating soundscape: 623/666\n"
     ]
    },
    {
     "name": "stderr",
     "output_type": "stream",
     "text": [
      "/home/js7561/dev/scaper/scaper/core.py:1112: ScaperWarning: jackhammer event duration (3.85) is greater that source duration (3.30), changing to 3.30\n",
      "  ScaperWarning)\n",
      "/home/js7561/dev/scaper/scaper/core.py:1199: ScaperWarning: dog_bark event time (9.55) is too great given stretched event duration (2.41) and soundscape duration (10.00), changed to 7.59.\n",
      "  ScaperWarning)\n",
      "/home/js7561/dev/scaper/scaper/core.py:1199: ScaperWarning: dog_bark event time (8.20) is too great given stretched event duration (2.13) and soundscape duration (10.00), changed to 7.87.\n",
      "  ScaperWarning)\n",
      "/home/js7561/dev/scaper/scaper/core.py:1199: ScaperWarning: siren event time (8.54) is too great given stretched event duration (2.29) and soundscape duration (10.00), changed to 7.71.\n",
      "  ScaperWarning)\n"
     ]
    },
    {
     "name": "stdout",
     "output_type": "stream",
     "text": [
      "Generating soundscape: 624/666\n"
     ]
    },
    {
     "name": "stderr",
     "output_type": "stream",
     "text": [
      "/home/js7561/dev/scaper/scaper/core.py:1112: ScaperWarning: car_horn event duration (3.25) is greater that source duration (1.21), changing to 1.21\n",
      "  ScaperWarning)\n",
      "/home/js7561/dev/scaper/scaper/core.py:1199: ScaperWarning: street_music event time (8.09) is too great given stretched event duration (4.22) and soundscape duration (10.00), changed to 5.78.\n",
      "  ScaperWarning)\n"
     ]
    },
    {
     "name": "stdout",
     "output_type": "stream",
     "text": [
      "Generating soundscape: 625/666\n"
     ]
    },
    {
     "name": "stderr",
     "output_type": "stream",
     "text": [
      "/home/js7561/dev/scaper/scaper/core.py:1112: ScaperWarning: car_horn event duration (1.30) is greater that source duration (0.24), changing to 0.24\n",
      "  ScaperWarning)\n"
     ]
    },
    {
     "name": "stdout",
     "output_type": "stream",
     "text": [
      "Generating soundscape: 626/666\n"
     ]
    },
    {
     "name": "stderr",
     "output_type": "stream",
     "text": [
      "/home/js7561/dev/scaper/scaper/core.py:1112: ScaperWarning: gun_shot event duration (3.97) is greater that source duration (1.33), changing to 1.33\n",
      "  ScaperWarning)\n",
      "/home/js7561/dev/scaper/scaper/core.py:1199: ScaperWarning: jackhammer event time (9.13) is too great given stretched event duration (3.00) and soundscape duration (10.00), changed to 7.00.\n",
      "  ScaperWarning)\n"
     ]
    },
    {
     "name": "stdout",
     "output_type": "stream",
     "text": [
      "Generating soundscape: 627/666\n",
      "Generating soundscape: 628/666\n",
      "Generating soundscape: 629/666\n"
     ]
    },
    {
     "name": "stderr",
     "output_type": "stream",
     "text": [
      "/home/js7561/dev/scaper/scaper/core.py:1199: ScaperWarning: siren event time (9.54) is too great given stretched event duration (2.27) and soundscape duration (10.00), changed to 7.73.\n",
      "  ScaperWarning)\n"
     ]
    },
    {
     "name": "stdout",
     "output_type": "stream",
     "text": [
      "Generating soundscape: 630/666\n",
      "Generating soundscape: 631/666\n"
     ]
    },
    {
     "name": "stderr",
     "output_type": "stream",
     "text": [
      "/home/js7561/dev/scaper/scaper/core.py:1112: ScaperWarning: dog_bark event duration (1.52) is greater that source duration (0.55), changing to 0.55\n",
      "  ScaperWarning)\n"
     ]
    },
    {
     "name": "stdout",
     "output_type": "stream",
     "text": [
      "Generating soundscape: 632/666\n",
      "Generating soundscape: 633/666\n"
     ]
    },
    {
     "name": "stderr",
     "output_type": "stream",
     "text": [
      "/home/js7561/dev/scaper/scaper/core.py:1112: ScaperWarning: car_horn event duration (3.47) is greater that source duration (2.05), changing to 2.05\n",
      "  ScaperWarning)\n",
      "/home/js7561/dev/scaper/scaper/core.py:1199: ScaperWarning: car_horn event time (9.91) is too great given stretched event duration (1.98) and soundscape duration (10.00), changed to 8.02.\n",
      "  ScaperWarning)\n",
      "/home/js7561/dev/scaper/scaper/core.py:1112: ScaperWarning: car_horn event duration (2.92) is greater that source duration (0.39), changing to 0.39\n",
      "  ScaperWarning)\n",
      "/home/js7561/dev/scaper/scaper/core.py:1112: ScaperWarning: car_horn event duration (3.41) is greater that source duration (1.62), changing to 1.62\n",
      "  ScaperWarning)\n"
     ]
    },
    {
     "name": "stdout",
     "output_type": "stream",
     "text": [
      "Generating soundscape: 634/666\n"
     ]
    },
    {
     "name": "stderr",
     "output_type": "stream",
     "text": [
      "/home/js7561/dev/scaper/scaper/core.py:1112: ScaperWarning: gun_shot event duration (3.58) is greater that source duration (3.49), changing to 3.49\n",
      "  ScaperWarning)\n"
     ]
    },
    {
     "name": "stdout",
     "output_type": "stream",
     "text": [
      "Generating soundscape: 635/666\n"
     ]
    },
    {
     "name": "stderr",
     "output_type": "stream",
     "text": [
      "/home/js7561/dev/scaper/scaper/core.py:1199: ScaperWarning: engine_idling event time (7.53) is too great given stretched event duration (3.16) and soundscape duration (10.00), changed to 6.84.\n",
      "  ScaperWarning)\n",
      "/home/js7561/dev/scaper/scaper/core.py:1112: ScaperWarning: dog_bark event duration (3.07) is greater that source duration (1.00), changing to 1.00\n",
      "  ScaperWarning)\n"
     ]
    },
    {
     "name": "stdout",
     "output_type": "stream",
     "text": [
      "Generating soundscape: 636/666\n",
      "Generating soundscape: 637/666\n"
     ]
    },
    {
     "name": "stderr",
     "output_type": "stream",
     "text": [
      "/home/js7561/dev/scaper/scaper/core.py:1112: ScaperWarning: car_horn event duration (3.90) is greater that source duration (1.20), changing to 1.20\n",
      "  ScaperWarning)\n"
     ]
    },
    {
     "name": "stdout",
     "output_type": "stream",
     "text": [
      "Generating soundscape: 638/666\n",
      "Generating soundscape: 639/666\n",
      "Generating soundscape: 640/666\n",
      "Generating soundscape: 641/666\n"
     ]
    },
    {
     "name": "stderr",
     "output_type": "stream",
     "text": [
      "/home/js7561/dev/scaper/scaper/core.py:1199: ScaperWarning: engine_idling event time (9.91) is too great given stretched event duration (2.38) and soundscape duration (10.00), changed to 7.62.\n",
      "  ScaperWarning)\n",
      "/home/js7561/dev/scaper/scaper/core.py:1199: ScaperWarning: siren event time (7.73) is too great given stretched event duration (4.29) and soundscape duration (10.00), changed to 5.71.\n",
      "  ScaperWarning)\n",
      "/home/js7561/dev/scaper/scaper/core.py:1199: ScaperWarning: drilling event time (5.89) is too great given stretched event duration (4.14) and soundscape duration (10.00), changed to 5.86.\n",
      "  ScaperWarning)\n"
     ]
    },
    {
     "name": "stdout",
     "output_type": "stream",
     "text": [
      "Generating soundscape: 642/666\n"
     ]
    },
    {
     "name": "stderr",
     "output_type": "stream",
     "text": [
      "/home/js7561/dev/scaper/scaper/core.py:1199: ScaperWarning: jackhammer event time (8.92) is too great given stretched event duration (3.82) and soundscape duration (10.00), changed to 6.18.\n",
      "  ScaperWarning)\n"
     ]
    },
    {
     "name": "stdout",
     "output_type": "stream",
     "text": [
      "Generating soundscape: 643/666\n",
      "Generating soundscape: 644/666\n",
      "Generating soundscape: 645/666\n"
     ]
    },
    {
     "name": "stderr",
     "output_type": "stream",
     "text": [
      "/home/js7561/dev/scaper/scaper/core.py:1112: ScaperWarning: car_horn event duration (0.57) is greater that source duration (0.28), changing to 0.28\n",
      "  ScaperWarning)\n",
      "/home/js7561/dev/scaper/scaper/core.py:1112: ScaperWarning: gun_shot event duration (2.40) is greater that source duration (2.36), changing to 2.36\n",
      "  ScaperWarning)\n"
     ]
    },
    {
     "name": "stdout",
     "output_type": "stream",
     "text": [
      "Generating soundscape: 646/666\n"
     ]
    },
    {
     "name": "stderr",
     "output_type": "stream",
     "text": [
      "/home/js7561/dev/scaper/scaper/core.py:1199: ScaperWarning: air_conditioner event time (8.26) is too great given stretched event duration (4.08) and soundscape duration (10.00), changed to 5.92.\n",
      "  ScaperWarning)\n",
      "/home/js7561/dev/scaper/scaper/core.py:1199: ScaperWarning: jackhammer event time (6.82) is too great given stretched event duration (3.68) and soundscape duration (10.00), changed to 6.32.\n",
      "  ScaperWarning)\n",
      "/home/js7561/dev/scaper/scaper/core.py:1199: ScaperWarning: children_playing event time (7.39) is too great given stretched event duration (4.30) and soundscape duration (10.00), changed to 5.70.\n",
      "  ScaperWarning)\n",
      "/home/js7561/dev/scaper/scaper/core.py:1199: ScaperWarning: siren event time (8.56) is too great given stretched event duration (3.50) and soundscape duration (10.00), changed to 6.50.\n",
      "  ScaperWarning)\n",
      "/home/js7561/dev/scaper/scaper/core.py:1112: ScaperWarning: drilling event duration (2.73) is greater that source duration (1.57), changing to 1.57\n",
      "  ScaperWarning)\n"
     ]
    },
    {
     "name": "stdout",
     "output_type": "stream",
     "text": [
      "Generating soundscape: 647/666\n",
      "Generating soundscape: 648/666\n"
     ]
    },
    {
     "name": "stderr",
     "output_type": "stream",
     "text": [
      "/home/js7561/dev/scaper/scaper/core.py:1112: ScaperWarning: gun_shot event duration (2.59) is greater that source duration (2.24), changing to 2.24\n",
      "  ScaperWarning)\n",
      "/home/js7561/dev/scaper/scaper/core.py:1112: ScaperWarning: car_horn event duration (1.71) is greater that source duration (0.28), changing to 0.28\n",
      "  ScaperWarning)\n"
     ]
    },
    {
     "name": "stdout",
     "output_type": "stream",
     "text": [
      "Generating soundscape: 649/666\n"
     ]
    },
    {
     "name": "stderr",
     "output_type": "stream",
     "text": [
      "/home/js7561/dev/scaper/scaper/core.py:1199: ScaperWarning: engine_idling event time (9.59) is too great given stretched event duration (4.16) and soundscape duration (10.00), changed to 5.84.\n",
      "  ScaperWarning)\n"
     ]
    },
    {
     "name": "stdout",
     "output_type": "stream",
     "text": [
      "Generating soundscape: 650/666\n",
      "Generating soundscape: 651/666\n"
     ]
    },
    {
     "name": "stderr",
     "output_type": "stream",
     "text": [
      "/home/js7561/dev/scaper/scaper/core.py:1112: ScaperWarning: dog_bark event duration (3.65) is greater that source duration (3.04), changing to 3.04\n",
      "  ScaperWarning)\n"
     ]
    },
    {
     "name": "stdout",
     "output_type": "stream",
     "text": [
      "Generating soundscape: 652/666\n"
     ]
    },
    {
     "name": "stderr",
     "output_type": "stream",
     "text": [
      "/home/js7561/dev/scaper/scaper/core.py:1112: ScaperWarning: car_horn event duration (2.64) is greater that source duration (0.47), changing to 0.47\n",
      "  ScaperWarning)\n",
      "/home/js7561/dev/scaper/scaper/core.py:1112: ScaperWarning: gun_shot event duration (2.95) is greater that source duration (1.26), changing to 1.26\n",
      "  ScaperWarning)\n",
      "/home/js7561/dev/scaper/scaper/core.py:1199: ScaperWarning: gun_shot event time (9.66) is too great given stretched event duration (1.49) and soundscape duration (10.00), changed to 8.51.\n",
      "  ScaperWarning)\n"
     ]
    },
    {
     "name": "stdout",
     "output_type": "stream",
     "text": [
      "Generating soundscape: 653/666\n",
      "Generating soundscape: 654/666\n"
     ]
    },
    {
     "name": "stderr",
     "output_type": "stream",
     "text": [
      "/home/js7561/dev/scaper/scaper/core.py:1112: ScaperWarning: gun_shot event duration (2.33) is greater that source duration (1.55), changing to 1.55\n",
      "  ScaperWarning)\n",
      "/home/js7561/dev/scaper/scaper/core.py:1199: ScaperWarning: street_music event time (7.16) is too great given stretched event duration (3.17) and soundscape duration (10.00), changed to 6.83.\n",
      "  ScaperWarning)\n",
      "/home/js7561/dev/scaper/scaper/core.py:1199: ScaperWarning: siren event time (6.81) is too great given stretched event duration (3.58) and soundscape duration (10.00), changed to 6.42.\n",
      "  ScaperWarning)\n"
     ]
    },
    {
     "name": "stdout",
     "output_type": "stream",
     "text": [
      "Generating soundscape: 655/666\n"
     ]
    },
    {
     "name": "stderr",
     "output_type": "stream",
     "text": [
      "/home/js7561/dev/scaper/scaper/core.py:1112: ScaperWarning: car_horn event duration (1.91) is greater that source duration (1.46), changing to 1.46\n",
      "  ScaperWarning)\n",
      "/home/js7561/dev/scaper/scaper/core.py:1112: ScaperWarning: car_horn event duration (2.20) is greater that source duration (1.62), changing to 1.62\n",
      "  ScaperWarning)\n",
      "/home/js7561/dev/scaper/scaper/core.py:1112: ScaperWarning: car_horn event duration (3.96) is greater that source duration (3.91), changing to 3.91\n",
      "  ScaperWarning)\n",
      "/home/js7561/dev/scaper/scaper/core.py:1199: ScaperWarning: street_music event time (8.30) is too great given stretched event duration (2.63) and soundscape duration (10.00), changed to 7.37.\n",
      "  ScaperWarning)\n"
     ]
    },
    {
     "name": "stdout",
     "output_type": "stream",
     "text": [
      "Generating soundscape: 656/666\n",
      "Generating soundscape: 657/666\n"
     ]
    },
    {
     "name": "stderr",
     "output_type": "stream",
     "text": [
      "/home/js7561/dev/scaper/scaper/core.py:1112: ScaperWarning: car_horn event duration (2.10) is greater that source duration (1.20), changing to 1.20\n",
      "  ScaperWarning)\n",
      "/home/js7561/dev/scaper/scaper/core.py:1112: ScaperWarning: gun_shot event duration (1.67) is greater that source duration (0.86), changing to 0.86\n",
      "  ScaperWarning)\n",
      "/home/js7561/dev/scaper/scaper/core.py:1112: ScaperWarning: car_horn event duration (3.24) is greater that source duration (0.60), changing to 0.60\n",
      "  ScaperWarning)\n",
      "/home/js7561/dev/scaper/scaper/core.py:1199: ScaperWarning: children_playing event time (8.39) is too great given stretched event duration (4.26) and soundscape duration (10.00), changed to 5.74.\n",
      "  ScaperWarning)\n",
      "/home/js7561/dev/scaper/scaper/core.py:1112: ScaperWarning: drilling event duration (2.26) is greater that source duration (0.61), changing to 0.61\n",
      "  ScaperWarning)\n",
      "/home/js7561/dev/scaper/scaper/core.py:1112: ScaperWarning: car_horn event duration (1.97) is greater that source duration (1.42), changing to 1.42\n",
      "  ScaperWarning)\n",
      "/home/js7561/dev/scaper/scaper/core.py:1199: ScaperWarning: engine_idling event time (9.50) is too great given stretched event duration (2.17) and soundscape duration (10.00), changed to 7.83.\n",
      "  ScaperWarning)\n"
     ]
    },
    {
     "name": "stdout",
     "output_type": "stream",
     "text": [
      "Generating soundscape: 658/666\n"
     ]
    },
    {
     "name": "stderr",
     "output_type": "stream",
     "text": [
      "/home/js7561/dev/scaper/scaper/core.py:1112: ScaperWarning: jackhammer event duration (3.73) is greater that source duration (3.50), changing to 3.50\n",
      "  ScaperWarning)\n",
      "/home/js7561/dev/scaper/scaper/core.py:1199: ScaperWarning: jackhammer event time (7.18) is too great given stretched event duration (2.99) and soundscape duration (10.00), changed to 7.01.\n",
      "  ScaperWarning)\n",
      "/home/js7561/dev/scaper/scaper/core.py:1199: ScaperWarning: children_playing event time (7.77) is too great given stretched event duration (3.64) and soundscape duration (10.00), changed to 6.36.\n",
      "  ScaperWarning)\n",
      "/home/js7561/dev/scaper/scaper/core.py:1112: ScaperWarning: car_horn event duration (3.77) is greater that source duration (0.35), changing to 0.35\n",
      "  ScaperWarning)\n"
     ]
    },
    {
     "name": "stdout",
     "output_type": "stream",
     "text": [
      "Generating soundscape: 659/666\n",
      "Generating soundscape: 660/666\n",
      "Generating soundscape: 661/666\n"
     ]
    },
    {
     "name": "stderr",
     "output_type": "stream",
     "text": [
      "/home/js7561/dev/scaper/scaper/core.py:1112: ScaperWarning: car_horn event duration (1.64) is greater that source duration (1.20), changing to 1.20\n",
      "  ScaperWarning)\n",
      "/home/js7561/dev/scaper/scaper/core.py:1112: ScaperWarning: dog_bark event duration (3.03) is greater that source duration (2.14), changing to 2.14\n",
      "  ScaperWarning)\n",
      "/home/js7561/dev/scaper/scaper/core.py:1112: ScaperWarning: car_horn event duration (3.04) is greater that source duration (0.90), changing to 0.90\n",
      "  ScaperWarning)\n",
      "/home/js7561/dev/scaper/scaper/core.py:1199: ScaperWarning: car_horn event time (7.23) is too great given stretched event duration (2.97) and soundscape duration (10.00), changed to 7.03.\n",
      "  ScaperWarning)\n"
     ]
    },
    {
     "name": "stdout",
     "output_type": "stream",
     "text": [
      "Generating soundscape: 662/666\n"
     ]
    },
    {
     "name": "stderr",
     "output_type": "stream",
     "text": [
      "/home/js7561/dev/scaper/scaper/core.py:1112: ScaperWarning: drilling event duration (2.78) is greater that source duration (0.92), changing to 0.92\n",
      "  ScaperWarning)\n"
     ]
    },
    {
     "name": "stdout",
     "output_type": "stream",
     "text": [
      "Generating soundscape: 663/666\n"
     ]
    },
    {
     "name": "stderr",
     "output_type": "stream",
     "text": [
      "/home/js7561/dev/scaper/scaper/core.py:1199: ScaperWarning: air_conditioner event time (6.56) is too great given stretched event duration (3.66) and soundscape duration (10.00), changed to 6.34.\n",
      "  ScaperWarning)\n"
     ]
    },
    {
     "name": "stdout",
     "output_type": "stream",
     "text": [
      "Generating soundscape: 664/666\n"
     ]
    },
    {
     "name": "stderr",
     "output_type": "stream",
     "text": [
      "/home/js7561/dev/scaper/scaper/core.py:1199: ScaperWarning: engine_idling event time (8.73) is too great given stretched event duration (1.86) and soundscape duration (10.00), changed to 8.14.\n",
      "  ScaperWarning)\n",
      "/home/js7561/dev/scaper/scaper/core.py:1199: ScaperWarning: air_conditioner event time (8.74) is too great given stretched event duration (1.54) and soundscape duration (10.00), changed to 8.46.\n",
      "  ScaperWarning)\n",
      "/home/js7561/dev/scaper/scaper/core.py:1199: ScaperWarning: engine_idling event time (7.50) is too great given stretched event duration (3.01) and soundscape duration (10.00), changed to 6.99.\n",
      "  ScaperWarning)\n",
      "/home/js7561/dev/scaper/scaper/core.py:1112: ScaperWarning: car_horn event duration (3.93) is greater that source duration (0.39), changing to 0.39\n",
      "  ScaperWarning)\n",
      "/home/js7561/dev/scaper/scaper/core.py:1112: ScaperWarning: gun_shot event duration (2.67) is greater that source duration (1.04), changing to 1.04\n",
      "  ScaperWarning)\n"
     ]
    },
    {
     "name": "stdout",
     "output_type": "stream",
     "text": [
      "Generating soundscape: 665/666\n"
     ]
    },
    {
     "name": "stderr",
     "output_type": "stream",
     "text": [
      "/home/js7561/dev/scaper/scaper/core.py:1199: ScaperWarning: siren event time (6.97) is too great given stretched event duration (3.18) and soundscape duration (10.00), changed to 6.82.\n",
      "  ScaperWarning)\n"
     ]
    },
    {
     "name": "stdout",
     "output_type": "stream",
     "text": [
      "Generating soundscape: 666/666\n"
     ]
    },
    {
     "name": "stderr",
     "output_type": "stream",
     "text": [
      "/home/js7561/dev/scaper/scaper/core.py:1112: ScaperWarning: gun_shot event duration (2.68) is greater that source duration (1.15), changing to 1.15\n",
      "  ScaperWarning)\n"
     ]
    }
   ],
   "source": [
    "# Generate 666 soundscapes using a BIMODAL distribution of start times\n",
    "\n",
    "for n in range(n_soundscapes):\n",
    "    \n",
    "    print('Generating soundscape: {:d}/{:d}'.format(n+1, n_soundscapes))\n",
    "    \n",
    "    # create a scaper\n",
    "    sc = scaper.Scaper(duration, fg_folder, bg_folder)\n",
    "    sc.protected_labels = []\n",
    "    sc.ref_db = ref_db\n",
    "    \n",
    "    # add background\n",
    "    sc.add_background(label=('const', 'noise'), \n",
    "                      source_file=('choose', []), \n",
    "                      source_time=('const', 0))\n",
    "\n",
    "    # add random foreground events\n",
    "    n_events = np.random.randint(min_events, max_events+1)\n",
    "    for _ in range(n_events):\n",
    "        \n",
    "        coin = np.random.randint(0, 2)\n",
    "        if coin==0:\n",
    "            mu = event_time_mean1\n",
    "        else:\n",
    "            mu = event_time_mean2\n",
    "            \n",
    "        sc.add_event(label=('choose', []), \n",
    "                     source_file=('choose', []), \n",
    "                     source_time=(source_time_dist, source_time), \n",
    "                     event_time=(event_time_dist, mu, event_time_std, event_time_min, event_time_max), \n",
    "                     event_duration=(event_duration_dist, event_duration_min, event_duration_max), \n",
    "                     snr=(snr_dist, snr_min, snr_max),\n",
    "                     pitch_shift=(pitch_dist, pitch_min, pitch_max),\n",
    "                     time_stretch=(time_stretch_dist, time_stretch_min, time_stretch_max))\n",
    "    \n",
    "    # generate\n",
    "    audiofile = os.path.join(outfolder, \"soundscape_test_bimodal{:d}.wav\".format(n))\n",
    "    jamsfile = os.path.join(outfolder, \"soundscape_test_bimodal{:d}.jams\".format(n))\n",
    "    txtfile = os.path.join(outfolder, \"soundscape_test_bimodal{:d}.txt\".format(n))\n",
    "    \n",
    "    sc.generate(audiofile, jamsfile,\n",
    "                allow_repeated_label=True,\n",
    "                allow_repeated_source=False,\n",
    "                reverb=0.1,\n",
    "                disable_sox_warnings=True,\n",
    "                no_audio=False,\n",
    "                txt_path=txtfile)"
   ]
  },
  {
   "cell_type": "code",
   "execution_count": null,
   "metadata": {
    "collapsed": true,
    "deletable": true,
    "editable": true
   },
   "outputs": [],
   "source": []
  }
 ],
 "metadata": {
  "kernelspec": {
   "display_name": "Python 3",
   "language": "python",
   "name": "python3"
  },
  "language_info": {
   "codemirror_mode": {
    "name": "ipython",
    "version": 3
   },
   "file_extension": ".py",
   "mimetype": "text/x-python",
   "name": "python",
   "nbconvert_exporter": "python",
   "pygments_lexer": "ipython3",
   "version": "3.5.3"
  }
 },
 "nbformat": 4,
 "nbformat_minor": 2
}
