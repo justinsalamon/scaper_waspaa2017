{
 "cells": [
  {
   "cell_type": "code",
   "execution_count": 1,
   "metadata": {
    "collapsed": false,
    "deletable": true,
    "editable": true
   },
   "outputs": [
    {
     "name": "stdout",
     "output_type": "stream",
     "text": [
      "librosa: 0.5.0\n",
      "numpy: 1.12.1\n",
      "scipy: 0.19.0\n",
      "sklearn: 0.18.1\n",
      "librosa: 0.18.1\n",
      "conda kernel: py35\n"
     ]
    }
   ],
   "source": [
    "%matplotlib inline\n",
    "import librosa\n",
    "import numpy as np\n",
    "import pandas\n",
    "import gzip\n",
    "import os\n",
    "import glob\n",
    "import matplotlib.pyplot as plt\n",
    "import scipy\n",
    "import sklearn\n",
    "import subprocess\n",
    "import json\n",
    "from tqdm import tqdm\n",
    "print(\"librosa: {:s}\".format(librosa.__version__))\n",
    "print(\"numpy: {:s}\".format(np.__version__))\n",
    "print(\"scipy: {:s}\".format(scipy.__version__))\n",
    "print(\"sklearn: {:s}\".format(sklearn.__version__))\n",
    "print(\"librosa: {:s}\".format(sklearn.__version__))\n",
    "sp = subprocess.run(\"which python\", shell=True, stdout=subprocess.PIPE, stderr=subprocess.STDOUT)\n",
    "print(\"conda kernel: {:s}\".format(str(sp.stdout).split('/')[-3]))"
   ]
  },
  {
   "cell_type": "code",
   "execution_count": 2,
   "metadata": {
    "collapsed": true,
    "deletable": true,
    "editable": true
   },
   "outputs": [],
   "source": [
    "# ANALYSIS PARAMETERS \n",
    "FS = 44100\n",
    "FRAMESIZE = 1764\n",
    "HOPSIZE = 882\n",
    "FFTSIZE = 2048\n",
    "WINDOWTYPE = 'hann'\n",
    "\n",
    "# Mel band parameters\n",
    "MEL_numberBands = 128\n",
    "\n",
    "metadata = {\n",
    "    'fs': FS,\n",
    "    'frame_size': FRAMESIZE,\n",
    "    'hop_size': HOPSIZE,\n",
    "    'window_type': WINDOWTYPE,\n",
    "    'mel_numberBands': MEL_numberBands,\n",
    "    'hpc_server': 'prince',\n",
    "    'conda_env': str(sp.stdout).split('/')[-3],\n",
    "    'librosa': librosa.__version__,\n",
    "    'numpy': np.__version__,\n",
    "    'scipy': scipy.__version__,\n",
    "    'sklearn': sklearn.__version__\n",
    "}"
   ]
  },
  {
   "cell_type": "code",
   "execution_count": 3,
   "metadata": {
    "collapsed": true,
    "deletable": true,
    "editable": true
   },
   "outputs": [],
   "source": [
    "def extract_logmelspec_librosa(audiofile, outputfile):\n",
    "    '''\n",
    "    Given the path to a file, use librosa to extract the log mel spectrogram and\n",
    "    save it to outputfile.\n",
    "    '''\n",
    "#     print('--> Extracting Mel spectrogram for {:s} (bands={:d})'.format(os.path.basename(audiofile), MEL_numberBands))\n",
    "\n",
    "    audio, sr = librosa.load(audiofile, sr=FS, mono=True)\n",
    "    stft = librosa.stft(audio, n_fft=FFTSIZE, win_length=FRAMESIZE,\n",
    "                        hop_length=HOPSIZE, window=WINDOWTYPE)\n",
    "    stft = np.abs(stft)**2\n",
    "    melspec = librosa.feature.melspectrogram(\n",
    "        y=None, S=stft, sr=FS, n_fft=FFTSIZE, hop_length=HOPSIZE,\n",
    "        n_mels=MEL_numberBands, htk=True, fmin=0.0, fmax=FS/2.0)\n",
    "\n",
    "    logmelspec = librosa.core.logamplitude(melspec, ref=1.0)\n",
    "    logmelspec = logmelspec.astype(np.float32) # downcast to float32\n",
    "\n",
    "    if not os.path.isdir(os.path.split(outputfile)[0]):\n",
    "        os.mkdir(os.path.split(outputfile)[0])\n",
    "\n",
    "    f = gzip.open(outputfile, 'wb')\n",
    "    logmelspec.dump(f)\n",
    "    f.close()"
   ]
  },
  {
   "cell_type": "code",
   "execution_count": 4,
   "metadata": {
    "collapsed": false,
    "deletable": true,
    "editable": true,
    "scrolled": true
   },
   "outputs": [
    {
     "name": "stderr",
     "output_type": "stream",
     "text": [
      "\r",
      "  0%|          | 0/6000 [00:00<?, ?it/s]"
     ]
    },
    {
     "name": "stdout",
     "output_type": "stream",
     "text": [
      "train\n"
     ]
    },
    {
     "name": "stderr",
     "output_type": "stream",
     "text": [
      "100%|██████████| 6000/6000 [23:51<00:00,  6.28it/s]\n",
      "  0%|          | 1/2000 [00:00<05:38,  5.90it/s]"
     ]
    },
    {
     "name": "stdout",
     "output_type": "stream",
     "text": [
      "validate\n"
     ]
    },
    {
     "name": "stderr",
     "output_type": "stream",
     "text": [
      "100%|██████████| 2000/2000 [05:17<00:00,  5.97it/s]\n",
      "  0%|          | 1/2000 [00:00<05:38,  5.90it/s]"
     ]
    },
    {
     "name": "stdout",
     "output_type": "stream",
     "text": [
      "test\n"
     ]
    },
    {
     "name": "stderr",
     "output_type": "stream",
     "text": [
      "100%|██████████| 2000/2000 [05:15<00:00,  5.96it/s]\n"
     ]
    }
   ],
   "source": [
    "# TRAIN\n",
    "splits = ['train', 'validate', 'test']\n",
    "\n",
    "for split in splits:\n",
    "    print(split)\n",
    "    audio_folder = '/scratch/js7561/datasets/scaper_waspaa2017/urban-sed/audio/' + split\n",
    "    features_folder = '/scratch/js7561/datasets/scaper_waspaa2017/urban-sed/features/logmelspec1764_128/' + split\n",
    "\n",
    "    if not os.path.isdir(features_folder):\n",
    "        os.mkdir(features_folder)\n",
    "\n",
    "    # Create folder\n",
    "    outfolder = features_folder\n",
    "    if not os.path.isdir(outfolder):\n",
    "        os.mkdir(outfolder)\n",
    "\n",
    "    # Save metadata\n",
    "    metadata_file = os.path.join(outfolder, '_metadata.json')\n",
    "    json.dump(metadata, open(metadata_file, 'w'), indent=2)\n",
    "\n",
    "    # Iterate over audio files\n",
    "    infolder = audio_folder\n",
    "    audiofiles = glob.glob(os.path.join(infolder, '*.wav'))\n",
    "    audiofiles = sorted(audiofiles)\n",
    "    for af in tqdm(audiofiles):\n",
    "        outfile = os.path.join(outfolder, os.path.basename(af).replace(\".wav\", \".npy.gz\"))\n",
    "        extract_logmelspec_librosa(af, outfile)"
   ]
  },
  {
   "cell_type": "code",
   "execution_count": null,
   "metadata": {
    "collapsed": true
   },
   "outputs": [],
   "source": []
  }
 ],
 "metadata": {
  "kernelspec": {
   "display_name": "Python 3",
   "language": "python",
   "name": "python3"
  },
  "language_info": {
   "codemirror_mode": {
    "name": "ipython",
    "version": 3
   },
   "file_extension": ".py",
   "mimetype": "text/x-python",
   "name": "python",
   "nbconvert_exporter": "python",
   "pygments_lexer": "ipython3",
   "version": "3.5.3"
  }
 },
 "nbformat": 4,
 "nbformat_minor": 2
}
