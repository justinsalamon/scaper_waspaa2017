{
 "cells": [
  {
   "cell_type": "code",
   "execution_count": 18,
   "metadata": {
    "collapsed": true
   },
   "outputs": [],
   "source": [
    "import os\n",
    "import pandas as pd\n",
    "import glob\n",
    "from tqdm import tqdm"
   ]
  },
  {
   "cell_type": "code",
   "execution_count": 19,
   "metadata": {
    "collapsed": false
   },
   "outputs": [
    {
     "name": "stderr",
     "output_type": "stream",
     "text": [
      "  0%|          | 12/6000 [00:00<00:55, 107.15it/s]"
     ]
    },
    {
     "name": "stdout",
     "output_type": "stream",
     "text": [
      "train\n"
     ]
    },
    {
     "name": "stderr",
     "output_type": "stream",
     "text": [
      "100%|██████████| 6000/6000 [00:41<00:00, 144.75it/s]\n",
      "  1%|          | 24/2000 [00:00<00:08, 231.84it/s]"
     ]
    },
    {
     "name": "stdout",
     "output_type": "stream",
     "text": [
      "validate\n"
     ]
    },
    {
     "name": "stderr",
     "output_type": "stream",
     "text": [
      "100%|██████████| 2000/2000 [00:11<00:00, 174.26it/s]\n",
      "  0%|          | 9/2000 [00:00<00:26, 73.94it/s]"
     ]
    },
    {
     "name": "stdout",
     "output_type": "stream",
     "text": [
      "test\n"
     ]
    },
    {
     "name": "stderr",
     "output_type": "stream",
     "text": [
      "100%|██████████| 2000/2000 [00:18<00:00, 107.89it/s]\n"
     ]
    }
   ],
   "source": [
    "# txt files are not sorted by onset, fix that\n",
    "metadata_folder = '/scratch/js7561/datasets/scaper_waspaa2017/urban-sed/metadata/'\n",
    "splits = ['train', 'validate', 'test']\n",
    "\n",
    "for split in splits:\n",
    "    print(split)\n",
    "    mfolder = os.path.join(metadata_folder, split)\n",
    "    txtfiles = glob.glob(os.path.join(mfolder, '*.txt'))\n",
    "    assert len(txtfiles) >= 2000\n",
    "    \n",
    "    for tf in tqdm(txtfiles):    \n",
    "        df = pd.read_csv(tf, header=None, sep=' ')\n",
    "        df.columns = ['event_onset', 'event_offset', 'event_label']\n",
    "        df = df.sort_values('event_onset')\n",
    "        df.reset_index(inplace=True, drop=True)\n",
    "        df.to_csv(tf, sep=' ', header=None, index=False)"
   ]
  },
  {
   "cell_type": "code",
   "execution_count": null,
   "metadata": {
    "collapsed": true
   },
   "outputs": [],
   "source": []
  }
 ],
 "metadata": {
  "kernelspec": {
   "display_name": "Python 3",
   "language": "python",
   "name": "python3"
  },
  "language_info": {
   "codemirror_mode": {
    "name": "ipython",
    "version": 3
   },
   "file_extension": ".py",
   "mimetype": "text/x-python",
   "name": "python",
   "nbconvert_exporter": "python",
   "pygments_lexer": "ipython3",
   "version": "3.5.3"
  }
 },
 "nbformat": 4,
 "nbformat_minor": 2
}
