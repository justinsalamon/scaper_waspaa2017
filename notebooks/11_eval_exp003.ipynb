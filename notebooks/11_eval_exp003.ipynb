{
 "cells": [
  {
   "cell_type": "code",
   "execution_count": 1,
   "metadata": {
    "collapsed": false,
    "deletable": true,
    "editable": true
   },
   "outputs": [],
   "source": [
    "from scaper_waspaa2017.urban_sed import eval as E\n",
    "from imp import reload"
   ]
  },
  {
   "cell_type": "code",
   "execution_count": 2,
   "metadata": {
    "collapsed": false,
    "deletable": true,
    "editable": true
   },
   "outputs": [],
   "source": [
    "def print_claswise_results(results):\n",
    "    \n",
    "    for label in sorted(results['results1s']['class_wise'].keys()):\n",
    "        print(label)\n",
    "\n",
    "        # Report scores\n",
    "        scores = (\n",
    "            'F1s: {:.4f}, P1s: {:.4f}, R1s: {:.4f}, F100ms: {:.4f}, '\n",
    "            'P100ms: {:.4f}, R100ms: {:.4f} | E1s: {:.4f}, '\n",
    "            'E100ms: {:.4f}'.format(\n",
    "                results['results1s']['class_wise'][label]['f_measure']['f_measure'],\n",
    "                results['results1s']['class_wise'][label]['f_measure']['precision'],\n",
    "                results['results1s']['class_wise'][label]['f_measure']['recall'],\n",
    "                results['results100ms']['class_wise'][label]['f_measure']['f_measure'],\n",
    "                results['results100ms']['class_wise'][label]['f_measure']['precision'],\n",
    "                results['results100ms']['class_wise'][label]['f_measure']['recall'],\n",
    "                results['results1s']['class_wise'][label]['error_rate']['error_rate'],\n",
    "                results['results100ms']['class_wise'][label]['error_rate']['error_rate']\n",
    "            ))\n",
    "        print(scores)\n",
    "        print(\" \")"
   ]
  },
  {
   "cell_type": "markdown",
   "metadata": {
    "deletable": true,
    "editable": true
   },
   "source": [
    "# RESLUTS SUMMARY"
   ]
  },
  {
   "cell_type": "markdown",
   "metadata": {
    "deletable": true,
    "editable": true
   },
   "source": [
    "## CNN ~3Mk params"
   ]
  },
  {
   "cell_type": "code",
   "execution_count": 8,
   "metadata": {
    "collapsed": false,
    "deletable": true,
    "editable": true
   },
   "outputs": [
    {
     "name": "stdout",
     "output_type": "stream",
     "text": [
      "F1s: 0.5555, P1s: 0.7563, R1s: 0.4390, F100ms: 0.5555, P100ms: 0.7563, R100ms: 0.4390 | E1s: 0.5805, E100ms: 0.5805\n"
     ]
    }
   ],
   "source": [
    "# eval with 1st transform\n",
    "reload(E)\n",
    "results = E.evaluate('exp003', load_predictions=True)"
   ]
  },
  {
   "cell_type": "markdown",
   "metadata": {
    "deletable": true,
    "editable": true
   },
   "source": [
    "### dig deeper"
   ]
  },
  {
   "cell_type": "code",
   "execution_count": 5,
   "metadata": {
    "collapsed": false,
    "deletable": true,
    "editable": true
   },
   "outputs": [
    {
     "name": "stdout",
     "output_type": "stream",
     "text": [
      "air_conditioner\n",
      "F1s: 0.0029, P1s: 0.0408, R1s: 0.0015, F100ms: 0.0029, P100ms: 0.0408, R100ms: 0.0015 | E1s: 1.0335, E100ms: 1.0335\n",
      " \n",
      "car_horn\n",
      "F1s: nan, P1s: nan, R1s: 0.0000, F100ms: nan, P100ms: nan, R100ms: 0.0000 | E1s: 1.0000, E100ms: 1.0000\n",
      " \n",
      "children_playing\n",
      "F1s: nan, P1s: nan, R1s: 0.0000, F100ms: nan, P100ms: nan, R100ms: 0.0000 | E1s: 1.0000, E100ms: 1.0000\n",
      " \n",
      "dog_bark\n",
      "F1s: nan, P1s: nan, R1s: 0.0000, F100ms: nan, P100ms: nan, R100ms: 0.0000 | E1s: 1.0000, E100ms: 1.0000\n",
      " \n",
      "drilling\n",
      "F1s: 0.0014, P1s: 0.1667, R1s: 0.0007, F100ms: 0.0014, P100ms: 0.1667, R100ms: 0.0007 | E1s: 1.0029, E100ms: 1.0029\n",
      " \n",
      "engine_idling\n",
      "F1s: nan, P1s: nan, R1s: 0.0000, F100ms: nan, P100ms: nan, R100ms: 0.0000 | E1s: 1.0000, E100ms: 1.0000\n",
      " \n",
      "gun_shot\n",
      "F1s: nan, P1s: nan, R1s: 0.0000, F100ms: nan, P100ms: nan, R100ms: 0.0000 | E1s: 1.0000, E100ms: 1.0000\n",
      " \n",
      "jackhammer\n",
      "F1s: 0.0045, P1s: 0.2727, R1s: 0.0022, F100ms: 0.0045, P100ms: 0.2727, R100ms: 0.0022 | E1s: 1.0037, E100ms: 1.0037\n",
      " \n",
      "siren\n",
      "F1s: nan, P1s: nan, R1s: 0.0000, F100ms: nan, P100ms: nan, R100ms: 0.0000 | E1s: 1.0000, E100ms: 1.0000\n",
      " \n",
      "street_music\n",
      "F1s: nan, P1s: nan, R1s: 0.0000, F100ms: nan, P100ms: nan, R100ms: 0.0000 | E1s: 1.0000, E100ms: 1.0000\n",
      " \n"
     ]
    }
   ],
   "source": [
    "print_claswise_results(results)"
   ]
  },
  {
   "cell_type": "code",
   "execution_count": null,
   "metadata": {
    "collapsed": true,
    "deletable": true,
    "editable": true
   },
   "outputs": [],
   "source": []
  }
 ],
 "metadata": {
  "kernelspec": {
   "display_name": "Python 3",
   "language": "python",
   "name": "python3"
  },
  "language_info": {
   "codemirror_mode": {
    "name": "ipython",
    "version": 3
   },
   "file_extension": ".py",
   "mimetype": "text/x-python",
   "name": "python",
   "nbconvert_exporter": "python",
   "pygments_lexer": "ipython3",
   "version": "3.5.3"
  }
 },
 "nbformat": 4,
 "nbformat_minor": 2
}
