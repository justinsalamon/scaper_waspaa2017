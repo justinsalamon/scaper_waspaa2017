{
 "cells": [
  {
   "cell_type": "code",
   "execution_count": 1,
   "metadata": {
    "collapsed": true,
    "deletable": true,
    "editable": true
   },
   "outputs": [],
   "source": [
    "import numpy as np\n",
    "np.random.seed(123)\n",
    "import scaper\n",
    "import os"
   ]
  },
  {
   "cell_type": "code",
   "execution_count": 2,
   "metadata": {
    "collapsed": true,
    "deletable": true,
    "editable": true
   },
   "outputs": [],
   "source": [
    "# SCAPER SETTINGS\n",
    "fg_folder = '/scratch/js7561/datasets/scaper_waspaa2017/audio/soundbanks/validate/foreground/'\n",
    "bg_folder = '/scratch/js7561/datasets/scaper_waspaa2017/audio/soundbanks/validate/background/'\n",
    "\n",
    "n_soundscapes = 667\n",
    "ref_db = -50\n",
    "duration = 10.0 \n",
    "\n",
    "min_events = 1\n",
    "max_events = 9\n",
    "\n",
    "event_time_dist = 'truncnorm'\n",
    "event_time_mean = 5.0\n",
    "event_time_std = 2.0\n",
    "event_time_min = 0.0\n",
    "event_time_max = 10.0\n",
    "\n",
    "source_time_dist = 'const'\n",
    "source_time = 0.0\n",
    "\n",
    "event_duration_dist = 'uniform'\n",
    "event_duration_min = 0.5\n",
    "event_duration_max = 4.0\n",
    "\n",
    "snr_dist = 'uniform'\n",
    "snr_min = 6\n",
    "snr_max = 30\n",
    "\n",
    "pitch_dist = 'uniform'\n",
    "pitch_min = -3.0\n",
    "pitch_max = 3.0\n",
    "\n",
    "time_stretch_dist = 'uniform'\n",
    "time_stretch_min = 0.8\n",
    "time_stretch_max = 1.2\n",
    "\n",
    "\n",
    "# FILE SETTINGS\n",
    "outfolder = os.path.join('/scratch/js7561/datasets/scaper_waspaa2017/audio/soundscapes/validate/unimodal')\n",
    "if not os.path.isdir(outfolder):\n",
    "    os.mkdir(outfolder)"
   ]
  },
  {
   "cell_type": "code",
   "execution_count": null,
   "metadata": {
    "collapsed": false,
    "deletable": true,
    "editable": true,
    "scrolled": true
   },
   "outputs": [
    {
     "name": "stdout",
     "output_type": "stream",
     "text": [
      "Generating soundscape: 1/667\n",
      "Generating soundscape: 2/667\n"
     ]
    },
    {
     "name": "stderr",
     "output_type": "stream",
     "text": [
      "/home/js7561/dev/scaper/scaper/core.py:1112: ScaperWarning: car_horn event duration (2.66) is greater that source duration (0.45), changing to 0.45\n",
      "  ScaperWarning)\n",
      "/home/js7561/dev/scaper/scaper/core.py:1112: ScaperWarning: gun_shot event duration (2.01) is greater that source duration (1.83), changing to 1.83\n",
      "  ScaperWarning)\n",
      "/home/js7561/dev/scaper/scaper/core.py:1112: ScaperWarning: gun_shot event duration (2.56) is greater that source duration (2.13), changing to 2.13\n",
      "  ScaperWarning)\n"
     ]
    },
    {
     "name": "stdout",
     "output_type": "stream",
     "text": [
      "Generating soundscape: 3/667\n"
     ]
    },
    {
     "name": "stderr",
     "output_type": "stream",
     "text": [
      "/home/js7561/dev/scaper/scaper/core.py:1112: ScaperWarning: gun_shot event duration (1.41) is greater that source duration (0.85), changing to 0.85\n",
      "  ScaperWarning)\n"
     ]
    },
    {
     "name": "stdout",
     "output_type": "stream",
     "text": [
      "Generating soundscape: 4/667\n"
     ]
    },
    {
     "name": "stderr",
     "output_type": "stream",
     "text": [
      "/home/js7561/dev/scaper/scaper/core.py:1112: ScaperWarning: car_horn event duration (1.12) is greater that source duration (0.52), changing to 0.52\n",
      "  ScaperWarning)\n",
      "/home/js7561/dev/scaper/scaper/core.py:1112: ScaperWarning: car_horn event duration (1.47) is greater that source duration (1.43), changing to 1.43\n",
      "  ScaperWarning)\n"
     ]
    },
    {
     "name": "stdout",
     "output_type": "stream",
     "text": [
      "Generating soundscape: 5/667\n"
     ]
    },
    {
     "name": "stderr",
     "output_type": "stream",
     "text": [
      "/home/js7561/dev/scaper/scaper/core.py:1199: ScaperWarning: air_conditioner event time (5.66) is too great given stretched event duration (4.54) and soundscape duration (10.00), changed to 5.46.\n",
      "  ScaperWarning)\n"
     ]
    },
    {
     "name": "stdout",
     "output_type": "stream",
     "text": [
      "Generating soundscape: 6/667\n",
      "Generating soundscape: 7/667\n"
     ]
    },
    {
     "name": "stderr",
     "output_type": "stream",
     "text": [
      "/home/js7561/dev/scaper/scaper/core.py:1112: ScaperWarning: gun_shot event duration (3.21) is greater that source duration (0.43), changing to 0.43\n",
      "  ScaperWarning)\n"
     ]
    },
    {
     "name": "stdout",
     "output_type": "stream",
     "text": [
      "Generating soundscape: 8/667\n"
     ]
    },
    {
     "name": "stderr",
     "output_type": "stream",
     "text": [
      "/home/js7561/dev/scaper/scaper/core.py:1112: ScaperWarning: car_horn event duration (1.94) is greater that source duration (0.87), changing to 0.87\n",
      "  ScaperWarning)\n",
      "/home/js7561/dev/scaper/scaper/core.py:1199: ScaperWarning: car_horn event time (9.09) is too great given stretched event duration (1.01) and soundscape duration (10.00), changed to 8.99.\n",
      "  ScaperWarning)\n"
     ]
    },
    {
     "name": "stdout",
     "output_type": "stream",
     "text": [
      "Generating soundscape: 9/667\n"
     ]
    },
    {
     "name": "stderr",
     "output_type": "stream",
     "text": [
      "/home/js7561/dev/scaper/scaper/core.py:1112: ScaperWarning: car_horn event duration (1.83) is greater that source duration (1.67), changing to 1.67\n",
      "  ScaperWarning)\n"
     ]
    },
    {
     "name": "stdout",
     "output_type": "stream",
     "text": [
      "Generating soundscape: 10/667\n"
     ]
    },
    {
     "name": "stderr",
     "output_type": "stream",
     "text": [
      "/home/js7561/dev/scaper/scaper/core.py:1112: ScaperWarning: jackhammer event duration (1.70) is greater that source duration (0.70), changing to 0.70\n",
      "  ScaperWarning)\n"
     ]
    },
    {
     "name": "stdout",
     "output_type": "stream",
     "text": [
      "Generating soundscape: 11/667\n"
     ]
    },
    {
     "name": "stderr",
     "output_type": "stream",
     "text": [
      "/home/js7561/dev/scaper/scaper/core.py:1199: ScaperWarning: street_music event time (7.20) is too great given stretched event duration (3.65) and soundscape duration (10.00), changed to 6.35.\n",
      "  ScaperWarning)\n"
     ]
    },
    {
     "name": "stdout",
     "output_type": "stream",
     "text": [
      "Generating soundscape: 12/667\n"
     ]
    },
    {
     "name": "stderr",
     "output_type": "stream",
     "text": [
      "/home/js7561/dev/scaper/scaper/core.py:1112: ScaperWarning: dog_bark event duration (2.20) is greater that source duration (0.51), changing to 0.51\n",
      "  ScaperWarning)\n",
      "/home/js7561/dev/scaper/scaper/core.py:1199: ScaperWarning: drilling event time (6.97) is too great given stretched event duration (3.92) and soundscape duration (10.00), changed to 6.08.\n",
      "  ScaperWarning)\n"
     ]
    },
    {
     "name": "stdout",
     "output_type": "stream",
     "text": [
      "Generating soundscape: 13/667\n"
     ]
    },
    {
     "name": "stderr",
     "output_type": "stream",
     "text": [
      "/home/js7561/dev/scaper/scaper/core.py:1199: ScaperWarning: air_conditioner event time (7.41) is too great given stretched event duration (3.62) and soundscape duration (10.00), changed to 6.38.\n",
      "  ScaperWarning)\n",
      "/home/js7561/dev/scaper/scaper/core.py:1112: ScaperWarning: gun_shot event duration (3.71) is greater that source duration (1.60), changing to 1.60\n",
      "  ScaperWarning)\n",
      "/home/js7561/dev/scaper/scaper/core.py:1199: ScaperWarning: street_music event time (7.73) is too great given stretched event duration (2.53) and soundscape duration (10.00), changed to 7.47.\n",
      "  ScaperWarning)\n"
     ]
    },
    {
     "name": "stdout",
     "output_type": "stream",
     "text": [
      "Generating soundscape: 14/667\n",
      "Generating soundscape: 15/667\n"
     ]
    },
    {
     "name": "stderr",
     "output_type": "stream",
     "text": [
      "/home/js7561/dev/scaper/scaper/core.py:1112: ScaperWarning: gun_shot event duration (2.54) is greater that source duration (0.54), changing to 0.54\n",
      "  ScaperWarning)\n",
      "/home/js7561/dev/scaper/scaper/core.py:1112: ScaperWarning: dog_bark event duration (1.73) is greater that source duration (0.60), changing to 0.60\n",
      "  ScaperWarning)\n",
      "/home/js7561/dev/scaper/scaper/core.py:1112: ScaperWarning: car_horn event duration (2.05) is greater that source duration (0.44), changing to 0.44\n",
      "  ScaperWarning)\n"
     ]
    },
    {
     "name": "stdout",
     "output_type": "stream",
     "text": [
      "Generating soundscape: 16/667\n"
     ]
    },
    {
     "name": "stderr",
     "output_type": "stream",
     "text": [
      "/home/js7561/dev/scaper/scaper/core.py:1199: ScaperWarning: street_music event time (9.60) is too great given stretched event duration (0.67) and soundscape duration (10.00), changed to 9.33.\n",
      "  ScaperWarning)\n",
      "/home/js7561/dev/scaper/scaper/core.py:1112: ScaperWarning: gun_shot event duration (1.45) is greater that source duration (0.98), changing to 0.98\n",
      "  ScaperWarning)\n"
     ]
    },
    {
     "name": "stdout",
     "output_type": "stream",
     "text": [
      "Generating soundscape: 17/667\n"
     ]
    },
    {
     "name": "stderr",
     "output_type": "stream",
     "text": [
      "/home/js7561/dev/scaper/scaper/core.py:1112: ScaperWarning: car_horn event duration (2.53) is greater that source duration (0.87), changing to 0.87\n",
      "  ScaperWarning)\n",
      "/home/js7561/dev/scaper/scaper/core.py:1112: ScaperWarning: dog_bark event duration (3.56) is greater that source duration (0.95), changing to 0.95\n",
      "  ScaperWarning)\n"
     ]
    },
    {
     "name": "stdout",
     "output_type": "stream",
     "text": [
      "Generating soundscape: 18/667\n"
     ]
    },
    {
     "name": "stderr",
     "output_type": "stream",
     "text": [
      "/home/js7561/dev/scaper/scaper/core.py:1112: ScaperWarning: car_horn event duration (3.75) is greater that source duration (0.58), changing to 0.58\n",
      "  ScaperWarning)\n"
     ]
    },
    {
     "name": "stdout",
     "output_type": "stream",
     "text": [
      "Generating soundscape: 19/667\n",
      "Generating soundscape: 20/667\n"
     ]
    },
    {
     "name": "stderr",
     "output_type": "stream",
     "text": [
      "/home/js7561/dev/scaper/scaper/core.py:1112: ScaperWarning: car_horn event duration (3.28) is greater that source duration (1.13), changing to 1.13\n",
      "  ScaperWarning)\n",
      "/home/js7561/dev/scaper/scaper/core.py:1112: ScaperWarning: drilling event duration (3.70) is greater that source duration (1.99), changing to 1.99\n",
      "  ScaperWarning)\n"
     ]
    },
    {
     "name": "stdout",
     "output_type": "stream",
     "text": [
      "Generating soundscape: 21/667\n"
     ]
    },
    {
     "name": "stderr",
     "output_type": "stream",
     "text": [
      "/home/js7561/dev/scaper/scaper/core.py:1199: ScaperWarning: drilling event time (9.01) is too great given stretched event duration (3.16) and soundscape duration (10.00), changed to 6.84.\n",
      "  ScaperWarning)\n"
     ]
    },
    {
     "name": "stdout",
     "output_type": "stream",
     "text": [
      "Generating soundscape: 22/667\n",
      "Generating soundscape: 23/667\n"
     ]
    },
    {
     "name": "stderr",
     "output_type": "stream",
     "text": [
      "/home/js7561/dev/scaper/scaper/core.py:1112: ScaperWarning: jackhammer event duration (3.88) is greater that source duration (1.74), changing to 1.74\n",
      "  ScaperWarning)\n",
      "/home/js7561/dev/scaper/scaper/core.py:1199: ScaperWarning: jackhammer event time (9.17) is too great given stretched event duration (1.40) and soundscape duration (10.00), changed to 8.60.\n",
      "  ScaperWarning)\n",
      "/home/js7561/dev/scaper/scaper/core.py:1199: ScaperWarning: engine_idling event time (7.37) is too great given stretched event duration (3.24) and soundscape duration (10.00), changed to 6.76.\n",
      "  ScaperWarning)\n"
     ]
    },
    {
     "name": "stdout",
     "output_type": "stream",
     "text": [
      "Generating soundscape: 24/667\n"
     ]
    },
    {
     "name": "stderr",
     "output_type": "stream",
     "text": [
      "/home/js7561/dev/scaper/scaper/core.py:1199: ScaperWarning: air_conditioner event time (7.84) is too great given stretched event duration (3.22) and soundscape duration (10.00), changed to 6.78.\n",
      "  ScaperWarning)\n",
      "/home/js7561/dev/scaper/scaper/core.py:1112: ScaperWarning: car_horn event duration (3.67) is greater that source duration (0.86), changing to 0.86\n",
      "  ScaperWarning)\n",
      "/home/js7561/dev/scaper/scaper/core.py:1199: ScaperWarning: car_horn event time (6.35) is too great given stretched event duration (4.67) and soundscape duration (10.00), changed to 5.33.\n",
      "  ScaperWarning)\n"
     ]
    },
    {
     "name": "stdout",
     "output_type": "stream",
     "text": [
      "Generating soundscape: 25/667\n",
      "Generating soundscape: 26/667\n"
     ]
    },
    {
     "name": "stderr",
     "output_type": "stream",
     "text": [
      "/home/js7561/dev/scaper/scaper/core.py:1199: ScaperWarning: air_conditioner event time (9.42) is too great given stretched event duration (3.17) and soundscape duration (10.00), changed to 6.83.\n",
      "  ScaperWarning)\n",
      "/home/js7561/dev/scaper/scaper/core.py:1112: ScaperWarning: car_horn event duration (3.47) is greater that source duration (1.75), changing to 1.75\n",
      "  ScaperWarning)\n"
     ]
    },
    {
     "name": "stdout",
     "output_type": "stream",
     "text": [
      "Generating soundscape: 27/667\n"
     ]
    },
    {
     "name": "stderr",
     "output_type": "stream",
     "text": [
      "/home/js7561/dev/scaper/scaper/core.py:1112: ScaperWarning: car_horn event duration (1.26) is greater that source duration (0.52), changing to 0.52\n",
      "  ScaperWarning)\n"
     ]
    },
    {
     "name": "stdout",
     "output_type": "stream",
     "text": [
      "Generating soundscape: 28/667\n"
     ]
    },
    {
     "name": "stderr",
     "output_type": "stream",
     "text": [
      "/home/js7561/dev/scaper/scaper/core.py:1112: ScaperWarning: car_horn event duration (3.61) is greater that source duration (0.83), changing to 0.83\n",
      "  ScaperWarning)\n"
     ]
    },
    {
     "name": "stdout",
     "output_type": "stream",
     "text": [
      "Generating soundscape: 29/667\n",
      "Generating soundscape: 30/667\n"
     ]
    },
    {
     "name": "stderr",
     "output_type": "stream",
     "text": [
      "/home/js7561/dev/scaper/scaper/core.py:1112: ScaperWarning: gun_shot event duration (3.87) is greater that source duration (0.65), changing to 0.65\n",
      "  ScaperWarning)\n",
      "/home/js7561/dev/scaper/scaper/core.py:1112: ScaperWarning: gun_shot event duration (1.33) is greater that source duration (0.50), changing to 0.50\n",
      "  ScaperWarning)\n"
     ]
    },
    {
     "name": "stdout",
     "output_type": "stream",
     "text": [
      "Generating soundscape: 31/667\n"
     ]
    },
    {
     "name": "stderr",
     "output_type": "stream",
     "text": [
      "/home/js7561/dev/scaper/scaper/core.py:1112: ScaperWarning: car_horn event duration (1.12) is greater that source duration (0.60), changing to 0.60\n",
      "  ScaperWarning)\n"
     ]
    },
    {
     "name": "stdout",
     "output_type": "stream",
     "text": [
      "Generating soundscape: 32/667\n"
     ]
    },
    {
     "name": "stderr",
     "output_type": "stream",
     "text": [
      "/home/js7561/dev/scaper/scaper/core.py:1112: ScaperWarning: gun_shot event duration (2.54) is greater that source duration (0.65), changing to 0.65\n",
      "  ScaperWarning)\n"
     ]
    },
    {
     "name": "stdout",
     "output_type": "stream",
     "text": [
      "Generating soundscape: 33/667\n",
      "Generating soundscape: 34/667\n"
     ]
    },
    {
     "name": "stderr",
     "output_type": "stream",
     "text": [
      "/home/js7561/dev/scaper/scaper/core.py:1199: ScaperWarning: jackhammer event time (7.75) is too great given stretched event duration (3.16) and soundscape duration (10.00), changed to 6.84.\n",
      "  ScaperWarning)\n"
     ]
    },
    {
     "name": "stdout",
     "output_type": "stream",
     "text": [
      "Generating soundscape: 35/667\n"
     ]
    },
    {
     "name": "stderr",
     "output_type": "stream",
     "text": [
      "/home/js7561/dev/scaper/scaper/core.py:1112: ScaperWarning: car_horn event duration (1.72) is greater that source duration (1.10), changing to 1.10\n",
      "  ScaperWarning)\n"
     ]
    },
    {
     "name": "stdout",
     "output_type": "stream",
     "text": [
      "Generating soundscape: 36/667\n",
      "Generating soundscape: 37/667\n",
      "Generating soundscape: 38/667\n"
     ]
    },
    {
     "name": "stderr",
     "output_type": "stream",
     "text": [
      "/home/js7561/dev/scaper/scaper/core.py:1199: ScaperWarning: dog_bark event time (9.24) is too great given stretched event duration (0.82) and soundscape duration (10.00), changed to 9.18.\n",
      "  ScaperWarning)\n",
      "/home/js7561/dev/scaper/scaper/core.py:1199: ScaperWarning: siren event time (7.72) is too great given stretched event duration (2.87) and soundscape duration (10.00), changed to 7.13.\n",
      "  ScaperWarning)\n"
     ]
    },
    {
     "name": "stdout",
     "output_type": "stream",
     "text": [
      "Generating soundscape: 39/667\n",
      "Generating soundscape: 40/667\n"
     ]
    },
    {
     "name": "stderr",
     "output_type": "stream",
     "text": [
      "/home/js7561/dev/scaper/scaper/core.py:1112: ScaperWarning: car_horn event duration (3.03) is greater that source duration (0.87), changing to 0.87\n",
      "  ScaperWarning)\n",
      "/home/js7561/dev/scaper/scaper/core.py:1112: ScaperWarning: gun_shot event duration (2.53) is greater that source duration (2.07), changing to 2.07\n",
      "  ScaperWarning)\n",
      "/home/js7561/dev/scaper/scaper/core.py:1112: ScaperWarning: car_horn event duration (0.62) is greater that source duration (0.52), changing to 0.52\n",
      "  ScaperWarning)\n",
      "/home/js7561/dev/scaper/scaper/core.py:1112: ScaperWarning: car_horn event duration (3.19) is greater that source duration (0.27), changing to 0.27\n",
      "  ScaperWarning)\n"
     ]
    },
    {
     "name": "stdout",
     "output_type": "stream",
     "text": [
      "Generating soundscape: 41/667\n"
     ]
    },
    {
     "name": "stderr",
     "output_type": "stream",
     "text": [
      "/home/js7561/dev/scaper/scaper/core.py:1112: ScaperWarning: gun_shot event duration (1.13) is greater that source duration (0.97), changing to 0.97\n",
      "  ScaperWarning)\n",
      "/home/js7561/dev/scaper/scaper/core.py:1112: ScaperWarning: gun_shot event duration (3.20) is greater that source duration (0.77), changing to 0.77\n",
      "  ScaperWarning)\n",
      "/home/js7561/dev/scaper/scaper/core.py:1112: ScaperWarning: gun_shot event duration (0.81) is greater that source duration (0.75), changing to 0.75\n",
      "  ScaperWarning)\n"
     ]
    },
    {
     "name": "stdout",
     "output_type": "stream",
     "text": [
      "Generating soundscape: 42/667\n"
     ]
    },
    {
     "name": "stderr",
     "output_type": "stream",
     "text": [
      "/home/js7561/dev/scaper/scaper/core.py:1112: ScaperWarning: car_horn event duration (1.57) is greater that source duration (0.86), changing to 0.86\n",
      "  ScaperWarning)\n"
     ]
    },
    {
     "name": "stdout",
     "output_type": "stream",
     "text": [
      "Generating soundscape: 43/667\n"
     ]
    },
    {
     "name": "stderr",
     "output_type": "stream",
     "text": [
      "/home/js7561/dev/scaper/scaper/core.py:1112: ScaperWarning: car_horn event duration (0.86) is greater that source duration (0.29), changing to 0.29\n",
      "  ScaperWarning)\n"
     ]
    },
    {
     "name": "stdout",
     "output_type": "stream",
     "text": [
      "Generating soundscape: 44/667\n",
      "Generating soundscape: 45/667\n"
     ]
    },
    {
     "name": "stderr",
     "output_type": "stream",
     "text": [
      "/home/js7561/dev/scaper/scaper/core.py:1112: ScaperWarning: car_horn event duration (3.60) is greater that source duration (0.52), changing to 0.52\n",
      "  ScaperWarning)\n"
     ]
    },
    {
     "name": "stdout",
     "output_type": "stream",
     "text": [
      "Generating soundscape: 46/667\n",
      "Generating soundscape: 47/667\n",
      "Generating soundscape: 48/667\n",
      "Generating soundscape: 49/667\n"
     ]
    },
    {
     "name": "stderr",
     "output_type": "stream",
     "text": [
      "/home/js7561/dev/scaper/scaper/core.py:1112: ScaperWarning: car_horn event duration (2.25) is greater that source duration (0.75), changing to 0.75\n",
      "  ScaperWarning)\n",
      "/home/js7561/dev/scaper/scaper/core.py:1112: ScaperWarning: car_horn event duration (1.24) is greater that source duration (0.58), changing to 0.58\n",
      "  ScaperWarning)\n",
      "/home/js7561/dev/scaper/scaper/core.py:1112: ScaperWarning: dog_bark event duration (2.52) is greater that source duration (0.92), changing to 0.92\n",
      "  ScaperWarning)\n",
      "/home/js7561/dev/scaper/scaper/core.py:1199: ScaperWarning: street_music event time (8.71) is too great given stretched event duration (3.39) and soundscape duration (10.00), changed to 6.61.\n",
      "  ScaperWarning)\n"
     ]
    },
    {
     "name": "stdout",
     "output_type": "stream",
     "text": [
      "Generating soundscape: 50/667\n"
     ]
    },
    {
     "name": "stderr",
     "output_type": "stream",
     "text": [
      "/home/js7561/dev/scaper/scaper/core.py:1199: ScaperWarning: air_conditioner event time (7.87) is too great given stretched event duration (2.19) and soundscape duration (10.00), changed to 7.81.\n",
      "  ScaperWarning)\n",
      "/home/js7561/dev/scaper/scaper/core.py:1199: ScaperWarning: siren event time (8.02) is too great given stretched event duration (4.73) and soundscape duration (10.00), changed to 5.27.\n",
      "  ScaperWarning)\n",
      "/home/js7561/dev/scaper/scaper/core.py:1199: ScaperWarning: engine_idling event time (6.90) is too great given stretched event duration (3.33) and soundscape duration (10.00), changed to 6.67.\n",
      "  ScaperWarning)\n",
      "/home/js7561/dev/scaper/scaper/core.py:1112: ScaperWarning: car_horn event duration (2.29) is greater that source duration (0.45), changing to 0.45\n",
      "  ScaperWarning)\n"
     ]
    },
    {
     "name": "stdout",
     "output_type": "stream",
     "text": [
      "Generating soundscape: 51/667\n",
      "Generating soundscape: 52/667\n",
      "Generating soundscape: 53/667\n"
     ]
    },
    {
     "name": "stderr",
     "output_type": "stream",
     "text": [
      "/home/js7561/dev/scaper/scaper/core.py:1112: ScaperWarning: gun_shot event duration (3.19) is greater that source duration (0.97), changing to 0.97\n",
      "  ScaperWarning)\n"
     ]
    },
    {
     "name": "stdout",
     "output_type": "stream",
     "text": [
      "Generating soundscape: 54/667\n"
     ]
    },
    {
     "name": "stderr",
     "output_type": "stream",
     "text": [
      "/home/js7561/dev/scaper/scaper/core.py:1112: ScaperWarning: dog_bark event duration (3.42) is greater that source duration (1.44), changing to 1.44\n",
      "  ScaperWarning)\n"
     ]
    },
    {
     "name": "stdout",
     "output_type": "stream",
     "text": [
      "Generating soundscape: 55/667\n"
     ]
    },
    {
     "name": "stderr",
     "output_type": "stream",
     "text": [
      "/home/js7561/dev/scaper/scaper/core.py:1199: ScaperWarning: dog_bark event time (8.16) is too great given stretched event duration (2.37) and soundscape duration (10.00), changed to 7.63.\n",
      "  ScaperWarning)\n",
      "/home/js7561/dev/scaper/scaper/core.py:1112: ScaperWarning: car_horn event duration (0.86) is greater that source duration (0.75), changing to 0.75\n",
      "  ScaperWarning)\n"
     ]
    },
    {
     "name": "stdout",
     "output_type": "stream",
     "text": [
      "Generating soundscape: 56/667\n"
     ]
    },
    {
     "name": "stderr",
     "output_type": "stream",
     "text": [
      "/home/js7561/dev/scaper/scaper/core.py:1112: ScaperWarning: car_horn event duration (2.74) is greater that source duration (0.32), changing to 0.32\n",
      "  ScaperWarning)\n"
     ]
    },
    {
     "name": "stdout",
     "output_type": "stream",
     "text": [
      "Generating soundscape: 57/667\n"
     ]
    },
    {
     "name": "stderr",
     "output_type": "stream",
     "text": [
      "/home/js7561/dev/scaper/scaper/core.py:1112: ScaperWarning: dog_bark event duration (2.02) is greater that source duration (0.36), changing to 0.36\n",
      "  ScaperWarning)\n",
      "/home/js7561/dev/scaper/scaper/core.py:1112: ScaperWarning: car_horn event duration (3.71) is greater that source duration (1.13), changing to 1.13\n",
      "  ScaperWarning)\n"
     ]
    },
    {
     "name": "stdout",
     "output_type": "stream",
     "text": [
      "Generating soundscape: 58/667\n"
     ]
    },
    {
     "name": "stderr",
     "output_type": "stream",
     "text": [
      "/home/js7561/dev/scaper/scaper/core.py:1112: ScaperWarning: dog_bark event duration (1.02) is greater that source duration (0.92), changing to 0.92\n",
      "  ScaperWarning)\n",
      "/home/js7561/dev/scaper/scaper/core.py:1112: ScaperWarning: car_horn event duration (2.82) is greater that source duration (0.44), changing to 0.44\n",
      "  ScaperWarning)\n",
      "/home/js7561/dev/scaper/scaper/core.py:1199: ScaperWarning: engine_idling event time (6.09) is too great given stretched event duration (4.34) and soundscape duration (10.00), changed to 5.66.\n",
      "  ScaperWarning)\n",
      "/home/js7561/dev/scaper/scaper/core.py:1199: ScaperWarning: air_conditioner event time (8.36) is too great given stretched event duration (2.70) and soundscape duration (10.00), changed to 7.30.\n",
      "  ScaperWarning)\n"
     ]
    },
    {
     "name": "stdout",
     "output_type": "stream",
     "text": [
      "Generating soundscape: 59/667\n"
     ]
    },
    {
     "name": "stderr",
     "output_type": "stream",
     "text": [
      "/home/js7561/dev/scaper/scaper/core.py:1199: ScaperWarning: drilling event time (6.92) is too great given stretched event duration (3.45) and soundscape duration (10.00), changed to 6.55.\n",
      "  ScaperWarning)\n",
      "/home/js7561/dev/scaper/scaper/core.py:1112: ScaperWarning: gun_shot event duration (2.55) is greater that source duration (0.85), changing to 0.85\n",
      "  ScaperWarning)\n",
      "/home/js7561/dev/scaper/scaper/core.py:1112: ScaperWarning: car_horn event duration (3.60) is greater that source duration (0.57), changing to 0.57\n",
      "  ScaperWarning)\n"
     ]
    },
    {
     "name": "stdout",
     "output_type": "stream",
     "text": [
      "Generating soundscape: 60/667\n"
     ]
    },
    {
     "name": "stderr",
     "output_type": "stream",
     "text": [
      "/home/js7561/dev/scaper/scaper/core.py:1112: ScaperWarning: car_horn event duration (2.94) is greater that source duration (0.10), changing to 0.10\n",
      "  ScaperWarning)\n"
     ]
    },
    {
     "name": "stdout",
     "output_type": "stream",
     "text": [
      "Generating soundscape: 61/667\n"
     ]
    },
    {
     "name": "stderr",
     "output_type": "stream",
     "text": [
      "/home/js7561/dev/scaper/scaper/core.py:1112: ScaperWarning: gun_shot event duration (2.64) is greater that source duration (1.85), changing to 1.85\n",
      "  ScaperWarning)\n",
      "/home/js7561/dev/scaper/scaper/core.py:1199: ScaperWarning: gun_shot event time (8.91) is too great given stretched event duration (1.86) and soundscape duration (10.00), changed to 8.14.\n",
      "  ScaperWarning)\n"
     ]
    },
    {
     "name": "stdout",
     "output_type": "stream",
     "text": [
      "Generating soundscape: 62/667\n"
     ]
    },
    {
     "name": "stderr",
     "output_type": "stream",
     "text": [
      "/home/js7561/dev/scaper/scaper/core.py:1112: ScaperWarning: car_horn event duration (3.16) is greater that source duration (0.57), changing to 0.57\n",
      "  ScaperWarning)\n"
     ]
    },
    {
     "name": "stdout",
     "output_type": "stream",
     "text": [
      "Generating soundscape: 63/667\n"
     ]
    },
    {
     "name": "stderr",
     "output_type": "stream",
     "text": [
      "/home/js7561/dev/scaper/scaper/core.py:1112: ScaperWarning: drilling event duration (2.04) is greater that source duration (1.99), changing to 1.99\n",
      "  ScaperWarning)\n"
     ]
    },
    {
     "name": "stdout",
     "output_type": "stream",
     "text": [
      "Generating soundscape: 64/667\n"
     ]
    },
    {
     "name": "stderr",
     "output_type": "stream",
     "text": [
      "/home/js7561/dev/scaper/scaper/core.py:1112: ScaperWarning: gun_shot event duration (2.32) is greater that source duration (1.60), changing to 1.60\n",
      "  ScaperWarning)\n"
     ]
    },
    {
     "name": "stdout",
     "output_type": "stream",
     "text": [
      "Generating soundscape: 65/667\n",
      "Generating soundscape: 66/667\n"
     ]
    },
    {
     "name": "stderr",
     "output_type": "stream",
     "text": [
      "/home/js7561/dev/scaper/scaper/core.py:1112: ScaperWarning: car_horn event duration (1.08) is greater that source duration (0.32), changing to 0.32\n",
      "  ScaperWarning)\n",
      "/home/js7561/dev/scaper/scaper/core.py:1112: ScaperWarning: gun_shot event duration (1.24) is greater that source duration (1.09), changing to 1.09\n",
      "  ScaperWarning)\n",
      "/home/js7561/dev/scaper/scaper/core.py:1199: ScaperWarning: dog_bark event time (6.48) is too great given stretched event duration (3.69) and soundscape duration (10.00), changed to 6.31.\n",
      "  ScaperWarning)\n",
      "/home/js7561/dev/scaper/scaper/core.py:1112: ScaperWarning: dog_bark event duration (2.46) is greater that source duration (2.06), changing to 2.06\n",
      "  ScaperWarning)\n"
     ]
    },
    {
     "name": "stdout",
     "output_type": "stream",
     "text": [
      "Generating soundscape: 67/667\n"
     ]
    },
    {
     "name": "stderr",
     "output_type": "stream",
     "text": [
      "/home/js7561/dev/scaper/scaper/core.py:1112: ScaperWarning: gun_shot event duration (2.75) is greater that source duration (1.47), changing to 1.47\n",
      "  ScaperWarning)\n",
      "/home/js7561/dev/scaper/scaper/core.py:1199: ScaperWarning: dog_bark event time (7.62) is too great given stretched event duration (4.10) and soundscape duration (10.00), changed to 5.90.\n",
      "  ScaperWarning)\n"
     ]
    },
    {
     "name": "stdout",
     "output_type": "stream",
     "text": [
      "Generating soundscape: 68/667\n"
     ]
    },
    {
     "name": "stderr",
     "output_type": "stream",
     "text": [
      "/home/js7561/dev/scaper/scaper/core.py:1112: ScaperWarning: gun_shot event duration (0.85) is greater that source duration (0.75), changing to 0.75\n",
      "  ScaperWarning)\n"
     ]
    },
    {
     "name": "stdout",
     "output_type": "stream",
     "text": [
      "Generating soundscape: 69/667\n"
     ]
    },
    {
     "name": "stderr",
     "output_type": "stream",
     "text": [
      "/home/js7561/dev/scaper/scaper/core.py:1199: ScaperWarning: dog_bark event time (5.59) is too great given stretched event duration (4.45) and soundscape duration (10.00), changed to 5.55.\n",
      "  ScaperWarning)\n"
     ]
    },
    {
     "name": "stdout",
     "output_type": "stream",
     "text": [
      "Generating soundscape: 70/667\n"
     ]
    },
    {
     "name": "stderr",
     "output_type": "stream",
     "text": [
      "/home/js7561/dev/scaper/scaper/core.py:1199: ScaperWarning: engine_idling event time (7.81) is too great given stretched event duration (3.09) and soundscape duration (10.00), changed to 6.91.\n",
      "  ScaperWarning)\n",
      "/home/js7561/dev/scaper/scaper/core.py:1112: ScaperWarning: dog_bark event duration (3.44) is greater that source duration (0.55), changing to 0.55\n",
      "  ScaperWarning)\n",
      "/home/js7561/dev/scaper/scaper/core.py:1199: ScaperWarning: children_playing event time (7.81) is too great given stretched event duration (2.59) and soundscape duration (10.00), changed to 7.41.\n",
      "  ScaperWarning)\n"
     ]
    },
    {
     "name": "stdout",
     "output_type": "stream",
     "text": [
      "Generating soundscape: 71/667\n"
     ]
    },
    {
     "name": "stderr",
     "output_type": "stream",
     "text": [
      "/home/js7561/dev/scaper/scaper/core.py:1112: ScaperWarning: gun_shot event duration (3.58) is greater that source duration (1.24), changing to 1.24\n",
      "  ScaperWarning)\n"
     ]
    },
    {
     "name": "stdout",
     "output_type": "stream",
     "text": [
      "Generating soundscape: 72/667\n"
     ]
    },
    {
     "name": "stderr",
     "output_type": "stream",
     "text": [
      "/home/js7561/dev/scaper/scaper/core.py:1199: ScaperWarning: dog_bark event time (9.16) is too great given stretched event duration (1.28) and soundscape duration (10.00), changed to 8.72.\n",
      "  ScaperWarning)\n"
     ]
    },
    {
     "name": "stdout",
     "output_type": "stream",
     "text": [
      "Generating soundscape: 73/667\n"
     ]
    },
    {
     "name": "stderr",
     "output_type": "stream",
     "text": [
      "/home/js7561/dev/scaper/scaper/core.py:1112: ScaperWarning: gun_shot event duration (3.21) is greater that source duration (0.95), changing to 0.95\n",
      "  ScaperWarning)\n"
     ]
    },
    {
     "name": "stdout",
     "output_type": "stream",
     "text": [
      "Generating soundscape: 74/667\n"
     ]
    },
    {
     "name": "stderr",
     "output_type": "stream",
     "text": [
      "/home/js7561/dev/scaper/scaper/core.py:1112: ScaperWarning: dog_bark event duration (3.32) is greater that source duration (1.43), changing to 1.43\n",
      "  ScaperWarning)\n"
     ]
    },
    {
     "name": "stdout",
     "output_type": "stream",
     "text": [
      "Generating soundscape: 75/667\n",
      "Generating soundscape: 76/667\n"
     ]
    },
    {
     "name": "stderr",
     "output_type": "stream",
     "text": [
      "/home/js7561/dev/scaper/scaper/core.py:1112: ScaperWarning: gun_shot event duration (2.22) is greater that source duration (1.74), changing to 1.74\n",
      "  ScaperWarning)\n"
     ]
    },
    {
     "name": "stdout",
     "output_type": "stream",
     "text": [
      "Generating soundscape: 77/667\n"
     ]
    },
    {
     "name": "stderr",
     "output_type": "stream",
     "text": [
      "/home/js7561/dev/scaper/scaper/core.py:1199: ScaperWarning: siren event time (9.21) is too great given stretched event duration (1.91) and soundscape duration (10.00), changed to 8.09.\n",
      "  ScaperWarning)\n"
     ]
    },
    {
     "name": "stdout",
     "output_type": "stream",
     "text": [
      "Generating soundscape: 78/667\n"
     ]
    },
    {
     "name": "stderr",
     "output_type": "stream",
     "text": [
      "/home/js7561/dev/scaper/scaper/core.py:1112: ScaperWarning: car_horn event duration (3.46) is greater that source duration (0.32), changing to 0.32\n",
      "  ScaperWarning)\n"
     ]
    },
    {
     "name": "stdout",
     "output_type": "stream",
     "text": [
      "Generating soundscape: 79/667\n",
      "Generating soundscape: 80/667\n"
     ]
    },
    {
     "name": "stderr",
     "output_type": "stream",
     "text": [
      "/home/js7561/dev/scaper/scaper/core.py:1112: ScaperWarning: drilling event duration (3.79) is greater that source duration (1.82), changing to 1.82\n",
      "  ScaperWarning)\n",
      "/home/js7561/dev/scaper/scaper/core.py:1112: ScaperWarning: gun_shot event duration (2.10) is greater that source duration (1.60), changing to 1.60\n",
      "  ScaperWarning)\n"
     ]
    },
    {
     "name": "stdout",
     "output_type": "stream",
     "text": [
      "Generating soundscape: 81/667\n",
      "Generating soundscape: 82/667\n"
     ]
    },
    {
     "name": "stderr",
     "output_type": "stream",
     "text": [
      "/home/js7561/dev/scaper/scaper/core.py:1199: ScaperWarning: dog_bark event time (9.89) is too great given stretched event duration (0.56) and soundscape duration (10.00), changed to 9.44.\n",
      "  ScaperWarning)\n",
      "/home/js7561/dev/scaper/scaper/core.py:1112: ScaperWarning: gun_shot event duration (2.25) is greater that source duration (1.44), changing to 1.44\n",
      "  ScaperWarning)\n"
     ]
    },
    {
     "name": "stdout",
     "output_type": "stream",
     "text": [
      "Generating soundscape: 83/667\n",
      "Generating soundscape: 84/667\n"
     ]
    },
    {
     "name": "stderr",
     "output_type": "stream",
     "text": [
      "/home/js7561/dev/scaper/scaper/core.py:1199: ScaperWarning: jackhammer event time (8.31) is too great given stretched event duration (2.47) and soundscape duration (10.00), changed to 7.53.\n",
      "  ScaperWarning)\n",
      "/home/js7561/dev/scaper/scaper/core.py:1112: ScaperWarning: car_horn event duration (2.68) is greater that source duration (1.67), changing to 1.67\n",
      "  ScaperWarning)\n"
     ]
    },
    {
     "name": "stdout",
     "output_type": "stream",
     "text": [
      "Generating soundscape: 85/667\n"
     ]
    },
    {
     "name": "stderr",
     "output_type": "stream",
     "text": [
      "/home/js7561/dev/scaper/scaper/core.py:1112: ScaperWarning: gun_shot event duration (1.72) is greater that source duration (1.09), changing to 1.09\n",
      "  ScaperWarning)\n"
     ]
    },
    {
     "name": "stdout",
     "output_type": "stream",
     "text": [
      "Generating soundscape: 86/667\n",
      "Generating soundscape: 87/667\n"
     ]
    },
    {
     "name": "stderr",
     "output_type": "stream",
     "text": [
      "/home/js7561/dev/scaper/scaper/core.py:1112: ScaperWarning: dog_bark event duration (3.82) is greater that source duration (2.60), changing to 2.60\n",
      "  ScaperWarning)\n"
     ]
    },
    {
     "name": "stdout",
     "output_type": "stream",
     "text": [
      "Generating soundscape: 88/667\n",
      "Generating soundscape: 89/667\n",
      "Generating soundscape: 90/667\n"
     ]
    },
    {
     "name": "stderr",
     "output_type": "stream",
     "text": [
      "/home/js7561/dev/scaper/scaper/core.py:1112: ScaperWarning: gun_shot event duration (2.84) is greater that source duration (2.07), changing to 2.07\n",
      "  ScaperWarning)\n"
     ]
    },
    {
     "name": "stdout",
     "output_type": "stream",
     "text": [
      "Generating soundscape: 91/667\n"
     ]
    },
    {
     "name": "stderr",
     "output_type": "stream",
     "text": [
      "/home/js7561/dev/scaper/scaper/core.py:1112: ScaperWarning: dog_bark event duration (3.89) is greater that source duration (1.71), changing to 1.71\n",
      "  ScaperWarning)\n",
      "/home/js7561/dev/scaper/scaper/core.py:1112: ScaperWarning: drilling event duration (2.82) is greater that source duration (0.57), changing to 0.57\n",
      "  ScaperWarning)\n"
     ]
    },
    {
     "name": "stdout",
     "output_type": "stream",
     "text": [
      "Generating soundscape: 92/667\n",
      "Generating soundscape: 93/667\n"
     ]
    },
    {
     "name": "stderr",
     "output_type": "stream",
     "text": [
      "/home/js7561/dev/scaper/scaper/core.py:1112: ScaperWarning: car_horn event duration (3.82) is greater that source duration (1.13), changing to 1.13\n",
      "  ScaperWarning)\n",
      "/home/js7561/dev/scaper/scaper/core.py:1112: ScaperWarning: gun_shot event duration (2.27) is greater that source duration (1.60), changing to 1.60\n",
      "  ScaperWarning)\n"
     ]
    },
    {
     "name": "stdout",
     "output_type": "stream",
     "text": [
      "Generating soundscape: 94/667\n"
     ]
    },
    {
     "name": "stderr",
     "output_type": "stream",
     "text": [
      "/home/js7561/dev/scaper/scaper/core.py:1112: ScaperWarning: car_horn event duration (1.33) is greater that source duration (1.13), changing to 1.13\n",
      "  ScaperWarning)\n",
      "/home/js7561/dev/scaper/scaper/core.py:1112: ScaperWarning: car_horn event duration (1.21) is greater that source duration (0.57), changing to 0.57\n",
      "  ScaperWarning)\n"
     ]
    },
    {
     "name": "stdout",
     "output_type": "stream",
     "text": [
      "Generating soundscape: 95/667\n"
     ]
    },
    {
     "name": "stderr",
     "output_type": "stream",
     "text": [
      "/home/js7561/dev/scaper/scaper/core.py:1199: ScaperWarning: engine_idling event time (8.31) is too great given stretched event duration (3.18) and soundscape duration (10.00), changed to 6.82.\n",
      "  ScaperWarning)\n",
      "/home/js7561/dev/scaper/scaper/core.py:1199: ScaperWarning: drilling event time (8.30) is too great given stretched event duration (2.94) and soundscape duration (10.00), changed to 7.06.\n",
      "  ScaperWarning)\n"
     ]
    },
    {
     "name": "stdout",
     "output_type": "stream",
     "text": [
      "Generating soundscape: 96/667\n"
     ]
    },
    {
     "name": "stderr",
     "output_type": "stream",
     "text": [
      "/home/js7561/dev/scaper/scaper/core.py:1112: ScaperWarning: jackhammer event duration (2.37) is greater that source duration (1.28), changing to 1.28\n",
      "  ScaperWarning)\n",
      "/home/js7561/dev/scaper/scaper/core.py:1112: ScaperWarning: gun_shot event duration (1.39) is greater that source duration (0.50), changing to 0.50\n",
      "  ScaperWarning)\n"
     ]
    },
    {
     "name": "stdout",
     "output_type": "stream",
     "text": [
      "Generating soundscape: 97/667\n"
     ]
    },
    {
     "name": "stderr",
     "output_type": "stream",
     "text": [
      "/home/js7561/dev/scaper/scaper/core.py:1199: ScaperWarning: siren event time (7.06) is too great given stretched event duration (3.63) and soundscape duration (10.00), changed to 6.37.\n",
      "  ScaperWarning)\n",
      "/home/js7561/dev/scaper/scaper/core.py:1199: ScaperWarning: children_playing event time (7.50) is too great given stretched event duration (2.92) and soundscape duration (10.00), changed to 7.08.\n",
      "  ScaperWarning)\n",
      "/home/js7561/dev/scaper/scaper/core.py:1199: ScaperWarning: jackhammer event time (6.68) is too great given stretched event duration (4.42) and soundscape duration (10.00), changed to 5.58.\n",
      "  ScaperWarning)\n"
     ]
    },
    {
     "name": "stdout",
     "output_type": "stream",
     "text": [
      "Generating soundscape: 98/667\n",
      "Generating soundscape: 99/667\n",
      "Generating soundscape: 100/667\n",
      "Generating soundscape: 101/667\n"
     ]
    },
    {
     "name": "stderr",
     "output_type": "stream",
     "text": [
      "/home/js7561/dev/scaper/scaper/core.py:1199: ScaperWarning: air_conditioner event time (8.50) is too great given stretched event duration (3.57) and soundscape duration (10.00), changed to 6.43.\n",
      "  ScaperWarning)\n",
      "/home/js7561/dev/scaper/scaper/core.py:1112: ScaperWarning: car_horn event duration (2.83) is greater that source duration (0.30), changing to 0.30\n",
      "  ScaperWarning)\n",
      "/home/js7561/dev/scaper/scaper/core.py:1112: ScaperWarning: gun_shot event duration (2.96) is greater that source duration (0.79), changing to 0.79\n",
      "  ScaperWarning)\n"
     ]
    },
    {
     "name": "stdout",
     "output_type": "stream",
     "text": [
      "Generating soundscape: 102/667\n"
     ]
    },
    {
     "name": "stderr",
     "output_type": "stream",
     "text": [
      "/home/js7561/dev/scaper/scaper/core.py:1112: ScaperWarning: dog_bark event duration (3.61) is greater that source duration (0.77), changing to 0.77\n",
      "  ScaperWarning)\n",
      "/home/js7561/dev/scaper/scaper/core.py:1199: ScaperWarning: jackhammer event time (6.70) is too great given stretched event duration (3.58) and soundscape duration (10.00), changed to 6.42.\n",
      "  ScaperWarning)\n",
      "/home/js7561/dev/scaper/scaper/core.py:1112: ScaperWarning: jackhammer event duration (2.36) is greater that source duration (0.81), changing to 0.81\n",
      "  ScaperWarning)\n",
      "/home/js7561/dev/scaper/scaper/core.py:1199: ScaperWarning: siren event time (7.00) is too great given stretched event duration (4.35) and soundscape duration (10.00), changed to 5.65.\n",
      "  ScaperWarning)\n"
     ]
    },
    {
     "name": "stdout",
     "output_type": "stream",
     "text": [
      "Generating soundscape: 103/667\n",
      "Generating soundscape: 104/667\n",
      "Generating soundscape: 105/667\n",
      "Generating soundscape: 106/667\n"
     ]
    },
    {
     "name": "stderr",
     "output_type": "stream",
     "text": [
      "/home/js7561/dev/scaper/scaper/core.py:1199: ScaperWarning: engine_idling event time (8.37) is too great given stretched event duration (2.52) and soundscape duration (10.00), changed to 7.48.\n",
      "  ScaperWarning)\n",
      "/home/js7561/dev/scaper/scaper/core.py:1199: ScaperWarning: siren event time (7.27) is too great given stretched event duration (3.15) and soundscape duration (10.00), changed to 6.85.\n",
      "  ScaperWarning)\n"
     ]
    },
    {
     "name": "stdout",
     "output_type": "stream",
     "text": [
      "Generating soundscape: 107/667\n",
      "Generating soundscape: 108/667\n"
     ]
    },
    {
     "name": "stderr",
     "output_type": "stream",
     "text": [
      "/home/js7561/dev/scaper/scaper/core.py:1112: ScaperWarning: dog_bark event duration (3.26) is greater that source duration (1.71), changing to 1.71\n",
      "  ScaperWarning)\n"
     ]
    },
    {
     "name": "stdout",
     "output_type": "stream",
     "text": [
      "Generating soundscape: 109/667\n"
     ]
    },
    {
     "name": "stderr",
     "output_type": "stream",
     "text": [
      "/home/js7561/dev/scaper/scaper/core.py:1112: ScaperWarning: gun_shot event duration (1.70) is greater that source duration (0.75), changing to 0.75\n",
      "  ScaperWarning)\n",
      "/home/js7561/dev/scaper/scaper/core.py:1199: ScaperWarning: car_horn event time (8.54) is too great given stretched event duration (2.21) and soundscape duration (10.00), changed to 7.79.\n",
      "  ScaperWarning)\n"
     ]
    },
    {
     "name": "stdout",
     "output_type": "stream",
     "text": [
      "Generating soundscape: 110/667\n"
     ]
    },
    {
     "name": "stderr",
     "output_type": "stream",
     "text": [
      "/home/js7561/dev/scaper/scaper/core.py:1112: ScaperWarning: car_horn event duration (3.46) is greater that source duration (0.77), changing to 0.77\n",
      "  ScaperWarning)\n",
      "/home/js7561/dev/scaper/scaper/core.py:1112: ScaperWarning: gun_shot event duration (1.24) is greater that source duration (0.34), changing to 0.34\n",
      "  ScaperWarning)\n"
     ]
    },
    {
     "name": "stdout",
     "output_type": "stream",
     "text": [
      "Generating soundscape: 111/667\n",
      "Generating soundscape: 112/667\n"
     ]
    },
    {
     "name": "stderr",
     "output_type": "stream",
     "text": [
      "/home/js7561/dev/scaper/scaper/core.py:1112: ScaperWarning: car_horn event duration (1.21) is greater that source duration (0.45), changing to 0.45\n",
      "  ScaperWarning)\n",
      "/home/js7561/dev/scaper/scaper/core.py:1112: ScaperWarning: car_horn event duration (3.18) is greater that source duration (2.69), changing to 2.69\n",
      "  ScaperWarning)\n"
     ]
    },
    {
     "name": "stdout",
     "output_type": "stream",
     "text": [
      "Generating soundscape: 113/667\n"
     ]
    },
    {
     "name": "stderr",
     "output_type": "stream",
     "text": [
      "/home/js7561/dev/scaper/scaper/core.py:1112: ScaperWarning: gun_shot event duration (1.66) is greater that source duration (1.28), changing to 1.28\n",
      "  ScaperWarning)\n"
     ]
    },
    {
     "name": "stdout",
     "output_type": "stream",
     "text": [
      "Generating soundscape: 114/667\n"
     ]
    },
    {
     "name": "stderr",
     "output_type": "stream",
     "text": [
      "/home/js7561/dev/scaper/scaper/core.py:1112: ScaperWarning: gun_shot event duration (3.49) is greater that source duration (3.23), changing to 3.23\n",
      "  ScaperWarning)\n",
      "/home/js7561/dev/scaper/scaper/core.py:1199: ScaperWarning: drilling event time (9.86) is too great given stretched event duration (1.79) and soundscape duration (10.00), changed to 8.21.\n",
      "  ScaperWarning)\n"
     ]
    },
    {
     "name": "stdout",
     "output_type": "stream",
     "text": [
      "Generating soundscape: 115/667\n"
     ]
    },
    {
     "name": "stderr",
     "output_type": "stream",
     "text": [
      "/home/js7561/dev/scaper/scaper/core.py:1199: ScaperWarning: street_music event time (8.23) is too great given stretched event duration (3.11) and soundscape duration (10.00), changed to 6.89.\n",
      "  ScaperWarning)\n",
      "/home/js7561/dev/scaper/scaper/core.py:1112: ScaperWarning: car_horn event duration (3.02) is greater that source duration (1.11), changing to 1.11\n",
      "  ScaperWarning)\n",
      "/home/js7561/dev/scaper/scaper/core.py:1199: ScaperWarning: jackhammer event time (9.03) is too great given stretched event duration (2.49) and soundscape duration (10.00), changed to 7.51.\n",
      "  ScaperWarning)\n"
     ]
    },
    {
     "name": "stdout",
     "output_type": "stream",
     "text": [
      "Generating soundscape: 116/667\n",
      "Generating soundscape: 117/667\n"
     ]
    },
    {
     "name": "stderr",
     "output_type": "stream",
     "text": [
      "/home/js7561/dev/scaper/scaper/core.py:1199: ScaperWarning: children_playing event time (8.54) is too great given stretched event duration (2.38) and soundscape duration (10.00), changed to 7.62.\n",
      "  ScaperWarning)\n",
      "/home/js7561/dev/scaper/scaper/core.py:1112: ScaperWarning: gun_shot event duration (2.63) is greater that source duration (1.60), changing to 1.60\n",
      "  ScaperWarning)\n",
      "/home/js7561/dev/scaper/scaper/core.py:1112: ScaperWarning: gun_shot event duration (2.34) is greater that source duration (1.83), changing to 1.83\n",
      "  ScaperWarning)\n",
      "/home/js7561/dev/scaper/scaper/core.py:1112: ScaperWarning: car_horn event duration (1.03) is greater that source duration (0.46), changing to 0.46\n",
      "  ScaperWarning)\n"
     ]
    },
    {
     "name": "stdout",
     "output_type": "stream",
     "text": [
      "Generating soundscape: 118/667\n"
     ]
    },
    {
     "name": "stderr",
     "output_type": "stream",
     "text": [
      "/home/js7561/dev/scaper/scaper/core.py:1112: ScaperWarning: gun_shot event duration (3.44) is greater that source duration (1.71), changing to 1.71\n",
      "  ScaperWarning)\n"
     ]
    },
    {
     "name": "stdout",
     "output_type": "stream",
     "text": [
      "Generating soundscape: 119/667\n"
     ]
    },
    {
     "name": "stderr",
     "output_type": "stream",
     "text": [
      "/home/js7561/dev/scaper/scaper/core.py:1112: ScaperWarning: gun_shot event duration (3.06) is greater that source duration (1.89), changing to 1.89\n",
      "  ScaperWarning)\n"
     ]
    },
    {
     "name": "stdout",
     "output_type": "stream",
     "text": [
      "Generating soundscape: 120/667\n"
     ]
    },
    {
     "name": "stderr",
     "output_type": "stream",
     "text": [
      "/home/js7561/dev/scaper/scaper/core.py:1112: ScaperWarning: car_horn event duration (1.47) is greater that source duration (0.57), changing to 0.57\n",
      "  ScaperWarning)\n"
     ]
    },
    {
     "name": "stdout",
     "output_type": "stream",
     "text": [
      "Generating soundscape: 121/667\n"
     ]
    },
    {
     "name": "stderr",
     "output_type": "stream",
     "text": [
      "/home/js7561/dev/scaper/scaper/core.py:1112: ScaperWarning: gun_shot event duration (1.33) is greater that source duration (0.77), changing to 0.77\n",
      "  ScaperWarning)\n"
     ]
    },
    {
     "name": "stdout",
     "output_type": "stream",
     "text": [
      "Generating soundscape: 122/667\n"
     ]
    },
    {
     "name": "stderr",
     "output_type": "stream",
     "text": [
      "/home/js7561/dev/scaper/scaper/core.py:1199: ScaperWarning: street_music event time (9.62) is too great given stretched event duration (1.89) and soundscape duration (10.00), changed to 8.11.\n",
      "  ScaperWarning)\n",
      "/home/js7561/dev/scaper/scaper/core.py:1199: ScaperWarning: gun_shot event time (8.10) is too great given stretched event duration (3.36) and soundscape duration (10.00), changed to 6.64.\n",
      "  ScaperWarning)\n"
     ]
    },
    {
     "name": "stdout",
     "output_type": "stream",
     "text": [
      "Generating soundscape: 123/667\n"
     ]
    },
    {
     "name": "stderr",
     "output_type": "stream",
     "text": [
      "/home/js7561/dev/scaper/scaper/core.py:1112: ScaperWarning: dog_bark event duration (1.18) is greater that source duration (1.02), changing to 1.02\n",
      "  ScaperWarning)\n"
     ]
    },
    {
     "name": "stdout",
     "output_type": "stream",
     "text": [
      "Generating soundscape: 124/667\n"
     ]
    },
    {
     "name": "stderr",
     "output_type": "stream",
     "text": [
      "/home/js7561/dev/scaper/scaper/core.py:1112: ScaperWarning: gun_shot event duration (3.10) is greater that source duration (1.74), changing to 1.74\n",
      "  ScaperWarning)\n"
     ]
    },
    {
     "name": "stdout",
     "output_type": "stream",
     "text": [
      "Generating soundscape: 125/667\n",
      "Generating soundscape: 126/667\n"
     ]
    },
    {
     "name": "stderr",
     "output_type": "stream",
     "text": [
      "/home/js7561/dev/scaper/scaper/core.py:1112: ScaperWarning: gun_shot event duration (3.60) is greater that source duration (1.89), changing to 1.89\n",
      "  ScaperWarning)\n"
     ]
    },
    {
     "name": "stdout",
     "output_type": "stream",
     "text": [
      "Generating soundscape: 127/667\n"
     ]
    },
    {
     "name": "stderr",
     "output_type": "stream",
     "text": [
      "/home/js7561/dev/scaper/scaper/core.py:1199: ScaperWarning: drilling event time (7.80) is too great given stretched event duration (3.47) and soundscape duration (10.00), changed to 6.53.\n",
      "  ScaperWarning)\n",
      "/home/js7561/dev/scaper/scaper/core.py:1199: ScaperWarning: engine_idling event time (7.30) is too great given stretched event duration (3.04) and soundscape duration (10.00), changed to 6.96.\n",
      "  ScaperWarning)\n"
     ]
    },
    {
     "name": "stdout",
     "output_type": "stream",
     "text": [
      "Generating soundscape: 128/667\n"
     ]
    },
    {
     "name": "stderr",
     "output_type": "stream",
     "text": [
      "/home/js7561/dev/scaper/scaper/core.py:1112: ScaperWarning: gun_shot event duration (3.47) is greater that source duration (2.44), changing to 2.44\n",
      "  ScaperWarning)\n"
     ]
    },
    {
     "name": "stdout",
     "output_type": "stream",
     "text": [
      "Generating soundscape: 129/667\n",
      "Generating soundscape: 130/667\n",
      "Generating soundscape: 131/667\n"
     ]
    },
    {
     "name": "stderr",
     "output_type": "stream",
     "text": [
      "/home/js7561/dev/scaper/scaper/core.py:1112: ScaperWarning: dog_bark event duration (2.97) is greater that source duration (1.71), changing to 1.71\n",
      "  ScaperWarning)\n",
      "/home/js7561/dev/scaper/scaper/core.py:1199: ScaperWarning: drilling event time (9.31) is too great given stretched event duration (2.82) and soundscape duration (10.00), changed to 7.18.\n",
      "  ScaperWarning)\n"
     ]
    },
    {
     "name": "stdout",
     "output_type": "stream",
     "text": [
      "Generating soundscape: 132/667\n"
     ]
    },
    {
     "name": "stderr",
     "output_type": "stream",
     "text": [
      "/home/js7561/dev/scaper/scaper/core.py:1112: ScaperWarning: car_horn event duration (2.48) is greater that source duration (0.87), changing to 0.87\n",
      "  ScaperWarning)\n",
      "/home/js7561/dev/scaper/scaper/core.py:1112: ScaperWarning: gun_shot event duration (2.24) is greater that source duration (1.60), changing to 1.60\n",
      "  ScaperWarning)\n"
     ]
    },
    {
     "name": "stdout",
     "output_type": "stream",
     "text": [
      "Generating soundscape: 133/667\n"
     ]
    },
    {
     "name": "stderr",
     "output_type": "stream",
     "text": [
      "/home/js7561/dev/scaper/scaper/core.py:1112: ScaperWarning: car_horn event duration (3.44) is greater that source duration (0.60), changing to 0.60\n",
      "  ScaperWarning)\n"
     ]
    },
    {
     "name": "stdout",
     "output_type": "stream",
     "text": [
      "Generating soundscape: 134/667\n"
     ]
    },
    {
     "name": "stderr",
     "output_type": "stream",
     "text": [
      "/home/js7561/dev/scaper/scaper/core.py:1112: ScaperWarning: drilling event duration (3.80) is greater that source duration (1.89), changing to 1.89\n",
      "  ScaperWarning)\n",
      "/home/js7561/dev/scaper/scaper/core.py:1112: ScaperWarning: engine_idling event duration (0.97) is greater that source duration (0.95), changing to 0.95\n",
      "  ScaperWarning)\n",
      "/home/js7561/dev/scaper/scaper/core.py:1112: ScaperWarning: gun_shot event duration (1.66) is greater that source duration (0.65), changing to 0.65\n",
      "  ScaperWarning)\n"
     ]
    },
    {
     "name": "stdout",
     "output_type": "stream",
     "text": [
      "Generating soundscape: 135/667\n"
     ]
    },
    {
     "name": "stderr",
     "output_type": "stream",
     "text": [
      "/home/js7561/dev/scaper/scaper/core.py:1112: ScaperWarning: car_horn event duration (2.43) is greater that source duration (0.85), changing to 0.85\n",
      "  ScaperWarning)\n",
      "/home/js7561/dev/scaper/scaper/core.py:1199: ScaperWarning: children_playing event time (7.75) is too great given stretched event duration (4.02) and soundscape duration (10.00), changed to 5.98.\n",
      "  ScaperWarning)\n",
      "/home/js7561/dev/scaper/scaper/core.py:1112: ScaperWarning: gun_shot event duration (3.23) is greater that source duration (1.71), changing to 1.71\n",
      "  ScaperWarning)\n",
      "/home/js7561/dev/scaper/scaper/core.py:1199: ScaperWarning: gun_shot event time (8.14) is too great given stretched event duration (2.02) and soundscape duration (10.00), changed to 7.98.\n",
      "  ScaperWarning)\n"
     ]
    },
    {
     "name": "stdout",
     "output_type": "stream",
     "text": [
      "Generating soundscape: 136/667\n"
     ]
    },
    {
     "name": "stderr",
     "output_type": "stream",
     "text": [
      "/home/js7561/dev/scaper/scaper/core.py:1199: ScaperWarning: jackhammer event time (8.01) is too great given stretched event duration (4.14) and soundscape duration (10.00), changed to 5.86.\n",
      "  ScaperWarning)\n",
      "/home/js7561/dev/scaper/scaper/core.py:1199: ScaperWarning: drilling event time (8.40) is too great given stretched event duration (3.17) and soundscape duration (10.00), changed to 6.83.\n",
      "  ScaperWarning)\n"
     ]
    },
    {
     "name": "stdout",
     "output_type": "stream",
     "text": [
      "Generating soundscape: 137/667\n"
     ]
    },
    {
     "name": "stderr",
     "output_type": "stream",
     "text": [
      "/home/js7561/dev/scaper/scaper/core.py:1112: ScaperWarning: gun_shot event duration (1.54) is greater that source duration (0.97), changing to 0.97\n",
      "  ScaperWarning)\n"
     ]
    },
    {
     "name": "stdout",
     "output_type": "stream",
     "text": [
      "Generating soundscape: 138/667\n"
     ]
    },
    {
     "name": "stderr",
     "output_type": "stream",
     "text": [
      "/home/js7561/dev/scaper/scaper/core.py:1199: ScaperWarning: siren event time (7.02) is too great given stretched event duration (3.87) and soundscape duration (10.00), changed to 6.13.\n",
      "  ScaperWarning)\n"
     ]
    },
    {
     "name": "stdout",
     "output_type": "stream",
     "text": [
      "Generating soundscape: 139/667\n"
     ]
    },
    {
     "name": "stderr",
     "output_type": "stream",
     "text": [
      "/home/js7561/dev/scaper/scaper/core.py:1112: ScaperWarning: drilling event duration (1.96) is greater that source duration (1.75), changing to 1.75\n",
      "  ScaperWarning)\n"
     ]
    },
    {
     "name": "stdout",
     "output_type": "stream",
     "text": [
      "Generating soundscape: 140/667\n",
      "Generating soundscape: 141/667\n"
     ]
    },
    {
     "name": "stderr",
     "output_type": "stream",
     "text": [
      "/home/js7561/dev/scaper/scaper/core.py:1112: ScaperWarning: car_horn event duration (3.37) is greater that source duration (0.86), changing to 0.86\n",
      "  ScaperWarning)\n"
     ]
    },
    {
     "name": "stdout",
     "output_type": "stream",
     "text": [
      "Generating soundscape: 142/667\n"
     ]
    },
    {
     "name": "stderr",
     "output_type": "stream",
     "text": [
      "/home/js7561/dev/scaper/scaper/core.py:1112: ScaperWarning: car_horn event duration (3.84) is greater that source duration (0.87), changing to 0.87\n",
      "  ScaperWarning)\n",
      "/home/js7561/dev/scaper/scaper/core.py:1199: ScaperWarning: street_music event time (5.78) is too great given stretched event duration (4.29) and soundscape duration (10.00), changed to 5.71.\n",
      "  ScaperWarning)\n"
     ]
    },
    {
     "name": "stdout",
     "output_type": "stream",
     "text": [
      "Generating soundscape: 143/667\n"
     ]
    },
    {
     "name": "stderr",
     "output_type": "stream",
     "text": [
      "/home/js7561/dev/scaper/scaper/core.py:1199: ScaperWarning: street_music event time (8.79) is too great given stretched event duration (1.40) and soundscape duration (10.00), changed to 8.60.\n",
      "  ScaperWarning)\n"
     ]
    },
    {
     "name": "stdout",
     "output_type": "stream",
     "text": [
      "Generating soundscape: 144/667\n"
     ]
    },
    {
     "name": "stderr",
     "output_type": "stream",
     "text": [
      "/home/js7561/dev/scaper/scaper/core.py:1199: ScaperWarning: street_music event time (8.04) is too great given stretched event duration (2.72) and soundscape duration (10.00), changed to 7.28.\n",
      "  ScaperWarning)\n",
      "/home/js7561/dev/scaper/scaper/core.py:1112: ScaperWarning: gun_shot event duration (3.72) is greater that source duration (0.43), changing to 0.43\n",
      "  ScaperWarning)\n"
     ]
    },
    {
     "name": "stdout",
     "output_type": "stream",
     "text": [
      "Generating soundscape: 145/667\n"
     ]
    },
    {
     "name": "stderr",
     "output_type": "stream",
     "text": [
      "/home/js7561/dev/scaper/scaper/core.py:1112: ScaperWarning: jackhammer event duration (3.53) is greater that source duration (1.90), changing to 1.90\n",
      "  ScaperWarning)\n"
     ]
    },
    {
     "name": "stdout",
     "output_type": "stream",
     "text": [
      "Generating soundscape: 146/667\n",
      "Generating soundscape: 147/667\n"
     ]
    },
    {
     "name": "stderr",
     "output_type": "stream",
     "text": [
      "/home/js7561/dev/scaper/scaper/core.py:1199: ScaperWarning: street_music event time (8.88) is too great given stretched event duration (1.15) and soundscape duration (10.00), changed to 8.85.\n",
      "  ScaperWarning)\n",
      "/home/js7561/dev/scaper/scaper/core.py:1112: ScaperWarning: car_horn event duration (3.16) is greater that source duration (1.50), changing to 1.50\n",
      "  ScaperWarning)\n"
     ]
    },
    {
     "name": "stdout",
     "output_type": "stream",
     "text": [
      "Generating soundscape: 148/667\n"
     ]
    },
    {
     "name": "stderr",
     "output_type": "stream",
     "text": [
      "/home/js7561/dev/scaper/scaper/core.py:1112: ScaperWarning: dog_bark event duration (1.64) is greater that source duration (0.92), changing to 0.92\n",
      "  ScaperWarning)\n"
     ]
    },
    {
     "name": "stdout",
     "output_type": "stream",
     "text": [
      "Generating soundscape: 149/667\n"
     ]
    },
    {
     "name": "stderr",
     "output_type": "stream",
     "text": [
      "/home/js7561/dev/scaper/scaper/core.py:1112: ScaperWarning: gun_shot event duration (2.91) is greater that source duration (0.54), changing to 0.54\n",
      "  ScaperWarning)\n"
     ]
    },
    {
     "name": "stdout",
     "output_type": "stream",
     "text": [
      "Generating soundscape: 150/667\n"
     ]
    },
    {
     "name": "stderr",
     "output_type": "stream",
     "text": [
      "/home/js7561/dev/scaper/scaper/core.py:1112: ScaperWarning: gun_shot event duration (3.40) is greater that source duration (0.30), changing to 0.30\n",
      "  ScaperWarning)\n"
     ]
    },
    {
     "name": "stdout",
     "output_type": "stream",
     "text": [
      "Generating soundscape: 151/667\n"
     ]
    },
    {
     "name": "stderr",
     "output_type": "stream",
     "text": [
      "/home/js7561/dev/scaper/scaper/core.py:1112: ScaperWarning: gun_shot event duration (2.38) is greater that source duration (0.34), changing to 0.34\n",
      "  ScaperWarning)\n"
     ]
    },
    {
     "name": "stdout",
     "output_type": "stream",
     "text": [
      "Generating soundscape: 152/667\n"
     ]
    },
    {
     "name": "stderr",
     "output_type": "stream",
     "text": [
      "/home/js7561/dev/scaper/scaper/core.py:1199: ScaperWarning: street_music event time (7.59) is too great given stretched event duration (2.91) and soundscape duration (10.00), changed to 7.09.\n",
      "  ScaperWarning)\n",
      "/home/js7561/dev/scaper/scaper/core.py:1112: ScaperWarning: car_horn event duration (1.00) is greater that source duration (0.30), changing to 0.30\n",
      "  ScaperWarning)\n",
      "/home/js7561/dev/scaper/scaper/core.py:1112: ScaperWarning: car_horn event duration (0.98) is greater that source duration (0.52), changing to 0.52\n",
      "  ScaperWarning)\n"
     ]
    },
    {
     "name": "stdout",
     "output_type": "stream",
     "text": [
      "Generating soundscape: 153/667\n"
     ]
    },
    {
     "name": "stderr",
     "output_type": "stream",
     "text": [
      "/home/js7561/dev/scaper/scaper/core.py:1199: ScaperWarning: street_music event time (9.54) is too great given stretched event duration (0.54) and soundscape duration (10.00), changed to 9.46.\n",
      "  ScaperWarning)\n",
      "/home/js7561/dev/scaper/scaper/core.py:1199: ScaperWarning: siren event time (7.26) is too great given stretched event duration (3.44) and soundscape duration (10.00), changed to 6.56.\n",
      "  ScaperWarning)\n",
      "/home/js7561/dev/scaper/scaper/core.py:1112: ScaperWarning: dog_bark event duration (1.75) is greater that source duration (0.98), changing to 0.98\n",
      "  ScaperWarning)\n",
      "/home/js7561/dev/scaper/scaper/core.py:1112: ScaperWarning: gun_shot event duration (1.69) is greater that source duration (0.26), changing to 0.26\n",
      "  ScaperWarning)\n",
      "/home/js7561/dev/scaper/scaper/core.py:1199: ScaperWarning: air_conditioner event time (8.96) is too great given stretched event duration (1.11) and soundscape duration (10.00), changed to 8.89.\n",
      "  ScaperWarning)\n"
     ]
    },
    {
     "name": "stdout",
     "output_type": "stream",
     "text": [
      "Generating soundscape: 154/667\n",
      "Generating soundscape: 155/667\n"
     ]
    },
    {
     "name": "stderr",
     "output_type": "stream",
     "text": [
      "/home/js7561/dev/scaper/scaper/core.py:1199: ScaperWarning: drilling event time (8.54) is too great given stretched event duration (2.53) and soundscape duration (10.00), changed to 7.47.\n",
      "  ScaperWarning)\n"
     ]
    },
    {
     "name": "stdout",
     "output_type": "stream",
     "text": [
      "Generating soundscape: 156/667\n"
     ]
    },
    {
     "name": "stderr",
     "output_type": "stream",
     "text": [
      "/home/js7561/dev/scaper/scaper/core.py:1112: ScaperWarning: car_horn event duration (0.86) is greater that source duration (0.77), changing to 0.77\n",
      "  ScaperWarning)\n"
     ]
    },
    {
     "name": "stdout",
     "output_type": "stream",
     "text": [
      "Generating soundscape: 157/667\n",
      "Generating soundscape: 158/667\n",
      "Generating soundscape: 159/667\n",
      "Generating soundscape: 160/667\n"
     ]
    },
    {
     "name": "stderr",
     "output_type": "stream",
     "text": [
      "/home/js7561/dev/scaper/scaper/core.py:1112: ScaperWarning: car_horn event duration (3.15) is greater that source duration (2.69), changing to 2.69\n",
      "  ScaperWarning)\n",
      "/home/js7561/dev/scaper/scaper/core.py:1199: ScaperWarning: car_horn event time (9.13) is too great given stretched event duration (3.17) and soundscape duration (10.00), changed to 6.83.\n",
      "  ScaperWarning)\n"
     ]
    },
    {
     "name": "stdout",
     "output_type": "stream",
     "text": [
      "Generating soundscape: 161/667\n"
     ]
    },
    {
     "name": "stderr",
     "output_type": "stream",
     "text": [
      "/home/js7561/dev/scaper/scaper/core.py:1112: ScaperWarning: dog_bark event duration (2.90) is greater that source duration (0.62), changing to 0.62\n",
      "  ScaperWarning)\n",
      "/home/js7561/dev/scaper/scaper/core.py:1112: ScaperWarning: car_horn event duration (3.82) is greater that source duration (1.67), changing to 1.67\n",
      "  ScaperWarning)\n",
      "/home/js7561/dev/scaper/scaper/core.py:1199: ScaperWarning: siren event time (7.81) is too great given stretched event duration (2.85) and soundscape duration (10.00), changed to 7.15.\n",
      "  ScaperWarning)\n",
      "/home/js7561/dev/scaper/scaper/core.py:1112: ScaperWarning: jackhammer event duration (3.52) is greater that source duration (3.45), changing to 3.45\n",
      "  ScaperWarning)\n",
      "/home/js7561/dev/scaper/scaper/core.py:1199: ScaperWarning: jackhammer event time (7.59) is too great given stretched event duration (3.11) and soundscape duration (10.00), changed to 6.89.\n",
      "  ScaperWarning)\n"
     ]
    },
    {
     "name": "stdout",
     "output_type": "stream",
     "text": [
      "Generating soundscape: 162/667\n"
     ]
    },
    {
     "name": "stderr",
     "output_type": "stream",
     "text": [
      "/home/js7561/dev/scaper/scaper/core.py:1112: ScaperWarning: gun_shot event duration (3.12) is greater that source duration (0.30), changing to 0.30\n",
      "  ScaperWarning)\n"
     ]
    },
    {
     "name": "stdout",
     "output_type": "stream",
     "text": [
      "Generating soundscape: 163/667\n"
     ]
    },
    {
     "name": "stderr",
     "output_type": "stream",
     "text": [
      "/home/js7561/dev/scaper/scaper/core.py:1199: ScaperWarning: gun_shot event time (6.67) is too great given stretched event duration (3.68) and soundscape duration (10.00), changed to 6.32.\n",
      "  ScaperWarning)\n",
      "/home/js7561/dev/scaper/scaper/core.py:1112: ScaperWarning: dog_bark event duration (2.10) is greater that source duration (1.13), changing to 1.13\n",
      "  ScaperWarning)\n"
     ]
    },
    {
     "name": "stdout",
     "output_type": "stream",
     "text": [
      "Generating soundscape: 164/667\n"
     ]
    },
    {
     "name": "stderr",
     "output_type": "stream",
     "text": [
      "/home/js7561/dev/scaper/scaper/core.py:1199: ScaperWarning: dog_bark event time (6.93) is too great given stretched event duration (4.20) and soundscape duration (10.00), changed to 5.80.\n",
      "  ScaperWarning)\n",
      "/home/js7561/dev/scaper/scaper/core.py:1112: ScaperWarning: car_horn event duration (1.72) is greater that source duration (1.13), changing to 1.13\n",
      "  ScaperWarning)\n"
     ]
    },
    {
     "name": "stdout",
     "output_type": "stream",
     "text": [
      "Generating soundscape: 165/667\n",
      "Generating soundscape: 166/667\n"
     ]
    },
    {
     "name": "stderr",
     "output_type": "stream",
     "text": [
      "/home/js7561/dev/scaper/scaper/core.py:1112: ScaperWarning: car_horn event duration (2.67) is greater that source duration (0.30), changing to 0.30\n",
      "  ScaperWarning)\n"
     ]
    },
    {
     "name": "stdout",
     "output_type": "stream",
     "text": [
      "Generating soundscape: 167/667\n"
     ]
    },
    {
     "name": "stderr",
     "output_type": "stream",
     "text": [
      "/home/js7561/dev/scaper/scaper/core.py:1199: ScaperWarning: jackhammer event time (6.79) is too great given stretched event duration (3.80) and soundscape duration (10.00), changed to 6.20.\n",
      "  ScaperWarning)\n"
     ]
    },
    {
     "name": "stdout",
     "output_type": "stream",
     "text": [
      "Generating soundscape: 168/667\n",
      "Generating soundscape: 169/667\n",
      "Generating soundscape: 170/667\n"
     ]
    },
    {
     "name": "stderr",
     "output_type": "stream",
     "text": [
      "/home/js7561/dev/scaper/scaper/core.py:1112: ScaperWarning: gun_shot event duration (2.63) is greater that source duration (2.07), changing to 2.07\n",
      "  ScaperWarning)\n"
     ]
    },
    {
     "name": "stdout",
     "output_type": "stream",
     "text": [
      "Generating soundscape: 171/667\n"
     ]
    },
    {
     "name": "stderr",
     "output_type": "stream",
     "text": [
      "/home/js7561/dev/scaper/scaper/core.py:1112: ScaperWarning: car_horn event duration (3.87) is greater that source duration (1.10), changing to 1.10\n",
      "  ScaperWarning)\n"
     ]
    },
    {
     "name": "stdout",
     "output_type": "stream",
     "text": [
      "Generating soundscape: 172/667\n"
     ]
    },
    {
     "name": "stderr",
     "output_type": "stream",
     "text": [
      "/home/js7561/dev/scaper/scaper/core.py:1112: ScaperWarning: gun_shot event duration (3.48) is greater that source duration (3.02), changing to 3.02\n",
      "  ScaperWarning)\n",
      "/home/js7561/dev/scaper/scaper/core.py:1199: ScaperWarning: dog_bark event time (9.07) is too great given stretched event duration (1.40) and soundscape duration (10.00), changed to 8.60.\n",
      "  ScaperWarning)\n",
      "/home/js7561/dev/scaper/scaper/core.py:1199: ScaperWarning: street_music event time (9.41) is too great given stretched event duration (2.32) and soundscape duration (10.00), changed to 7.68.\n",
      "  ScaperWarning)\n",
      "/home/js7561/dev/scaper/scaper/core.py:1112: ScaperWarning: gun_shot event duration (2.82) is greater that source duration (0.34), changing to 0.34\n",
      "  ScaperWarning)\n"
     ]
    },
    {
     "name": "stdout",
     "output_type": "stream",
     "text": [
      "Generating soundscape: 173/667\n"
     ]
    },
    {
     "name": "stderr",
     "output_type": "stream",
     "text": [
      "/home/js7561/dev/scaper/scaper/core.py:1199: ScaperWarning: air_conditioner event time (7.74) is too great given stretched event duration (3.22) and soundscape duration (10.00), changed to 6.78.\n",
      "  ScaperWarning)\n"
     ]
    },
    {
     "name": "stdout",
     "output_type": "stream",
     "text": [
      "Generating soundscape: 174/667\n"
     ]
    },
    {
     "name": "stderr",
     "output_type": "stream",
     "text": [
      "/home/js7561/dev/scaper/scaper/core.py:1112: ScaperWarning: car_horn event duration (3.70) is greater that source duration (1.13), changing to 1.13\n",
      "  ScaperWarning)\n",
      "/home/js7561/dev/scaper/scaper/core.py:1112: ScaperWarning: siren event duration (0.84) is greater that source duration (0.43), changing to 0.43\n",
      "  ScaperWarning)\n",
      "/home/js7561/dev/scaper/scaper/core.py:1112: ScaperWarning: car_horn event duration (2.91) is greater that source duration (0.57), changing to 0.57\n",
      "  ScaperWarning)\n"
     ]
    },
    {
     "name": "stdout",
     "output_type": "stream",
     "text": [
      "Generating soundscape: 175/667\n"
     ]
    },
    {
     "name": "stderr",
     "output_type": "stream",
     "text": [
      "/home/js7561/dev/scaper/scaper/core.py:1112: ScaperWarning: gun_shot event duration (2.19) is greater that source duration (0.30), changing to 0.30\n",
      "  ScaperWarning)\n",
      "/home/js7561/dev/scaper/scaper/core.py:1199: ScaperWarning: street_music event time (7.18) is too great given stretched event duration (4.33) and soundscape duration (10.00), changed to 5.67.\n",
      "  ScaperWarning)\n",
      "/home/js7561/dev/scaper/scaper/core.py:1112: ScaperWarning: car_horn event duration (2.08) is greater that source duration (0.58), changing to 0.58\n",
      "  ScaperWarning)\n"
     ]
    },
    {
     "name": "stdout",
     "output_type": "stream",
     "text": [
      "Generating soundscape: 176/667\n",
      "Generating soundscape: 177/667\n"
     ]
    },
    {
     "name": "stderr",
     "output_type": "stream",
     "text": [
      "/home/js7561/dev/scaper/scaper/core.py:1112: ScaperWarning: dog_bark event duration (3.79) is greater that source duration (0.54), changing to 0.54\n",
      "  ScaperWarning)\n",
      "/home/js7561/dev/scaper/scaper/core.py:1112: ScaperWarning: car_horn event duration (3.76) is greater that source duration (1.09), changing to 1.09\n",
      "  ScaperWarning)\n"
     ]
    },
    {
     "name": "stdout",
     "output_type": "stream",
     "text": [
      "Generating soundscape: 178/667\n"
     ]
    },
    {
     "name": "stderr",
     "output_type": "stream",
     "text": [
      "/home/js7561/dev/scaper/scaper/core.py:1199: ScaperWarning: street_music event time (7.96) is too great given stretched event duration (2.48) and soundscape duration (10.00), changed to 7.52.\n",
      "  ScaperWarning)\n",
      "/home/js7561/dev/scaper/scaper/core.py:1112: ScaperWarning: drilling event duration (3.23) is greater that source duration (0.57), changing to 0.57\n",
      "  ScaperWarning)\n"
     ]
    },
    {
     "name": "stdout",
     "output_type": "stream",
     "text": [
      "Generating soundscape: 179/667\n"
     ]
    },
    {
     "name": "stderr",
     "output_type": "stream",
     "text": [
      "/home/js7561/dev/scaper/scaper/core.py:1199: ScaperWarning: air_conditioner event time (7.31) is too great given stretched event duration (2.76) and soundscape duration (10.00), changed to 7.24.\n",
      "  ScaperWarning)\n"
     ]
    },
    {
     "name": "stdout",
     "output_type": "stream",
     "text": [
      "Generating soundscape: 180/667\n"
     ]
    },
    {
     "name": "stderr",
     "output_type": "stream",
     "text": [
      "/home/js7561/dev/scaper/scaper/core.py:1112: ScaperWarning: car_horn event duration (1.08) is greater that source duration (0.87), changing to 0.87\n",
      "  ScaperWarning)\n"
     ]
    },
    {
     "name": "stdout",
     "output_type": "stream",
     "text": [
      "Generating soundscape: 181/667\n"
     ]
    },
    {
     "name": "stderr",
     "output_type": "stream",
     "text": [
      "/home/js7561/dev/scaper/scaper/core.py:1112: ScaperWarning: car_horn event duration (3.34) is greater that source duration (0.29), changing to 0.29\n",
      "  ScaperWarning)\n",
      "/home/js7561/dev/scaper/scaper/core.py:1112: ScaperWarning: car_horn event duration (3.32) is greater that source duration (0.83), changing to 0.83\n",
      "  ScaperWarning)\n",
      "/home/js7561/dev/scaper/scaper/core.py:1112: ScaperWarning: dog_bark event duration (3.81) is greater that source duration (0.92), changing to 0.92\n",
      "  ScaperWarning)\n"
     ]
    },
    {
     "name": "stdout",
     "output_type": "stream",
     "text": [
      "Generating soundscape: 182/667\n"
     ]
    },
    {
     "name": "stderr",
     "output_type": "stream",
     "text": [
      "/home/js7561/dev/scaper/scaper/core.py:1112: ScaperWarning: siren event duration (2.23) is greater that source duration (0.26), changing to 0.26\n",
      "  ScaperWarning)\n",
      "/home/js7561/dev/scaper/scaper/core.py:1112: ScaperWarning: gun_shot event duration (1.62) is greater that source duration (0.97), changing to 0.97\n",
      "  ScaperWarning)\n"
     ]
    },
    {
     "name": "stdout",
     "output_type": "stream",
     "text": [
      "Generating soundscape: 183/667\n"
     ]
    },
    {
     "name": "stderr",
     "output_type": "stream",
     "text": [
      "/home/js7561/dev/scaper/scaper/core.py:1112: ScaperWarning: gun_shot event duration (1.66) is greater that source duration (0.65), changing to 0.65\n",
      "  ScaperWarning)\n",
      "/home/js7561/dev/scaper/scaper/core.py:1199: ScaperWarning: jackhammer event time (7.77) is too great given stretched event duration (2.97) and soundscape duration (10.00), changed to 7.03.\n",
      "  ScaperWarning)\n"
     ]
    },
    {
     "name": "stdout",
     "output_type": "stream",
     "text": [
      "Generating soundscape: 184/667\n",
      "Generating soundscape: 185/667\n"
     ]
    },
    {
     "name": "stderr",
     "output_type": "stream",
     "text": [
      "/home/js7561/dev/scaper/scaper/core.py:1112: ScaperWarning: gun_shot event duration (3.26) is greater that source duration (0.44), changing to 0.44\n",
      "  ScaperWarning)\n",
      "/home/js7561/dev/scaper/scaper/core.py:1112: ScaperWarning: gun_shot event duration (2.36) is greater that source duration (0.95), changing to 0.95\n",
      "  ScaperWarning)\n"
     ]
    },
    {
     "name": "stdout",
     "output_type": "stream",
     "text": [
      "Generating soundscape: 186/667\n"
     ]
    },
    {
     "name": "stderr",
     "output_type": "stream",
     "text": [
      "/home/js7561/dev/scaper/scaper/core.py:1199: ScaperWarning: engine_idling event time (6.10) is too great given stretched event duration (3.92) and soundscape duration (10.00), changed to 6.08.\n",
      "  ScaperWarning)\n",
      "/home/js7561/dev/scaper/scaper/core.py:1199: ScaperWarning: children_playing event time (9.28) is too great given stretched event duration (3.07) and soundscape duration (10.00), changed to 6.93.\n",
      "  ScaperWarning)\n",
      "/home/js7561/dev/scaper/scaper/core.py:1199: ScaperWarning: drilling event time (7.81) is too great given stretched event duration (2.69) and soundscape duration (10.00), changed to 7.31.\n",
      "  ScaperWarning)\n",
      "/home/js7561/dev/scaper/scaper/core.py:1112: ScaperWarning: car_horn event duration (3.44) is greater that source duration (1.13), changing to 1.13\n",
      "  ScaperWarning)\n"
     ]
    },
    {
     "name": "stdout",
     "output_type": "stream",
     "text": [
      "Generating soundscape: 187/667\n",
      "Generating soundscape: 188/667\n"
     ]
    },
    {
     "name": "stderr",
     "output_type": "stream",
     "text": [
      "/home/js7561/dev/scaper/scaper/core.py:1112: ScaperWarning: jackhammer event duration (3.40) is greater that source duration (1.09), changing to 1.09\n",
      "  ScaperWarning)\n"
     ]
    },
    {
     "name": "stdout",
     "output_type": "stream",
     "text": [
      "Generating soundscape: 189/667\n"
     ]
    },
    {
     "name": "stderr",
     "output_type": "stream",
     "text": [
      "/home/js7561/dev/scaper/scaper/core.py:1112: ScaperWarning: gun_shot event duration (3.06) is greater that source duration (0.85), changing to 0.85\n",
      "  ScaperWarning)\n",
      "/home/js7561/dev/scaper/scaper/core.py:1112: ScaperWarning: children_playing event duration (3.52) is greater that source duration (3.50), changing to 3.50\n",
      "  ScaperWarning)\n",
      "/home/js7561/dev/scaper/scaper/core.py:1112: ScaperWarning: car_horn event duration (2.72) is greater that source duration (1.13), changing to 1.13\n",
      "  ScaperWarning)\n"
     ]
    },
    {
     "name": "stdout",
     "output_type": "stream",
     "text": [
      "Generating soundscape: 190/667\n"
     ]
    },
    {
     "name": "stderr",
     "output_type": "stream",
     "text": [
      "/home/js7561/dev/scaper/scaper/core.py:1112: ScaperWarning: gun_shot event duration (3.95) is greater that source duration (2.73), changing to 2.73\n",
      "  ScaperWarning)\n"
     ]
    },
    {
     "name": "stdout",
     "output_type": "stream",
     "text": [
      "Generating soundscape: 191/667\n"
     ]
    },
    {
     "name": "stderr",
     "output_type": "stream",
     "text": [
      "/home/js7561/dev/scaper/scaper/core.py:1112: ScaperWarning: car_horn event duration (3.92) is greater that source duration (0.85), changing to 0.85\n",
      "  ScaperWarning)\n"
     ]
    },
    {
     "name": "stdout",
     "output_type": "stream",
     "text": [
      "Generating soundscape: 192/667\n",
      "Generating soundscape: 193/667\n"
     ]
    },
    {
     "name": "stderr",
     "output_type": "stream",
     "text": [
      "/home/js7561/dev/scaper/scaper/core.py:1112: ScaperWarning: gun_shot event duration (2.23) is greater that source duration (0.26), changing to 0.26\n",
      "  ScaperWarning)\n"
     ]
    },
    {
     "name": "stdout",
     "output_type": "stream",
     "text": [
      "Generating soundscape: 194/667\n"
     ]
    },
    {
     "name": "stderr",
     "output_type": "stream",
     "text": [
      "/home/js7561/dev/scaper/scaper/core.py:1112: ScaperWarning: car_horn event duration (2.85) is greater that source duration (0.57), changing to 0.57\n",
      "  ScaperWarning)\n",
      "/home/js7561/dev/scaper/scaper/core.py:1112: ScaperWarning: gun_shot event duration (1.80) is greater that source duration (1.02), changing to 1.02\n",
      "  ScaperWarning)\n",
      "/home/js7561/dev/scaper/scaper/core.py:1199: ScaperWarning: children_playing event time (7.84) is too great given stretched event duration (3.32) and soundscape duration (10.00), changed to 6.68.\n",
      "  ScaperWarning)\n",
      "/home/js7561/dev/scaper/scaper/core.py:1112: ScaperWarning: car_horn event duration (1.45) is greater that source duration (0.85), changing to 0.85\n",
      "  ScaperWarning)\n"
     ]
    },
    {
     "name": "stdout",
     "output_type": "stream",
     "text": [
      "Generating soundscape: 195/667\n"
     ]
    },
    {
     "name": "stderr",
     "output_type": "stream",
     "text": [
      "/home/js7561/dev/scaper/scaper/core.py:1199: ScaperWarning: drilling event time (9.35) is too great given stretched event duration (0.77) and soundscape duration (10.00), changed to 9.23.\n",
      "  ScaperWarning)\n"
     ]
    },
    {
     "name": "stdout",
     "output_type": "stream",
     "text": [
      "Generating soundscape: 196/667\n"
     ]
    },
    {
     "name": "stderr",
     "output_type": "stream",
     "text": [
      "/home/js7561/dev/scaper/scaper/core.py:1199: ScaperWarning: drilling event time (7.73) is too great given stretched event duration (2.61) and soundscape duration (10.00), changed to 7.39.\n",
      "  ScaperWarning)\n",
      "/home/js7561/dev/scaper/scaper/core.py:1112: ScaperWarning: gun_shot event duration (3.45) is greater that source duration (0.77), changing to 0.77\n",
      "  ScaperWarning)\n"
     ]
    },
    {
     "name": "stdout",
     "output_type": "stream",
     "text": [
      "Generating soundscape: 197/667\n"
     ]
    },
    {
     "name": "stderr",
     "output_type": "stream",
     "text": [
      "/home/js7561/dev/scaper/scaper/core.py:1199: ScaperWarning: air_conditioner event time (6.86) is too great given stretched event duration (3.50) and soundscape duration (10.00), changed to 6.50.\n",
      "  ScaperWarning)\n",
      "/home/js7561/dev/scaper/scaper/core.py:1199: ScaperWarning: siren event time (7.23) is too great given stretched event duration (2.92) and soundscape duration (10.00), changed to 7.08.\n",
      "  ScaperWarning)\n"
     ]
    },
    {
     "name": "stdout",
     "output_type": "stream",
     "text": [
      "Generating soundscape: 198/667\n"
     ]
    },
    {
     "name": "stderr",
     "output_type": "stream",
     "text": [
      "/home/js7561/dev/scaper/scaper/core.py:1112: ScaperWarning: gun_shot event duration (3.43) is greater that source duration (1.90), changing to 1.90\n",
      "  ScaperWarning)\n"
     ]
    },
    {
     "name": "stdout",
     "output_type": "stream",
     "text": [
      "Generating soundscape: 199/667\n"
     ]
    },
    {
     "name": "stderr",
     "output_type": "stream",
     "text": [
      "/home/js7561/dev/scaper/scaper/core.py:1112: ScaperWarning: gun_shot event duration (3.98) is greater that source duration (0.53), changing to 0.53\n",
      "  ScaperWarning)\n"
     ]
    },
    {
     "name": "stdout",
     "output_type": "stream",
     "text": [
      "Generating soundscape: 200/667\n"
     ]
    },
    {
     "name": "stderr",
     "output_type": "stream",
     "text": [
      "/home/js7561/dev/scaper/scaper/core.py:1112: ScaperWarning: gun_shot event duration (3.55) is greater that source duration (1.22), changing to 1.22\n",
      "  ScaperWarning)\n",
      "/home/js7561/dev/scaper/scaper/core.py:1112: ScaperWarning: car_horn event duration (3.04) is greater that source duration (0.86), changing to 0.86\n",
      "  ScaperWarning)\n"
     ]
    },
    {
     "name": "stdout",
     "output_type": "stream",
     "text": [
      "Generating soundscape: 201/667\n"
     ]
    },
    {
     "name": "stderr",
     "output_type": "stream",
     "text": [
      "/home/js7561/dev/scaper/scaper/core.py:1112: ScaperWarning: car_horn event duration (2.79) is greater that source duration (1.11), changing to 1.11\n",
      "  ScaperWarning)\n",
      "/home/js7561/dev/scaper/scaper/core.py:1199: ScaperWarning: air_conditioner event time (6.20) is too great given stretched event duration (4.02) and soundscape duration (10.00), changed to 5.98.\n",
      "  ScaperWarning)\n"
     ]
    },
    {
     "name": "stdout",
     "output_type": "stream",
     "text": [
      "Generating soundscape: 202/667\n",
      "Generating soundscape: 203/667\n"
     ]
    },
    {
     "name": "stderr",
     "output_type": "stream",
     "text": [
      "/home/js7561/dev/scaper/scaper/core.py:1199: ScaperWarning: engine_idling event time (9.57) is too great given stretched event duration (2.24) and soundscape duration (10.00), changed to 7.76.\n",
      "  ScaperWarning)\n",
      "/home/js7561/dev/scaper/scaper/core.py:1112: ScaperWarning: gun_shot event duration (2.99) is greater that source duration (2.07), changing to 2.07\n",
      "  ScaperWarning)\n"
     ]
    },
    {
     "name": "stdout",
     "output_type": "stream",
     "text": [
      "Generating soundscape: 204/667\n"
     ]
    },
    {
     "name": "stderr",
     "output_type": "stream",
     "text": [
      "/home/js7561/dev/scaper/scaper/core.py:1112: ScaperWarning: car_horn event duration (3.02) is greater that source duration (2.14), changing to 2.14\n",
      "  ScaperWarning)\n",
      "/home/js7561/dev/scaper/scaper/core.py:1112: ScaperWarning: gun_shot event duration (1.70) is greater that source duration (1.28), changing to 1.28\n",
      "  ScaperWarning)\n",
      "/home/js7561/dev/scaper/scaper/core.py:1112: ScaperWarning: car_horn event duration (3.13) is greater that source duration (0.45), changing to 0.45\n",
      "  ScaperWarning)\n"
     ]
    },
    {
     "name": "stdout",
     "output_type": "stream",
     "text": [
      "Generating soundscape: 205/667\n"
     ]
    },
    {
     "name": "stderr",
     "output_type": "stream",
     "text": [
      "/home/js7561/dev/scaper/scaper/core.py:1112: ScaperWarning: drilling event duration (3.86) is greater that source duration (3.62), changing to 3.62\n",
      "  ScaperWarning)\n"
     ]
    },
    {
     "name": "stdout",
     "output_type": "stream",
     "text": [
      "Generating soundscape: 206/667\n",
      "Generating soundscape: 207/667\n"
     ]
    },
    {
     "name": "stderr",
     "output_type": "stream",
     "text": [
      "/home/js7561/dev/scaper/scaper/core.py:1112: ScaperWarning: jackhammer event duration (1.93) is greater that source duration (1.71), changing to 1.71\n",
      "  ScaperWarning)\n",
      "/home/js7561/dev/scaper/scaper/core.py:1112: ScaperWarning: car_horn event duration (2.47) is greater that source duration (0.87), changing to 0.87\n",
      "  ScaperWarning)\n"
     ]
    },
    {
     "name": "stdout",
     "output_type": "stream",
     "text": [
      "Generating soundscape: 208/667\n"
     ]
    },
    {
     "name": "stderr",
     "output_type": "stream",
     "text": [
      "/home/js7561/dev/scaper/scaper/core.py:1199: ScaperWarning: siren event time (6.63) is too great given stretched event duration (3.86) and soundscape duration (10.00), changed to 6.14.\n",
      "  ScaperWarning)\n"
     ]
    },
    {
     "name": "stdout",
     "output_type": "stream",
     "text": [
      "Generating soundscape: 209/667\n"
     ]
    },
    {
     "name": "stderr",
     "output_type": "stream",
     "text": [
      "/home/js7561/dev/scaper/scaper/core.py:1112: ScaperWarning: car_horn event duration (3.23) is greater that source duration (1.50), changing to 1.50\n",
      "  ScaperWarning)\n"
     ]
    },
    {
     "name": "stdout",
     "output_type": "stream",
     "text": [
      "Generating soundscape: 210/667\n"
     ]
    },
    {
     "name": "stderr",
     "output_type": "stream",
     "text": [
      "/home/js7561/dev/scaper/scaper/core.py:1199: ScaperWarning: air_conditioner event time (7.69) is too great given stretched event duration (2.71) and soundscape duration (10.00), changed to 7.29.\n",
      "  ScaperWarning)\n",
      "/home/js7561/dev/scaper/scaper/core.py:1199: ScaperWarning: street_music event time (8.64) is too great given stretched event duration (2.06) and soundscape duration (10.00), changed to 7.94.\n",
      "  ScaperWarning)\n",
      "/home/js7561/dev/scaper/scaper/core.py:1112: ScaperWarning: car_horn event duration (3.46) is greater that source duration (0.57), changing to 0.57\n",
      "  ScaperWarning)\n"
     ]
    },
    {
     "name": "stdout",
     "output_type": "stream",
     "text": [
      "Generating soundscape: 211/667\n"
     ]
    },
    {
     "name": "stderr",
     "output_type": "stream",
     "text": [
      "/home/js7561/dev/scaper/scaper/core.py:1112: ScaperWarning: car_horn event duration (2.67) is greater that source duration (2.53), changing to 2.53\n",
      "  ScaperWarning)\n",
      "/home/js7561/dev/scaper/scaper/core.py:1112: ScaperWarning: dog_bark event duration (2.32) is greater that source duration (0.37), changing to 0.37\n",
      "  ScaperWarning)\n"
     ]
    },
    {
     "name": "stdout",
     "output_type": "stream",
     "text": [
      "Generating soundscape: 212/667\n"
     ]
    },
    {
     "name": "stderr",
     "output_type": "stream",
     "text": [
      "/home/js7561/dev/scaper/scaper/core.py:1112: ScaperWarning: dog_bark event duration (3.24) is greater that source duration (0.62), changing to 0.62\n",
      "  ScaperWarning)\n"
     ]
    },
    {
     "name": "stdout",
     "output_type": "stream",
     "text": [
      "Generating soundscape: 213/667\n"
     ]
    },
    {
     "name": "stderr",
     "output_type": "stream",
     "text": [
      "/home/js7561/dev/scaper/scaper/core.py:1112: ScaperWarning: gun_shot event duration (0.92) is greater that source duration (0.29), changing to 0.29\n",
      "  ScaperWarning)\n",
      "/home/js7561/dev/scaper/scaper/core.py:1112: ScaperWarning: gun_shot event duration (3.57) is greater that source duration (0.91), changing to 0.91\n",
      "  ScaperWarning)\n"
     ]
    },
    {
     "name": "stdout",
     "output_type": "stream",
     "text": [
      "Generating soundscape: 214/667\n"
     ]
    },
    {
     "name": "stderr",
     "output_type": "stream",
     "text": [
      "/home/js7561/dev/scaper/scaper/core.py:1112: ScaperWarning: gun_shot event duration (3.78) is greater that source duration (2.55), changing to 2.55\n",
      "  ScaperWarning)\n"
     ]
    },
    {
     "name": "stdout",
     "output_type": "stream",
     "text": [
      "Generating soundscape: 215/667\n",
      "Generating soundscape: 216/667\n",
      "Generating soundscape: 217/667\n"
     ]
    },
    {
     "name": "stderr",
     "output_type": "stream",
     "text": [
      "/home/js7561/dev/scaper/scaper/core.py:1199: ScaperWarning: street_music event time (7.21) is too great given stretched event duration (2.95) and soundscape duration (10.00), changed to 7.05.\n",
      "  ScaperWarning)\n",
      "/home/js7561/dev/scaper/scaper/core.py:1112: ScaperWarning: car_horn event duration (2.73) is greater that source duration (0.75), changing to 0.75\n",
      "  ScaperWarning)\n",
      "/home/js7561/dev/scaper/scaper/core.py:1199: ScaperWarning: drilling event time (9.01) is too great given stretched event duration (1.09) and soundscape duration (10.00), changed to 8.91.\n",
      "  ScaperWarning)\n"
     ]
    },
    {
     "name": "stdout",
     "output_type": "stream",
     "text": [
      "Generating soundscape: 218/667\n"
     ]
    },
    {
     "name": "stderr",
     "output_type": "stream",
     "text": [
      "/home/js7561/dev/scaper/scaper/core.py:1112: ScaperWarning: car_horn event duration (1.24) is greater that source duration (0.83), changing to 0.83\n",
      "  ScaperWarning)\n",
      "/home/js7561/dev/scaper/scaper/core.py:1112: ScaperWarning: gun_shot event duration (2.68) is greater that source duration (0.97), changing to 0.97\n",
      "  ScaperWarning)\n"
     ]
    },
    {
     "name": "stdout",
     "output_type": "stream",
     "text": [
      "Generating soundscape: 219/667\n",
      "Generating soundscape: 220/667\n"
     ]
    },
    {
     "name": "stderr",
     "output_type": "stream",
     "text": [
      "/home/js7561/dev/scaper/scaper/core.py:1112: ScaperWarning: car_horn event duration (3.31) is greater that source duration (1.16), changing to 1.16\n",
      "  ScaperWarning)\n"
     ]
    },
    {
     "name": "stdout",
     "output_type": "stream",
     "text": [
      "Generating soundscape: 221/667\n",
      "Generating soundscape: 222/667\n"
     ]
    },
    {
     "name": "stderr",
     "output_type": "stream",
     "text": [
      "/home/js7561/dev/scaper/scaper/core.py:1112: ScaperWarning: gun_shot event duration (1.36) is greater that source duration (0.95), changing to 0.95\n",
      "  ScaperWarning)\n",
      "/home/js7561/dev/scaper/scaper/core.py:1112: ScaperWarning: car_horn event duration (3.91) is greater that source duration (0.42), changing to 0.42\n",
      "  ScaperWarning)\n",
      "/home/js7561/dev/scaper/scaper/core.py:1112: ScaperWarning: jackhammer event duration (2.83) is greater that source duration (1.26), changing to 1.26\n",
      "  ScaperWarning)\n"
     ]
    },
    {
     "name": "stdout",
     "output_type": "stream",
     "text": [
      "Generating soundscape: 223/667\n"
     ]
    },
    {
     "name": "stderr",
     "output_type": "stream",
     "text": [
      "/home/js7561/dev/scaper/scaper/core.py:1112: ScaperWarning: jackhammer event duration (2.14) is greater that source duration (1.40), changing to 1.40\n",
      "  ScaperWarning)\n",
      "/home/js7561/dev/scaper/scaper/core.py:1199: ScaperWarning: siren event time (7.05) is too great given stretched event duration (3.36) and soundscape duration (10.00), changed to 6.64.\n",
      "  ScaperWarning)\n"
     ]
    },
    {
     "name": "stdout",
     "output_type": "stream",
     "text": [
      "Generating soundscape: 224/667\n"
     ]
    },
    {
     "name": "stderr",
     "output_type": "stream",
     "text": [
      "/home/js7561/dev/scaper/scaper/core.py:1199: ScaperWarning: car_horn event time (8.09) is too great given stretched event duration (3.82) and soundscape duration (10.00), changed to 6.18.\n",
      "  ScaperWarning)\n"
     ]
    },
    {
     "name": "stdout",
     "output_type": "stream",
     "text": [
      "Generating soundscape: 225/667\n"
     ]
    },
    {
     "name": "stderr",
     "output_type": "stream",
     "text": [
      "/home/js7561/dev/scaper/scaper/core.py:1112: ScaperWarning: jackhammer event duration (2.21) is greater that source duration (0.87), changing to 0.87\n",
      "  ScaperWarning)\n",
      "/home/js7561/dev/scaper/scaper/core.py:1199: ScaperWarning: siren event time (7.39) is too great given stretched event duration (3.14) and soundscape duration (10.00), changed to 6.86.\n",
      "  ScaperWarning)\n"
     ]
    },
    {
     "name": "stdout",
     "output_type": "stream",
     "text": [
      "Generating soundscape: 226/667\n",
      "Generating soundscape: 227/667\n",
      "Generating soundscape: 228/667\n",
      "Generating soundscape: 229/667\n"
     ]
    },
    {
     "name": "stderr",
     "output_type": "stream",
     "text": [
      "/home/js7561/dev/scaper/scaper/core.py:1112: ScaperWarning: dog_bark event duration (3.36) is greater that source duration (0.98), changing to 0.98\n",
      "  ScaperWarning)\n",
      "/home/js7561/dev/scaper/scaper/core.py:1199: ScaperWarning: siren event time (7.94) is too great given stretched event duration (3.78) and soundscape duration (10.00), changed to 6.22.\n",
      "  ScaperWarning)\n"
     ]
    },
    {
     "name": "stdout",
     "output_type": "stream",
     "text": [
      "Generating soundscape: 230/667\n"
     ]
    },
    {
     "name": "stderr",
     "output_type": "stream",
     "text": [
      "/home/js7561/dev/scaper/scaper/core.py:1199: ScaperWarning: engine_idling event time (9.37) is too great given stretched event duration (3.35) and soundscape duration (10.00), changed to 6.65.\n",
      "  ScaperWarning)\n"
     ]
    },
    {
     "name": "stdout",
     "output_type": "stream",
     "text": [
      "Generating soundscape: 231/667\n"
     ]
    },
    {
     "name": "stderr",
     "output_type": "stream",
     "text": [
      "/home/js7561/dev/scaper/scaper/core.py:1112: ScaperWarning: car_horn event duration (2.80) is greater that source duration (1.29), changing to 1.29\n",
      "  ScaperWarning)\n"
     ]
    },
    {
     "name": "stdout",
     "output_type": "stream",
     "text": [
      "Generating soundscape: 232/667\n",
      "Generating soundscape: 233/667\n"
     ]
    },
    {
     "name": "stderr",
     "output_type": "stream",
     "text": [
      "/home/js7561/dev/scaper/scaper/core.py:1199: ScaperWarning: street_music event time (8.96) is too great given stretched event duration (2.35) and soundscape duration (10.00), changed to 7.65.\n",
      "  ScaperWarning)\n",
      "/home/js7561/dev/scaper/scaper/core.py:1199: ScaperWarning: air_conditioner event time (8.34) is too great given stretched event duration (1.78) and soundscape duration (10.00), changed to 8.22.\n",
      "  ScaperWarning)\n"
     ]
    },
    {
     "name": "stdout",
     "output_type": "stream",
     "text": [
      "Generating soundscape: 234/667\n"
     ]
    },
    {
     "name": "stderr",
     "output_type": "stream",
     "text": [
      "/home/js7561/dev/scaper/scaper/core.py:1112: ScaperWarning: jackhammer event duration (3.49) is greater that source duration (1.28), changing to 1.28\n",
      "  ScaperWarning)\n",
      "/home/js7561/dev/scaper/scaper/core.py:1199: ScaperWarning: siren event time (8.64) is too great given stretched event duration (1.66) and soundscape duration (10.00), changed to 8.34.\n",
      "  ScaperWarning)\n"
     ]
    },
    {
     "name": "stdout",
     "output_type": "stream",
     "text": [
      "Generating soundscape: 235/667\n",
      "Generating soundscape: 236/667\n"
     ]
    },
    {
     "name": "stderr",
     "output_type": "stream",
     "text": [
      "/home/js7561/dev/scaper/scaper/core.py:1112: ScaperWarning: gun_shot event duration (2.78) is greater that source duration (1.85), changing to 1.85\n",
      "  ScaperWarning)\n",
      "/home/js7561/dev/scaper/scaper/core.py:1112: ScaperWarning: gun_shot event duration (3.50) is greater that source duration (1.09), changing to 1.09\n",
      "  ScaperWarning)\n",
      "/home/js7561/dev/scaper/scaper/core.py:1199: ScaperWarning: gun_shot event time (9.53) is too great given stretched event duration (0.91) and soundscape duration (10.00), changed to 9.09.\n",
      "  ScaperWarning)\n"
     ]
    },
    {
     "name": "stdout",
     "output_type": "stream",
     "text": [
      "Generating soundscape: 237/667\n"
     ]
    },
    {
     "name": "stderr",
     "output_type": "stream",
     "text": [
      "/home/js7561/dev/scaper/scaper/core.py:1112: ScaperWarning: gun_shot event duration (2.67) is greater that source duration (0.85), changing to 0.85\n",
      "  ScaperWarning)\n",
      "/home/js7561/dev/scaper/scaper/core.py:1112: ScaperWarning: gun_shot event duration (2.53) is greater that source duration (2.38), changing to 2.38\n",
      "  ScaperWarning)\n",
      "/home/js7561/dev/scaper/scaper/core.py:1112: ScaperWarning: car_horn event duration (1.97) is greater that source duration (0.44), changing to 0.44\n",
      "  ScaperWarning)\n",
      "/home/js7561/dev/scaper/scaper/core.py:1199: ScaperWarning: children_playing event time (8.47) is too great given stretched event duration (2.16) and soundscape duration (10.00), changed to 7.84.\n",
      "  ScaperWarning)\n"
     ]
    },
    {
     "name": "stdout",
     "output_type": "stream",
     "text": [
      "Generating soundscape: 238/667\n"
     ]
    },
    {
     "name": "stderr",
     "output_type": "stream",
     "text": [
      "/home/js7561/dev/scaper/scaper/core.py:1199: ScaperWarning: drilling event time (6.89) is too great given stretched event duration (3.27) and soundscape duration (10.00), changed to 6.73.\n",
      "  ScaperWarning)\n",
      "/home/js7561/dev/scaper/scaper/core.py:1112: ScaperWarning: car_horn event duration (2.64) is greater that source duration (0.44), changing to 0.44\n",
      "  ScaperWarning)\n",
      "/home/js7561/dev/scaper/scaper/core.py:1112: ScaperWarning: car_horn event duration (3.42) is greater that source duration (1.09), changing to 1.09\n",
      "  ScaperWarning)\n",
      "/home/js7561/dev/scaper/scaper/core.py:1112: ScaperWarning: gun_shot event duration (3.19) is greater that source duration (2.13), changing to 2.13\n",
      "  ScaperWarning)\n"
     ]
    },
    {
     "name": "stdout",
     "output_type": "stream",
     "text": [
      "Generating soundscape: 239/667\n"
     ]
    },
    {
     "name": "stderr",
     "output_type": "stream",
     "text": [
      "/home/js7561/dev/scaper/scaper/core.py:1112: ScaperWarning: car_horn event duration (2.42) is greater that source duration (1.30), changing to 1.30\n",
      "  ScaperWarning)\n"
     ]
    },
    {
     "name": "stdout",
     "output_type": "stream",
     "text": [
      "Generating soundscape: 240/667\n"
     ]
    },
    {
     "name": "stderr",
     "output_type": "stream",
     "text": [
      "/home/js7561/dev/scaper/scaper/core.py:1112: ScaperWarning: car_horn event duration (1.57) is greater that source duration (0.77), changing to 0.77\n",
      "  ScaperWarning)\n",
      "/home/js7561/dev/scaper/scaper/core.py:1112: ScaperWarning: gun_shot event duration (3.51) is greater that source duration (1.60), changing to 1.60\n",
      "  ScaperWarning)\n",
      "/home/js7561/dev/scaper/scaper/core.py:1112: ScaperWarning: engine_idling event duration (3.88) is greater that source duration (0.79), changing to 0.79\n",
      "  ScaperWarning)\n",
      "/home/js7561/dev/scaper/scaper/core.py:1199: ScaperWarning: drilling event time (7.17) is too great given stretched event duration (4.47) and soundscape duration (10.00), changed to 5.53.\n",
      "  ScaperWarning)\n"
     ]
    },
    {
     "name": "stdout",
     "output_type": "stream",
     "text": [
      "Generating soundscape: 241/667\n"
     ]
    },
    {
     "name": "stderr",
     "output_type": "stream",
     "text": [
      "/home/js7561/dev/scaper/scaper/core.py:1199: ScaperWarning: dog_bark event time (7.81) is too great given stretched event duration (3.15) and soundscape duration (10.00), changed to 6.85.\n",
      "  ScaperWarning)\n",
      "/home/js7561/dev/scaper/scaper/core.py:1199: ScaperWarning: siren event time (6.76) is too great given stretched event duration (3.26) and soundscape duration (10.00), changed to 6.74.\n",
      "  ScaperWarning)\n"
     ]
    },
    {
     "name": "stdout",
     "output_type": "stream",
     "text": [
      "Generating soundscape: 242/667\n"
     ]
    },
    {
     "name": "stderr",
     "output_type": "stream",
     "text": [
      "/home/js7561/dev/scaper/scaper/core.py:1112: ScaperWarning: siren event duration (3.44) is greater that source duration (1.36), changing to 1.36\n",
      "  ScaperWarning)\n"
     ]
    },
    {
     "name": "stdout",
     "output_type": "stream",
     "text": [
      "Generating soundscape: 243/667\n"
     ]
    },
    {
     "name": "stderr",
     "output_type": "stream",
     "text": [
      "/home/js7561/dev/scaper/scaper/core.py:1112: ScaperWarning: jackhammer event duration (3.04) is greater that source duration (1.71), changing to 1.71\n",
      "  ScaperWarning)\n"
     ]
    },
    {
     "name": "stdout",
     "output_type": "stream",
     "text": [
      "Generating soundscape: 244/667\n"
     ]
    },
    {
     "name": "stderr",
     "output_type": "stream",
     "text": [
      "/home/js7561/dev/scaper/scaper/core.py:1112: ScaperWarning: dog_bark event duration (3.50) is greater that source duration (0.80), changing to 0.80\n",
      "  ScaperWarning)\n"
     ]
    },
    {
     "name": "stdout",
     "output_type": "stream",
     "text": [
      "Generating soundscape: 245/667\n"
     ]
    },
    {
     "name": "stderr",
     "output_type": "stream",
     "text": [
      "/home/js7561/dev/scaper/scaper/core.py:1112: ScaperWarning: dog_bark event duration (3.31) is greater that source duration (0.95), changing to 0.95\n",
      "  ScaperWarning)\n",
      "/home/js7561/dev/scaper/scaper/core.py:1199: ScaperWarning: car_horn event time (7.92) is too great given stretched event duration (3.38) and soundscape duration (10.00), changed to 6.62.\n",
      "  ScaperWarning)\n"
     ]
    },
    {
     "name": "stdout",
     "output_type": "stream",
     "text": [
      "Generating soundscape: 246/667\n"
     ]
    },
    {
     "name": "stderr",
     "output_type": "stream",
     "text": [
      "/home/js7561/dev/scaper/scaper/core.py:1112: ScaperWarning: gun_shot event duration (2.38) is greater that source duration (0.26), changing to 0.26\n",
      "  ScaperWarning)\n",
      "/home/js7561/dev/scaper/scaper/core.py:1112: ScaperWarning: siren event duration (2.67) is greater that source duration (0.28), changing to 0.28\n",
      "  ScaperWarning)\n"
     ]
    },
    {
     "name": "stdout",
     "output_type": "stream",
     "text": [
      "Generating soundscape: 247/667\n"
     ]
    },
    {
     "name": "stderr",
     "output_type": "stream",
     "text": [
      "/home/js7561/dev/scaper/scaper/core.py:1112: ScaperWarning: gun_shot event duration (3.95) is greater that source duration (2.26), changing to 2.26\n",
      "  ScaperWarning)\n",
      "/home/js7561/dev/scaper/scaper/core.py:1112: ScaperWarning: car_horn event duration (3.16) is greater that source duration (0.57), changing to 0.57\n",
      "  ScaperWarning)\n",
      "/home/js7561/dev/scaper/scaper/core.py:1112: ScaperWarning: car_horn event duration (2.80) is greater that source duration (2.69), changing to 2.69\n",
      "  ScaperWarning)\n"
     ]
    },
    {
     "name": "stdout",
     "output_type": "stream",
     "text": [
      "Generating soundscape: 248/667\n"
     ]
    },
    {
     "name": "stderr",
     "output_type": "stream",
     "text": [
      "/home/js7561/dev/scaper/scaper/core.py:1112: ScaperWarning: car_horn event duration (3.98) is greater that source duration (2.69), changing to 2.69\n",
      "  ScaperWarning)\n"
     ]
    },
    {
     "name": "stdout",
     "output_type": "stream",
     "text": [
      "Generating soundscape: 249/667\n",
      "Generating soundscape: 250/667\n"
     ]
    },
    {
     "name": "stderr",
     "output_type": "stream",
     "text": [
      "/home/js7561/dev/scaper/scaper/core.py:1112: ScaperWarning: gun_shot event duration (2.96) is greater that source duration (0.95), changing to 0.95\n",
      "  ScaperWarning)\n",
      "/home/js7561/dev/scaper/scaper/core.py:1112: ScaperWarning: jackhammer event duration (3.05) is greater that source duration (1.71), changing to 1.71\n",
      "  ScaperWarning)\n"
     ]
    },
    {
     "name": "stdout",
     "output_type": "stream",
     "text": [
      "Generating soundscape: 251/667\n",
      "Generating soundscape: 252/667\n",
      "Generating soundscape: 253/667\n"
     ]
    },
    {
     "name": "stderr",
     "output_type": "stream",
     "text": [
      "/home/js7561/dev/scaper/scaper/core.py:1199: ScaperWarning: air_conditioner event time (7.67) is too great given stretched event duration (2.78) and soundscape duration (10.00), changed to 7.22.\n",
      "  ScaperWarning)\n",
      "/home/js7561/dev/scaper/scaper/core.py:1199: ScaperWarning: children_playing event time (6.63) is too great given stretched event duration (4.05) and soundscape duration (10.00), changed to 5.95.\n",
      "  ScaperWarning)\n",
      "/home/js7561/dev/scaper/scaper/core.py:1112: ScaperWarning: siren event duration (3.57) is greater that source duration (0.36), changing to 0.36\n",
      "  ScaperWarning)\n",
      "/home/js7561/dev/scaper/scaper/core.py:1199: ScaperWarning: children_playing event time (7.17) is too great given stretched event duration (3.84) and soundscape duration (10.00), changed to 6.16.\n",
      "  ScaperWarning)\n"
     ]
    },
    {
     "name": "stdout",
     "output_type": "stream",
     "text": [
      "Generating soundscape: 254/667\n",
      "Generating soundscape: 255/667\n"
     ]
    },
    {
     "name": "stderr",
     "output_type": "stream",
     "text": [
      "/home/js7561/dev/scaper/scaper/core.py:1112: ScaperWarning: car_horn event duration (0.72) is greater that source duration (0.42), changing to 0.42\n",
      "  ScaperWarning)\n"
     ]
    },
    {
     "name": "stdout",
     "output_type": "stream",
     "text": [
      "Generating soundscape: 256/667\n"
     ]
    },
    {
     "name": "stderr",
     "output_type": "stream",
     "text": [
      "/home/js7561/dev/scaper/scaper/core.py:1199: ScaperWarning: street_music event time (9.05) is too great given stretched event duration (1.98) and soundscape duration (10.00), changed to 8.02.\n",
      "  ScaperWarning)\n",
      "/home/js7561/dev/scaper/scaper/core.py:1199: ScaperWarning: siren event time (9.24) is too great given stretched event duration (2.25) and soundscape duration (10.00), changed to 7.75.\n",
      "  ScaperWarning)\n"
     ]
    },
    {
     "name": "stdout",
     "output_type": "stream",
     "text": [
      "Generating soundscape: 257/667\n"
     ]
    },
    {
     "name": "stderr",
     "output_type": "stream",
     "text": [
      "/home/js7561/dev/scaper/scaper/core.py:1112: ScaperWarning: car_horn event duration (1.72) is greater that source duration (0.87), changing to 0.87\n",
      "  ScaperWarning)\n",
      "/home/js7561/dev/scaper/scaper/core.py:1112: ScaperWarning: gun_shot event duration (2.16) is greater that source duration (0.46), changing to 0.46\n",
      "  ScaperWarning)\n",
      "/home/js7561/dev/scaper/scaper/core.py:1112: ScaperWarning: jackhammer event duration (2.28) is greater that source duration (0.70), changing to 0.70\n",
      "  ScaperWarning)\n",
      "/home/js7561/dev/scaper/scaper/core.py:1112: ScaperWarning: car_horn event duration (1.70) is greater that source duration (0.75), changing to 0.75\n",
      "  ScaperWarning)\n"
     ]
    },
    {
     "name": "stdout",
     "output_type": "stream",
     "text": [
      "Generating soundscape: 258/667\n"
     ]
    },
    {
     "name": "stderr",
     "output_type": "stream",
     "text": [
      "/home/js7561/dev/scaper/scaper/core.py:1199: ScaperWarning: dog_bark event time (7.49) is too great given stretched event duration (4.43) and soundscape duration (10.00), changed to 5.57.\n",
      "  ScaperWarning)\n",
      "/home/js7561/dev/scaper/scaper/core.py:1199: ScaperWarning: children_playing event time (8.55) is too great given stretched event duration (1.95) and soundscape duration (10.00), changed to 8.05.\n",
      "  ScaperWarning)\n"
     ]
    },
    {
     "name": "stdout",
     "output_type": "stream",
     "text": [
      "Generating soundscape: 259/667\n"
     ]
    },
    {
     "name": "stderr",
     "output_type": "stream",
     "text": [
      "/home/js7561/dev/scaper/scaper/core.py:1112: ScaperWarning: dog_bark event duration (1.96) is greater that source duration (0.98), changing to 0.98\n",
      "  ScaperWarning)\n"
     ]
    },
    {
     "name": "stdout",
     "output_type": "stream",
     "text": [
      "Generating soundscape: 260/667\n",
      "Generating soundscape: 261/667\n",
      "Generating soundscape: 262/667\n"
     ]
    },
    {
     "name": "stderr",
     "output_type": "stream",
     "text": [
      "/home/js7561/dev/scaper/scaper/core.py:1112: ScaperWarning: drilling event duration (1.44) is greater that source duration (0.57), changing to 0.57\n",
      "  ScaperWarning)\n",
      "/home/js7561/dev/scaper/scaper/core.py:1112: ScaperWarning: car_horn event duration (0.89) is greater that source duration (0.83), changing to 0.83\n",
      "  ScaperWarning)\n"
     ]
    },
    {
     "name": "stdout",
     "output_type": "stream",
     "text": [
      "Generating soundscape: 263/667\n",
      "Generating soundscape: 264/667\n"
     ]
    },
    {
     "name": "stderr",
     "output_type": "stream",
     "text": [
      "/home/js7561/dev/scaper/scaper/core.py:1112: ScaperWarning: dog_bark event duration (3.24) is greater that source duration (1.41), changing to 1.41\n",
      "  ScaperWarning)\n"
     ]
    },
    {
     "name": "stdout",
     "output_type": "stream",
     "text": [
      "Generating soundscape: 265/667\n",
      "Generating soundscape: 266/667\n"
     ]
    },
    {
     "name": "stderr",
     "output_type": "stream",
     "text": [
      "/home/js7561/dev/scaper/scaper/core.py:1112: ScaperWarning: car_horn event duration (3.84) is greater that source duration (2.59), changing to 2.59\n",
      "  ScaperWarning)\n",
      "/home/js7561/dev/scaper/scaper/core.py:1199: ScaperWarning: children_playing event time (7.17) is too great given stretched event duration (3.69) and soundscape duration (10.00), changed to 6.31.\n",
      "  ScaperWarning)\n",
      "/home/js7561/dev/scaper/scaper/core.py:1199: ScaperWarning: dog_bark event time (8.19) is too great given stretched event duration (2.49) and soundscape duration (10.00), changed to 7.51.\n",
      "  ScaperWarning)\n"
     ]
    },
    {
     "name": "stdout",
     "output_type": "stream",
     "text": [
      "Generating soundscape: 267/667\n",
      "Generating soundscape: 268/667\n"
     ]
    },
    {
     "name": "stderr",
     "output_type": "stream",
     "text": [
      "/home/js7561/dev/scaper/scaper/core.py:1112: ScaperWarning: dog_bark event duration (3.47) is greater that source duration (0.79), changing to 0.79\n",
      "  ScaperWarning)\n"
     ]
    },
    {
     "name": "stdout",
     "output_type": "stream",
     "text": [
      "Generating soundscape: 269/667\n"
     ]
    },
    {
     "name": "stderr",
     "output_type": "stream",
     "text": [
      "/home/js7561/dev/scaper/scaper/core.py:1112: ScaperWarning: jackhammer event duration (2.89) is greater that source duration (1.63), changing to 1.63\n",
      "  ScaperWarning)\n"
     ]
    },
    {
     "name": "stdout",
     "output_type": "stream",
     "text": [
      "Generating soundscape: 270/667\n"
     ]
    },
    {
     "name": "stderr",
     "output_type": "stream",
     "text": [
      "/home/js7561/dev/scaper/scaper/core.py:1112: ScaperWarning: jackhammer event duration (3.14) is greater that source duration (2.82), changing to 2.82\n",
      "  ScaperWarning)\n",
      "/home/js7561/dev/scaper/scaper/core.py:1112: ScaperWarning: car_horn event duration (2.08) is greater that source duration (1.67), changing to 1.67\n",
      "  ScaperWarning)\n",
      "/home/js7561/dev/scaper/scaper/core.py:1112: ScaperWarning: car_horn event duration (0.67) is greater that source duration (0.42), changing to 0.42\n",
      "  ScaperWarning)\n"
     ]
    },
    {
     "name": "stdout",
     "output_type": "stream",
     "text": [
      "Generating soundscape: 271/667\n",
      "Generating soundscape: 272/667\n"
     ]
    },
    {
     "name": "stderr",
     "output_type": "stream",
     "text": [
      "/home/js7561/dev/scaper/scaper/core.py:1199: ScaperWarning: air_conditioner event time (7.75) is too great given stretched event duration (3.12) and soundscape duration (10.00), changed to 6.88.\n",
      "  ScaperWarning)\n",
      "/home/js7561/dev/scaper/scaper/core.py:1112: ScaperWarning: engine_idling event duration (3.27) is greater that source duration (2.54), changing to 2.54\n",
      "  ScaperWarning)\n"
     ]
    },
    {
     "name": "stdout",
     "output_type": "stream",
     "text": [
      "Generating soundscape: 273/667\n",
      "Generating soundscape: 274/667\n"
     ]
    },
    {
     "name": "stderr",
     "output_type": "stream",
     "text": [
      "/home/js7561/dev/scaper/scaper/core.py:1112: ScaperWarning: gun_shot event duration (1.60) is greater that source duration (0.46), changing to 0.46\n",
      "  ScaperWarning)\n"
     ]
    },
    {
     "name": "stdout",
     "output_type": "stream",
     "text": [
      "Generating soundscape: 275/667\n"
     ]
    },
    {
     "name": "stderr",
     "output_type": "stream",
     "text": [
      "/home/js7561/dev/scaper/scaper/core.py:1199: ScaperWarning: street_music event time (6.69) is too great given stretched event duration (3.36) and soundscape duration (10.00), changed to 6.64.\n",
      "  ScaperWarning)\n",
      "/home/js7561/dev/scaper/scaper/core.py:1112: ScaperWarning: car_horn event duration (2.90) is greater that source duration (2.69), changing to 2.69\n",
      "  ScaperWarning)\n"
     ]
    },
    {
     "name": "stdout",
     "output_type": "stream",
     "text": [
      "Generating soundscape: 276/667\n"
     ]
    },
    {
     "name": "stderr",
     "output_type": "stream",
     "text": [
      "/home/js7561/dev/scaper/scaper/core.py:1112: ScaperWarning: car_horn event duration (1.98) is greater that source duration (0.30), changing to 0.30\n",
      "  ScaperWarning)\n"
     ]
    },
    {
     "name": "stdout",
     "output_type": "stream",
     "text": [
      "Generating soundscape: 277/667\n"
     ]
    },
    {
     "name": "stderr",
     "output_type": "stream",
     "text": [
      "/home/js7561/dev/scaper/scaper/core.py:1199: ScaperWarning: air_conditioner event time (8.64) is too great given stretched event duration (4.34) and soundscape duration (10.00), changed to 5.66.\n",
      "  ScaperWarning)\n",
      "/home/js7561/dev/scaper/scaper/core.py:1112: ScaperWarning: jackhammer event duration (3.38) is greater that source duration (1.90), changing to 1.90\n",
      "  ScaperWarning)\n",
      "/home/js7561/dev/scaper/scaper/core.py:1199: ScaperWarning: drilling event time (8.91) is too great given stretched event duration (2.50) and soundscape duration (10.00), changed to 7.50.\n",
      "  ScaperWarning)\n",
      "/home/js7561/dev/scaper/scaper/core.py:1199: ScaperWarning: street_music event time (8.21) is too great given stretched event duration (2.21) and soundscape duration (10.00), changed to 7.79.\n",
      "  ScaperWarning)\n"
     ]
    },
    {
     "name": "stdout",
     "output_type": "stream",
     "text": [
      "Generating soundscape: 278/667\n"
     ]
    },
    {
     "name": "stderr",
     "output_type": "stream",
     "text": [
      "/home/js7561/dev/scaper/scaper/core.py:1199: ScaperWarning: jackhammer event time (9.18) is too great given stretched event duration (1.28) and soundscape duration (10.00), changed to 8.72.\n",
      "  ScaperWarning)\n",
      "/home/js7561/dev/scaper/scaper/core.py:1199: ScaperWarning: engine_idling event time (8.26) is too great given stretched event duration (2.42) and soundscape duration (10.00), changed to 7.58.\n",
      "  ScaperWarning)\n",
      "/home/js7561/dev/scaper/scaper/core.py:1112: ScaperWarning: car_horn event duration (1.17) is greater that source duration (0.83), changing to 0.83\n",
      "  ScaperWarning)\n"
     ]
    },
    {
     "name": "stdout",
     "output_type": "stream",
     "text": [
      "Generating soundscape: 279/667\n"
     ]
    },
    {
     "name": "stderr",
     "output_type": "stream",
     "text": [
      "/home/js7561/dev/scaper/scaper/core.py:1112: ScaperWarning: dog_bark event duration (2.90) is greater that source duration (0.50), changing to 0.50\n",
      "  ScaperWarning)\n"
     ]
    },
    {
     "name": "stdout",
     "output_type": "stream",
     "text": [
      "Generating soundscape: 280/667\n"
     ]
    },
    {
     "name": "stderr",
     "output_type": "stream",
     "text": [
      "/home/js7561/dev/scaper/scaper/core.py:1199: ScaperWarning: street_music event time (7.47) is too great given stretched event duration (3.06) and soundscape duration (10.00), changed to 6.94.\n",
      "  ScaperWarning)\n"
     ]
    },
    {
     "name": "stdout",
     "output_type": "stream",
     "text": [
      "Generating soundscape: 281/667\n"
     ]
    },
    {
     "name": "stderr",
     "output_type": "stream",
     "text": [
      "/home/js7561/dev/scaper/scaper/core.py:1199: ScaperWarning: children_playing event time (7.99) is too great given stretched event duration (3.07) and soundscape duration (10.00), changed to 6.93.\n",
      "  ScaperWarning)\n",
      "/home/js7561/dev/scaper/scaper/core.py:1199: ScaperWarning: car_horn event time (6.72) is too great given stretched event duration (3.97) and soundscape duration (10.00), changed to 6.03.\n",
      "  ScaperWarning)\n",
      "/home/js7561/dev/scaper/scaper/core.py:1112: ScaperWarning: dog_bark event duration (1.81) is greater that source duration (0.18), changing to 0.18\n",
      "  ScaperWarning)\n",
      "/home/js7561/dev/scaper/scaper/core.py:1112: ScaperWarning: car_horn event duration (1.29) is greater that source duration (0.87), changing to 0.87\n",
      "  ScaperWarning)\n",
      "/home/js7561/dev/scaper/scaper/core.py:1199: ScaperWarning: car_horn event time (9.41) is too great given stretched event duration (0.98) and soundscape duration (10.00), changed to 9.02.\n",
      "  ScaperWarning)\n"
     ]
    },
    {
     "name": "stdout",
     "output_type": "stream",
     "text": [
      "Generating soundscape: 282/667\n"
     ]
    },
    {
     "name": "stderr",
     "output_type": "stream",
     "text": [
      "/home/js7561/dev/scaper/scaper/core.py:1199: ScaperWarning: dog_bark event time (7.63) is too great given stretched event duration (4.36) and soundscape duration (10.00), changed to 5.64.\n",
      "  ScaperWarning)\n"
     ]
    },
    {
     "name": "stdout",
     "output_type": "stream",
     "text": [
      "Generating soundscape: 283/667\n"
     ]
    },
    {
     "name": "stderr",
     "output_type": "stream",
     "text": [
      "/home/js7561/dev/scaper/scaper/core.py:1112: ScaperWarning: car_horn event duration (1.80) is greater that source duration (1.09), changing to 1.09\n",
      "  ScaperWarning)\n"
     ]
    },
    {
     "name": "stdout",
     "output_type": "stream",
     "text": [
      "Generating soundscape: 284/667\n"
     ]
    },
    {
     "name": "stderr",
     "output_type": "stream",
     "text": [
      "/home/js7561/dev/scaper/scaper/core.py:1199: ScaperWarning: siren event time (9.14) is too great given stretched event duration (4.00) and soundscape duration (10.00), changed to 6.00.\n",
      "  ScaperWarning)\n",
      "/home/js7561/dev/scaper/scaper/core.py:1112: ScaperWarning: dog_bark event duration (2.96) is greater that source duration (1.41), changing to 1.41\n",
      "  ScaperWarning)\n",
      "/home/js7561/dev/scaper/scaper/core.py:1199: ScaperWarning: air_conditioner event time (7.01) is too great given stretched event duration (3.89) and soundscape duration (10.00), changed to 6.11.\n",
      "  ScaperWarning)\n",
      "/home/js7561/dev/scaper/scaper/core.py:1199: ScaperWarning: jackhammer event time (8.01) is too great given stretched event duration (2.31) and soundscape duration (10.00), changed to 7.69.\n",
      "  ScaperWarning)\n"
     ]
    },
    {
     "name": "stdout",
     "output_type": "stream",
     "text": [
      "Generating soundscape: 285/667\n"
     ]
    },
    {
     "name": "stderr",
     "output_type": "stream",
     "text": [
      "/home/js7561/dev/scaper/scaper/core.py:1112: ScaperWarning: gun_shot event duration (2.65) is greater that source duration (0.98), changing to 0.98\n",
      "  ScaperWarning)\n",
      "/home/js7561/dev/scaper/scaper/core.py:1112: ScaperWarning: gun_shot event duration (2.03) is greater that source duration (0.29), changing to 0.29\n",
      "  ScaperWarning)\n",
      "/home/js7561/dev/scaper/scaper/core.py:1199: ScaperWarning: siren event time (5.88) is too great given stretched event duration (4.14) and soundscape duration (10.00), changed to 5.86.\n",
      "  ScaperWarning)\n"
     ]
    },
    {
     "name": "stdout",
     "output_type": "stream",
     "text": [
      "Generating soundscape: 286/667\n"
     ]
    },
    {
     "name": "stderr",
     "output_type": "stream",
     "text": [
      "/home/js7561/dev/scaper/scaper/core.py:1112: ScaperWarning: car_horn event duration (3.17) is greater that source duration (0.85), changing to 0.85\n",
      "  ScaperWarning)\n",
      "/home/js7561/dev/scaper/scaper/core.py:1112: ScaperWarning: jackhammer event duration (3.17) is greater that source duration (1.15), changing to 1.15\n",
      "  ScaperWarning)\n"
     ]
    },
    {
     "name": "stdout",
     "output_type": "stream",
     "text": [
      "Generating soundscape: 287/667\n"
     ]
    },
    {
     "name": "stderr",
     "output_type": "stream",
     "text": [
      "/home/js7561/dev/scaper/scaper/core.py:1112: ScaperWarning: gun_shot event duration (2.40) is greater that source duration (0.80), changing to 0.80\n",
      "  ScaperWarning)\n",
      "/home/js7561/dev/scaper/scaper/core.py:1199: ScaperWarning: air_conditioner event time (8.61) is too great given stretched event duration (1.91) and soundscape duration (10.00), changed to 8.09.\n",
      "  ScaperWarning)\n"
     ]
    },
    {
     "name": "stdout",
     "output_type": "stream",
     "text": [
      "Generating soundscape: 288/667\n"
     ]
    },
    {
     "name": "stderr",
     "output_type": "stream",
     "text": [
      "/home/js7561/dev/scaper/scaper/core.py:1112: ScaperWarning: jackhammer event duration (3.41) is greater that source duration (0.81), changing to 0.81\n",
      "  ScaperWarning)\n"
     ]
    },
    {
     "name": "stdout",
     "output_type": "stream",
     "text": [
      "Generating soundscape: 289/667\n"
     ]
    },
    {
     "name": "stderr",
     "output_type": "stream",
     "text": [
      "/home/js7561/dev/scaper/scaper/core.py:1199: ScaperWarning: drilling event time (7.81) is too great given stretched event duration (3.78) and soundscape duration (10.00), changed to 6.22.\n",
      "  ScaperWarning)\n",
      "/home/js7561/dev/scaper/scaper/core.py:1112: ScaperWarning: car_horn event duration (1.84) is greater that source duration (1.43), changing to 1.43\n",
      "  ScaperWarning)\n"
     ]
    },
    {
     "name": "stdout",
     "output_type": "stream",
     "text": [
      "Generating soundscape: 290/667\n",
      "Generating soundscape: 291/667\n"
     ]
    },
    {
     "name": "stderr",
     "output_type": "stream",
     "text": [
      "/home/js7561/dev/scaper/scaper/core.py:1199: ScaperWarning: jackhammer event time (7.46) is too great given stretched event duration (3.34) and soundscape duration (10.00), changed to 6.66.\n",
      "  ScaperWarning)\n",
      "/home/js7561/dev/scaper/scaper/core.py:1112: ScaperWarning: gun_shot event duration (2.70) is greater that source duration (2.19), changing to 2.19\n",
      "  ScaperWarning)\n"
     ]
    },
    {
     "name": "stdout",
     "output_type": "stream",
     "text": [
      "Generating soundscape: 292/667\n"
     ]
    },
    {
     "name": "stderr",
     "output_type": "stream",
     "text": [
      "/home/js7561/dev/scaper/scaper/core.py:1112: ScaperWarning: dog_bark event duration (1.35) is greater that source duration (0.92), changing to 0.92\n",
      "  ScaperWarning)\n"
     ]
    },
    {
     "name": "stdout",
     "output_type": "stream",
     "text": [
      "Generating soundscape: 293/667\n"
     ]
    },
    {
     "name": "stderr",
     "output_type": "stream",
     "text": [
      "/home/js7561/dev/scaper/scaper/core.py:1112: ScaperWarning: gun_shot event duration (2.34) is greater that source duration (0.98), changing to 0.98\n",
      "  ScaperWarning)\n",
      "/home/js7561/dev/scaper/scaper/core.py:1112: ScaperWarning: car_horn event duration (0.58) is greater that source duration (0.27), changing to 0.27\n",
      "  ScaperWarning)\n",
      "/home/js7561/dev/scaper/scaper/core.py:1112: ScaperWarning: jackhammer event duration (2.34) is greater that source duration (1.90), changing to 1.90\n",
      "  ScaperWarning)\n"
     ]
    },
    {
     "name": "stdout",
     "output_type": "stream",
     "text": [
      "Generating soundscape: 294/667\n",
      "Generating soundscape: 295/667\n",
      "Generating soundscape: 296/667\n"
     ]
    },
    {
     "name": "stderr",
     "output_type": "stream",
     "text": [
      "/home/js7561/dev/scaper/scaper/core.py:1112: ScaperWarning: jackhammer event duration (2.54) is greater that source duration (1.74), changing to 1.74\n",
      "  ScaperWarning)\n",
      "/home/js7561/dev/scaper/scaper/core.py:1199: ScaperWarning: dog_bark event time (7.22) is too great given stretched event duration (3.31) and soundscape duration (10.00), changed to 6.69.\n",
      "  ScaperWarning)\n"
     ]
    },
    {
     "name": "stdout",
     "output_type": "stream",
     "text": [
      "Generating soundscape: 297/667\n"
     ]
    },
    {
     "name": "stderr",
     "output_type": "stream",
     "text": [
      "/home/js7561/dev/scaper/scaper/core.py:1112: ScaperWarning: car_horn event duration (1.79) is greater that source duration (0.30), changing to 0.30\n",
      "  ScaperWarning)\n",
      "/home/js7561/dev/scaper/scaper/core.py:1112: ScaperWarning: gun_shot event duration (4.00) is greater that source duration (0.50), changing to 0.50\n",
      "  ScaperWarning)\n",
      "/home/js7561/dev/scaper/scaper/core.py:1112: ScaperWarning: gun_shot event duration (3.38) is greater that source duration (0.29), changing to 0.29\n",
      "  ScaperWarning)\n",
      "/home/js7561/dev/scaper/scaper/core.py:1199: ScaperWarning: children_playing event time (6.06) is too great given stretched event duration (4.10) and soundscape duration (10.00), changed to 5.90.\n",
      "  ScaperWarning)\n"
     ]
    },
    {
     "name": "stdout",
     "output_type": "stream",
     "text": [
      "Generating soundscape: 298/667\n"
     ]
    },
    {
     "name": "stderr",
     "output_type": "stream",
     "text": [
      "/home/js7561/dev/scaper/scaper/core.py:1199: ScaperWarning: engine_idling event time (9.45) is too great given stretched event duration (1.45) and soundscape duration (10.00), changed to 8.55.\n",
      "  ScaperWarning)\n",
      "/home/js7561/dev/scaper/scaper/core.py:1199: ScaperWarning: car_horn event time (7.92) is too great given stretched event duration (2.29) and soundscape duration (10.00), changed to 7.71.\n",
      "  ScaperWarning)\n",
      "/home/js7561/dev/scaper/scaper/core.py:1112: ScaperWarning: car_horn event duration (1.82) is greater that source duration (0.83), changing to 0.83\n",
      "  ScaperWarning)\n"
     ]
    },
    {
     "name": "stdout",
     "output_type": "stream",
     "text": [
      "Generating soundscape: 299/667\n"
     ]
    },
    {
     "name": "stderr",
     "output_type": "stream",
     "text": [
      "/home/js7561/dev/scaper/scaper/core.py:1112: ScaperWarning: engine_idling event duration (3.52) is greater that source duration (1.04), changing to 1.04\n",
      "  ScaperWarning)\n"
     ]
    },
    {
     "name": "stdout",
     "output_type": "stream",
     "text": [
      "Generating soundscape: 300/667\n"
     ]
    },
    {
     "name": "stderr",
     "output_type": "stream",
     "text": [
      "/home/js7561/dev/scaper/scaper/core.py:1199: ScaperWarning: dog_bark event time (9.82) is too great given stretched event duration (0.72) and soundscape duration (10.00), changed to 9.28.\n",
      "  ScaperWarning)\n"
     ]
    },
    {
     "name": "stdout",
     "output_type": "stream",
     "text": [
      "Generating soundscape: 301/667\n"
     ]
    },
    {
     "name": "stderr",
     "output_type": "stream",
     "text": [
      "/home/js7561/dev/scaper/scaper/core.py:1112: ScaperWarning: gun_shot event duration (3.30) is greater that source duration (0.54), changing to 0.54\n",
      "  ScaperWarning)\n",
      "/home/js7561/dev/scaper/scaper/core.py:1199: ScaperWarning: dog_bark event time (7.03) is too great given stretched event duration (3.07) and soundscape duration (10.00), changed to 6.93.\n",
      "  ScaperWarning)\n",
      "/home/js7561/dev/scaper/scaper/core.py:1112: ScaperWarning: car_horn event duration (2.76) is greater that source duration (0.44), changing to 0.44\n",
      "  ScaperWarning)\n"
     ]
    },
    {
     "name": "stdout",
     "output_type": "stream",
     "text": [
      "Generating soundscape: 302/667\n"
     ]
    },
    {
     "name": "stderr",
     "output_type": "stream",
     "text": [
      "/home/js7561/dev/scaper/scaper/core.py:1112: ScaperWarning: gun_shot event duration (2.86) is greater that source duration (0.77), changing to 0.77\n",
      "  ScaperWarning)\n",
      "/home/js7561/dev/scaper/scaper/core.py:1199: ScaperWarning: children_playing event time (8.17) is too great given stretched event duration (3.52) and soundscape duration (10.00), changed to 6.48.\n",
      "  ScaperWarning)\n",
      "/home/js7561/dev/scaper/scaper/core.py:1112: ScaperWarning: jackhammer event duration (2.21) is greater that source duration (1.71), changing to 1.71\n",
      "  ScaperWarning)\n"
     ]
    },
    {
     "name": "stdout",
     "output_type": "stream",
     "text": [
      "Generating soundscape: 303/667\n"
     ]
    },
    {
     "name": "stderr",
     "output_type": "stream",
     "text": [
      "/home/js7561/dev/scaper/scaper/core.py:1112: ScaperWarning: dog_bark event duration (1.81) is greater that source duration (0.38), changing to 0.38\n",
      "  ScaperWarning)\n"
     ]
    },
    {
     "name": "stdout",
     "output_type": "stream",
     "text": [
      "Generating soundscape: 304/667\n"
     ]
    },
    {
     "name": "stderr",
     "output_type": "stream",
     "text": [
      "/home/js7561/dev/scaper/scaper/core.py:1112: ScaperWarning: car_horn event duration (2.93) is greater that source duration (0.52), changing to 0.52\n",
      "  ScaperWarning)\n"
     ]
    },
    {
     "name": "stdout",
     "output_type": "stream",
     "text": [
      "Generating soundscape: 305/667\n"
     ]
    },
    {
     "name": "stderr",
     "output_type": "stream",
     "text": [
      "/home/js7561/dev/scaper/scaper/core.py:1199: ScaperWarning: siren event time (6.71) is too great given stretched event duration (3.31) and soundscape duration (10.00), changed to 6.69.\n",
      "  ScaperWarning)\n",
      "/home/js7561/dev/scaper/scaper/core.py:1112: ScaperWarning: gun_shot event duration (3.26) is greater that source duration (0.95), changing to 0.95\n",
      "  ScaperWarning)\n",
      "/home/js7561/dev/scaper/scaper/core.py:1199: ScaperWarning: siren event time (7.66) is too great given stretched event duration (4.04) and soundscape duration (10.00), changed to 5.96.\n",
      "  ScaperWarning)\n",
      "/home/js7561/dev/scaper/scaper/core.py:1112: ScaperWarning: dog_bark event duration (0.97) is greater that source duration (0.54), changing to 0.54\n",
      "  ScaperWarning)\n"
     ]
    },
    {
     "name": "stdout",
     "output_type": "stream",
     "text": [
      "Generating soundscape: 306/667\n"
     ]
    },
    {
     "name": "stderr",
     "output_type": "stream",
     "text": [
      "/home/js7561/dev/scaper/scaper/core.py:1199: ScaperWarning: siren event time (7.84) is too great given stretched event duration (2.29) and soundscape duration (10.00), changed to 7.71.\n",
      "  ScaperWarning)\n",
      "/home/js7561/dev/scaper/scaper/core.py:1112: ScaperWarning: dog_bark event duration (1.18) is greater that source duration (0.45), changing to 0.45\n",
      "  ScaperWarning)\n",
      "/home/js7561/dev/scaper/scaper/core.py:1112: ScaperWarning: jackhammer event duration (3.65) is greater that source duration (1.28), changing to 1.28\n",
      "  ScaperWarning)\n",
      "/home/js7561/dev/scaper/scaper/core.py:1112: ScaperWarning: gun_shot event duration (1.35) is greater that source duration (0.91), changing to 0.91\n",
      "  ScaperWarning)\n"
     ]
    },
    {
     "name": "stdout",
     "output_type": "stream",
     "text": [
      "Generating soundscape: 307/667\n"
     ]
    },
    {
     "name": "stderr",
     "output_type": "stream",
     "text": [
      "/home/js7561/dev/scaper/scaper/core.py:1199: ScaperWarning: siren event time (8.95) is too great given stretched event duration (1.64) and soundscape duration (10.00), changed to 8.36.\n",
      "  ScaperWarning)\n",
      "/home/js7561/dev/scaper/scaper/core.py:1199: ScaperWarning: jackhammer event time (7.03) is too great given stretched event duration (3.74) and soundscape duration (10.00), changed to 6.26.\n",
      "  ScaperWarning)\n",
      "/home/js7561/dev/scaper/scaper/core.py:1199: ScaperWarning: air_conditioner event time (8.12) is too great given stretched event duration (2.70) and soundscape duration (10.00), changed to 7.30.\n",
      "  ScaperWarning)\n"
     ]
    },
    {
     "name": "stdout",
     "output_type": "stream",
     "text": [
      "Generating soundscape: 308/667\n"
     ]
    },
    {
     "name": "stderr",
     "output_type": "stream",
     "text": [
      "/home/js7561/dev/scaper/scaper/core.py:1112: ScaperWarning: car_horn event duration (3.15) is greater that source duration (1.16), changing to 1.16\n",
      "  ScaperWarning)\n",
      "/home/js7561/dev/scaper/scaper/core.py:1112: ScaperWarning: car_horn event duration (2.35) is greater that source duration (1.75), changing to 1.75\n",
      "  ScaperWarning)\n"
     ]
    },
    {
     "name": "stdout",
     "output_type": "stream",
     "text": [
      "Generating soundscape: 309/667\n",
      "Generating soundscape: 310/667\n",
      "Generating soundscape: 311/667\n",
      "Generating soundscape: 312/667\n"
     ]
    },
    {
     "name": "stderr",
     "output_type": "stream",
     "text": [
      "/home/js7561/dev/scaper/scaper/core.py:1199: ScaperWarning: air_conditioner event time (8.84) is too great given stretched event duration (3.25) and soundscape duration (10.00), changed to 6.75.\n",
      "  ScaperWarning)\n",
      "/home/js7561/dev/scaper/scaper/core.py:1112: ScaperWarning: gun_shot event duration (3.84) is greater that source duration (0.43), changing to 0.43\n",
      "  ScaperWarning)\n"
     ]
    },
    {
     "name": "stdout",
     "output_type": "stream",
     "text": [
      "Generating soundscape: 313/667\n"
     ]
    },
    {
     "name": "stderr",
     "output_type": "stream",
     "text": [
      "/home/js7561/dev/scaper/scaper/core.py:1112: ScaperWarning: siren event duration (0.93) is greater that source duration (0.36), changing to 0.36\n",
      "  ScaperWarning)\n",
      "/home/js7561/dev/scaper/scaper/core.py:1112: ScaperWarning: jackhammer event duration (1.49) is greater that source duration (0.81), changing to 0.81\n",
      "  ScaperWarning)\n"
     ]
    },
    {
     "name": "stdout",
     "output_type": "stream",
     "text": [
      "Generating soundscape: 314/667\n"
     ]
    },
    {
     "name": "stderr",
     "output_type": "stream",
     "text": [
      "/home/js7561/dev/scaper/scaper/core.py:1112: ScaperWarning: dog_bark event duration (3.17) is greater that source duration (0.92), changing to 0.92\n",
      "  ScaperWarning)\n"
     ]
    },
    {
     "name": "stdout",
     "output_type": "stream",
     "text": [
      "Generating soundscape: 315/667\n",
      "Generating soundscape: 316/667\n",
      "Generating soundscape: 317/667\n"
     ]
    },
    {
     "name": "stderr",
     "output_type": "stream",
     "text": [
      "/home/js7561/dev/scaper/scaper/core.py:1112: ScaperWarning: car_horn event duration (2.79) is greater that source duration (1.75), changing to 1.75\n",
      "  ScaperWarning)\n"
     ]
    },
    {
     "name": "stdout",
     "output_type": "stream",
     "text": [
      "Generating soundscape: 318/667\n",
      "Generating soundscape: 319/667\n"
     ]
    },
    {
     "name": "stderr",
     "output_type": "stream",
     "text": [
      "/home/js7561/dev/scaper/scaper/core.py:1112: ScaperWarning: gun_shot event duration (3.65) is greater that source duration (2.07), changing to 2.07\n",
      "  ScaperWarning)\n",
      "/home/js7561/dev/scaper/scaper/core.py:1199: ScaperWarning: dog_bark event time (7.52) is too great given stretched event duration (2.86) and soundscape duration (10.00), changed to 7.14.\n",
      "  ScaperWarning)\n"
     ]
    },
    {
     "name": "stdout",
     "output_type": "stream",
     "text": [
      "Generating soundscape: 320/667\n"
     ]
    },
    {
     "name": "stderr",
     "output_type": "stream",
     "text": [
      "/home/js7561/dev/scaper/scaper/core.py:1112: ScaperWarning: car_horn event duration (3.71) is greater that source duration (0.58), changing to 0.58\n",
      "  ScaperWarning)\n"
     ]
    },
    {
     "name": "stdout",
     "output_type": "stream",
     "text": [
      "Generating soundscape: 321/667\n"
     ]
    },
    {
     "name": "stderr",
     "output_type": "stream",
     "text": [
      "/home/js7561/dev/scaper/scaper/core.py:1112: ScaperWarning: dog_bark event duration (2.61) is greater that source duration (0.80), changing to 0.80\n",
      "  ScaperWarning)\n",
      "/home/js7561/dev/scaper/scaper/core.py:1199: ScaperWarning: siren event time (6.83) is too great given stretched event duration (3.58) and soundscape duration (10.00), changed to 6.42.\n",
      "  ScaperWarning)\n"
     ]
    },
    {
     "name": "stdout",
     "output_type": "stream",
     "text": [
      "Generating soundscape: 322/667\n"
     ]
    },
    {
     "name": "stderr",
     "output_type": "stream",
     "text": [
      "/home/js7561/dev/scaper/scaper/core.py:1112: ScaperWarning: car_horn event duration (1.69) is greater that source duration (0.64), changing to 0.64\n",
      "  ScaperWarning)\n"
     ]
    },
    {
     "name": "stdout",
     "output_type": "stream",
     "text": [
      "Generating soundscape: 323/667\n",
      "Generating soundscape: 324/667\n"
     ]
    },
    {
     "name": "stderr",
     "output_type": "stream",
     "text": [
      "/home/js7561/dev/scaper/scaper/core.py:1112: ScaperWarning: car_horn event duration (3.10) is greater that source duration (0.83), changing to 0.83\n",
      "  ScaperWarning)\n"
     ]
    },
    {
     "name": "stdout",
     "output_type": "stream",
     "text": [
      "Generating soundscape: 325/667\n",
      "Generating soundscape: 326/667\n"
     ]
    },
    {
     "name": "stderr",
     "output_type": "stream",
     "text": [
      "/home/js7561/dev/scaper/scaper/core.py:1112: ScaperWarning: gun_shot event duration (2.90) is greater that source duration (1.74), changing to 1.74\n",
      "  ScaperWarning)\n"
     ]
    },
    {
     "name": "stdout",
     "output_type": "stream",
     "text": [
      "Generating soundscape: 327/667\n"
     ]
    },
    {
     "name": "stderr",
     "output_type": "stream",
     "text": [
      "/home/js7561/dev/scaper/scaper/core.py:1199: ScaperWarning: children_playing event time (9.09) is too great given stretched event duration (3.70) and soundscape duration (10.00), changed to 6.30.\n",
      "  ScaperWarning)\n"
     ]
    },
    {
     "name": "stdout",
     "output_type": "stream",
     "text": [
      "Generating soundscape: 328/667\n",
      "Generating soundscape: 329/667\n"
     ]
    },
    {
     "name": "stderr",
     "output_type": "stream",
     "text": [
      "/home/js7561/dev/scaper/scaper/core.py:1112: ScaperWarning: gun_shot event duration (3.81) is greater that source duration (3.02), changing to 3.02\n",
      "  ScaperWarning)\n",
      "/home/js7561/dev/scaper/scaper/core.py:1199: ScaperWarning: street_music event time (6.87) is too great given stretched event duration (3.36) and soundscape duration (10.00), changed to 6.64.\n",
      "  ScaperWarning)\n",
      "/home/js7561/dev/scaper/scaper/core.py:1112: ScaperWarning: gun_shot event duration (0.59) is greater that source duration (0.30), changing to 0.30\n",
      "  ScaperWarning)\n",
      "/home/js7561/dev/scaper/scaper/core.py:1112: ScaperWarning: car_horn event duration (1.96) is greater that source duration (1.11), changing to 1.11\n",
      "  ScaperWarning)\n"
     ]
    },
    {
     "name": "stdout",
     "output_type": "stream",
     "text": [
      "Generating soundscape: 330/667\n",
      "Generating soundscape: 331/667\n"
     ]
    },
    {
     "name": "stderr",
     "output_type": "stream",
     "text": [
      "/home/js7561/dev/scaper/scaper/core.py:1112: ScaperWarning: car_horn event duration (3.64) is greater that source duration (0.85), changing to 0.85\n",
      "  ScaperWarning)\n",
      "/home/js7561/dev/scaper/scaper/core.py:1199: ScaperWarning: street_music event time (7.73) is too great given stretched event duration (3.50) and soundscape duration (10.00), changed to 6.50.\n",
      "  ScaperWarning)\n"
     ]
    },
    {
     "name": "stdout",
     "output_type": "stream",
     "text": [
      "Generating soundscape: 332/667\n"
     ]
    },
    {
     "name": "stderr",
     "output_type": "stream",
     "text": [
      "/home/js7561/dev/scaper/scaper/core.py:1199: ScaperWarning: street_music event time (6.94) is too great given stretched event duration (4.22) and soundscape duration (10.00), changed to 5.78.\n",
      "  ScaperWarning)\n",
      "/home/js7561/dev/scaper/scaper/core.py:1112: ScaperWarning: gun_shot event duration (1.40) is greater that source duration (0.63), changing to 0.63\n",
      "  ScaperWarning)\n"
     ]
    },
    {
     "name": "stdout",
     "output_type": "stream",
     "text": [
      "Generating soundscape: 333/667\n"
     ]
    },
    {
     "name": "stderr",
     "output_type": "stream",
     "text": [
      "/home/js7561/dev/scaper/scaper/core.py:1112: ScaperWarning: jackhammer event duration (1.31) is greater that source duration (1.28), changing to 1.28\n",
      "  ScaperWarning)\n",
      "/home/js7561/dev/scaper/scaper/core.py:1112: ScaperWarning: car_horn event duration (3.74) is greater that source duration (2.53), changing to 2.53\n",
      "  ScaperWarning)\n",
      "/home/js7561/dev/scaper/scaper/core.py:1199: ScaperWarning: street_music event time (9.22) is too great given stretched event duration (1.76) and soundscape duration (10.00), changed to 8.24.\n",
      "  ScaperWarning)\n"
     ]
    },
    {
     "name": "stdout",
     "output_type": "stream",
     "text": [
      "Generating soundscape: 334/667\n",
      "Generating soundscape: 335/667\n"
     ]
    },
    {
     "name": "stderr",
     "output_type": "stream",
     "text": [
      "/home/js7561/dev/scaper/scaper/core.py:1112: ScaperWarning: car_horn event duration (3.84) is greater that source duration (1.10), changing to 1.10\n",
      "  ScaperWarning)\n"
     ]
    },
    {
     "name": "stdout",
     "output_type": "stream",
     "text": [
      "Generating soundscape: 336/667\n"
     ]
    },
    {
     "name": "stderr",
     "output_type": "stream",
     "text": [
      "/home/js7561/dev/scaper/scaper/core.py:1112: ScaperWarning: dog_bark event duration (1.26) is greater that source duration (0.79), changing to 0.79\n",
      "  ScaperWarning)\n",
      "/home/js7561/dev/scaper/scaper/core.py:1199: ScaperWarning: siren event time (6.82) is too great given stretched event duration (3.46) and soundscape duration (10.00), changed to 6.54.\n",
      "  ScaperWarning)\n",
      "/home/js7561/dev/scaper/scaper/core.py:1112: ScaperWarning: gun_shot event duration (2.73) is greater that source duration (1.60), changing to 1.60\n",
      "  ScaperWarning)\n"
     ]
    },
    {
     "name": "stdout",
     "output_type": "stream",
     "text": [
      "Generating soundscape: 337/667\n",
      "Generating soundscape: 338/667\n",
      "Generating soundscape: 339/667\n"
     ]
    },
    {
     "name": "stderr",
     "output_type": "stream",
     "text": [
      "/home/js7561/dev/scaper/scaper/core.py:1112: ScaperWarning: jackhammer event duration (2.33) is greater that source duration (2.21), changing to 2.21\n",
      "  ScaperWarning)\n",
      "/home/js7561/dev/scaper/scaper/core.py:1199: ScaperWarning: jackhammer event time (7.47) is too great given stretched event duration (2.79) and soundscape duration (10.00), changed to 7.21.\n",
      "  ScaperWarning)\n"
     ]
    },
    {
     "name": "stdout",
     "output_type": "stream",
     "text": [
      "Generating soundscape: 340/667\n"
     ]
    },
    {
     "name": "stderr",
     "output_type": "stream",
     "text": [
      "/home/js7561/dev/scaper/scaper/core.py:1199: ScaperWarning: air_conditioner event time (6.75) is too great given stretched event duration (3.36) and soundscape duration (10.00), changed to 6.64.\n",
      "  ScaperWarning)\n"
     ]
    },
    {
     "name": "stdout",
     "output_type": "stream",
     "text": [
      "Generating soundscape: 341/667\n"
     ]
    },
    {
     "name": "stderr",
     "output_type": "stream",
     "text": [
      "/home/js7561/dev/scaper/scaper/core.py:1112: ScaperWarning: gun_shot event duration (3.94) is greater that source duration (1.28), changing to 1.28\n",
      "  ScaperWarning)\n",
      "/home/js7561/dev/scaper/scaper/core.py:1112: ScaperWarning: gun_shot event duration (3.00) is greater that source duration (0.31), changing to 0.31\n",
      "  ScaperWarning)\n",
      "/home/js7561/dev/scaper/scaper/core.py:1199: ScaperWarning: children_playing event time (9.21) is too great given stretched event duration (2.06) and soundscape duration (10.00), changed to 7.94.\n",
      "  ScaperWarning)\n",
      "/home/js7561/dev/scaper/scaper/core.py:1112: ScaperWarning: dog_bark event duration (1.19) is greater that source duration (0.50), changing to 0.50\n",
      "  ScaperWarning)\n"
     ]
    },
    {
     "name": "stdout",
     "output_type": "stream",
     "text": [
      "Generating soundscape: 342/667\n",
      "Generating soundscape: 343/667\n"
     ]
    },
    {
     "name": "stderr",
     "output_type": "stream",
     "text": [
      "/home/js7561/dev/scaper/scaper/core.py:1199: ScaperWarning: jackhammer event time (7.29) is too great given stretched event duration (3.07) and soundscape duration (10.00), changed to 6.93.\n",
      "  ScaperWarning)\n"
     ]
    },
    {
     "name": "stdout",
     "output_type": "stream",
     "text": [
      "Generating soundscape: 344/667\n",
      "Generating soundscape: 345/667\n"
     ]
    },
    {
     "name": "stderr",
     "output_type": "stream",
     "text": [
      "/home/js7561/dev/scaper/scaper/core.py:1112: ScaperWarning: car_horn event duration (3.33) is greater that source duration (2.14), changing to 2.14\n",
      "  ScaperWarning)\n"
     ]
    },
    {
     "name": "stdout",
     "output_type": "stream",
     "text": [
      "Generating soundscape: 346/667\n"
     ]
    },
    {
     "name": "stderr",
     "output_type": "stream",
     "text": [
      "/home/js7561/dev/scaper/scaper/core.py:1112: ScaperWarning: gun_shot event duration (2.34) is greater that source duration (0.79), changing to 0.79\n",
      "  ScaperWarning)\n",
      "/home/js7561/dev/scaper/scaper/core.py:1112: ScaperWarning: gun_shot event duration (2.69) is greater that source duration (2.63), changing to 2.63\n",
      "  ScaperWarning)\n",
      "/home/js7561/dev/scaper/scaper/core.py:1112: ScaperWarning: car_horn event duration (2.60) is greater that source duration (0.64), changing to 0.64\n",
      "  ScaperWarning)\n"
     ]
    },
    {
     "name": "stdout",
     "output_type": "stream",
     "text": [
      "Generating soundscape: 347/667\n"
     ]
    },
    {
     "name": "stderr",
     "output_type": "stream",
     "text": [
      "/home/js7561/dev/scaper/scaper/core.py:1112: ScaperWarning: gun_shot event duration (1.38) is greater that source duration (0.75), changing to 0.75\n",
      "  ScaperWarning)\n",
      "/home/js7561/dev/scaper/scaper/core.py:1112: ScaperWarning: car_horn event duration (1.77) is greater that source duration (0.58), changing to 0.58\n",
      "  ScaperWarning)\n"
     ]
    },
    {
     "name": "stdout",
     "output_type": "stream",
     "text": [
      "Generating soundscape: 348/667\n"
     ]
    },
    {
     "name": "stderr",
     "output_type": "stream",
     "text": [
      "/home/js7561/dev/scaper/scaper/core.py:1112: ScaperWarning: car_horn event duration (3.63) is greater that source duration (0.87), changing to 0.87\n",
      "  ScaperWarning)\n"
     ]
    },
    {
     "name": "stdout",
     "output_type": "stream",
     "text": [
      "Generating soundscape: 349/667\n"
     ]
    },
    {
     "name": "stderr",
     "output_type": "stream",
     "text": [
      "/home/js7561/dev/scaper/scaper/core.py:1112: ScaperWarning: gun_shot event duration (3.42) is greater that source duration (2.63), changing to 2.63\n",
      "  ScaperWarning)\n",
      "/home/js7561/dev/scaper/scaper/core.py:1112: ScaperWarning: gun_shot event duration (3.82) is greater that source duration (2.56), changing to 2.56\n",
      "  ScaperWarning)\n",
      "/home/js7561/dev/scaper/scaper/core.py:1199: ScaperWarning: engine_idling event time (9.63) is too great given stretched event duration (3.67) and soundscape duration (10.00), changed to 6.33.\n",
      "  ScaperWarning)\n",
      "/home/js7561/dev/scaper/scaper/core.py:1112: ScaperWarning: car_horn event duration (1.13) is greater that source duration (0.32), changing to 0.32\n",
      "  ScaperWarning)\n"
     ]
    },
    {
     "name": "stdout",
     "output_type": "stream",
     "text": [
      "Generating soundscape: 350/667\n"
     ]
    },
    {
     "name": "stderr",
     "output_type": "stream",
     "text": [
      "/home/js7561/dev/scaper/scaper/core.py:1199: ScaperWarning: engine_idling event time (5.94) is too great given stretched event duration (4.14) and soundscape duration (10.00), changed to 5.86.\n",
      "  ScaperWarning)\n"
     ]
    },
    {
     "name": "stdout",
     "output_type": "stream",
     "text": [
      "Generating soundscape: 351/667\n"
     ]
    },
    {
     "name": "stderr",
     "output_type": "stream",
     "text": [
      "/home/js7561/dev/scaper/scaper/core.py:1112: ScaperWarning: car_horn event duration (2.53) is greater that source duration (0.42), changing to 0.42\n",
      "  ScaperWarning)\n",
      "/home/js7561/dev/scaper/scaper/core.py:1199: ScaperWarning: children_playing event time (7.53) is too great given stretched event duration (3.64) and soundscape duration (10.00), changed to 6.36.\n",
      "  ScaperWarning)\n"
     ]
    },
    {
     "name": "stdout",
     "output_type": "stream",
     "text": [
      "Generating soundscape: 352/667\n",
      "Generating soundscape: 353/667\n"
     ]
    },
    {
     "name": "stderr",
     "output_type": "stream",
     "text": [
      "/home/js7561/dev/scaper/scaper/core.py:1199: ScaperWarning: street_music event time (7.83) is too great given stretched event duration (3.35) and soundscape duration (10.00), changed to 6.65.\n",
      "  ScaperWarning)\n"
     ]
    },
    {
     "name": "stdout",
     "output_type": "stream",
     "text": [
      "Generating soundscape: 354/667\n"
     ]
    },
    {
     "name": "stderr",
     "output_type": "stream",
     "text": [
      "/home/js7561/dev/scaper/scaper/core.py:1112: ScaperWarning: jackhammer event duration (2.10) is greater that source duration (2.07), changing to 2.07\n",
      "  ScaperWarning)\n",
      "/home/js7561/dev/scaper/scaper/core.py:1112: ScaperWarning: car_horn event duration (2.74) is greater that source duration (0.42), changing to 0.42\n",
      "  ScaperWarning)\n"
     ]
    },
    {
     "name": "stdout",
     "output_type": "stream",
     "text": [
      "Generating soundscape: 355/667\n"
     ]
    },
    {
     "name": "stderr",
     "output_type": "stream",
     "text": [
      "/home/js7561/dev/scaper/scaper/core.py:1112: ScaperWarning: drilling event duration (3.47) is greater that source duration (1.54), changing to 1.54\n",
      "  ScaperWarning)\n",
      "/home/js7561/dev/scaper/scaper/core.py:1199: ScaperWarning: children_playing event time (9.28) is too great given stretched event duration (2.22) and soundscape duration (10.00), changed to 7.78.\n",
      "  ScaperWarning)\n",
      "/home/js7561/dev/scaper/scaper/core.py:1112: ScaperWarning: jackhammer event duration (2.41) is greater that source duration (1.28), changing to 1.28\n",
      "  ScaperWarning)\n",
      "/home/js7561/dev/scaper/scaper/core.py:1112: ScaperWarning: gun_shot event duration (1.02) is greater that source duration (0.46), changing to 0.46\n",
      "  ScaperWarning)\n",
      "/home/js7561/dev/scaper/scaper/core.py:1112: ScaperWarning: engine_idling event duration (0.91) is greater that source duration (0.79), changing to 0.79\n",
      "  ScaperWarning)\n"
     ]
    },
    {
     "name": "stdout",
     "output_type": "stream",
     "text": [
      "Generating soundscape: 356/667\n"
     ]
    },
    {
     "name": "stderr",
     "output_type": "stream",
     "text": [
      "/home/js7561/dev/scaper/scaper/core.py:1199: ScaperWarning: gun_shot event time (9.93) is too great given stretched event duration (1.29) and soundscape duration (10.00), changed to 8.71.\n",
      "  ScaperWarning)\n"
     ]
    },
    {
     "name": "stdout",
     "output_type": "stream",
     "text": [
      "Generating soundscape: 357/667\n"
     ]
    },
    {
     "name": "stderr",
     "output_type": "stream",
     "text": [
      "/home/js7561/dev/scaper/scaper/core.py:1199: ScaperWarning: street_music event time (6.39) is too great given stretched event duration (3.83) and soundscape duration (10.00), changed to 6.17.\n",
      "  ScaperWarning)\n",
      "/home/js7561/dev/scaper/scaper/core.py:1112: ScaperWarning: gun_shot event duration (2.44) is greater that source duration (0.95), changing to 0.95\n",
      "  ScaperWarning)\n",
      "/home/js7561/dev/scaper/scaper/core.py:1112: ScaperWarning: dog_bark event duration (1.56) is greater that source duration (1.00), changing to 1.00\n",
      "  ScaperWarning)\n",
      "/home/js7561/dev/scaper/scaper/core.py:1199: ScaperWarning: dog_bark event time (9.33) is too great given stretched event duration (1.00) and soundscape duration (10.00), changed to 9.00.\n",
      "  ScaperWarning)\n"
     ]
    },
    {
     "name": "stdout",
     "output_type": "stream",
     "text": [
      "Generating soundscape: 358/667\n"
     ]
    },
    {
     "name": "stderr",
     "output_type": "stream",
     "text": [
      "/home/js7561/dev/scaper/scaper/core.py:1112: ScaperWarning: gun_shot event duration (3.07) is greater that source duration (1.74), changing to 1.74\n",
      "  ScaperWarning)\n",
      "/home/js7561/dev/scaper/scaper/core.py:1112: ScaperWarning: gun_shot event duration (2.15) is greater that source duration (0.65), changing to 0.65\n",
      "  ScaperWarning)\n"
     ]
    },
    {
     "name": "stdout",
     "output_type": "stream",
     "text": [
      "Generating soundscape: 359/667\n"
     ]
    },
    {
     "name": "stderr",
     "output_type": "stream",
     "text": [
      "/home/js7561/dev/scaper/scaper/core.py:1112: ScaperWarning: car_horn event duration (1.72) is greater that source duration (0.42), changing to 0.42\n",
      "  ScaperWarning)\n"
     ]
    },
    {
     "name": "stdout",
     "output_type": "stream",
     "text": [
      "Generating soundscape: 360/667\n"
     ]
    },
    {
     "name": "stderr",
     "output_type": "stream",
     "text": [
      "/home/js7561/dev/scaper/scaper/core.py:1199: ScaperWarning: dog_bark event time (6.01) is too great given stretched event duration (4.29) and soundscape duration (10.00), changed to 5.71.\n",
      "  ScaperWarning)\n",
      "/home/js7561/dev/scaper/scaper/core.py:1112: ScaperWarning: car_horn event duration (2.24) is greater that source duration (1.13), changing to 1.13\n",
      "  ScaperWarning)\n"
     ]
    },
    {
     "name": "stdout",
     "output_type": "stream",
     "text": [
      "Generating soundscape: 361/667\n"
     ]
    },
    {
     "name": "stderr",
     "output_type": "stream",
     "text": [
      "/home/js7561/dev/scaper/scaper/core.py:1112: ScaperWarning: car_horn event duration (2.11) is greater that source duration (1.43), changing to 1.43\n",
      "  ScaperWarning)\n",
      "/home/js7561/dev/scaper/scaper/core.py:1112: ScaperWarning: car_horn event duration (3.45) is greater that source duration (0.86), changing to 0.86\n",
      "  ScaperWarning)\n"
     ]
    },
    {
     "name": "stdout",
     "output_type": "stream",
     "text": [
      "Generating soundscape: 362/667\n"
     ]
    },
    {
     "name": "stderr",
     "output_type": "stream",
     "text": [
      "/home/js7561/dev/scaper/scaper/core.py:1112: ScaperWarning: dog_bark event duration (3.40) is greater that source duration (0.80), changing to 0.80\n",
      "  ScaperWarning)\n"
     ]
    },
    {
     "name": "stdout",
     "output_type": "stream",
     "text": [
      "Generating soundscape: 363/667\n"
     ]
    },
    {
     "name": "stderr",
     "output_type": "stream",
     "text": [
      "/home/js7561/dev/scaper/scaper/core.py:1112: ScaperWarning: car_horn event duration (3.72) is greater that source duration (1.75), changing to 1.75\n",
      "  ScaperWarning)\n"
     ]
    },
    {
     "name": "stdout",
     "output_type": "stream",
     "text": [
      "Generating soundscape: 364/667\n"
     ]
    },
    {
     "name": "stderr",
     "output_type": "stream",
     "text": [
      "/home/js7561/dev/scaper/scaper/core.py:1112: ScaperWarning: gun_shot event duration (2.79) is greater that source duration (1.90), changing to 1.90\n",
      "  ScaperWarning)\n",
      "/home/js7561/dev/scaper/scaper/core.py:1199: ScaperWarning: children_playing event time (7.07) is too great given stretched event duration (3.77) and soundscape duration (10.00), changed to 6.23.\n",
      "  ScaperWarning)\n",
      "/home/js7561/dev/scaper/scaper/core.py:1199: ScaperWarning: drilling event time (8.02) is too great given stretched event duration (3.88) and soundscape duration (10.00), changed to 6.12.\n",
      "  ScaperWarning)\n"
     ]
    },
    {
     "name": "stdout",
     "output_type": "stream",
     "text": [
      "Generating soundscape: 365/667\n"
     ]
    },
    {
     "name": "stderr",
     "output_type": "stream",
     "text": [
      "/home/js7561/dev/scaper/scaper/core.py:1112: ScaperWarning: car_horn event duration (2.96) is greater that source duration (1.75), changing to 1.75\n",
      "  ScaperWarning)\n",
      "/home/js7561/dev/scaper/scaper/core.py:1112: ScaperWarning: dog_bark event duration (3.39) is greater that source duration (0.60), changing to 0.60\n",
      "  ScaperWarning)\n",
      "/home/js7561/dev/scaper/scaper/core.py:1199: ScaperWarning: dog_bark event time (8.52) is too great given stretched event duration (3.46) and soundscape duration (10.00), changed to 6.54.\n",
      "  ScaperWarning)\n"
     ]
    },
    {
     "name": "stdout",
     "output_type": "stream",
     "text": [
      "Generating soundscape: 366/667\n"
     ]
    },
    {
     "name": "stderr",
     "output_type": "stream",
     "text": [
      "/home/js7561/dev/scaper/scaper/core.py:1112: ScaperWarning: dog_bark event duration (1.53) is greater that source duration (0.92), changing to 0.92\n",
      "  ScaperWarning)\n"
     ]
    },
    {
     "name": "stdout",
     "output_type": "stream",
     "text": [
      "Generating soundscape: 367/667\n"
     ]
    },
    {
     "name": "stderr",
     "output_type": "stream",
     "text": [
      "/home/js7561/dev/scaper/scaper/core.py:1199: ScaperWarning: siren event time (8.18) is too great given stretched event duration (2.73) and soundscape duration (10.00), changed to 7.27.\n",
      "  ScaperWarning)\n"
     ]
    },
    {
     "name": "stdout",
     "output_type": "stream",
     "text": [
      "Generating soundscape: 368/667\n",
      "Generating soundscape: 369/667\n"
     ]
    },
    {
     "name": "stderr",
     "output_type": "stream",
     "text": [
      "/home/js7561/dev/scaper/scaper/core.py:1199: ScaperWarning: jackhammer event time (8.85) is too great given stretched event duration (3.62) and soundscape duration (10.00), changed to 6.38.\n",
      "  ScaperWarning)\n"
     ]
    },
    {
     "name": "stdout",
     "output_type": "stream",
     "text": [
      "Generating soundscape: 370/667\n"
     ]
    },
    {
     "name": "stderr",
     "output_type": "stream",
     "text": [
      "/home/js7561/dev/scaper/scaper/core.py:1199: ScaperWarning: drilling event time (9.44) is too great given stretched event duration (2.59) and soundscape duration (10.00), changed to 7.41.\n",
      "  ScaperWarning)\n"
     ]
    },
    {
     "name": "stdout",
     "output_type": "stream",
     "text": [
      "Generating soundscape: 371/667\n",
      "Generating soundscape: 372/667\n"
     ]
    },
    {
     "name": "stderr",
     "output_type": "stream",
     "text": [
      "/home/js7561/dev/scaper/scaper/core.py:1112: ScaperWarning: car_horn event duration (2.11) is greater that source duration (0.75), changing to 0.75\n",
      "  ScaperWarning)\n",
      "/home/js7561/dev/scaper/scaper/core.py:1199: ScaperWarning: air_conditioner event time (9.42) is too great given stretched event duration (3.70) and soundscape duration (10.00), changed to 6.30.\n",
      "  ScaperWarning)\n",
      "/home/js7561/dev/scaper/scaper/core.py:1112: ScaperWarning: gun_shot event duration (2.38) is greater that source duration (1.55), changing to 1.55\n",
      "  ScaperWarning)\n"
     ]
    },
    {
     "name": "stdout",
     "output_type": "stream",
     "text": [
      "Generating soundscape: 373/667\n",
      "Generating soundscape: 374/667\n",
      "Generating soundscape: 375/667\n"
     ]
    },
    {
     "name": "stderr",
     "output_type": "stream",
     "text": [
      "/home/js7561/dev/scaper/scaper/core.py:1112: ScaperWarning: gun_shot event duration (3.33) is greater that source duration (1.60), changing to 1.60\n",
      "  ScaperWarning)\n",
      "/home/js7561/dev/scaper/scaper/core.py:1112: ScaperWarning: gun_shot event duration (2.95) is greater that source duration (1.32), changing to 1.32\n",
      "  ScaperWarning)\n",
      "/home/js7561/dev/scaper/scaper/core.py:1112: ScaperWarning: gun_shot event duration (2.79) is greater that source duration (1.90), changing to 1.90\n",
      "  ScaperWarning)\n"
     ]
    },
    {
     "name": "stdout",
     "output_type": "stream",
     "text": [
      "Generating soundscape: 376/667\n"
     ]
    },
    {
     "name": "stderr",
     "output_type": "stream",
     "text": [
      "/home/js7561/dev/scaper/scaper/core.py:1112: ScaperWarning: jackhammer event duration (2.61) is greater that source duration (1.15), changing to 1.15\n",
      "  ScaperWarning)\n"
     ]
    },
    {
     "name": "stdout",
     "output_type": "stream",
     "text": [
      "Generating soundscape: 377/667\n"
     ]
    },
    {
     "name": "stderr",
     "output_type": "stream",
     "text": [
      "/home/js7561/dev/scaper/scaper/core.py:1112: ScaperWarning: jackhammer event duration (3.72) is greater that source duration (0.87), changing to 0.87\n",
      "  ScaperWarning)\n",
      "/home/js7561/dev/scaper/scaper/core.py:1112: ScaperWarning: car_horn event duration (1.84) is greater that source duration (0.60), changing to 0.60\n",
      "  ScaperWarning)\n"
     ]
    },
    {
     "name": "stdout",
     "output_type": "stream",
     "text": [
      "Generating soundscape: 378/667\n"
     ]
    },
    {
     "name": "stderr",
     "output_type": "stream",
     "text": [
      "/home/js7561/dev/scaper/scaper/core.py:1199: ScaperWarning: engine_idling event time (8.24) is too great given stretched event duration (2.42) and soundscape duration (10.00), changed to 7.58.\n",
      "  ScaperWarning)\n",
      "/home/js7561/dev/scaper/scaper/core.py:1199: ScaperWarning: children_playing event time (7.53) is too great given stretched event duration (2.79) and soundscape duration (10.00), changed to 7.21.\n",
      "  ScaperWarning)\n",
      "/home/js7561/dev/scaper/scaper/core.py:1112: ScaperWarning: car_horn event duration (3.99) is greater that source duration (0.87), changing to 0.87\n",
      "  ScaperWarning)\n"
     ]
    },
    {
     "name": "stdout",
     "output_type": "stream",
     "text": [
      "Generating soundscape: 379/667\n"
     ]
    },
    {
     "name": "stderr",
     "output_type": "stream",
     "text": [
      "/home/js7561/dev/scaper/scaper/core.py:1199: ScaperWarning: children_playing event time (8.81) is too great given stretched event duration (3.49) and soundscape duration (10.00), changed to 6.51.\n",
      "  ScaperWarning)\n",
      "/home/js7561/dev/scaper/scaper/core.py:1199: ScaperWarning: jackhammer event time (7.31) is too great given stretched event duration (2.70) and soundscape duration (10.00), changed to 7.30.\n",
      "  ScaperWarning)\n",
      "/home/js7561/dev/scaper/scaper/core.py:1199: ScaperWarning: engine_idling event time (6.74) is too great given stretched event duration (3.46) and soundscape duration (10.00), changed to 6.54.\n",
      "  ScaperWarning)\n"
     ]
    },
    {
     "name": "stdout",
     "output_type": "stream",
     "text": [
      "Generating soundscape: 380/667\n"
     ]
    },
    {
     "name": "stderr",
     "output_type": "stream",
     "text": [
      "/home/js7561/dev/scaper/scaper/core.py:1112: ScaperWarning: car_horn event duration (0.69) is greater that source duration (0.46), changing to 0.46\n",
      "  ScaperWarning)\n",
      "/home/js7561/dev/scaper/scaper/core.py:1112: ScaperWarning: car_horn event duration (1.42) is greater that source duration (1.16), changing to 1.16\n",
      "  ScaperWarning)\n"
     ]
    },
    {
     "name": "stdout",
     "output_type": "stream",
     "text": [
      "Generating soundscape: 381/667\n",
      "Generating soundscape: 382/667\n"
     ]
    },
    {
     "name": "stderr",
     "output_type": "stream",
     "text": [
      "/home/js7561/dev/scaper/scaper/core.py:1199: ScaperWarning: dog_bark event time (6.42) is too great given stretched event duration (4.33) and soundscape duration (10.00), changed to 5.67.\n",
      "  ScaperWarning)\n",
      "/home/js7561/dev/scaper/scaper/core.py:1199: ScaperWarning: air_conditioner event time (7.86) is too great given stretched event duration (2.38) and soundscape duration (10.00), changed to 7.62.\n",
      "  ScaperWarning)\n",
      "/home/js7561/dev/scaper/scaper/core.py:1112: ScaperWarning: gun_shot event duration (2.70) is greater that source duration (2.55), changing to 2.55\n",
      "  ScaperWarning)\n"
     ]
    },
    {
     "name": "stdout",
     "output_type": "stream",
     "text": [
      "Generating soundscape: 383/667\n"
     ]
    },
    {
     "name": "stderr",
     "output_type": "stream",
     "text": [
      "/home/js7561/dev/scaper/scaper/core.py:1112: ScaperWarning: car_horn event duration (3.00) is greater that source duration (0.58), changing to 0.58\n",
      "  ScaperWarning)\n",
      "/home/js7561/dev/scaper/scaper/core.py:1112: ScaperWarning: gun_shot event duration (2.19) is greater that source duration (1.89), changing to 1.89\n",
      "  ScaperWarning)\n",
      "/home/js7561/dev/scaper/scaper/core.py:1112: ScaperWarning: car_horn event duration (1.63) is greater that source duration (1.13), changing to 1.13\n",
      "  ScaperWarning)\n",
      "/home/js7561/dev/scaper/scaper/core.py:1199: ScaperWarning: drilling event time (7.43) is too great given stretched event duration (2.63) and soundscape duration (10.00), changed to 7.37.\n",
      "  ScaperWarning)\n"
     ]
    },
    {
     "name": "stdout",
     "output_type": "stream",
     "text": [
      "Generating soundscape: 384/667\n",
      "Generating soundscape: 385/667\n",
      "Generating soundscape: 386/667\n"
     ]
    },
    {
     "name": "stderr",
     "output_type": "stream",
     "text": [
      "/home/js7561/dev/scaper/scaper/core.py:1199: ScaperWarning: jackhammer event time (7.74) is too great given stretched event duration (2.50) and soundscape duration (10.00), changed to 7.50.\n",
      "  ScaperWarning)\n"
     ]
    },
    {
     "name": "stdout",
     "output_type": "stream",
     "text": [
      "Generating soundscape: 387/667\n"
     ]
    },
    {
     "name": "stderr",
     "output_type": "stream",
     "text": [
      "/home/js7561/dev/scaper/scaper/core.py:1112: ScaperWarning: gun_shot event duration (2.17) is greater that source duration (0.29), changing to 0.29\n",
      "  ScaperWarning)\n",
      "/home/js7561/dev/scaper/scaper/core.py:1112: ScaperWarning: car_horn event duration (3.13) is greater that source duration (2.53), changing to 2.53\n",
      "  ScaperWarning)\n"
     ]
    },
    {
     "name": "stdout",
     "output_type": "stream",
     "text": [
      "Generating soundscape: 388/667\n"
     ]
    },
    {
     "name": "stderr",
     "output_type": "stream",
     "text": [
      "/home/js7561/dev/scaper/scaper/core.py:1112: ScaperWarning: gun_shot event duration (2.67) is greater that source duration (1.44), changing to 1.44\n",
      "  ScaperWarning)\n"
     ]
    },
    {
     "name": "stdout",
     "output_type": "stream",
     "text": [
      "Generating soundscape: 389/667\n"
     ]
    },
    {
     "name": "stderr",
     "output_type": "stream",
     "text": [
      "/home/js7561/dev/scaper/scaper/core.py:1199: ScaperWarning: dog_bark event time (6.14) is too great given stretched event duration (4.14) and soundscape duration (10.00), changed to 5.86.\n",
      "  ScaperWarning)\n",
      "/home/js7561/dev/scaper/scaper/core.py:1112: ScaperWarning: car_horn event duration (3.43) is greater that source duration (0.60), changing to 0.60\n",
      "  ScaperWarning)\n"
     ]
    },
    {
     "name": "stdout",
     "output_type": "stream",
     "text": [
      "Generating soundscape: 390/667\n",
      "Generating soundscape: 391/667\n",
      "Generating soundscape: 392/667\n",
      "Generating soundscape: 393/667\n"
     ]
    },
    {
     "name": "stderr",
     "output_type": "stream",
     "text": [
      "/home/js7561/dev/scaper/scaper/core.py:1112: ScaperWarning: car_horn event duration (3.20) is greater that source duration (1.10), changing to 1.10\n",
      "  ScaperWarning)\n"
     ]
    },
    {
     "name": "stdout",
     "output_type": "stream",
     "text": [
      "Generating soundscape: 394/667\n"
     ]
    },
    {
     "name": "stderr",
     "output_type": "stream",
     "text": [
      "/home/js7561/dev/scaper/scaper/core.py:1112: ScaperWarning: gun_shot event duration (0.64) is greater that source duration (0.54), changing to 0.54\n",
      "  ScaperWarning)\n",
      "/home/js7561/dev/scaper/scaper/core.py:1199: ScaperWarning: street_music event time (9.70) is too great given stretched event duration (2.70) and soundscape duration (10.00), changed to 7.30.\n",
      "  ScaperWarning)\n"
     ]
    },
    {
     "name": "stdout",
     "output_type": "stream",
     "text": [
      "Generating soundscape: 395/667\n"
     ]
    },
    {
     "name": "stderr",
     "output_type": "stream",
     "text": [
      "/home/js7561/dev/scaper/scaper/core.py:1112: ScaperWarning: dog_bark event duration (2.64) is greater that source duration (0.69), changing to 0.69\n",
      "  ScaperWarning)\n",
      "/home/js7561/dev/scaper/scaper/core.py:1112: ScaperWarning: gun_shot event duration (3.51) is greater that source duration (0.30), changing to 0.30\n",
      "  ScaperWarning)\n"
     ]
    },
    {
     "name": "stdout",
     "output_type": "stream",
     "text": [
      "Generating soundscape: 396/667\n"
     ]
    },
    {
     "name": "stderr",
     "output_type": "stream",
     "text": [
      "/home/js7561/dev/scaper/scaper/core.py:1199: ScaperWarning: air_conditioner event time (8.10) is too great given stretched event duration (4.05) and soundscape duration (10.00), changed to 5.95.\n",
      "  ScaperWarning)\n",
      "/home/js7561/dev/scaper/scaper/core.py:1112: ScaperWarning: gun_shot event duration (3.76) is greater that source duration (2.07), changing to 2.07\n",
      "  ScaperWarning)\n"
     ]
    },
    {
     "name": "stdout",
     "output_type": "stream",
     "text": [
      "Generating soundscape: 397/667\n",
      "Generating soundscape: 398/667\n"
     ]
    },
    {
     "name": "stderr",
     "output_type": "stream",
     "text": [
      "/home/js7561/dev/scaper/scaper/core.py:1199: ScaperWarning: dog_bark event time (8.03) is too great given stretched event duration (2.03) and soundscape duration (10.00), changed to 7.97.\n",
      "  ScaperWarning)\n",
      "/home/js7561/dev/scaper/scaper/core.py:1199: ScaperWarning: jackhammer event time (7.95) is too great given stretched event duration (2.71) and soundscape duration (10.00), changed to 7.29.\n",
      "  ScaperWarning)\n"
     ]
    },
    {
     "name": "stdout",
     "output_type": "stream",
     "text": [
      "Generating soundscape: 399/667\n"
     ]
    },
    {
     "name": "stderr",
     "output_type": "stream",
     "text": [
      "/home/js7561/dev/scaper/scaper/core.py:1199: ScaperWarning: children_playing event time (6.32) is too great given stretched event duration (4.25) and soundscape duration (10.00), changed to 5.75.\n",
      "  ScaperWarning)\n",
      "/home/js7561/dev/scaper/scaper/core.py:1112: ScaperWarning: car_horn event duration (1.44) is greater that source duration (0.60), changing to 0.60\n",
      "  ScaperWarning)\n"
     ]
    },
    {
     "name": "stdout",
     "output_type": "stream",
     "text": [
      "Generating soundscape: 400/667\n"
     ]
    },
    {
     "name": "stderr",
     "output_type": "stream",
     "text": [
      "/home/js7561/dev/scaper/scaper/core.py:1112: ScaperWarning: jackhammer event duration (2.78) is greater that source duration (1.53), changing to 1.53\n",
      "  ScaperWarning)\n"
     ]
    },
    {
     "name": "stdout",
     "output_type": "stream",
     "text": [
      "Generating soundscape: 401/667\n",
      "Generating soundscape: 402/667\n"
     ]
    },
    {
     "name": "stderr",
     "output_type": "stream",
     "text": [
      "/home/js7561/dev/scaper/scaper/core.py:1112: ScaperWarning: gun_shot event duration (3.83) is greater that source duration (0.54), changing to 0.54\n",
      "  ScaperWarning)\n"
     ]
    },
    {
     "name": "stdout",
     "output_type": "stream",
     "text": [
      "Generating soundscape: 403/667\n",
      "Generating soundscape: 404/667\n"
     ]
    },
    {
     "name": "stderr",
     "output_type": "stream",
     "text": [
      "/home/js7561/dev/scaper/scaper/core.py:1112: ScaperWarning: gun_shot event duration (3.09) is greater that source duration (1.28), changing to 1.28\n",
      "  ScaperWarning)\n"
     ]
    },
    {
     "name": "stdout",
     "output_type": "stream",
     "text": [
      "Generating soundscape: 405/667\n"
     ]
    },
    {
     "name": "stderr",
     "output_type": "stream",
     "text": [
      "/home/js7561/dev/scaper/scaper/core.py:1199: ScaperWarning: children_playing event time (7.31) is too great given stretched event duration (3.37) and soundscape duration (10.00), changed to 6.63.\n",
      "  ScaperWarning)\n"
     ]
    },
    {
     "name": "stdout",
     "output_type": "stream",
     "text": [
      "Generating soundscape: 406/667\n"
     ]
    },
    {
     "name": "stderr",
     "output_type": "stream",
     "text": [
      "/home/js7561/dev/scaper/scaper/core.py:1112: ScaperWarning: gun_shot event duration (1.61) is greater that source duration (0.97), changing to 0.97\n",
      "  ScaperWarning)\n",
      "/home/js7561/dev/scaper/scaper/core.py:1112: ScaperWarning: gun_shot event duration (2.86) is greater that source duration (1.09), changing to 1.09\n",
      "  ScaperWarning)\n",
      "/home/js7561/dev/scaper/scaper/core.py:1112: ScaperWarning: jackhammer event duration (3.35) is greater that source duration (2.10), changing to 2.10\n",
      "  ScaperWarning)\n",
      "/home/js7561/dev/scaper/scaper/core.py:1199: ScaperWarning: jackhammer event time (9.37) is too great given stretched event duration (1.73) and soundscape duration (10.00), changed to 8.27.\n",
      "  ScaperWarning)\n",
      "/home/js7561/dev/scaper/scaper/core.py:1112: ScaperWarning: car_horn event duration (3.93) is greater that source duration (3.75), changing to 3.75\n",
      "  ScaperWarning)\n"
     ]
    },
    {
     "name": "stdout",
     "output_type": "stream",
     "text": [
      "Generating soundscape: 407/667\n"
     ]
    },
    {
     "name": "stderr",
     "output_type": "stream",
     "text": [
      "/home/js7561/dev/scaper/scaper/core.py:1199: ScaperWarning: air_conditioner event time (8.76) is too great given stretched event duration (3.08) and soundscape duration (10.00), changed to 6.92.\n",
      "  ScaperWarning)\n",
      "/home/js7561/dev/scaper/scaper/core.py:1112: ScaperWarning: car_horn event duration (2.93) is greater that source duration (1.67), changing to 1.67\n",
      "  ScaperWarning)\n"
     ]
    },
    {
     "name": "stdout",
     "output_type": "stream",
     "text": [
      "Generating soundscape: 408/667\n"
     ]
    },
    {
     "name": "stderr",
     "output_type": "stream",
     "text": [
      "/home/js7561/dev/scaper/scaper/core.py:1112: ScaperWarning: car_horn event duration (2.40) is greater that source duration (1.29), changing to 1.29\n",
      "  ScaperWarning)\n"
     ]
    },
    {
     "name": "stdout",
     "output_type": "stream",
     "text": [
      "Generating soundscape: 409/667\n"
     ]
    },
    {
     "name": "stderr",
     "output_type": "stream",
     "text": [
      "/home/js7561/dev/scaper/scaper/core.py:1112: ScaperWarning: car_horn event duration (2.68) is greater that source duration (2.18), changing to 2.18\n",
      "  ScaperWarning)\n"
     ]
    },
    {
     "name": "stdout",
     "output_type": "stream",
     "text": [
      "Generating soundscape: 410/667\n"
     ]
    },
    {
     "name": "stderr",
     "output_type": "stream",
     "text": [
      "/home/js7561/dev/scaper/scaper/core.py:1199: ScaperWarning: street_music event time (7.26) is too great given stretched event duration (3.76) and soundscape duration (10.00), changed to 6.24.\n",
      "  ScaperWarning)\n"
     ]
    },
    {
     "name": "stdout",
     "output_type": "stream",
     "text": [
      "Generating soundscape: 411/667\n",
      "Generating soundscape: 412/667\n"
     ]
    },
    {
     "name": "stderr",
     "output_type": "stream",
     "text": [
      "/home/js7561/dev/scaper/scaper/core.py:1199: ScaperWarning: dog_bark event time (7.71) is too great given stretched event duration (3.67) and soundscape duration (10.00), changed to 6.33.\n",
      "  ScaperWarning)\n",
      "/home/js7561/dev/scaper/scaper/core.py:1199: ScaperWarning: drilling event time (6.21) is too great given stretched event duration (4.03) and soundscape duration (10.00), changed to 5.97.\n",
      "  ScaperWarning)\n"
     ]
    },
    {
     "name": "stdout",
     "output_type": "stream",
     "text": [
      "Generating soundscape: 413/667\n"
     ]
    },
    {
     "name": "stderr",
     "output_type": "stream",
     "text": [
      "/home/js7561/dev/scaper/scaper/core.py:1112: ScaperWarning: drilling event duration (1.88) is greater that source duration (1.82), changing to 1.82\n",
      "  ScaperWarning)\n",
      "/home/js7561/dev/scaper/scaper/core.py:1199: ScaperWarning: drilling event time (9.34) is too great given stretched event duration (1.85) and soundscape duration (10.00), changed to 8.15.\n",
      "  ScaperWarning)\n",
      "/home/js7561/dev/scaper/scaper/core.py:1112: ScaperWarning: gun_shot event duration (3.31) is greater that source duration (2.19), changing to 2.19\n",
      "  ScaperWarning)\n",
      "/home/js7561/dev/scaper/scaper/core.py:1112: ScaperWarning: car_horn event duration (2.07) is greater that source duration (1.16), changing to 1.16\n",
      "  ScaperWarning)\n",
      "/home/js7561/dev/scaper/scaper/core.py:1199: ScaperWarning: street_music event time (6.72) is too great given stretched event duration (3.32) and soundscape duration (10.00), changed to 6.68.\n",
      "  ScaperWarning)\n",
      "/home/js7561/dev/scaper/scaper/core.py:1112: ScaperWarning: gun_shot event duration (1.84) is greater that source duration (1.44), changing to 1.44\n",
      "  ScaperWarning)\n",
      "/home/js7561/dev/scaper/scaper/core.py:1112: ScaperWarning: car_horn event duration (2.64) is greater that source duration (0.30), changing to 0.30\n",
      "  ScaperWarning)\n"
     ]
    },
    {
     "name": "stdout",
     "output_type": "stream",
     "text": [
      "Generating soundscape: 414/667\n"
     ]
    },
    {
     "name": "stderr",
     "output_type": "stream",
     "text": [
      "/home/js7561/dev/scaper/scaper/core.py:1112: ScaperWarning: dog_bark event duration (1.88) is greater that source duration (1.80), changing to 1.80\n",
      "  ScaperWarning)\n"
     ]
    },
    {
     "name": "stdout",
     "output_type": "stream",
     "text": [
      "Generating soundscape: 415/667\n",
      "Generating soundscape: 416/667\n"
     ]
    },
    {
     "name": "stderr",
     "output_type": "stream",
     "text": [
      "/home/js7561/dev/scaper/scaper/core.py:1112: ScaperWarning: car_horn event duration (0.93) is greater that source duration (0.32), changing to 0.32\n",
      "  ScaperWarning)\n"
     ]
    },
    {
     "name": "stdout",
     "output_type": "stream",
     "text": [
      "Generating soundscape: 417/667\n"
     ]
    },
    {
     "name": "stderr",
     "output_type": "stream",
     "text": [
      "/home/js7561/dev/scaper/scaper/core.py:1112: ScaperWarning: gun_shot event duration (3.58) is greater that source duration (2.73), changing to 2.73\n",
      "  ScaperWarning)\n"
     ]
    },
    {
     "name": "stdout",
     "output_type": "stream",
     "text": [
      "Generating soundscape: 418/667\n",
      "Generating soundscape: 419/667\n",
      "Generating soundscape: 420/667\n"
     ]
    },
    {
     "name": "stderr",
     "output_type": "stream",
     "text": [
      "/home/js7561/dev/scaper/scaper/core.py:1112: ScaperWarning: gun_shot event duration (2.68) is greater that source duration (0.51), changing to 0.51\n",
      "  ScaperWarning)\n"
     ]
    },
    {
     "name": "stdout",
     "output_type": "stream",
     "text": [
      "Generating soundscape: 421/667\n",
      "Generating soundscape: 422/667\n"
     ]
    },
    {
     "name": "stderr",
     "output_type": "stream",
     "text": [
      "/home/js7561/dev/scaper/scaper/core.py:1112: ScaperWarning: jackhammer event duration (3.16) is greater that source duration (1.35), changing to 1.35\n",
      "  ScaperWarning)\n",
      "/home/js7561/dev/scaper/scaper/core.py:1112: ScaperWarning: car_horn event duration (3.96) is greater that source duration (1.13), changing to 1.13\n",
      "  ScaperWarning)\n"
     ]
    },
    {
     "name": "stdout",
     "output_type": "stream",
     "text": [
      "Generating soundscape: 423/667\n",
      "Generating soundscape: 424/667\n"
     ]
    },
    {
     "name": "stderr",
     "output_type": "stream",
     "text": [
      "/home/js7561/dev/scaper/scaper/core.py:1112: ScaperWarning: gun_shot event duration (0.69) is greater that source duration (0.34), changing to 0.34\n",
      "  ScaperWarning)\n"
     ]
    },
    {
     "name": "stdout",
     "output_type": "stream",
     "text": [
      "Generating soundscape: 425/667\n"
     ]
    },
    {
     "name": "stderr",
     "output_type": "stream",
     "text": [
      "/home/js7561/dev/scaper/scaper/core.py:1199: ScaperWarning: jackhammer event time (6.44) is too great given stretched event duration (3.84) and soundscape duration (10.00), changed to 6.16.\n",
      "  ScaperWarning)\n"
     ]
    },
    {
     "name": "stdout",
     "output_type": "stream",
     "text": [
      "Generating soundscape: 426/667\n",
      "Generating soundscape: 427/667\n"
     ]
    },
    {
     "name": "stderr",
     "output_type": "stream",
     "text": [
      "/home/js7561/dev/scaper/scaper/core.py:1112: ScaperWarning: jackhammer event duration (1.44) is greater that source duration (0.81), changing to 0.81\n",
      "  ScaperWarning)\n",
      "/home/js7561/dev/scaper/scaper/core.py:1199: ScaperWarning: street_music event time (8.02) is too great given stretched event duration (2.95) and soundscape duration (10.00), changed to 7.05.\n",
      "  ScaperWarning)\n"
     ]
    },
    {
     "name": "stdout",
     "output_type": "stream",
     "text": [
      "Generating soundscape: 428/667\n",
      "Generating soundscape: 429/667\n",
      "Generating soundscape: 430/667\n"
     ]
    },
    {
     "name": "stderr",
     "output_type": "stream",
     "text": [
      "/home/js7561/dev/scaper/scaper/core.py:1112: ScaperWarning: car_horn event duration (3.25) is greater that source duration (0.60), changing to 0.60\n",
      "  ScaperWarning)\n"
     ]
    },
    {
     "name": "stdout",
     "output_type": "stream",
     "text": [
      "Generating soundscape: 431/667\n"
     ]
    },
    {
     "name": "stderr",
     "output_type": "stream",
     "text": [
      "/home/js7561/dev/scaper/scaper/core.py:1199: ScaperWarning: air_conditioner event time (7.53) is too great given stretched event duration (3.98) and soundscape duration (10.00), changed to 6.02.\n",
      "  ScaperWarning)\n",
      "/home/js7561/dev/scaper/scaper/core.py:1112: ScaperWarning: drilling event duration (2.53) is greater that source duration (2.41), changing to 2.41\n",
      "  ScaperWarning)\n"
     ]
    },
    {
     "name": "stdout",
     "output_type": "stream",
     "text": [
      "Generating soundscape: 432/667\n"
     ]
    },
    {
     "name": "stderr",
     "output_type": "stream",
     "text": [
      "/home/js7561/dev/scaper/scaper/core.py:1112: ScaperWarning: gun_shot event duration (3.86) is greater that source duration (1.15), changing to 1.15\n",
      "  ScaperWarning)\n"
     ]
    },
    {
     "name": "stdout",
     "output_type": "stream",
     "text": [
      "Generating soundscape: 433/667\n"
     ]
    },
    {
     "name": "stderr",
     "output_type": "stream",
     "text": [
      "/home/js7561/dev/scaper/scaper/core.py:1112: ScaperWarning: dog_bark event duration (3.17) is greater that source duration (0.50), changing to 0.50\n",
      "  ScaperWarning)\n",
      "/home/js7561/dev/scaper/scaper/core.py:1112: ScaperWarning: car_horn event duration (2.94) is greater that source duration (1.11), changing to 1.11\n",
      "  ScaperWarning)\n",
      "/home/js7561/dev/scaper/scaper/core.py:1199: ScaperWarning: jackhammer event time (9.14) is too great given stretched event duration (2.03) and soundscape duration (10.00), changed to 7.97.\n",
      "  ScaperWarning)\n",
      "/home/js7561/dev/scaper/scaper/core.py:1199: ScaperWarning: street_music event time (6.57) is too great given stretched event duration (3.89) and soundscape duration (10.00), changed to 6.11.\n",
      "  ScaperWarning)\n",
      "/home/js7561/dev/scaper/scaper/core.py:1199: ScaperWarning: children_playing event time (6.82) is too great given stretched event duration (4.48) and soundscape duration (10.00), changed to 5.52.\n",
      "  ScaperWarning)\n"
     ]
    },
    {
     "name": "stdout",
     "output_type": "stream",
     "text": [
      "Generating soundscape: 434/667\n",
      "Generating soundscape: 435/667\n"
     ]
    },
    {
     "name": "stderr",
     "output_type": "stream",
     "text": [
      "/home/js7561/dev/scaper/scaper/core.py:1112: ScaperWarning: gun_shot event duration (3.56) is greater that source duration (0.44), changing to 0.44\n",
      "  ScaperWarning)\n"
     ]
    },
    {
     "name": "stdout",
     "output_type": "stream",
     "text": [
      "Generating soundscape: 436/667\n"
     ]
    },
    {
     "name": "stderr",
     "output_type": "stream",
     "text": [
      "/home/js7561/dev/scaper/scaper/core.py:1112: ScaperWarning: gun_shot event duration (1.32) is greater that source duration (0.63), changing to 0.63\n",
      "  ScaperWarning)\n",
      "/home/js7561/dev/scaper/scaper/core.py:1112: ScaperWarning: jackhammer event duration (2.55) is greater that source duration (1.35), changing to 1.35\n",
      "  ScaperWarning)\n"
     ]
    },
    {
     "name": "stdout",
     "output_type": "stream",
     "text": [
      "Generating soundscape: 437/667\n"
     ]
    },
    {
     "name": "stderr",
     "output_type": "stream",
     "text": [
      "/home/js7561/dev/scaper/scaper/core.py:1199: ScaperWarning: jackhammer event time (7.96) is too great given stretched event duration (2.45) and soundscape duration (10.00), changed to 7.55.\n",
      "  ScaperWarning)\n",
      "/home/js7561/dev/scaper/scaper/core.py:1199: ScaperWarning: jackhammer event time (8.70) is too great given stretched event duration (2.27) and soundscape duration (10.00), changed to 7.73.\n",
      "  ScaperWarning)\n",
      "/home/js7561/dev/scaper/scaper/core.py:1199: ScaperWarning: jackhammer event time (7.83) is too great given stretched event duration (2.68) and soundscape duration (10.00), changed to 7.32.\n",
      "  ScaperWarning)\n"
     ]
    },
    {
     "name": "stdout",
     "output_type": "stream",
     "text": [
      "Generating soundscape: 438/667\n"
     ]
    },
    {
     "name": "stderr",
     "output_type": "stream",
     "text": [
      "/home/js7561/dev/scaper/scaper/core.py:1112: ScaperWarning: car_horn event duration (2.85) is greater that source duration (1.13), changing to 1.13\n",
      "  ScaperWarning)\n",
      "/home/js7561/dev/scaper/scaper/core.py:1112: ScaperWarning: gun_shot event duration (2.75) is greater that source duration (1.15), changing to 1.15\n",
      "  ScaperWarning)\n"
     ]
    },
    {
     "name": "stdout",
     "output_type": "stream",
     "text": [
      "Generating soundscape: 439/667\n"
     ]
    },
    {
     "name": "stderr",
     "output_type": "stream",
     "text": [
      "/home/js7561/dev/scaper/scaper/core.py:1112: ScaperWarning: car_horn event duration (2.55) is greater that source duration (0.29), changing to 0.29\n",
      "  ScaperWarning)\n",
      "/home/js7561/dev/scaper/scaper/core.py:1112: ScaperWarning: gun_shot event duration (1.33) is greater that source duration (0.51), changing to 0.51\n",
      "  ScaperWarning)\n"
     ]
    },
    {
     "name": "stdout",
     "output_type": "stream",
     "text": [
      "Generating soundscape: 440/667\n",
      "Generating soundscape: 441/667\n",
      "Generating soundscape: 442/667\n"
     ]
    },
    {
     "name": "stderr",
     "output_type": "stream",
     "text": [
      "/home/js7561/dev/scaper/scaper/core.py:1112: ScaperWarning: gun_shot event duration (3.56) is greater that source duration (1.13), changing to 1.13\n",
      "  ScaperWarning)\n"
     ]
    },
    {
     "name": "stdout",
     "output_type": "stream",
     "text": [
      "Generating soundscape: 443/667\n",
      "Generating soundscape: 444/667\n",
      "Generating soundscape: 445/667\n"
     ]
    },
    {
     "name": "stderr",
     "output_type": "stream",
     "text": [
      "/home/js7561/dev/scaper/scaper/core.py:1112: ScaperWarning: dog_bark event duration (1.46) is greater that source duration (0.48), changing to 0.48\n",
      "  ScaperWarning)\n"
     ]
    },
    {
     "name": "stdout",
     "output_type": "stream",
     "text": [
      "Generating soundscape: 446/667\n"
     ]
    },
    {
     "name": "stderr",
     "output_type": "stream",
     "text": [
      "/home/js7561/dev/scaper/scaper/core.py:1199: ScaperWarning: children_playing event time (6.51) is too great given stretched event duration (3.93) and soundscape duration (10.00), changed to 6.07.\n",
      "  ScaperWarning)\n",
      "/home/js7561/dev/scaper/scaper/core.py:1199: ScaperWarning: air_conditioner event time (8.87) is too great given stretched event duration (1.21) and soundscape duration (10.00), changed to 8.79.\n",
      "  ScaperWarning)\n"
     ]
    },
    {
     "name": "stdout",
     "output_type": "stream",
     "text": [
      "Generating soundscape: 447/667\n"
     ]
    },
    {
     "name": "stderr",
     "output_type": "stream",
     "text": [
      "/home/js7561/dev/scaper/scaper/core.py:1112: ScaperWarning: gun_shot event duration (2.05) is greater that source duration (0.75), changing to 0.75\n",
      "  ScaperWarning)\n",
      "/home/js7561/dev/scaper/scaper/core.py:1199: ScaperWarning: air_conditioner event time (7.73) is too great given stretched event duration (2.99) and soundscape duration (10.00), changed to 7.01.\n",
      "  ScaperWarning)\n",
      "/home/js7561/dev/scaper/scaper/core.py:1199: ScaperWarning: jackhammer event time (8.80) is too great given stretched event duration (3.29) and soundscape duration (10.00), changed to 6.71.\n",
      "  ScaperWarning)\n",
      "/home/js7561/dev/scaper/scaper/core.py:1112: ScaperWarning: gun_shot event duration (3.52) is greater that source duration (0.34), changing to 0.34\n",
      "  ScaperWarning)\n",
      "/home/js7561/dev/scaper/scaper/core.py:1112: ScaperWarning: jackhammer event duration (2.78) is greater that source duration (2.67), changing to 2.67\n",
      "  ScaperWarning)\n"
     ]
    },
    {
     "name": "stdout",
     "output_type": "stream",
     "text": [
      "Generating soundscape: 448/667\n"
     ]
    },
    {
     "name": "stderr",
     "output_type": "stream",
     "text": [
      "/home/js7561/dev/scaper/scaper/core.py:1112: ScaperWarning: car_horn event duration (3.17) is greater that source duration (1.13), changing to 1.13\n",
      "  ScaperWarning)\n"
     ]
    },
    {
     "name": "stdout",
     "output_type": "stream",
     "text": [
      "Generating soundscape: 449/667\n"
     ]
    },
    {
     "name": "stderr",
     "output_type": "stream",
     "text": [
      "/home/js7561/dev/scaper/scaper/core.py:1112: ScaperWarning: car_horn event duration (2.75) is greater that source duration (0.32), changing to 0.32\n",
      "  ScaperWarning)\n",
      "/home/js7561/dev/scaper/scaper/core.py:1199: ScaperWarning: dog_bark event time (8.32) is too great given stretched event duration (2.95) and soundscape duration (10.00), changed to 7.05.\n",
      "  ScaperWarning)\n"
     ]
    },
    {
     "name": "stdout",
     "output_type": "stream",
     "text": [
      "Generating soundscape: 450/667\n",
      "Generating soundscape: 451/667\n"
     ]
    },
    {
     "name": "stderr",
     "output_type": "stream",
     "text": [
      "/home/js7561/dev/scaper/scaper/core.py:1112: ScaperWarning: car_horn event duration (3.70) is greater that source duration (2.18), changing to 2.18\n",
      "  ScaperWarning)\n",
      "/home/js7561/dev/scaper/scaper/core.py:1199: ScaperWarning: car_horn event time (8.07) is too great given stretched event duration (2.36) and soundscape duration (10.00), changed to 7.64.\n",
      "  ScaperWarning)\n",
      "/home/js7561/dev/scaper/scaper/core.py:1112: ScaperWarning: drilling event duration (2.74) is greater that source duration (2.27), changing to 2.27\n",
      "  ScaperWarning)\n"
     ]
    },
    {
     "name": "stdout",
     "output_type": "stream",
     "text": [
      "Generating soundscape: 452/667\n",
      "Generating soundscape: 453/667\n"
     ]
    },
    {
     "name": "stderr",
     "output_type": "stream",
     "text": [
      "/home/js7561/dev/scaper/scaper/core.py:1112: ScaperWarning: drilling event duration (3.48) is greater that source duration (2.93), changing to 2.93\n",
      "  ScaperWarning)\n"
     ]
    },
    {
     "name": "stdout",
     "output_type": "stream",
     "text": [
      "Generating soundscape: 454/667\n"
     ]
    },
    {
     "name": "stderr",
     "output_type": "stream",
     "text": [
      "/home/js7561/dev/scaper/scaper/core.py:1112: ScaperWarning: dog_bark event duration (2.04) is greater that source duration (0.48), changing to 0.48\n",
      "  ScaperWarning)\n",
      "/home/js7561/dev/scaper/scaper/core.py:1112: ScaperWarning: dog_bark event duration (1.08) is greater that source duration (0.62), changing to 0.62\n",
      "  ScaperWarning)\n",
      "/home/js7561/dev/scaper/scaper/core.py:1112: ScaperWarning: jackhammer event duration (2.75) is greater that source duration (1.71), changing to 1.71\n",
      "  ScaperWarning)\n",
      "/home/js7561/dev/scaper/scaper/core.py:1199: ScaperWarning: drilling event time (9.54) is too great given stretched event duration (1.27) and soundscape duration (10.00), changed to 8.73.\n",
      "  ScaperWarning)\n"
     ]
    },
    {
     "name": "stdout",
     "output_type": "stream",
     "text": [
      "Generating soundscape: 455/667\n",
      "Generating soundscape: 456/667\n"
     ]
    },
    {
     "name": "stderr",
     "output_type": "stream",
     "text": [
      "/home/js7561/dev/scaper/scaper/core.py:1112: ScaperWarning: car_horn event duration (4.00) is greater that source duration (1.75), changing to 1.75\n",
      "  ScaperWarning)\n"
     ]
    },
    {
     "name": "stdout",
     "output_type": "stream",
     "text": [
      "Generating soundscape: 457/667\n",
      "Generating soundscape: 458/667\n",
      "Generating soundscape: 459/667\n"
     ]
    },
    {
     "name": "stderr",
     "output_type": "stream",
     "text": [
      "/home/js7561/dev/scaper/scaper/core.py:1112: ScaperWarning: gun_shot event duration (3.51) is greater that source duration (1.24), changing to 1.24\n",
      "  ScaperWarning)\n"
     ]
    },
    {
     "name": "stdout",
     "output_type": "stream",
     "text": [
      "Generating soundscape: 460/667\n"
     ]
    },
    {
     "name": "stderr",
     "output_type": "stream",
     "text": [
      "/home/js7561/dev/scaper/scaper/core.py:1112: ScaperWarning: car_horn event duration (1.01) is greater that source duration (0.42), changing to 0.42\n",
      "  ScaperWarning)\n",
      "/home/js7561/dev/scaper/scaper/core.py:1112: ScaperWarning: gun_shot event duration (2.79) is greater that source duration (0.43), changing to 0.43\n",
      "  ScaperWarning)\n",
      "/home/js7561/dev/scaper/scaper/core.py:1112: ScaperWarning: dog_bark event duration (1.46) is greater that source duration (0.54), changing to 0.54\n",
      "  ScaperWarning)\n"
     ]
    },
    {
     "name": "stdout",
     "output_type": "stream",
     "text": [
      "Generating soundscape: 461/667\n"
     ]
    },
    {
     "name": "stderr",
     "output_type": "stream",
     "text": [
      "/home/js7561/dev/scaper/scaper/core.py:1112: ScaperWarning: car_horn event duration (1.96) is greater that source duration (0.32), changing to 0.32\n",
      "  ScaperWarning)\n"
     ]
    },
    {
     "name": "stdout",
     "output_type": "stream",
     "text": [
      "Generating soundscape: 462/667\n"
     ]
    },
    {
     "name": "stderr",
     "output_type": "stream",
     "text": [
      "/home/js7561/dev/scaper/scaper/core.py:1112: ScaperWarning: gun_shot event duration (0.54) is greater that source duration (0.29), changing to 0.29\n",
      "  ScaperWarning)\n",
      "/home/js7561/dev/scaper/scaper/core.py:1112: ScaperWarning: gun_shot event duration (3.53) is greater that source duration (0.34), changing to 0.34\n",
      "  ScaperWarning)\n"
     ]
    },
    {
     "name": "stdout",
     "output_type": "stream",
     "text": [
      "Generating soundscape: 463/667\n"
     ]
    },
    {
     "name": "stderr",
     "output_type": "stream",
     "text": [
      "/home/js7561/dev/scaper/scaper/core.py:1112: ScaperWarning: dog_bark event duration (2.91) is greater that source duration (0.95), changing to 0.95\n",
      "  ScaperWarning)\n",
      "/home/js7561/dev/scaper/scaper/core.py:1112: ScaperWarning: car_horn event duration (3.61) is greater that source duration (0.75), changing to 0.75\n",
      "  ScaperWarning)\n"
     ]
    },
    {
     "name": "stdout",
     "output_type": "stream",
     "text": [
      "Generating soundscape: 464/667\n",
      "Generating soundscape: 465/667\n"
     ]
    },
    {
     "name": "stderr",
     "output_type": "stream",
     "text": [
      "/home/js7561/dev/scaper/scaper/core.py:1199: ScaperWarning: street_music event time (8.22) is too great given stretched event duration (3.37) and soundscape duration (10.00), changed to 6.63.\n",
      "  ScaperWarning)\n",
      "/home/js7561/dev/scaper/scaper/core.py:1199: ScaperWarning: jackhammer event time (7.28) is too great given stretched event duration (2.82) and soundscape duration (10.00), changed to 7.18.\n",
      "  ScaperWarning)\n",
      "/home/js7561/dev/scaper/scaper/core.py:1112: ScaperWarning: car_horn event duration (1.37) is greater that source duration (0.87), changing to 0.87\n",
      "  ScaperWarning)\n",
      "/home/js7561/dev/scaper/scaper/core.py:1112: ScaperWarning: dog_bark event duration (2.58) is greater that source duration (0.92), changing to 0.92\n",
      "  ScaperWarning)\n"
     ]
    },
    {
     "name": "stdout",
     "output_type": "stream",
     "text": [
      "Generating soundscape: 466/667\n"
     ]
    },
    {
     "name": "stderr",
     "output_type": "stream",
     "text": [
      "/home/js7561/dev/scaper/scaper/core.py:1112: ScaperWarning: car_horn event duration (3.61) is greater that source duration (2.14), changing to 2.14\n",
      "  ScaperWarning)\n"
     ]
    },
    {
     "name": "stdout",
     "output_type": "stream",
     "text": [
      "Generating soundscape: 467/667\n"
     ]
    },
    {
     "name": "stderr",
     "output_type": "stream",
     "text": [
      "/home/js7561/dev/scaper/scaper/core.py:1112: ScaperWarning: gun_shot event duration (3.28) is greater that source duration (0.75), changing to 0.75\n",
      "  ScaperWarning)\n",
      "/home/js7561/dev/scaper/scaper/core.py:1112: ScaperWarning: gun_shot event duration (2.38) is greater that source duration (0.77), changing to 0.77\n",
      "  ScaperWarning)\n"
     ]
    },
    {
     "name": "stdout",
     "output_type": "stream",
     "text": [
      "Generating soundscape: 468/667\n",
      "Generating soundscape: 469/667\n"
     ]
    },
    {
     "name": "stderr",
     "output_type": "stream",
     "text": [
      "/home/js7561/dev/scaper/scaper/core.py:1199: ScaperWarning: jackhammer event time (8.29) is too great given stretched event duration (3.50) and soundscape duration (10.00), changed to 6.50.\n",
      "  ScaperWarning)\n",
      "/home/js7561/dev/scaper/scaper/core.py:1112: ScaperWarning: gun_shot event duration (3.17) is greater that source duration (1.02), changing to 1.02\n",
      "  ScaperWarning)\n"
     ]
    },
    {
     "name": "stdout",
     "output_type": "stream",
     "text": [
      "Generating soundscape: 470/667\n",
      "Generating soundscape: 471/667\n"
     ]
    },
    {
     "name": "stderr",
     "output_type": "stream",
     "text": [
      "/home/js7561/dev/scaper/scaper/core.py:1112: ScaperWarning: car_horn event duration (0.76) is greater that source duration (0.57), changing to 0.57\n",
      "  ScaperWarning)\n"
     ]
    },
    {
     "name": "stdout",
     "output_type": "stream",
     "text": [
      "Generating soundscape: 472/667\n"
     ]
    },
    {
     "name": "stderr",
     "output_type": "stream",
     "text": [
      "/home/js7561/dev/scaper/scaper/core.py:1112: ScaperWarning: car_horn event duration (3.31) is greater that source duration (0.87), changing to 0.87\n",
      "  ScaperWarning)\n"
     ]
    },
    {
     "name": "stdout",
     "output_type": "stream",
     "text": [
      "Generating soundscape: 473/667\n"
     ]
    },
    {
     "name": "stderr",
     "output_type": "stream",
     "text": [
      "/home/js7561/dev/scaper/scaper/core.py:1112: ScaperWarning: car_horn event duration (0.85) is greater that source duration (0.57), changing to 0.57\n",
      "  ScaperWarning)\n"
     ]
    },
    {
     "name": "stdout",
     "output_type": "stream",
     "text": [
      "Generating soundscape: 474/667\n"
     ]
    },
    {
     "name": "stderr",
     "output_type": "stream",
     "text": [
      "/home/js7561/dev/scaper/scaper/core.py:1199: ScaperWarning: siren event time (6.70) is too great given stretched event duration (3.42) and soundscape duration (10.00), changed to 6.58.\n",
      "  ScaperWarning)\n"
     ]
    },
    {
     "name": "stdout",
     "output_type": "stream",
     "text": [
      "Generating soundscape: 475/667\n"
     ]
    },
    {
     "name": "stderr",
     "output_type": "stream",
     "text": [
      "/home/js7561/dev/scaper/scaper/core.py:1112: ScaperWarning: gun_shot event duration (0.96) is greater that source duration (0.30), changing to 0.30\n",
      "  ScaperWarning)\n"
     ]
    },
    {
     "name": "stdout",
     "output_type": "stream",
     "text": [
      "Generating soundscape: 476/667\n"
     ]
    },
    {
     "name": "stderr",
     "output_type": "stream",
     "text": [
      "/home/js7561/dev/scaper/scaper/core.py:1199: ScaperWarning: street_music event time (9.42) is too great given stretched event duration (3.27) and soundscape duration (10.00), changed to 6.73.\n",
      "  ScaperWarning)\n"
     ]
    },
    {
     "name": "stdout",
     "output_type": "stream",
     "text": [
      "Generating soundscape: 477/667\n",
      "Generating soundscape: 478/667\n",
      "Generating soundscape: 479/667\n",
      "Generating soundscape: 480/667\n",
      "Generating soundscape: 481/667\n"
     ]
    },
    {
     "name": "stderr",
     "output_type": "stream",
     "text": [
      "/home/js7561/dev/scaper/scaper/core.py:1112: ScaperWarning: car_horn event duration (1.57) is greater that source duration (1.50), changing to 1.50\n",
      "  ScaperWarning)\n"
     ]
    },
    {
     "name": "stdout",
     "output_type": "stream",
     "text": [
      "Generating soundscape: 482/667\n"
     ]
    },
    {
     "name": "stderr",
     "output_type": "stream",
     "text": [
      "/home/js7561/dev/scaper/scaper/core.py:1112: ScaperWarning: gun_shot event duration (2.29) is greater that source duration (0.77), changing to 0.77\n",
      "  ScaperWarning)\n"
     ]
    },
    {
     "name": "stdout",
     "output_type": "stream",
     "text": [
      "Generating soundscape: 483/667\n",
      "Generating soundscape: 484/667\n",
      "Generating soundscape: 485/667\n"
     ]
    },
    {
     "name": "stderr",
     "output_type": "stream",
     "text": [
      "/home/js7561/dev/scaper/scaper/core.py:1112: ScaperWarning: car_horn event duration (1.46) is greater that source duration (0.77), changing to 0.77\n",
      "  ScaperWarning)\n",
      "/home/js7561/dev/scaper/scaper/core.py:1199: ScaperWarning: jackhammer event time (6.89) is too great given stretched event duration (3.47) and soundscape duration (10.00), changed to 6.53.\n",
      "  ScaperWarning)\n"
     ]
    },
    {
     "name": "stdout",
     "output_type": "stream",
     "text": [
      "Generating soundscape: 486/667\n"
     ]
    },
    {
     "name": "stderr",
     "output_type": "stream",
     "text": [
      "/home/js7561/dev/scaper/scaper/core.py:1112: ScaperWarning: car_horn event duration (3.23) is greater that source duration (2.14), changing to 2.14\n",
      "  ScaperWarning)\n"
     ]
    },
    {
     "name": "stdout",
     "output_type": "stream",
     "text": [
      "Generating soundscape: 487/667\n"
     ]
    },
    {
     "name": "stderr",
     "output_type": "stream",
     "text": [
      "/home/js7561/dev/scaper/scaper/core.py:1112: ScaperWarning: car_horn event duration (2.27) is greater that source duration (0.30), changing to 0.30\n",
      "  ScaperWarning)\n"
     ]
    },
    {
     "name": "stdout",
     "output_type": "stream",
     "text": [
      "Generating soundscape: 488/667\n"
     ]
    },
    {
     "name": "stderr",
     "output_type": "stream",
     "text": [
      "/home/js7561/dev/scaper/scaper/core.py:1112: ScaperWarning: jackhammer event duration (3.53) is greater that source duration (3.14), changing to 3.14\n",
      "  ScaperWarning)\n"
     ]
    },
    {
     "name": "stdout",
     "output_type": "stream",
     "text": [
      "Generating soundscape: 489/667\n"
     ]
    },
    {
     "name": "stderr",
     "output_type": "stream",
     "text": [
      "/home/js7561/dev/scaper/scaper/core.py:1112: ScaperWarning: jackhammer event duration (3.90) is greater that source duration (3.14), changing to 3.14\n",
      "  ScaperWarning)\n",
      "/home/js7561/dev/scaper/scaper/core.py:1112: ScaperWarning: dog_bark event duration (1.23) is greater that source duration (1.13), changing to 1.13\n",
      "  ScaperWarning)\n"
     ]
    },
    {
     "name": "stdout",
     "output_type": "stream",
     "text": [
      "Generating soundscape: 490/667\n"
     ]
    },
    {
     "name": "stderr",
     "output_type": "stream",
     "text": [
      "/home/js7561/dev/scaper/scaper/core.py:1112: ScaperWarning: jackhammer event duration (1.11) is greater that source duration (0.81), changing to 0.81\n",
      "  ScaperWarning)\n"
     ]
    },
    {
     "name": "stdout",
     "output_type": "stream",
     "text": [
      "Generating soundscape: 491/667\n"
     ]
    },
    {
     "name": "stderr",
     "output_type": "stream",
     "text": [
      "/home/js7561/dev/scaper/scaper/core.py:1112: ScaperWarning: car_horn event duration (0.74) is greater that source duration (0.61), changing to 0.61\n",
      "  ScaperWarning)\n",
      "/home/js7561/dev/scaper/scaper/core.py:1112: ScaperWarning: gun_shot event duration (3.57) is greater that source duration (0.98), changing to 0.98\n",
      "  ScaperWarning)\n"
     ]
    },
    {
     "name": "stdout",
     "output_type": "stream",
     "text": [
      "Generating soundscape: 492/667\n",
      "Generating soundscape: 493/667\n",
      "Generating soundscape: 494/667\n"
     ]
    },
    {
     "name": "stderr",
     "output_type": "stream",
     "text": [
      "/home/js7561/dev/scaper/scaper/core.py:1112: ScaperWarning: gun_shot event duration (3.33) is greater that source duration (2.13), changing to 2.13\n",
      "  ScaperWarning)\n"
     ]
    },
    {
     "name": "stdout",
     "output_type": "stream",
     "text": [
      "Generating soundscape: 495/667\n",
      "Generating soundscape: 496/667\n"
     ]
    },
    {
     "name": "stderr",
     "output_type": "stream",
     "text": [
      "/home/js7561/dev/scaper/scaper/core.py:1199: ScaperWarning: street_music event time (9.36) is too great given stretched event duration (1.60) and soundscape duration (10.00), changed to 8.40.\n",
      "  ScaperWarning)\n"
     ]
    },
    {
     "name": "stdout",
     "output_type": "stream",
     "text": [
      "Generating soundscape: 497/667\n",
      "Generating soundscape: 498/667\n",
      "Generating soundscape: 499/667\n",
      "Generating soundscape: 500/667\n"
     ]
    },
    {
     "name": "stderr",
     "output_type": "stream",
     "text": [
      "/home/js7561/dev/scaper/scaper/core.py:1112: ScaperWarning: gun_shot event duration (3.60) is greater that source duration (0.51), changing to 0.51\n",
      "  ScaperWarning)\n"
     ]
    },
    {
     "name": "stdout",
     "output_type": "stream",
     "text": [
      "Generating soundscape: 501/667\n"
     ]
    },
    {
     "name": "stderr",
     "output_type": "stream",
     "text": [
      "/home/js7561/dev/scaper/scaper/core.py:1199: ScaperWarning: engine_idling event time (8.54) is too great given stretched event duration (2.94) and soundscape duration (10.00), changed to 7.06.\n",
      "  ScaperWarning)\n"
     ]
    },
    {
     "name": "stdout",
     "output_type": "stream",
     "text": [
      "Generating soundscape: 502/667\n",
      "Generating soundscape: 503/667\n"
     ]
    },
    {
     "name": "stderr",
     "output_type": "stream",
     "text": [
      "/home/js7561/dev/scaper/scaper/core.py:1112: ScaperWarning: car_horn event duration (3.78) is greater that source duration (1.13), changing to 1.13\n",
      "  ScaperWarning)\n"
     ]
    },
    {
     "name": "stdout",
     "output_type": "stream",
     "text": [
      "Generating soundscape: 504/667\n"
     ]
    },
    {
     "name": "stderr",
     "output_type": "stream",
     "text": [
      "/home/js7561/dev/scaper/scaper/core.py:1199: ScaperWarning: siren event time (8.52) is too great given stretched event duration (1.75) and soundscape duration (10.00), changed to 8.25.\n",
      "  ScaperWarning)\n",
      "/home/js7561/dev/scaper/scaper/core.py:1112: ScaperWarning: gun_shot event duration (3.99) is greater that source duration (0.85), changing to 0.85\n",
      "  ScaperWarning)\n"
     ]
    },
    {
     "name": "stdout",
     "output_type": "stream",
     "text": [
      "Generating soundscape: 505/667\n"
     ]
    },
    {
     "name": "stderr",
     "output_type": "stream",
     "text": [
      "/home/js7561/dev/scaper/scaper/core.py:1112: ScaperWarning: jackhammer event duration (2.94) is greater that source duration (2.67), changing to 2.67\n",
      "  ScaperWarning)\n",
      "/home/js7561/dev/scaper/scaper/core.py:1199: ScaperWarning: children_playing event time (8.87) is too great given stretched event duration (1.81) and soundscape duration (10.00), changed to 8.19.\n",
      "  ScaperWarning)\n"
     ]
    },
    {
     "name": "stdout",
     "output_type": "stream",
     "text": [
      "Generating soundscape: 506/667\n",
      "Generating soundscape: 507/667\n"
     ]
    },
    {
     "name": "stderr",
     "output_type": "stream",
     "text": [
      "/home/js7561/dev/scaper/scaper/core.py:1112: ScaperWarning: car_horn event duration (3.18) is greater that source duration (0.29), changing to 0.29\n",
      "  ScaperWarning)\n",
      "/home/js7561/dev/scaper/scaper/core.py:1112: ScaperWarning: drilling event duration (2.49) is greater that source duration (0.92), changing to 0.92\n",
      "  ScaperWarning)\n"
     ]
    },
    {
     "name": "stdout",
     "output_type": "stream",
     "text": [
      "Generating soundscape: 508/667\n",
      "Generating soundscape: 509/667\n"
     ]
    },
    {
     "name": "stderr",
     "output_type": "stream",
     "text": [
      "/home/js7561/dev/scaper/scaper/core.py:1112: ScaperWarning: car_horn event duration (2.04) is greater that source duration (0.87), changing to 0.87\n",
      "  ScaperWarning)\n"
     ]
    },
    {
     "name": "stdout",
     "output_type": "stream",
     "text": [
      "Generating soundscape: 510/667\n"
     ]
    },
    {
     "name": "stderr",
     "output_type": "stream",
     "text": [
      "/home/js7561/dev/scaper/scaper/core.py:1199: ScaperWarning: dog_bark event time (7.24) is too great given stretched event duration (3.05) and soundscape duration (10.00), changed to 6.95.\n",
      "  ScaperWarning)\n"
     ]
    },
    {
     "name": "stdout",
     "output_type": "stream",
     "text": [
      "Generating soundscape: 511/667\n",
      "Generating soundscape: 512/667\n"
     ]
    },
    {
     "name": "stderr",
     "output_type": "stream",
     "text": [
      "/home/js7561/dev/scaper/scaper/core.py:1112: ScaperWarning: car_horn event duration (3.36) is greater that source duration (0.44), changing to 0.44\n",
      "  ScaperWarning)\n"
     ]
    },
    {
     "name": "stdout",
     "output_type": "stream",
     "text": [
      "Generating soundscape: 513/667\n",
      "Generating soundscape: 514/667\n",
      "Generating soundscape: 515/667\n"
     ]
    },
    {
     "name": "stderr",
     "output_type": "stream",
     "text": [
      "/home/js7561/dev/scaper/scaper/core.py:1199: ScaperWarning: children_playing event time (9.25) is too great given stretched event duration (2.20) and soundscape duration (10.00), changed to 7.80.\n",
      "  ScaperWarning)\n",
      "/home/js7561/dev/scaper/scaper/core.py:1112: ScaperWarning: gun_shot event duration (1.88) is greater that source duration (1.47), changing to 1.47\n",
      "  ScaperWarning)\n",
      "/home/js7561/dev/scaper/scaper/core.py:1112: ScaperWarning: siren event duration (2.42) is greater that source duration (2.17), changing to 2.17\n",
      "  ScaperWarning)\n",
      "/home/js7561/dev/scaper/scaper/core.py:1199: ScaperWarning: engine_idling event time (8.67) is too great given stretched event duration (3.53) and soundscape duration (10.00), changed to 6.47.\n",
      "  ScaperWarning)\n"
     ]
    },
    {
     "name": "stdout",
     "output_type": "stream",
     "text": [
      "Generating soundscape: 516/667\n",
      "Generating soundscape: 517/667\n"
     ]
    },
    {
     "name": "stderr",
     "output_type": "stream",
     "text": [
      "/home/js7561/dev/scaper/scaper/core.py:1112: ScaperWarning: gun_shot event duration (2.41) is greater that source duration (0.95), changing to 0.95\n",
      "  ScaperWarning)\n",
      "/home/js7561/dev/scaper/scaper/core.py:1112: ScaperWarning: gun_shot event duration (3.54) is greater that source duration (0.54), changing to 0.54\n",
      "  ScaperWarning)\n"
     ]
    },
    {
     "name": "stdout",
     "output_type": "stream",
     "text": [
      "Generating soundscape: 518/667\n"
     ]
    },
    {
     "name": "stderr",
     "output_type": "stream",
     "text": [
      "/home/js7561/dev/scaper/scaper/core.py:1112: ScaperWarning: car_horn event duration (1.43) is greater that source duration (0.75), changing to 0.75\n",
      "  ScaperWarning)\n"
     ]
    },
    {
     "name": "stdout",
     "output_type": "stream",
     "text": [
      "Generating soundscape: 519/667\n"
     ]
    },
    {
     "name": "stderr",
     "output_type": "stream",
     "text": [
      "/home/js7561/dev/scaper/scaper/core.py:1112: ScaperWarning: gun_shot event duration (1.60) is greater that source duration (0.43), changing to 0.43\n",
      "  ScaperWarning)\n"
     ]
    },
    {
     "name": "stdout",
     "output_type": "stream",
     "text": [
      "Generating soundscape: 520/667\n"
     ]
    },
    {
     "name": "stderr",
     "output_type": "stream",
     "text": [
      "/home/js7561/dev/scaper/scaper/core.py:1112: ScaperWarning: gun_shot event duration (2.56) is greater that source duration (1.83), changing to 1.83\n",
      "  ScaperWarning)\n"
     ]
    },
    {
     "name": "stdout",
     "output_type": "stream",
     "text": [
      "Generating soundscape: 521/667\n",
      "Generating soundscape: 522/667\n",
      "Generating soundscape: 523/667\n"
     ]
    },
    {
     "name": "stderr",
     "output_type": "stream",
     "text": [
      "/home/js7561/dev/scaper/scaper/core.py:1199: ScaperWarning: drilling event time (6.92) is too great given stretched event duration (3.46) and soundscape duration (10.00), changed to 6.54.\n",
      "  ScaperWarning)\n"
     ]
    },
    {
     "name": "stdout",
     "output_type": "stream",
     "text": [
      "Generating soundscape: 524/667\n"
     ]
    },
    {
     "name": "stderr",
     "output_type": "stream",
     "text": [
      "/home/js7561/dev/scaper/scaper/core.py:1112: ScaperWarning: gun_shot event duration (3.53) is greater that source duration (0.79), changing to 0.79\n",
      "  ScaperWarning)\n",
      "/home/js7561/dev/scaper/scaper/core.py:1199: ScaperWarning: dog_bark event time (7.17) is too great given stretched event duration (3.64) and soundscape duration (10.00), changed to 6.36.\n",
      "  ScaperWarning)\n",
      "/home/js7561/dev/scaper/scaper/core.py:1112: ScaperWarning: gun_shot event duration (1.11) is greater that source duration (0.85), changing to 0.85\n",
      "  ScaperWarning)\n",
      "/home/js7561/dev/scaper/scaper/core.py:1112: ScaperWarning: car_horn event duration (3.12) is greater that source duration (0.52), changing to 0.52\n",
      "  ScaperWarning)\n"
     ]
    },
    {
     "name": "stdout",
     "output_type": "stream",
     "text": [
      "Generating soundscape: 525/667\n"
     ]
    },
    {
     "name": "stderr",
     "output_type": "stream",
     "text": [
      "/home/js7561/dev/scaper/scaper/core.py:1112: ScaperWarning: car_horn event duration (3.93) is greater that source duration (1.43), changing to 1.43\n",
      "  ScaperWarning)\n",
      "/home/js7561/dev/scaper/scaper/core.py:1199: ScaperWarning: gun_shot event time (8.19) is too great given stretched event duration (4.37) and soundscape duration (10.00), changed to 5.63.\n",
      "  ScaperWarning)\n"
     ]
    },
    {
     "name": "stdout",
     "output_type": "stream",
     "text": [
      "Generating soundscape: 526/667\n",
      "Generating soundscape: 527/667\n"
     ]
    },
    {
     "name": "stderr",
     "output_type": "stream",
     "text": [
      "/home/js7561/dev/scaper/scaper/core.py:1112: ScaperWarning: engine_idling event duration (3.65) is greater that source duration (2.74), changing to 2.74\n",
      "  ScaperWarning)\n",
      "/home/js7561/dev/scaper/scaper/core.py:1199: ScaperWarning: siren event time (8.02) is too great given stretched event duration (3.35) and soundscape duration (10.00), changed to 6.65.\n",
      "  ScaperWarning)\n"
     ]
    },
    {
     "name": "stdout",
     "output_type": "stream",
     "text": [
      "Generating soundscape: 528/667\n"
     ]
    },
    {
     "name": "stderr",
     "output_type": "stream",
     "text": [
      "/home/js7561/dev/scaper/scaper/core.py:1112: ScaperWarning: dog_bark event duration (3.15) is greater that source duration (0.79), changing to 0.79\n",
      "  ScaperWarning)\n"
     ]
    },
    {
     "name": "stdout",
     "output_type": "stream",
     "text": [
      "Generating soundscape: 529/667\n"
     ]
    },
    {
     "name": "stderr",
     "output_type": "stream",
     "text": [
      "/home/js7561/dev/scaper/scaper/core.py:1199: ScaperWarning: siren event time (8.62) is too great given stretched event duration (3.82) and soundscape duration (10.00), changed to 6.18.\n",
      "  ScaperWarning)\n"
     ]
    },
    {
     "name": "stdout",
     "output_type": "stream",
     "text": [
      "Generating soundscape: 530/667\n"
     ]
    },
    {
     "name": "stderr",
     "output_type": "stream",
     "text": [
      "/home/js7561/dev/scaper/scaper/core.py:1112: ScaperWarning: dog_bark event duration (3.64) is greater that source duration (1.64), changing to 1.64\n",
      "  ScaperWarning)\n"
     ]
    },
    {
     "name": "stdout",
     "output_type": "stream",
     "text": [
      "Generating soundscape: 531/667\n"
     ]
    },
    {
     "name": "stderr",
     "output_type": "stream",
     "text": [
      "/home/js7561/dev/scaper/scaper/core.py:1112: ScaperWarning: car_horn event duration (2.10) is greater that source duration (1.50), changing to 1.50\n",
      "  ScaperWarning)\n"
     ]
    },
    {
     "name": "stdout",
     "output_type": "stream",
     "text": [
      "Generating soundscape: 532/667\n"
     ]
    },
    {
     "name": "stderr",
     "output_type": "stream",
     "text": [
      "/home/js7561/dev/scaper/scaper/core.py:1112: ScaperWarning: dog_bark event duration (1.02) is greater that source duration (0.45), changing to 0.45\n",
      "  ScaperWarning)\n",
      "/home/js7561/dev/scaper/scaper/core.py:1112: ScaperWarning: car_horn event duration (3.10) is greater that source duration (2.18), changing to 2.18\n",
      "  ScaperWarning)\n",
      "/home/js7561/dev/scaper/scaper/core.py:1112: ScaperWarning: gun_shot event duration (1.81) is greater that source duration (0.79), changing to 0.79\n",
      "  ScaperWarning)\n"
     ]
    },
    {
     "name": "stdout",
     "output_type": "stream",
     "text": [
      "Generating soundscape: 533/667\n",
      "Generating soundscape: 534/667\n"
     ]
    },
    {
     "name": "stderr",
     "output_type": "stream",
     "text": [
      "/home/js7561/dev/scaper/scaper/core.py:1112: ScaperWarning: gun_shot event duration (3.62) is greater that source duration (0.31), changing to 0.31\n",
      "  ScaperWarning)\n",
      "/home/js7561/dev/scaper/scaper/core.py:1112: ScaperWarning: gun_shot event duration (3.32) is greater that source duration (0.77), changing to 0.77\n",
      "  ScaperWarning)\n"
     ]
    },
    {
     "name": "stdout",
     "output_type": "stream",
     "text": [
      "Generating soundscape: 535/667\n"
     ]
    },
    {
     "name": "stderr",
     "output_type": "stream",
     "text": [
      "/home/js7561/dev/scaper/scaper/core.py:1199: ScaperWarning: drilling event time (7.80) is too great given stretched event duration (2.67) and soundscape duration (10.00), changed to 7.33.\n",
      "  ScaperWarning)\n",
      "/home/js7561/dev/scaper/scaper/core.py:1199: ScaperWarning: engine_idling event time (9.12) is too great given stretched event duration (1.93) and soundscape duration (10.00), changed to 8.07.\n",
      "  ScaperWarning)\n",
      "/home/js7561/dev/scaper/scaper/core.py:1112: ScaperWarning: car_horn event duration (2.25) is greater that source duration (0.58), changing to 0.58\n",
      "  ScaperWarning)\n"
     ]
    },
    {
     "name": "stdout",
     "output_type": "stream",
     "text": [
      "Generating soundscape: 536/667\n",
      "Generating soundscape: 537/667\n",
      "Generating soundscape: 538/667\n",
      "Generating soundscape: 539/667\n"
     ]
    },
    {
     "name": "stderr",
     "output_type": "stream",
     "text": [
      "/home/js7561/dev/scaper/scaper/core.py:1112: ScaperWarning: car_horn event duration (3.02) is greater that source duration (0.57), changing to 0.57\n",
      "  ScaperWarning)\n"
     ]
    },
    {
     "name": "stdout",
     "output_type": "stream",
     "text": [
      "Generating soundscape: 540/667\n"
     ]
    },
    {
     "name": "stderr",
     "output_type": "stream",
     "text": [
      "/home/js7561/dev/scaper/scaper/core.py:1112: ScaperWarning: car_horn event duration (2.48) is greater that source duration (0.86), changing to 0.86\n",
      "  ScaperWarning)\n"
     ]
    },
    {
     "name": "stdout",
     "output_type": "stream",
     "text": [
      "Generating soundscape: 541/667\n",
      "Generating soundscape: 542/667\n",
      "Generating soundscape: 543/667\n"
     ]
    },
    {
     "name": "stderr",
     "output_type": "stream",
     "text": [
      "/home/js7561/dev/scaper/scaper/core.py:1112: ScaperWarning: gun_shot event duration (3.65) is greater that source duration (0.43), changing to 0.43\n",
      "  ScaperWarning)\n",
      "/home/js7561/dev/scaper/scaper/core.py:1199: ScaperWarning: drilling event time (8.05) is too great given stretched event duration (2.46) and soundscape duration (10.00), changed to 7.54.\n",
      "  ScaperWarning)\n"
     ]
    },
    {
     "name": "stdout",
     "output_type": "stream",
     "text": [
      "Generating soundscape: 544/667\n",
      "Generating soundscape: 545/667\n",
      "Generating soundscape: 546/667\n",
      "Generating soundscape: 547/667\n"
     ]
    },
    {
     "name": "stderr",
     "output_type": "stream",
     "text": [
      "/home/js7561/dev/scaper/scaper/core.py:1112: ScaperWarning: gun_shot event duration (3.28) is greater that source duration (1.28), changing to 1.28\n",
      "  ScaperWarning)\n"
     ]
    },
    {
     "name": "stdout",
     "output_type": "stream",
     "text": [
      "Generating soundscape: 548/667\n"
     ]
    },
    {
     "name": "stderr",
     "output_type": "stream",
     "text": [
      "/home/js7561/dev/scaper/scaper/core.py:1112: ScaperWarning: car_horn event duration (2.42) is greater that source duration (0.87), changing to 0.87\n",
      "  ScaperWarning)\n"
     ]
    },
    {
     "name": "stdout",
     "output_type": "stream",
     "text": [
      "Generating soundscape: 549/667\n"
     ]
    },
    {
     "name": "stderr",
     "output_type": "stream",
     "text": [
      "/home/js7561/dev/scaper/scaper/core.py:1112: ScaperWarning: gun_shot event duration (2.73) is greater that source duration (0.51), changing to 0.51\n",
      "  ScaperWarning)\n",
      "/home/js7561/dev/scaper/scaper/core.py:1112: ScaperWarning: gun_shot event duration (3.63) is greater that source duration (2.26), changing to 2.26\n",
      "  ScaperWarning)\n",
      "/home/js7561/dev/scaper/scaper/core.py:1112: ScaperWarning: car_horn event duration (3.84) is greater that source duration (0.42), changing to 0.42\n",
      "  ScaperWarning)\n"
     ]
    },
    {
     "name": "stdout",
     "output_type": "stream",
     "text": [
      "Generating soundscape: 550/667\n"
     ]
    },
    {
     "name": "stderr",
     "output_type": "stream",
     "text": [
      "/home/js7561/dev/scaper/scaper/core.py:1199: ScaperWarning: street_music event time (6.24) is too great given stretched event duration (4.32) and soundscape duration (10.00), changed to 5.68.\n",
      "  ScaperWarning)\n",
      "/home/js7561/dev/scaper/scaper/core.py:1199: ScaperWarning: children_playing event time (9.08) is too great given stretched event duration (3.56) and soundscape duration (10.00), changed to 6.44.\n",
      "  ScaperWarning)\n"
     ]
    },
    {
     "name": "stdout",
     "output_type": "stream",
     "text": [
      "Generating soundscape: 551/667\n"
     ]
    },
    {
     "name": "stderr",
     "output_type": "stream",
     "text": [
      "/home/js7561/dev/scaper/scaper/core.py:1112: ScaperWarning: car_horn event duration (3.11) is greater that source duration (0.87), changing to 0.87\n",
      "  ScaperWarning)\n",
      "/home/js7561/dev/scaper/scaper/core.py:1112: ScaperWarning: gun_shot event duration (3.04) is greater that source duration (1.74), changing to 1.74\n",
      "  ScaperWarning)\n"
     ]
    },
    {
     "name": "stdout",
     "output_type": "stream",
     "text": [
      "Generating soundscape: 552/667\n"
     ]
    },
    {
     "name": "stderr",
     "output_type": "stream",
     "text": [
      "/home/js7561/dev/scaper/scaper/core.py:1112: ScaperWarning: gun_shot event duration (2.99) is greater that source duration (1.83), changing to 1.83\n",
      "  ScaperWarning)\n",
      "/home/js7561/dev/scaper/scaper/core.py:1112: ScaperWarning: gun_shot event duration (3.13) is greater that source duration (2.56), changing to 2.56\n",
      "  ScaperWarning)\n"
     ]
    },
    {
     "name": "stdout",
     "output_type": "stream",
     "text": [
      "Generating soundscape: 553/667\n",
      "Generating soundscape: 554/667\n"
     ]
    },
    {
     "name": "stderr",
     "output_type": "stream",
     "text": [
      "/home/js7561/dev/scaper/scaper/core.py:1199: ScaperWarning: street_music event time (6.75) is too great given stretched event duration (3.91) and soundscape duration (10.00), changed to 6.09.\n",
      "  ScaperWarning)\n",
      "/home/js7561/dev/scaper/scaper/core.py:1199: ScaperWarning: engine_idling event time (6.91) is too great given stretched event duration (3.28) and soundscape duration (10.00), changed to 6.72.\n",
      "  ScaperWarning)\n",
      "/home/js7561/dev/scaper/scaper/core.py:1199: ScaperWarning: jackhammer event time (9.34) is too great given stretched event duration (2.40) and soundscape duration (10.00), changed to 7.60.\n",
      "  ScaperWarning)\n",
      "/home/js7561/dev/scaper/scaper/core.py:1112: ScaperWarning: gun_shot event duration (1.91) is greater that source duration (1.47), changing to 1.47\n",
      "  ScaperWarning)\n"
     ]
    },
    {
     "name": "stdout",
     "output_type": "stream",
     "text": [
      "Generating soundscape: 555/667\n"
     ]
    },
    {
     "name": "stderr",
     "output_type": "stream",
     "text": [
      "/home/js7561/dev/scaper/scaper/core.py:1112: ScaperWarning: car_horn event duration (3.52) is greater that source duration (0.32), changing to 0.32\n",
      "  ScaperWarning)\n",
      "/home/js7561/dev/scaper/scaper/core.py:1199: ScaperWarning: air_conditioner event time (6.43) is too great given stretched event duration (3.64) and soundscape duration (10.00), changed to 6.36.\n",
      "  ScaperWarning)\n"
     ]
    },
    {
     "name": "stdout",
     "output_type": "stream",
     "text": [
      "Generating soundscape: 556/667\n"
     ]
    },
    {
     "name": "stderr",
     "output_type": "stream",
     "text": [
      "/home/js7561/dev/scaper/scaper/core.py:1199: ScaperWarning: drilling event time (6.85) is too great given stretched event duration (3.72) and soundscape duration (10.00), changed to 6.28.\n",
      "  ScaperWarning)\n"
     ]
    },
    {
     "name": "stdout",
     "output_type": "stream",
     "text": [
      "Generating soundscape: 557/667\n"
     ]
    },
    {
     "name": "stderr",
     "output_type": "stream",
     "text": [
      "/home/js7561/dev/scaper/scaper/core.py:1199: ScaperWarning: jackhammer event time (7.58) is too great given stretched event duration (3.46) and soundscape duration (10.00), changed to 6.54.\n",
      "  ScaperWarning)\n",
      "/home/js7561/dev/scaper/scaper/core.py:1112: ScaperWarning: gun_shot event duration (1.56) is greater that source duration (0.29), changing to 0.29\n",
      "  ScaperWarning)\n"
     ]
    },
    {
     "name": "stdout",
     "output_type": "stream",
     "text": [
      "Generating soundscape: 558/667\n"
     ]
    },
    {
     "name": "stderr",
     "output_type": "stream",
     "text": [
      "/home/js7561/dev/scaper/scaper/core.py:1112: ScaperWarning: gun_shot event duration (3.41) is greater that source duration (3.01), changing to 3.01\n",
      "  ScaperWarning)\n"
     ]
    },
    {
     "name": "stdout",
     "output_type": "stream",
     "text": [
      "Generating soundscape: 559/667\n",
      "Generating soundscape: 560/667\n",
      "Generating soundscape: 561/667\n",
      "Generating soundscape: 562/667\n"
     ]
    },
    {
     "name": "stderr",
     "output_type": "stream",
     "text": [
      "/home/js7561/dev/scaper/scaper/core.py:1112: ScaperWarning: dog_bark event duration (2.69) is greater that source duration (2.68), changing to 2.68\n",
      "  ScaperWarning)\n"
     ]
    },
    {
     "name": "stdout",
     "output_type": "stream",
     "text": [
      "Generating soundscape: 563/667\n",
      "Generating soundscape: 564/667\n",
      "Generating soundscape: 565/667\n"
     ]
    },
    {
     "name": "stderr",
     "output_type": "stream",
     "text": [
      "/home/js7561/dev/scaper/scaper/core.py:1112: ScaperWarning: gun_shot event duration (3.32) is greater that source duration (0.43), changing to 0.43\n",
      "  ScaperWarning)\n",
      "/home/js7561/dev/scaper/scaper/core.py:1112: ScaperWarning: gun_shot event duration (3.54) is greater that source duration (0.95), changing to 0.95\n",
      "  ScaperWarning)\n"
     ]
    },
    {
     "name": "stdout",
     "output_type": "stream",
     "text": [
      "Generating soundscape: 566/667\n"
     ]
    },
    {
     "name": "stderr",
     "output_type": "stream",
     "text": [
      "/home/js7561/dev/scaper/scaper/core.py:1112: ScaperWarning: dog_bark event duration (1.41) is greater that source duration (1.12), changing to 1.12\n",
      "  ScaperWarning)\n"
     ]
    },
    {
     "name": "stdout",
     "output_type": "stream",
     "text": [
      "Generating soundscape: 567/667\n"
     ]
    },
    {
     "name": "stderr",
     "output_type": "stream",
     "text": [
      "/home/js7561/dev/scaper/scaper/core.py:1112: ScaperWarning: car_horn event duration (2.42) is greater that source duration (1.75), changing to 1.75\n",
      "  ScaperWarning)\n"
     ]
    },
    {
     "name": "stdout",
     "output_type": "stream",
     "text": [
      "Generating soundscape: 568/667\n",
      "Generating soundscape: 569/667\n"
     ]
    },
    {
     "name": "stderr",
     "output_type": "stream",
     "text": [
      "/home/js7561/dev/scaper/scaper/core.py:1112: ScaperWarning: drilling event duration (2.61) is greater that source duration (1.82), changing to 1.82\n",
      "  ScaperWarning)\n"
     ]
    },
    {
     "name": "stdout",
     "output_type": "stream",
     "text": [
      "Generating soundscape: 570/667\n"
     ]
    },
    {
     "name": "stderr",
     "output_type": "stream",
     "text": [
      "/home/js7561/dev/scaper/scaper/core.py:1112: ScaperWarning: jackhammer event duration (3.70) is greater that source duration (3.05), changing to 3.05\n",
      "  ScaperWarning)\n",
      "/home/js7561/dev/scaper/scaper/core.py:1199: ScaperWarning: jackhammer event time (7.75) is too great given stretched event duration (2.61) and soundscape duration (10.00), changed to 7.39.\n",
      "  ScaperWarning)\n",
      "/home/js7561/dev/scaper/scaper/core.py:1112: ScaperWarning: car_horn event duration (3.26) is greater that source duration (1.11), changing to 1.11\n",
      "  ScaperWarning)\n",
      "/home/js7561/dev/scaper/scaper/core.py:1112: ScaperWarning: gun_shot event duration (2.97) is greater that source duration (0.46), changing to 0.46\n",
      "  ScaperWarning)\n"
     ]
    },
    {
     "name": "stdout",
     "output_type": "stream",
     "text": [
      "Generating soundscape: 571/667\n"
     ]
    },
    {
     "name": "stderr",
     "output_type": "stream",
     "text": [
      "/home/js7561/dev/scaper/scaper/core.py:1112: ScaperWarning: gun_shot event duration (3.84) is greater that source duration (2.55), changing to 2.55\n",
      "  ScaperWarning)\n",
      "/home/js7561/dev/scaper/scaper/core.py:1112: ScaperWarning: gun_shot event duration (1.32) is greater that source duration (0.46), changing to 0.46\n",
      "  ScaperWarning)\n"
     ]
    },
    {
     "name": "stdout",
     "output_type": "stream",
     "text": [
      "Generating soundscape: 572/667\n"
     ]
    },
    {
     "name": "stderr",
     "output_type": "stream",
     "text": [
      "/home/js7561/dev/scaper/scaper/core.py:1112: ScaperWarning: jackhammer event duration (3.38) is greater that source duration (2.21), changing to 2.21\n",
      "  ScaperWarning)\n"
     ]
    },
    {
     "name": "stdout",
     "output_type": "stream",
     "text": [
      "Generating soundscape: 573/667\n"
     ]
    },
    {
     "name": "stderr",
     "output_type": "stream",
     "text": [
      "/home/js7561/dev/scaper/scaper/core.py:1112: ScaperWarning: car_horn event duration (1.67) is greater that source duration (0.77), changing to 0.77\n",
      "  ScaperWarning)\n",
      "/home/js7561/dev/scaper/scaper/core.py:1112: ScaperWarning: jackhammer event duration (3.62) is greater that source duration (2.10), changing to 2.10\n",
      "  ScaperWarning)\n",
      "/home/js7561/dev/scaper/scaper/core.py:1199: ScaperWarning: jackhammer event time (9.13) is too great given stretched event duration (1.13) and soundscape duration (10.00), changed to 8.87.\n",
      "  ScaperWarning)\n"
     ]
    },
    {
     "name": "stdout",
     "output_type": "stream",
     "text": [
      "Generating soundscape: 574/667\n"
     ]
    },
    {
     "name": "stderr",
     "output_type": "stream",
     "text": [
      "/home/js7561/dev/scaper/scaper/core.py:1199: ScaperWarning: street_music event time (5.81) is too great given stretched event duration (4.47) and soundscape duration (10.00), changed to 5.53.\n",
      "  ScaperWarning)\n",
      "/home/js7561/dev/scaper/scaper/core.py:1199: ScaperWarning: street_music event time (8.08) is too great given stretched event duration (3.46) and soundscape duration (10.00), changed to 6.54.\n",
      "  ScaperWarning)\n"
     ]
    },
    {
     "name": "stdout",
     "output_type": "stream",
     "text": [
      "Generating soundscape: 575/667\n",
      "Generating soundscape: 576/667\n"
     ]
    },
    {
     "name": "stderr",
     "output_type": "stream",
     "text": [
      "/home/js7561/dev/scaper/scaper/core.py:1112: ScaperWarning: gun_shot event duration (3.39) is greater that source duration (1.90), changing to 1.90\n",
      "  ScaperWarning)\n"
     ]
    },
    {
     "name": "stdout",
     "output_type": "stream",
     "text": [
      "Generating soundscape: 577/667\n",
      "Generating soundscape: 578/667\n"
     ]
    },
    {
     "name": "stderr",
     "output_type": "stream",
     "text": [
      "/home/js7561/dev/scaper/scaper/core.py:1112: ScaperWarning: jackhammer event duration (3.50) is greater that source duration (3.45), changing to 3.45\n",
      "  ScaperWarning)\n"
     ]
    },
    {
     "name": "stdout",
     "output_type": "stream",
     "text": [
      "Generating soundscape: 579/667\n"
     ]
    },
    {
     "name": "stderr",
     "output_type": "stream",
     "text": [
      "/home/js7561/dev/scaper/scaper/core.py:1199: ScaperWarning: car_horn event time (7.03) is too great given stretched event duration (3.21) and soundscape duration (10.00), changed to 6.79.\n",
      "  ScaperWarning)\n",
      "/home/js7561/dev/scaper/scaper/core.py:1112: ScaperWarning: gun_shot event duration (1.95) is greater that source duration (0.54), changing to 0.54\n",
      "  ScaperWarning)\n"
     ]
    },
    {
     "name": "stdout",
     "output_type": "stream",
     "text": [
      "Generating soundscape: 580/667\n"
     ]
    },
    {
     "name": "stderr",
     "output_type": "stream",
     "text": [
      "/home/js7561/dev/scaper/scaper/core.py:1112: ScaperWarning: gun_shot event duration (1.86) is greater that source duration (1.63), changing to 1.63\n",
      "  ScaperWarning)\n",
      "/home/js7561/dev/scaper/scaper/core.py:1199: ScaperWarning: drilling event time (8.87) is too great given stretched event duration (2.61) and soundscape duration (10.00), changed to 7.39.\n",
      "  ScaperWarning)\n"
     ]
    },
    {
     "name": "stdout",
     "output_type": "stream",
     "text": [
      "Generating soundscape: 581/667\n"
     ]
    },
    {
     "name": "stderr",
     "output_type": "stream",
     "text": [
      "/home/js7561/dev/scaper/scaper/core.py:1112: ScaperWarning: gun_shot event duration (2.02) is greater that source duration (0.97), changing to 0.97\n",
      "  ScaperWarning)\n"
     ]
    },
    {
     "name": "stdout",
     "output_type": "stream",
     "text": [
      "Generating soundscape: 582/667\n"
     ]
    },
    {
     "name": "stderr",
     "output_type": "stream",
     "text": [
      "/home/js7561/dev/scaper/scaper/core.py:1112: ScaperWarning: car_horn event duration (3.64) is greater that source duration (0.86), changing to 0.86\n",
      "  ScaperWarning)\n",
      "/home/js7561/dev/scaper/scaper/core.py:1112: ScaperWarning: drilling event duration (2.51) is greater that source duration (2.27), changing to 2.27\n",
      "  ScaperWarning)\n"
     ]
    },
    {
     "name": "stdout",
     "output_type": "stream",
     "text": [
      "Generating soundscape: 583/667\n",
      "Generating soundscape: 584/667\n",
      "Generating soundscape: 585/667\n"
     ]
    },
    {
     "name": "stderr",
     "output_type": "stream",
     "text": [
      "/home/js7561/dev/scaper/scaper/core.py:1112: ScaperWarning: car_horn event duration (3.73) is greater that source duration (1.16), changing to 1.16\n",
      "  ScaperWarning)\n"
     ]
    },
    {
     "name": "stdout",
     "output_type": "stream",
     "text": [
      "Generating soundscape: 586/667\n"
     ]
    },
    {
     "name": "stderr",
     "output_type": "stream",
     "text": [
      "/home/js7561/dev/scaper/scaper/core.py:1199: ScaperWarning: jackhammer event time (5.58) is too great given stretched event duration (4.53) and soundscape duration (10.00), changed to 5.47.\n",
      "  ScaperWarning)\n"
     ]
    },
    {
     "name": "stdout",
     "output_type": "stream",
     "text": [
      "Generating soundscape: 587/667\n"
     ]
    },
    {
     "name": "stderr",
     "output_type": "stream",
     "text": [
      "/home/js7561/dev/scaper/scaper/core.py:1112: ScaperWarning: drilling event duration (2.52) is greater that source duration (2.43), changing to 2.43\n",
      "  ScaperWarning)\n",
      "/home/js7561/dev/scaper/scaper/core.py:1112: ScaperWarning: gun_shot event duration (2.58) is greater that source duration (1.83), changing to 1.83\n",
      "  ScaperWarning)\n"
     ]
    },
    {
     "name": "stdout",
     "output_type": "stream",
     "text": [
      "Generating soundscape: 588/667\n"
     ]
    },
    {
     "name": "stderr",
     "output_type": "stream",
     "text": [
      "/home/js7561/dev/scaper/scaper/core.py:1112: ScaperWarning: gun_shot event duration (2.06) is greater that source duration (0.50), changing to 0.50\n",
      "  ScaperWarning)\n"
     ]
    },
    {
     "name": "stdout",
     "output_type": "stream",
     "text": [
      "Generating soundscape: 589/667\n"
     ]
    },
    {
     "name": "stderr",
     "output_type": "stream",
     "text": [
      "/home/js7561/dev/scaper/scaper/core.py:1112: ScaperWarning: gun_shot event duration (1.58) is greater that source duration (1.32), changing to 1.32\n",
      "  ScaperWarning)\n",
      "/home/js7561/dev/scaper/scaper/core.py:1112: ScaperWarning: car_horn event duration (2.65) is greater that source duration (0.52), changing to 0.52\n",
      "  ScaperWarning)\n"
     ]
    },
    {
     "name": "stdout",
     "output_type": "stream",
     "text": [
      "Generating soundscape: 590/667\n",
      "Generating soundscape: 591/667\n"
     ]
    },
    {
     "name": "stderr",
     "output_type": "stream",
     "text": [
      "/home/js7561/dev/scaper/scaper/core.py:1112: ScaperWarning: jackhammer event duration (2.91) is greater that source duration (0.70), changing to 0.70\n",
      "  ScaperWarning)\n",
      "/home/js7561/dev/scaper/scaper/core.py:1112: ScaperWarning: gun_shot event duration (3.88) is greater that source duration (1.63), changing to 1.63\n",
      "  ScaperWarning)\n"
     ]
    },
    {
     "name": "stdout",
     "output_type": "stream",
     "text": [
      "Generating soundscape: 592/667\n"
     ]
    },
    {
     "name": "stderr",
     "output_type": "stream",
     "text": [
      "/home/js7561/dev/scaper/scaper/core.py:1112: ScaperWarning: drilling event duration (2.68) is greater that source duration (1.75), changing to 1.75\n",
      "  ScaperWarning)\n"
     ]
    },
    {
     "name": "stdout",
     "output_type": "stream",
     "text": [
      "Generating soundscape: 593/667\n",
      "Generating soundscape: 594/667\n",
      "Generating soundscape: 595/667\n",
      "Generating soundscape: 596/667\n"
     ]
    },
    {
     "name": "stderr",
     "output_type": "stream",
     "text": [
      "/home/js7561/dev/scaper/scaper/core.py:1112: ScaperWarning: car_horn event duration (1.84) is greater that source duration (0.57), changing to 0.57\n",
      "  ScaperWarning)\n"
     ]
    },
    {
     "name": "stdout",
     "output_type": "stream",
     "text": [
      "Generating soundscape: 597/667\n"
     ]
    },
    {
     "name": "stderr",
     "output_type": "stream",
     "text": [
      "/home/js7561/dev/scaper/scaper/core.py:1199: ScaperWarning: air_conditioner event time (9.09) is too great given stretched event duration (2.06) and soundscape duration (10.00), changed to 7.94.\n",
      "  ScaperWarning)\n"
     ]
    },
    {
     "name": "stdout",
     "output_type": "stream",
     "text": [
      "Generating soundscape: 598/667\n"
     ]
    },
    {
     "name": "stderr",
     "output_type": "stream",
     "text": [
      "/home/js7561/dev/scaper/scaper/core.py:1199: ScaperWarning: children_playing event time (6.87) is too great given stretched event duration (3.82) and soundscape duration (10.00), changed to 6.18.\n",
      "  ScaperWarning)\n",
      "/home/js7561/dev/scaper/scaper/core.py:1199: ScaperWarning: siren event time (9.05) is too great given stretched event duration (1.80) and soundscape duration (10.00), changed to 8.20.\n",
      "  ScaperWarning)\n",
      "/home/js7561/dev/scaper/scaper/core.py:1112: ScaperWarning: dog_bark event duration (3.16) is greater that source duration (0.55), changing to 0.55\n",
      "  ScaperWarning)\n"
     ]
    },
    {
     "name": "stdout",
     "output_type": "stream",
     "text": [
      "Generating soundscape: 599/667\n"
     ]
    },
    {
     "name": "stderr",
     "output_type": "stream",
     "text": [
      "/home/js7561/dev/scaper/scaper/core.py:1112: ScaperWarning: gun_shot event duration (2.69) is greater that source duration (2.19), changing to 2.19\n",
      "  ScaperWarning)\n",
      "/home/js7561/dev/scaper/scaper/core.py:1199: ScaperWarning: siren event time (7.73) is too great given stretched event duration (4.26) and soundscape duration (10.00), changed to 5.74.\n",
      "  ScaperWarning)\n",
      "/home/js7561/dev/scaper/scaper/core.py:1199: ScaperWarning: engine_idling event time (8.11) is too great given stretched event duration (2.91) and soundscape duration (10.00), changed to 7.09.\n",
      "  ScaperWarning)\n"
     ]
    },
    {
     "name": "stdout",
     "output_type": "stream",
     "text": [
      "Generating soundscape: 600/667\n",
      "Generating soundscape: 601/667\n"
     ]
    },
    {
     "name": "stderr",
     "output_type": "stream",
     "text": [
      "/home/js7561/dev/scaper/scaper/core.py:1112: ScaperWarning: car_horn event duration (1.05) is greater that source duration (0.29), changing to 0.29\n",
      "  ScaperWarning)\n"
     ]
    },
    {
     "name": "stdout",
     "output_type": "stream",
     "text": [
      "Generating soundscape: 602/667\n"
     ]
    },
    {
     "name": "stderr",
     "output_type": "stream",
     "text": [
      "/home/js7561/dev/scaper/scaper/core.py:1199: ScaperWarning: dog_bark event time (8.80) is too great given stretched event duration (1.37) and soundscape duration (10.00), changed to 8.63.\n",
      "  ScaperWarning)\n",
      "/home/js7561/dev/scaper/scaper/core.py:1199: ScaperWarning: air_conditioner event time (7.04) is too great given stretched event duration (4.02) and soundscape duration (10.00), changed to 5.98.\n",
      "  ScaperWarning)\n"
     ]
    },
    {
     "name": "stdout",
     "output_type": "stream",
     "text": [
      "Generating soundscape: 603/667\n",
      "Generating soundscape: 604/667\n",
      "Generating soundscape: 605/667\n"
     ]
    },
    {
     "name": "stderr",
     "output_type": "stream",
     "text": [
      "/home/js7561/dev/scaper/scaper/core.py:1112: ScaperWarning: dog_bark event duration (1.67) is greater that source duration (1.00), changing to 1.00\n",
      "  ScaperWarning)\n"
     ]
    },
    {
     "name": "stdout",
     "output_type": "stream",
     "text": [
      "Generating soundscape: 606/667\n"
     ]
    },
    {
     "name": "stderr",
     "output_type": "stream",
     "text": [
      "/home/js7561/dev/scaper/scaper/core.py:1112: ScaperWarning: gun_shot event duration (1.22) is greater that source duration (0.26), changing to 0.26\n",
      "  ScaperWarning)\n"
     ]
    },
    {
     "name": "stdout",
     "output_type": "stream",
     "text": [
      "Generating soundscape: 607/667\n"
     ]
    },
    {
     "name": "stderr",
     "output_type": "stream",
     "text": [
      "/home/js7561/dev/scaper/scaper/core.py:1112: ScaperWarning: jackhammer event duration (2.72) is greater that source duration (1.53), changing to 1.53\n",
      "  ScaperWarning)\n",
      "/home/js7561/dev/scaper/scaper/core.py:1112: ScaperWarning: siren event duration (3.49) is greater that source duration (0.28), changing to 0.28\n",
      "  ScaperWarning)\n",
      "/home/js7561/dev/scaper/scaper/core.py:1112: ScaperWarning: gun_shot event duration (3.41) is greater that source duration (0.26), changing to 0.26\n",
      "  ScaperWarning)\n"
     ]
    },
    {
     "name": "stdout",
     "output_type": "stream",
     "text": [
      "Generating soundscape: 608/667\n",
      "Generating soundscape: 609/667\n",
      "Generating soundscape: 610/667\n"
     ]
    },
    {
     "name": "stderr",
     "output_type": "stream",
     "text": [
      "/home/js7561/dev/scaper/scaper/core.py:1112: ScaperWarning: gun_shot event duration (1.31) is greater that source duration (0.77), changing to 0.77\n",
      "  ScaperWarning)\n",
      "/home/js7561/dev/scaper/scaper/core.py:1112: ScaperWarning: gun_shot event duration (2.46) is greater that source duration (0.75), changing to 0.75\n",
      "  ScaperWarning)\n"
     ]
    },
    {
     "name": "stdout",
     "output_type": "stream",
     "text": [
      "Generating soundscape: 611/667\n"
     ]
    },
    {
     "name": "stderr",
     "output_type": "stream",
     "text": [
      "/home/js7561/dev/scaper/scaper/core.py:1112: ScaperWarning: jackhammer event duration (2.10) is greater that source duration (0.87), changing to 0.87\n",
      "  ScaperWarning)\n",
      "/home/js7561/dev/scaper/scaper/core.py:1112: ScaperWarning: car_horn event duration (3.01) is greater that source duration (2.59), changing to 2.59\n",
      "  ScaperWarning)\n"
     ]
    },
    {
     "name": "stdout",
     "output_type": "stream",
     "text": [
      "Generating soundscape: 612/667\n",
      "Generating soundscape: 613/667\n"
     ]
    },
    {
     "name": "stderr",
     "output_type": "stream",
     "text": [
      "/home/js7561/dev/scaper/scaper/core.py:1199: ScaperWarning: engine_idling event time (7.46) is too great given stretched event duration (3.49) and soundscape duration (10.00), changed to 6.51.\n",
      "  ScaperWarning)\n",
      "/home/js7561/dev/scaper/scaper/core.py:1112: ScaperWarning: dog_bark event duration (1.74) is greater that source duration (1.69), changing to 1.69\n",
      "  ScaperWarning)\n",
      "/home/js7561/dev/scaper/scaper/core.py:1112: ScaperWarning: drilling event duration (2.68) is greater that source duration (1.54), changing to 1.54\n",
      "  ScaperWarning)\n"
     ]
    },
    {
     "name": "stdout",
     "output_type": "stream",
     "text": [
      "Generating soundscape: 614/667\n"
     ]
    },
    {
     "name": "stderr",
     "output_type": "stream",
     "text": [
      "/home/js7561/dev/scaper/scaper/core.py:1112: ScaperWarning: dog_bark event duration (3.58) is greater that source duration (0.92), changing to 0.92\n",
      "  ScaperWarning)\n",
      "/home/js7561/dev/scaper/scaper/core.py:1199: ScaperWarning: siren event time (8.70) is too great given stretched event duration (1.85) and soundscape duration (10.00), changed to 8.15.\n",
      "  ScaperWarning)\n",
      "/home/js7561/dev/scaper/scaper/core.py:1112: ScaperWarning: jackhammer event duration (3.20) is greater that source duration (2.78), changing to 2.78\n",
      "  ScaperWarning)\n",
      "/home/js7561/dev/scaper/scaper/core.py:1199: ScaperWarning: engine_idling event time (7.14) is too great given stretched event duration (3.29) and soundscape duration (10.00), changed to 6.71.\n",
      "  ScaperWarning)\n"
     ]
    },
    {
     "name": "stdout",
     "output_type": "stream",
     "text": [
      "Generating soundscape: 615/667\n"
     ]
    },
    {
     "name": "stderr",
     "output_type": "stream",
     "text": [
      "/home/js7561/dev/scaper/scaper/core.py:1112: ScaperWarning: car_horn event duration (3.06) is greater that source duration (0.42), changing to 0.42\n",
      "  ScaperWarning)\n",
      "/home/js7561/dev/scaper/scaper/core.py:1199: ScaperWarning: dog_bark event time (9.90) is too great given stretched event duration (3.12) and soundscape duration (10.00), changed to 6.88.\n",
      "  ScaperWarning)\n"
     ]
    },
    {
     "name": "stdout",
     "output_type": "stream",
     "text": [
      "Generating soundscape: 616/667\n"
     ]
    },
    {
     "name": "stderr",
     "output_type": "stream",
     "text": [
      "/home/js7561/dev/scaper/scaper/core.py:1112: ScaperWarning: jackhammer event duration (3.69) is greater that source duration (1.71), changing to 1.71\n",
      "  ScaperWarning)\n",
      "/home/js7561/dev/scaper/scaper/core.py:1112: ScaperWarning: car_horn event duration (3.00) is greater that source duration (0.87), changing to 0.87\n",
      "  ScaperWarning)\n",
      "/home/js7561/dev/scaper/scaper/core.py:1199: ScaperWarning: children_playing event time (6.61) is too great given stretched event duration (3.83) and soundscape duration (10.00), changed to 6.17.\n",
      "  ScaperWarning)\n"
     ]
    },
    {
     "name": "stdout",
     "output_type": "stream",
     "text": [
      "Generating soundscape: 617/667\n",
      "Generating soundscape: 618/667\n"
     ]
    },
    {
     "name": "stderr",
     "output_type": "stream",
     "text": [
      "/home/js7561/dev/scaper/scaper/core.py:1199: ScaperWarning: engine_idling event time (5.86) is too great given stretched event duration (4.61) and soundscape duration (10.00), changed to 5.39.\n",
      "  ScaperWarning)\n"
     ]
    },
    {
     "name": "stdout",
     "output_type": "stream",
     "text": [
      "Generating soundscape: 619/667\n"
     ]
    },
    {
     "name": "stderr",
     "output_type": "stream",
     "text": [
      "/home/js7561/dev/scaper/scaper/core.py:1112: ScaperWarning: car_horn event duration (2.80) is greater that source duration (0.29), changing to 0.29\n",
      "  ScaperWarning)\n",
      "/home/js7561/dev/scaper/scaper/core.py:1112: ScaperWarning: dog_bark event duration (2.32) is greater that source duration (1.00), changing to 1.00\n",
      "  ScaperWarning)\n"
     ]
    },
    {
     "name": "stdout",
     "output_type": "stream",
     "text": [
      "Generating soundscape: 620/667\n"
     ]
    },
    {
     "name": "stderr",
     "output_type": "stream",
     "text": [
      "/home/js7561/dev/scaper/scaper/core.py:1112: ScaperWarning: car_horn event duration (2.29) is greater that source duration (0.32), changing to 0.32\n",
      "  ScaperWarning)\n"
     ]
    },
    {
     "name": "stdout",
     "output_type": "stream",
     "text": [
      "Generating soundscape: 621/667\n",
      "Generating soundscape: 622/667\n",
      "Generating soundscape: 623/667\n"
     ]
    },
    {
     "name": "stderr",
     "output_type": "stream",
     "text": [
      "/home/js7561/dev/scaper/scaper/core.py:1199: ScaperWarning: drilling event time (9.74) is too great given stretched event duration (1.69) and soundscape duration (10.00), changed to 8.31.\n",
      "  ScaperWarning)\n"
     ]
    },
    {
     "name": "stdout",
     "output_type": "stream",
     "text": [
      "Generating soundscape: 624/667\n"
     ]
    },
    {
     "name": "stderr",
     "output_type": "stream",
     "text": [
      "/home/js7561/dev/scaper/scaper/core.py:1199: ScaperWarning: engine_idling event time (6.80) is too great given stretched event duration (3.29) and soundscape duration (10.00), changed to 6.71.\n",
      "  ScaperWarning)\n"
     ]
    },
    {
     "name": "stdout",
     "output_type": "stream",
     "text": [
      "Generating soundscape: 625/667\n",
      "Generating soundscape: 626/667\n"
     ]
    },
    {
     "name": "stderr",
     "output_type": "stream",
     "text": [
      "/home/js7561/dev/scaper/scaper/core.py:1199: ScaperWarning: drilling event time (8.94) is too great given stretched event duration (4.36) and soundscape duration (10.00), changed to 5.64.\n",
      "  ScaperWarning)\n"
     ]
    },
    {
     "name": "stdout",
     "output_type": "stream",
     "text": [
      "Generating soundscape: 627/667\n"
     ]
    },
    {
     "name": "stderr",
     "output_type": "stream",
     "text": [
      "/home/js7561/dev/scaper/scaper/core.py:1199: ScaperWarning: children_playing event time (8.55) is too great given stretched event duration (1.88) and soundscape duration (10.00), changed to 8.12.\n",
      "  ScaperWarning)\n"
     ]
    },
    {
     "name": "stdout",
     "output_type": "stream",
     "text": [
      "Generating soundscape: 628/667\n"
     ]
    },
    {
     "name": "stderr",
     "output_type": "stream",
     "text": [
      "/home/js7561/dev/scaper/scaper/core.py:1112: ScaperWarning: car_horn event duration (0.70) is greater that source duration (0.52), changing to 0.52\n",
      "  ScaperWarning)\n",
      "/home/js7561/dev/scaper/scaper/core.py:1112: ScaperWarning: drilling event duration (2.23) is greater that source duration (1.99), changing to 1.99\n",
      "  ScaperWarning)\n",
      "/home/js7561/dev/scaper/scaper/core.py:1112: ScaperWarning: siren event duration (3.82) is greater that source duration (0.26), changing to 0.26\n",
      "  ScaperWarning)\n",
      "/home/js7561/dev/scaper/scaper/core.py:1112: ScaperWarning: car_horn event duration (1.91) is greater that source duration (1.10), changing to 1.10\n",
      "  ScaperWarning)\n"
     ]
    },
    {
     "name": "stdout",
     "output_type": "stream",
     "text": [
      "Generating soundscape: 629/667\n",
      "Generating soundscape: 630/667\n",
      "Generating soundscape: 631/667\n"
     ]
    },
    {
     "name": "stderr",
     "output_type": "stream",
     "text": [
      "/home/js7561/dev/scaper/scaper/core.py:1199: ScaperWarning: drilling event time (8.45) is too great given stretched event duration (3.12) and soundscape duration (10.00), changed to 6.88.\n",
      "  ScaperWarning)\n"
     ]
    }
   ],
   "source": [
    "# Generate 667 soundscapes using a UNIFORM distribution of start times\n",
    "\n",
    "for n in range(n_soundscapes):\n",
    "    \n",
    "    print('Generating soundscape: {:d}/{:d}'.format(n+1, n_soundscapes))\n",
    "    \n",
    "    # create a scaper\n",
    "    sc = scaper.Scaper(duration, fg_folder, bg_folder)\n",
    "    sc.protected_labels = []\n",
    "    sc.ref_db = ref_db\n",
    "    \n",
    "    # add background\n",
    "    sc.add_background(label=('const', 'noise'), \n",
    "                      source_file=('choose', []), \n",
    "                      source_time=('const', 0))\n",
    "\n",
    "    # add random foreground events\n",
    "    n_events = np.random.randint(min_events, max_events+1)\n",
    "    for _ in range(n_events):\n",
    "        sc.add_event(label=('choose', []), \n",
    "                     source_file=('choose', []), \n",
    "                     source_time=(source_time_dist, source_time), \n",
    "                     event_time=(event_time_dist, event_time_mean, event_time_std, event_time_min, event_time_max), \n",
    "                     event_duration=(event_duration_dist, event_duration_min, event_duration_max), \n",
    "                     snr=(snr_dist, snr_min, snr_max),\n",
    "                     pitch_shift=(pitch_dist, pitch_min, pitch_max),\n",
    "                     time_stretch=(time_stretch_dist, time_stretch_min, time_stretch_max))\n",
    "    \n",
    "    # generate\n",
    "    audiofile = os.path.join(outfolder, \"soundscape_validate_unimodal{:d}.wav\".format(n))\n",
    "    jamsfile = os.path.join(outfolder, \"soundscape_validate_unimodal{:d}.jams\".format(n))\n",
    "    txtfile = os.path.join(outfolder, \"soundscape_validate_unimodal{:d}.txt\".format(n))\n",
    "    \n",
    "    sc.generate(audiofile, jamsfile,\n",
    "                allow_repeated_label=True,\n",
    "                allow_repeated_source=False,\n",
    "                reverb=0.1,\n",
    "                disable_sox_warnings=True,\n",
    "                no_audio=False,\n",
    "                txt_path=txtfile)"
   ]
  },
  {
   "cell_type": "code",
   "execution_count": null,
   "metadata": {
    "collapsed": true,
    "deletable": true,
    "editable": true
   },
   "outputs": [],
   "source": []
  }
 ],
 "metadata": {
  "kernelspec": {
   "display_name": "Python 3",
   "language": "python",
   "name": "python3"
  },
  "language_info": {
   "codemirror_mode": {
    "name": "ipython",
    "version": 3
   },
   "file_extension": ".py",
   "mimetype": "text/x-python",
   "name": "python",
   "nbconvert_exporter": "python",
   "pygments_lexer": "ipython3",
   "version": "3.5.3"
  }
 },
 "nbformat": 4,
 "nbformat_minor": 2
}
