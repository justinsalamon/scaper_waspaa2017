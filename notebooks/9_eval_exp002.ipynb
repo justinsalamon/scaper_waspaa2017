{
 "cells": [
  {
   "cell_type": "code",
   "execution_count": 1,
   "metadata": {
    "collapsed": false,
    "deletable": true,
    "editable": true
   },
   "outputs": [],
   "source": [
    "from scaper_waspaa2017.urban_sed_crnn import eval as E\n",
    "from imp import reload"
   ]
  },
  {
   "cell_type": "code",
   "execution_count": 5,
   "metadata": {
    "collapsed": false
   },
   "outputs": [],
   "source": [
    "def print_classwise_results(results):\n",
    "    \n",
    "    for label in sorted(results['results1s']['class_wise'].keys()):\n",
    "        \n",
    "        print(label)\n",
    "        # Report scores\n",
    "        scores = (\n",
    "            'F1s: {:.4f}, P1s: {:.4f}, R1s: {:.4f}, F100ms: {:.4f}, '\n",
    "            'P100ms: {:.4f}, R100ms: {:.4f} | E1s: {:.4f}, '\n",
    "            'E100ms: {:.4f}'.format(\n",
    "                results['results1s']['class_wise'][label]['f_measure']['f_measure'],\n",
    "                results['results1s']['class_wise'][label]['f_measure']['precision'],\n",
    "                results['results1s']['class_wise'][label]['f_measure']['recall'],\n",
    "                results['results100ms']['class_wise'][label]['f_measure']['f_measure'],\n",
    "                results['results100ms']['class_wise'][label]['f_measure']['precision'],\n",
    "                results['results100ms']['class_wise'][label]['f_measure']['recall'],\n",
    "                results['results1s']['class_wise'][label]['error_rate']['error_rate'],\n",
    "                results['results100ms']['class_wise'][label]['error_rate']['error_rate']\n",
    "            ))\n",
    "        print(scores)\n",
    "        print(\" \")"
   ]
  },
  {
   "cell_type": "markdown",
   "metadata": {
    "deletable": true,
    "editable": true
   },
   "source": [
    "# RESLUTS SUMMARY"
   ]
  },
  {
   "cell_type": "markdown",
   "metadata": {
    "deletable": true,
    "editable": true
   },
   "source": [
    "## CRNN ~750k params"
   ]
  },
  {
   "cell_type": "code",
   "execution_count": 8,
   "metadata": {
    "collapsed": false,
    "deletable": true,
    "editable": true
   },
   "outputs": [
    {
     "name": "stdout",
     "output_type": "stream",
     "text": [
      "F1s: 0.4618, P1s: 0.4093, R1s: 0.5299, F100ms: 0.4387, P100ms: 0.4076, R100ms: 0.4750 | E1s: 0.9846, E100ms: 0.9834\n"
     ]
    }
   ],
   "source": [
    "# eval with 1st transform\n",
    "reload(E)\n",
    "results = E.evaluate('exp002', load_predictions=True)"
   ]
  },
  {
   "cell_type": "markdown",
   "metadata": {
    "deletable": true,
    "editable": true
   },
   "source": [
    "### dig deeper"
   ]
  },
  {
   "cell_type": "code",
   "execution_count": 6,
   "metadata": {
    "collapsed": false,
    "deletable": true,
    "editable": true
   },
   "outputs": [
    {
     "name": "stdout",
     "output_type": "stream",
     "text": [
      "air_conditioner\n",
      "F1s: 0.4117, P1s: 0.4980, R1s: 0.3510, F100ms: 0.3884, P100ms: 0.5214, R100ms: 0.3094 | E1s: 1.0028, E100ms: 0.9745\n",
      " \n",
      "car_horn\n",
      "F1s: 0.3654, P1s: 0.7041, R1s: 0.2467, F100ms: 0.3474, P100ms: 0.6678, R100ms: 0.2348 | E1s: 0.8570, E100ms: 0.8820\n",
      " \n",
      "children_playing\n",
      "F1s: 0.4708, P1s: 0.5638, R1s: 0.4041, F100ms: 0.4420, P100ms: 0.5546, R100ms: 0.3674 | E1s: 0.9085, E100ms: 0.9277\n",
      " \n",
      "dog_bark\n",
      "F1s: 0.3780, P1s: 0.6740, R1s: 0.2626, F100ms: 0.3353, P100ms: 0.6443, R100ms: 0.2266 | E1s: 0.8644, E100ms: 0.8985\n",
      " \n",
      "drilling\n",
      "F1s: 0.2208, P1s: 0.1507, R1s: 0.4135, F100ms: 0.1883, P100ms: 0.1324, R100ms: 0.3259 | E1s: 2.9175, E100ms: 2.8100\n",
      " \n",
      "engine_idling\n",
      "F1s: 0.5865, P1s: 0.6582, R1s: 0.5289, F100ms: 0.5512, P100ms: 0.6651, R100ms: 0.4707 | E1s: 0.7458, E100ms: 0.7663\n",
      " \n",
      "gun_shot\n",
      "F1s: 0.4873, P1s: 0.9057, R1s: 0.3333, F100ms: 0.4195, P100ms: 0.8362, R100ms: 0.2799 | E1s: 0.7014, E100ms: 0.7749\n",
      " \n",
      "jackhammer\n",
      "F1s: 0.6042, P1s: 0.4571, R1s: 0.8909, F100ms: 0.6012, P100ms: 0.4607, R100ms: 0.8649 | E1s: 1.1672, E100ms: 1.1475\n",
      " \n",
      "siren\n",
      "F1s: 0.6136, P1s: 0.7852, R1s: 0.5036, F100ms: 0.5851, P100ms: 0.7792, R100ms: 0.4684 | E1s: 0.6342, E100ms: 0.6643\n",
      " \n",
      "street_music\n",
      "F1s: 0.5117, P1s: 0.6521, R1s: 0.4210, F100ms: 0.4741, P100ms: 0.6384, R100ms: 0.3771 | E1s: 0.8036, E100ms: 0.8365\n",
      " \n"
     ]
    }
   ],
   "source": [
    "print_classwise_results(results)"
   ]
  },
  {
   "cell_type": "code",
   "execution_count": null,
   "metadata": {
    "collapsed": true
   },
   "outputs": [],
   "source": []
  }
 ],
 "metadata": {
  "kernelspec": {
   "display_name": "Python 3",
   "language": "python",
   "name": "python3"
  },
  "language_info": {
   "codemirror_mode": {
    "name": "ipython",
    "version": 3
   },
   "file_extension": ".py",
   "mimetype": "text/x-python",
   "name": "python",
   "nbconvert_exporter": "python",
   "pygments_lexer": "ipython3",
   "version": "3.5.3"
  }
 },
 "nbformat": 4,
 "nbformat_minor": 2
}
