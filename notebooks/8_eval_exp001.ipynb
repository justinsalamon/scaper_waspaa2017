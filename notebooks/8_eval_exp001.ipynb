{
 "cells": [
  {
   "cell_type": "code",
   "execution_count": 1,
   "metadata": {
    "collapsed": false
   },
   "outputs": [],
   "source": [
    "from scaper_waspaa2017.urban_sed import eval as E\n",
    "from imp import reload"
   ]
  },
  {
   "cell_type": "code",
   "execution_count": 12,
   "metadata": {
    "collapsed": false
   },
   "outputs": [],
   "source": [
    "def print_claswise_results(results):\n",
    "    \n",
    "    for label in sorted(results['results1s']['class_wise'].keys()):\n",
    "        print(label)\n",
    "\n",
    "        # Report scores\n",
    "        scores = (\n",
    "            'F1s: {:.4f}, P1s: {:.4f}, R1s: {:.4f}, F100ms: {:.4f}, '\n",
    "            'P100ms: {:.4f}, R100ms: {:.4f} | E1s: {:.4f}, '\n",
    "            'E100ms: {:.4f}'.format(\n",
    "                results['results1s']['class_wise'][label]['f_measure']['f_measure'],\n",
    "                results['results1s']['class_wise'][label]['f_measure']['precision'],\n",
    "                results['results1s']['class_wise'][label]['f_measure']['recall'],\n",
    "                results['results100ms']['class_wise'][label]['f_measure']['f_measure'],\n",
    "                results['results100ms']['class_wise'][label]['f_measure']['precision'],\n",
    "                results['results100ms']['class_wise'][label]['f_measure']['recall'],\n",
    "                results['results1s']['class_wise'][label]['error_rate']['error_rate'],\n",
    "                results['results100ms']['class_wise'][label]['error_rate']['error_rate']\n",
    "            ))\n",
    "        print(scores)\n",
    "        print(\" \")"
   ]
  },
  {
   "cell_type": "markdown",
   "metadata": {},
   "source": [
    "# RESLUTS SUMMARY"
   ]
  },
  {
   "cell_type": "markdown",
   "metadata": {},
   "source": [
    "## CNN ~750k params"
   ]
  },
  {
   "cell_type": "code",
   "execution_count": 2,
   "metadata": {
    "collapsed": false
   },
   "outputs": [
    {
     "name": "stdout",
     "output_type": "stream",
     "text": [
      "F1s: 0.5688, P1s: 0.6911, R1s: 0.4833, F100ms: 0.5688, P100ms: 0.6911, R100ms: 0.4833 | E1s: 0.5770, E100ms: 0.5770\n"
     ]
    }
   ],
   "source": [
    "# eval with 1st transform\n",
    "reload(E)\n",
    "results001 = E.evaluate('exp001', load_predictions=True)"
   ]
  },
  {
   "cell_type": "markdown",
   "metadata": {},
   "source": [
    "### dig deeper"
   ]
  },
  {
   "cell_type": "code",
   "execution_count": 13,
   "metadata": {
    "collapsed": false
   },
   "outputs": [
    {
     "name": "stdout",
     "output_type": "stream",
     "text": [
      "air_conditioner\n",
      "F1s: 0.3387, P1s: 0.5408, R1s: 0.2466, F100ms: 0.3387, P100ms: 0.5408, R100ms: 0.2466 | E1s: 0.9628, E100ms: 0.9628\n",
      " \n",
      "car_horn\n",
      "F1s: 0.6882, P1s: 0.8228, R1s: 0.5914, F100ms: 0.6882, P100ms: 0.8228, R100ms: 0.5914 | E1s: 0.5359, E100ms: 0.5359\n",
      " \n",
      "children_playing\n",
      "F1s: 0.4918, P1s: 0.6446, R1s: 0.3976, F100ms: 0.4918, P100ms: 0.6446, R100ms: 0.3976 | E1s: 0.8216, E100ms: 0.8216\n",
      " \n",
      "dog_bark\n",
      "F1s: 0.5175, P1s: 0.7253, R1s: 0.4023, F100ms: 0.5175, P100ms: 0.7253, R100ms: 0.4023 | E1s: 0.7501, E100ms: 0.7501\n",
      " \n",
      "drilling\n",
      "F1s: 0.5792, P1s: 0.5531, R1s: 0.6079, F100ms: 0.5792, P100ms: 0.5531, R100ms: 0.6079 | E1s: 0.8832, E100ms: 0.8832\n",
      " \n",
      "engine_idling\n",
      "F1s: 0.5103, P1s: 0.7236, R1s: 0.3942, F100ms: 0.5103, P100ms: 0.7236, R100ms: 0.3942 | E1s: 0.7564, E100ms: 0.7564\n",
      " \n",
      "gun_shot\n",
      "F1s: 0.5035, P1s: 0.7283, R1s: 0.3847, F100ms: 0.5035, P100ms: 0.7283, R100ms: 0.3847 | E1s: 0.7588, E100ms: 0.7588\n",
      " \n",
      "jackhammer\n",
      "F1s: 0.7500, P1s: 0.7090, R1s: 0.7962, F100ms: 0.7500, P100ms: 0.7090, R100ms: 0.7962 | E1s: 0.5307, E100ms: 0.5307\n",
      " \n",
      "siren\n",
      "F1s: 0.6369, P1s: 0.8059, R1s: 0.5264, F100ms: 0.6369, P100ms: 0.8059, R100ms: 0.5264 | E1s: 0.6004, E100ms: 0.6004\n",
      " \n",
      "street_music\n",
      "F1s: 0.5916, P1s: 0.7321, R1s: 0.4964, F100ms: 0.5916, P100ms: 0.7321, R100ms: 0.4964 | E1s: 0.6853, E100ms: 0.6853\n",
      " \n"
     ]
    }
   ],
   "source": [
    "print_claswise_results(results001)"
   ]
  },
  {
   "cell_type": "code",
   "execution_count": null,
   "metadata": {
    "collapsed": true
   },
   "outputs": [],
   "source": []
  }
 ],
 "metadata": {
  "kernelspec": {
   "display_name": "Python 3",
   "language": "python",
   "name": "python3"
  },
  "language_info": {
   "codemirror_mode": {
    "name": "ipython",
    "version": 3
   },
   "file_extension": ".py",
   "mimetype": "text/x-python",
   "name": "python",
   "nbconvert_exporter": "python",
   "pygments_lexer": "ipython3",
   "version": "3.5.3"
  }
 },
 "nbformat": 4,
 "nbformat_minor": 2
}
