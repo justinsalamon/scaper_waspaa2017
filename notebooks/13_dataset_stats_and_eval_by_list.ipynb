{
 "cells": [
  {
   "cell_type": "code",
   "execution_count": 1,
   "metadata": {
    "collapsed": false,
    "deletable": true,
    "editable": true
   },
   "outputs": [],
   "source": [
    "%matplotlib inline\n",
    "import matplotlib.pyplot as plt\n",
    "import seaborn as sns\n",
    "from scaper_waspaa2017.urban_sed import eval as E\n",
    "from scaper_waspaa2017.urban_sed_crnn import eval as ECR\n",
    "from imp import reload\n",
    "import glob\n",
    "import os\n",
    "import pandas as pd\n",
    "import scaper\n",
    "import jams\n",
    "import numpy as np\n",
    "from tqdm import tqdm"
   ]
  },
  {
   "cell_type": "markdown",
   "metadata": {
    "deletable": true,
    "editable": true
   },
   "source": [
    "## First run on all files to ensure consistent results"
   ]
  },
  {
   "cell_type": "code",
   "execution_count": 2,
   "metadata": {
    "collapsed": true,
    "deletable": true,
    "editable": true
   },
   "outputs": [],
   "source": [
    "reload(E)\n",
    "feature_folder_test = '/scratch/js7561/datasets/scaper_waspaa2017/urban-sed/features/logmelspec1764_128/test/'\n",
    "file_list = sorted(glob.glob(os.path.join(feature_folder_test, '*.npy.gz')))\n",
    "file_list = [os.path.basename(x).replace('.npy.gz', '') for x in file_list]"
   ]
  },
  {
   "cell_type": "code",
   "execution_count": 3,
   "metadata": {
    "collapsed": false,
    "deletable": true,
    "editable": true
   },
   "outputs": [
    {
     "data": {
      "text/plain": [
       "2000"
      ]
     },
     "execution_count": 3,
     "metadata": {},
     "output_type": "execute_result"
    }
   ],
   "source": [
    "len(file_list)"
   ]
  },
  {
   "cell_type": "code",
   "execution_count": 2,
   "metadata": {
    "collapsed": false,
    "deletable": true,
    "editable": true
   },
   "outputs": [
    {
     "name": "stdout",
     "output_type": "stream",
     "text": [
      "F1s: 0.5688, P1s: 0.6911, R1s: 0.4833, F100ms: 0.5688, P100ms: 0.6911, R100ms: 0.4833 | E1s: 0.5770, E100ms: 0.5770\n"
     ]
    }
   ],
   "source": [
    "results001_all = E.evaluate_file_list('exp001', file_list, load_predictions=True, large_cnn=False)"
   ]
  },
  {
   "cell_type": "code",
   "execution_count": 5,
   "metadata": {
    "collapsed": false,
    "deletable": true,
    "editable": true
   },
   "outputs": [
    {
     "name": "stdout",
     "output_type": "stream",
     "text": [
      "F1s: 0.4957, P1s: 0.4410, R1s: 0.5660, F100ms: 0.4785, P100ms: 0.4438, R100ms: 0.5191 | E1s: 0.8769, E100ms: 0.8520\n"
     ]
    }
   ],
   "source": [
    "# Note we use exp004 for exp002\n",
    "results002_all = ECR.evaluate_file_list('exp004', file_list, load_predictions=True)"
   ]
  },
  {
   "cell_type": "code",
   "execution_count": 4,
   "metadata": {
    "collapsed": false,
    "deletable": true,
    "editable": true
   },
   "outputs": [
    {
     "name": "stdout",
     "output_type": "stream",
     "text": [
      "F1s: 0.5778, P1s: 0.6720, R1s: 0.5069, F100ms: 0.5778, P100ms: 0.6720, R100ms: 0.5069 | E1s: 0.5595, E100ms: 0.5595\n"
     ]
    }
   ],
   "source": [
    "results003_all = E.evaluate_file_list('exp003', file_list, load_predictions=True, large_cnn=True)"
   ]
  },
  {
   "cell_type": "markdown",
   "metadata": {
    "deletable": true,
    "editable": true
   },
   "source": [
    "## Run eval_per_file to see how it compares"
   ]
  },
  {
   "cell_type": "code",
   "execution_count": 3,
   "metadata": {
    "collapsed": false,
    "deletable": true,
    "editable": true
   },
   "outputs": [
    {
     "name": "stdout",
     "output_type": "stream",
     "text": [
      "F1s: 0.5688, P1s: 0.6911, R1s: 0.4833, F100ms: 0.5688, P100ms: 0.6911, R100ms: 0.4833 | E1s: 0.5770, E100ms: 0.5770\n"
     ]
    }
   ],
   "source": [
    "results001_perfile = E.evaluate_per_file('exp001', file_list, load_predictions=True, large_cnn=False)"
   ]
  },
  {
   "cell_type": "code",
   "execution_count": 6,
   "metadata": {
    "collapsed": false,
    "deletable": true,
    "editable": true
   },
   "outputs": [
    {
     "name": "stdout",
     "output_type": "stream",
     "text": [
      "F1s: 0.4953, P1s: 0.4397, R1s: 0.5670, F100ms: 0.4781, P100ms: 0.4418, R100ms: 0.5208 | E1s: 0.8872, E100ms: 0.8572\n"
     ]
    }
   ],
   "source": [
    "results002_perfile = ECR.evaluate_per_file('exp004', file_list, load_predictions=True)"
   ]
  },
  {
   "cell_type": "code",
   "execution_count": 5,
   "metadata": {
    "collapsed": false,
    "deletable": true,
    "editable": true
   },
   "outputs": [
    {
     "name": "stdout",
     "output_type": "stream",
     "text": [
      "F1s: 0.5778, P1s: 0.6720, R1s: 0.5069, F100ms: 0.5778, P100ms: 0.6720, R100ms: 0.5069 | E1s: 0.5595, E100ms: 0.5595\n"
     ]
    }
   ],
   "source": [
    "results003_perfile = E.evaluate_per_file('exp003', file_list, load_predictions=True, large_cnn=True)"
   ]
  },
  {
   "cell_type": "markdown",
   "metadata": {
    "deletable": true,
    "editable": true
   },
   "source": [
    "conclusion: the per_file eval and file_list eval produce sufficiently similar results such that they can be used interchangeably :)"
   ]
  },
  {
   "cell_type": "markdown",
   "metadata": {
    "deletable": true,
    "editable": true
   },
   "source": [
    "## Get some stats on test set"
   ]
  },
  {
   "cell_type": "code",
   "execution_count": 5,
   "metadata": {
    "collapsed": false,
    "deletable": true,
    "editable": true
   },
   "outputs": [
    {
     "name": "stderr",
     "output_type": "stream",
     "text": [
      "100%|██████████| 2000/2000 [01:31<00:00, 19.62it/s]\n"
     ]
    }
   ],
   "source": [
    "metafolder = '/scratch/js7561/datasets/scaper_waspaa2017/urban-sed/metadata/test/'\n",
    "\n",
    "vals_maxpoly = []\n",
    "vals_nevents = []\n",
    "vals_gini = []\n",
    "vals_avg_snr = []\n",
    "vals_fg_events = ({'event_duration': [],\n",
    "                  'event_time': [],\n",
    "                  'label': [],\n",
    "                  'pitch_shift': [],\n",
    "                  'snr': [],\n",
    "                  'time_stretch': []})\n",
    "\n",
    "event_properties = ['event_duration', 'event_time', 'label', 'pitch_shift', 'snr', 'time_stretch']\n",
    "\n",
    "for filename in tqdm(file_list):\n",
    "\n",
    "    jamfile = os.path.join(metafolder, filename + '.jams')\n",
    "    jam = jams.load(jamfile)\n",
    "                 \n",
    "    vals_maxpoly.append(jam.annotations[0].sandbox['scaper']['polyphony_max'])\n",
    "    vals_nevents.append(jam.annotations[0].sandbox['scaper']['n_events'])\n",
    "    vals_gini.append(jam.annotations[0].sandbox['scaper']['polyphony_gini'])\n",
    "    \n",
    "    snrs = []\n",
    "    for event in jam.annotations[0].data['value']:\n",
    "        if event['role'] == 'foreground':\n",
    "            for prop in event_properties:\n",
    "                vals_fg_events[prop].append(event[prop])\n",
    "                \n",
    "            snrs.append(event['snr'])\n",
    "    vals_avg_snr.append(np.mean(snrs))"
   ]
  },
  {
   "cell_type": "markdown",
   "metadata": {
    "deletable": true,
    "editable": true
   },
   "source": [
    "### distribution of n_events"
   ]
  },
  {
   "cell_type": "code",
   "execution_count": 8,
   "metadata": {
    "collapsed": false,
    "deletable": true,
    "editable": true
   },
   "outputs": [
    {
     "data": {
      "image/png": "[encoded data removed]",
      "text/plain": [
       "<matplotlib.figure.Figure at 0x2b4181d51f98>"
      ]
     },
     "metadata": {},
     "output_type": "display_data"
    },
    {
     "name": "stdout",
     "output_type": "stream",
     "text": [
      "(array([ 237.,  234.,  207.,  234.,  206.,  212.,  201.,  236.,  233.]), array([ 0.5,  1.5,  2.5,  3.5,  4.5,  5.5,  6.5,  7.5,  8.5,  9.5]), <a list of 9 Patch objects>)\n"
     ]
    }
   ],
   "source": [
    "fig = plt.figure(figsize=(8, 3))\n",
    "counts = plt.hist(vals_nevents, bins=np.arange(0, 10)+0.5, width=0.9)\n",
    "plt.xticks(range(10), ha='right')\n",
    "plt.ylabel('Soundscapes')\n",
    "plt.xlabel('n_events')\n",
    "plt.show()\n",
    "print(counts)"
   ]
  },
  {
   "cell_type": "code",
   "execution_count": 9,
   "metadata": {
    "collapsed": false,
    "deletable": true,
    "editable": true
   },
   "outputs": [
    {
     "data": {
      "text/plain": [
       "9956"
      ]
     },
     "execution_count": 9,
     "metadata": {},
     "output_type": "execute_result"
    }
   ],
   "source": [
    "# How many events total?\n",
    "len(vals_fg_events['label'])"
   ]
  },
  {
   "cell_type": "code",
   "execution_count": 10,
   "metadata": {
    "collapsed": false,
    "deletable": true,
    "editable": true
   },
   "outputs": [
    {
     "data": {
      "text/plain": [
       "car_horn            1033\n",
       "drilling            1025\n",
       "dog_bark            1016\n",
       "children_playing     999\n",
       "siren                998\n",
       "engine_idling        998\n",
       "gun_shot             995\n",
       "street_music         977\n",
       "air_conditioner      964\n",
       "jackhammer           951\n",
       "Name: 0, dtype: int64"
      ]
     },
     "execution_count": 10,
     "metadata": {},
     "output_type": "execute_result"
    }
   ],
   "source": [
    "# How many events of each class?\n",
    "df_label = pd.DataFrame(vals_fg_events['label'])\n",
    "df_label[0].value_counts()"
   ]
  },
  {
   "cell_type": "markdown",
   "metadata": {
    "deletable": true,
    "editable": true
   },
   "source": [
    "### distirbution of max poly"
   ]
  },
  {
   "cell_type": "code",
   "execution_count": 11,
   "metadata": {
    "collapsed": false,
    "deletable": true,
    "editable": true
   },
   "outputs": [
    {
     "data": {
      "image/png": "[encoded data removed]",
      "text/plain": [
       "<matplotlib.figure.Figure at 0x2b4182012358>"
      ]
     },
     "metadata": {},
     "output_type": "display_data"
    },
    {
     "name": "stdout",
     "output_type": "stream",
     "text": [
      "(array([ 402.,  445.,  479.,  382.,  204.,   67.,   21.,    0.,    0.]), array([ 0.5,  1.5,  2.5,  3.5,  4.5,  5.5,  6.5,  7.5,  8.5,  9.5]), <a list of 9 Patch objects>)\n"
     ]
    }
   ],
   "source": [
    "fig = plt.figure(figsize=(8, 3))\n",
    "counts = plt.hist(vals_maxpoly, bins=np.arange(0, 10)+0.5, width=0.9)\n",
    "plt.xticks(range(10), ha='right')\n",
    "plt.ylabel('Soundscapes')\n",
    "plt.xlabel('max polyphony')\n",
    "plt.show()\n",
    "print(counts)"
   ]
  },
  {
   "cell_type": "markdown",
   "metadata": {
    "deletable": true,
    "editable": true
   },
   "source": [
    "### distribution of gini"
   ]
  },
  {
   "cell_type": "code",
   "execution_count": 12,
   "metadata": {
    "collapsed": false,
    "deletable": true,
    "editable": true
   },
   "outputs": [
    {
     "data": {
      "image/png": "[encoded data removed]",
      "text/plain": [
       "<matplotlib.figure.Figure at 0x2b4181d51da0>"
      ]
     },
     "metadata": {},
     "output_type": "display_data"
    },
    {
     "name": "stdout",
     "output_type": "stream",
     "text": [
      "(array([  58.,  113.,  183.,  339.,  473.,  455.,  272.,   92.,   14.,    1.]), array([ 0. ,  0.1,  0.2,  0.3,  0.4,  0.5,  0.6,  0.7,  0.8,  0.9,  1. ]), <a list of 10 Patch objects>)\n"
     ]
    }
   ],
   "source": [
    "fig = plt.figure(figsize=(8, 3))\n",
    "counts = plt.hist(vals_gini, bins=np.arange(0, 1.1, 0.1), width=0.09)\n",
    "plt.xticks(np.arange(0, 1.1, 0.1), ha='center')\n",
    "plt.ylabel('Soundscapes')\n",
    "plt.xlabel('gini')\n",
    "plt.show()\n",
    "print(counts)"
   ]
  },
  {
   "cell_type": "markdown",
   "metadata": {
    "deletable": true,
    "editable": true
   },
   "source": [
    "### distribution of avg snr"
   ]
  },
  {
   "cell_type": "code",
   "execution_count": 13,
   "metadata": {
    "collapsed": false,
    "deletable": true,
    "editable": true
   },
   "outputs": [
    {
     "data": {
      "image/png": "[encoded data removed]",
      "text/plain": [
       "<matplotlib.figure.Figure at 0x2b41820b18d0>"
      ]
     },
     "metadata": {},
     "output_type": "display_data"
    },
    {
     "name": "stdout",
     "output_type": "stream",
     "text": [
      "(array([  31.,   83.,  258.,  631.,  629.,  246.,   87.,   35.]), array([ 6,  9, 12, 15, 18, 21, 24, 27, 30]), <a list of 8 Patch objects>)\n"
     ]
    }
   ],
   "source": [
    "fig = plt.figure(figsize=(8, 3))\n",
    "counts = plt.hist(vals_avg_snr, bins=np.arange(6, 31, 3), width=2.9)\n",
    "plt.xticks(np.arange(6, 31, 3), ha='center')\n",
    "plt.ylabel('Soundscapes')\n",
    "plt.xlabel('Average SNR')\n",
    "plt.show()\n",
    "print(counts)"
   ]
  },
  {
   "cell_type": "markdown",
   "metadata": {
    "deletable": true,
    "editable": true
   },
   "source": [
    "### distribution of event properties"
   ]
  },
  {
   "cell_type": "code",
   "execution_count": 14,
   "metadata": {
    "collapsed": false,
    "deletable": true,
    "editable": true,
    "scrolled": false
   },
   "outputs": [
    {
     "data": {
      "image/png": "[encoded data removed]",
      "text/plain": [
       "<matplotlib.figure.Figure at 0x2b4182126da0>"
      ]
     },
     "metadata": {},
     "output_type": "display_data"
    },
    {
     "name": "stdout",
     "output_type": "stream",
     "text": [
      "(array([  447.,  1343.,  1434.,  1230.,  1110.,   970.,   897.,   864.,\n",
      "         840.,   821.]), array([ 0.17      ,  0.5529958 ,  0.93599161,  1.31898741,  1.70198322,\n",
      "        2.08497902,  2.46797482,  2.85097063,  3.23396643,  3.61696224,\n",
      "        3.99995804]), <a list of 10 Patch objects>)\n"
     ]
    },
    {
     "data": {
      "image/png": "[encoded data removed]",
      "text/plain": [
       "<matplotlib.figure.Figure at 0x2b41821f21d0>"
      ]
     },
     "metadata": {},
     "output_type": "display_data"
    },
    {
     "name": "stdout",
     "output_type": "stream",
     "text": [
      "(array([  545.,   733.,   961.,  1213.,  1427.,  1451.,  1565.,  1194.,\n",
      "         647.,   220.]), array([  9.76967818e-04,   9.79467106e-01,   1.95795724e+00,\n",
      "         2.93644738e+00,   3.91493752e+00,   4.89342766e+00,\n",
      "         5.87191780e+00,   6.85040793e+00,   7.82889807e+00,\n",
      "         8.80738821e+00,   9.78587835e+00]), <a list of 10 Patch objects>)\n"
     ]
    },
    {
     "data": {
      "image/png": "[encoded data removed]",
      "text/plain": [
       "<matplotlib.figure.Figure at 0x2b41823049e8>"
      ]
     },
     "metadata": {},
     "output_type": "display_data"
    },
    {
     "name": "stdout",
     "output_type": "stream",
     "text": [
      "(array([ 1007.,   954.,   951.,  1010.,   994.,   966.,  1021.,  1049.,\n",
      "         965.,  1039.]), array([ -2.99875374e+00,  -2.39893342e+00,  -1.79911310e+00,\n",
      "        -1.19929278e+00,  -5.99472461e-01,   3.47859939e-04,\n",
      "         6.00168181e-01,   1.19998850e+00,   1.79980882e+00,\n",
      "         2.39962914e+00,   2.99944946e+00]), <a list of 10 Patch objects>)\n"
     ]
    },
    {
     "data": {
      "image/png": "[encoded data removed]",
      "text/plain": [
       "<matplotlib.figure.Figure at 0x2b41500e6b38>"
      ]
     },
     "metadata": {},
     "output_type": "display_data"
    },
    {
     "name": "stdout",
     "output_type": "stream",
     "text": [
      "(array([  987.,  1001.,   995.,  1042.,   986.,   982.,   999.,   944.,\n",
      "        1054.,   966.]), array([  6.00062362,   8.39999264,  10.79936166,  13.19873068,\n",
      "        15.5980997 ,  17.99746873,  20.39683775,  22.79620677,\n",
      "        25.19557579,  27.59494481,  29.99431383]), <a list of 10 Patch objects>)\n"
     ]
    },
    {
     "data": {
      "image/png": "[encoded data removed]",
      "text/plain": [
       "<matplotlib.figure.Figure at 0x2b4182323550>"
      ]
     },
     "metadata": {},
     "output_type": "display_data"
    },
    {
     "name": "stdout",
     "output_type": "stream",
     "text": [
      "(array([  973.,  1001.,  1011.,  1044.,   982.,  1023.,   949.,  1009.,\n",
      "        1005.,   959.]), array([ 0.80001954,  0.84001237,  0.88000519,  0.91999801,  0.95999083,\n",
      "        0.99998365,  1.03997648,  1.0799693 ,  1.11996212,  1.15995494,\n",
      "        1.19994777]), <a list of 10 Patch objects>)\n"
     ]
    }
   ],
   "source": [
    "for prop in event_properties:\n",
    "    \n",
    "    if prop != 'label':\n",
    "        fig = plt.figure(figsize=(8, 3))\n",
    "        counts = plt.hist(vals_fg_events[prop])\n",
    "    #     plt.xticks(np.arange(0, 1.1, 0.1), ha='center')\n",
    "        plt.ylabel('Soundscapes')\n",
    "        plt.xlabel(prop)\n",
    "        plt.show()\n",
    "        print(counts)"
   ]
  },
  {
   "cell_type": "markdown",
   "metadata": {
    "deletable": true,
    "editable": true
   },
   "source": [
    "## Generate file lists for all conditions"
   ]
  },
  {
   "cell_type": "code",
   "execution_count": 21,
   "metadata": {
    "collapsed": false,
    "deletable": true,
    "editable": true
   },
   "outputs": [
    {
     "name": "stderr",
     "output_type": "stream",
     "text": [
      "100%|██████████| 2000/2000 [00:38<00:00, 51.77it/s]\n"
     ]
    }
   ],
   "source": [
    "metafolder = '/scratch/js7561/datasets/scaper_waspaa2017/urban-sed/metadata/test/'\n",
    "\n",
    "file_list_bymaxpoly = [[] for _ in range(9)]\n",
    "file_list_bynevents = [[] for _ in range(9)]\n",
    "file_list_bygini = [[] for _ in range(10)]\n",
    "file_list_byavgsnr = [[] for _ in range(8)]\n",
    "file_list_byavgsnr_half = [[] for _ in range(4)]\n",
    "\n",
    "# Get file lists    \n",
    "for filename in tqdm(file_list):\n",
    "\n",
    "    jamfile = os.path.join(metafolder, filename + '.jams')\n",
    "    jam = jams.load(jamfile)\n",
    "    \n",
    "    poly = jam.annotations[0].sandbox['scaper']['polyphony_max']\n",
    "    file_list_bymaxpoly[poly-1].append(filename)\n",
    "    \n",
    "    n_events = jam.annotations[0].sandbox['scaper']['n_events']\n",
    "    file_list_bynevents[n_events-1].append(filename)\n",
    "    \n",
    "    gini = jam.annotations[0].sandbox['scaper']['polyphony_gini']\n",
    "    gini = int(np.floor(gini * 10))\n",
    "    file_list_bygini[gini].append(filename)\n",
    "    \n",
    "    snrs = []\n",
    "    for event in jam.annotations[0].data['value']:\n",
    "        if event['role'] == 'foreground':\n",
    "            snrs.append(event['snr'])\n",
    "    avg_snr = np.mean(snrs)\n",
    "\n",
    "    if avg_snr < 9:\n",
    "        bin = 0\n",
    "    elif avg_snr < 12:\n",
    "        bin = 1\n",
    "    elif avg_snr < 15:\n",
    "        bin = 2\n",
    "    elif avg_snr < 18:\n",
    "        bin = 3\n",
    "    elif avg_snr < 21:\n",
    "        bin = 4\n",
    "    elif avg_snr < 24:\n",
    "        bin = 5\n",
    "    elif avg_snr < 27:\n",
    "        bin = 6\n",
    "    else:\n",
    "        bin = 7\n",
    "    file_list_byavgsnr[bin].append(filename)\n",
    "        \n",
    "    if avg_snr < 12:\n",
    "        hbin = 0\n",
    "    elif avg_snr < 18:\n",
    "        hbin = 1\n",
    "    elif avg_snr < 24:\n",
    "        hbin = 2\n",
    "    else:\n",
    "        hbin = 3\n",
    "    file_list_byavgsnr_half[hbin].append(filename)"
   ]
  },
  {
   "cell_type": "code",
   "execution_count": 22,
   "metadata": {
    "collapsed": false,
    "deletable": true,
    "editable": true
   },
   "outputs": [
    {
     "name": "stdout",
     "output_type": "stream",
     "text": [
      "poly [402, 445, 479, 382, 204, 67, 21, 0, 0]\n",
      "gini [58, 113, 183, 339, 473, 455, 272, 92, 14, 1]\n",
      "nevents [237, 234, 207, 234, 206, 212, 201, 236, 233]\n",
      "avgsnr [31, 83, 258, 631, 629, 246, 87, 35]\n"
     ]
    }
   ],
   "source": [
    "print('poly', [len(x) for x in file_list_bymaxpoly])\n",
    "print('gini', [len(x) for x in file_list_bygini])\n",
    "print('nevents', [len(x) for x in file_list_bynevents])\n",
    "print('avgsnr', [len(x) for x in file_list_byavgsnr])"
   ]
  },
  {
   "cell_type": "markdown",
   "metadata": {
    "deletable": true,
    "editable": true
   },
   "source": [
    "## ANALYZE PERFORMANCE BY MAXPOLY"
   ]
  },
  {
   "cell_type": "code",
   "execution_count": 23,
   "metadata": {
    "collapsed": false,
    "deletable": true,
    "editable": true
   },
   "outputs": [
    {
     "name": "stdout",
     "output_type": "stream",
     "text": [
      "F1s: 0.6560, P1s: 0.6782, R1s: 0.6352, F100ms: 0.6560, P100ms: 0.6782, R100ms: 0.6352 | E1s: 0.5451, E100ms: 0.5451\n",
      "F1s: 0.5961, P1s: 0.6666, R1s: 0.5391, F100ms: 0.5961, P100ms: 0.6666, R100ms: 0.5391 | E1s: 0.5592, E100ms: 0.5592\n",
      "F1s: 0.5799, P1s: 0.6959, R1s: 0.4970, F100ms: 0.5799, P100ms: 0.6959, R100ms: 0.4970 | E1s: 0.5626, E100ms: 0.5626\n",
      "F1s: 0.5562, P1s: 0.7013, R1s: 0.4609, F100ms: 0.5562, P100ms: 0.7013, R100ms: 0.4609 | E1s: 0.5785, E100ms: 0.5785\n",
      "F1s: 0.5211, P1s: 0.6901, R1s: 0.4186, F100ms: 0.5211, P100ms: 0.6901, R100ms: 0.4186 | E1s: 0.6118, E100ms: 0.6118\n",
      "F1s: 0.5196, P1s: 0.7072, R1s: 0.4106, F100ms: 0.5196, P100ms: 0.7072, R100ms: 0.4106 | E1s: 0.6116, E100ms: 0.6116\n",
      "F1s: 0.5359, P1s: 0.7765, R1s: 0.4091, F100ms: 0.5359, P100ms: 0.7765, R100ms: 0.4091 | E1s: 0.6136, E100ms: 0.6136\n"
     ]
    }
   ],
   "source": [
    "results_bymaxpoly001 = []\n",
    "for fl in file_list_bymaxpoly:\n",
    "    if len(fl) > 0:\n",
    "        r = E.evaluate_file_list('exp001', fl, load_predictions=True, large_cnn=False)\n",
    "        results_bymaxpoly001.append(r)"
   ]
  },
  {
   "cell_type": "code",
   "execution_count": 25,
   "metadata": {
    "collapsed": false,
    "deletable": true,
    "editable": true
   },
   "outputs": [],
   "source": [
    "df_poly = pd.DataFrame(columns=['poly', 'Precision', 'Recall', 'F-measure'])\n",
    "for poly in range(1, 8):\n",
    "    f = results_bymaxpoly001[poly-1]['results1s']['overall']['f_measure']['f_measure']\n",
    "    p = results_bymaxpoly001[poly-1]['results1s']['overall']['f_measure']['precision']\n",
    "    r = results_bymaxpoly001[poly-1]['results1s']['overall']['f_measure']['recall']\n",
    "    df_poly.loc[len(df_poly)] = [int(poly), p, r, f]"
   ]
  },
  {
   "cell_type": "code",
   "execution_count": 26,
   "metadata": {
    "collapsed": false,
    "deletable": true,
    "editable": true
   },
   "outputs": [
    {
     "data": {
      "text/html": [
       "<div>\n",
       "<table border=\"1\" class=\"dataframe\">\n",
       "  <thead>\n",
       "    <tr style=\"text-align: right;\">\n",
       "      <th></th>\n",
       "      <th>poly</th>\n",
       "      <th>Precision</th>\n",
       "      <th>Recall</th>\n",
       "      <th>F-measure</th>\n",
       "    </tr>\n",
       "  </thead>\n",
       "  <tbody>\n",
       "    <tr>\n",
       "      <th>0</th>\n",
       "      <td>1.0</td>\n",
       "      <td>0.678153</td>\n",
       "      <td>0.635201</td>\n",
       "      <td>0.655975</td>\n",
       "    </tr>\n",
       "    <tr>\n",
       "      <th>1</th>\n",
       "      <td>2.0</td>\n",
       "      <td>0.666570</td>\n",
       "      <td>0.539145</td>\n",
       "      <td>0.596124</td>\n",
       "    </tr>\n",
       "    <tr>\n",
       "      <th>2</th>\n",
       "      <td>3.0</td>\n",
       "      <td>0.695859</td>\n",
       "      <td>0.497028</td>\n",
       "      <td>0.579873</td>\n",
       "    </tr>\n",
       "    <tr>\n",
       "      <th>3</th>\n",
       "      <td>4.0</td>\n",
       "      <td>0.701349</td>\n",
       "      <td>0.460889</td>\n",
       "      <td>0.556244</td>\n",
       "    </tr>\n",
       "    <tr>\n",
       "      <th>4</th>\n",
       "      <td>5.0</td>\n",
       "      <td>0.690087</td>\n",
       "      <td>0.418567</td>\n",
       "      <td>0.521078</td>\n",
       "    </tr>\n",
       "    <tr>\n",
       "      <th>5</th>\n",
       "      <td>6.0</td>\n",
       "      <td>0.707176</td>\n",
       "      <td>0.410618</td>\n",
       "      <td>0.519558</td>\n",
       "    </tr>\n",
       "    <tr>\n",
       "      <th>6</th>\n",
       "      <td>7.0</td>\n",
       "      <td>0.776471</td>\n",
       "      <td>0.409091</td>\n",
       "      <td>0.535859</td>\n",
       "    </tr>\n",
       "  </tbody>\n",
       "</table>\n",
       "</div>"
      ],
      "text/plain": [
       "   poly  Precision    Recall  F-measure\n",
       "0   1.0   0.678153  0.635201   0.655975\n",
       "1   2.0   0.666570  0.539145   0.596124\n",
       "2   3.0   0.695859  0.497028   0.579873\n",
       "3   4.0   0.701349  0.460889   0.556244\n",
       "4   5.0   0.690087  0.418567   0.521078\n",
       "5   6.0   0.707176  0.410618   0.519558\n",
       "6   7.0   0.776471  0.409091   0.535859"
      ]
     },
     "execution_count": 26,
     "metadata": {},
     "output_type": "execute_result"
    }
   ],
   "source": [
    "df_poly"
   ]
  },
  {
   "cell_type": "code",
   "execution_count": 40,
   "metadata": {
    "collapsed": false,
    "deletable": true,
    "editable": true
   },
   "outputs": [
    {
     "data": {
      "image/png": "[encoded data removed]",
      "text/plain": [
       "<matplotlib.figure.Figure at 0x2b41827ecfd0>"
      ]
     },
     "metadata": {},
     "output_type": "display_data"
    }
   ],
   "source": [
    "ax = df_poly.plot(kind='bar', x='poly',\n",
    "                  rot=0, figsize=(8, 4))\n",
    "ax.set_xticklabels([int(x) for x in df_poly['poly']])\n",
    "plt.ylabel('Score')\n",
    "plt.xlabel('Maximum Polyphony')\n",
    "plt.ylim([0.0, 1.0])\n",
    "plt.legend(loc=0, ncol=3)\n",
    "plt.show()"
   ]
  },
  {
   "cell_type": "code",
   "execution_count": 41,
   "metadata": {
    "collapsed": false
   },
   "outputs": [],
   "source": [
    "fig = ax.get_figure()\n",
    "plotfile = './plots/f1s_cnn_vs_poly.pdf'\n",
    "fig.savefig(plotfile, bbox_inches='tight')"
   ]
  },
  {
   "cell_type": "markdown",
   "metadata": {
    "deletable": true,
    "editable": true
   },
   "source": [
    "### include exp002 in the reuslts here?"
   ]
  },
  {
   "cell_type": "code",
   "execution_count": 43,
   "metadata": {
    "collapsed": false,
    "deletable": true,
    "editable": true
   },
   "outputs": [
    {
     "name": "stdout",
     "output_type": "stream",
     "text": [
      "F1s: 0.5538, P1s: 0.4380, R1s: 0.7527, F100ms: 0.5618, P100ms: 0.4539, R100ms: 0.7371 | E1s: 0.9984, E100ms: 0.9182\n",
      "F1s: 0.5680, P1s: 0.4914, R1s: 0.6729, F100ms: 0.5569, P100ms: 0.4957, R100ms: 0.6354 | E1s: 0.7752, E100ms: 0.7449\n",
      "F1s: 0.5621, P1s: 0.5209, R1s: 0.6103, F100ms: 0.5362, P100ms: 0.5084, R100ms: 0.5671 | E1s: 0.6900, E100ms: 0.7062\n",
      "F1s: 0.5559, P1s: 0.5408, R1s: 0.5718, F100ms: 0.5261, P100ms: 0.5243, R100ms: 0.5278 | E1s: 0.6472, E100ms: 0.6705\n",
      "F1s: 0.5423, P1s: 0.5507, R1s: 0.5340, F100ms: 0.5014, P100ms: 0.5235, R100ms: 0.4811 | E1s: 0.6365, E100ms: 0.6770\n",
      "F1s: 0.5487, P1s: 0.5800, R1s: 0.5206, F100ms: 0.5098, P100ms: 0.5499, R100ms: 0.4751 | E1s: 0.6031, E100ms: 0.6437\n",
      "F1s: 0.5549, P1s: 0.5889, R1s: 0.5247, F100ms: 0.5352, P100ms: 0.5873, R100ms: 0.4916 | E1s: 0.6260, E100ms: 0.6249\n"
     ]
    }
   ],
   "source": [
    "# Note we use exp004 for exp002\n",
    "results_bymaxpoly002 = []\n",
    "for fl in file_list_bymaxpoly:\n",
    "    if len(fl) > 0:\n",
    "        r = ECR.evaluate_file_list('exp004', fl, load_predictions=True)\n",
    "        results_bymaxpoly002.append(r)"
   ]
  },
  {
   "cell_type": "code",
   "execution_count": 44,
   "metadata": {
    "collapsed": false,
    "deletable": true,
    "editable": true
   },
   "outputs": [],
   "source": [
    "df_poly2 = pd.DataFrame(columns=['poly', 'Precision', 'Recall', 'F-measure'])\n",
    "for poly in range(1, 8):\n",
    "    f = results_bymaxpoly002[poly-1]['results1s']['overall']['f_measure']['f_measure']\n",
    "    p = results_bymaxpoly002[poly-1]['results1s']['overall']['f_measure']['precision']\n",
    "    r = results_bymaxpoly002[poly-1]['results1s']['overall']['f_measure']['recall']\n",
    "    df_poly2.loc[len(df_poly2)] = [int(poly), p, r, f]"
   ]
  },
  {
   "cell_type": "code",
   "execution_count": 48,
   "metadata": {
    "collapsed": false,
    "deletable": true,
    "editable": true,
    "scrolled": true
   },
   "outputs": [
    {
     "data": {
      "image/png": "[encoded data removed]",
      "text/plain": [
       "<matplotlib.figure.Figure at 0x2b41821e06d8>"
      ]
     },
     "metadata": {},
     "output_type": "display_data"
    }
   ],
   "source": [
    "ax = df_poly2.plot(kind='bar', x='poly',\n",
    "                   rot=0, figsize=(8,3))\n",
    "ax.set_xticklabels([int(x) for x in df_poly2['poly']])\n",
    "plt.ylabel('Score')\n",
    "plt.xlabel('Maximum Polyphony')\n",
    "plt.ylim([0.0, 1.0])\n",
    "plt.legend(loc=0, ncol=3)\n",
    "plt.show()"
   ]
  },
  {
   "cell_type": "code",
   "execution_count": 49,
   "metadata": {
    "collapsed": true
   },
   "outputs": [],
   "source": [
    "fig = ax.get_figure()\n",
    "plotfile = './plots/f1s_crnn_vs_poly_squeezed.pdf'\n",
    "fig.savefig(plotfile, bbox_inches='tight')"
   ]
  },
  {
   "cell_type": "markdown",
   "metadata": {},
   "source": [
    "### combine CNN and CRNN into single plot"
   ]
  },
  {
   "cell_type": "code",
   "execution_count": 93,
   "metadata": {
    "collapsed": false
   },
   "outputs": [
    {
     "data": {
      "image/png": "[encoded data removed]",
      "text/plain": [
       "<matplotlib.figure.Figure at 0x2b4182d27438>"
      ]
     },
     "metadata": {},
     "output_type": "display_data"
    }
   ],
   "source": [
    "f, (ax1, ax2) = plt.subplots(2, 1, figsize=(8,5), sharex=True)\n",
    "\n",
    "df_poly.plot(kind='bar', x='poly', rot=0, ax=ax1)\n",
    "ax1.set_xticklabels([int(x) for x in df_poly['poly']])\n",
    "ax1.set_title('(a)')\n",
    "ax1.set_ylabel('Score')\n",
    "ax1.set_xlabel('Maximum Polyphony')\n",
    "ax1.set_ylim([0.0, 1.0])\n",
    "ax1.legend(loc=0, ncol=3)\n",
    "plt.ylim([0.0, 1.0])\n",
    "\n",
    "\n",
    "df_poly2.plot(kind='bar', x='poly', rot=0, ax=ax2)\n",
    "ax2.set_xticklabels([int(x) for x in df_poly2['poly']])\n",
    "ax2.set_ylabel('Score')\n",
    "ax2.set_xlabel('Maximum Polyphony')\n",
    "ax2.set_ylim([0.0, 1.0])\n",
    "ax2.legend(loc=0, ncol=3)\n",
    "plt.title('(b)')\n",
    "plt.tight_layout()\n",
    "plt.show()"
   ]
  },
  {
   "cell_type": "code",
   "execution_count": 94,
   "metadata": {
    "collapsed": true
   },
   "outputs": [],
   "source": [
    "plotfile = './plots/f1s_cnn_and_crnn_vs_poly_squeezed.pdf'\n",
    "f.savefig(plotfile, bbox_inches='tight')"
   ]
  },
  {
   "cell_type": "markdown",
   "metadata": {
    "deletable": true,
    "editable": true
   },
   "source": [
    "## ANALYZE PERFORMANCE BY GINI"
   ]
  },
  {
   "cell_type": "code",
   "execution_count": 44,
   "metadata": {
    "collapsed": false,
    "deletable": true,
    "editable": true
   },
   "outputs": [
    {
     "name": "stdout",
     "output_type": "stream",
     "text": [
      "F1s: 0.7515, P1s: 0.8267, R1s: 0.6889, F100ms: 0.7515, P100ms: 0.8267, R100ms: 0.6889 | E1s: 0.3667, E100ms: 0.3667\n",
      "F1s: 0.6118, P1s: 0.6992, R1s: 0.5439, F100ms: 0.6118, P100ms: 0.6992, R100ms: 0.5439 | E1s: 0.5643, E100ms: 0.5643\n",
      "F1s: 0.5892, P1s: 0.7013, R1s: 0.5080, F100ms: 0.5892, P100ms: 0.7013, R100ms: 0.5080 | E1s: 0.5720, E100ms: 0.5720\n",
      "F1s: 0.5776, P1s: 0.6853, R1s: 0.4991, F100ms: 0.5776, P100ms: 0.6853, R100ms: 0.4991 | E1s: 0.5716, E100ms: 0.5716\n",
      "F1s: 0.5591, P1s: 0.6957, R1s: 0.4673, F100ms: 0.5591, P100ms: 0.6957, R100ms: 0.4673 | E1s: 0.5882, E100ms: 0.5882\n",
      "F1s: 0.5653, P1s: 0.6923, R1s: 0.4777, F100ms: 0.5653, P100ms: 0.6923, R100ms: 0.4777 | E1s: 0.5771, E100ms: 0.5771\n",
      "F1s: 0.5734, P1s: 0.6879, R1s: 0.4916, F100ms: 0.5734, P100ms: 0.6879, R100ms: 0.4916 | E1s: 0.5714, E100ms: 0.5714\n",
      "F1s: 0.5544, P1s: 0.6661, R1s: 0.4747, F100ms: 0.5544, P100ms: 0.6661, R100ms: 0.4747 | E1s: 0.5826, E100ms: 0.5826\n",
      "F1s: 0.5965, P1s: 0.7351, R1s: 0.5018, F100ms: 0.5965, P100ms: 0.7351, R100ms: 0.5018 | E1s: 0.5387, E100ms: 0.5387\n",
      "F1s: 0.7742, P1s: 0.7500, R1s: 0.8000, F100ms: 0.7742, P100ms: 0.7500, R100ms: 0.8000 | E1s: 0.4667, E100ms: 0.4667\n"
     ]
    }
   ],
   "source": [
    "results_bygini001 = []\n",
    "for fl in file_list_bygini:\n",
    "    if len(fl) > 0:\n",
    "        r = E.evaluate_file_list('exp001', fl, load_predictions=True, large_cnn=False)\n",
    "        results_bygini001.append(r)"
   ]
  },
  {
   "cell_type": "code",
   "execution_count": 45,
   "metadata": {
    "collapsed": true,
    "deletable": true,
    "editable": true
   },
   "outputs": [],
   "source": [
    "df_gini = pd.DataFrame(columns=['Gini', 'Precision', 'Recall', 'F-measure'])\n",
    "for gini in range(10):\n",
    "    f = results_bygini001[gini]['results1s']['overall']['f_measure']['f_measure']\n",
    "    p = results_bygini001[gini]['results1s']['overall']['f_measure']['precision']\n",
    "    r = results_bygini001[gini]['results1s']['overall']['f_measure']['recall']\n",
    "    df_gini.loc[len(df_gini)] = [gini/10.+0.1, p, r, f]"
   ]
  },
  {
   "cell_type": "code",
   "execution_count": 46,
   "metadata": {
    "collapsed": false,
    "deletable": true,
    "editable": true
   },
   "outputs": [
    {
     "data": {
      "text/html": [
       "<div>\n",
       "<table border=\"1\" class=\"dataframe\">\n",
       "  <thead>\n",
       "    <tr style=\"text-align: right;\">\n",
       "      <th></th>\n",
       "      <th>Gini</th>\n",
       "      <th>Precision</th>\n",
       "      <th>Recall</th>\n",
       "      <th>F-measure</th>\n",
       "    </tr>\n",
       "  </thead>\n",
       "  <tbody>\n",
       "    <tr>\n",
       "      <th>0</th>\n",
       "      <td>0.1</td>\n",
       "      <td>0.826667</td>\n",
       "      <td>0.688889</td>\n",
       "      <td>0.751515</td>\n",
       "    </tr>\n",
       "    <tr>\n",
       "      <th>1</th>\n",
       "      <td>0.2</td>\n",
       "      <td>0.699248</td>\n",
       "      <td>0.543860</td>\n",
       "      <td>0.611842</td>\n",
       "    </tr>\n",
       "    <tr>\n",
       "      <th>2</th>\n",
       "      <td>0.3</td>\n",
       "      <td>0.701299</td>\n",
       "      <td>0.507996</td>\n",
       "      <td>0.589198</td>\n",
       "    </tr>\n",
       "    <tr>\n",
       "      <th>3</th>\n",
       "      <td>0.4</td>\n",
       "      <td>0.685347</td>\n",
       "      <td>0.499093</td>\n",
       "      <td>0.577576</td>\n",
       "    </tr>\n",
       "    <tr>\n",
       "      <th>4</th>\n",
       "      <td>0.5</td>\n",
       "      <td>0.695690</td>\n",
       "      <td>0.467287</td>\n",
       "      <td>0.559060</td>\n",
       "    </tr>\n",
       "    <tr>\n",
       "      <th>5</th>\n",
       "      <td>0.6</td>\n",
       "      <td>0.692322</td>\n",
       "      <td>0.477671</td>\n",
       "      <td>0.565306</td>\n",
       "    </tr>\n",
       "    <tr>\n",
       "      <th>6</th>\n",
       "      <td>0.7</td>\n",
       "      <td>0.687869</td>\n",
       "      <td>0.491553</td>\n",
       "      <td>0.573372</td>\n",
       "    </tr>\n",
       "    <tr>\n",
       "      <th>7</th>\n",
       "      <td>0.8</td>\n",
       "      <td>0.666135</td>\n",
       "      <td>0.474730</td>\n",
       "      <td>0.554377</td>\n",
       "    </tr>\n",
       "    <tr>\n",
       "      <th>8</th>\n",
       "      <td>0.9</td>\n",
       "      <td>0.735135</td>\n",
       "      <td>0.501845</td>\n",
       "      <td>0.596491</td>\n",
       "    </tr>\n",
       "    <tr>\n",
       "      <th>9</th>\n",
       "      <td>1.0</td>\n",
       "      <td>0.750000</td>\n",
       "      <td>0.800000</td>\n",
       "      <td>0.774194</td>\n",
       "    </tr>\n",
       "  </tbody>\n",
       "</table>\n",
       "</div>"
      ],
      "text/plain": [
       "   Gini  Precision    Recall  F-measure\n",
       "0   0.1   0.826667  0.688889   0.751515\n",
       "1   0.2   0.699248  0.543860   0.611842\n",
       "2   0.3   0.701299  0.507996   0.589198\n",
       "3   0.4   0.685347  0.499093   0.577576\n",
       "4   0.5   0.695690  0.467287   0.559060\n",
       "5   0.6   0.692322  0.477671   0.565306\n",
       "6   0.7   0.687869  0.491553   0.573372\n",
       "7   0.8   0.666135  0.474730   0.554377\n",
       "8   0.9   0.735135  0.501845   0.596491\n",
       "9   1.0   0.750000  0.800000   0.774194"
      ]
     },
     "execution_count": 46,
     "metadata": {},
     "output_type": "execute_result"
    }
   ],
   "source": [
    "df_gini"
   ]
  },
  {
   "cell_type": "code",
   "execution_count": 50,
   "metadata": {
    "collapsed": false,
    "deletable": true,
    "editable": true
   },
   "outputs": [
    {
     "data": {
      "image/png": "[encoded data removed]",
      "text/plain": [
       "<matplotlib.figure.Figure at 0x2b79575ace10>"
      ]
     },
     "metadata": {},
     "output_type": "display_data"
    }
   ],
   "source": [
    "ax = df_gini.plot(kind='bar', x='Gini',\n",
    "                  rot=0, figsize=(8,4))\n",
    "ax.set_xticklabels(['{:.1f}-{:.1f}'.format(x-0.1, x) for x in df_gini['Gini']])\n",
    "plt.ylabel('Score')\n",
    "plt.xlabel('Gini')\n",
    "plt.ylim([0.0, 1.0])\n",
    "plt.show()"
   ]
  },
  {
   "cell_type": "markdown",
   "metadata": {
    "deletable": true,
    "editable": true
   },
   "source": [
    "## ANALYZE PERFORMANCE BY N_EVENTS"
   ]
  },
  {
   "cell_type": "code",
   "execution_count": 51,
   "metadata": {
    "collapsed": false,
    "deletable": true,
    "editable": true
   },
   "outputs": [
    {
     "name": "stdout",
     "output_type": "stream",
     "text": [
      "F1s: 0.6220, P1s: 0.6334, R1s: 0.6109, F100ms: 0.6220, P100ms: 0.6334, R100ms: 0.6109 | E1s: 0.5947, E100ms: 0.5947\n",
      "F1s: 0.6304, P1s: 0.6680, R1s: 0.5968, F100ms: 0.6304, P100ms: 0.6680, R100ms: 0.5968 | E1s: 0.5544, E100ms: 0.5544\n",
      "F1s: 0.6065, P1s: 0.6758, R1s: 0.5501, F100ms: 0.6065, P100ms: 0.6758, R100ms: 0.5501 | E1s: 0.5557, E100ms: 0.5557\n",
      "F1s: 0.5955, P1s: 0.6926, R1s: 0.5223, F100ms: 0.5955, P100ms: 0.6926, R100ms: 0.5223 | E1s: 0.5457, E100ms: 0.5457\n",
      "F1s: 0.5868, P1s: 0.7019, R1s: 0.5041, F100ms: 0.5868, P100ms: 0.7019, R100ms: 0.5041 | E1s: 0.5616, E100ms: 0.5616\n",
      "F1s: 0.5713, P1s: 0.6804, R1s: 0.4923, F100ms: 0.5713, P100ms: 0.6804, R100ms: 0.4923 | E1s: 0.5664, E100ms: 0.5664\n",
      "F1s: 0.5460, P1s: 0.6885, R1s: 0.4524, F100ms: 0.5460, P100ms: 0.6885, R100ms: 0.4524 | E1s: 0.5905, E100ms: 0.5905\n",
      "F1s: 0.5535, P1s: 0.7079, R1s: 0.4543, F100ms: 0.5535, P100ms: 0.7079, R100ms: 0.4543 | E1s: 0.5862, E100ms: 0.5862\n",
      "F1s: 0.5325, P1s: 0.7049, R1s: 0.4279, F100ms: 0.5325, P100ms: 0.7049, R100ms: 0.4279 | E1s: 0.6001, E100ms: 0.6001\n"
     ]
    }
   ],
   "source": [
    "results_bynevents001 = []\n",
    "for fl in file_list_bynevents:\n",
    "    if len(fl) > 0:\n",
    "        r = E.evaluate_file_list('exp001', fl, load_predictions=True, large_cnn=False)\n",
    "        results_bynevents001.append(r)"
   ]
  },
  {
   "cell_type": "code",
   "execution_count": 54,
   "metadata": {
    "collapsed": true,
    "deletable": true,
    "editable": true
   },
   "outputs": [],
   "source": [
    "df_nevets = pd.DataFrame(columns=['n_events', 'Precision', 'Recall', 'F-measure'])\n",
    "for nevents in range(1, 10):\n",
    "    f = results_bynevents001[nevents-1]['results1s']['overall']['f_measure']['f_measure']\n",
    "    p = results_bynevents001[nevents-1]['results1s']['overall']['f_measure']['precision']\n",
    "    r = results_bynevents001[nevents-1]['results1s']['overall']['f_measure']['recall']\n",
    "    df_nevets.loc[len(df_nevets)] = [int(nevents), p, r, f]"
   ]
  },
  {
   "cell_type": "code",
   "execution_count": 55,
   "metadata": {
    "collapsed": false,
    "deletable": true,
    "editable": true
   },
   "outputs": [
    {
     "data": {
      "text/html": [
       "<div>\n",
       "<table border=\"1\" class=\"dataframe\">\n",
       "  <thead>\n",
       "    <tr style=\"text-align: right;\">\n",
       "      <th></th>\n",
       "      <th>n_events</th>\n",
       "      <th>Precision</th>\n",
       "      <th>Recall</th>\n",
       "      <th>F-measure</th>\n",
       "    </tr>\n",
       "  </thead>\n",
       "  <tbody>\n",
       "    <tr>\n",
       "      <th>0</th>\n",
       "      <td>1.0</td>\n",
       "      <td>0.633436</td>\n",
       "      <td>0.610947</td>\n",
       "      <td>0.621988</td>\n",
       "    </tr>\n",
       "    <tr>\n",
       "      <th>1</th>\n",
       "      <td>2.0</td>\n",
       "      <td>0.668029</td>\n",
       "      <td>0.596786</td>\n",
       "      <td>0.630401</td>\n",
       "    </tr>\n",
       "    <tr>\n",
       "      <th>2</th>\n",
       "      <td>3.0</td>\n",
       "      <td>0.675751</td>\n",
       "      <td>0.550057</td>\n",
       "      <td>0.606460</td>\n",
       "    </tr>\n",
       "    <tr>\n",
       "      <th>3</th>\n",
       "      <td>4.0</td>\n",
       "      <td>0.692621</td>\n",
       "      <td>0.522256</td>\n",
       "      <td>0.595493</td>\n",
       "    </tr>\n",
       "    <tr>\n",
       "      <th>4</th>\n",
       "      <td>5.0</td>\n",
       "      <td>0.701851</td>\n",
       "      <td>0.504132</td>\n",
       "      <td>0.586784</td>\n",
       "    </tr>\n",
       "    <tr>\n",
       "      <th>5</th>\n",
       "      <td>6.0</td>\n",
       "      <td>0.680391</td>\n",
       "      <td>0.492330</td>\n",
       "      <td>0.571282</td>\n",
       "    </tr>\n",
       "    <tr>\n",
       "      <th>6</th>\n",
       "      <td>7.0</td>\n",
       "      <td>0.688471</td>\n",
       "      <td>0.452445</td>\n",
       "      <td>0.546044</td>\n",
       "    </tr>\n",
       "    <tr>\n",
       "      <th>7</th>\n",
       "      <td>8.0</td>\n",
       "      <td>0.707913</td>\n",
       "      <td>0.454336</td>\n",
       "      <td>0.553462</td>\n",
       "    </tr>\n",
       "    <tr>\n",
       "      <th>8</th>\n",
       "      <td>9.0</td>\n",
       "      <td>0.704862</td>\n",
       "      <td>0.427900</td>\n",
       "      <td>0.532522</td>\n",
       "    </tr>\n",
       "  </tbody>\n",
       "</table>\n",
       "</div>"
      ],
      "text/plain": [
       "   n_events  Precision    Recall  F-measure\n",
       "0       1.0   0.633436  0.610947   0.621988\n",
       "1       2.0   0.668029  0.596786   0.630401\n",
       "2       3.0   0.675751  0.550057   0.606460\n",
       "3       4.0   0.692621  0.522256   0.595493\n",
       "4       5.0   0.701851  0.504132   0.586784\n",
       "5       6.0   0.680391  0.492330   0.571282\n",
       "6       7.0   0.688471  0.452445   0.546044\n",
       "7       8.0   0.707913  0.454336   0.553462\n",
       "8       9.0   0.704862  0.427900   0.532522"
      ]
     },
     "execution_count": 55,
     "metadata": {},
     "output_type": "execute_result"
    }
   ],
   "source": [
    "df_nevets"
   ]
  },
  {
   "cell_type": "code",
   "execution_count": 57,
   "metadata": {
    "collapsed": false,
    "deletable": true,
    "editable": true
   },
   "outputs": [
    {
     "data": {
      "image/png": "[encoded data removed]",
      "text/plain": [
       "<matplotlib.figure.Figure at 0x2b79577b5a20>"
      ]
     },
     "metadata": {},
     "output_type": "display_data"
    }
   ],
   "source": [
    "ax = df_nevets.plot(kind='bar', x='n_events', rot=0, figsize=(8,4))\n",
    "ax.set_xticklabels([int(x) for x in df_nevets['n_events']])\n",
    "plt.ylabel('Score')\n",
    "plt.xlabel('n_events')\n",
    "plt.ylim([0.0, 1.0])\n",
    "plt.show()"
   ]
  },
  {
   "cell_type": "markdown",
   "metadata": {
    "deletable": true,
    "editable": true
   },
   "source": [
    "## ANALYZE PERFORMANCE BY AVG SNR"
   ]
  },
  {
   "cell_type": "code",
   "execution_count": 72,
   "metadata": {
    "collapsed": false,
    "deletable": true,
    "editable": true
   },
   "outputs": [
    {
     "name": "stdout",
     "output_type": "stream",
     "text": [
      "F1s: 0.5941, P1s: 0.6977, R1s: 0.5172, F100ms: 0.5941, P100ms: 0.6977, R100ms: 0.5172 | E1s: 0.5603, E100ms: 0.5603\n",
      "F1s: 0.6000, P1s: 0.7500, R1s: 0.5000, F100ms: 0.6000, P100ms: 0.7500, R100ms: 0.5000 | E1s: 0.5498, E100ms: 0.5498\n",
      "F1s: 0.5671, P1s: 0.7202, R1s: 0.4677, F100ms: 0.5671, P100ms: 0.7202, R100ms: 0.4677 | E1s: 0.5799, E100ms: 0.5799\n",
      "F1s: 0.5565, P1s: 0.6988, R1s: 0.4623, F100ms: 0.5565, P100ms: 0.6988, R100ms: 0.4623 | E1s: 0.5859, E100ms: 0.5859\n",
      "F1s: 0.5739, P1s: 0.6903, R1s: 0.4911, F100ms: 0.5739, P100ms: 0.6903, R100ms: 0.4911 | E1s: 0.5683, E100ms: 0.5683\n",
      "F1s: 0.5778, P1s: 0.6590, R1s: 0.5144, F100ms: 0.5778, P100ms: 0.6590, R100ms: 0.5144 | E1s: 0.5736, E100ms: 0.5736\n",
      "F1s: 0.5879, P1s: 0.6190, R1s: 0.5598, F100ms: 0.5879, P100ms: 0.6190, R100ms: 0.5598 | E1s: 0.5885, E100ms: 0.5885\n",
      "F1s: 0.6400, P1s: 0.6061, R1s: 0.6780, F100ms: 0.6400, P100ms: 0.6061, R100ms: 0.6780 | E1s: 0.6441, E100ms: 0.6441\n"
     ]
    }
   ],
   "source": [
    "results_byavgsnr001 = []\n",
    "for fl in file_list_byavgsnr:\n",
    "    if len(fl) > 0:\n",
    "        r = E.evaluate_file_list('exp001', fl, load_predictions=True, large_cnn=False)\n",
    "        results_byavgsnr001.append(r)"
   ]
  },
  {
   "cell_type": "code",
   "execution_count": 73,
   "metadata": {
    "collapsed": true,
    "deletable": true,
    "editable": true
   },
   "outputs": [],
   "source": [
    "df_avgsnr = pd.DataFrame(columns=['avgsnr', 'Precision', 'Recall', 'F-measure'])\n",
    "for avgsnr in range(8):\n",
    "    f = results_byavgsnr001[avgsnr]['results1s']['overall']['f_measure']['f_measure']\n",
    "    p = results_byavgsnr001[avgsnr]['results1s']['overall']['f_measure']['precision']\n",
    "    r = results_byavgsnr001[avgsnr]['results1s']['overall']['f_measure']['recall']\n",
    "    df_avgsnr.loc[len(df_avgsnr)] = [9 + avgsnr*3, p, r, f]"
   ]
  },
  {
   "cell_type": "code",
   "execution_count": 74,
   "metadata": {
    "collapsed": false,
    "deletable": true,
    "editable": true
   },
   "outputs": [
    {
     "data": {
      "text/html": [
       "<div>\n",
       "<table border=\"1\" class=\"dataframe\">\n",
       "  <thead>\n",
       "    <tr style=\"text-align: right;\">\n",
       "      <th></th>\n",
       "      <th>avgsnr</th>\n",
       "      <th>Precision</th>\n",
       "      <th>Recall</th>\n",
       "      <th>F-measure</th>\n",
       "    </tr>\n",
       "  </thead>\n",
       "  <tbody>\n",
       "    <tr>\n",
       "      <th>0</th>\n",
       "      <td>9.0</td>\n",
       "      <td>0.697674</td>\n",
       "      <td>0.517241</td>\n",
       "      <td>0.594059</td>\n",
       "    </tr>\n",
       "    <tr>\n",
       "      <th>1</th>\n",
       "      <td>12.0</td>\n",
       "      <td>0.750000</td>\n",
       "      <td>0.500000</td>\n",
       "      <td>0.600000</td>\n",
       "    </tr>\n",
       "    <tr>\n",
       "      <th>2</th>\n",
       "      <td>15.0</td>\n",
       "      <td>0.720158</td>\n",
       "      <td>0.467674</td>\n",
       "      <td>0.567083</td>\n",
       "    </tr>\n",
       "    <tr>\n",
       "      <th>3</th>\n",
       "      <td>18.0</td>\n",
       "      <td>0.698788</td>\n",
       "      <td>0.462292</td>\n",
       "      <td>0.556454</td>\n",
       "    </tr>\n",
       "    <tr>\n",
       "      <th>4</th>\n",
       "      <td>21.0</td>\n",
       "      <td>0.690268</td>\n",
       "      <td>0.491113</td>\n",
       "      <td>0.573904</td>\n",
       "    </tr>\n",
       "    <tr>\n",
       "      <th>5</th>\n",
       "      <td>24.0</td>\n",
       "      <td>0.659043</td>\n",
       "      <td>0.514380</td>\n",
       "      <td>0.577794</td>\n",
       "    </tr>\n",
       "    <tr>\n",
       "      <th>6</th>\n",
       "      <td>27.0</td>\n",
       "      <td>0.619048</td>\n",
       "      <td>0.559809</td>\n",
       "      <td>0.587940</td>\n",
       "    </tr>\n",
       "    <tr>\n",
       "      <th>7</th>\n",
       "      <td>30.0</td>\n",
       "      <td>0.606061</td>\n",
       "      <td>0.677966</td>\n",
       "      <td>0.640000</td>\n",
       "    </tr>\n",
       "  </tbody>\n",
       "</table>\n",
       "</div>"
      ],
      "text/plain": [
       "   avgsnr  Precision    Recall  F-measure\n",
       "0     9.0   0.697674  0.517241   0.594059\n",
       "1    12.0   0.750000  0.500000   0.600000\n",
       "2    15.0   0.720158  0.467674   0.567083\n",
       "3    18.0   0.698788  0.462292   0.556454\n",
       "4    21.0   0.690268  0.491113   0.573904\n",
       "5    24.0   0.659043  0.514380   0.577794\n",
       "6    27.0   0.619048  0.559809   0.587940\n",
       "7    30.0   0.606061  0.677966   0.640000"
      ]
     },
     "execution_count": 74,
     "metadata": {},
     "output_type": "execute_result"
    }
   ],
   "source": [
    "df_avgsnr"
   ]
  },
  {
   "cell_type": "code",
   "execution_count": 77,
   "metadata": {
    "collapsed": false,
    "deletable": true,
    "editable": true
   },
   "outputs": [
    {
     "data": {
      "image/png": "[encoded data removed]",
      "text/plain": [
       "<matplotlib.figure.Figure at 0x2b7957a6ceb8>"
      ]
     },
     "metadata": {},
     "output_type": "display_data"
    }
   ],
   "source": [
    "ax = df_avgsnr.plot(kind='bar', x='avgsnr', rot=0, figsize=(8,4))\n",
    "ax.set_xticklabels(['{:d}-{:d}'.format(int(x-3), int(x)) for x in df_avgsnr['avgsnr']])\n",
    "plt.ylabel('Score')\n",
    "plt.xlabel('Average SNR')\n",
    "plt.ylim([0.0, 1.0])\n",
    "plt.show()"
   ]
  },
  {
   "cell_type": "markdown",
   "metadata": {
    "deletable": true,
    "editable": true
   },
   "source": [
    "## ANALYZE PERFORMANCE BY AVG SNR (HALF THE BINS)"
   ]
  },
  {
   "cell_type": "code",
   "execution_count": 79,
   "metadata": {
    "collapsed": false,
    "deletable": true,
    "editable": true
   },
   "outputs": [
    {
     "name": "stdout",
     "output_type": "stream",
     "text": [
      "F1s: 0.5991, P1s: 0.7412, R1s: 0.5026, F100ms: 0.5991, P100ms: 0.7412, R100ms: 0.5026 | E1s: 0.5515, E100ms: 0.5515\n",
      "F1s: 0.5590, P1s: 0.7039, R1s: 0.4636, F100ms: 0.5590, P100ms: 0.7039, R100ms: 0.4636 | E1s: 0.5845, E100ms: 0.5845\n",
      "F1s: 0.5749, P1s: 0.6820, R1s: 0.4969, F100ms: 0.5749, P100ms: 0.6820, R100ms: 0.4969 | E1s: 0.5696, E100ms: 0.5696\n",
      "F1s: 0.5970, P1s: 0.6166, R1s: 0.5785, F100ms: 0.5970, P100ms: 0.6166, R100ms: 0.5785 | E1s: 0.5973, E100ms: 0.5973\n"
     ]
    }
   ],
   "source": [
    "results_byavgsnrhalf001 = []\n",
    "for fl in file_list_byavgsnr_half:\n",
    "    if len(fl) > 0:\n",
    "        r = E.evaluate_file_list('exp001', fl, load_predictions=True, large_cnn=False)\n",
    "        results_byavgsnrhalf001.append(r)"
   ]
  },
  {
   "cell_type": "code",
   "execution_count": 80,
   "metadata": {
    "collapsed": true,
    "deletable": true,
    "editable": true
   },
   "outputs": [],
   "source": [
    "df_avgsnr_half = pd.DataFrame(columns=['avgsnr', 'Precision', 'Recall', 'F-measure'])\n",
    "for avgsnr in range(4):\n",
    "    f = results_byavgsnrhalf001[avgsnr]['results1s']['overall']['f_measure']['f_measure']\n",
    "    p = results_byavgsnrhalf001[avgsnr]['results1s']['overall']['f_measure']['precision']\n",
    "    r = results_byavgsnrhalf001[avgsnr]['results1s']['overall']['f_measure']['recall']\n",
    "    df_avgsnr_half.loc[len(df_avgsnr_half)] = [12 + avgsnr*6, p, r, f]"
   ]
  },
  {
   "cell_type": "code",
   "execution_count": 81,
   "metadata": {
    "collapsed": false,
    "deletable": true,
    "editable": true
   },
   "outputs": [
    {
     "data": {
      "text/html": [
       "<div>\n",
       "<table border=\"1\" class=\"dataframe\">\n",
       "  <thead>\n",
       "    <tr style=\"text-align: right;\">\n",
       "      <th></th>\n",
       "      <th>avgsnr</th>\n",
       "      <th>Precision</th>\n",
       "      <th>Recall</th>\n",
       "      <th>F-measure</th>\n",
       "    </tr>\n",
       "  </thead>\n",
       "  <tbody>\n",
       "    <tr>\n",
       "      <th>0</th>\n",
       "      <td>12.0</td>\n",
       "      <td>0.741245</td>\n",
       "      <td>0.502639</td>\n",
       "      <td>0.599057</td>\n",
       "    </tr>\n",
       "    <tr>\n",
       "      <th>1</th>\n",
       "      <td>18.0</td>\n",
       "      <td>0.703943</td>\n",
       "      <td>0.463608</td>\n",
       "      <td>0.559040</td>\n",
       "    </tr>\n",
       "    <tr>\n",
       "      <th>2</th>\n",
       "      <td>24.0</td>\n",
       "      <td>0.681972</td>\n",
       "      <td>0.496884</td>\n",
       "      <td>0.574898</td>\n",
       "    </tr>\n",
       "    <tr>\n",
       "      <th>3</th>\n",
       "      <td>30.0</td>\n",
       "      <td>0.616595</td>\n",
       "      <td>0.578523</td>\n",
       "      <td>0.596953</td>\n",
       "    </tr>\n",
       "  </tbody>\n",
       "</table>\n",
       "</div>"
      ],
      "text/plain": [
       "   avgsnr  Precision    Recall  F-measure\n",
       "0    12.0   0.741245  0.502639   0.599057\n",
       "1    18.0   0.703943  0.463608   0.559040\n",
       "2    24.0   0.681972  0.496884   0.574898\n",
       "3    30.0   0.616595  0.578523   0.596953"
      ]
     },
     "execution_count": 81,
     "metadata": {},
     "output_type": "execute_result"
    }
   ],
   "source": [
    "df_avgsnr_half"
   ]
  },
  {
   "cell_type": "code",
   "execution_count": 82,
   "metadata": {
    "collapsed": false,
    "deletable": true,
    "editable": true
   },
   "outputs": [
    {
     "data": {
      "image/png": "[encoded data removed]",
      "text/plain": [
       "<matplotlib.figure.Figure at 0x2b79579b6978>"
      ]
     },
     "metadata": {},
     "output_type": "display_data"
    }
   ],
   "source": [
    "ax = df_avgsnr_half.plot(kind='bar', x='avgsnr', rot=0, figsize=(8,4))\n",
    "ax.set_xticklabels(['{:d}-{:d}'.format(int(x-6), int(x)) for x in df_avgsnr_half['avgsnr']])\n",
    "plt.ylabel('Score')\n",
    "plt.xlabel('Average SNR')\n",
    "plt.ylim([0.0, 1.0])\n",
    "plt.show()"
   ]
  },
  {
   "cell_type": "markdown",
   "metadata": {
    "deletable": true,
    "editable": true
   },
   "source": [
    "# BASIC STATS FOR COMPLETE DATASET"
   ]
  },
  {
   "cell_type": "markdown",
   "metadata": {
    "deletable": true,
    "editable": true
   },
   "source": [
    "## train"
   ]
  },
  {
   "cell_type": "code",
   "execution_count": 97,
   "metadata": {
    "collapsed": true,
    "deletable": true,
    "editable": true
   },
   "outputs": [],
   "source": [
    "metafolder_train = '/scratch/js7561/datasets/scaper_waspaa2017/urban-sed/metadata/train/'\n",
    "feature_folder_train = '/scratch/js7561/datasets/scaper_waspaa2017/urban-sed/features/logmelspec1764_128/train/'\n",
    "file_list_train = sorted(glob.glob(os.path.join(feature_folder_train, '*.npy.gz')))\n",
    "file_list_train = [os.path.basename(x).replace('.npy.gz', '') for x in file_list_train]"
   ]
  },
  {
   "cell_type": "code",
   "execution_count": 98,
   "metadata": {
    "collapsed": false,
    "deletable": true,
    "editable": true
   },
   "outputs": [
    {
     "name": "stderr",
     "output_type": "stream",
     "text": [
      "\n",
      "  0%|          | 0/6000 [00:00<?, ?it/s]\u001b[A\n",
      "  0%|          | 3/6000 [00:00<04:03, 24.60it/s]\u001b[A\n",
      "100%|██████████| 6000/6000 [03:41<00:00, 32.07it/s]\n"
     ]
    }
   ],
   "source": [
    "train_vals_maxpoly = []\n",
    "train_vals_nevents = []\n",
    "train_vals_gini = []\n",
    "train_vals_avg_snr = []\n",
    "train_vals_fg_events = ({'event_duration': [],\n",
    "                  'event_time': [],\n",
    "                  'label': [],\n",
    "                  'pitch_shift': [],\n",
    "                  'snr': [],\n",
    "                  'time_stretch': []})\n",
    "\n",
    "event_properties = ['event_duration', 'event_time', 'label', 'pitch_shift', 'snr', 'time_stretch']\n",
    "\n",
    "for filename in tqdm(file_list_train):\n",
    "\n",
    "    jamfile = os.path.join(metafolder_train, filename + '.jams')\n",
    "    jam = jams.load(jamfile)\n",
    "                 \n",
    "    train_vals_maxpoly.append(jam.annotations[0].sandbox['scaper']['polyphony_max'])\n",
    "    train_vals_nevents.append(jam.annotations[0].sandbox['scaper']['n_events'])\n",
    "    train_vals_gini.append(jam.annotations[0].sandbox['scaper']['polyphony_gini'])\n",
    "    \n",
    "    snrs = []\n",
    "    for event in jam.annotations[0].data['value']:\n",
    "        if event['role'] == 'foreground':\n",
    "            for prop in event_properties:\n",
    "                train_vals_fg_events[prop].append(event[prop])\n",
    "                \n",
    "            snrs.append(event['snr'])\n",
    "    train_vals_avg_snr.append(np.mean(snrs))"
   ]
  },
  {
   "cell_type": "code",
   "execution_count": 99,
   "metadata": {
    "collapsed": false,
    "deletable": true,
    "editable": true
   },
   "outputs": [
    {
     "data": {
      "text/plain": [
       "29919"
      ]
     },
     "execution_count": 99,
     "metadata": {},
     "output_type": "execute_result"
    }
   ],
   "source": [
    "# How many events total?\n",
    "len(train_vals_fg_events['label'])"
   ]
  },
  {
   "cell_type": "code",
   "execution_count": 100,
   "metadata": {
    "collapsed": false,
    "deletable": true,
    "editable": true
   },
   "outputs": [
    {
     "data": {
      "text/plain": [
       "dog_bark            3055\n",
       "gun_shot            3035\n",
       "drilling            3013\n",
       "jackhammer          3013\n",
       "street_music        3001\n",
       "engine_idling       2989\n",
       "air_conditioner     2982\n",
       "siren               2949\n",
       "children_playing    2941\n",
       "car_horn            2941\n",
       "Name: 0, dtype: int64"
      ]
     },
     "execution_count": 100,
     "metadata": {},
     "output_type": "execute_result"
    }
   ],
   "source": [
    "# How many events of each class?\n",
    "train_df_label = pd.DataFrame(train_vals_fg_events['label'])\n",
    "train_df_label[0].value_counts()"
   ]
  },
  {
   "cell_type": "markdown",
   "metadata": {
    "deletable": true,
    "editable": true
   },
   "source": [
    "## validate"
   ]
  },
  {
   "cell_type": "code",
   "execution_count": 106,
   "metadata": {
    "collapsed": true,
    "deletable": true,
    "editable": true
   },
   "outputs": [],
   "source": [
    "metafolder_val = '/scratch/js7561/datasets/scaper_waspaa2017/urban-sed/metadata/validate/'\n",
    "feature_folder_val = '/scratch/js7561/datasets/scaper_waspaa2017/urban-sed/features/logmelspec1764_128/validate/'\n",
    "file_list_val = sorted(glob.glob(os.path.join(feature_folder_val, '*.npy.gz')))\n",
    "file_list_val = [os.path.basename(x).replace('.npy.gz', '') for x in file_list_val]"
   ]
  },
  {
   "cell_type": "code",
   "execution_count": 107,
   "metadata": {
    "collapsed": false,
    "deletable": true,
    "editable": true
   },
   "outputs": [
    {
     "data": {
      "text/plain": [
       "2000"
      ]
     },
     "execution_count": 107,
     "metadata": {},
     "output_type": "execute_result"
    }
   ],
   "source": [
    "len(file_list_val)"
   ]
  },
  {
   "cell_type": "code",
   "execution_count": 109,
   "metadata": {
    "collapsed": false,
    "deletable": true,
    "editable": true
   },
   "outputs": [
    {
     "name": "stderr",
     "output_type": "stream",
     "text": [
      "100%|██████████| 2000/2000 [01:08<00:00, 29.11it/s]\n"
     ]
    }
   ],
   "source": [
    "val_vals_maxpoly = []\n",
    "val_vals_nevents = []\n",
    "val_vals_gini = []\n",
    "val_vals_avg_snr = []\n",
    "val_vals_fg_events = ({'event_duration': [],\n",
    "                  'event_time': [],\n",
    "                  'label': [],\n",
    "                  'pitch_shift': [],\n",
    "                  'snr': [],\n",
    "                  'time_stretch': []})\n",
    "\n",
    "event_properties = ['event_duration', 'event_time', 'label', 'pitch_shift', 'snr', 'time_stretch']\n",
    "\n",
    "for filename in tqdm(file_list_val):\n",
    "\n",
    "    jamfile = os.path.join(metafolder_val, filename + '.jams')\n",
    "    jam = jams.load(jamfile)\n",
    "                 \n",
    "    val_vals_maxpoly.append(jam.annotations[0].sandbox['scaper']['polyphony_max'])\n",
    "    val_vals_nevents.append(jam.annotations[0].sandbox['scaper']['n_events'])\n",
    "    val_vals_gini.append(jam.annotations[0].sandbox['scaper']['polyphony_gini'])\n",
    "    \n",
    "    snrs = []\n",
    "    for event in jam.annotations[0].data['value']:\n",
    "        if event['role'] == 'foreground':\n",
    "            for prop in event_properties:\n",
    "                val_vals_fg_events[prop].append(event[prop])\n",
    "                \n",
    "            snrs.append(event['snr'])\n",
    "    val_vals_avg_snr.append(np.mean(snrs))"
   ]
  },
  {
   "cell_type": "code",
   "execution_count": 110,
   "metadata": {
    "collapsed": false,
    "deletable": true,
    "editable": true
   },
   "outputs": [
    {
     "data": {
      "text/plain": [
       "9956"
      ]
     },
     "execution_count": 110,
     "metadata": {},
     "output_type": "execute_result"
    }
   ],
   "source": [
    "# How many events total?\n",
    "len(val_vals_fg_events['label'])"
   ]
  },
  {
   "cell_type": "code",
   "execution_count": 111,
   "metadata": {
    "collapsed": false,
    "deletable": true,
    "editable": true
   },
   "outputs": [
    {
     "data": {
      "text/plain": [
       "air_conditioner     1059\n",
       "dog_bark            1028\n",
       "street_music        1026\n",
       "drilling            1014\n",
       "engine_idling       1006\n",
       "children_playing     986\n",
       "gun_shot             982\n",
       "siren                967\n",
       "jackhammer           947\n",
       "car_horn             941\n",
       "Name: 0, dtype: int64"
      ]
     },
     "execution_count": 111,
     "metadata": {},
     "output_type": "execute_result"
    }
   ],
   "source": [
    "# How many events of each class?\n",
    "val_df_label = pd.DataFrame(val_vals_fg_events['label'])\n",
    "val_df_label[0].value_counts()"
   ]
  },
  {
   "cell_type": "code",
   "execution_count": null,
   "metadata": {
    "collapsed": true,
    "deletable": true,
    "editable": true
   },
   "outputs": [],
   "source": []
  },
  {
   "cell_type": "code",
   "execution_count": null,
   "metadata": {
    "collapsed": true,
    "deletable": true,
    "editable": true
   },
   "outputs": [],
   "source": []
  },
  {
   "cell_type": "code",
   "execution_count": null,
   "metadata": {
    "collapsed": true,
    "deletable": true,
    "editable": true
   },
   "outputs": [],
   "source": []
  },
  {
   "cell_type": "code",
   "execution_count": null,
   "metadata": {
    "collapsed": true,
    "deletable": true,
    "editable": true
   },
   "outputs": [],
   "source": []
  },
  {
   "cell_type": "code",
   "execution_count": null,
   "metadata": {
    "collapsed": true,
    "deletable": true,
    "editable": true
   },
   "outputs": [],
   "source": []
  },
  {
   "cell_type": "markdown",
   "metadata": {
    "deletable": true,
    "editable": true
   },
   "source": [
    "### GINI reminder (0 = unequal, 1 = equal, designed to mimic entropy)"
   ]
  },
  {
   "cell_type": "code",
   "execution_count": 66,
   "metadata": {
    "collapsed": true,
    "deletable": true,
    "editable": true
   },
   "outputs": [],
   "source": [
    "def compute_gini(series):\n",
    "    series = np.asarray(series, dtype='float')\n",
    "    series += 1e-6  # all values must be positive\n",
    "    values = np.sort(series)  # sort values\n",
    "    n = len(values)\n",
    "    i = np.arange(n) + 1\n",
    "    gini = np.sum((2*i - n - 1) * values) / (n * np.sum(values))\n",
    "    return (1 - gini)"
   ]
  },
  {
   "cell_type": "code",
   "execution_count": 67,
   "metadata": {
    "collapsed": false,
    "deletable": true,
    "editable": true
   },
   "outputs": [
    {
     "data": {
      "text/plain": [
       "0.63333341481479666"
      ]
     },
     "execution_count": 67,
     "metadata": {},
     "output_type": "execute_result"
    }
   ],
   "source": [
    "compute_gini(np.arange(0, 10, 1.0))"
   ]
  },
  {
   "cell_type": "code",
   "execution_count": 68,
   "metadata": {
    "collapsed": false,
    "deletable": true,
    "editable": true
   },
   "outputs": [
    {
     "data": {
      "text/plain": [
       "1.0"
      ]
     },
     "execution_count": 68,
     "metadata": {},
     "output_type": "execute_result"
    }
   ],
   "source": [
    "compute_gini(np.ones(10))"
   ]
  },
  {
   "cell_type": "code",
   "execution_count": 71,
   "metadata": {
    "collapsed": false,
    "deletable": true,
    "editable": true
   },
   "outputs": [
    {
     "data": {
      "text/plain": [
       "0.10325478209945793"
      ]
     },
     "execution_count": 71,
     "metadata": {},
     "output_type": "execute_result"
    }
   ],
   "source": [
    "compute_gini([1, 1, 1, 1, 800, 1, 1, 1, 1, 1, 1])"
   ]
  },
  {
   "cell_type": "code",
   "execution_count": null,
   "metadata": {
    "collapsed": true,
    "deletable": true,
    "editable": true
   },
   "outputs": [],
   "source": []
  }
 ],
 "metadata": {
  "kernelspec": {
   "display_name": "Python 3",
   "language": "python",
   "name": "python3"
  },
  "language_info": {
   "codemirror_mode": {
    "name": "ipython",
    "version": 3
   },
   "file_extension": ".py",
   "mimetype": "text/x-python",
   "name": "python",
   "nbconvert_exporter": "python",
   "pygments_lexer": "ipython3",
   "version": "3.5.3"
  }
 },
 "nbformat": 4,
 "nbformat_minor": 2
}
